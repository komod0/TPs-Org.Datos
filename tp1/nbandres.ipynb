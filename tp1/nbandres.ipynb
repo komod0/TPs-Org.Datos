{
 "cells": [
  {
   "cell_type": "code",
   "execution_count": 1,
   "metadata": {},
   "outputs": [],
   "source": [
    "import pandas as pd\n",
    "import numpy as np\n",
    "import seaborn as sb\n",
    "import matplotlib.pyplot as plt"
   ]
  },
  {
   "cell_type": "code",
   "execution_count": 2,
   "metadata": {},
   "outputs": [],
   "source": [
    "df = pd.read_csv(\"train.csv\")\n",
    "pd.set_option('display.max_columns', 26) #ver todas las columnas\n",
    "pd.set_option('display.max_rows', 50) #como mucho ver 50 filas"
   ]
  },
  {
   "cell_type": "code",
   "execution_count": 3,
   "metadata": {},
   "outputs": [
    {
     "name": "stdout",
     "output_type": "stream",
     "text": [
      "<class 'pandas.core.frame.DataFrame'>\n",
      "RangeIndex: 240000 entries, 0 to 239999\n",
      "Data columns (total 23 columns):\n",
      "id                            240000 non-null int64\n",
      "titulo                        234613 non-null object\n",
      "descripcion                   238381 non-null object\n",
      "tipodepropiedad               239954 non-null object\n",
      "direccion                     186928 non-null object\n",
      "ciudad                        239628 non-null object\n",
      "provincia                     239845 non-null object\n",
      "antiguedad                    196445 non-null float64\n",
      "habitaciones                  217529 non-null float64\n",
      "garages                       202235 non-null float64\n",
      "banos                         213779 non-null float64\n",
      "metroscubiertos               222600 non-null float64\n",
      "metrostotales                 188533 non-null float64\n",
      "idzona                        211379 non-null float64\n",
      "lat                           116512 non-null float64\n",
      "lng                           116512 non-null float64\n",
      "fecha                         240000 non-null object\n",
      "gimnasio                      240000 non-null float64\n",
      "usosmultiples                 240000 non-null float64\n",
      "piscina                       240000 non-null float64\n",
      "escuelascercanas              240000 non-null float64\n",
      "centroscomercialescercanos    240000 non-null float64\n",
      "precio                        240000 non-null float64\n",
      "dtypes: float64(15), int64(1), object(7)\n",
      "memory usage: 42.1+ MB\n"
     ]
    }
   ],
   "source": [
    "''' + Sólo 8 atributos son comunes a todos los valores\n",
    "    + Se podrían renombrar varias columnas\n",
    "    + Podria cambiarse el orden de algunas columnas\n",
    "'''\n",
    "\n",
    "df.info() #42 MB"
   ]
  },
  {
   "cell_type": "code",
   "execution_count": 4,
   "metadata": {
    "scrolled": true
   },
   "outputs": [
    {
     "data": {
      "text/html": [
       "<div>\n",
       "<style scoped>\n",
       "    .dataframe tbody tr th:only-of-type {\n",
       "        vertical-align: middle;\n",
       "    }\n",
       "\n",
       "    .dataframe tbody tr th {\n",
       "        vertical-align: top;\n",
       "    }\n",
       "\n",
       "    .dataframe thead th {\n",
       "        text-align: right;\n",
       "    }\n",
       "</style>\n",
       "<table border=\"1\" class=\"dataframe\">\n",
       "  <thead>\n",
       "    <tr style=\"text-align: right;\">\n",
       "      <th></th>\n",
       "      <th>id</th>\n",
       "      <th>antiguedad</th>\n",
       "      <th>habitaciones</th>\n",
       "      <th>garages</th>\n",
       "      <th>banos</th>\n",
       "      <th>metroscubiertos</th>\n",
       "      <th>metrostotales</th>\n",
       "      <th>idzona</th>\n",
       "      <th>lat</th>\n",
       "      <th>lng</th>\n",
       "      <th>gimnasio</th>\n",
       "      <th>usosmultiples</th>\n",
       "      <th>piscina</th>\n",
       "      <th>escuelascercanas</th>\n",
       "      <th>centroscomercialescercanos</th>\n",
       "      <th>precio</th>\n",
       "    </tr>\n",
       "  </thead>\n",
       "  <tbody>\n",
       "    <tr>\n",
       "      <th>count</th>\n",
       "      <td>240000.000000</td>\n",
       "      <td>196445.000000</td>\n",
       "      <td>217529.000000</td>\n",
       "      <td>202235.000000</td>\n",
       "      <td>213779.000000</td>\n",
       "      <td>222600.000000</td>\n",
       "      <td>188533.000000</td>\n",
       "      <td>2.113790e+05</td>\n",
       "      <td>116512.000000</td>\n",
       "      <td>116512.000000</td>\n",
       "      <td>240000.000000</td>\n",
       "      <td>240000.000000</td>\n",
       "      <td>240000.000000</td>\n",
       "      <td>240000.000000</td>\n",
       "      <td>240000.000000</td>\n",
       "      <td>2.400000e+05</td>\n",
       "    </tr>\n",
       "    <tr>\n",
       "      <th>mean</th>\n",
       "      <td>149969.382092</td>\n",
       "      <td>8.116114</td>\n",
       "      <td>2.902326</td>\n",
       "      <td>1.546874</td>\n",
       "      <td>2.132417</td>\n",
       "      <td>174.016774</td>\n",
       "      <td>176.765145</td>\n",
       "      <td>2.423468e+06</td>\n",
       "      <td>20.696818</td>\n",
       "      <td>-99.509221</td>\n",
       "      <td>0.062475</td>\n",
       "      <td>0.055092</td>\n",
       "      <td>0.087383</td>\n",
       "      <td>0.444142</td>\n",
       "      <td>0.396533</td>\n",
       "      <td>2.530838e+06</td>\n",
       "    </tr>\n",
       "    <tr>\n",
       "      <th>std</th>\n",
       "      <td>86634.579744</td>\n",
       "      <td>9.553830</td>\n",
       "      <td>0.896894</td>\n",
       "      <td>0.853507</td>\n",
       "      <td>0.912546</td>\n",
       "      <td>98.152950</td>\n",
       "      <td>94.427328</td>\n",
       "      <td>1.056794e+07</td>\n",
       "      <td>3.137884</td>\n",
       "      <td>9.744143</td>\n",
       "      <td>0.242017</td>\n",
       "      <td>0.228160</td>\n",
       "      <td>0.282397</td>\n",
       "      <td>0.496871</td>\n",
       "      <td>0.489179</td>\n",
       "      <td>2.152552e+06</td>\n",
       "    </tr>\n",
       "    <tr>\n",
       "      <th>min</th>\n",
       "      <td>1.000000</td>\n",
       "      <td>0.000000</td>\n",
       "      <td>1.000000</td>\n",
       "      <td>0.000000</td>\n",
       "      <td>1.000000</td>\n",
       "      <td>15.000000</td>\n",
       "      <td>15.000000</td>\n",
       "      <td>2.200000e+01</td>\n",
       "      <td>-100.886679</td>\n",
       "      <td>-125.859375</td>\n",
       "      <td>0.000000</td>\n",
       "      <td>0.000000</td>\n",
       "      <td>0.000000</td>\n",
       "      <td>0.000000</td>\n",
       "      <td>0.000000</td>\n",
       "      <td>3.100000e+05</td>\n",
       "    </tr>\n",
       "    <tr>\n",
       "      <th>25%</th>\n",
       "      <td>74930.750000</td>\n",
       "      <td>0.000000</td>\n",
       "      <td>2.000000</td>\n",
       "      <td>1.000000</td>\n",
       "      <td>1.000000</td>\n",
       "      <td>90.000000</td>\n",
       "      <td>102.000000</td>\n",
       "      <td>2.489000e+04</td>\n",
       "      <td>19.359846</td>\n",
       "      <td>-100.977908</td>\n",
       "      <td>0.000000</td>\n",
       "      <td>0.000000</td>\n",
       "      <td>0.000000</td>\n",
       "      <td>0.000000</td>\n",
       "      <td>0.000000</td>\n",
       "      <td>9.527725e+05</td>\n",
       "    </tr>\n",
       "    <tr>\n",
       "      <th>50%</th>\n",
       "      <td>149875.500000</td>\n",
       "      <td>5.000000</td>\n",
       "      <td>3.000000</td>\n",
       "      <td>2.000000</td>\n",
       "      <td>2.000000</td>\n",
       "      <td>153.000000</td>\n",
       "      <td>155.000000</td>\n",
       "      <td>5.638300e+04</td>\n",
       "      <td>19.543273</td>\n",
       "      <td>-99.240387</td>\n",
       "      <td>0.000000</td>\n",
       "      <td>0.000000</td>\n",
       "      <td>0.000000</td>\n",
       "      <td>0.000000</td>\n",
       "      <td>0.000000</td>\n",
       "      <td>1.850000e+06</td>\n",
       "    </tr>\n",
       "    <tr>\n",
       "      <th>75%</th>\n",
       "      <td>225016.500000</td>\n",
       "      <td>10.000000</td>\n",
       "      <td>3.000000</td>\n",
       "      <td>2.000000</td>\n",
       "      <td>3.000000</td>\n",
       "      <td>240.000000</td>\n",
       "      <td>238.000000</td>\n",
       "      <td>8.783800e+04</td>\n",
       "      <td>20.740005</td>\n",
       "      <td>-99.134777</td>\n",
       "      <td>0.000000</td>\n",
       "      <td>0.000000</td>\n",
       "      <td>0.000000</td>\n",
       "      <td>1.000000</td>\n",
       "      <td>1.000000</td>\n",
       "      <td>3.390000e+06</td>\n",
       "    </tr>\n",
       "    <tr>\n",
       "      <th>max</th>\n",
       "      <td>299999.000000</td>\n",
       "      <td>80.000000</td>\n",
       "      <td>10.000000</td>\n",
       "      <td>3.000000</td>\n",
       "      <td>4.000000</td>\n",
       "      <td>439.000000</td>\n",
       "      <td>439.000000</td>\n",
       "      <td>5.000400e+07</td>\n",
       "      <td>83.026219</td>\n",
       "      <td>121.036000</td>\n",
       "      <td>1.000000</td>\n",
       "      <td>1.000000</td>\n",
       "      <td>1.000000</td>\n",
       "      <td>1.000000</td>\n",
       "      <td>1.000000</td>\n",
       "      <td>1.252500e+07</td>\n",
       "    </tr>\n",
       "  </tbody>\n",
       "</table>\n",
       "</div>"
      ],
      "text/plain": [
       "                  id     antiguedad   habitaciones        garages  \\\n",
       "count  240000.000000  196445.000000  217529.000000  202235.000000   \n",
       "mean   149969.382092       8.116114       2.902326       1.546874   \n",
       "std     86634.579744       9.553830       0.896894       0.853507   \n",
       "min         1.000000       0.000000       1.000000       0.000000   \n",
       "25%     74930.750000       0.000000       2.000000       1.000000   \n",
       "50%    149875.500000       5.000000       3.000000       2.000000   \n",
       "75%    225016.500000      10.000000       3.000000       2.000000   \n",
       "max    299999.000000      80.000000      10.000000       3.000000   \n",
       "\n",
       "               banos  metroscubiertos  metrostotales        idzona  \\\n",
       "count  213779.000000    222600.000000  188533.000000  2.113790e+05   \n",
       "mean        2.132417       174.016774     176.765145  2.423468e+06   \n",
       "std         0.912546        98.152950      94.427328  1.056794e+07   \n",
       "min         1.000000        15.000000      15.000000  2.200000e+01   \n",
       "25%         1.000000        90.000000     102.000000  2.489000e+04   \n",
       "50%         2.000000       153.000000     155.000000  5.638300e+04   \n",
       "75%         3.000000       240.000000     238.000000  8.783800e+04   \n",
       "max         4.000000       439.000000     439.000000  5.000400e+07   \n",
       "\n",
       "                 lat            lng       gimnasio  usosmultiples  \\\n",
       "count  116512.000000  116512.000000  240000.000000  240000.000000   \n",
       "mean       20.696818     -99.509221       0.062475       0.055092   \n",
       "std         3.137884       9.744143       0.242017       0.228160   \n",
       "min      -100.886679    -125.859375       0.000000       0.000000   \n",
       "25%        19.359846    -100.977908       0.000000       0.000000   \n",
       "50%        19.543273     -99.240387       0.000000       0.000000   \n",
       "75%        20.740005     -99.134777       0.000000       0.000000   \n",
       "max        83.026219     121.036000       1.000000       1.000000   \n",
       "\n",
       "             piscina  escuelascercanas  centroscomercialescercanos  \\\n",
       "count  240000.000000     240000.000000               240000.000000   \n",
       "mean        0.087383          0.444142                    0.396533   \n",
       "std         0.282397          0.496871                    0.489179   \n",
       "min         0.000000          0.000000                    0.000000   \n",
       "25%         0.000000          0.000000                    0.000000   \n",
       "50%         0.000000          0.000000                    0.000000   \n",
       "75%         0.000000          1.000000                    1.000000   \n",
       "max         1.000000          1.000000                    1.000000   \n",
       "\n",
       "             precio  \n",
       "count  2.400000e+05  \n",
       "mean   2.530838e+06  \n",
       "std    2.152552e+06  \n",
       "min    3.100000e+05  \n",
       "25%    9.527725e+05  \n",
       "50%    1.850000e+06  \n",
       "75%    3.390000e+06  \n",
       "max    1.252500e+07  "
      ]
     },
     "execution_count": 4,
     "metadata": {},
     "output_type": "execute_result"
    }
   ],
   "source": [
    "''' + id, antiguedad, habitaciones, garages, banos, metroscubiertos, metrostotales, idzonas y precio pueden ser int\n",
    "    + gimnasio, usosmultiples, piscina, escuelascercanas, centroscomercialescercanos pueden ser bool\n",
    "    + fecha se puede pasar a datetime\n",
    "    + tipodepropiedad, ciudad y provincia podrían ser categorías\n",
    "'''\n",
    "\n",
    "df.describe()"
   ]
  },
  {
   "cell_type": "code",
   "execution_count": 5,
   "metadata": {},
   "outputs": [
    {
     "data": {
      "text/html": [
       "<div>\n",
       "<style scoped>\n",
       "    .dataframe tbody tr th:only-of-type {\n",
       "        vertical-align: middle;\n",
       "    }\n",
       "\n",
       "    .dataframe tbody tr th {\n",
       "        vertical-align: top;\n",
       "    }\n",
       "\n",
       "    .dataframe thead th {\n",
       "        text-align: right;\n",
       "    }\n",
       "</style>\n",
       "<table border=\"1\" class=\"dataframe\">\n",
       "  <thead>\n",
       "    <tr style=\"text-align: right;\">\n",
       "      <th></th>\n",
       "      <th>direccion</th>\n",
       "      <th>descripcion</th>\n",
       "      <th>titulo</th>\n",
       "    </tr>\n",
       "  </thead>\n",
       "  <tbody>\n",
       "    <tr>\n",
       "      <th>0</th>\n",
       "      <td>Avenida Division del Norte 2005</td>\n",
       "      <td>depto. interior de 80.15m2, consta de sala com...</td>\n",
       "      <td>depto. tipo a-402</td>\n",
       "    </tr>\n",
       "    <tr>\n",
       "      <th>1</th>\n",
       "      <td>AV. MEXICO</td>\n",
       "      <td>&lt;p&gt;entre sonora y guerrero, atr&amp;aacute;s del h...</td>\n",
       "      <td>condominio horizontal en venta</td>\n",
       "    </tr>\n",
       "    <tr>\n",
       "      <th>2</th>\n",
       "      <td>Urbi Tonala</td>\n",
       "      <td>descripcion \\nla mejor ubicacion residencial e...</td>\n",
       "      <td>casa en venta urbi 3 recamaras tonala</td>\n",
       "    </tr>\n",
       "    <tr>\n",
       "      <th>3</th>\n",
       "      <td>IGNACIO MANUEL ALTAMIRANO 128</td>\n",
       "      <td>casa en privada con caseta de vigilancia casas...</td>\n",
       "      <td>casa sola en toluca zinacantepec con credito i...</td>\n",
       "    </tr>\n",
       "    <tr>\n",
       "      <th>4</th>\n",
       "      <td>PASEOS DEL SOL</td>\n",
       "      <td>bonito departamento en excelentes condiciones ...</td>\n",
       "      <td>paseos del sol</td>\n",
       "    </tr>\n",
       "    <tr>\n",
       "      <th>5</th>\n",
       "      <td>Condominio Tlalpan 2B</td>\n",
       "      <td>amplio departamento, estancia de sala y comedo...</td>\n",
       "      <td>departamento en venta taxqueña</td>\n",
       "    </tr>\n",
       "    <tr>\n",
       "      <th>6</th>\n",
       "      <td>NaN</td>\n",
       "      <td>ubicada en esquina, pertenece san lorenzo agen...</td>\n",
       "      <td>de oportunidad casa en san lorenzo</td>\n",
       "    </tr>\n",
       "    <tr>\n",
       "      <th>7</th>\n",
       "      <td>condominio el trebol</td>\n",
       "      <td>casa emilia en venta playa del carmenfracciona...</td>\n",
       "      <td>casa emilia en venta en selvamar playa del carmen</td>\n",
       "    </tr>\n",
       "    <tr>\n",
       "      <th>8</th>\n",
       "      <td>BUENAVISTA DEPTOS CON SUBSIDIO</td>\n",
       "      <td>&lt;p&gt;pre-venta de preciosos departamento ecologi...</td>\n",
       "      <td>pre- venta preciosos depas 2 recamaras con sub...</td>\n",
       "    </tr>\n",
       "    <tr>\n",
       "      <th>9</th>\n",
       "      <td>Av. Morelos</td>\n",
       "      <td>terreno de 5.500m2 bardeado, uso de suelo h-20...</td>\n",
       "      <td>terreno</td>\n",
       "    </tr>\n",
       "    <tr>\n",
       "      <th>10</th>\n",
       "      <td>MI 2° CREDITO</td>\n",
       "      <td>&lt;p&gt;mi 2&amp;deg; credito&lt;br /&gt;para todos aquellos ...</td>\n",
       "      <td>mi 2° credito</td>\n",
       "    </tr>\n",
       "    <tr>\n",
       "      <th>11</th>\n",
       "      <td>NaN</td>\n",
       "      <td>departamento nuevo ,256 m2 de construccion,un ...</td>\n",
       "      <td>departamento en venta, san pedro garza garcia,...</td>\n",
       "    </tr>\n",
       "    <tr>\n",
       "      <th>12</th>\n",
       "      <td>Pitahayas 2 - 58, Zibata</td>\n",
       "      <td>&lt;p&gt;&lt;strong&gt;casa &lt;/strong&gt;en venta en fracciona...</td>\n",
       "      <td>hermosa casa en zibata queretaro 170m²</td>\n",
       "    </tr>\n",
       "    <tr>\n",
       "      <th>13</th>\n",
       "      <td>MATIAS ROMERO, COLONIA DEL VALLE</td>\n",
       "      <td>flamante casa habitación en condominio horizon...</td>\n",
       "      <td>casa matias romero - sión bancaria</td>\n",
       "    </tr>\n",
       "    <tr>\n",
       "      <th>14</th>\n",
       "      <td>NaN</td>\n",
       "      <td>pre venta de residencia en la toscana con exce...</td>\n",
       "      <td>casa en venta en valle real</td>\n",
       "    </tr>\n",
       "    <tr>\n",
       "      <th>15</th>\n",
       "      <td>NaN</td>\n",
       "      <td>&lt;p&gt;casa en dos niveles, 3 recámaras la princip...</td>\n",
       "      <td>casa en venta lomas verdes naucalpan</td>\n",
       "    </tr>\n",
       "    <tr>\n",
       "      <th>16</th>\n",
       "      <td>CUMBRES DEL LAGO JURIQUILLA, QUERETARO, MEXICO</td>\n",
       "      <td>&lt;p&gt;clave: vcln2450 fecha de actualizaci&amp;oacute...</td>\n",
       "      <td>preciosa casa en cumbres del lago \\t</td>\n",
       "    </tr>\n",
       "    <tr>\n",
       "      <th>17</th>\n",
       "      <td>Pazaje Santa Cruz</td>\n",
       "      <td>magnifico departamento con excelente distribuc...</td>\n",
       "      <td>oportunidad, departamento col del valle, 3 rec...</td>\n",
       "    </tr>\n",
       "    <tr>\n",
       "      <th>18</th>\n",
       "      <td>Milenio</td>\n",
       "      <td>terreno ubicado en bukara coto club, el cual s...</td>\n",
       "      <td>últimos terrenos en preventa!! en bukara coto ...</td>\n",
       "    </tr>\n",
       "    <tr>\n",
       "      <th>19</th>\n",
       "      <td>SENDA CELESTIAL 10</td>\n",
       "      <td>-- rcv151104-lv-27 --    linda casa con area d...</td>\n",
       "      <td>NaN</td>\n",
       "    </tr>\n",
       "    <tr>\n",
       "      <th>20</th>\n",
       "      <td>TERRENO RESIDENCIAL EN VENTA EN CUMBRES</td>\n",
       "      <td>&lt;p&gt;excelente terreno plano, frente a parque en...</td>\n",
       "      <td>terreno residencial en venta en cumbres quinta...</td>\n",
       "    </tr>\n",
       "    <tr>\n",
       "      <th>21</th>\n",
       "      <td>NaN</td>\n",
       "      <td>nocnok id: mx15-bk0340. hermosa casa en conjun...</td>\n",
       "      <td>casa en venta en querétaro</td>\n",
       "    </tr>\n",
       "    <tr>\n",
       "      <th>22</th>\n",
       "      <td>NaN</td>\n",
       "      <td>&lt;p&gt;comoda casa con recamara en planta baja y a...</td>\n",
       "      <td>comoda casa con recamara en planta baja y ampl...</td>\n",
       "    </tr>\n",
       "    <tr>\n",
       "      <th>23</th>\n",
       "      <td>NaN</td>\n",
       "      <td>casa en venta en cancun en residencial cumbres...</td>\n",
       "      <td>casa en condominio en venta, benito juarez, ca...</td>\n",
       "    </tr>\n",
       "    <tr>\n",
       "      <th>24</th>\n",
       "      <td>Colinas del Cimatario   C721</td>\n",
       "      <td>&lt;p&gt;propiedad en un nivel, con espacios amplios...</td>\n",
       "      <td>casa en venta - colinas del cimatario, queréta...</td>\n",
       "    </tr>\n",
       "    <tr>\n",
       "      <th>...</th>\n",
       "      <td>...</td>\n",
       "      <td>...</td>\n",
       "      <td>...</td>\n",
       "    </tr>\n",
       "    <tr>\n",
       "      <th>239975</th>\n",
       "      <td>NaN</td>\n",
       "      <td>&lt;p&gt;el desarrollo cuenta con barda perimetral c...</td>\n",
       "      <td>casa en uno de los desarrollos con mayor plusv...</td>\n",
       "    </tr>\n",
       "    <tr>\n",
       "      <th>239976</th>\n",
       "      <td>NaN</td>\n",
       "      <td>bonita y bien ubicada casa en venta, 3 recamar...</td>\n",
       "      <td>casa en venta en campanario</td>\n",
       "    </tr>\n",
       "    <tr>\n",
       "      <th>239977</th>\n",
       "      <td>AV RANCHO NUEVO</td>\n",
       "      <td>hermosa casa, en excelente mantenimiento y muy...</td>\n",
       "      <td>casa tecamac</td>\n",
       "    </tr>\n",
       "    <tr>\n",
       "      <th>239978</th>\n",
       "      <td>NaN</td>\n",
       "      <td>buen proyecto, desarrollada en tres plantas, p...</td>\n",
       "      <td>linda casa en venta,cerca del lago de guadalupe</td>\n",
       "    </tr>\n",
       "    <tr>\n",
       "      <th>239979</th>\n",
       "      <td>Rio Parana</td>\n",
       "      <td>excelente casa muy bien ubicada en zona tranqu...</td>\n",
       "      <td>se vende casa en delegacion miguel hidalgo</td>\n",
       "    </tr>\n",
       "    <tr>\n",
       "      <th>239980</th>\n",
       "      <td>NaN</td>\n",
       "      <td>departamento en venta avenida palmira , san lu...</td>\n",
       "      <td>departamentos en renta torres palmira</td>\n",
       "    </tr>\n",
       "    <tr>\n",
       "      <th>239981</th>\n",
       "      <td>PRIV. VENECIA</td>\n",
       "      <td>se vende bonita casa en el fracc. residencial ...</td>\n",
       "      <td>casa en venta en residencial agua caliente</td>\n",
       "    </tr>\n",
       "    <tr>\n",
       "      <th>239982</th>\n",
       "      <td>NaN</td>\n",
       "      <td>casa de 2 recámaras en residencial del bosque ...</td>\n",
       "      <td>casa de 2 recamaras en residencial del bosque ...</td>\n",
       "    </tr>\n",
       "    <tr>\n",
       "      <th>239983</th>\n",
       "      <td>NaN</td>\n",
       "      <td>nocnok id: mx16-bo3390. sin posesión física, p...</td>\n",
       "      <td>casa en venta en san luis potosí</td>\n",
       "    </tr>\n",
       "    <tr>\n",
       "      <th>239984</th>\n",
       "      <td>PROGRESO, MONTERREY</td>\n",
       "      <td>en excelente ubicación zona mitras centro. am...</td>\n",
       "      <td>en venta mitras centro monterrey nuevo leon</td>\n",
       "    </tr>\n",
       "    <tr>\n",
       "      <th>239985</th>\n",
       "      <td>FUENTES DE SATÉLITE, ATIZAPÁN, ESTADO DE MÉXICO</td>\n",
       "      <td>casa en venta fuentes de satélite, atizapán, e...</td>\n",
       "      <td>casa en venta fuentes de satelite, atizapan, e...</td>\n",
       "    </tr>\n",
       "    <tr>\n",
       "      <th>239986</th>\n",
       "      <td>NaN</td>\n",
       "      <td>&lt;p&gt;exclusiva torre de departamentos en venta e...</td>\n",
       "      <td>excelete torre de departamentos en lomas 4ta s...</td>\n",
       "    </tr>\n",
       "    <tr>\n",
       "      <th>239987</th>\n",
       "      <td>Primero de mayo 5</td>\n",
       "      <td>-- rcv347n-287 --    casas nuevas estilo minim...</td>\n",
       "      <td>NaN</td>\n",
       "    </tr>\n",
       "    <tr>\n",
       "      <th>239988</th>\n",
       "      <td>SANTA MARIA</td>\n",
       "      <td>ideal para inversionista \\nideal centro de dis...</td>\n",
       "      <td>bodega santa maría</td>\n",
       "    </tr>\n",
       "    <tr>\n",
       "      <th>239989</th>\n",
       "      <td>Jurica</td>\n",
       "      <td>terreno 404m2 \\nconst. 347 m2 \\n\\npreciosa cas...</td>\n",
       "      <td>casa venta renta en rinconada jurica</td>\n",
       "    </tr>\n",
       "    <tr>\n",
       "      <th>239990</th>\n",
       "      <td>NaN</td>\n",
       "      <td>&lt;p&gt;casa en venta, en magníficas condiciones; e...</td>\n",
       "      <td>casa en venta: bosques del contry</td>\n",
       "    </tr>\n",
       "    <tr>\n",
       "      <th>239991</th>\n",
       "      <td>Coyuya 200</td>\n",
       "      <td>departamento ubicado en planta baja, con excel...</td>\n",
       "      <td>departamento residencial coyuya</td>\n",
       "    </tr>\n",
       "    <tr>\n",
       "      <th>239992</th>\n",
       "      <td>Cerrada villa Picadilly</td>\n",
       "      <td>bonita casa para remodelar en una calle cerrad...</td>\n",
       "      <td>casa en venta</td>\n",
       "    </tr>\n",
       "    <tr>\n",
       "      <th>239993</th>\n",
       "      <td>Paseo de la Cañada</td>\n",
       "      <td>coto privado de tan solo 7 casas donde cada fa...</td>\n",
       "      <td>bugambilias (ciudad)</td>\n",
       "    </tr>\n",
       "    <tr>\n",
       "      <th>239994</th>\n",
       "      <td>MANUEL AMAYA,ENTRE SEBASTIAN ALLENDE Y AMADO A...</td>\n",
       "      <td>&lt;p&gt;moderna casa 3 pisos, muro llor&amp;oacute;n , ...</td>\n",
       "      <td>hermosa casa en villa de los belenes</td>\n",
       "    </tr>\n",
       "    <tr>\n",
       "      <th>239995</th>\n",
       "      <td>BOSQUES</td>\n",
       "      <td>vendo casa en bosques de ica residencial a 10 ...</td>\n",
       "      <td>bonita casas de 2 recamaras a 10 minutos del c...</td>\n",
       "    </tr>\n",
       "    <tr>\n",
       "      <th>239996</th>\n",
       "      <td>Filiberto Navas 325</td>\n",
       "      <td>casa con un jardin amplio, un cuarto de servic...</td>\n",
       "      <td>casa en condominio a 10 min. del centro de toluca</td>\n",
       "    </tr>\n",
       "    <tr>\n",
       "      <th>239997</th>\n",
       "      <td>Nicolas San Juan</td>\n",
       "      <td>departamento con excelente ubicación, muy cerc...</td>\n",
       "      <td>nicolas san juan</td>\n",
       "    </tr>\n",
       "    <tr>\n",
       "      <th>239998</th>\n",
       "      <td>Javier Rojo Gomez 120</td>\n",
       "      <td>casa sola, dividida en cuatro departamentos de...</td>\n",
       "      <td>casa sola. javier rojo gomez.</td>\n",
       "    </tr>\n",
       "    <tr>\n",
       "      <th>239999</th>\n",
       "      <td>AVE. STIM</td>\n",
       "      <td>id:19816, muy bonito e iluminado departamento,...</td>\n",
       "      <td>departamento en bosques de las lomas  / av. st...</td>\n",
       "    </tr>\n",
       "  </tbody>\n",
       "</table>\n",
       "<p>240000 rows × 3 columns</p>\n",
       "</div>"
      ],
      "text/plain": [
       "                              direccion  \\\n",
       "0       Avenida Division del Norte 2005   \n",
       "1                            AV. MEXICO   \n",
       "2                           Urbi Tonala   \n",
       "3         IGNACIO MANUEL ALTAMIRANO 128   \n",
       "4                       PASEOS DEL SOL    \n",
       "...                                 ...   \n",
       "239995                          BOSQUES   \n",
       "239996              Filiberto Navas 325   \n",
       "239997                 Nicolas San Juan   \n",
       "239998            Javier Rojo Gomez 120   \n",
       "239999                        AVE. STIM   \n",
       "\n",
       "                                              descripcion  \\\n",
       "0       depto. interior de 80.15m2, consta de sala com...   \n",
       "1       <p>entre sonora y guerrero, atr&aacute;s del h...   \n",
       "2       descripcion \\nla mejor ubicacion residencial e...   \n",
       "3       casa en privada con caseta de vigilancia casas...   \n",
       "4       bonito departamento en excelentes condiciones ...   \n",
       "...                                                   ...   \n",
       "239995  vendo casa en bosques de ica residencial a 10 ...   \n",
       "239996  casa con un jardin amplio, un cuarto de servic...   \n",
       "239997  departamento con excelente ubicación, muy cerc...   \n",
       "239998  casa sola, dividida en cuatro departamentos de...   \n",
       "239999  id:19816, muy bonito e iluminado departamento,...   \n",
       "\n",
       "                                                   titulo  \n",
       "0                                       depto. tipo a-402  \n",
       "1                          condominio horizontal en venta  \n",
       "2                   casa en venta urbi 3 recamaras tonala  \n",
       "3       casa sola en toluca zinacantepec con credito i...  \n",
       "4                                          paseos del sol  \n",
       "...                                                   ...  \n",
       "239995  bonita casas de 2 recamaras a 10 minutos del c...  \n",
       "239996  casa en condominio a 10 min. del centro de toluca  \n",
       "239997                                   nicolas san juan  \n",
       "239998                      casa sola. javier rojo gomez.  \n",
       "239999  departamento en bosques de las lomas  / av. st...  \n",
       "\n",
       "[240000 rows x 3 columns]"
      ]
     },
     "execution_count": 5,
     "metadata": {},
     "output_type": "execute_result"
    }
   ],
   "source": [
    "''' Hay todo tipo de datos incorrectos\n",
    "'''\n",
    "\n",
    "df[['direccion', 'descripcion', 'titulo']]"
   ]
  },
  {
   "cell_type": "code",
   "execution_count": 6,
   "metadata": {},
   "outputs": [
    {
     "data": {
      "text/html": [
       "<div>\n",
       "<style scoped>\n",
       "    .dataframe tbody tr th:only-of-type {\n",
       "        vertical-align: middle;\n",
       "    }\n",
       "\n",
       "    .dataframe tbody tr th {\n",
       "        vertical-align: top;\n",
       "    }\n",
       "\n",
       "    .dataframe thead th {\n",
       "        text-align: right;\n",
       "    }\n",
       "</style>\n",
       "<table border=\"1\" class=\"dataframe\">\n",
       "  <thead>\n",
       "    <tr style=\"text-align: right;\">\n",
       "      <th></th>\n",
       "      <th>id</th>\n",
       "      <th>titulo</th>\n",
       "      <th>descripcion</th>\n",
       "      <th>tipodepropiedad</th>\n",
       "      <th>direccion</th>\n",
       "      <th>ciudad</th>\n",
       "      <th>provincia</th>\n",
       "      <th>antiguedad</th>\n",
       "      <th>habitaciones</th>\n",
       "      <th>garages</th>\n",
       "      <th>banos</th>\n",
       "      <th>metroscubiertos</th>\n",
       "      <th>metrostotales</th>\n",
       "      <th>idzona</th>\n",
       "      <th>lat</th>\n",
       "      <th>lng</th>\n",
       "      <th>fecha</th>\n",
       "      <th>gimnasio</th>\n",
       "      <th>usosmultiples</th>\n",
       "      <th>piscina</th>\n",
       "      <th>escuelascercanas</th>\n",
       "      <th>centroscomercialescercanos</th>\n",
       "      <th>precio</th>\n",
       "    </tr>\n",
       "  </thead>\n",
       "  <tbody>\n",
       "    <tr>\n",
       "      <th>29462</th>\n",
       "      <td>58994</td>\n",
       "      <td>casa en venta la joya residencial</td>\n",
       "      <td>monterrey, nuevo león, mexico la joya precio: ...</td>\n",
       "      <td>Casa</td>\n",
       "      <td>loreto 23</td>\n",
       "      <td>Monterrey</td>\n",
       "      <td>Nuevo León</td>\n",
       "      <td>0.0</td>\n",
       "      <td>3.0</td>\n",
       "      <td>2.0</td>\n",
       "      <td>4.0</td>\n",
       "      <td>367.0</td>\n",
       "      <td>367.0</td>\n",
       "      <td>130513.0</td>\n",
       "      <td>25.560439</td>\n",
       "      <td>-100.217328</td>\n",
       "      <td>2015-04-25 00:00:00</td>\n",
       "      <td>0.0</td>\n",
       "      <td>0.0</td>\n",
       "      <td>0.0</td>\n",
       "      <td>0.0</td>\n",
       "      <td>0.0</td>\n",
       "      <td>5100000.0</td>\n",
       "    </tr>\n",
       "    <tr>\n",
       "      <th>76071</th>\n",
       "      <td>290769</td>\n",
       "      <td>departamento en venta en juriquilla, querétaro</td>\n",
       "      <td>en zona de gran plusvalía, confort y servicio....</td>\n",
       "      <td>Apartamento</td>\n",
       "      <td>Juriquilla</td>\n",
       "      <td>Querétaro</td>\n",
       "      <td>Querétaro</td>\n",
       "      <td>0.0</td>\n",
       "      <td>2.0</td>\n",
       "      <td>2.0</td>\n",
       "      <td>2.0</td>\n",
       "      <td>165.0</td>\n",
       "      <td>NaN</td>\n",
       "      <td>84312.0</td>\n",
       "      <td>20.696826</td>\n",
       "      <td>-100.456669</td>\n",
       "      <td>2016-11-04 00:00:00</td>\n",
       "      <td>1.0</td>\n",
       "      <td>1.0</td>\n",
       "      <td>1.0</td>\n",
       "      <td>1.0</td>\n",
       "      <td>1.0</td>\n",
       "      <td>4648017.0</td>\n",
       "    </tr>\n",
       "    <tr>\n",
       "      <th>16783</th>\n",
       "      <td>285415</td>\n",
       "      <td>edificio con oficinas independientes de espaci...</td>\n",
       "      <td>&lt;p&gt;ubicación:\\tel edificio de oficinas se encu...</td>\n",
       "      <td>Edificio</td>\n",
       "      <td>NaN</td>\n",
       "      <td>Atizapán de Zaragoza</td>\n",
       "      <td>Edo. de México</td>\n",
       "      <td>22.0</td>\n",
       "      <td>NaN</td>\n",
       "      <td>NaN</td>\n",
       "      <td>3.0</td>\n",
       "      <td>NaN</td>\n",
       "      <td>419.0</td>\n",
       "      <td>55741.0</td>\n",
       "      <td>19.550028</td>\n",
       "      <td>-99.238624</td>\n",
       "      <td>2015-07-30 00:00:00</td>\n",
       "      <td>0.0</td>\n",
       "      <td>0.0</td>\n",
       "      <td>0.0</td>\n",
       "      <td>0.0</td>\n",
       "      <td>0.0</td>\n",
       "      <td>8500000.0</td>\n",
       "    </tr>\n",
       "    <tr>\n",
       "      <th>153864</th>\n",
       "      <td>128056</td>\n",
       "      <td>departamento en venta tequisquiapan</td>\n",
       "      <td>&lt;p&gt;111.68 m2.  (3 recamaras, 2 baños, cochera ...</td>\n",
       "      <td>Apartamento</td>\n",
       "      <td>GARCIA DIEGO</td>\n",
       "      <td>San Luis Potosí</td>\n",
       "      <td>San luis Potosí</td>\n",
       "      <td>0.0</td>\n",
       "      <td>3.0</td>\n",
       "      <td>NaN</td>\n",
       "      <td>2.0</td>\n",
       "      <td>111.0</td>\n",
       "      <td>NaN</td>\n",
       "      <td>87750.0</td>\n",
       "      <td>NaN</td>\n",
       "      <td>NaN</td>\n",
       "      <td>2016-04-14 00:00:00</td>\n",
       "      <td>0.0</td>\n",
       "      <td>0.0</td>\n",
       "      <td>0.0</td>\n",
       "      <td>0.0</td>\n",
       "      <td>0.0</td>\n",
       "      <td>1390000.0</td>\n",
       "    </tr>\n",
       "    <tr>\n",
       "      <th>209575</th>\n",
       "      <td>33217</td>\n",
       "      <td>milenio iii  amplia y funcional casa en venta,...</td>\n",
       "      <td>excelente ubicación muy cerca del parque de la...</td>\n",
       "      <td>Casa</td>\n",
       "      <td>CELESTIAL</td>\n",
       "      <td>Querétaro</td>\n",
       "      <td>Querétaro</td>\n",
       "      <td>5.0</td>\n",
       "      <td>3.0</td>\n",
       "      <td>2.0</td>\n",
       "      <td>2.0</td>\n",
       "      <td>188.0</td>\n",
       "      <td>193.0</td>\n",
       "      <td>339455.0</td>\n",
       "      <td>20.595864</td>\n",
       "      <td>-100.349548</td>\n",
       "      <td>2014-06-01 00:00:00</td>\n",
       "      <td>0.0</td>\n",
       "      <td>0.0</td>\n",
       "      <td>0.0</td>\n",
       "      <td>1.0</td>\n",
       "      <td>1.0</td>\n",
       "      <td>2090000.0</td>\n",
       "    </tr>\n",
       "  </tbody>\n",
       "</table>\n",
       "</div>"
      ],
      "text/plain": [
       "            id                                             titulo  \\\n",
       "29462    58994                  casa en venta la joya residencial   \n",
       "76071   290769     departamento en venta en juriquilla, querétaro   \n",
       "16783   285415  edificio con oficinas independientes de espaci...   \n",
       "153864  128056                departamento en venta tequisquiapan   \n",
       "209575   33217  milenio iii  amplia y funcional casa en venta,...   \n",
       "\n",
       "                                              descripcion tipodepropiedad  \\\n",
       "29462   monterrey, nuevo león, mexico la joya precio: ...            Casa   \n",
       "76071   en zona de gran plusvalía, confort y servicio....     Apartamento   \n",
       "16783   <p>ubicación:\\tel edificio de oficinas se encu...        Edificio   \n",
       "153864  <p>111.68 m2.  (3 recamaras, 2 baños, cochera ...     Apartamento   \n",
       "209575  excelente ubicación muy cerca del parque de la...            Casa   \n",
       "\n",
       "           direccion                ciudad        provincia  antiguedad  \\\n",
       "29462      loreto 23             Monterrey       Nuevo León         0.0   \n",
       "76071     Juriquilla             Querétaro        Querétaro         0.0   \n",
       "16783            NaN  Atizapán de Zaragoza   Edo. de México        22.0   \n",
       "153864  GARCIA DIEGO       San Luis Potosí  San luis Potosí         0.0   \n",
       "209575     CELESTIAL             Querétaro        Querétaro         5.0   \n",
       "\n",
       "        habitaciones  garages  banos  metroscubiertos  metrostotales  \\\n",
       "29462            3.0      2.0    4.0            367.0          367.0   \n",
       "76071            2.0      2.0    2.0            165.0            NaN   \n",
       "16783            NaN      NaN    3.0              NaN          419.0   \n",
       "153864           3.0      NaN    2.0            111.0            NaN   \n",
       "209575           3.0      2.0    2.0            188.0          193.0   \n",
       "\n",
       "          idzona        lat         lng                fecha  gimnasio  \\\n",
       "29462   130513.0  25.560439 -100.217328  2015-04-25 00:00:00       0.0   \n",
       "76071    84312.0  20.696826 -100.456669  2016-11-04 00:00:00       1.0   \n",
       "16783    55741.0  19.550028  -99.238624  2015-07-30 00:00:00       0.0   \n",
       "153864   87750.0        NaN         NaN  2016-04-14 00:00:00       0.0   \n",
       "209575  339455.0  20.595864 -100.349548  2014-06-01 00:00:00       0.0   \n",
       "\n",
       "        usosmultiples  piscina  escuelascercanas  centroscomercialescercanos  \\\n",
       "29462             0.0      0.0               0.0                         0.0   \n",
       "76071             1.0      1.0               1.0                         1.0   \n",
       "16783             0.0      0.0               0.0                         0.0   \n",
       "153864            0.0      0.0               0.0                         0.0   \n",
       "209575            0.0      0.0               1.0                         1.0   \n",
       "\n",
       "           precio  \n",
       "29462   5100000.0  \n",
       "76071   4648017.0  \n",
       "16783   8500000.0  \n",
       "153864  1390000.0  \n",
       "209575  2090000.0  "
      ]
     },
     "execution_count": 6,
     "metadata": {},
     "output_type": "execute_result"
    }
   ],
   "source": [
    "''' Todos los precios son enteros.'''\n",
    "pd.reset_option('float_format') #Sólo por si posteriormente se cambia el formato de los float\n",
    "df.sample(5)"
   ]
  },
  {
   "cell_type": "code",
   "execution_count": 7,
   "metadata": {},
   "outputs": [],
   "source": [
    "''' Renombrar las columnas\n",
    "'''\n",
    "\n",
    "nombresNuevos = {\n",
    "                 'id' : 'ID',\n",
    "                 'titulo' : 'Titulo',\n",
    "                 'descripcion' : 'Descripcion',\n",
    "                 'tipodepropiedad' : 'TipoPropiedad',\n",
    "                 'direccion' : 'Direccion',\n",
    "                 'ciudad' : 'Ciudad',\n",
    "                 'provincia' : 'Provincia',\n",
    "                 'antiguedad' : 'Antiguedad',\n",
    "                 'habitaciones' : 'CantHabitaciones',\n",
    "                 'garages' : 'CantGarages',\n",
    "                 'banos' : 'CantBanos',\n",
    "                 'metroscubiertos' : 'MetrosCuadradosCubiertos',\n",
    "                 'metrostotales' : 'MetrosCuadradosTotales',\n",
    "                 'idzona' : 'IDZona',\n",
    "                 'lat' : 'Latitud',\n",
    "                 'lng' : 'Longitud',\n",
    "                 'fecha' : 'Fecha',\n",
    "                 'gimnasio' : 'TieneGimnasio',\n",
    "                 'usosmultiples' : 'TieneUsosMultiples',\n",
    "                 'piscina' : 'TienePileta',\n",
    "                 'escuelascercanas' : 'TieneEscuelasCerca',\n",
    "                 'centroscomercialescercanos' : 'TieneShoppingsCerca',\n",
    "                 'precio' : 'Precio'\n",
    "                \n",
    "}\n",
    "\n",
    "dfok = df.rename(columns = nombresNuevos)"
   ]
  },
  {
   "cell_type": "code",
   "execution_count": 8,
   "metadata": {},
   "outputs": [
    {
     "data": {
      "text/html": [
       "<div>\n",
       "<style scoped>\n",
       "    .dataframe tbody tr th:only-of-type {\n",
       "        vertical-align: middle;\n",
       "    }\n",
       "\n",
       "    .dataframe tbody tr th {\n",
       "        vertical-align: top;\n",
       "    }\n",
       "\n",
       "    .dataframe thead th {\n",
       "        text-align: right;\n",
       "    }\n",
       "</style>\n",
       "<table border=\"1\" class=\"dataframe\">\n",
       "  <thead>\n",
       "    <tr style=\"text-align: right;\">\n",
       "      <th></th>\n",
       "      <th>ID</th>\n",
       "      <th>Titulo</th>\n",
       "      <th>TipoPropiedad</th>\n",
       "      <th>Precio</th>\n",
       "      <th>Fecha</th>\n",
       "      <th>Antiguedad</th>\n",
       "      <th>MetrosCuadradosCubiertos</th>\n",
       "      <th>MetrosCuadradosTotales</th>\n",
       "      <th>Descripcion</th>\n",
       "      <th>CantHabitaciones</th>\n",
       "      <th>CantGarages</th>\n",
       "      <th>CantBanos</th>\n",
       "      <th>IDZona</th>\n",
       "      <th>Direccion</th>\n",
       "      <th>Ciudad</th>\n",
       "      <th>Provincia</th>\n",
       "      <th>Latitud</th>\n",
       "      <th>Longitud</th>\n",
       "      <th>TieneGimnasio</th>\n",
       "      <th>TieneUsosMultiples</th>\n",
       "      <th>TienePileta</th>\n",
       "      <th>TieneEscuelasCerca</th>\n",
       "      <th>TieneShoppingsCerca</th>\n",
       "    </tr>\n",
       "  </thead>\n",
       "  <tbody>\n",
       "    <tr>\n",
       "      <th>0</th>\n",
       "      <td>254099</td>\n",
       "      <td>depto. tipo a-402</td>\n",
       "      <td>Apartamento</td>\n",
       "      <td>2273000.0</td>\n",
       "      <td>2015-08-23 00:00:00</td>\n",
       "      <td>NaN</td>\n",
       "      <td>80.0</td>\n",
       "      <td>80.0</td>\n",
       "      <td>depto. interior de 80.15m2, consta de sala com...</td>\n",
       "      <td>2.0</td>\n",
       "      <td>1.0</td>\n",
       "      <td>2.0</td>\n",
       "      <td>23533.0</td>\n",
       "      <td>Avenida Division del Norte 2005</td>\n",
       "      <td>Benito Juárez</td>\n",
       "      <td>Distrito Federal</td>\n",
       "      <td>NaN</td>\n",
       "      <td>NaN</td>\n",
       "      <td>0.0</td>\n",
       "      <td>0.0</td>\n",
       "      <td>0.0</td>\n",
       "      <td>0.0</td>\n",
       "      <td>0.0</td>\n",
       "    </tr>\n",
       "    <tr>\n",
       "      <th>1</th>\n",
       "      <td>53461</td>\n",
       "      <td>condominio horizontal en venta</td>\n",
       "      <td>Casa en condominio</td>\n",
       "      <td>3600000.0</td>\n",
       "      <td>2013-06-28 00:00:00</td>\n",
       "      <td>10.0</td>\n",
       "      <td>268.0</td>\n",
       "      <td>180.0</td>\n",
       "      <td>&lt;p&gt;entre sonora y guerrero, atr&amp;aacute;s del h...</td>\n",
       "      <td>3.0</td>\n",
       "      <td>2.0</td>\n",
       "      <td>2.0</td>\n",
       "      <td>24514.0</td>\n",
       "      <td>AV. MEXICO</td>\n",
       "      <td>La Magdalena Contreras</td>\n",
       "      <td>Distrito Federal</td>\n",
       "      <td>19.310205</td>\n",
       "      <td>-99.227655</td>\n",
       "      <td>0.0</td>\n",
       "      <td>0.0</td>\n",
       "      <td>0.0</td>\n",
       "      <td>1.0</td>\n",
       "      <td>1.0</td>\n",
       "    </tr>\n",
       "    <tr>\n",
       "      <th>2</th>\n",
       "      <td>247984</td>\n",
       "      <td>casa en venta urbi 3 recamaras tonala</td>\n",
       "      <td>Casa</td>\n",
       "      <td>1200000.0</td>\n",
       "      <td>2015-10-17 00:00:00</td>\n",
       "      <td>5.0</td>\n",
       "      <td>144.0</td>\n",
       "      <td>166.0</td>\n",
       "      <td>descripcion \\nla mejor ubicacion residencial e...</td>\n",
       "      <td>3.0</td>\n",
       "      <td>2.0</td>\n",
       "      <td>2.0</td>\n",
       "      <td>48551.0</td>\n",
       "      <td>Urbi Tonala</td>\n",
       "      <td>Tonalá</td>\n",
       "      <td>Jalisco</td>\n",
       "      <td>NaN</td>\n",
       "      <td>NaN</td>\n",
       "      <td>0.0</td>\n",
       "      <td>0.0</td>\n",
       "      <td>0.0</td>\n",
       "      <td>0.0</td>\n",
       "      <td>0.0</td>\n",
       "    </tr>\n",
       "    <tr>\n",
       "      <th>3</th>\n",
       "      <td>209067</td>\n",
       "      <td>casa sola en toluca zinacantepec con credito i...</td>\n",
       "      <td>Casa</td>\n",
       "      <td>650000.0</td>\n",
       "      <td>2012-03-09 00:00:00</td>\n",
       "      <td>1.0</td>\n",
       "      <td>63.0</td>\n",
       "      <td>67.0</td>\n",
       "      <td>casa en privada con caseta de vigilancia casas...</td>\n",
       "      <td>2.0</td>\n",
       "      <td>1.0</td>\n",
       "      <td>1.0</td>\n",
       "      <td>53666.0</td>\n",
       "      <td>IGNACIO MANUEL ALTAMIRANO 128</td>\n",
       "      <td>Zinacantepec</td>\n",
       "      <td>Edo. de México</td>\n",
       "      <td>19.301890</td>\n",
       "      <td>-99.688015</td>\n",
       "      <td>0.0</td>\n",
       "      <td>0.0</td>\n",
       "      <td>0.0</td>\n",
       "      <td>1.0</td>\n",
       "      <td>1.0</td>\n",
       "    </tr>\n",
       "    <tr>\n",
       "      <th>4</th>\n",
       "      <td>185997</td>\n",
       "      <td>paseos del sol</td>\n",
       "      <td>Apartamento</td>\n",
       "      <td>1150000.0</td>\n",
       "      <td>2016-06-07 00:00:00</td>\n",
       "      <td>10.0</td>\n",
       "      <td>95.0</td>\n",
       "      <td>95.0</td>\n",
       "      <td>bonito departamento en excelentes condiciones ...</td>\n",
       "      <td>2.0</td>\n",
       "      <td>1.0</td>\n",
       "      <td>1.0</td>\n",
       "      <td>47835.0</td>\n",
       "      <td>PASEOS DEL SOL</td>\n",
       "      <td>Zapopan</td>\n",
       "      <td>Jalisco</td>\n",
       "      <td>NaN</td>\n",
       "      <td>NaN</td>\n",
       "      <td>0.0</td>\n",
       "      <td>0.0</td>\n",
       "      <td>0.0</td>\n",
       "      <td>0.0</td>\n",
       "      <td>0.0</td>\n",
       "    </tr>\n",
       "  </tbody>\n",
       "</table>\n",
       "</div>"
      ],
      "text/plain": [
       "       ID                                             Titulo  \\\n",
       "0  254099                                  depto. tipo a-402   \n",
       "1   53461                     condominio horizontal en venta   \n",
       "2  247984              casa en venta urbi 3 recamaras tonala   \n",
       "3  209067  casa sola en toluca zinacantepec con credito i...   \n",
       "4  185997                                     paseos del sol   \n",
       "\n",
       "        TipoPropiedad     Precio                Fecha  Antiguedad  \\\n",
       "0         Apartamento  2273000.0  2015-08-23 00:00:00         NaN   \n",
       "1  Casa en condominio  3600000.0  2013-06-28 00:00:00        10.0   \n",
       "2                Casa  1200000.0  2015-10-17 00:00:00         5.0   \n",
       "3                Casa   650000.0  2012-03-09 00:00:00         1.0   \n",
       "4         Apartamento  1150000.0  2016-06-07 00:00:00        10.0   \n",
       "\n",
       "   MetrosCuadradosCubiertos  MetrosCuadradosTotales  \\\n",
       "0                      80.0                    80.0   \n",
       "1                     268.0                   180.0   \n",
       "2                     144.0                   166.0   \n",
       "3                      63.0                    67.0   \n",
       "4                      95.0                    95.0   \n",
       "\n",
       "                                         Descripcion  CantHabitaciones  \\\n",
       "0  depto. interior de 80.15m2, consta de sala com...               2.0   \n",
       "1  <p>entre sonora y guerrero, atr&aacute;s del h...               3.0   \n",
       "2  descripcion \\nla mejor ubicacion residencial e...               3.0   \n",
       "3  casa en privada con caseta de vigilancia casas...               2.0   \n",
       "4  bonito departamento en excelentes condiciones ...               2.0   \n",
       "\n",
       "   CantGarages  CantBanos   IDZona                        Direccion  \\\n",
       "0          1.0        2.0  23533.0  Avenida Division del Norte 2005   \n",
       "1          2.0        2.0  24514.0                       AV. MEXICO   \n",
       "2          2.0        2.0  48551.0                      Urbi Tonala   \n",
       "3          1.0        1.0  53666.0    IGNACIO MANUEL ALTAMIRANO 128   \n",
       "4          1.0        1.0  47835.0                  PASEOS DEL SOL    \n",
       "\n",
       "                   Ciudad         Provincia    Latitud   Longitud  \\\n",
       "0           Benito Juárez  Distrito Federal        NaN        NaN   \n",
       "1  La Magdalena Contreras  Distrito Federal  19.310205 -99.227655   \n",
       "2                  Tonalá           Jalisco        NaN        NaN   \n",
       "3            Zinacantepec    Edo. de México  19.301890 -99.688015   \n",
       "4                 Zapopan           Jalisco        NaN        NaN   \n",
       "\n",
       "   TieneGimnasio  TieneUsosMultiples  TienePileta  TieneEscuelasCerca  \\\n",
       "0            0.0                 0.0          0.0                 0.0   \n",
       "1            0.0                 0.0          0.0                 1.0   \n",
       "2            0.0                 0.0          0.0                 0.0   \n",
       "3            0.0                 0.0          0.0                 1.0   \n",
       "4            0.0                 0.0          0.0                 0.0   \n",
       "\n",
       "   TieneShoppingsCerca  \n",
       "0                  0.0  \n",
       "1                  1.0  \n",
       "2                  0.0  \n",
       "3                  1.0  \n",
       "4                  0.0  "
      ]
     },
     "execution_count": 8,
     "metadata": {},
     "output_type": "execute_result"
    }
   ],
   "source": [
    "''' Reacomodamiento de columnas\n",
    "'''\n",
    "\n",
    "nombresEnOrden = [\n",
    "                 'ID',\n",
    "                 'Titulo',\n",
    "                 'TipoPropiedad',\n",
    "                 'Precio',\n",
    "                 'Fecha',\n",
    "                 'Antiguedad',\n",
    "                 'MetrosCuadradosCubiertos',\n",
    "                 'MetrosCuadradosTotales',\n",
    "                 'Descripcion',\n",
    "                 \n",
    "                 'CantHabitaciones',\n",
    "                 'CantGarages',\n",
    "                 'CantBanos',\n",
    "               \n",
    "                 'IDZona',\n",
    "                 'Direccion',\n",
    "                 'Ciudad',\n",
    "                 'Provincia',\n",
    "                 'Latitud',\n",
    "                 'Longitud',\n",
    "                 \n",
    "                 'TieneGimnasio',\n",
    "                 'TieneUsosMultiples',\n",
    "                 'TienePileta',\n",
    "                 'TieneEscuelasCerca',\n",
    "                 'TieneShoppingsCerca'\n",
    "    ]                 \n",
    "\n",
    "dfok = dfok[nombresEnOrden]\n",
    "dfok.head()"
   ]
  },
  {
   "cell_type": "code",
   "execution_count": 9,
   "metadata": {},
   "outputs": [
    {
     "data": {
      "text/plain": [
       "249.11328411102295"
      ]
     },
     "execution_count": 9,
     "metadata": {},
     "output_type": "execute_result"
    }
   ],
   "source": [
    "(df.memory_usage(deep = True).sum()/1024)/1024 #Memoria Original"
   ]
  },
  {
   "cell_type": "code",
   "execution_count": 10,
   "metadata": {},
   "outputs": [
    {
     "data": {
      "text/plain": [
       "[299999, 80.0, 10.0, 3.0, 4.0, 439.0, 439.0, 50003999.0, 12525000.0]"
      ]
     },
     "execution_count": 10,
     "metadata": {},
     "output_type": "execute_result"
    }
   ],
   "source": [
    "''' Verificación adicional de valores máximos para columnas numéricas cuyo tipo se quiere modificar\n",
    "'''\n",
    "\n",
    "[\n",
    "dfok['ID'].max(),\n",
    "    \n",
    "dfok['Antiguedad'].max(), \n",
    "dfok['CantHabitaciones'].max(), \n",
    "dfok['CantGarages'].max(),\n",
    "dfok['CantBanos'].max() ,\n",
    "\n",
    "dfok['MetrosCuadradosCubiertos'].max(),\n",
    "dfok['MetrosCuadradosTotales'].max(),    \n",
    "dfok['IDZona'].max(),\n",
    "dfok['Precio'].max(),] "
   ]
  },
  {
   "cell_type": "code",
   "execution_count": 11,
   "metadata": {},
   "outputs": [],
   "source": [
    "\"\"\"''' Adecuación de tipos de columnas\n",
    "\n",
    "    Considerar las cotas:\n",
    "    uint8   -> 255\n",
    "    uint16  -> 65 535\n",
    "    uint32  -> 4 294 967 295\n",
    "    uint64  -> 18 446 744 073 709 551 615\n",
    "'''\n",
    "\n",
    "# Numéricos\n",
    "dfok['ID'] = dfok['ID'].astype(np.uint32)\n",
    "\n",
    "dfok['Antiguedad'] = dfok['Antiguedad'].astype(np.uint8)\n",
    "dfok['CantHabitaciones'] = dfok['CantHabitaciones'].astype(np.uint8)\n",
    "dfok['CantGarages'] = dfok['CantGarages'].astype(np.uint8)\n",
    "dfok['CantBanos'] = dfok['CantBanos'].astype(np.uint8)\n",
    "\n",
    "dfok['MetrosCuadradosCubiertos'] = dfok['MetrosCuadradosCubiertos'].astype(np.uint16)\n",
    "dfok['MetrosCuadradosTotales'] = dfok['MetrosCuadradosTotales'].astype(np.uint16)\n",
    "dfok['IDZona'] = dfok['IDZona'].astype(np.uint32)\n",
    "dfok['Precio'] = dfok['Precio'].astype(np.uint32)\n",
    "\n",
    "# Booleanos\n",
    "dfok['TieneGimnasio'] = dfok['TieneGimnasio'].astype(np.bool)\n",
    "dfok['TieneUsosMúltiples'] = dfok['TieneUsosMúltiples'].astype(np.bool)\n",
    "dfok['TienePileta'] = dfok['TienePileta'].astype(np.bool)\n",
    "dfok['TieneEscuelasCerca'] = dfok['TieneEscuelasCerca'].astype(np.bool)\n",
    "dfok['TieneShoppingsCerca'] = dfok['TieneShoppingsCerca'].astype(np.bool)\n",
    "\n",
    "# Fecha\n",
    "dfok['Fecha'] = dfok['Fecha'].astype('datetime64')\n",
    "\n",
    "# Categóricas\n",
    "dfok['TipoPropiedad'] = dfok['TipoPropiedad'].astype('category')\n",
    "dfok['Ciudad'] = dfok['Ciudad'].astype('category')\n",
    "dfok['Provincia'] = dfok['Provincia'].astype('category')\n",
    "\n",
    "dfok.info() \"\"\";"
   ]
  },
  {
   "cell_type": "markdown",
   "metadata": {},
   "source": [
    "#### Hay muchas filas que contienen una cantidad mayor de metros cubiertos que de metros totales, en dichos casos decidimos no modificar nada, ya que al contrastar los valores que figuraban en las dos columnas con la descripcion de la propiedad no encontramos un patron claro, en algunos casos el valor que correspondia a metros cubiertos era el valor correcto, mientras que en otros casos se expresaba la superficie no cubierta como superficie total, y asi habia distintos casos."
   ]
  },
  {
   "cell_type": "code",
   "execution_count": 12,
   "metadata": {},
   "outputs": [
    {
     "data": {
      "text/plain": [
       "count    2.400000e+05\n",
       "mean     2.530838e+06\n",
       "std      2.152552e+06\n",
       "min      3.100000e+05\n",
       "25%      9.527725e+05\n",
       "50%      1.850000e+06\n",
       "75%      3.390000e+06\n",
       "max      1.252500e+07\n",
       "Name: Precio, dtype: float64"
      ]
     },
     "execution_count": 12,
     "metadata": {},
     "output_type": "execute_result"
    }
   ],
   "source": [
    "dfok['Precio'].describe()"
   ]
  },
  {
   "cell_type": "code",
   "execution_count": 13,
   "metadata": {},
   "outputs": [
    {
     "data": {
      "image/png": "[encoded data removed]",
      "text/plain": [
       "<Figure size 1440x720 with 1 Axes>"
      ]
     },
     "metadata": {
      "needs_background": "light"
     },
     "output_type": "display_data"
    }
   ],
   "source": [
    "''' ¿Hay más propiedades caras o baratas?'''\n",
    "\n",
    "plt.figure(figsize = (20, 10))\n",
    "plt.xlabel(\"Precio\", fontsize = 16);\n",
    "plt.ylabel(\"Cantidad de Propiedades\", fontsize = 16);\n",
    "plt.hist(dfok['Precio']);\n",
    "\n",
    "''' Los mayores precios se encuentran concentrados para la minoría de las propiedades. ''';"
   ]
  },
  {
   "cell_type": "code",
   "execution_count": 14,
   "metadata": {},
   "outputs": [
    {
     "data": {
      "image/png": "[encoded data removed]",
      "text/plain": [
       "<Figure size 1440x720 with 1 Axes>"
      ]
     },
     "metadata": {
      "needs_background": "light"
     },
     "output_type": "display_data"
    }
   ],
   "source": [
    "''' ¿El precio es proporcional a la cantidad de habitaciones?\n",
    "'''\n",
    "\n",
    "plt.figure(figsize = (20, 10))\n",
    "\n",
    "# Variables a graficar\n",
    "x = dfok['CantHabitaciones']\n",
    "y = dfok['Precio']\n",
    "\n",
    "# Tipo de gráfico\n",
    "plt.scatter(x, y)\n",
    "\n",
    "''' No se aprecia una tendencia clara. ''';"
   ]
  },
  {
   "cell_type": "code",
   "execution_count": 15,
   "metadata": {},
   "outputs": [
    {
     "data": {
      "text/plain": [
       "' La cantidad de habitaciones parece tender a aumentar el precio de la propiedad.\\n'"
      ]
     },
     "execution_count": 15,
     "metadata": {},
     "output_type": "execute_result"
    },
    {
     "data": {
      "image/png": "[encoded data removed]",
      "text/plain": [
       "<Figure size 1080x360 with 1 Axes>"
      ]
     },
     "metadata": {
      "needs_background": "light"
     },
     "output_type": "display_data"
    }
   ],
   "source": [
    "''' ¿El precio promedio es proporcional a la cantidad de habitaciones?\n",
    "'''\n",
    "# Declarás variables a graficar\n",
    "x = [1,2,3,4,5,6,7,8,9,10]\n",
    "y = dfok.groupby('CantHabitaciones').mean()['Precio']\n",
    "\n",
    "plt.figure(figsize = (15, 5))\n",
    "plt.xlim([0, 10.5])\n",
    "plt.ylim([0, 5000000])\n",
    "\n",
    "# Tipo de gráfico\n",
    "plt.scatter(x, y);\n",
    "ldt = np.poly1d( np.polyfit(x, y, 1) )\n",
    "plt.plot(x, ldt(x), \"g\")\n",
    "\n",
    "''' La cantidad de habitaciones parece tender a aumentar el precio de la propiedad.\n",
    "'''"
   ]
  },
  {
   "cell_type": "code",
   "execution_count": 16,
   "metadata": {
    "scrolled": true
   },
   "outputs": [
    {
     "data": {
      "text/plain": [
       "<matplotlib.collections.PathCollection at 0x7f16b886cc88>"
      ]
     },
     "execution_count": 16,
     "metadata": {},
     "output_type": "execute_result"
    },
    {
     "data": {
      "image/png": "[encoded data removed]",
      "text/plain": [
       "<Figure size 1512x1152 with 1 Axes>"
      ]
     },
     "metadata": {
      "needs_background": "light"
     },
     "output_type": "display_data"
    }
   ],
   "source": [
    "''' México está en el hemisferio norte, por lo que la latitud debe ser positiva\n",
    "    Además está al oeste del meridiano de Greenwich, por lo que su longitud debe ser negativa'''\n",
    "\n",
    "# Declarás variables a graficar\n",
    "x = dfok['Longitud']\n",
    "y = dfok['Latitud']\n",
    "\n",
    "plt.figure(figsize = (21, 16))\n",
    "plt.xlabel(\"Longitud\", fontsize = 18)\n",
    "plt.ylabel(\"Latitud\", fontsize = 18)\n",
    "\n",
    "plt.ylim([13, 34])\n",
    "plt.xlim([-116, -86])\n",
    "\n",
    "# Tipo de gráficok\n",
    "plt.scatter(x, y)"
   ]
  },
  {
   "cell_type": "code",
   "execution_count": 17,
   "metadata": {},
   "outputs": [],
   "source": [
    "dfok2 = pd.DataFrame(dfok)\n",
    "dfok2['NoTieneLujos']=((dfok['TienePileta']==0) & \n",
    "                    (dfok['TieneGimnasio']==0) & \n",
    "                    (dfok['TieneUsosMultiples']==0) &\n",
    "                       (dfok['CantGarages']<=1))"
   ]
  },
  {
   "cell_type": "code",
   "execution_count": 18,
   "metadata": {},
   "outputs": [
    {
     "data": {
      "text/plain": [
       "'despues arreglarlo,tendria que sesr precioMetroCuadrado=precioTotal/((C)^(CantidadHabitaciones-1))/MetrosCuadradosTotales\\nSiendo C una constante(aprox 1.2) que elevaria el precio de la casa un 20% por cada baño >1 que tenga'"
      ]
     },
     "execution_count": 18,
     "metadata": {},
     "output_type": "execute_result"
    }
   ],
   "source": [
    "dfok['PrecioMetroCuadrado']=((dfok['Precio']/dfok['MetrosCuadradosTotales']))\n",
    "\n",
    "'''despues arreglarlo,tendria que sesr precioMetroCuadrado=precioTotal/((C)^(CantidadHabitaciones-1))/MetrosCuadradosTotales\n",
    "Siendo C una constante(aprox 1.2) que elevaria el precio de la casa un 20% por cada baño >1 que tenga'''"
   ]
  },
  {
   "cell_type": "code",
   "execution_count": 19,
   "metadata": {},
   "outputs": [],
   "source": [
    "propiedadesSinLujos=dfok2[ (dfok2['NoTieneLujos']) ]"
   ]
  },
  {
   "cell_type": "code",
   "execution_count": 20,
   "metadata": {
    "scrolled": true
   },
   "outputs": [
    {
     "data": {
      "text/plain": [
       "Casa                             141717\n",
       "Apartamento                       57341\n",
       "Casa en condominio                19297\n",
       "Terreno                            9945\n",
       "Local Comercial                    3055\n",
       "Oficina comercial                  1741\n",
       "Bodega comercial                   1406\n",
       "Edificio                           1396\n",
       "Terreno comercial                  1326\n",
       "Casa uso de suelo                   708\n",
       "Quinta Vacacional                   395\n",
       "Duplex                              343\n",
       "Villa                               340\n",
       "Inmuebles productivos urbanos       200\n",
       "Rancho                              170\n",
       "Local en centro comercial           165\n",
       "Departamento Compartido             141\n",
       "Otros                               134\n",
       "Nave industrial                      76\n",
       "Terreno industrial                   31\n",
       "Huerta                               20\n",
       "Lote                                  5\n",
       "Garage                                1\n",
       "Hospedaje                             1\n",
       "Name: TipoPropiedad, dtype: int64"
      ]
     },
     "execution_count": 20,
     "metadata": {},
     "output_type": "execute_result"
    }
   ],
   "source": [
    "''' El objetivo de esta parte es obtener el precio por metro cuadrado de cada propiedad segun el tipo de vivienda \n",
    "y su ciudad correspondiente, asegurandose de que estas no tengan ningun lujo(pileta salon multiple gimnasio etc)\n",
    "que puedad inferir con el valor a calcular,pues estos atributos adicionales se calcularan aparte mas adelante'''\n",
    "\n",
    "dfok['TipoPropiedad'].value_counts()\n",
    "\n",
    "#Considerando esto,se decide calcularlo solo para las casas,deptos,condominios y terrenos,pues los demas \n",
    "#representan una minoria despreciable del total de tipo de casas"
   ]
  },
  {
   "cell_type": "code",
   "execution_count": 21,
   "metadata": {},
   "outputs": [
    {
     "data": {
      "text/plain": [
       "'Se planeaba calcular tipo :(precio propiedad-(tamanio propiedad*precio metro cuadrado*adicionalCantHabitaciones)/precio propiedad) y se\\nobtendria un porcentaje,las pruebas que hice(pocas obvio,fueron bastante piolas,un error menor al 30%)'"
      ]
     },
     "execution_count": 21,
     "metadata": {},
     "output_type": "execute_result"
    }
   ],
   "source": [
    "'''YYYYYYYYYY hasta aca llego...tendria que poner en la tabla el promedio del $/M2 en base al promedio del mismo\n",
    "segun cada region para asi luego multiplicarlo por el terreno total y obtener un estimativo del precio,luego \n",
    "corroborarlo con el precio real y ver que tanto le erro porcentualmente PERO NO PUEDO SUBIR EL PROMEDIO AL DATAFRAME!!'''\n",
    "'''Se planeaba calcular tipo :(precio propiedad-(tamanio propiedad*precio metro cuadrado*adicionalCantHabitaciones)/precio propiedad) y se\n",
    "obtendria un porcentaje,las pruebas que hice(pocas obvio,fueron bastante piolas,un error menor al 30%)'''"
   ]
  },
  {
   "cell_type": "code",
   "execution_count": 22,
   "metadata": {
    "scrolled": false
   },
   "outputs": [
    {
     "data": {
      "text/html": [
       "<div>\n",
       "<style scoped>\n",
       "    .dataframe tbody tr th:only-of-type {\n",
       "        vertical-align: middle;\n",
       "    }\n",
       "\n",
       "    .dataframe tbody tr th {\n",
       "        vertical-align: top;\n",
       "    }\n",
       "\n",
       "    .dataframe thead th {\n",
       "        text-align: right;\n",
       "    }\n",
       "</style>\n",
       "<table border=\"1\" class=\"dataframe\">\n",
       "  <thead>\n",
       "    <tr style=\"text-align: right;\">\n",
       "      <th></th>\n",
       "      <th>ID</th>\n",
       "      <th>Titulo</th>\n",
       "      <th>TipoPropiedad</th>\n",
       "      <th>Precio</th>\n",
       "      <th>Fecha</th>\n",
       "      <th>Antiguedad</th>\n",
       "      <th>MetrosCuadradosCubiertos</th>\n",
       "      <th>MetrosCuadradosTotales</th>\n",
       "      <th>Descripcion</th>\n",
       "      <th>CantHabitaciones</th>\n",
       "      <th>CantGarages</th>\n",
       "      <th>CantBanos</th>\n",
       "      <th>IDZona</th>\n",
       "      <th>Direccion</th>\n",
       "      <th>Ciudad</th>\n",
       "      <th>Provincia</th>\n",
       "      <th>Latitud</th>\n",
       "      <th>Longitud</th>\n",
       "      <th>TieneGimnasio</th>\n",
       "      <th>TieneUsosMultiples</th>\n",
       "      <th>TienePileta</th>\n",
       "      <th>TieneEscuelasCerca</th>\n",
       "      <th>TieneShoppingsCerca</th>\n",
       "      <th>NoTieneLujos</th>\n",
       "      <th>PrecioMetroCuadrado</th>\n",
       "    </tr>\n",
       "  </thead>\n",
       "  <tbody>\n",
       "    <tr>\n",
       "      <th>0</th>\n",
       "      <td>254099</td>\n",
       "      <td>depto. tipo a-402</td>\n",
       "      <td>Apartamento</td>\n",
       "      <td>2273000.0</td>\n",
       "      <td>2015-08-23 00:00:00</td>\n",
       "      <td>NaN</td>\n",
       "      <td>80.0</td>\n",
       "      <td>80.0</td>\n",
       "      <td>depto. interior de 80.15m2, consta de sala com...</td>\n",
       "      <td>2.0</td>\n",
       "      <td>1.0</td>\n",
       "      <td>2.0</td>\n",
       "      <td>23533.0</td>\n",
       "      <td>Avenida Division del Norte 2005</td>\n",
       "      <td>Benito Juárez</td>\n",
       "      <td>Distrito Federal</td>\n",
       "      <td>NaN</td>\n",
       "      <td>NaN</td>\n",
       "      <td>0.0</td>\n",
       "      <td>0.0</td>\n",
       "      <td>0.0</td>\n",
       "      <td>0.0</td>\n",
       "      <td>0.0</td>\n",
       "      <td>True</td>\n",
       "      <td>28412.500000</td>\n",
       "    </tr>\n",
       "    <tr>\n",
       "      <th>3</th>\n",
       "      <td>209067</td>\n",
       "      <td>casa sola en toluca zinacantepec con credito i...</td>\n",
       "      <td>Casa</td>\n",
       "      <td>650000.0</td>\n",
       "      <td>2012-03-09 00:00:00</td>\n",
       "      <td>1.0</td>\n",
       "      <td>63.0</td>\n",
       "      <td>67.0</td>\n",
       "      <td>casa en privada con caseta de vigilancia casas...</td>\n",
       "      <td>2.0</td>\n",
       "      <td>1.0</td>\n",
       "      <td>1.0</td>\n",
       "      <td>53666.0</td>\n",
       "      <td>IGNACIO MANUEL ALTAMIRANO 128</td>\n",
       "      <td>Zinacantepec</td>\n",
       "      <td>Edo. de México</td>\n",
       "      <td>19.301890</td>\n",
       "      <td>-99.688015</td>\n",
       "      <td>0.0</td>\n",
       "      <td>0.0</td>\n",
       "      <td>0.0</td>\n",
       "      <td>1.0</td>\n",
       "      <td>1.0</td>\n",
       "      <td>True</td>\n",
       "      <td>9701.492537</td>\n",
       "    </tr>\n",
       "    <tr>\n",
       "      <th>4</th>\n",
       "      <td>185997</td>\n",
       "      <td>paseos del sol</td>\n",
       "      <td>Apartamento</td>\n",
       "      <td>1150000.0</td>\n",
       "      <td>2016-06-07 00:00:00</td>\n",
       "      <td>10.0</td>\n",
       "      <td>95.0</td>\n",
       "      <td>95.0</td>\n",
       "      <td>bonito departamento en excelentes condiciones ...</td>\n",
       "      <td>2.0</td>\n",
       "      <td>1.0</td>\n",
       "      <td>1.0</td>\n",
       "      <td>47835.0</td>\n",
       "      <td>PASEOS DEL SOL</td>\n",
       "      <td>Zapopan</td>\n",
       "      <td>Jalisco</td>\n",
       "      <td>NaN</td>\n",
       "      <td>NaN</td>\n",
       "      <td>0.0</td>\n",
       "      <td>0.0</td>\n",
       "      <td>0.0</td>\n",
       "      <td>0.0</td>\n",
       "      <td>0.0</td>\n",
       "      <td>True</td>\n",
       "      <td>12105.263158</td>\n",
       "    </tr>\n",
       "    <tr>\n",
       "      <th>5</th>\n",
       "      <td>126147</td>\n",
       "      <td>departamento en venta taxqueña</td>\n",
       "      <td>Apartamento</td>\n",
       "      <td>1100000.0</td>\n",
       "      <td>2014-03-18 00:00:00</td>\n",
       "      <td>5.0</td>\n",
       "      <td>75.0</td>\n",
       "      <td>90.0</td>\n",
       "      <td>amplio departamento, estancia de sala y comedo...</td>\n",
       "      <td>2.0</td>\n",
       "      <td>1.0</td>\n",
       "      <td>1.0</td>\n",
       "      <td>23650.0</td>\n",
       "      <td>Condominio Tlalpan 2B</td>\n",
       "      <td>Coyoacán</td>\n",
       "      <td>Distrito Federal</td>\n",
       "      <td>19.300612</td>\n",
       "      <td>-99.148475</td>\n",
       "      <td>0.0</td>\n",
       "      <td>0.0</td>\n",
       "      <td>0.0</td>\n",
       "      <td>0.0</td>\n",
       "      <td>1.0</td>\n",
       "      <td>True</td>\n",
       "      <td>12222.222222</td>\n",
       "    </tr>\n",
       "    <tr>\n",
       "      <th>6</th>\n",
       "      <td>139233</td>\n",
       "      <td>de oportunidad casa en san lorenzo</td>\n",
       "      <td>Casa</td>\n",
       "      <td>1150000.0</td>\n",
       "      <td>2016-02-23 00:00:00</td>\n",
       "      <td>NaN</td>\n",
       "      <td>140.0</td>\n",
       "      <td>160.0</td>\n",
       "      <td>ubicada en esquina, pertenece san lorenzo agen...</td>\n",
       "      <td>3.0</td>\n",
       "      <td>1.0</td>\n",
       "      <td>2.0</td>\n",
       "      <td>73510.0</td>\n",
       "      <td>NaN</td>\n",
       "      <td>Oaxaca de Juárez</td>\n",
       "      <td>Oaxaca</td>\n",
       "      <td>17.143504</td>\n",
       "      <td>-96.803504</td>\n",
       "      <td>0.0</td>\n",
       "      <td>0.0</td>\n",
       "      <td>0.0</td>\n",
       "      <td>0.0</td>\n",
       "      <td>0.0</td>\n",
       "      <td>True</td>\n",
       "      <td>7187.500000</td>\n",
       "    </tr>\n",
       "  </tbody>\n",
       "</table>\n",
       "</div>"
      ],
      "text/plain": [
       "       ID                                             Titulo TipoPropiedad  \\\n",
       "0  254099                                  depto. tipo a-402   Apartamento   \n",
       "3  209067  casa sola en toluca zinacantepec con credito i...          Casa   \n",
       "4  185997                                     paseos del sol   Apartamento   \n",
       "5  126147                     departamento en venta taxqueña   Apartamento   \n",
       "6  139233                 de oportunidad casa en san lorenzo          Casa   \n",
       "\n",
       "      Precio                Fecha  Antiguedad  MetrosCuadradosCubiertos  \\\n",
       "0  2273000.0  2015-08-23 00:00:00         NaN                      80.0   \n",
       "3   650000.0  2012-03-09 00:00:00         1.0                      63.0   \n",
       "4  1150000.0  2016-06-07 00:00:00        10.0                      95.0   \n",
       "5  1100000.0  2014-03-18 00:00:00         5.0                      75.0   \n",
       "6  1150000.0  2016-02-23 00:00:00         NaN                     140.0   \n",
       "\n",
       "   MetrosCuadradosTotales                                        Descripcion  \\\n",
       "0                    80.0  depto. interior de 80.15m2, consta de sala com...   \n",
       "3                    67.0  casa en privada con caseta de vigilancia casas...   \n",
       "4                    95.0  bonito departamento en excelentes condiciones ...   \n",
       "5                    90.0  amplio departamento, estancia de sala y comedo...   \n",
       "6                   160.0  ubicada en esquina, pertenece san lorenzo agen...   \n",
       "\n",
       "   CantHabitaciones  CantGarages  CantBanos   IDZona  \\\n",
       "0               2.0          1.0        2.0  23533.0   \n",
       "3               2.0          1.0        1.0  53666.0   \n",
       "4               2.0          1.0        1.0  47835.0   \n",
       "5               2.0          1.0        1.0  23650.0   \n",
       "6               3.0          1.0        2.0  73510.0   \n",
       "\n",
       "                         Direccion            Ciudad         Provincia  \\\n",
       "0  Avenida Division del Norte 2005     Benito Juárez  Distrito Federal   \n",
       "3    IGNACIO MANUEL ALTAMIRANO 128      Zinacantepec    Edo. de México   \n",
       "4                  PASEOS DEL SOL            Zapopan           Jalisco   \n",
       "5            Condominio Tlalpan 2B          Coyoacán  Distrito Federal   \n",
       "6                              NaN  Oaxaca de Juárez            Oaxaca   \n",
       "\n",
       "     Latitud   Longitud  TieneGimnasio  TieneUsosMultiples  TienePileta  \\\n",
       "0        NaN        NaN            0.0                 0.0          0.0   \n",
       "3  19.301890 -99.688015            0.0                 0.0          0.0   \n",
       "4        NaN        NaN            0.0                 0.0          0.0   \n",
       "5  19.300612 -99.148475            0.0                 0.0          0.0   \n",
       "6  17.143504 -96.803504            0.0                 0.0          0.0   \n",
       "\n",
       "   TieneEscuelasCerca  TieneShoppingsCerca  NoTieneLujos  PrecioMetroCuadrado  \n",
       "0                 0.0                  0.0          True         28412.500000  \n",
       "3                 1.0                  1.0          True          9701.492537  \n",
       "4                 0.0                  0.0          True         12105.263158  \n",
       "5                 0.0                  1.0          True         12222.222222  \n",
       "6                 0.0                  0.0          True          7187.500000  "
      ]
     },
     "execution_count": 22,
     "metadata": {},
     "output_type": "execute_result"
    }
   ],
   "source": [
    "propiedadesSinLujos.head()"
   ]
  },
  {
   "cell_type": "code",
   "execution_count": 23,
   "metadata": {},
   "outputs": [
    {
     "data": {
      "text/plain": [
       "' La cantidad de baños no varia mucho y ademas esta relacionada con la cantidad de habitaciones\\n'"
      ]
     },
     "execution_count": 23,
     "metadata": {},
     "output_type": "execute_result"
    },
    {
     "data": {
      "image/png": "[encoded data removed]",
      "text/plain": [
       "<Figure size 1080x360 with 1 Axes>"
      ]
     },
     "metadata": {
      "needs_background": "light"
     },
     "output_type": "display_data"
    }
   ],
   "source": [
    "''' Como la cantidad de baños no varia mucho(entre 1 y 4) y se nota una relacion entre la cantidad de estos\n",
    "y de habitaciones,se considera que su incidencia en el precio esta directamente relacionada con la cantidad \n",
    "de baños por lo que solo calcularemos la incidencia de estos en el precio\n",
    "'''\n",
    "# Declarás variables a graficar\n",
    "x = [1,2,3,4,5,6,7,8,9,10]\n",
    "y = dfok.groupby('CantHabitaciones').mean()['CantBanos']\n",
    "\n",
    "plt.figure(figsize = (15, 5))\n",
    "plt.xlim([0, 10.5])\n",
    "plt.ylim([0, 4])\n",
    "\n",
    "# Tipo de gráfico\n",
    "plt.scatter(x, y);\n",
    "ldt = np.poly1d( np.polyfit(x, y, 1) )\n",
    "plt.plot(x, ldt(x), \"g\")\n",
    "\n",
    "''' La cantidad de baños no varia mucho y ademas esta relacionada con la cantidad de habitaciones\n",
    "'''"
   ]
  },
  {
   "cell_type": "code",
   "execution_count": 24,
   "metadata": {
    "scrolled": true
   },
   "outputs": [
    {
     "data": {
      "text/plain": [
       "' La cantidad de habitaciones parece tender a aumentar el precio de la propiedad.\\n'"
      ]
     },
     "execution_count": 24,
     "metadata": {},
     "output_type": "execute_result"
    },
    {
     "data": {
      "image/png": "[encoded data removed]",
      "text/plain": [
       "<Figure size 1080x360 with 1 Axes>"
      ]
     },
     "metadata": {
      "needs_background": "light"
     },
     "output_type": "display_data"
    }
   ],
   "source": [
    "''' ¿El precio promedio es proporcional a la cantidad de habitaciones?\n",
    "'''\n",
    "# Declarás variables a graficar\n",
    "x = [1,2,3,4]\n",
    "y = dfok.groupby('CantBanos').mean()['Precio']\n",
    "\n",
    "plt.figure(figsize = (15, 5))\n",
    "plt.xlim([0, 10.5])\n",
    "plt.ylim([0, 5000000])\n",
    "\n",
    "# Tipo de gráfico\n",
    "plt.scatter(x, y);\n",
    "ldt = np.poly1d( np.polyfit(x, y, 1) )\n",
    "plt.plot(x, ldt(x), \"g\")\n",
    "\n",
    "''' La cantidad de habitaciones parece tender a aumentar el precio de la propiedad.\n",
    "'''"
   ]
  },
  {
   "cell_type": "code",
   "execution_count": 25,
   "metadata": {},
   "outputs": [],
   "source": [
    "MetroPropiedadCiudad=propiedadesSinLujos.groupby(['Ciudad','TipoPropiedad','CantHabitaciones']).agg({'PrecioMetroCuadrado':['median']})\n",
    "#MetroPropiedadCiudad=propiedadesSinLujos.groupby(['Ciudad','TipoPropiedad','CantHabitaciones'])['PrecioMetroCuadrado'].transform('median')"
   ]
  },
  {
   "cell_type": "code",
   "execution_count": 26,
   "metadata": {},
   "outputs": [
    {
     "data": {
      "text/html": [
       "<div>\n",
       "<style scoped>\n",
       "    .dataframe tbody tr th:only-of-type {\n",
       "        vertical-align: middle;\n",
       "    }\n",
       "\n",
       "    .dataframe tbody tr th {\n",
       "        vertical-align: top;\n",
       "    }\n",
       "\n",
       "    .dataframe thead tr th {\n",
       "        text-align: left;\n",
       "    }\n",
       "</style>\n",
       "<table border=\"1\" class=\"dataframe\">\n",
       "  <thead>\n",
       "    <tr>\n",
       "      <th></th>\n",
       "      <th>Ciudad</th>\n",
       "      <th>TipoPropiedad</th>\n",
       "      <th>CantHabitaciones</th>\n",
       "      <th>PrecioMetroCuadrado</th>\n",
       "    </tr>\n",
       "    <tr>\n",
       "      <th></th>\n",
       "      <th></th>\n",
       "      <th></th>\n",
       "      <th></th>\n",
       "      <th>median</th>\n",
       "    </tr>\n",
       "  </thead>\n",
       "  <tbody>\n",
       "    <tr>\n",
       "      <th>0</th>\n",
       "      <td>Abasolo</td>\n",
       "      <td>Casa</td>\n",
       "      <td>4.0</td>\n",
       "      <td>4533.994334</td>\n",
       "    </tr>\n",
       "    <tr>\n",
       "      <th>1</th>\n",
       "      <td>Abasolo</td>\n",
       "      <td>Casa uso de suelo</td>\n",
       "      <td>3.0</td>\n",
       "      <td>9444.444444</td>\n",
       "    </tr>\n",
       "    <tr>\n",
       "      <th>2</th>\n",
       "      <td>Acajete</td>\n",
       "      <td>Apartamento</td>\n",
       "      <td>1.0</td>\n",
       "      <td>NaN</td>\n",
       "    </tr>\n",
       "    <tr>\n",
       "      <th>3</th>\n",
       "      <td>Acambay</td>\n",
       "      <td>Casa</td>\n",
       "      <td>2.0</td>\n",
       "      <td>2250.000000</td>\n",
       "    </tr>\n",
       "    <tr>\n",
       "      <th>4</th>\n",
       "      <td>Acapulco de Juárez</td>\n",
       "      <td>Apartamento</td>\n",
       "      <td>1.0</td>\n",
       "      <td>11680.602007</td>\n",
       "    </tr>\n",
       "  </tbody>\n",
       "</table>\n",
       "</div>"
      ],
      "text/plain": [
       "               Ciudad      TipoPropiedad CantHabitaciones PrecioMetroCuadrado\n",
       "                                                                       median\n",
       "0             Abasolo               Casa              4.0         4533.994334\n",
       "1             Abasolo  Casa uso de suelo              3.0         9444.444444\n",
       "2             Acajete        Apartamento              1.0                 NaN\n",
       "3             Acambay               Casa              2.0         2250.000000\n",
       "4  Acapulco de Juárez        Apartamento              1.0        11680.602007"
      ]
     },
     "execution_count": 26,
     "metadata": {},
     "output_type": "execute_result"
    }
   ],
   "source": [
    "MetroPropiedadCiudad=MetroPropiedadCiudad.reset_index()\n",
    "MetroPropiedadCiudad.head()"
   ]
  },
  {
   "cell_type": "code",
   "execution_count": 27,
   "metadata": {
    "scrolled": true
   },
   "outputs": [
    {
     "data": {
      "text/html": [
       "<div>\n",
       "<style scoped>\n",
       "    .dataframe tbody tr th:only-of-type {\n",
       "        vertical-align: middle;\n",
       "    }\n",
       "\n",
       "    .dataframe tbody tr th {\n",
       "        vertical-align: top;\n",
       "    }\n",
       "\n",
       "    .dataframe thead th {\n",
       "        text-align: right;\n",
       "    }\n",
       "</style>\n",
       "<table border=\"1\" class=\"dataframe\">\n",
       "  <thead>\n",
       "    <tr style=\"text-align: right;\">\n",
       "      <th></th>\n",
       "      <th>median</th>\n",
       "    </tr>\n",
       "  </thead>\n",
       "  <tbody>\n",
       "    <tr>\n",
       "      <th>666</th>\n",
       "      <td>24454.545455</td>\n",
       "    </tr>\n",
       "    <tr>\n",
       "      <th>667</th>\n",
       "      <td>19117.647059</td>\n",
       "    </tr>\n",
       "    <tr>\n",
       "      <th>668</th>\n",
       "      <td>16875.000000</td>\n",
       "    </tr>\n",
       "    <tr>\n",
       "      <th>669</th>\n",
       "      <td>11666.666667</td>\n",
       "    </tr>\n",
       "    <tr>\n",
       "      <th>670</th>\n",
       "      <td>10882.352941</td>\n",
       "    </tr>\n",
       "  </tbody>\n",
       "</table>\n",
       "</div>"
      ],
      "text/plain": [
       "           median\n",
       "666  24454.545455\n",
       "667  19117.647059\n",
       "668  16875.000000\n",
       "669  11666.666667\n",
       "670  10882.352941"
      ]
     },
     "execution_count": 27,
     "metadata": {},
     "output_type": "execute_result"
    }
   ],
   "source": [
    "MetroPropiedadCiudad[(MetroPropiedadCiudad['Ciudad']=='Coyoacán') & (MetroPropiedadCiudad['TipoPropiedad']=='Apartamento')]['PrecioMetroCuadrado']"
   ]
  },
  {
   "cell_type": "code",
   "execution_count": 28,
   "metadata": {},
   "outputs": [
    {
     "data": {
      "text/plain": [
       "'propiedadesSinLujos.PrecioMetroCuadrado = merged.(PrecioMetroCuadrado, median).where(~merged.(PrecioMetroCuadrado, median).isnull(), propiedadesSinLujos.PrecioMetroCuadrado)'"
      ]
     },
     "execution_count": 28,
     "metadata": {},
     "output_type": "execute_result"
    }
   ],
   "source": [
    "#MetroPropiedadCiudad222=MetroPropiedadCiudad.copy()\n",
    "#merged = propiedadesSinLujos.merge(MetroPropiedadCiudad222, on=['Ciudad', 'TipoPropiedad','CantHabitaciones'], how='left')\n",
    "'''propiedadesSinLujos.PrecioMetroCuadrado = merged.(PrecioMetroCuadrado, median).where(~merged.(PrecioMetroCuadrado, median).isnull(), propiedadesSinLujos.PrecioMetroCuadrado)'''\n",
    "\n",
    "#Uso esto para asegurarme que todas tienen la media correcta <3'''"
   ]
  },
  {
   "cell_type": "code",
   "execution_count": 29,
   "metadata": {},
   "outputs": [],
   "source": [
    "#propiedadesSinLujos.PrecioMetroCuadrado = merged.PrecioMetroCuadrado.\\\n",
    "#    where(~merged.PrecioMetroCuadrado.isnull(), propiedadesSinLujos.PrecioMetroCuadrado)\n",
    "\n",
    "\n",
    "#merged[(merged['TipoPropiedad']=='Apartamento') & (merged['CantHabitaciones']==1) ] \n",
    "#Uso esto para asegurarme que todas tienen la media correcta <3"
   ]
  },
  {
   "cell_type": "code",
   "execution_count": 30,
   "metadata": {},
   "outputs": [],
   "source": [
    "#propiedadesSinLujos=merged.copy()\n",
    "\n",
    "#propiedadesSinLujos.columns = ['PrecioEstimado' if x=='(PrecioMetroCuadrado, median)' else x for x in merged.columns]\n",
    "\n",
    "#propiedadesSinLujos.head()"
   ]
  },
  {
   "cell_type": "code",
   "execution_count": null,
   "metadata": {},
   "outputs": [],
   "source": []
  },
  {
   "cell_type": "code",
   "execution_count": null,
   "metadata": {},
   "outputs": [],
   "source": []
  },
  {
   "cell_type": "code",
   "execution_count": 31,
   "metadata": {},
   "outputs": [
    {
     "data": {
      "text/plain": [
       "\"Incidencia de los lujos(atributos prescindibles de un hogar pero que aumentan su valor) en el precio total\\ntomando como base del mismo a la media de precio de hogares sin ninguno de estos atributos(los cuales llamaremos\\n'lujos')\""
      ]
     },
     "execution_count": 31,
     "metadata": {},
     "output_type": "execute_result"
    }
   ],
   "source": [
    "'''Incidencia de los lujos(atributos prescindibles de un hogar pero que aumentan su valor) en el precio total\n",
    "tomando como base del mismo a la media de precio de hogares sin ninguno de estos atributos(los cuales llamaremos\n",
    "'lujos')'''"
   ]
  },
  {
   "cell_type": "code",
   "execution_count": 32,
   "metadata": {},
   "outputs": [
    {
     "data": {
      "text/plain": [
       "1535417.658168542"
      ]
     },
     "execution_count": 32,
     "metadata": {},
     "output_type": "execute_result"
    }
   ],
   "source": [
    "Simples=propiedadesSinLujos #la renombro para que no me figure 'sin lujos' en el grafico sin explicar que es\n",
    "Simples['Precio'].mean()  "
   ]
  },
  {
   "cell_type": "code",
   "execution_count": 33,
   "metadata": {},
   "outputs": [
    {
     "data": {
      "text/plain": [
       "3233000.0"
      ]
     },
     "execution_count": 33,
     "metadata": {},
     "output_type": "execute_result"
    }
   ],
   "source": [
    "ConGimnasio=dfok[ (dfok['TieneGimnasio'] >= 1) ]\n",
    "ConGimnasio['Precio'].median()"
   ]
  },
  {
   "cell_type": "code",
   "execution_count": 34,
   "metadata": {},
   "outputs": [
    {
     "data": {
      "text/plain": [
       "2750000.0"
      ]
     },
     "execution_count": 34,
     "metadata": {},
     "output_type": "execute_result"
    }
   ],
   "source": [
    "ConPileta=dfok[ (dfok['TienePileta'] >= 1) ]\n",
    "ConPileta['Precio'].median()"
   ]
  },
  {
   "cell_type": "code",
   "execution_count": 35,
   "metadata": {},
   "outputs": [
    {
     "data": {
      "text/plain": [
       "3827091.0210255636"
      ]
     },
     "execution_count": 35,
     "metadata": {},
     "output_type": "execute_result"
    }
   ],
   "source": [
    "ConSalonMultiple=dfok[ (dfok['TieneUsosMultiples'] == 1)  ]\n",
    "ConSalonMultiple['Precio'].mean()\n",
    "#len(ConSalonMultiple)"
   ]
  },
  {
   "cell_type": "code",
   "execution_count": 36,
   "metadata": {},
   "outputs": [
    {
     "data": {
      "text/plain": [
       "2400000.0"
      ]
     },
     "execution_count": 36,
     "metadata": {},
     "output_type": "execute_result"
    }
   ],
   "source": [
    "ConMasDeUnGarage=dfok[ (dfok['CantGarages'] > 1) ]\n",
    "ConMasDeUnGarage['Precio'].median()\n",
    "#Esto se considera como un lujo porque la gran mayoria de las familias puede vivir con un unico auto"
   ]
  },
  {
   "cell_type": "code",
   "execution_count": 37,
   "metadata": {},
   "outputs": [
    {
     "data": {
      "text/plain": [
       "<BarContainer object of 5 artists>"
      ]
     },
     "execution_count": 37,
     "metadata": {},
     "output_type": "execute_result"
    },
    {
     "data": {
      "image/png": "[encoded data removed]",
      "text/plain": [
       "<Figure size 1080x504 with 1 Axes>"
      ]
     },
     "metadata": {
      "needs_background": "light"
     },
     "output_type": "display_data"
    }
   ],
   "source": [
    "AtributosPrescindibles = pd.DataFrame({'Atributos de viviendas':['Sin comodidades', 'Garaje múltiple' , 'Pileta','Gimnasio','Salón múltiple'], \\\n",
    "                       'Precio':[Simples['Precio'].mean() , ConMasDeUnGarage['Precio'].mean() , \\\n",
    "                        ConPileta['Precio'].mean() , ConGimnasio['Precio'].mean(), \\\n",
    "                              ConSalonMultiple['Precio'].mean()]})      \n",
    "\n",
    "x = AtributosPrescindibles['Atributos de viviendas']\n",
    "y = AtributosPrescindibles['Precio']\n",
    "grafico = plt.figure(figsize = (15, 7));\n",
    "\n",
    "# Tamaño de los títulos de los ejes\n",
    "plt.xlabel(\"Comodidades de viviendas\", fontsize = 20);\n",
    "plt.ylabel(\"Precio\", fontsize = 20);\n",
    "\n",
    "# Título\n",
    "plt.rcParams.update( { 'axes.titlesize':'25' } )\n",
    "plt.title(\"Precio Promedio Según Comodidades\")\n",
    "\n",
    "# Tamaño de las letras de los ejes\n",
    "plt.tick_params(axis='both', which='major', labelsize = 17)\n",
    "plt.tick_params(axis='both', which='minor', labelsize = 17)\n",
    "\n",
    "# Rotar ejes\n",
    "plt.xticks(rotation = 0)\n",
    "\n",
    "# Límites para cada coordenada\n",
    "#plt.ylim([13, 34]);\n",
    "#plt.xlim([-116, -86]);\n",
    "\n",
    "# Tipo de gráfico\n",
    "plt.bar(x, y, color = 'black')\n",
    "\n",
    "#Línea de regresión\n",
    "    #ldt = np.poly1d( np.polyfit(x, y, 1) )\n",
    "    #plt.plot(x, ldt(x), \"g\")"
   ]
  },
  {
   "cell_type": "code",
   "execution_count": 38,
   "metadata": {
    "scrolled": true
   },
   "outputs": [
    {
     "data": {
      "text/plain": [
       "'Si bien a partir de estos datos es facil asumir que la prescencia de un gimnasio,una pileta o un salon \\nmultiple aumentan en gran medida el valor de una casas,puede no necesariamente ser asi,como se vera a continuacion'"
      ]
     },
     "execution_count": 38,
     "metadata": {},
     "output_type": "execute_result"
    }
   ],
   "source": [
    "'''Si bien a partir de estos datos es facil asumir que la prescencia de un gimnasio,una pileta o un salon \n",
    "multiple aumentan en gran medida el valor de una casas,puede no necesariamente ser asi,como se vera a continuacion'''"
   ]
  },
  {
   "cell_type": "code",
   "execution_count": 39,
   "metadata": {},
   "outputs": [
    {
     "data": {
      "text/plain": [
       "1772166.8187772925"
      ]
     },
     "execution_count": 39,
     "metadata": {},
     "output_type": "execute_result"
    }
   ],
   "source": [
    "SoloConGimnasio=dfok[ (dfok['TienePileta'] == 0) & \n",
    "                        (dfok['TieneGimnasio'] == 1) & \n",
    "                        (dfok['CantGarages'] <= 1) & \n",
    "                        (dfok['TieneUsosMultiples'] == 0) ]\n",
    "SoloConGimnasio['Precio'].mean()"
   ]
  },
  {
   "cell_type": "code",
   "execution_count": 40,
   "metadata": {},
   "outputs": [
    {
     "data": {
      "text/plain": [
       "1606344.5185185184"
      ]
     },
     "execution_count": 40,
     "metadata": {},
     "output_type": "execute_result"
    }
   ],
   "source": [
    "SoloConPileta=dfok[ (dfok['TienePileta'] == 1) & \n",
    "                        (dfok['TieneGimnasio'] == 0) & \n",
    "                        (dfok['CantGarages'] <= 1) & \n",
    "                        (dfok['TieneUsosMultiples'] == 0) ]\n",
    "SoloConPileta['Precio'].mean()"
   ]
  },
  {
   "cell_type": "code",
   "execution_count": 41,
   "metadata": {},
   "outputs": [
    {
     "data": {
      "text/plain": [
       "2816681.965884568"
      ]
     },
     "execution_count": 41,
     "metadata": {},
     "output_type": "execute_result"
    }
   ],
   "source": [
    "SoloConMasDeUnGarage=dfok[ (dfok['TienePileta'] == 0) & \n",
    "                        (dfok['TieneGimnasio'] == 0) & \n",
    "                        (dfok['CantGarages'] > 1) & \n",
    "                        (dfok['TieneUsosMultiples'] == 0) ]\n",
    "SoloConMasDeUnGarage['Precio'].mean()"
   ]
  },
  {
   "cell_type": "code",
   "execution_count": 42,
   "metadata": {
    "scrolled": true
   },
   "outputs": [
    {
     "data": {
      "text/plain": [
       "1723730.3060498221"
      ]
     },
     "execution_count": 42,
     "metadata": {},
     "output_type": "execute_result"
    }
   ],
   "source": [
    "SoloConSalonMultiple=dfok[ (dfok['TienePileta'] == 0) & \n",
    "                        (dfok['TieneGimnasio'] == 0) & \n",
    "                        (dfok['CantGarages'] <= 1) & \n",
    "                        (dfok['TieneUsosMultiples'] == 1) ]\n",
    "SoloConSalonMultiple['Precio'].mean()\n",
    "#len(SoloConSalonMultiple)"
   ]
  },
  {
   "cell_type": "code",
   "execution_count": 43,
   "metadata": {},
   "outputs": [
    {
     "data": {
      "text/plain": [
       "<BarContainer object of 5 artists>"
      ]
     },
     "execution_count": 43,
     "metadata": {},
     "output_type": "execute_result"
    },
    {
     "data": {
      "image/png": "[encoded data removed]",
      "text/plain": [
       "<Figure size 1080x504 with 1 Axes>"
      ]
     },
     "metadata": {
      "needs_background": "light"
     },
     "output_type": "display_data"
    }
   ],
   "source": [
    "AtributosPrescindibles = pd.DataFrame({'Atributos de viviendas':['Sin comidades', 'Solo garaje múltiple' , 'Solo pileta','Solo gimnasio','Solo salón múltiple'], \\\n",
    "                       'Precio':[Simples['Precio'].mean() , SoloConMasDeUnGarage['Precio'].mean() , \\\n",
    "                        SoloConPileta['Precio'].mean() , SoloConGimnasio['Precio'].mean(), \\\n",
    "                              SoloConSalonMultiple['Precio'].mean()]})\n",
    "AtributosPrescindibles.head()       \n",
    "\n",
    "x = AtributosPrescindibles['Atributos de viviendas']\n",
    "y = AtributosPrescindibles['Precio']\n",
    "grafico = plt.figure(figsize = (15, 7));\n",
    "\n",
    "# Tamaño de los títulos de los ejes\n",
    "plt.xlabel(\"Comodidades de viviendas\", fontsize = 20);\n",
    "plt.ylabel(\"Precio\", fontsize = 20);\n",
    "\n",
    "# Título\n",
    "plt.rcParams.update( { 'axes.titlesize':'25' } )\n",
    "plt.title(\"Precio Promedio Según Comodidades\")\n",
    "\n",
    "# Tamaño de las letras de los ejes\n",
    "plt.tick_params(axis='both', which='major', labelsize = 17)\n",
    "plt.tick_params(axis='both', which='minor', labelsize = 17)\n",
    "\n",
    "# Rotar ejes\n",
    "plt.xticks(rotation = 0)\n",
    "\n",
    "# Límites para cada coordenada\n",
    "#plt.ylim([13, 34]);\n",
    "#plt.xlim([-116, -86]);\n",
    "\n",
    "# Tipo de gráfico\n",
    "plt.bar(x, y, color = 'black')"
   ]
  },
  {
   "cell_type": "code",
   "execution_count": 44,
   "metadata": {
    "scrolled": true
   },
   "outputs": [
    {
     "data": {
      "text/plain": [
       "'De aqui se puede ver mejor cómo la presencia de un unico atributo de estos no parece aumentar el precio\\nde una vivienda en mucho mas del %30, a exepcion de la cantidad de garages. \\nPor lo que el aumento que incialmente parecia ser mayor se debe a que si en una casa se encuentra uno de estos\\natributos,hay una gran probabilidad de tenga otros que aumenten su valor aun mas'"
      ]
     },
     "execution_count": 44,
     "metadata": {},
     "output_type": "execute_result"
    }
   ],
   "source": [
    "'''De aqui se puede ver mejor cómo la presencia de un unico atributo de estos no parece aumentar el precio\n",
    "de una vivienda en mucho mas del %30, a exepcion de la cantidad de garages. \n",
    "Por lo que el aumento que incialmente parecia ser mayor se debe a que si en una casa se encuentra uno de estos\n",
    "atributos,hay una gran probabilidad de tenga otros que aumenten su valor aun mas'''"
   ]
  },
  {
   "cell_type": "code",
   "execution_count": 45,
   "metadata": {},
   "outputs": [
    {
     "data": {
      "text/plain": [
       "80253"
      ]
     },
     "execution_count": 45,
     "metadata": {},
     "output_type": "execute_result"
    }
   ],
   "source": [
    "cantidadSimples=len(Simples)\n",
    "cantidadSimples"
   ]
  },
  {
   "cell_type": "code",
   "execution_count": 46,
   "metadata": {},
   "outputs": [
    {
     "name": "stdout",
     "output_type": "stream",
     "text": [
      "14994\n",
      "916\n"
     ]
    }
   ],
   "source": [
    "cantidadConGimnasio=len(ConGimnasio)\n",
    "cantidadSoloConGimnasio=len(SoloConGimnasio)\n",
    "print(cantidadConGimnasio)\n",
    "print(cantidadSoloConGimnasio)"
   ]
  },
  {
   "cell_type": "code",
   "execution_count": 47,
   "metadata": {},
   "outputs": [
    {
     "name": "stdout",
     "output_type": "stream",
     "text": [
      "20972\n",
      "2808\n"
     ]
    }
   ],
   "source": [
    "cantidadConPileta=(len(ConPileta))\n",
    "cantidadSoloConPileta=(len(SoloConPileta))\n",
    "print(cantidadConPileta)\n",
    "print(cantidadSoloConPileta)\n"
   ]
  },
  {
   "cell_type": "code",
   "execution_count": 48,
   "metadata": {},
   "outputs": [
    {
     "name": "stdout",
     "output_type": "stream",
     "text": [
      "13222\n",
      "843\n"
     ]
    }
   ],
   "source": [
    "cantidadConSalonMultiple=(len(ConSalonMultiple))\n",
    "cantidadSoloConSalonMultiple=(len(SoloConSalonMultiple))\n",
    "print(cantidadConSalonMultiple)\n",
    "print(cantidadSoloConSalonMultiple)"
   ]
  },
  {
   "cell_type": "code",
   "execution_count": 49,
   "metadata": {},
   "outputs": [
    {
     "name": "stdout",
     "output_type": "stream",
     "text": [
      "115845\n",
      "94532\n"
     ]
    }
   ],
   "source": [
    "cantidadConMasDeUnGarage=(len(ConMasDeUnGarage))\n",
    "cantidadSoloConMasDeUnGarage=(len(SoloConMasDeUnGarage))\n",
    "print(cantidadConMasDeUnGarage)\n",
    "print(cantidadSoloConMasDeUnGarage)"
   ]
  },
  {
   "cell_type": "code",
   "execution_count": 50,
   "metadata": {},
   "outputs": [
    {
     "data": {
      "text/plain": [
       "'Aca se puede verificar puesto que, 9 de 10 casas que tengan un gimnasio o una pileta,tambien tendran otro\\natributo similar que eleve aun mas el precio'"
      ]
     },
     "execution_count": 50,
     "metadata": {},
     "output_type": "execute_result"
    }
   ],
   "source": [
    "'''Aca se puede verificar puesto que, 9 de 10 casas que tengan un gimnasio o una pileta,tambien tendran otro\n",
    "atributo similar que eleve aun mas el precio'''"
   ]
  },
  {
   "cell_type": "code",
   "execution_count": 51,
   "metadata": {},
   "outputs": [
    {
     "data": {
      "image/png": "[encoded data removed]",
      "text/plain": [
       "<Figure size 1080x504 with 1 Axes>"
      ]
     },
     "metadata": {
      "needs_background": "light"
     },
     "output_type": "display_data"
    }
   ],
   "source": [
    "labels = ['Garaje múltiple', 'Pileta','Gimnasio', 'Salón múltiple']\n",
    "MultiplesAtributos = [cantidadConMasDeUnGarage, cantidadConPileta ,cantidadConGimnasio,cantidadConSalonMultiple]\n",
    "UnicoAtributo = [cantidadSoloConMasDeUnGarage, cantidadSoloConPileta ,cantidadSoloConGimnasio,cantidadSoloConSalonMultiple]\n",
    "\n",
    "x = np.arange(len(labels))  # the label locations\n",
    "width = 0.35  # the width of the bars\n",
    "\n",
    "fig, ax =plt.subplots(figsize=(15,7)) \n",
    "rects1 = ax.bar(x - width/2, MultiplesAtributos, width, label='Multiples comodidades')\n",
    "rects2 = ax.bar(x + width/2, UnicoAtributo, width, label='Comodidad única')\n",
    "\n",
    "# Add some text for labels, title and custom x-axis tick labels, etc.\n",
    "ax.set_ylabel('Cantidad', fontsize=20)\n",
    "ax.set_xlabel('Comodidades de viviendas', fontsize=20)\n",
    "ax.set_title('Cantidad Viviendas con Cada Comodidad', fontsize=25)\n",
    "ax.set_xticks(x)\n",
    "ax.set_xticklabels(labels, fontsize=17)\n",
    "ax.legend(fontsize=17)\n",
    "\n",
    "\n",
    "#autolabel(rects1)\n",
    "#autolabel(rects2)\n",
    "\n",
    "plt.show()"
   ]
  },
  {
   "cell_type": "code",
   "execution_count": 52,
   "metadata": {},
   "outputs": [
    {
     "ename": "NameError",
     "evalue": "name 'ConPiletaYMultipleGaraje' is not defined",
     "output_type": "error",
     "traceback": [
      "\u001b[0;31m---------------------------------------------------------------------------\u001b[0m",
      "\u001b[0;31mNameError\u001b[0m                                 Traceback (most recent call last)",
      "\u001b[0;32m<ipython-input-52-0ddea3c440a8>\u001b[0m in \u001b[0;36m<module>\u001b[0;34m\u001b[0m\n\u001b[1;32m      1\u001b[0m \u001b[0mlabels\u001b[0m \u001b[0;34m=\u001b[0m \u001b[0;34m[\u001b[0m\u001b[0;34m'Garaje múltiple'\u001b[0m\u001b[0;34m,\u001b[0m \u001b[0;34m'Pileta'\u001b[0m\u001b[0;34m,\u001b[0m\u001b[0;34m'Gimnasio'\u001b[0m\u001b[0;34m,\u001b[0m \u001b[0;34m'Salón múltiple'\u001b[0m\u001b[0;34m]\u001b[0m\u001b[0;34m\u001b[0m\u001b[0;34m\u001b[0m\u001b[0m\n\u001b[0;32m----> 2\u001b[0;31m \u001b[0mMultiplesAtributos\u001b[0m \u001b[0;34m=\u001b[0m \u001b[0;34m[\u001b[0m\u001b[0;36m0\u001b[0m\u001b[0;34m,\u001b[0m \u001b[0mlen\u001b[0m\u001b[0;34m(\u001b[0m\u001b[0mConPiletaYMultipleGaraje\u001b[0m\u001b[0;34m)\u001b[0m\u001b[0;34m,\u001b[0m\u001b[0mlen\u001b[0m\u001b[0;34m(\u001b[0m\u001b[0mConGimnasioYMultipleGaraje\u001b[0m\u001b[0;34m)\u001b[0m\u001b[0;34m,\u001b[0m\u001b[0mlen\u001b[0m\u001b[0;34m(\u001b[0m\u001b[0mConSalonMultipleYMultipleGaraje\u001b[0m\u001b[0;34m)\u001b[0m\u001b[0;34m]\u001b[0m\u001b[0;34m\u001b[0m\u001b[0;34m\u001b[0m\u001b[0m\n\u001b[0m\u001b[1;32m      3\u001b[0m \u001b[0mUnicoAtributo\u001b[0m \u001b[0;34m=\u001b[0m \u001b[0;34m[\u001b[0m\u001b[0mcantidadSoloConMasDeUnGarage\u001b[0m\u001b[0;34m,\u001b[0m \u001b[0mcantidadSoloConPileta\u001b[0m \u001b[0;34m,\u001b[0m\u001b[0mcantidadSoloConGimnasio\u001b[0m\u001b[0;34m,\u001b[0m\u001b[0mcantidadSoloConSalonMultiple\u001b[0m\u001b[0;34m]\u001b[0m\u001b[0;34m\u001b[0m\u001b[0;34m\u001b[0m\u001b[0m\n\u001b[1;32m      4\u001b[0m \u001b[0;34m\u001b[0m\u001b[0m\n\u001b[1;32m      5\u001b[0m \u001b[0mx\u001b[0m \u001b[0;34m=\u001b[0m \u001b[0mnp\u001b[0m\u001b[0;34m.\u001b[0m\u001b[0marange\u001b[0m\u001b[0;34m(\u001b[0m\u001b[0mlen\u001b[0m\u001b[0;34m(\u001b[0m\u001b[0mlabels\u001b[0m\u001b[0;34m)\u001b[0m\u001b[0;34m)\u001b[0m  \u001b[0;31m# the label locations\u001b[0m\u001b[0;34m\u001b[0m\u001b[0;34m\u001b[0m\u001b[0m\n",
      "\u001b[0;31mNameError\u001b[0m: name 'ConPiletaYMultipleGaraje' is not defined"
     ]
    }
   ],
   "source": [
    "labels = ['Garaje múltiple', 'Pileta','Gimnasio', 'Salón múltiple']\n",
    "MultiplesAtributos = [0, len(ConPiletaYMultipleGaraje),len(ConGimnasioYMultipleGaraje),len(ConSalonMultipleYMultipleGaraje)]\n",
    "UnicoAtributo = [cantidadSoloConMasDeUnGarage, cantidadSoloConPileta ,cantidadSoloConGimnasio,cantidadSoloConSalonMultiple]\n",
    "\n",
    "x = np.arange(len(labels))  # the label locations\n",
    "width = 0.35  # the width of the bars\n",
    "\n",
    "fig, ax =plt.subplots(figsize=(15,7)) \n",
    "rects1 = ax.bar(x - width/2, MultiplesAtributos, width, label='Multiples comodidades')\n",
    "rects2 = ax.bar(x + width/2, UnicoAtributo, width, label='Comodidad única')\n",
    "\n",
    "# Add some text for labels, title and custom x-axis tick labels, etc.\n",
    "ax.set_ylabel('Cantidad', fontsize=20)\n",
    "ax.set_xlabel('Comodidades de viviendas', fontsize=20)\n",
    "ax.set_title('Cantidad Viviendas con Cada Comodidad', fontsize=25)\n",
    "ax.set_xticks(x)\n",
    "ax.set_xticklabels(labels, fontsize=17)\n",
    "ax.legend(fontsize=17)\n",
    "\n",
    "\n",
    "plt.show()"
   ]
  },
  {
   "cell_type": "code",
   "execution_count": null,
   "metadata": {},
   "outputs": [],
   "source": [
    "dfok['SoloUnaComodidad']=(((dfok['TienePileta'] == 0) & (dfok['TieneGimnasio'] == 0) & (dfok['CantGarages'] <= 1) &  (dfok['TieneUsosMultiples'] == 1))\n",
    "                         |((dfok['TienePileta'] == 0) & (dfok['TieneGimnasio'] == 0) & (dfok['CantGarages'] > 1) &  (dfok['TieneUsosMultiples'] == 0))\n",
    "                         |((dfok['TienePileta'] == 0) & (dfok['TieneGimnasio'] == 1) & (dfok['CantGarages'] <= 1) &  (dfok['TieneUsosMultiples'] == 0))\n",
    "                         |((dfok['TienePileta'] == 1) & (dfok['TieneGimnasio'] == 0) & (dfok['CantGarages'] <= 1) &  (dfok['TieneUsosMultiples'] == 0)))\n",
    "\n",
    "\n"
   ]
  },
  {
   "cell_type": "code",
   "execution_count": null,
   "metadata": {},
   "outputs": [],
   "source": [
    "'''Verifico lo anterior mostrando que es igualmente aplicable a cualquier region'''\n",
    "\n",
    "unicaComodidad=dfok[ \n",
    "    ((dfok['TienePileta'] == 0) & (dfok['TieneGimnasio'] == 0) & (dfok['CantGarages'] <= 1) &  (dfok['TieneUsosMultiples'] == 1)) | \n",
    "    ((dfok['TienePileta'] == 0) & (dfok['TieneGimnasio'] == 0) & (dfok['CantGarages'] > 1) &  (dfok['TieneUsosMultiples'] == 0))  |\n",
    "    ((dfok['TienePileta'] == 0) & (dfok['TieneGimnasio'] == 1) & (dfok['CantGarages'] <= 1) &  (dfok['TieneUsosMultiples'] == 0)) |\n",
    "    ((dfok['TienePileta'] == 1) & (dfok['TieneGimnasio'] == 0) & (dfok['CantGarages'] <= 1) &  (dfok['TieneUsosMultiples'] == 0)) \n",
    "\n",
    "\n",
    "]\n",
    "\n",
    "len(unicaComodidad)"
   ]
  },
  {
   "cell_type": "code",
   "execution_count": null,
   "metadata": {},
   "outputs": [],
   "source": [
    "unicaComodidadPorRegion=unicaComodidad\n",
    "unicaComodidadPorRegion=unicaComodidad.groupby(['Ciudad']).agg({'Precio':['median']})\n",
    "unicaComodidadPorRegion.head()"
   ]
  },
  {
   "cell_type": "code",
   "execution_count": null,
   "metadata": {},
   "outputs": [],
   "source": [
    "ningunaComodidad=dfok[((dfok['TienePileta'] == 0) & (dfok['TieneGimnasio'] == 0) & (dfok['CantGarages'] <= 1) &  (dfok['TieneUsosMultiples'] == 0)) ]\n",
    "len(ningunaComodidad)"
   ]
  },
  {
   "cell_type": "code",
   "execution_count": null,
   "metadata": {
    "scrolled": false
   },
   "outputs": [],
   "source": [
    "ningunaComodidadPorRegion=ningunaComodidad\n",
    "ningunaComodidadPorRegion=ningunaComodidad.groupby(['Ciudad']).agg({'Precio':['median']})\n",
    "ningunaComodidadPorRegion.head()"
   ]
  },
  {
   "cell_type": "code",
   "execution_count": null,
   "metadata": {},
   "outputs": [],
   "source": []
  },
  {
   "cell_type": "code",
   "execution_count": null,
   "metadata": {},
   "outputs": [],
   "source": []
  },
  {
   "cell_type": "code",
   "execution_count": null,
   "metadata": {},
   "outputs": [],
   "source": []
  },
  {
   "cell_type": "code",
   "execution_count": null,
   "metadata": {},
   "outputs": [],
   "source": []
  },
  {
   "cell_type": "code",
   "execution_count": null,
   "metadata": {
    "scrolled": true
   },
   "outputs": [],
   "source": [
    "'''Analisis de casas segun su cercania a escuelas y shoppings'''"
   ]
  },
  {
   "cell_type": "code",
   "execution_count": null,
   "metadata": {},
   "outputs": [],
   "source": [
    "dfok[ (dfok['TieneEscuelasCerca'] == 1) ]['Precio'].median()"
   ]
  },
  {
   "cell_type": "code",
   "execution_count": null,
   "metadata": {},
   "outputs": [],
   "source": [
    "dfok[ (dfok['TieneEscuelasCerca'] == 0) ]['Precio'].median()"
   ]
  },
  {
   "cell_type": "code",
   "execution_count": null,
   "metadata": {},
   "outputs": [],
   "source": [
    "dfok[ (dfok['TieneShoppingsCerca'] == 1) ]['Precio'].median()"
   ]
  },
  {
   "cell_type": "code",
   "execution_count": null,
   "metadata": {},
   "outputs": [],
   "source": [
    "dfok[ (dfok['TieneShoppingsCerca'] == 0) ]['Precio'].median()"
   ]
  },
  {
   "cell_type": "code",
   "execution_count": null,
   "metadata": {
    "scrolled": true
   },
   "outputs": [],
   "source": [
    "dfok['Precio'].median()"
   ]
  },
  {
   "cell_type": "code",
   "execution_count": null,
   "metadata": {},
   "outputs": [],
   "source": [
    "CercaniadeCasas = pd.DataFrame({'Cercania de casas':['Precio estandar', 'Cerca de escuelas' , 'Cerca de shoppings'], \\\n",
    "                       'Precio':[dfok['Precio'].mean(), dfok[ (dfok['TieneEscuelasCerca'] == 1) ]['Precio'].mean() , \\\n",
    "                        dfok[ (dfok['TieneShoppingsCerca'] == 1) ]['Precio'].mean()]})      \n",
    "\n",
    "x = CercaniadeCasas['Cercania de casas']\n",
    "y = CercaniadeCasas['Precio']\n",
    "grafico = plt.figure(figsize = (15, 7));\n",
    "\n",
    "# Tamaño de los títulos de los ejes\n",
    "plt.xlabel(\"Cercanías de viviendas\", fontsize = 20);\n",
    "plt.ylabel(\"Precio\", fontsize = 20);\n",
    "\n",
    "# Título\n",
    "plt.rcParams.update( { 'axes.titlesize':'25' } )\n",
    "plt.title(\"Precio Según Cercanías\")\n",
    "\n",
    "# Tamaño de las letras de los ejes\n",
    "plt.tick_params(axis='both', which='major', labelsize = 17)\n",
    "plt.tick_params(axis='both', which='minor', labelsize = 17)\n",
    "\n",
    "# Rotar ejes\n",
    "plt.xticks(rotation = 0)\n",
    "\n",
    "# Límites para cada coordenada\n",
    "#plt.ylim([13, 34]);\n",
    "#plt.xlim([-116, -86]);\n",
    "\n",
    "# Tipo de gráfico\n",
    "plt.bar(x, y, color = 'black')"
   ]
  },
  {
   "cell_type": "code",
   "execution_count": null,
   "metadata": {},
   "outputs": [],
   "source": [
    "'''Se puede ver como,el hecho de que esté o no cerca de una escuela no afecta mucho el precio'''"
   ]
  },
  {
   "cell_type": "code",
   "execution_count": null,
   "metadata": {},
   "outputs": [],
   "source": [
    "dfok[ (dfok['TieneEscuelasCerca'] == 1) ]['CantHabitaciones'].mean()"
   ]
  },
  {
   "cell_type": "code",
   "execution_count": null,
   "metadata": {
    "scrolled": true
   },
   "outputs": [],
   "source": [
    "dfok[ (dfok['TieneEscuelasCerca'] == 0) ]['CantHabitaciones'].mean()"
   ]
  },
  {
   "cell_type": "code",
   "execution_count": null,
   "metadata": {},
   "outputs": [],
   "source": [
    "dfok['CantHabitaciones'].mean()"
   ]
  },
  {
   "cell_type": "code",
   "execution_count": null,
   "metadata": {},
   "outputs": [],
   "source": [
    "'''Quizá el hecho de que una casa estuviera cerca de escuelas apuntara a familias con numerosos \n",
    "hijos,pero la cantidad de habitaciones se mantiene constante estando cerca de escuelas o no...'''"
   ]
  },
  {
   "cell_type": "code",
   "execution_count": null,
   "metadata": {},
   "outputs": [],
   "source": [
    "'''Sin embargo,SI se puede encontrar una relacion entre estar cerca de una escuela,probablemente porque la \n",
    "familia que pretenda comprar la casa tenga hijos,y que la misma esté equipaca para que estos tengan actividades\n",
    "recreativas a realizar,como que la casa tenga pileta,gimnasio,salon multiple(potencial salon de juegos) y,\n",
    "mayoritariamente,que este cerca de un shopping'''"
   ]
  },
  {
   "cell_type": "code",
   "execution_count": null,
   "metadata": {},
   "outputs": [],
   "source": [
    "'''cantidad de casas cerca de escuelas'''\n",
    "\n",
    "len(dfok[ (dfok['TieneEscuelasCerca'] == 1) ])"
   ]
  },
  {
   "cell_type": "code",
   "execution_count": null,
   "metadata": {},
   "outputs": [],
   "source": [
    "'''cantidad de casas cerca de shoppings'''\n",
    "\n",
    "len(dfok[ (dfok['TieneShoppingsCerca'] == 1) ])"
   ]
  },
  {
   "cell_type": "code",
   "execution_count": null,
   "metadata": {
    "scrolled": true
   },
   "outputs": [],
   "source": [
    "'''cantidad de casas cerca de ambos'''\n",
    "\n",
    "len(dfok[ (dfok['TieneEscuelasCerca'] == 1) &  (dfok['TieneShoppingsCerca'] == 1)])"
   ]
  },
  {
   "cell_type": "code",
   "execution_count": null,
   "metadata": {},
   "outputs": [],
   "source": [
    "CercaniadeCasas = pd.DataFrame({'Cercania de viviendas':['Cerca de escuelas' , 'Cerca de shoppings', 'Cerca de ambos'], \\\n",
    "                       'Precio':[len(dfok[ (dfok['TieneEscuelasCerca'] == 1) ]),len(dfok[ (dfok['TieneShoppingsCerca'] == 1) ]) , \\\n",
    "                       len(dfok[ (dfok['TieneEscuelasCerca'] == 1) &  (dfok['TieneShoppingsCerca'] == 1)])]})      \n",
    "\n",
    "x = CercaniadeCasas['Cercania de viviendas']\n",
    "y = CercaniadeCasas['Precio']\n",
    "grafico = plt.figure(figsize = (15, 7));\n",
    "\n",
    "# Tamaño de los títulos de los ejes\n",
    "plt.xlabel(\"Tipos de viviendas\", fontsize = 20);\n",
    "plt.ylabel(\"Precio\", fontsize = 20);\n",
    "\n",
    "# Título\n",
    "plt.rcParams.update( { 'axes.titlesize':'25' } )\n",
    "plt.title(\"Cantidad de Viviendas Cercanas\")\n",
    "\n",
    "# Tamaño de las letras de los ejes\n",
    "plt.tick_params(axis='both', which='major', labelsize = 17)\n",
    "plt.tick_params(axis='both', which='minor', labelsize = 17)\n",
    "\n",
    "# Rotar ejes\n",
    "plt.xticks(rotation = 0)\n",
    "\n",
    "# Límites para cada coordenada\n",
    "#plt.ylim([13, 34]);\n",
    "#plt.xlim([-116, -86]);\n",
    "\n",
    "# Tipo de gráfico\n",
    "plt.bar(x, y, color = 'black')"
   ]
  },
  {
   "cell_type": "code",
   "execution_count": null,
   "metadata": {},
   "outputs": [],
   "source": [
    "'''Efectivamente,casi 9 de casa 10 casas que esten cerca de una escuela,tambien lo estan de un shopping'''\n",
    "'''Aunque esto tambien se pueda deber a que los lugares donde construir los shoppings se elijan en base a que\n",
    "estén cerca de escuelas para tener una clientela asegurada,por lo que,ovbiamente si una vivienda esta cerca de una\n",
    "escuela,muy probablemente lo este tambien de un shopping'''"
   ]
  },
  {
   "cell_type": "code",
   "execution_count": null,
   "metadata": {},
   "outputs": [],
   "source": [
    "'''Porcentaje de casas que NO estan cerca de una escuelas y tienen pileta,gimnasio o salon multiple,\n",
    "y porcentaje de casas que SI,y tambuen tengan eso'''"
   ]
  },
  {
   "cell_type": "code",
   "execution_count": null,
   "metadata": {},
   "outputs": [],
   "source": [
    "casasConEscuela=len(dfok[ (dfok['TieneEscuelasCerca'] == 1) ])\n",
    "print(casasConEscuela)\n",
    "\n",
    "conEscuelaSinGimnasio=len(dfok[ (dfok['TieneEscuelasCerca'] == 1) & (dfok['TieneGimnasio'] == 0) ])\n",
    "print(conEscuelaSinGimnasio)\n",
    "\n",
    "ConEscuelaConGimnasio=len(dfok[ (dfok['TieneEscuelasCerca'] == 1) & (dfok['TieneGimnasio'] == 1) ])\n",
    "print(ConEscuelaConGimnasio)\n",
    "'''No hay evidencia suficiente para respaldar una correlacion'''"
   ]
  },
  {
   "cell_type": "code",
   "execution_count": null,
   "metadata": {},
   "outputs": [],
   "source": [
    "print(casasConEscuela)\n",
    "\n",
    "conEscuelaSinPileta=len(dfok[ (dfok['TieneEscuelasCerca'] == 1) & (dfok['TienePileta'] == 0) ])\n",
    "print(conEscuelaSinPileta)\n",
    "\n",
    "conEscuelaConPileta=len(dfok[ (dfok['TieneEscuelasCerca'] == 1) & (dfok['TienePileta'] == 1) ])\n",
    "print(conEscuelaConPileta)\n",
    "'''Tampoco hay evidencia suficiente para respaldar una correlacion'''"
   ]
  },
  {
   "cell_type": "code",
   "execution_count": null,
   "metadata": {},
   "outputs": [],
   "source": [
    "print(casasConEscuela)\n",
    "\n",
    "conEscuelaSinZoom=len(dfok[ (dfok['TieneEscuelasCerca'] == 1) & (dfok['TieneUsosMultiples'] == 0) ])\n",
    "print(conEscuelaSinZoom)\n",
    "\n",
    "conEscuelaConZoom=len(dfok[ (dfok['TieneEscuelasCerca'] == 1) & (dfok['TieneUsosMultiples'] == 1) ])\n",
    "print(conEscuelaConZoom)\n",
    "'''Efectivamente,la mayoria de las casas que tienen un zoom,se encuentran cerca de escuelas'''"
   ]
  },
  {
   "cell_type": "code",
   "execution_count": null,
   "metadata": {},
   "outputs": [],
   "source": [
    "'''Bueno...no hay nada que relacionar...'''"
   ]
  },
  {
   "cell_type": "code",
   "execution_count": null,
   "metadata": {},
   "outputs": [],
   "source": []
  }
 ],
 "metadata": {
  "kernelspec": {
   "display_name": "Python 3",
   "language": "python",
   "name": "python3"
  },
  "language_info": {
   "codemirror_mode": {
    "name": "ipython",
    "version": 3
   },
   "file_extension": ".py",
   "mimetype": "text/x-python",
   "name": "python",
   "nbconvert_exporter": "python",
   "pygments_lexer": "ipython3",
   "version": "3.6.8"
  }
 },
 "nbformat": 4,
 "nbformat_minor": 2
}
