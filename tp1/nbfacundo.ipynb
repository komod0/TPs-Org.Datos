{
 "cells": [
  {
   "cell_type": "code",
   "execution_count": 1,
   "metadata": {},
   "outputs": [],
   "source": [
    "import numpy as np\n",
    "import pandas as pd\n",
    "import matplotlib.pyplot as plt\n",
    "from matplotlib.ticker import FormatStrFormatter"
   ]
  },
  {
   "cell_type": "code",
   "execution_count": 2,
   "metadata": {},
   "outputs": [],
   "source": [
    "# Visualiza las 23 columnas\n",
    "pd.set_option('display.max_columns', 23)\n",
    "# Carga del CSV en un DataFrame df (usando como delimitador la coma ',')\n",
    "df = pd.read_csv('train.csv')"
   ]
  },
  {
   "cell_type": "code",
   "execution_count": 3,
   "metadata": {},
   "outputs": [
    {
     "data": {
      "text/plain": [
       "Index(['id', 'titulo', 'descripcion', 'tipodepropiedad', 'direccion', 'ciudad',\n",
       "       'provincia', 'antiguedad', 'habitaciones', 'garages', 'banos',\n",
       "       'metroscubiertos', 'metrostotales', 'idzona', 'lat', 'lng', 'fecha',\n",
       "       'gimnasio', 'usosmultiples', 'piscina', 'escuelascercanas',\n",
       "       'centroscomercialescercanos', 'precio'],\n",
       "      dtype='object')"
      ]
     },
     "execution_count": 3,
     "metadata": {},
     "output_type": "execute_result"
    }
   ],
   "source": [
    "df.columns"
   ]
  },
  {
   "cell_type": "code",
   "execution_count": 4,
   "metadata": {},
   "outputs": [
    {
     "name": "stdout",
     "output_type": "stream",
     "text": [
      "['ciudad', 'provincia', 'gimnasio', 'usosmultiples', 'piscina', 'escuelascercanas', 'centroscomercialescercanos', 'precio']\n"
     ]
    }
   ],
   "source": [
    "# Análisis de los valores booleanos (y cómo varía el precio respecto a ellos)\n",
    "# print(df.columns) # Devuelve una serie con lon nombres de las columnas\n",
    "columnas = ['ciudad',\n",
    "            'provincia',\n",
    "            'gimnasio',\n",
    "            'usosmultiples',\n",
    "            'piscina',\n",
    "            'escuelascercanas',\n",
    "            'centroscomercialescercanos',\n",
    "            'precio'] \n",
    "\n",
    "print(columnas)"
   ]
  },
  {
   "cell_type": "code",
   "execution_count": 5,
   "metadata": {
    "scrolled": true
   },
   "outputs": [
    {
     "name": "stdout",
     "output_type": "stream",
     "text": [
      "Total memoria usada sin cambios de tipos 14.65 MB\n",
      "Total memoria usada sin cambios de tipos 2.79 MB\n"
     ]
    }
   ],
   "source": [
    "# Se indica en el Análisis exploratorio de Navent que, de las columnas usadas anterioremente,\n",
    "# el precio se representa con enteros y las demás columnas son Booleanas\n",
    "\n",
    "# Se crea un nuevo DataFrame df_abool que copia columnas de interés del DataFrame original\n",
    "df_abool = df[columnas].copy()\n",
    "memoria_usada = df_abool.memory_usage()\n",
    "print('Total memoria usada sin cambios de tipos {:.2f}'.format(memoria_usada.sum()/1024/1024), 'MB')\n",
    "# Se convierten lo tipos de datos a los requeridos\n",
    "df_abool['gimnasio'] = df_abool['gimnasio'].astype(np.bool)\n",
    "df_abool['usosmultiples'] = df_abool['usosmultiples'].astype(np.bool)\n",
    "df_abool['piscina'] = df_abool['piscina'].astype(np.bool)\n",
    "df_abool['escuelascercanas'] = df_abool['escuelascercanas'].astype(np.bool)\n",
    "df_abool['centroscomercialescercanos'] = df_abool['centroscomercialescercanos'].astype(np.bool)\n",
    "\n",
    "df_abool['precio'] = df_abool['precio'].astype(np.uint32)\n",
    "\n",
    "df_abool['ciudad'] = df_abool['ciudad'].astype('category')\n",
    "df_abool['provincia'] = df_abool['provincia'].astype('category')\n",
    "\n",
    "print('Total memoria usada sin cambios de tipos {0:.2f}'.format(df_abool.memory_usage().sum()/1024/1024), 'MB')"
   ]
  },
  {
   "cell_type": "markdown",
   "metadata": {},
   "source": [
    "# Análisis de calidad de datos pertinentes"
   ]
  },
  {
   "cell_type": "code",
   "execution_count": 6,
   "metadata": {
    "scrolled": false
   },
   "outputs": [
    {
     "data": {
      "text/plain": [
       "ciudad                        372\n",
       "provincia                     155\n",
       "gimnasio                        0\n",
       "usosmultiples                   0\n",
       "piscina                         0\n",
       "escuelascercanas                0\n",
       "centroscomercialescercanos      0\n",
       "precio                          0\n",
       "dtype: int64"
      ]
     },
     "execution_count": 6,
     "metadata": {},
     "output_type": "execute_result"
    }
   ],
   "source": [
    "# Análisis de calidad de datos\n",
    "df_abool.isnull().sum()"
   ]
  },
  {
   "cell_type": "markdown",
   "metadata": {},
   "source": [
    "Verifico si hay alguna relación entre los valores nulos de provincias y ciudades"
   ]
  },
  {
   "cell_type": "code",
   "execution_count": 7,
   "metadata": {},
   "outputs": [
    {
     "data": {
      "text/plain": [
       "ciudad                        155\n",
       "provincia                     155\n",
       "gimnasio                        0\n",
       "usosmultiples                   0\n",
       "piscina                         0\n",
       "escuelascercanas                0\n",
       "centroscomercialescercanos      0\n",
       "precio                          0\n",
       "dtype: int64"
      ]
     },
     "execution_count": 7,
     "metadata": {},
     "output_type": "execute_result"
    }
   ],
   "source": [
    "df_abool[(df_abool['ciudad'].isnull() == True) & (df_abool['provincia'].isnull() == True)].isnull().sum()"
   ]
  },
  {
   "cell_type": "markdown",
   "metadata": {},
   "source": [
    "Los valores de provincias nulos también tienen ciudades nulas. Como se van utilizar estos valores conviene descartarlos."
   ]
  },
  {
   "cell_type": "code",
   "execution_count": 8,
   "metadata": {},
   "outputs": [
    {
     "data": {
      "text/plain": [
       "ciudad                        217\n",
       "provincia                       0\n",
       "gimnasio                        0\n",
       "usosmultiples                   0\n",
       "piscina                         0\n",
       "escuelascercanas                0\n",
       "centroscomercialescercanos      0\n",
       "precio                          0\n",
       "dtype: int64"
      ]
     },
     "execution_count": 8,
     "metadata": {},
     "output_type": "execute_result"
    }
   ],
   "source": [
    "# Verifico qué ocurre si se eliminan los valores nulos\n",
    "df_abool.dropna(subset=['provincia'], inplace=True)\n",
    "df_abool.isnull().sum()"
   ]
  },
  {
   "cell_type": "code",
   "execution_count": 9,
   "metadata": {},
   "outputs": [
    {
     "data": {
      "text/html": [
       "<div>\n",
       "<style scoped>\n",
       "    .dataframe tbody tr th:only-of-type {\n",
       "        vertical-align: middle;\n",
       "    }\n",
       "\n",
       "    .dataframe tbody tr th {\n",
       "        vertical-align: top;\n",
       "    }\n",
       "\n",
       "    .dataframe thead th {\n",
       "        text-align: right;\n",
       "    }\n",
       "</style>\n",
       "<table border=\"1\" class=\"dataframe\">\n",
       "  <thead>\n",
       "    <tr style=\"text-align: right;\">\n",
       "      <th></th>\n",
       "      <th>ciudad</th>\n",
       "      <th>provincia</th>\n",
       "      <th>gimnasio</th>\n",
       "      <th>usosmultiples</th>\n",
       "      <th>piscina</th>\n",
       "      <th>escuelascercanas</th>\n",
       "      <th>centroscomercialescercanos</th>\n",
       "      <th>precio</th>\n",
       "    </tr>\n",
       "  </thead>\n",
       "  <tbody>\n",
       "  </tbody>\n",
       "</table>\n",
       "</div>"
      ],
      "text/plain": [
       "Empty DataFrame\n",
       "Columns: [ciudad, provincia, gimnasio, usosmultiples, piscina, escuelascercanas, centroscomercialescercanos, precio]\n",
       "Index: []"
      ]
     },
     "execution_count": 9,
     "metadata": {},
     "output_type": "execute_result"
    }
   ],
   "source": [
    "df_abool.loc[(df_abool['provincia'] == 'Colima') & (df_abool['ciudad'].isnull() == True)]"
   ]
  },
  {
   "cell_type": "markdown",
   "metadata": {},
   "source": [
    "Voy a ver cuánto influyen las cantidades de valores nulos en ciudades por provincia, para ver si es correcto eliminarlas."
   ]
  },
  {
   "cell_type": "code",
   "execution_count": 10,
   "metadata": {},
   "outputs": [],
   "source": [
    "# Creo un DataFrame donde solo se almacenen los casos con valores nulos de ciudades\n",
    "cant_nulos_provincia = df_abool.loc[df_abool['ciudad'].isnull() == True].copy() # Devuelve un DataFrame\n",
    "# Elijo quedarme solo con la columna 'provincia' \n",
    "cant_nulos_provincia = cant_nulos_provincia['provincia'] # Devuelve una Serie\n",
    "# Realizo un conteo para casos nulos por provincia\n",
    "cant_nulos_provincia = cant_nulos_provincia.value_counts() # Devuelve una Serie\n",
    "# Paso la Serie a DataFrame\n",
    "cant_nulos_provincia = cant_nulos_provincia.to_frame()\n",
    "# Reseteo el índice para tener una columna con el nombre de las provincias\n",
    "cant_nulos_provincia.reset_index(inplace = True)\n",
    "# Le cambio el nombre a las provincias\n",
    "cant_nulos_provincia = cant_nulos_provincia.rename(columns = {'index' : 'provincia', 'provincia' : 'cant_nulos'}).copy()\n",
    "#cant_nulos_provincia\n",
    "# Ordeno alfabéticamente por nombre de provincia y lo modifico \"implace\"\n",
    "cant_nulos_provincia.sort_values(by='provincia', ascending = True, inplace = True)\n",
    "cant_nulos_provincia.reset_index(drop = True, inplace=True)"
   ]
  },
  {
   "cell_type": "code",
   "execution_count": 11,
   "metadata": {},
   "outputs": [
    {
     "data": {
      "text/html": [
       "<div>\n",
       "<style scoped>\n",
       "    .dataframe tbody tr th:only-of-type {\n",
       "        vertical-align: middle;\n",
       "    }\n",
       "\n",
       "    .dataframe tbody tr th {\n",
       "        vertical-align: top;\n",
       "    }\n",
       "\n",
       "    .dataframe thead th {\n",
       "        text-align: right;\n",
       "    }\n",
       "</style>\n",
       "<table border=\"1\" class=\"dataframe\">\n",
       "  <thead>\n",
       "    <tr style=\"text-align: right;\">\n",
       "      <th></th>\n",
       "      <th>provincia</th>\n",
       "      <th>cant_nulos</th>\n",
       "    </tr>\n",
       "  </thead>\n",
       "  <tbody>\n",
       "    <tr>\n",
       "      <th>0</th>\n",
       "      <td>Aguascalientes</td>\n",
       "      <td>0</td>\n",
       "    </tr>\n",
       "    <tr>\n",
       "      <th>1</th>\n",
       "      <td>Baja California Norte</td>\n",
       "      <td>0</td>\n",
       "    </tr>\n",
       "    <tr>\n",
       "      <th>2</th>\n",
       "      <td>Baja California Sur</td>\n",
       "      <td>0</td>\n",
       "    </tr>\n",
       "    <tr>\n",
       "      <th>3</th>\n",
       "      <td>Campeche</td>\n",
       "      <td>0</td>\n",
       "    </tr>\n",
       "    <tr>\n",
       "      <th>4</th>\n",
       "      <td>Chiapas</td>\n",
       "      <td>0</td>\n",
       "    </tr>\n",
       "  </tbody>\n",
       "</table>\n",
       "</div>"
      ],
      "text/plain": [
       "               provincia  cant_nulos\n",
       "0         Aguascalientes           0\n",
       "1  Baja California Norte           0\n",
       "2    Baja California Sur           0\n",
       "3               Campeche           0\n",
       "4                Chiapas           0"
      ]
     },
     "execution_count": 11,
     "metadata": {},
     "output_type": "execute_result"
    }
   ],
   "source": [
    "cant_nulos_provincia.head()"
   ]
  },
  {
   "cell_type": "code",
   "execution_count": 12,
   "metadata": {},
   "outputs": [],
   "source": [
    "# Voy a crear un DataFrame para comparar la proporción de ciudades nulas por provincia\n",
    "# Como adf_abool ya no tiene 'provincia' y 'ciudad' nulos a la vez, uso ese DataFrame\n",
    "cant_total_provincia = df_abool['provincia'] # Devuelve una Serie\n",
    "# Convierto a DataFrame y lo asigo \"inplace\"\n",
    "cant_total_provincia = cant_total_provincia.value_counts().to_frame()\n",
    "cant_total_provincia.reset_index(inplace = True)\n",
    "cant_total_provincia.rename(columns = {'index' : 'provincia', 'provincia' : 'cant_total'}, inplace = True)\n",
    "cant_total_provincia\n",
    "cant_total_provincia.sort_values(by = 'provincia', ascending = True, inplace = True)\n",
    "cant_total_provincia.reset_index(drop = True, inplace = True)"
   ]
  },
  {
   "cell_type": "code",
   "execution_count": 13,
   "metadata": {
    "scrolled": true
   },
   "outputs": [
    {
     "data": {
      "text/html": [
       "<div>\n",
       "<style scoped>\n",
       "    .dataframe tbody tr th:only-of-type {\n",
       "        vertical-align: middle;\n",
       "    }\n",
       "\n",
       "    .dataframe tbody tr th {\n",
       "        vertical-align: top;\n",
       "    }\n",
       "\n",
       "    .dataframe thead th {\n",
       "        text-align: right;\n",
       "    }\n",
       "</style>\n",
       "<table border=\"1\" class=\"dataframe\">\n",
       "  <thead>\n",
       "    <tr style=\"text-align: right;\">\n",
       "      <th></th>\n",
       "      <th>provincia</th>\n",
       "      <th>cant_total</th>\n",
       "    </tr>\n",
       "  </thead>\n",
       "  <tbody>\n",
       "    <tr>\n",
       "      <th>0</th>\n",
       "      <td>Aguascalientes</td>\n",
       "      <td>1753</td>\n",
       "    </tr>\n",
       "    <tr>\n",
       "      <th>1</th>\n",
       "      <td>Baja California Norte</td>\n",
       "      <td>3220</td>\n",
       "    </tr>\n",
       "    <tr>\n",
       "      <th>2</th>\n",
       "      <td>Baja California Sur</td>\n",
       "      <td>1700</td>\n",
       "    </tr>\n",
       "    <tr>\n",
       "      <th>3</th>\n",
       "      <td>Campeche</td>\n",
       "      <td>263</td>\n",
       "    </tr>\n",
       "    <tr>\n",
       "      <th>4</th>\n",
       "      <td>Chiapas</td>\n",
       "      <td>1126</td>\n",
       "    </tr>\n",
       "  </tbody>\n",
       "</table>\n",
       "</div>"
      ],
      "text/plain": [
       "               provincia  cant_total\n",
       "0         Aguascalientes        1753\n",
       "1  Baja California Norte        3220\n",
       "2    Baja California Sur        1700\n",
       "3               Campeche         263\n",
       "4                Chiapas        1126"
      ]
     },
     "execution_count": 13,
     "metadata": {},
     "output_type": "execute_result"
    }
   ],
   "source": [
    "cant_total_provincia.head()"
   ]
  },
  {
   "cell_type": "markdown",
   "metadata": {},
   "source": [
    "# Merge"
   ]
  },
  {
   "cell_type": "markdown",
   "metadata": {},
   "source": [
    "DataFrame izquierdo ==> cant_nulos_provincia\n",
    "\n",
    "DataFrame derecho ==> cant_total_provincia"
   ]
  },
  {
   "cell_type": "code",
   "execution_count": 14,
   "metadata": {},
   "outputs": [],
   "source": [
    "df_joined = pd.merge(cant_nulos_provincia, cant_total_provincia, on='provincia', how = 'inner')"
   ]
  },
  {
   "cell_type": "code",
   "execution_count": 15,
   "metadata": {
    "scrolled": true
   },
   "outputs": [
    {
     "data": {
      "text/html": [
       "<div>\n",
       "<style scoped>\n",
       "    .dataframe tbody tr th:only-of-type {\n",
       "        vertical-align: middle;\n",
       "    }\n",
       "\n",
       "    .dataframe tbody tr th {\n",
       "        vertical-align: top;\n",
       "    }\n",
       "\n",
       "    .dataframe thead th {\n",
       "        text-align: right;\n",
       "    }\n",
       "</style>\n",
       "<table border=\"1\" class=\"dataframe\">\n",
       "  <thead>\n",
       "    <tr style=\"text-align: right;\">\n",
       "      <th></th>\n",
       "      <th>provincia</th>\n",
       "      <th>cant_nulos</th>\n",
       "      <th>cant_total</th>\n",
       "    </tr>\n",
       "  </thead>\n",
       "  <tbody>\n",
       "    <tr>\n",
       "      <th>0</th>\n",
       "      <td>Chihuahua</td>\n",
       "      <td>46</td>\n",
       "      <td>4590</td>\n",
       "    </tr>\n",
       "    <tr>\n",
       "      <th>1</th>\n",
       "      <td>Distrito Federal</td>\n",
       "      <td>20</td>\n",
       "      <td>58790</td>\n",
       "    </tr>\n",
       "    <tr>\n",
       "      <th>2</th>\n",
       "      <td>Durango</td>\n",
       "      <td>1</td>\n",
       "      <td>2275</td>\n",
       "    </tr>\n",
       "    <tr>\n",
       "      <th>3</th>\n",
       "      <td>Edo. de México</td>\n",
       "      <td>18</td>\n",
       "      <td>41607</td>\n",
       "    </tr>\n",
       "    <tr>\n",
       "      <th>4</th>\n",
       "      <td>Guanajuato</td>\n",
       "      <td>3</td>\n",
       "      <td>2860</td>\n",
       "    </tr>\n",
       "    <tr>\n",
       "      <th>5</th>\n",
       "      <td>Guerrero</td>\n",
       "      <td>3</td>\n",
       "      <td>2678</td>\n",
       "    </tr>\n",
       "    <tr>\n",
       "      <th>6</th>\n",
       "      <td>Jalisco</td>\n",
       "      <td>21</td>\n",
       "      <td>21238</td>\n",
       "    </tr>\n",
       "    <tr>\n",
       "      <th>7</th>\n",
       "      <td>Morelos</td>\n",
       "      <td>2</td>\n",
       "      <td>7337</td>\n",
       "    </tr>\n",
       "    <tr>\n",
       "      <th>8</th>\n",
       "      <td>Nuevo León</td>\n",
       "      <td>9</td>\n",
       "      <td>15324</td>\n",
       "    </tr>\n",
       "    <tr>\n",
       "      <th>9</th>\n",
       "      <td>Oaxaca</td>\n",
       "      <td>3</td>\n",
       "      <td>711</td>\n",
       "    </tr>\n",
       "    <tr>\n",
       "      <th>10</th>\n",
       "      <td>Puebla</td>\n",
       "      <td>5</td>\n",
       "      <td>10421</td>\n",
       "    </tr>\n",
       "    <tr>\n",
       "      <th>11</th>\n",
       "      <td>Querétaro</td>\n",
       "      <td>8</td>\n",
       "      <td>16988</td>\n",
       "    </tr>\n",
       "    <tr>\n",
       "      <th>12</th>\n",
       "      <td>Quintana Roo</td>\n",
       "      <td>17</td>\n",
       "      <td>4756</td>\n",
       "    </tr>\n",
       "    <tr>\n",
       "      <th>13</th>\n",
       "      <td>San luis Potosí</td>\n",
       "      <td>47</td>\n",
       "      <td>8447</td>\n",
       "    </tr>\n",
       "    <tr>\n",
       "      <th>14</th>\n",
       "      <td>Tabasco</td>\n",
       "      <td>1</td>\n",
       "      <td>994</td>\n",
       "    </tr>\n",
       "    <tr>\n",
       "      <th>15</th>\n",
       "      <td>Tamaulipas</td>\n",
       "      <td>7</td>\n",
       "      <td>2303</td>\n",
       "    </tr>\n",
       "    <tr>\n",
       "      <th>16</th>\n",
       "      <td>Veracruz</td>\n",
       "      <td>6</td>\n",
       "      <td>5762</td>\n",
       "    </tr>\n",
       "  </tbody>\n",
       "</table>\n",
       "</div>"
      ],
      "text/plain": [
       "           provincia  cant_nulos  cant_total\n",
       "0          Chihuahua          46        4590\n",
       "1   Distrito Federal          20       58790\n",
       "2            Durango           1        2275\n",
       "3     Edo. de México          18       41607\n",
       "4         Guanajuato           3        2860\n",
       "5           Guerrero           3        2678\n",
       "6            Jalisco          21       21238\n",
       "7            Morelos           2        7337\n",
       "8         Nuevo León           9       15324\n",
       "9             Oaxaca           3         711\n",
       "10            Puebla           5       10421\n",
       "11         Querétaro           8       16988\n",
       "12      Quintana Roo          17        4756\n",
       "13   San luis Potosí          47        8447\n",
       "14           Tabasco           1         994\n",
       "15        Tamaulipas           7        2303\n",
       "16          Veracruz           6        5762"
      ]
     },
     "execution_count": 15,
     "metadata": {},
     "output_type": "execute_result"
    }
   ],
   "source": [
    "df_joined = df_joined.loc[df_joined['cant_nulos'] != 0].copy()\n",
    "df_joined.reset_index(drop = True, inplace = True)\n",
    "# Ya se tiene un DataFrame para calcular la proporción de los valores nulos en los totales (por provincia)\n",
    "df_joined"
   ]
  },
  {
   "cell_type": "markdown",
   "metadata": {},
   "source": [
    "## Agrego columna de proporciones"
   ]
  },
  {
   "cell_type": "code",
   "execution_count": 30,
   "metadata": {},
   "outputs": [
    {
     "data": {
      "text/html": [
       "<div>\n",
       "<style scoped>\n",
       "    .dataframe tbody tr th:only-of-type {\n",
       "        vertical-align: middle;\n",
       "    }\n",
       "\n",
       "    .dataframe tbody tr th {\n",
       "        vertical-align: top;\n",
       "    }\n",
       "\n",
       "    .dataframe thead th {\n",
       "        text-align: right;\n",
       "    }\n",
       "</style>\n",
       "<table border=\"1\" class=\"dataframe\">\n",
       "  <thead>\n",
       "    <tr style=\"text-align: right;\">\n",
       "      <th></th>\n",
       "      <th>provincia</th>\n",
       "      <th>cant_nulos</th>\n",
       "      <th>cant_total</th>\n",
       "      <th>propor_nulos [%]</th>\n",
       "    </tr>\n",
       "  </thead>\n",
       "  <tbody>\n",
       "    <tr>\n",
       "      <th>0</th>\n",
       "      <td>Chihuahua</td>\n",
       "      <td>46</td>\n",
       "      <td>4590</td>\n",
       "      <td>1.00</td>\n",
       "    </tr>\n",
       "    <tr>\n",
       "      <th>1</th>\n",
       "      <td>Distrito Federal</td>\n",
       "      <td>20</td>\n",
       "      <td>58790</td>\n",
       "      <td>0.03</td>\n",
       "    </tr>\n",
       "    <tr>\n",
       "      <th>2</th>\n",
       "      <td>Durango</td>\n",
       "      <td>1</td>\n",
       "      <td>2275</td>\n",
       "      <td>0.04</td>\n",
       "    </tr>\n",
       "    <tr>\n",
       "      <th>3</th>\n",
       "      <td>Edo. de México</td>\n",
       "      <td>18</td>\n",
       "      <td>41607</td>\n",
       "      <td>0.04</td>\n",
       "    </tr>\n",
       "    <tr>\n",
       "      <th>4</th>\n",
       "      <td>Guanajuato</td>\n",
       "      <td>3</td>\n",
       "      <td>2860</td>\n",
       "      <td>0.10</td>\n",
       "    </tr>\n",
       "    <tr>\n",
       "      <th>5</th>\n",
       "      <td>Guerrero</td>\n",
       "      <td>3</td>\n",
       "      <td>2678</td>\n",
       "      <td>0.11</td>\n",
       "    </tr>\n",
       "    <tr>\n",
       "      <th>6</th>\n",
       "      <td>Jalisco</td>\n",
       "      <td>21</td>\n",
       "      <td>21238</td>\n",
       "      <td>0.10</td>\n",
       "    </tr>\n",
       "    <tr>\n",
       "      <th>7</th>\n",
       "      <td>Morelos</td>\n",
       "      <td>2</td>\n",
       "      <td>7337</td>\n",
       "      <td>0.03</td>\n",
       "    </tr>\n",
       "    <tr>\n",
       "      <th>8</th>\n",
       "      <td>Nuevo León</td>\n",
       "      <td>9</td>\n",
       "      <td>15324</td>\n",
       "      <td>0.06</td>\n",
       "    </tr>\n",
       "    <tr>\n",
       "      <th>9</th>\n",
       "      <td>Oaxaca</td>\n",
       "      <td>3</td>\n",
       "      <td>711</td>\n",
       "      <td>0.42</td>\n",
       "    </tr>\n",
       "    <tr>\n",
       "      <th>10</th>\n",
       "      <td>Puebla</td>\n",
       "      <td>5</td>\n",
       "      <td>10421</td>\n",
       "      <td>0.05</td>\n",
       "    </tr>\n",
       "    <tr>\n",
       "      <th>11</th>\n",
       "      <td>Querétaro</td>\n",
       "      <td>8</td>\n",
       "      <td>16988</td>\n",
       "      <td>0.05</td>\n",
       "    </tr>\n",
       "    <tr>\n",
       "      <th>12</th>\n",
       "      <td>Quintana Roo</td>\n",
       "      <td>17</td>\n",
       "      <td>4756</td>\n",
       "      <td>0.36</td>\n",
       "    </tr>\n",
       "    <tr>\n",
       "      <th>13</th>\n",
       "      <td>San luis Potosí</td>\n",
       "      <td>47</td>\n",
       "      <td>8447</td>\n",
       "      <td>0.56</td>\n",
       "    </tr>\n",
       "    <tr>\n",
       "      <th>14</th>\n",
       "      <td>Tabasco</td>\n",
       "      <td>1</td>\n",
       "      <td>994</td>\n",
       "      <td>0.10</td>\n",
       "    </tr>\n",
       "    <tr>\n",
       "      <th>15</th>\n",
       "      <td>Tamaulipas</td>\n",
       "      <td>7</td>\n",
       "      <td>2303</td>\n",
       "      <td>0.30</td>\n",
       "    </tr>\n",
       "    <tr>\n",
       "      <th>16</th>\n",
       "      <td>Veracruz</td>\n",
       "      <td>6</td>\n",
       "      <td>5762</td>\n",
       "      <td>0.10</td>\n",
       "    </tr>\n",
       "  </tbody>\n",
       "</table>\n",
       "</div>"
      ],
      "text/plain": [
       "           provincia  cant_nulos  cant_total  propor_nulos [%]\n",
       "0          Chihuahua          46        4590              1.00\n",
       "1   Distrito Federal          20       58790              0.03\n",
       "2            Durango           1        2275              0.04\n",
       "3     Edo. de México          18       41607              0.04\n",
       "4         Guanajuato           3        2860              0.10\n",
       "5           Guerrero           3        2678              0.11\n",
       "6            Jalisco          21       21238              0.10\n",
       "7            Morelos           2        7337              0.03\n",
       "8         Nuevo León           9       15324              0.06\n",
       "9             Oaxaca           3         711              0.42\n",
       "10            Puebla           5       10421              0.05\n",
       "11         Querétaro           8       16988              0.05\n",
       "12      Quintana Roo          17        4756              0.36\n",
       "13   San luis Potosí          47        8447              0.56\n",
       "14           Tabasco           1         994              0.10\n",
       "15        Tamaulipas           7        2303              0.30\n",
       "16          Veracruz           6        5762              0.10"
      ]
     },
     "execution_count": 30,
     "metadata": {},
     "output_type": "execute_result"
    }
   ],
   "source": [
    "df_joined['propor_nulos [%]'] = df_joined['cant_nulos'] / df_joined['cant_total'] * 100\n",
    "# Se redondea a dos decimales\n",
    "df_joined['propor_nulos [%]'] = df_joined['propor_nulos [%]'].round(2)\n",
    "df_joined"
   ]
  },
  {
   "cell_type": "code",
   "execution_count": 50,
   "metadata": {},
   "outputs": [
    {
     "data": {
      "image/png": "[encoded data removed]",
      "text/plain": [
       "<Figure size 1080x360 with 1 Axes>"
      ]
     },
     "metadata": {
      "needs_background": "light"
     },
     "output_type": "display_data"
    }
   ],
   "source": [
    "### Visualización de proporción de datos nulos. PUEDE NO SER NECESARIO\n",
    "plt.figure(figsize = (15,5))\n",
    "\n",
    "prov_tot = df_joined['cant_total']\n",
    "prov_nul = df_joined['cant_nulos']\n",
    "ancho = 0.5\n",
    "ind = df_joined['provincia']\n",
    "p1 = plt.bar(ind, prov_tot, ancho)\n",
    "p2 = plt.bar(ind, prov_nul, ancho)\n",
    "plt.xticks(rotation = 45, fontsize = 12)\n",
    "\n",
    "plt.show()"
   ]
  },
  {
   "cell_type": "markdown",
   "metadata": {},
   "source": [
    "Se ve que no representan más del 1% de los casos totales. Enonces se pueden eliminar."
   ]
  },
  {
   "cell_type": "code",
   "execution_count": 17,
   "metadata": {
    "scrolled": true
   },
   "outputs": [
    {
     "data": {
      "text/plain": [
       "ciudad                        217\n",
       "provincia                       0\n",
       "gimnasio                        0\n",
       "usosmultiples                   0\n",
       "piscina                         0\n",
       "escuelascercanas                0\n",
       "centroscomercialescercanos      0\n",
       "precio                          0\n",
       "dtype: int64"
      ]
     },
     "execution_count": 17,
     "metadata": {},
     "output_type": "execute_result"
    }
   ],
   "source": [
    "df_abool.isnull().sum()"
   ]
  },
  {
   "cell_type": "code",
   "execution_count": 18,
   "metadata": {},
   "outputs": [
    {
     "data": {
      "text/plain": [
       "(239845, 8)"
      ]
     },
     "execution_count": 18,
     "metadata": {},
     "output_type": "execute_result"
    }
   ],
   "source": [
    "df_abool.shape"
   ]
  },
  {
   "cell_type": "code",
   "execution_count": 19,
   "metadata": {
    "scrolled": true
   },
   "outputs": [
    {
     "data": {
      "text/plain": [
       "ciudad                        0\n",
       "provincia                     0\n",
       "gimnasio                      0\n",
       "usosmultiples                 0\n",
       "piscina                       0\n",
       "escuelascercanas              0\n",
       "centroscomercialescercanos    0\n",
       "precio                        0\n",
       "dtype: int64"
      ]
     },
     "execution_count": 19,
     "metadata": {},
     "output_type": "execute_result"
    }
   ],
   "source": [
    "df_abool.dropna(inplace = True)\n",
    "df_abool.isnull().sum()"
   ]
  },
  {
   "cell_type": "code",
   "execution_count": 20,
   "metadata": {
    "scrolled": true
   },
   "outputs": [
    {
     "data": {
      "text/plain": [
       "(239628, 8)"
      ]
     },
     "execution_count": 20,
     "metadata": {},
     "output_type": "execute_result"
    }
   ],
   "source": [
    "df_abool.shape"
   ]
  },
  {
   "cell_type": "code",
   "execution_count": 21,
   "metadata": {},
   "outputs": [
    {
     "name": "stdout",
     "output_type": "stream",
     "text": [
      "Media del precio de las propiedades con gimnasio $ 3812891\n",
      "Media del precio de las propiedades sin gimnasio $ 2445053\n",
      "\n"
     ]
    },
    {
     "data": {
      "image/png": "[encoded data removed]",
      "text/plain": [
       "<Figure size 504x360 with 1 Axes>"
      ]
     },
     "metadata": {
      "needs_background": "light"
     },
     "output_type": "display_data"
    }
   ],
   "source": [
    "# Comparación directa de los servicios y disponibilidades de las propiedades\n",
    "\n",
    "print('Media del precio de las propiedades con gimnasio $ {:.0f}'\n",
    "      .format(df_abool.loc[df_abool['gimnasio'] == True]['precio'].mean()))\n",
    "\n",
    "print('Media del precio de las propiedades sin gimnasio $ {:.0f}\\n'\n",
    "      .format(df_abool.loc[df_abool['gimnasio'] == False]['precio'].mean()))\n",
    "\n",
    "fig_1 = plt.figure(1, figsize = (7,5))\n",
    "sub_fig = fig_1.add_subplot(111)\n",
    "plt.xticks(fontsize = 20)\n",
    "plt.yticks(fontsize = 20)\n",
    "sub_fig.yaxis.set_major_formatter(FormatStrFormatter('$%.0f'))\n",
    "plt.title(\"Comodidad: Gimnasio\", fontsize = 30)\n",
    "sub_fig.set_xlabel('Disponibilidad', fontsize = 28)\n",
    "box_plot = sub_fig.boxplot([df_abool.loc[df_abool['gimnasio'] == True]['precio'], \n",
    "                            df_abool.loc[df_abool['gimnasio'] == False]['precio']],\n",
    "                           labels = ['con Gimnasio', 'sin Gimnasio'],\n",
    "                           widths = 0.8)"
   ]
  },
  {
   "cell_type": "code",
   "execution_count": 22,
   "metadata": {},
   "outputs": [
    {
     "name": "stdout",
     "output_type": "stream",
     "text": [
      "Media del precio de las propiedades con SUM $ 3826889\n",
      "Media del precio de las propiedades sin SUM $ 2454917\n",
      "\n"
     ]
    },
    {
     "data": {
      "image/png": "[encoded data removed]",
      "text/plain": [
       "<Figure size 504x360 with 1 Axes>"
      ]
     },
     "metadata": {
      "needs_background": "light"
     },
     "output_type": "display_data"
    }
   ],
   "source": [
    "print('Media del precio de las propiedades con SUM $ {:.0f}'\n",
    "      .format(df_abool.loc[df_abool['usosmultiples'] == True]['precio'].mean()))\n",
    "\n",
    "print('Media del precio de las propiedades sin SUM $ {:.0f}\\n'\n",
    "      .format(df_abool.loc[df_abool['usosmultiples'] == False]['precio'].mean()))\n",
    "\n",
    "fig_2 = plt.figure(1, figsize = (7,5))\n",
    "sub_fig = fig_2.add_subplot(111)\n",
    "plt.xticks(fontsize = 20)\n",
    "plt.yticks(fontsize = 20)\n",
    "sub_fig.yaxis.set_major_formatter(FormatStrFormatter('$%.0f'))\n",
    "plt.title(\"Comodidad: Salón de Usos Múltiples\", fontsize = 30)\n",
    "sub_fig.set_xlabel('Disponibilidad', fontsize = 28)\n",
    "box_plot = sub_fig.boxplot([df_abool.loc[df_abool['usosmultiples'] == True]['precio'], \n",
    "                            df_abool.loc[df_abool['usosmultiples'] == False]['precio']],\n",
    "                           labels = ['con SUM', 'sin SUM'],\n",
    "                           widths = 0.8)"
   ]
  },
  {
   "cell_type": "code",
   "execution_count": 23,
   "metadata": {},
   "outputs": [
    {
     "name": "stdout",
     "output_type": "stream",
     "text": [
      "Media del precio de las propiedades con piscina $ 3315052\n",
      "Media del precio de las propiedades sin piscina $ 2455453\n",
      "\n"
     ]
    },
    {
     "data": {
      "image/png": "[encoded data removed]",
      "text/plain": [
       "<Figure size 504x360 with 1 Axes>"
      ]
     },
     "metadata": {
      "needs_background": "light"
     },
     "output_type": "display_data"
    }
   ],
   "source": [
    "print('Media del precio de las propiedades con piscina $ {:.0f}'\n",
    "      .format(df_abool.loc[df_abool['piscina'] == True]['precio'].mean()))\n",
    "\n",
    "print('Media del precio de las propiedades sin piscina $ {:.0f}\\n'\n",
    "      .format(df_abool.loc[df_abool['piscina'] == False]['precio'].mean()))\n",
    "\n",
    "fig_3 = plt.figure(1, figsize = (7,5))\n",
    "sub_fig = fig_3.add_subplot(111)\n",
    "plt.xticks(fontsize = 20)\n",
    "plt.yticks(fontsize = 20)\n",
    "sub_fig.yaxis.set_major_formatter(FormatStrFormatter('$%.0f'))\n",
    "plt.title(\"Comodidad: Piscina\", fontsize = 30)\n",
    "sub_fig.set_xlabel('Disponibilidad', fontsize = 28)\n",
    "box_plot = sub_fig.boxplot([df_abool.loc[df_abool['piscina'] == True]['precio'],\n",
    "                            df_abool.loc[df_abool['piscina'] == False]['precio']],\n",
    "                           labels = ['con piscina', 'sin piscina'],\n",
    "                           widths = 0.8)"
   ]
  },
  {
   "cell_type": "code",
   "execution_count": 24,
   "metadata": {},
   "outputs": [
    {
     "name": "stdout",
     "output_type": "stream",
     "text": [
      "Media del precio de las propiedades con escuelas cercanas $ 2533456\n",
      "Media del precio de las propiedades sin escuelas cercanas $ 2528336\n",
      "\n"
     ]
    },
    {
     "data": {
      "image/png": "[encoded data removed]",
      "text/plain": [
       "<Figure size 504x360 with 1 Axes>"
      ]
     },
     "metadata": {
      "needs_background": "light"
     },
     "output_type": "display_data"
    }
   ],
   "source": [
    "print('Media del precio de las propiedades con escuelas cercanas $ {:.0f}'\n",
    "      .format(df_abool.loc[df_abool['escuelascercanas'] == True]['precio'].mean()))\n",
    "\n",
    "print('Media del precio de las propiedades sin escuelas cercanas $ {:.0f}\\n'\n",
    "      .format(df_abool.loc[df_abool['escuelascercanas'] == False]['precio'].mean()))\n",
    "\n",
    "fig_4 = plt.figure(1, figsize = (7,5))\n",
    "sub_fig = fig_4.add_subplot(111)\n",
    "plt.xticks(fontsize = 20)\n",
    "plt.yticks(fontsize = 20)\n",
    "sub_fig.yaxis.set_major_formatter(FormatStrFormatter('$%.0f'))\n",
    "plt.title(\"Comodidad: Cercanía a Escuelas\", fontsize = 30)\n",
    "sub_fig.set_xlabel('Disponibilidad', fontsize = 28)\n",
    "box_plot = sub_fig.boxplot([df_abool.loc[df_abool['escuelascercanas'] == True]['precio'],\n",
    "                            df_abool.loc[df_abool['escuelascercanas'] == False]['precio']],\n",
    "                           labels = ['con comodidad', 'sin comodidad'],\n",
    "                           widths = 0.8)"
   ]
  },
  {
   "cell_type": "code",
   "execution_count": 25,
   "metadata": {},
   "outputs": [
    {
     "name": "stdout",
     "output_type": "stream",
     "text": [
      "Media del precio de las propiedades con centros comerciales cencanos $ 2605484\n",
      "Media del precio de las propiedades sin centros comerciales cencanos $ 2481294\n",
      "\n"
     ]
    },
    {
     "data": {
      "image/png": "[encoded data removed]",
      "text/plain": [
       "<Figure size 504x360 with 1 Axes>"
      ]
     },
     "metadata": {
      "needs_background": "light"
     },
     "output_type": "display_data"
    }
   ],
   "source": [
    "print('Media del precio de las propiedades con centros comerciales cencanos $ {:.0f}'\n",
    "      .format(df_abool.loc[df_abool['centroscomercialescercanos'] == True]['precio'].mean()))\n",
    "\n",
    "print('Media del precio de las propiedades sin centros comerciales cencanos $ {:.0f}\\n'\n",
    "      .format(df_abool.loc[df_abool['centroscomercialescercanos'] == False]['precio'].mean()))\n",
    "\n",
    "fig_5 = plt.figure(1, figsize = (7,5))\n",
    "sub_fig = fig_5.add_subplot(111)\n",
    "plt.xticks(rotation = 0, fontsize = 20)\n",
    "plt.yticks(fontsize = 20)\n",
    "# Para formatear los ejes\n",
    "sub_fig.yaxis.set_major_formatter(FormatStrFormatter('$%.0f'))\n",
    "plt.title(\"Comodidad: Cercanía a Centros Comerciales\", fontsize = 30)\n",
    "sub_fig.set_xlabel('Disponibilidad', fontsize = 28)\n",
    "box_plot = sub_fig.boxplot([df_abool.loc[df_abool['centroscomercialescercanos'] == True]['precio'],\n",
    "                            df_abool.loc[df_abool['centroscomercialescercanos'] == False]['precio']],\n",
    "                           labels = ['con comodidad', 'sin comodidad'],\n",
    "                           widths = 0.8)"
   ]
  },
  {
   "cell_type": "code",
   "execution_count": 26,
   "metadata": {},
   "outputs": [],
   "source": [
    "solo_gimnasio = df_abool.loc[(df_abool['gimnasio'] == True) & \n",
    "                             (df_abool['usosmultiples'] == False) & \n",
    "                             (df_abool['piscina'] == False)]\n",
    "\n",
    "solo_sum = df_abool.loc[(df_abool['gimnasio'] == False) & \n",
    "                        (df_abool['usosmultiples'] == True) & \n",
    "                        (df_abool['piscina'] == False)]\n",
    "\n",
    "solo_piscina = df_abool.loc[(df_abool['gimnasio'] == False) & \n",
    "                            (df_abool['usosmultiples'] == False) & \n",
    "                            (df_abool['piscina'] == True)]"
   ]
  },
  {
   "cell_type": "code",
   "execution_count": 27,
   "metadata": {},
   "outputs": [
    {
     "name": "stdout",
     "output_type": "stream",
     "text": [
      "Media del precio de las propiedades con solo Gimnasio $ 3056434\n",
      "Media del precio de las propiedades con solo SUM $ 3593696\n",
      "Media del precio de las propiedades con solo Piscina $ 2719016\n"
     ]
    }
   ],
   "source": [
    "# Solo con SUM\n",
    "\n",
    "print('Media del precio de las propiedades con solo Gimnasio $ {:.0f}'\n",
    "      .format(solo_gimnasio['precio'].mean()))\n",
    "\n",
    "print('Media del precio de las propiedades con solo SUM $ {:.0f}'\n",
    "      .format(solo_sum['precio'].mean()))\n",
    "\n",
    "print('Media del precio de las propiedades con solo Piscina $ {:.0f}'\n",
    "      .format(solo_piscina['precio'].mean()))"
   ]
  },
  {
   "cell_type": "code",
   "execution_count": 28,
   "metadata": {
    "scrolled": true
   },
   "outputs": [
    {
     "data": {
      "image/png": "[encoded data removed]",
      "text/plain": [
       "<Figure size 504x360 with 1 Axes>"
      ]
     },
     "metadata": {
      "needs_background": "light"
     },
     "output_type": "display_data"
    }
   ],
   "source": [
    "# Análisis por exclusión de las distintas comodidades\n",
    "fig_6 = plt.figure(6, figsize = (7,5))\n",
    "sub_fig = fig_6.add_subplot(111)\n",
    "plt.xticks(rotation = 0, fontsize = 20)\n",
    "plt.yticks(fontsize = 20)\n",
    "# Para formatear los ejes\n",
    "sub_fig.yaxis.set_major_formatter(FormatStrFormatter('$%.0f'))\n",
    "plt.title(\"Variación de precios por Comodidad exclusiva incluída\", fontsize = 30)\n",
    "box_plot = sub_fig.boxplot([solo_gimnasio['precio'], solo_sum['precio'], solo_piscina['precio']],\n",
    "                           labels = ['gimnasio', 'sum','piscina'],\n",
    "                           widths = 0.8)"
   ]
  },
  {
   "cell_type": "code",
   "execution_count": 29,
   "metadata": {},
   "outputs": [
    {
     "data": {
      "text/plain": [
       "(239628, 8)"
      ]
     },
     "execution_count": 29,
     "metadata": {},
     "output_type": "execute_result"
    }
   ],
   "source": [
    "df_abool.shape"
   ]
  }
 ],
 "metadata": {
  "kernelspec": {
   "display_name": "Python 3",
   "language": "python",
   "name": "python3"
  },
  "language_info": {
   "codemirror_mode": {
    "name": "ipython",
    "version": 3
   },
   "file_extension": ".py",
   "mimetype": "text/x-python",
   "name": "python",
   "nbconvert_exporter": "python",
   "pygments_lexer": "ipython3",
   "version": "3.7.4"
  }
 },
 "nbformat": 4,
 "nbformat_minor": 2
}
