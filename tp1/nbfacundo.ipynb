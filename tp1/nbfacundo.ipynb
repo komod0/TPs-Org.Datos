{
 "cells": [
  {
   "cell_type": "code",
   "execution_count": 1,
   "metadata": {},
   "outputs": [],
   "source": [
    "import numpy as np\n",
    "import pandas as pd\n",
    "import matplotlib.pyplot as plt"
   ]
  },
  {
   "cell_type": "code",
   "execution_count": 2,
   "metadata": {},
   "outputs": [],
   "source": [
    "# Visualiza las 23 columnas\n",
    "pd.set_option('display.max_columns', 23)\n",
    "# Carga del CSV en un DataFrame df (usando como delimitador la coma ',')\n",
    "df = pd.read_csv('train.csv')"
   ]
  },
  {
   "cell_type": "code",
   "execution_count": 3,
   "metadata": {},
   "outputs": [
    {
     "name": "stdout",
     "output_type": "stream",
     "text": [
      "Index(['gimnasio', 'usosmultiples', 'piscina', 'escuelascercanas',\n",
      "       'centroscomercialescercanos', 'precio'],\n",
      "      dtype='object')\n"
     ]
    }
   ],
   "source": [
    "# Análisis de los valores booleanos (y cómo varía el precio respecto a ellos)\n",
    "# print(df.columns) # Devuelve una serie con lon nombres de las columnas\n",
    "columnas = df.columns[17:23] \n",
    "# columnas = ['gimnasio', 'usosmultiples', 'piscina', 'escuelascercanas', 'centroscomercialescercanos', 'precio']\n",
    "print(columnas)"
   ]
  },
  {
   "cell_type": "code",
   "execution_count": 4,
   "metadata": {
    "scrolled": true
   },
   "outputs": [
    {
     "name": "stdout",
     "output_type": "stream",
     "text": [
      "Total memoria usada sin cambios de tipos 10.99 MB\n",
      "Total memoria usada sin cambios de tipos 2.06 MB\n"
     ]
    }
   ],
   "source": [
    "# Se indica en el Análisis exploratorio de Navent que, de las columnas usadas anterioremente,\n",
    "# el precio se representa con enteros y las demás columnas son Booleanas\n",
    "\n",
    "# Se crea un nuevo DataFrame df_abool que copia columnas de interés del DataFrame original\n",
    "df_abool = df[columnas].copy()\n",
    "memoria_usada = df_abool.memory_usage()\n",
    "print('Total memoria usada sin cambios de tipos {:.2f}'.format(memoria_usada.sum()/1024/1024), 'MB')\n",
    "# Se convierten lo tipos de datos a los requeridos\n",
    "df_abool['gimnasio'] = df_abool['gimnasio'].astype(np.bool)\n",
    "df_abool['usosmultiples'] = df_abool['usosmultiples'].astype(np.bool)\n",
    "df_abool['piscina'] = df_abool['piscina'].astype(np.bool)\n",
    "df_abool['escuelascercanas'] = df_abool['escuelascercanas'].astype(np.bool)\n",
    "df_abool['centroscomercialescercanos'] = df_abool['centroscomercialescercanos'].astype(np.bool)\n",
    "df_abool['precio'] = df_abool['precio'].astype(np.uint32)\n",
    "print('Total memoria usada sin cambios de tipos {0:.2f}'.format(df_abool.memory_usage().sum()/1024/1024), 'MB')"
   ]
  },
  {
   "cell_type": "code",
   "execution_count": 5,
   "metadata": {},
   "outputs": [
    {
     "name": "stdout",
     "output_type": "stream",
     "text": [
      "Media del precio de las propiedades con gimnasio $ 3814127\n",
      "Media del precio de las propiedades sin gimnasio $ 2445322\n",
      "\n"
     ]
    },
    {
     "data": {
      "image/png": "[encoded data removed]",
      "text/plain": [
       "<Figure size 504x360 with 1 Axes>"
      ]
     },
     "metadata": {
      "needs_background": "light"
     },
     "output_type": "display_data"
    }
   ],
   "source": [
    "# Comparación directa de los servicios y disponibilidades de las propiedades\n",
    "\n",
    "print('Media del precio de las propiedades con gimnasio $ {:.0f}'\n",
    "      .format(df_abool.loc[df_abool['gimnasio'] == True]['precio'].mean()))\n",
    "\n",
    "print('Media del precio de las propiedades sin gimnasio $ {:.0f}\\n'\n",
    "      .format(df_abool.loc[df_abool['gimnasio'] == False]['precio'].mean()))\n",
    "\n",
    "fig_1 = plt.figure(1, figsize = (7,5))\n",
    "sub_fig = fig_1.add_subplot(111)\n",
    "box_plot1 = sub_fig.boxplot([df_abool.loc[df_abool['gimnasio'] == True]['precio'], df_abool.loc[df_abool['gimnasio'] == False]['precio']],\n",
    "           labels = ['con', 'sin'])"
   ]
  },
  {
   "cell_type": "code",
   "execution_count": 6,
   "metadata": {},
   "outputs": [
    {
     "name": "stdout",
     "output_type": "stream",
     "text": [
      "Media del precio de las propiedades con SUM $ 3827091\n",
      "Media del precio de las propiedades sin SUM $ 2455262\n",
      "\n",
      "Media del precio de las propiedades con piscina $ 3314903\n",
      "Media del precio de las propiedades sin piscina $ 2455764\n",
      "\n",
      "Media del precio de las propiedades con escuelas cercanas $ 2533698\n",
      "Media del precio de las propiedades sin escuelas cercanas $ 2528554\n",
      "\n",
      "Media del precio de las propiedades con centros comerciales cencanos $ 2605529\n",
      "Media del precio de las propiedades sin centros comerciales cencanos $ 2481760\n",
      "\n"
     ]
    }
   ],
   "source": [
    "print('Media del precio de las propiedades con SUM $ {:.0f}'\n",
    "      .format(df_abool.loc[df_abool['usosmultiples'] == True]['precio'].mean()))\n",
    "\n",
    "print('Media del precio de las propiedades sin SUM $ {:.0f}\\n'\n",
    "      .format(df_abool.loc[df_abool['usosmultiples'] == False]['precio'].mean()))\n",
    "\n",
    "print('Media del precio de las propiedades con piscina $ {:.0f}'\n",
    "      .format(df_abool.loc[df_abool['piscina'] == True]['precio'].mean()))\n",
    "\n",
    "print('Media del precio de las propiedades sin piscina $ {:.0f}\\n'\n",
    "      .format(df_abool.loc[df_abool['piscina'] == False]['precio'].mean()))\n",
    "\n",
    "print('Media del precio de las propiedades con escuelas cercanas $ {:.0f}'\n",
    "      .format(df_abool.loc[df_abool['escuelascercanas'] == True]['precio'].mean()))\n",
    "\n",
    "print('Media del precio de las propiedades sin escuelas cercanas $ {:.0f}\\n'\n",
    "      .format(df_abool.loc[df_abool['escuelascercanas'] == False]['precio'].mean()))\n",
    "\n",
    "print('Media del precio de las propiedades con centros comerciales cencanos $ {:.0f}'\n",
    "      .format(df_abool.loc[df_abool['centroscomercialescercanos'] == True]['precio'].mean()))\n",
    "\n",
    "print('Media del precio de las propiedades sin centros comerciales cencanos $ {:.0f}\\n'\n",
    "      .format(df_abool.loc[df_abool['centroscomercialescercanos'] == False]['precio'].mean()))"
   ]
  }
 ],
 "metadata": {
  "kernelspec": {
   "display_name": "Python 3",
   "language": "python",
   "name": "python3"
  },
  "language_info": {
   "codemirror_mode": {
    "name": "ipython",
    "version": 3
   },
   "file_extension": ".py",
   "mimetype": "text/x-python",
   "name": "python",
   "nbconvert_exporter": "python",
   "pygments_lexer": "ipython3",
   "version": "3.7.4"
  }
 },
 "nbformat": 4,
 "nbformat_minor": 2
}
