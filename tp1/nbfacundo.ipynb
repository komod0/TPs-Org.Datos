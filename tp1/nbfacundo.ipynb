{
 "cells": [
  {
   "cell_type": "code",
   "execution_count": 1,
   "metadata": {},
   "outputs": [],
   "source": [
    "import numpy as np\n",
    "import pandas as pd\n",
    "import matplotlib.pyplot as plt\n",
    "import seaborn as sb"
   ]
  },
  {
   "cell_type": "code",
   "execution_count": 2,
   "metadata": {},
   "outputs": [],
   "source": [
    "# Visualiza las 23 columnas\n",
    "pd.set_option('display.max_columns', 23)\n",
    "# Carga del CSV en un DataFrame df (usando como delimitador la coma ',')\n",
    "df = pd.read_csv('train.csv')"
   ]
  },
  {
   "cell_type": "code",
   "execution_count": 3,
   "metadata": {},
   "outputs": [
    {
     "name": "stdout",
     "output_type": "stream",
     "text": [
      "Index(['id', 'titulo', 'descripcion', 'tipodepropiedad', 'direccion', 'ciudad',\n",
      "       'provincia', 'antiguedad', 'habitaciones', 'garages', 'banos',\n",
      "       'metroscubiertos', 'metrostotales', 'idzona', 'lat', 'lng', 'fecha',\n",
      "       'gimnasio', 'usosmultiples', 'piscina', 'escuelascercanas',\n",
      "       'centroscomercialescercanos', 'precio'],\n",
      "      dtype='object')\n"
     ]
    }
   ],
   "source": [
    "columnas_iniciales = df.columns # Devuelve un índice\n",
    "print(columnas_iniciales)"
   ]
  },
  {
   "cell_type": "code",
   "execution_count": 4,
   "metadata": {},
   "outputs": [
    {
     "name": "stdout",
     "output_type": "stream",
     "text": [
      "Index(['ID', 'Titulo', 'Descripcion', 'TipoPropiedad', 'Direccion', 'Ciudad',\n",
      "       'Provincia', 'Antiguedad', 'CantHabitaciones', 'CantGarages',\n",
      "       'CantBanos', 'MetrosCuadradosCubiertos', 'MetrosCuadradosTotales',\n",
      "       'IDZona', 'Latitud', 'Longitud', 'Fecha', 'TieneGimnasio',\n",
      "       'TieneUsosMultiples', 'TienePileta', 'TieneEscuelasCerca',\n",
      "       'TieneShoppingsCerca', 'Precio'],\n",
      "      dtype='object')\n"
     ]
    }
   ],
   "source": [
    "# Se renombran las columnas\n",
    "nombresNuevos = {\n",
    "                 'id' : 'ID',\n",
    "                 'titulo' : 'Titulo',\n",
    "                 'descripcion' : 'Descripcion',\n",
    "                 'tipodepropiedad' : 'TipoPropiedad',\n",
    "                 'direccion' : 'Direccion',\n",
    "                 'ciudad' : 'Ciudad',\n",
    "                 'provincia' : 'Provincia',\n",
    "                 'antiguedad' : 'Antiguedad',\n",
    "                 'habitaciones' : 'CantHabitaciones',\n",
    "                 'garages' : 'CantGarages',\n",
    "                 'banos' : 'CantBanos',\n",
    "                 'metroscubiertos' : 'MetrosCuadradosCubiertos',\n",
    "                 'metrostotales' : 'MetrosCuadradosTotales',\n",
    "                 'idzona' : 'IDZona',\n",
    "                 'lat' : 'Latitud',\n",
    "                 'lng' : 'Longitud',\n",
    "                 'fecha' : 'Fecha',\n",
    "                 'gimnasio' : 'TieneGimnasio',\n",
    "                 'usosmultiples' : 'TieneUsosMultiples',\n",
    "                 'piscina' : 'TienePileta',\n",
    "                 'escuelascercanas' : 'TieneEscuelasCerca',\n",
    "                 'centroscomercialescercanos' : 'TieneShoppingsCerca',\n",
    "                 'precio' : 'Precio'\n",
    "                \n",
    "}\n",
    "\n",
    "dfok = df.rename(columns = nombresNuevos)\n",
    "columnas_renombradas = dfok.columns # Devuelve un índice\n",
    "print(columnas_renombradas)\n",
    "#columnas = dfok.columns # Devuelve un Índice\n",
    "#columnas = columnas.to_series() # Convierte el Índice a Serie\n",
    "# En este caso la Serie tiene un índice que coincide con los valores\n",
    "#print(columnas.index)\n",
    "#print('\\n', columnas.values)"
   ]
  },
  {
   "cell_type": "code",
   "execution_count": 5,
   "metadata": {},
   "outputs": [
    {
     "data": {
      "text/plain": [
       "Index(['ID', 'Titulo', 'TipoPropiedad', 'Precio', 'Fecha', 'Antiguedad',\n",
       "       'MetrosCuadradosCubiertos', 'MetrosCuadradosTotales', 'Descripcion',\n",
       "       'CantHabitaciones', 'CantGarages', 'CantBanos', 'IDZona', 'Direccion',\n",
       "       'Ciudad', 'Provincia', 'Latitud', 'Longitud', 'TieneGimnasio',\n",
       "       'TieneUsosMultiples', 'TienePileta', 'TieneEscuelasCerca',\n",
       "       'TieneShoppingsCerca'],\n",
       "      dtype='object')"
      ]
     },
     "execution_count": 5,
     "metadata": {},
     "output_type": "execute_result"
    }
   ],
   "source": [
    "# Se Reordenan las columnas\n",
    "nombresEnOrden = [\n",
    "                 'ID',\n",
    "                 'Titulo',\n",
    "                 'TipoPropiedad',\n",
    "                 'Precio',\n",
    "                 'Fecha',\n",
    "                 'Antiguedad',\n",
    "                 'MetrosCuadradosCubiertos',\n",
    "                 'MetrosCuadradosTotales',\n",
    "                 'Descripcion',\n",
    "                 \n",
    "                 'CantHabitaciones',\n",
    "                 'CantGarages',\n",
    "                 'CantBanos',\n",
    "               \n",
    "                 'IDZona',\n",
    "                 'Direccion',\n",
    "                 'Ciudad',\n",
    "                 'Provincia',\n",
    "                 'Latitud',\n",
    "                 'Longitud',\n",
    "                 \n",
    "                 'TieneGimnasio',\n",
    "                 'TieneUsosMultiples',\n",
    "                 'TienePileta',\n",
    "                 'TieneEscuelasCerca',\n",
    "                 'TieneShoppingsCerca'\n",
    "    ]                 \n",
    "\n",
    "dfok = dfok[nombresEnOrden]\n",
    "dfok.columns"
   ]
  },
  {
   "cell_type": "code",
   "execution_count": 6,
   "metadata": {},
   "outputs": [
    {
     "data": {
      "text/html": [
       "<div>\n",
       "<style scoped>\n",
       "    .dataframe tbody tr th:only-of-type {\n",
       "        vertical-align: middle;\n",
       "    }\n",
       "\n",
       "    .dataframe tbody tr th {\n",
       "        vertical-align: top;\n",
       "    }\n",
       "\n",
       "    .dataframe thead th {\n",
       "        text-align: right;\n",
       "    }\n",
       "</style>\n",
       "<table border=\"1\" class=\"dataframe\">\n",
       "  <thead>\n",
       "    <tr style=\"text-align: right;\">\n",
       "      <th></th>\n",
       "      <th>ID</th>\n",
       "      <th>Titulo</th>\n",
       "      <th>TipoPropiedad</th>\n",
       "      <th>Precio</th>\n",
       "      <th>Fecha</th>\n",
       "      <th>Antiguedad</th>\n",
       "      <th>MetrosCuadradosCubiertos</th>\n",
       "      <th>MetrosCuadradosTotales</th>\n",
       "      <th>Descripcion</th>\n",
       "      <th>CantHabitaciones</th>\n",
       "      <th>CantGarages</th>\n",
       "      <th>CantBanos</th>\n",
       "      <th>IDZona</th>\n",
       "      <th>Direccion</th>\n",
       "      <th>Ciudad</th>\n",
       "      <th>Provincia</th>\n",
       "      <th>Latitud</th>\n",
       "      <th>Longitud</th>\n",
       "      <th>TieneGimnasio</th>\n",
       "      <th>TieneUsosMultiples</th>\n",
       "      <th>TienePileta</th>\n",
       "      <th>TieneEscuelasCerca</th>\n",
       "      <th>TieneShoppingsCerca</th>\n",
       "    </tr>\n",
       "  </thead>\n",
       "  <tbody>\n",
       "    <tr>\n",
       "      <th>0</th>\n",
       "      <td>254099</td>\n",
       "      <td>depto. tipo a-402</td>\n",
       "      <td>Apartamento</td>\n",
       "      <td>2273000.0</td>\n",
       "      <td>2015-08-23 00:00:00</td>\n",
       "      <td>NaN</td>\n",
       "      <td>80.0</td>\n",
       "      <td>80.0</td>\n",
       "      <td>depto. interior de 80.15m2, consta de sala com...</td>\n",
       "      <td>2.0</td>\n",
       "      <td>1.0</td>\n",
       "      <td>2.0</td>\n",
       "      <td>23533.0</td>\n",
       "      <td>Avenida Division del Norte 2005</td>\n",
       "      <td>Benito Juárez</td>\n",
       "      <td>Distrito Federal</td>\n",
       "      <td>NaN</td>\n",
       "      <td>NaN</td>\n",
       "      <td>0.0</td>\n",
       "      <td>0.0</td>\n",
       "      <td>0.0</td>\n",
       "      <td>0.0</td>\n",
       "      <td>0.0</td>\n",
       "    </tr>\n",
       "    <tr>\n",
       "      <th>1</th>\n",
       "      <td>53461</td>\n",
       "      <td>condominio horizontal en venta</td>\n",
       "      <td>Casa en condominio</td>\n",
       "      <td>3600000.0</td>\n",
       "      <td>2013-06-28 00:00:00</td>\n",
       "      <td>10.0</td>\n",
       "      <td>268.0</td>\n",
       "      <td>180.0</td>\n",
       "      <td>&lt;p&gt;entre sonora y guerrero, atr&amp;aacute;s del h...</td>\n",
       "      <td>3.0</td>\n",
       "      <td>2.0</td>\n",
       "      <td>2.0</td>\n",
       "      <td>24514.0</td>\n",
       "      <td>AV. MEXICO</td>\n",
       "      <td>La Magdalena Contreras</td>\n",
       "      <td>Distrito Federal</td>\n",
       "      <td>19.310205</td>\n",
       "      <td>-99.227655</td>\n",
       "      <td>0.0</td>\n",
       "      <td>0.0</td>\n",
       "      <td>0.0</td>\n",
       "      <td>1.0</td>\n",
       "      <td>1.0</td>\n",
       "    </tr>\n",
       "    <tr>\n",
       "      <th>2</th>\n",
       "      <td>247984</td>\n",
       "      <td>casa en venta urbi 3 recamaras tonala</td>\n",
       "      <td>Casa</td>\n",
       "      <td>1200000.0</td>\n",
       "      <td>2015-10-17 00:00:00</td>\n",
       "      <td>5.0</td>\n",
       "      <td>144.0</td>\n",
       "      <td>166.0</td>\n",
       "      <td>descripcion \\nla mejor ubicacion residencial e...</td>\n",
       "      <td>3.0</td>\n",
       "      <td>2.0</td>\n",
       "      <td>2.0</td>\n",
       "      <td>48551.0</td>\n",
       "      <td>Urbi Tonala</td>\n",
       "      <td>Tonalá</td>\n",
       "      <td>Jalisco</td>\n",
       "      <td>NaN</td>\n",
       "      <td>NaN</td>\n",
       "      <td>0.0</td>\n",
       "      <td>0.0</td>\n",
       "      <td>0.0</td>\n",
       "      <td>0.0</td>\n",
       "      <td>0.0</td>\n",
       "    </tr>\n",
       "    <tr>\n",
       "      <th>3</th>\n",
       "      <td>209067</td>\n",
       "      <td>casa sola en toluca zinacantepec con credito i...</td>\n",
       "      <td>Casa</td>\n",
       "      <td>650000.0</td>\n",
       "      <td>2012-03-09 00:00:00</td>\n",
       "      <td>1.0</td>\n",
       "      <td>63.0</td>\n",
       "      <td>67.0</td>\n",
       "      <td>casa en privada con caseta de vigilancia casas...</td>\n",
       "      <td>2.0</td>\n",
       "      <td>1.0</td>\n",
       "      <td>1.0</td>\n",
       "      <td>53666.0</td>\n",
       "      <td>IGNACIO MANUEL ALTAMIRANO 128</td>\n",
       "      <td>Zinacantepec</td>\n",
       "      <td>Edo. de México</td>\n",
       "      <td>19.301890</td>\n",
       "      <td>-99.688015</td>\n",
       "      <td>0.0</td>\n",
       "      <td>0.0</td>\n",
       "      <td>0.0</td>\n",
       "      <td>1.0</td>\n",
       "      <td>1.0</td>\n",
       "    </tr>\n",
       "    <tr>\n",
       "      <th>4</th>\n",
       "      <td>185997</td>\n",
       "      <td>paseos del sol</td>\n",
       "      <td>Apartamento</td>\n",
       "      <td>1150000.0</td>\n",
       "      <td>2016-06-07 00:00:00</td>\n",
       "      <td>10.0</td>\n",
       "      <td>95.0</td>\n",
       "      <td>95.0</td>\n",
       "      <td>bonito departamento en excelentes condiciones ...</td>\n",
       "      <td>2.0</td>\n",
       "      <td>1.0</td>\n",
       "      <td>1.0</td>\n",
       "      <td>47835.0</td>\n",
       "      <td>PASEOS DEL SOL</td>\n",
       "      <td>Zapopan</td>\n",
       "      <td>Jalisco</td>\n",
       "      <td>NaN</td>\n",
       "      <td>NaN</td>\n",
       "      <td>0.0</td>\n",
       "      <td>0.0</td>\n",
       "      <td>0.0</td>\n",
       "      <td>0.0</td>\n",
       "      <td>0.0</td>\n",
       "    </tr>\n",
       "  </tbody>\n",
       "</table>\n",
       "</div>"
      ],
      "text/plain": [
       "       ID                                             Titulo  \\\n",
       "0  254099                                  depto. tipo a-402   \n",
       "1   53461                     condominio horizontal en venta   \n",
       "2  247984              casa en venta urbi 3 recamaras tonala   \n",
       "3  209067  casa sola en toluca zinacantepec con credito i...   \n",
       "4  185997                                     paseos del sol   \n",
       "\n",
       "        TipoPropiedad     Precio                Fecha  Antiguedad  \\\n",
       "0         Apartamento  2273000.0  2015-08-23 00:00:00         NaN   \n",
       "1  Casa en condominio  3600000.0  2013-06-28 00:00:00        10.0   \n",
       "2                Casa  1200000.0  2015-10-17 00:00:00         5.0   \n",
       "3                Casa   650000.0  2012-03-09 00:00:00         1.0   \n",
       "4         Apartamento  1150000.0  2016-06-07 00:00:00        10.0   \n",
       "\n",
       "   MetrosCuadradosCubiertos  MetrosCuadradosTotales  \\\n",
       "0                      80.0                    80.0   \n",
       "1                     268.0                   180.0   \n",
       "2                     144.0                   166.0   \n",
       "3                      63.0                    67.0   \n",
       "4                      95.0                    95.0   \n",
       "\n",
       "                                         Descripcion  CantHabitaciones  \\\n",
       "0  depto. interior de 80.15m2, consta de sala com...               2.0   \n",
       "1  <p>entre sonora y guerrero, atr&aacute;s del h...               3.0   \n",
       "2  descripcion \\nla mejor ubicacion residencial e...               3.0   \n",
       "3  casa en privada con caseta de vigilancia casas...               2.0   \n",
       "4  bonito departamento en excelentes condiciones ...               2.0   \n",
       "\n",
       "   CantGarages  CantBanos   IDZona                        Direccion  \\\n",
       "0          1.0        2.0  23533.0  Avenida Division del Norte 2005   \n",
       "1          2.0        2.0  24514.0                       AV. MEXICO   \n",
       "2          2.0        2.0  48551.0                      Urbi Tonala   \n",
       "3          1.0        1.0  53666.0    IGNACIO MANUEL ALTAMIRANO 128   \n",
       "4          1.0        1.0  47835.0                  PASEOS DEL SOL    \n",
       "\n",
       "                   Ciudad         Provincia    Latitud   Longitud  \\\n",
       "0           Benito Juárez  Distrito Federal        NaN        NaN   \n",
       "1  La Magdalena Contreras  Distrito Federal  19.310205 -99.227655   \n",
       "2                  Tonalá           Jalisco        NaN        NaN   \n",
       "3            Zinacantepec    Edo. de México  19.301890 -99.688015   \n",
       "4                 Zapopan           Jalisco        NaN        NaN   \n",
       "\n",
       "   TieneGimnasio  TieneUsosMultiples  TienePileta  TieneEscuelasCerca  \\\n",
       "0            0.0                 0.0          0.0                 0.0   \n",
       "1            0.0                 0.0          0.0                 1.0   \n",
       "2            0.0                 0.0          0.0                 0.0   \n",
       "3            0.0                 0.0          0.0                 1.0   \n",
       "4            0.0                 0.0          0.0                 0.0   \n",
       "\n",
       "   TieneShoppingsCerca  \n",
       "0                  0.0  \n",
       "1                  1.0  \n",
       "2                  0.0  \n",
       "3                  1.0  \n",
       "4                  0.0  "
      ]
     },
     "execution_count": 6,
     "metadata": {},
     "output_type": "execute_result"
    }
   ],
   "source": [
    "#dfok[['Antiguedad', 'Fecha']].head()\n",
    "dfok.head()"
   ]
  },
  {
   "cell_type": "code",
   "execution_count": 7,
   "metadata": {},
   "outputs": [
    {
     "name": "stdout",
     "output_type": "stream",
     "text": [
      "['Ciudad', 'Provincia', 'TieneGimnasio', 'TieneUsosMultiples', 'TienePileta', 'TieneEscuelasCerca', 'TieneShoppingsCerca', 'Precio']\n"
     ]
    }
   ],
   "source": [
    "# Análisis de los valores booleanos (y cómo varía el precio respecto a ellos)\n",
    "# print(df.columns) # Devuelve una serie con lon nombres de las columnas\n",
    "columnas = ['Ciudad',\n",
    "            'Provincia',\n",
    "            'TieneGimnasio',\n",
    "            'TieneUsosMultiples',\n",
    "            'TienePileta',\n",
    "            'TieneEscuelasCerca',\n",
    "            'TieneShoppingsCerca',\n",
    "            'Precio'] \n",
    "\n",
    "print(columnas)"
   ]
  },
  {
   "cell_type": "code",
   "execution_count": 8,
   "metadata": {
    "scrolled": true
   },
   "outputs": [
    {
     "name": "stdout",
     "output_type": "stream",
     "text": [
      "Total memoria usada sin cambios de tipos 14.65 MB\n",
      "Total memoria usada sin cambios de tipos 2.79 MB\n"
     ]
    }
   ],
   "source": [
    "# Se indica en el Análisis exploratorio de Navent que, de las columnas usadas anterioremente,\n",
    "# el precio se representa con enteros y las demás columnas son Booleanas\n",
    "\n",
    "# Se crea un nuevo DataFrame df_abool que copia columnas de interés del DataFrame original\n",
    "df_abool = dfok[columnas].copy()\n",
    "memoria_usada = df_abool.memory_usage()\n",
    "print('Total memoria usada sin cambios de tipos {:.2f}'.format(memoria_usada.sum()/1024/1024), 'MB')\n",
    "# Se convierten lo tipos de datos a los requeridos\n",
    "df_abool['TieneGimnasio'] = df_abool['TieneGimnasio'].astype(np.bool)\n",
    "df_abool['TieneUsosMultiples'] = df_abool['TieneUsosMultiples'].astype(np.bool)\n",
    "df_abool['TienePileta'] = df_abool['TienePileta'].astype(np.bool)\n",
    "df_abool['TieneEscuelasCerca'] = df_abool['TieneEscuelasCerca'].astype(np.bool)\n",
    "df_abool['TieneShoppingsCerca'] = df_abool['TieneShoppingsCerca'].astype(np.bool)\n",
    "\n",
    "df_abool['Precio'] = df_abool['Precio'].astype(np.uint32)\n",
    "\n",
    "df_abool['Ciudad'] = df_abool['Ciudad'].astype('category')\n",
    "df_abool['Provincia'] = df_abool['Provincia'].astype('category')\n",
    "\n",
    "print('Total memoria usada sin cambios de tipos {0:.2f}'.format(df_abool.memory_usage().sum()/1024/1024), 'MB')"
   ]
  },
  {
   "cell_type": "markdown",
   "metadata": {},
   "source": [
    "# Análisis de calidad de datos pertinentes"
   ]
  },
  {
   "cell_type": "code",
   "execution_count": 9,
   "metadata": {
    "scrolled": false
   },
   "outputs": [
    {
     "data": {
      "text/plain": [
       "Ciudad                 372\n",
       "Provincia              155\n",
       "TieneGimnasio            0\n",
       "TieneUsosMultiples       0\n",
       "TienePileta              0\n",
       "TieneEscuelasCerca       0\n",
       "TieneShoppingsCerca      0\n",
       "Precio                   0\n",
       "dtype: int64"
      ]
     },
     "execution_count": 9,
     "metadata": {},
     "output_type": "execute_result"
    }
   ],
   "source": [
    "# Análisis de calidad de datos\n",
    "df_abool.isnull().sum()"
   ]
  },
  {
   "cell_type": "markdown",
   "metadata": {},
   "source": [
    "Verifico si hay alguna relación entre los valores nulos de provincias y ciudades"
   ]
  },
  {
   "cell_type": "code",
   "execution_count": 10,
   "metadata": {},
   "outputs": [
    {
     "data": {
      "text/plain": [
       "Ciudad                 155\n",
       "Provincia              155\n",
       "TieneGimnasio            0\n",
       "TieneUsosMultiples       0\n",
       "TienePileta              0\n",
       "TieneEscuelasCerca       0\n",
       "TieneShoppingsCerca      0\n",
       "Precio                   0\n",
       "dtype: int64"
      ]
     },
     "execution_count": 10,
     "metadata": {},
     "output_type": "execute_result"
    }
   ],
   "source": [
    "df_abool[(df_abool['Ciudad'].isnull() == True) & (df_abool['Provincia'].isnull() == True)].isnull().sum()"
   ]
  },
  {
   "cell_type": "markdown",
   "metadata": {},
   "source": [
    "Los valores de provincias nulos también tienen ciudades nulas. Como se van utilizar estos valores conviene descartarlos."
   ]
  },
  {
   "cell_type": "code",
   "execution_count": 11,
   "metadata": {},
   "outputs": [
    {
     "data": {
      "text/plain": [
       "Ciudad                 217\n",
       "Provincia                0\n",
       "TieneGimnasio            0\n",
       "TieneUsosMultiples       0\n",
       "TienePileta              0\n",
       "TieneEscuelasCerca       0\n",
       "TieneShoppingsCerca      0\n",
       "Precio                   0\n",
       "dtype: int64"
      ]
     },
     "execution_count": 11,
     "metadata": {},
     "output_type": "execute_result"
    }
   ],
   "source": [
    "# Verifico qué ocurre si se eliminan los valores nulos\n",
    "df_abool.dropna(subset=['Provincia'], inplace=True)\n",
    "df_abool.isnull().sum()"
   ]
  },
  {
   "cell_type": "code",
   "execution_count": 12,
   "metadata": {},
   "outputs": [
    {
     "data": {
      "text/html": [
       "<div>\n",
       "<style scoped>\n",
       "    .dataframe tbody tr th:only-of-type {\n",
       "        vertical-align: middle;\n",
       "    }\n",
       "\n",
       "    .dataframe tbody tr th {\n",
       "        vertical-align: top;\n",
       "    }\n",
       "\n",
       "    .dataframe thead th {\n",
       "        text-align: right;\n",
       "    }\n",
       "</style>\n",
       "<table border=\"1\" class=\"dataframe\">\n",
       "  <thead>\n",
       "    <tr style=\"text-align: right;\">\n",
       "      <th></th>\n",
       "      <th>Ciudad</th>\n",
       "      <th>Provincia</th>\n",
       "      <th>TieneGimnasio</th>\n",
       "      <th>TieneUsosMultiples</th>\n",
       "      <th>TienePileta</th>\n",
       "      <th>TieneEscuelasCerca</th>\n",
       "      <th>TieneShoppingsCerca</th>\n",
       "      <th>Precio</th>\n",
       "    </tr>\n",
       "  </thead>\n",
       "  <tbody>\n",
       "  </tbody>\n",
       "</table>\n",
       "</div>"
      ],
      "text/plain": [
       "Empty DataFrame\n",
       "Columns: [Ciudad, Provincia, TieneGimnasio, TieneUsosMultiples, TienePileta, TieneEscuelasCerca, TieneShoppingsCerca, Precio]\n",
       "Index: []"
      ]
     },
     "execution_count": 12,
     "metadata": {},
     "output_type": "execute_result"
    }
   ],
   "source": [
    "df_abool.loc[(df_abool['Provincia'] == 'Colima') & (df_abool['Ciudad'].isnull() == True)]"
   ]
  },
  {
   "cell_type": "markdown",
   "metadata": {},
   "source": [
    "Voy a ver cuánto influyen las cantidades de valores nulos en ciudades por provincia, para ver si es correcto eliminarlas."
   ]
  },
  {
   "cell_type": "code",
   "execution_count": 13,
   "metadata": {},
   "outputs": [],
   "source": [
    "# Creo un DataFrame donde solo se almacenen los casos con valores nulos de ciudades\n",
    "cant_nulos_provincia = df_abool.loc[df_abool['Ciudad'].isnull() == True].copy() # Devuelve un DataFrame\n",
    "# Elijo quedarme solo con la columna 'provincia' \n",
    "cant_nulos_provincia = cant_nulos_provincia['Provincia'] # Devuelve una Serie\n",
    "# Realizo un conteo para casos nulos por provincia\n",
    "cant_nulos_provincia = cant_nulos_provincia.value_counts() # Devuelve una Serie\n",
    "# Paso la Serie a DataFrame\n",
    "cant_nulos_provincia = cant_nulos_provincia.to_frame()\n",
    "# Reseteo el índice para tener una columna con el nombre de las provincias\n",
    "cant_nulos_provincia.reset_index(inplace = True)\n",
    "# Le cambio el nombre a las provincias\n",
    "cant_nulos_provincia = cant_nulos_provincia.rename(columns = {'index' : 'Provincia', 'Provincia' : 'cant_nulos'}).copy()\n",
    "#cant_nulos_provincia\n",
    "# Ordeno alfabéticamente por nombre de provincia y lo modifico \"implace\"\n",
    "cant_nulos_provincia.sort_values(by='Provincia', ascending = True, inplace = True)\n",
    "cant_nulos_provincia.reset_index(drop = True, inplace=True)"
   ]
  },
  {
   "cell_type": "code",
   "execution_count": 14,
   "metadata": {},
   "outputs": [
    {
     "data": {
      "text/html": [
       "<div>\n",
       "<style scoped>\n",
       "    .dataframe tbody tr th:only-of-type {\n",
       "        vertical-align: middle;\n",
       "    }\n",
       "\n",
       "    .dataframe tbody tr th {\n",
       "        vertical-align: top;\n",
       "    }\n",
       "\n",
       "    .dataframe thead th {\n",
       "        text-align: right;\n",
       "    }\n",
       "</style>\n",
       "<table border=\"1\" class=\"dataframe\">\n",
       "  <thead>\n",
       "    <tr style=\"text-align: right;\">\n",
       "      <th></th>\n",
       "      <th>Provincia</th>\n",
       "      <th>cant_nulos</th>\n",
       "    </tr>\n",
       "  </thead>\n",
       "  <tbody>\n",
       "    <tr>\n",
       "      <th>0</th>\n",
       "      <td>Aguascalientes</td>\n",
       "      <td>0</td>\n",
       "    </tr>\n",
       "    <tr>\n",
       "      <th>1</th>\n",
       "      <td>Baja California Norte</td>\n",
       "      <td>0</td>\n",
       "    </tr>\n",
       "    <tr>\n",
       "      <th>2</th>\n",
       "      <td>Baja California Sur</td>\n",
       "      <td>0</td>\n",
       "    </tr>\n",
       "    <tr>\n",
       "      <th>3</th>\n",
       "      <td>Campeche</td>\n",
       "      <td>0</td>\n",
       "    </tr>\n",
       "    <tr>\n",
       "      <th>4</th>\n",
       "      <td>Chiapas</td>\n",
       "      <td>0</td>\n",
       "    </tr>\n",
       "  </tbody>\n",
       "</table>\n",
       "</div>"
      ],
      "text/plain": [
       "               Provincia  cant_nulos\n",
       "0         Aguascalientes           0\n",
       "1  Baja California Norte           0\n",
       "2    Baja California Sur           0\n",
       "3               Campeche           0\n",
       "4                Chiapas           0"
      ]
     },
     "execution_count": 14,
     "metadata": {},
     "output_type": "execute_result"
    }
   ],
   "source": [
    "cant_nulos_provincia.head()"
   ]
  },
  {
   "cell_type": "code",
   "execution_count": 15,
   "metadata": {},
   "outputs": [],
   "source": [
    "# Voy a crear un DataFrame para comparar la proporción de ciudades nulas por provincia\n",
    "# Como adf_abool ya no tiene 'provincia' y 'ciudad' nulos a la vez, uso ese DataFrame\n",
    "cant_total_provincia = df_abool['Provincia'] # Devuelve una Serie\n",
    "# Convierto a DataFrame y lo asigo \"inplace\"\n",
    "cant_total_provincia = cant_total_provincia.value_counts().to_frame()\n",
    "cant_total_provincia.reset_index(inplace = True)\n",
    "cant_total_provincia.rename(columns = {'index' : 'Provincia', 'Provincia' : 'cant_total'}, inplace = True)\n",
    "cant_total_provincia\n",
    "cant_total_provincia.sort_values(by = 'Provincia', ascending = True, inplace = True)\n",
    "cant_total_provincia.reset_index(drop = True, inplace = True)"
   ]
  },
  {
   "cell_type": "code",
   "execution_count": 16,
   "metadata": {
    "scrolled": true
   },
   "outputs": [
    {
     "data": {
      "text/html": [
       "<div>\n",
       "<style scoped>\n",
       "    .dataframe tbody tr th:only-of-type {\n",
       "        vertical-align: middle;\n",
       "    }\n",
       "\n",
       "    .dataframe tbody tr th {\n",
       "        vertical-align: top;\n",
       "    }\n",
       "\n",
       "    .dataframe thead th {\n",
       "        text-align: right;\n",
       "    }\n",
       "</style>\n",
       "<table border=\"1\" class=\"dataframe\">\n",
       "  <thead>\n",
       "    <tr style=\"text-align: right;\">\n",
       "      <th></th>\n",
       "      <th>Provincia</th>\n",
       "      <th>cant_total</th>\n",
       "    </tr>\n",
       "  </thead>\n",
       "  <tbody>\n",
       "    <tr>\n",
       "      <th>0</th>\n",
       "      <td>Aguascalientes</td>\n",
       "      <td>1753</td>\n",
       "    </tr>\n",
       "    <tr>\n",
       "      <th>1</th>\n",
       "      <td>Baja California Norte</td>\n",
       "      <td>3220</td>\n",
       "    </tr>\n",
       "    <tr>\n",
       "      <th>2</th>\n",
       "      <td>Baja California Sur</td>\n",
       "      <td>1700</td>\n",
       "    </tr>\n",
       "    <tr>\n",
       "      <th>3</th>\n",
       "      <td>Campeche</td>\n",
       "      <td>263</td>\n",
       "    </tr>\n",
       "    <tr>\n",
       "      <th>4</th>\n",
       "      <td>Chiapas</td>\n",
       "      <td>1126</td>\n",
       "    </tr>\n",
       "  </tbody>\n",
       "</table>\n",
       "</div>"
      ],
      "text/plain": [
       "               Provincia  cant_total\n",
       "0         Aguascalientes        1753\n",
       "1  Baja California Norte        3220\n",
       "2    Baja California Sur        1700\n",
       "3               Campeche         263\n",
       "4                Chiapas        1126"
      ]
     },
     "execution_count": 16,
     "metadata": {},
     "output_type": "execute_result"
    }
   ],
   "source": [
    "cant_total_provincia.head()"
   ]
  },
  {
   "cell_type": "markdown",
   "metadata": {},
   "source": [
    "# Merge"
   ]
  },
  {
   "cell_type": "markdown",
   "metadata": {},
   "source": [
    "DataFrame izquierdo ==> cant_nulos_provincia\n",
    "\n",
    "DataFrame derecho ==> cant_total_provincia"
   ]
  },
  {
   "cell_type": "code",
   "execution_count": 17,
   "metadata": {},
   "outputs": [],
   "source": [
    "df_joined = pd.merge(cant_nulos_provincia, cant_total_provincia, on='Provincia', how = 'inner')"
   ]
  },
  {
   "cell_type": "code",
   "execution_count": 18,
   "metadata": {
    "scrolled": true
   },
   "outputs": [
    {
     "data": {
      "text/html": [
       "<div>\n",
       "<style scoped>\n",
       "    .dataframe tbody tr th:only-of-type {\n",
       "        vertical-align: middle;\n",
       "    }\n",
       "\n",
       "    .dataframe tbody tr th {\n",
       "        vertical-align: top;\n",
       "    }\n",
       "\n",
       "    .dataframe thead th {\n",
       "        text-align: right;\n",
       "    }\n",
       "</style>\n",
       "<table border=\"1\" class=\"dataframe\">\n",
       "  <thead>\n",
       "    <tr style=\"text-align: right;\">\n",
       "      <th></th>\n",
       "      <th>Provincia</th>\n",
       "      <th>cant_nulos</th>\n",
       "      <th>cant_total</th>\n",
       "    </tr>\n",
       "  </thead>\n",
       "  <tbody>\n",
       "    <tr>\n",
       "      <th>0</th>\n",
       "      <td>Chihuahua</td>\n",
       "      <td>46</td>\n",
       "      <td>4590</td>\n",
       "    </tr>\n",
       "    <tr>\n",
       "      <th>1</th>\n",
       "      <td>Distrito Federal</td>\n",
       "      <td>20</td>\n",
       "      <td>58790</td>\n",
       "    </tr>\n",
       "    <tr>\n",
       "      <th>2</th>\n",
       "      <td>Durango</td>\n",
       "      <td>1</td>\n",
       "      <td>2275</td>\n",
       "    </tr>\n",
       "    <tr>\n",
       "      <th>3</th>\n",
       "      <td>Edo. de México</td>\n",
       "      <td>18</td>\n",
       "      <td>41607</td>\n",
       "    </tr>\n",
       "    <tr>\n",
       "      <th>4</th>\n",
       "      <td>Guanajuato</td>\n",
       "      <td>3</td>\n",
       "      <td>2860</td>\n",
       "    </tr>\n",
       "    <tr>\n",
       "      <th>5</th>\n",
       "      <td>Guerrero</td>\n",
       "      <td>3</td>\n",
       "      <td>2678</td>\n",
       "    </tr>\n",
       "    <tr>\n",
       "      <th>6</th>\n",
       "      <td>Jalisco</td>\n",
       "      <td>21</td>\n",
       "      <td>21238</td>\n",
       "    </tr>\n",
       "    <tr>\n",
       "      <th>7</th>\n",
       "      <td>Morelos</td>\n",
       "      <td>2</td>\n",
       "      <td>7337</td>\n",
       "    </tr>\n",
       "    <tr>\n",
       "      <th>8</th>\n",
       "      <td>Nuevo León</td>\n",
       "      <td>9</td>\n",
       "      <td>15324</td>\n",
       "    </tr>\n",
       "    <tr>\n",
       "      <th>9</th>\n",
       "      <td>Oaxaca</td>\n",
       "      <td>3</td>\n",
       "      <td>711</td>\n",
       "    </tr>\n",
       "    <tr>\n",
       "      <th>10</th>\n",
       "      <td>Puebla</td>\n",
       "      <td>5</td>\n",
       "      <td>10421</td>\n",
       "    </tr>\n",
       "    <tr>\n",
       "      <th>11</th>\n",
       "      <td>Querétaro</td>\n",
       "      <td>8</td>\n",
       "      <td>16988</td>\n",
       "    </tr>\n",
       "    <tr>\n",
       "      <th>12</th>\n",
       "      <td>Quintana Roo</td>\n",
       "      <td>17</td>\n",
       "      <td>4756</td>\n",
       "    </tr>\n",
       "    <tr>\n",
       "      <th>13</th>\n",
       "      <td>San luis Potosí</td>\n",
       "      <td>47</td>\n",
       "      <td>8447</td>\n",
       "    </tr>\n",
       "    <tr>\n",
       "      <th>14</th>\n",
       "      <td>Tabasco</td>\n",
       "      <td>1</td>\n",
       "      <td>994</td>\n",
       "    </tr>\n",
       "    <tr>\n",
       "      <th>15</th>\n",
       "      <td>Tamaulipas</td>\n",
       "      <td>7</td>\n",
       "      <td>2303</td>\n",
       "    </tr>\n",
       "    <tr>\n",
       "      <th>16</th>\n",
       "      <td>Veracruz</td>\n",
       "      <td>6</td>\n",
       "      <td>5762</td>\n",
       "    </tr>\n",
       "  </tbody>\n",
       "</table>\n",
       "</div>"
      ],
      "text/plain": [
       "           Provincia  cant_nulos  cant_total\n",
       "0          Chihuahua          46        4590\n",
       "1   Distrito Federal          20       58790\n",
       "2            Durango           1        2275\n",
       "3     Edo. de México          18       41607\n",
       "4         Guanajuato           3        2860\n",
       "5           Guerrero           3        2678\n",
       "6            Jalisco          21       21238\n",
       "7            Morelos           2        7337\n",
       "8         Nuevo León           9       15324\n",
       "9             Oaxaca           3         711\n",
       "10            Puebla           5       10421\n",
       "11         Querétaro           8       16988\n",
       "12      Quintana Roo          17        4756\n",
       "13   San luis Potosí          47        8447\n",
       "14           Tabasco           1         994\n",
       "15        Tamaulipas           7        2303\n",
       "16          Veracruz           6        5762"
      ]
     },
     "execution_count": 18,
     "metadata": {},
     "output_type": "execute_result"
    }
   ],
   "source": [
    "df_joined = df_joined.loc[df_joined['cant_nulos'] != 0].copy()\n",
    "df_joined.reset_index(drop = True, inplace = True)\n",
    "# Ya se tiene un DataFrame para calcular la proporción de los valores nulos en los totales (por provincia)\n",
    "df_joined"
   ]
  },
  {
   "cell_type": "markdown",
   "metadata": {},
   "source": [
    "## Agrego columna de proporciones"
   ]
  },
  {
   "cell_type": "code",
   "execution_count": 19,
   "metadata": {},
   "outputs": [
    {
     "data": {
      "text/html": [
       "<div>\n",
       "<style scoped>\n",
       "    .dataframe tbody tr th:only-of-type {\n",
       "        vertical-align: middle;\n",
       "    }\n",
       "\n",
       "    .dataframe tbody tr th {\n",
       "        vertical-align: top;\n",
       "    }\n",
       "\n",
       "    .dataframe thead th {\n",
       "        text-align: right;\n",
       "    }\n",
       "</style>\n",
       "<table border=\"1\" class=\"dataframe\">\n",
       "  <thead>\n",
       "    <tr style=\"text-align: right;\">\n",
       "      <th></th>\n",
       "      <th>Provincia</th>\n",
       "      <th>cant_nulos</th>\n",
       "      <th>cant_total</th>\n",
       "      <th>propor_nulos [%]</th>\n",
       "    </tr>\n",
       "  </thead>\n",
       "  <tbody>\n",
       "    <tr>\n",
       "      <th>0</th>\n",
       "      <td>Chihuahua</td>\n",
       "      <td>46</td>\n",
       "      <td>4590</td>\n",
       "      <td>1.00</td>\n",
       "    </tr>\n",
       "    <tr>\n",
       "      <th>1</th>\n",
       "      <td>Distrito Federal</td>\n",
       "      <td>20</td>\n",
       "      <td>58790</td>\n",
       "      <td>0.03</td>\n",
       "    </tr>\n",
       "    <tr>\n",
       "      <th>2</th>\n",
       "      <td>Durango</td>\n",
       "      <td>1</td>\n",
       "      <td>2275</td>\n",
       "      <td>0.04</td>\n",
       "    </tr>\n",
       "    <tr>\n",
       "      <th>3</th>\n",
       "      <td>Edo. de México</td>\n",
       "      <td>18</td>\n",
       "      <td>41607</td>\n",
       "      <td>0.04</td>\n",
       "    </tr>\n",
       "    <tr>\n",
       "      <th>4</th>\n",
       "      <td>Guanajuato</td>\n",
       "      <td>3</td>\n",
       "      <td>2860</td>\n",
       "      <td>0.10</td>\n",
       "    </tr>\n",
       "    <tr>\n",
       "      <th>5</th>\n",
       "      <td>Guerrero</td>\n",
       "      <td>3</td>\n",
       "      <td>2678</td>\n",
       "      <td>0.11</td>\n",
       "    </tr>\n",
       "    <tr>\n",
       "      <th>6</th>\n",
       "      <td>Jalisco</td>\n",
       "      <td>21</td>\n",
       "      <td>21238</td>\n",
       "      <td>0.10</td>\n",
       "    </tr>\n",
       "    <tr>\n",
       "      <th>7</th>\n",
       "      <td>Morelos</td>\n",
       "      <td>2</td>\n",
       "      <td>7337</td>\n",
       "      <td>0.03</td>\n",
       "    </tr>\n",
       "    <tr>\n",
       "      <th>8</th>\n",
       "      <td>Nuevo León</td>\n",
       "      <td>9</td>\n",
       "      <td>15324</td>\n",
       "      <td>0.06</td>\n",
       "    </tr>\n",
       "    <tr>\n",
       "      <th>9</th>\n",
       "      <td>Oaxaca</td>\n",
       "      <td>3</td>\n",
       "      <td>711</td>\n",
       "      <td>0.42</td>\n",
       "    </tr>\n",
       "    <tr>\n",
       "      <th>10</th>\n",
       "      <td>Puebla</td>\n",
       "      <td>5</td>\n",
       "      <td>10421</td>\n",
       "      <td>0.05</td>\n",
       "    </tr>\n",
       "    <tr>\n",
       "      <th>11</th>\n",
       "      <td>Querétaro</td>\n",
       "      <td>8</td>\n",
       "      <td>16988</td>\n",
       "      <td>0.05</td>\n",
       "    </tr>\n",
       "    <tr>\n",
       "      <th>12</th>\n",
       "      <td>Quintana Roo</td>\n",
       "      <td>17</td>\n",
       "      <td>4756</td>\n",
       "      <td>0.36</td>\n",
       "    </tr>\n",
       "    <tr>\n",
       "      <th>13</th>\n",
       "      <td>San luis Potosí</td>\n",
       "      <td>47</td>\n",
       "      <td>8447</td>\n",
       "      <td>0.56</td>\n",
       "    </tr>\n",
       "    <tr>\n",
       "      <th>14</th>\n",
       "      <td>Tabasco</td>\n",
       "      <td>1</td>\n",
       "      <td>994</td>\n",
       "      <td>0.10</td>\n",
       "    </tr>\n",
       "    <tr>\n",
       "      <th>15</th>\n",
       "      <td>Tamaulipas</td>\n",
       "      <td>7</td>\n",
       "      <td>2303</td>\n",
       "      <td>0.30</td>\n",
       "    </tr>\n",
       "    <tr>\n",
       "      <th>16</th>\n",
       "      <td>Veracruz</td>\n",
       "      <td>6</td>\n",
       "      <td>5762</td>\n",
       "      <td>0.10</td>\n",
       "    </tr>\n",
       "  </tbody>\n",
       "</table>\n",
       "</div>"
      ],
      "text/plain": [
       "           Provincia  cant_nulos  cant_total  propor_nulos [%]\n",
       "0          Chihuahua          46        4590              1.00\n",
       "1   Distrito Federal          20       58790              0.03\n",
       "2            Durango           1        2275              0.04\n",
       "3     Edo. de México          18       41607              0.04\n",
       "4         Guanajuato           3        2860              0.10\n",
       "5           Guerrero           3        2678              0.11\n",
       "6            Jalisco          21       21238              0.10\n",
       "7            Morelos           2        7337              0.03\n",
       "8         Nuevo León           9       15324              0.06\n",
       "9             Oaxaca           3         711              0.42\n",
       "10            Puebla           5       10421              0.05\n",
       "11         Querétaro           8       16988              0.05\n",
       "12      Quintana Roo          17        4756              0.36\n",
       "13   San luis Potosí          47        8447              0.56\n",
       "14           Tabasco           1         994              0.10\n",
       "15        Tamaulipas           7        2303              0.30\n",
       "16          Veracruz           6        5762              0.10"
      ]
     },
     "execution_count": 19,
     "metadata": {},
     "output_type": "execute_result"
    }
   ],
   "source": [
    "df_joined['propor_nulos [%]'] = df_joined['cant_nulos'] / df_joined['cant_total'] * 100\n",
    "# Se redondea a dos decimales\n",
    "df_joined['propor_nulos [%]'] = df_joined['propor_nulos [%]'].round(2)\n",
    "df_joined"
   ]
  },
  {
   "cell_type": "code",
   "execution_count": 20,
   "metadata": {},
   "outputs": [
    {
     "data": {
      "image/png": "[encoded data removed]",
      "text/plain": [
       "<Figure size 1080x360 with 1 Axes>"
      ]
     },
     "metadata": {
      "needs_background": "light"
     },
     "output_type": "display_data"
    }
   ],
   "source": [
    "### Visualización de proporción de datos nulos. PUEDE NO SER NECESARIO\n",
    "plt.figure(figsize = (15,5))\n",
    "\n",
    "prov_tot = df_joined['cant_total']\n",
    "prov_nul = df_joined['cant_nulos']\n",
    "ancho = 0.5\n",
    "ind = df_joined['Provincia']\n",
    "p1 = plt.bar(ind, prov_tot, ancho)\n",
    "p2 = plt.bar(ind, prov_nul, ancho)\n",
    "plt.xticks(rotation = 45, fontsize = 12)\n",
    "\n",
    "plt.show()"
   ]
  },
  {
   "cell_type": "markdown",
   "metadata": {},
   "source": [
    "Se ve que no representan más del 1% de los casos totales. Enonces se pueden eliminar."
   ]
  },
  {
   "cell_type": "code",
   "execution_count": 21,
   "metadata": {
    "scrolled": true
   },
   "outputs": [
    {
     "data": {
      "text/plain": [
       "Ciudad                 217\n",
       "Provincia                0\n",
       "TieneGimnasio            0\n",
       "TieneUsosMultiples       0\n",
       "TienePileta              0\n",
       "TieneEscuelasCerca       0\n",
       "TieneShoppingsCerca      0\n",
       "Precio                   0\n",
       "dtype: int64"
      ]
     },
     "execution_count": 21,
     "metadata": {},
     "output_type": "execute_result"
    }
   ],
   "source": [
    "df_abool.isnull().sum()"
   ]
  },
  {
   "cell_type": "code",
   "execution_count": 22,
   "metadata": {},
   "outputs": [
    {
     "data": {
      "text/plain": [
       "(239845, 8)"
      ]
     },
     "execution_count": 22,
     "metadata": {},
     "output_type": "execute_result"
    }
   ],
   "source": [
    "df_abool.shape"
   ]
  },
  {
   "cell_type": "code",
   "execution_count": 23,
   "metadata": {
    "scrolled": true
   },
   "outputs": [
    {
     "data": {
      "text/plain": [
       "Ciudad                 0\n",
       "Provincia              0\n",
       "TieneGimnasio          0\n",
       "TieneUsosMultiples     0\n",
       "TienePileta            0\n",
       "TieneEscuelasCerca     0\n",
       "TieneShoppingsCerca    0\n",
       "Precio                 0\n",
       "dtype: int64"
      ]
     },
     "execution_count": 23,
     "metadata": {},
     "output_type": "execute_result"
    }
   ],
   "source": [
    "df_abool.dropna(inplace = True)\n",
    "df_abool.isnull().sum()"
   ]
  },
  {
   "cell_type": "code",
   "execution_count": 24,
   "metadata": {
    "scrolled": true
   },
   "outputs": [
    {
     "data": {
      "text/plain": [
       "(239628, 8)"
      ]
     },
     "execution_count": 24,
     "metadata": {},
     "output_type": "execute_result"
    }
   ],
   "source": [
    "df_abool.shape"
   ]
  },
  {
   "cell_type": "code",
   "execution_count": 25,
   "metadata": {},
   "outputs": [
    {
     "name": "stdout",
     "output_type": "stream",
     "text": [
      "Media del precio de las propiedades con gimnasio $ 3812891\n",
      "Media del precio de las propiedades sin gimnasio $ 2445053\n",
      "\n"
     ]
    },
    {
     "data": {
      "image/png": "[encoded data removed]",
      "text/plain": [
       "<Figure size 504x360 with 1 Axes>"
      ]
     },
     "metadata": {
      "needs_background": "light"
     },
     "output_type": "display_data"
    }
   ],
   "source": [
    "# Comparación directa de los servicios y disponibilidades de las propiedades\n",
    "\n",
    "print('Media del precio de las propiedades con gimnasio $ {:.0f}'\n",
    "      .format(df_abool.loc[df_abool['TieneGimnasio'] == True]['Precio'].mean()))\n",
    "\n",
    "print('Media del precio de las propiedades sin gimnasio $ {:.0f}\\n'\n",
    "      .format(df_abool.loc[df_abool['TieneGimnasio'] == False]['Precio'].mean()))\n",
    "\n",
    "fig_1 = plt.figure(1, figsize = (7,5))\n",
    "sub_fig = fig_1.add_subplot(111)\n",
    "plt.xticks(fontsize = 20)\n",
    "plt.yticks(fontsize = 20)\n",
    "plt.title(\"Comodidad: Gimnasio\", fontsize = 30)\n",
    "sub_fig.set_xlabel('Disponibilidad', fontsize = 28)\n",
    "box_plot = sub_fig.boxplot([df_abool.loc[df_abool['TieneGimnasio'] == True]['Precio'], \n",
    "                            df_abool.loc[df_abool['TieneGimnasio'] == False]['Precio']],\n",
    "                           labels = ['con Gimnasio', 'sin Gimnasio'],\n",
    "                           widths = 0.8)"
   ]
  },
  {
   "cell_type": "code",
   "execution_count": 26,
   "metadata": {},
   "outputs": [
    {
     "name": "stdout",
     "output_type": "stream",
     "text": [
      "Media del precio de las propiedades con SUM $ 3826889\n",
      "Media del precio de las propiedades sin SUM $ 2454917\n",
      "\n"
     ]
    },
    {
     "data": {
      "image/png": "[encoded data removed]",
      "text/plain": [
       "<Figure size 504x360 with 1 Axes>"
      ]
     },
     "metadata": {
      "needs_background": "light"
     },
     "output_type": "display_data"
    }
   ],
   "source": [
    "print('Media del precio de las propiedades con SUM $ {:.0f}'\n",
    "      .format(df_abool.loc[df_abool['TieneUsosMultiples'] == True]['Precio'].mean()))\n",
    "\n",
    "print('Media del precio de las propiedades sin SUM $ {:.0f}\\n'\n",
    "      .format(df_abool.loc[df_abool['TieneUsosMultiples'] == False]['Precio'].mean()))\n",
    "\n",
    "fig_2 = plt.figure(1, figsize = (7,5))\n",
    "sub_fig = fig_2.add_subplot(111)\n",
    "plt.xticks(fontsize = 20)\n",
    "plt.yticks(fontsize = 20)\n",
    "plt.title(\"Comodidad: Salón de Usos Múltiples\", fontsize = 30)\n",
    "sub_fig.set_xlabel('Disponibilidad', fontsize = 28)\n",
    "box_plot = sub_fig.boxplot([df_abool.loc[df_abool['TieneUsosMultiples'] == True]['Precio'], \n",
    "                            df_abool.loc[df_abool['TieneUsosMultiples'] == False]['Precio']],\n",
    "                           labels = ['con SUM', 'sin SUM'],\n",
    "                           widths = 0.8)"
   ]
  },
  {
   "cell_type": "code",
   "execution_count": 27,
   "metadata": {},
   "outputs": [
    {
     "name": "stdout",
     "output_type": "stream",
     "text": [
      "Media del precio de las propiedades con piscina $ 3315052\n",
      "Media del precio de las propiedades sin piscina $ 2455453\n",
      "\n"
     ]
    },
    {
     "data": {
      "image/png": "[encoded data removed]",
      "text/plain": [
       "<Figure size 504x360 with 1 Axes>"
      ]
     },
     "metadata": {
      "needs_background": "light"
     },
     "output_type": "display_data"
    }
   ],
   "source": [
    "print('Media del precio de las propiedades con piscina $ {:.0f}'\n",
    "      .format(df_abool.loc[df_abool['TienePileta'] == True]['Precio'].mean()))\n",
    "\n",
    "print('Media del precio de las propiedades sin piscina $ {:.0f}\\n'\n",
    "      .format(df_abool.loc[df_abool['TienePileta'] == False]['Precio'].mean()))\n",
    "\n",
    "fig_3 = plt.figure(1, figsize = (7,5))\n",
    "sub_fig = fig_3.add_subplot(111)\n",
    "plt.xticks(fontsize = 20)\n",
    "plt.yticks(fontsize = 20)\n",
    "plt.title(\"Comodidad: Piscina\", fontsize = 30)\n",
    "sub_fig.set_xlabel('Disponibilidad', fontsize = 28)\n",
    "box_plot = sub_fig.boxplot([df_abool.loc[df_abool['TienePileta'] == True]['Precio'],\n",
    "                            df_abool.loc[df_abool['TienePileta'] == False]['Precio']],\n",
    "                           labels = ['con piscina', 'sin piscina'],\n",
    "                           widths = 0.8)"
   ]
  },
  {
   "cell_type": "code",
   "execution_count": 28,
   "metadata": {},
   "outputs": [
    {
     "name": "stdout",
     "output_type": "stream",
     "text": [
      "Media del precio de las propiedades con escuelas cercanas $ 2533456\n",
      "Media del precio de las propiedades sin escuelas cercanas $ 2528336\n",
      "\n"
     ]
    },
    {
     "data": {
      "image/png": "[encoded data removed]",
      "text/plain": [
       "<Figure size 504x360 with 1 Axes>"
      ]
     },
     "metadata": {
      "needs_background": "light"
     },
     "output_type": "display_data"
    }
   ],
   "source": [
    "print('Media del precio de las propiedades con escuelas cercanas $ {:.0f}'\n",
    "      .format(df_abool.loc[df_abool['TieneEscuelasCerca'] == True]['Precio'].mean()))\n",
    "\n",
    "print('Media del precio de las propiedades sin escuelas cercanas $ {:.0f}\\n'\n",
    "      .format(df_abool.loc[df_abool['TieneEscuelasCerca'] == False]['Precio'].mean()))\n",
    "\n",
    "fig_4 = plt.figure(1, figsize = (7,5))\n",
    "sub_fig = fig_4.add_subplot(111)\n",
    "plt.xticks(fontsize = 20)\n",
    "plt.yticks(fontsize = 20)\n",
    "plt.title(\"Comodidad: Cercanía a Escuelas\", fontsize = 30)\n",
    "sub_fig.set_xlabel('Disponibilidad', fontsize = 28)\n",
    "box_plot = sub_fig.boxplot([df_abool.loc[df_abool['TieneEscuelasCerca'] == True]['Precio'],\n",
    "                            df_abool.loc[df_abool['TieneEscuelasCerca'] == False]['Precio']],\n",
    "                           labels = ['con comodidad', 'sin comodidad'],\n",
    "                           widths = 0.8)"
   ]
  },
  {
   "cell_type": "code",
   "execution_count": 29,
   "metadata": {},
   "outputs": [
    {
     "name": "stdout",
     "output_type": "stream",
     "text": [
      "Media del precio de las propiedades con centros comerciales cencanos $ 2605484\n",
      "Media del precio de las propiedades sin centros comerciales cencanos $ 2481294\n",
      "\n"
     ]
    },
    {
     "data": {
      "image/png": "[encoded data removed]",
      "text/plain": [
       "<Figure size 504x360 with 1 Axes>"
      ]
     },
     "metadata": {
      "needs_background": "light"
     },
     "output_type": "display_data"
    }
   ],
   "source": [
    "print('Media del precio de las propiedades con centros comerciales cencanos $ {:.0f}'\n",
    "      .format(df_abool.loc[df_abool['TieneShoppingsCerca'] == True]['Precio'].mean()))\n",
    "\n",
    "print('Media del precio de las propiedades sin centros comerciales cencanos $ {:.0f}\\n'\n",
    "      .format(df_abool.loc[df_abool['TieneShoppingsCerca'] == False]['Precio'].mean()))\n",
    "\n",
    "fig_5 = plt.figure(1, figsize = (7,5))\n",
    "sub_fig = fig_5.add_subplot(111)\n",
    "plt.xticks(rotation = 0, fontsize = 20)\n",
    "plt.yticks(fontsize = 20)\n",
    "plt.title(\"Comodidad: Cercanía a Centros Comerciales\", fontsize = 30)\n",
    "sub_fig.set_xlabel('Disponibilidad', fontsize = 28)\n",
    "box_plot = sub_fig.boxplot([df_abool.loc[df_abool['TieneShoppingsCerca'] == True]['Precio'],\n",
    "                            df_abool.loc[df_abool['TieneShoppingsCerca'] == False]['Precio']],\n",
    "                           labels = ['con comodidad', 'sin comodidad'],\n",
    "                           widths = 0.8)"
   ]
  },
  {
   "cell_type": "code",
   "execution_count": 30,
   "metadata": {},
   "outputs": [],
   "source": [
    "solo_gimnasio = df_abool.loc[(df_abool['TieneGimnasio'] == True) & \n",
    "                             (df_abool['TieneUsosMultiples'] == False) & \n",
    "                             (df_abool['TienePileta'] == False)]\n",
    "\n",
    "solo_sum = df_abool.loc[(df_abool['TieneGimnasio'] == False) & \n",
    "                        (df_abool['TieneUsosMultiples'] == True) & \n",
    "                        (df_abool['TienePileta'] == False)]\n",
    "\n",
    "solo_piscina = df_abool.loc[(df_abool['TieneGimnasio'] == False) & \n",
    "                            (df_abool['TieneUsosMultiples'] == False) & \n",
    "                            (df_abool['TienePileta'] == True)]"
   ]
  },
  {
   "cell_type": "code",
   "execution_count": 31,
   "metadata": {},
   "outputs": [
    {
     "name": "stdout",
     "output_type": "stream",
     "text": [
      "Media del precio de las propiedades con solo Gimnasio $ 3056434\n",
      "Media del precio de las propiedades con solo SUM $ 3593696\n",
      "Media del precio de las propiedades con solo Piscina $ 2719016\n"
     ]
    }
   ],
   "source": [
    "# Solo con SUM\n",
    "\n",
    "print('Media del precio de las propiedades con solo Gimnasio $ {:.0f}'\n",
    "      .format(solo_gimnasio['Precio'].mean()))\n",
    "\n",
    "print('Media del precio de las propiedades con solo SUM $ {:.0f}'\n",
    "      .format(solo_sum['Precio'].mean()))\n",
    "\n",
    "print('Media del precio de las propiedades con solo Piscina $ {:.0f}'\n",
    "      .format(solo_piscina['Precio'].mean()))"
   ]
  },
  {
   "cell_type": "code",
   "execution_count": 32,
   "metadata": {
    "scrolled": true
   },
   "outputs": [
    {
     "data": {
      "image/png": "[encoded data removed]",
      "text/plain": [
       "<Figure size 504x360 with 1 Axes>"
      ]
     },
     "metadata": {
      "needs_background": "light"
     },
     "output_type": "display_data"
    }
   ],
   "source": [
    "# Análisis por exclusión de las distintas comodidades\n",
    "fig_6 = plt.figure(6, figsize = (7,5))\n",
    "sub_fig = fig_6.add_subplot(111)\n",
    "plt.xticks(rotation = 0, fontsize = 20)\n",
    "plt.yticks(fontsize = 20)\n",
    "# Para formatear los ejes\n",
    "#sub_fig.yaxis.set_major_formatter(FormatStrFormatter('$%.0f'))\n",
    "plt.title(\"Variación de precios por Comodidad exclusiva incluída\", fontsize = 30)\n",
    "box_plot = sub_fig.boxplot([solo_gimnasio['Precio'], solo_sum['Precio'], solo_piscina['Precio']],\n",
    "                           labels = ['gimnasio', 'sum','piscina'],\n",
    "                           widths = 0.8)"
   ]
  },
  {
   "cell_type": "code",
   "execution_count": 33,
   "metadata": {},
   "outputs": [
    {
     "data": {
      "text/plain": [
       "(239628, 8)"
      ]
     },
     "execution_count": 33,
     "metadata": {},
     "output_type": "execute_result"
    }
   ],
   "source": [
    "df_abool.shape"
   ]
  },
  {
   "cell_type": "code",
   "execution_count": 34,
   "metadata": {},
   "outputs": [
    {
     "data": {
      "text/html": [
       "<div>\n",
       "<style scoped>\n",
       "    .dataframe tbody tr th:only-of-type {\n",
       "        vertical-align: middle;\n",
       "    }\n",
       "\n",
       "    .dataframe tbody tr th {\n",
       "        vertical-align: top;\n",
       "    }\n",
       "\n",
       "    .dataframe thead th {\n",
       "        text-align: right;\n",
       "    }\n",
       "</style>\n",
       "<table border=\"1\" class=\"dataframe\">\n",
       "  <thead>\n",
       "    <tr style=\"text-align: right;\">\n",
       "      <th></th>\n",
       "      <th>Ciudad</th>\n",
       "      <th>Provincia</th>\n",
       "      <th>TieneGimnasio</th>\n",
       "      <th>TieneUsosMultiples</th>\n",
       "      <th>TienePileta</th>\n",
       "      <th>TieneEscuelasCerca</th>\n",
       "      <th>TieneShoppingsCerca</th>\n",
       "      <th>Precio</th>\n",
       "    </tr>\n",
       "  </thead>\n",
       "  <tbody>\n",
       "    <tr>\n",
       "      <th>182</th>\n",
       "      <td>Tlalnepantla de Baz</td>\n",
       "      <td>Edo. de México</td>\n",
       "      <td>True</td>\n",
       "      <td>False</td>\n",
       "      <td>False</td>\n",
       "      <td>True</td>\n",
       "      <td>True</td>\n",
       "      <td>2700000</td>\n",
       "    </tr>\n",
       "    <tr>\n",
       "      <th>282</th>\n",
       "      <td>Toluca</td>\n",
       "      <td>Edo. de México</td>\n",
       "      <td>True</td>\n",
       "      <td>False</td>\n",
       "      <td>False</td>\n",
       "      <td>True</td>\n",
       "      <td>True</td>\n",
       "      <td>560000</td>\n",
       "    </tr>\n",
       "    <tr>\n",
       "      <th>359</th>\n",
       "      <td>Naucalpan de Juárez</td>\n",
       "      <td>Edo. de México</td>\n",
       "      <td>True</td>\n",
       "      <td>False</td>\n",
       "      <td>False</td>\n",
       "      <td>False</td>\n",
       "      <td>False</td>\n",
       "      <td>4450000</td>\n",
       "    </tr>\n",
       "    <tr>\n",
       "      <th>521</th>\n",
       "      <td>Lerma</td>\n",
       "      <td>Edo. de México</td>\n",
       "      <td>True</td>\n",
       "      <td>False</td>\n",
       "      <td>False</td>\n",
       "      <td>True</td>\n",
       "      <td>True</td>\n",
       "      <td>650000</td>\n",
       "    </tr>\n",
       "    <tr>\n",
       "      <th>822</th>\n",
       "      <td>Atizapán de Zaragoza</td>\n",
       "      <td>Edo. de México</td>\n",
       "      <td>True</td>\n",
       "      <td>False</td>\n",
       "      <td>False</td>\n",
       "      <td>False</td>\n",
       "      <td>False</td>\n",
       "      <td>2190000</td>\n",
       "    </tr>\n",
       "  </tbody>\n",
       "</table>\n",
       "</div>"
      ],
      "text/plain": [
       "                   Ciudad       Provincia  TieneGimnasio  TieneUsosMultiples  \\\n",
       "182   Tlalnepantla de Baz  Edo. de México           True               False   \n",
       "282                Toluca  Edo. de México           True               False   \n",
       "359   Naucalpan de Juárez  Edo. de México           True               False   \n",
       "521                 Lerma  Edo. de México           True               False   \n",
       "822  Atizapán de Zaragoza  Edo. de México           True               False   \n",
       "\n",
       "     TienePileta  TieneEscuelasCerca  TieneShoppingsCerca   Precio  \n",
       "182        False                True                 True  2700000  \n",
       "282        False                True                 True   560000  \n",
       "359        False               False                False  4450000  \n",
       "521        False                True                 True   650000  \n",
       "822        False               False                False  2190000  "
      ]
     },
     "execution_count": 34,
     "metadata": {},
     "output_type": "execute_result"
    }
   ],
   "source": [
    "solo_gimnasio.loc[solo_gimnasio['Provincia'] == 'Edo. de México'].head()"
   ]
  },
  {
   "cell_type": "markdown",
   "metadata": {},
   "source": [
    "### Primero armo una lista de nombres de las provincias ordenadas por la media del precio de las propiedades"
   ]
  },
  {
   "cell_type": "code",
   "execution_count": 35,
   "metadata": {},
   "outputs": [
    {
     "name": "stdout",
     "output_type": "stream",
     "text": [
      "Provincia    0\n",
      "Precio       0\n",
      "dtype: int64\n"
     ]
    },
    {
     "data": {
      "text/html": [
       "<div>\n",
       "<style scoped>\n",
       "    .dataframe tbody tr th:only-of-type {\n",
       "        vertical-align: middle;\n",
       "    }\n",
       "\n",
       "    .dataframe tbody tr th {\n",
       "        vertical-align: top;\n",
       "    }\n",
       "\n",
       "    .dataframe thead th {\n",
       "        text-align: right;\n",
       "    }\n",
       "</style>\n",
       "<table border=\"1\" class=\"dataframe\">\n",
       "  <thead>\n",
       "    <tr style=\"text-align: right;\">\n",
       "      <th></th>\n",
       "      <th>Precio</th>\n",
       "    </tr>\n",
       "    <tr>\n",
       "      <th>Provincia</th>\n",
       "      <th></th>\n",
       "    </tr>\n",
       "  </thead>\n",
       "  <tbody>\n",
       "    <tr>\n",
       "      <th>Aguascalientes</th>\n",
       "      <td>1.477189e+06</td>\n",
       "    </tr>\n",
       "    <tr>\n",
       "      <th>Baja California Norte</th>\n",
       "      <td>7.674418e+05</td>\n",
       "    </tr>\n",
       "    <tr>\n",
       "      <th>Baja California Sur</th>\n",
       "      <td>1.216453e+06</td>\n",
       "    </tr>\n",
       "    <tr>\n",
       "      <th>Campeche</th>\n",
       "      <td>1.570918e+06</td>\n",
       "    </tr>\n",
       "    <tr>\n",
       "      <th>Chiapas</th>\n",
       "      <td>1.924126e+06</td>\n",
       "    </tr>\n",
       "  </tbody>\n",
       "</table>\n",
       "</div>"
      ],
      "text/plain": [
       "                             Precio\n",
       "Provincia                          \n",
       "Aguascalientes         1.477189e+06\n",
       "Baja California Norte  7.674418e+05\n",
       "Baja California Sur    1.216453e+06\n",
       "Campeche               1.570918e+06\n",
       "Chiapas                1.924126e+06"
      ]
     },
     "execution_count": 35,
     "metadata": {},
     "output_type": "execute_result"
    }
   ],
   "source": [
    "propiedades_valores = df_abool[['Provincia', 'Precio']].copy()\n",
    "propiedades_valores\n",
    "print(propiedades_valores.isnull().sum()) # No hay valores nulos\n",
    "propiedades_valores = propiedades_valores.groupby(['Provincia']).agg({'Precio':'mean'}).copy()\n",
    "propiedades_valores.head()"
   ]
  },
  {
   "cell_type": "code",
   "execution_count": 36,
   "metadata": {},
   "outputs": [
    {
     "data": {
      "text/html": [
       "<div>\n",
       "<style scoped>\n",
       "    .dataframe tbody tr th:only-of-type {\n",
       "        vertical-align: middle;\n",
       "    }\n",
       "\n",
       "    .dataframe tbody tr th {\n",
       "        vertical-align: top;\n",
       "    }\n",
       "\n",
       "    .dataframe thead th {\n",
       "        text-align: right;\n",
       "    }\n",
       "</style>\n",
       "<table border=\"1\" class=\"dataframe\">\n",
       "  <thead>\n",
       "    <tr style=\"text-align: right;\">\n",
       "      <th></th>\n",
       "      <th>Precio</th>\n",
       "    </tr>\n",
       "    <tr>\n",
       "      <th>Provincia</th>\n",
       "      <th></th>\n",
       "    </tr>\n",
       "  </thead>\n",
       "  <tbody>\n",
       "    <tr>\n",
       "      <th>Aguascalientes</th>\n",
       "      <td>1477188</td>\n",
       "    </tr>\n",
       "    <tr>\n",
       "      <th>Baja California Norte</th>\n",
       "      <td>767441</td>\n",
       "    </tr>\n",
       "    <tr>\n",
       "      <th>Baja California Sur</th>\n",
       "      <td>1216452</td>\n",
       "    </tr>\n",
       "    <tr>\n",
       "      <th>Campeche</th>\n",
       "      <td>1570917</td>\n",
       "    </tr>\n",
       "    <tr>\n",
       "      <th>Chiapas</th>\n",
       "      <td>1924125</td>\n",
       "    </tr>\n",
       "  </tbody>\n",
       "</table>\n",
       "</div>"
      ],
      "text/plain": [
       "                        Precio\n",
       "Provincia                     \n",
       "Aguascalientes         1477188\n",
       "Baja California Norte   767441\n",
       "Baja California Sur    1216452\n",
       "Campeche               1570917\n",
       "Chiapas                1924125"
      ]
     },
     "execution_count": 36,
     "metadata": {},
     "output_type": "execute_result"
    }
   ],
   "source": [
    "# Se le cambia el tipo a la columna\n",
    "propiedades_valores['Precio'] = propiedades_valores['Precio'].astype(np.uint32).copy()\n",
    "propiedades_valores.head()"
   ]
  },
  {
   "cell_type": "code",
   "execution_count": 37,
   "metadata": {},
   "outputs": [
    {
     "data": {
      "text/html": [
       "<div>\n",
       "<style scoped>\n",
       "    .dataframe tbody tr th:only-of-type {\n",
       "        vertical-align: middle;\n",
       "    }\n",
       "\n",
       "    .dataframe tbody tr th {\n",
       "        vertical-align: top;\n",
       "    }\n",
       "\n",
       "    .dataframe thead th {\n",
       "        text-align: right;\n",
       "    }\n",
       "</style>\n",
       "<table border=\"1\" class=\"dataframe\">\n",
       "  <thead>\n",
       "    <tr style=\"text-align: right;\">\n",
       "      <th></th>\n",
       "      <th>Media Precio</th>\n",
       "    </tr>\n",
       "    <tr>\n",
       "      <th>Provincia</th>\n",
       "      <th></th>\n",
       "    </tr>\n",
       "  </thead>\n",
       "  <tbody>\n",
       "    <tr>\n",
       "      <th>Aguascalientes</th>\n",
       "      <td>1477188</td>\n",
       "    </tr>\n",
       "    <tr>\n",
       "      <th>Baja California Norte</th>\n",
       "      <td>767441</td>\n",
       "    </tr>\n",
       "    <tr>\n",
       "      <th>Baja California Sur</th>\n",
       "      <td>1216452</td>\n",
       "    </tr>\n",
       "    <tr>\n",
       "      <th>Campeche</th>\n",
       "      <td>1570917</td>\n",
       "    </tr>\n",
       "    <tr>\n",
       "      <th>Chiapas</th>\n",
       "      <td>1924125</td>\n",
       "    </tr>\n",
       "  </tbody>\n",
       "</table>\n",
       "</div>"
      ],
      "text/plain": [
       "                       Media Precio\n",
       "Provincia                          \n",
       "Aguascalientes              1477188\n",
       "Baja California Norte        767441\n",
       "Baja California Sur         1216452\n",
       "Campeche                    1570917\n",
       "Chiapas                     1924125"
      ]
     },
     "execution_count": 37,
     "metadata": {},
     "output_type": "execute_result"
    }
   ],
   "source": [
    "# Se le cambia el nombre a la columna\n",
    "propiedades_valores.rename(columns = {'Precio' : 'Media Precio'}, inplace=True)\n",
    "propiedades_valores.head()"
   ]
  },
  {
   "cell_type": "code",
   "execution_count": 38,
   "metadata": {},
   "outputs": [
    {
     "data": {
      "text/html": [
       "<div>\n",
       "<style scoped>\n",
       "    .dataframe tbody tr th:only-of-type {\n",
       "        vertical-align: middle;\n",
       "    }\n",
       "\n",
       "    .dataframe tbody tr th {\n",
       "        vertical-align: top;\n",
       "    }\n",
       "\n",
       "    .dataframe thead th {\n",
       "        text-align: right;\n",
       "    }\n",
       "</style>\n",
       "<table border=\"1\" class=\"dataframe\">\n",
       "  <thead>\n",
       "    <tr style=\"text-align: right;\">\n",
       "      <th></th>\n",
       "      <th>Media Precio</th>\n",
       "    </tr>\n",
       "    <tr>\n",
       "      <th>Provincia</th>\n",
       "      <th></th>\n",
       "    </tr>\n",
       "  </thead>\n",
       "  <tbody>\n",
       "    <tr>\n",
       "      <th>Distrito Federal</th>\n",
       "      <td>3471126</td>\n",
       "    </tr>\n",
       "    <tr>\n",
       "      <th>Edo. de México</th>\n",
       "      <td>2762169</td>\n",
       "    </tr>\n",
       "    <tr>\n",
       "      <th>Nuevo León</th>\n",
       "      <td>2715694</td>\n",
       "    </tr>\n",
       "    <tr>\n",
       "      <th>Guerrero</th>\n",
       "      <td>2550175</td>\n",
       "    </tr>\n",
       "    <tr>\n",
       "      <th>Quintana Roo</th>\n",
       "      <td>2402542</td>\n",
       "    </tr>\n",
       "  </tbody>\n",
       "</table>\n",
       "</div>"
      ],
      "text/plain": [
       "                  Media Precio\n",
       "Provincia                     \n",
       "Distrito Federal       3471126\n",
       "Edo. de México         2762169\n",
       "Nuevo León             2715694\n",
       "Guerrero               2550175\n",
       "Quintana Roo           2402542"
      ]
     },
     "execution_count": 38,
     "metadata": {},
     "output_type": "execute_result"
    }
   ],
   "source": [
    "# Ordeno de mayor a menor por Media\n",
    "propiedades_valores = propiedades_valores.sort_values(by='Media Precio', ascending = False)\n",
    "propiedades_valores.head()"
   ]
  },
  {
   "cell_type": "code",
   "execution_count": 39,
   "metadata": {},
   "outputs": [
    {
     "data": {
      "text/html": [
       "<div>\n",
       "<style scoped>\n",
       "    .dataframe tbody tr th:only-of-type {\n",
       "        vertical-align: middle;\n",
       "    }\n",
       "\n",
       "    .dataframe tbody tr th {\n",
       "        vertical-align: top;\n",
       "    }\n",
       "\n",
       "    .dataframe thead th {\n",
       "        text-align: right;\n",
       "    }\n",
       "</style>\n",
       "<table border=\"1\" class=\"dataframe\">\n",
       "  <thead>\n",
       "    <tr style=\"text-align: right;\">\n",
       "      <th></th>\n",
       "      <th>Provincia</th>\n",
       "      <th>Media Precio</th>\n",
       "    </tr>\n",
       "  </thead>\n",
       "  <tbody>\n",
       "    <tr>\n",
       "      <th>0</th>\n",
       "      <td>Distrito Federal</td>\n",
       "      <td>3471126</td>\n",
       "    </tr>\n",
       "    <tr>\n",
       "      <th>1</th>\n",
       "      <td>Edo. de México</td>\n",
       "      <td>2762169</td>\n",
       "    </tr>\n",
       "    <tr>\n",
       "      <th>2</th>\n",
       "      <td>Nuevo León</td>\n",
       "      <td>2715694</td>\n",
       "    </tr>\n",
       "    <tr>\n",
       "      <th>3</th>\n",
       "      <td>Guerrero</td>\n",
       "      <td>2550175</td>\n",
       "    </tr>\n",
       "    <tr>\n",
       "      <th>4</th>\n",
       "      <td>Quintana Roo</td>\n",
       "      <td>2402542</td>\n",
       "    </tr>\n",
       "  </tbody>\n",
       "</table>\n",
       "</div>"
      ],
      "text/plain": [
       "          Provincia  Media Precio\n",
       "0  Distrito Federal       3471126\n",
       "1    Edo. de México       2762169\n",
       "2        Nuevo León       2715694\n",
       "3          Guerrero       2550175\n",
       "4      Quintana Roo       2402542"
      ]
     },
     "execution_count": 39,
     "metadata": {},
     "output_type": "execute_result"
    }
   ],
   "source": [
    "# Arreglo los índices\n",
    "propiedades_valores.reset_index(inplace=True)\n",
    "propiedades_valores.head()"
   ]
  },
  {
   "cell_type": "code",
   "execution_count": 40,
   "metadata": {},
   "outputs": [
    {
     "data": {
      "text/plain": [
       "['Distrito Federal',\n",
       " 'Edo. de México',\n",
       " 'Nuevo León',\n",
       " 'Guerrero',\n",
       " 'Quintana Roo',\n",
       " 'Jalisco',\n",
       " 'Tabasco',\n",
       " 'Puebla',\n",
       " 'Morelos',\n",
       " 'Querétaro',\n",
       " 'Yucatán',\n",
       " 'Chiapas',\n",
       " 'San luis Potosí',\n",
       " 'Veracruz',\n",
       " 'Guanajuato',\n",
       " 'Chihuahua',\n",
       " 'Sinaloa',\n",
       " 'Tamaulipas',\n",
       " 'Campeche',\n",
       " 'Oaxaca',\n",
       " 'Colima',\n",
       " 'Coahuila',\n",
       " 'Sonora',\n",
       " 'Michoacán',\n",
       " 'Aguascalientes',\n",
       " 'Zacatecas',\n",
       " 'Nayarit',\n",
       " 'Hidalgo',\n",
       " 'Baja California Sur',\n",
       " 'Durango',\n",
       " 'Tlaxcala',\n",
       " 'Baja California Norte']"
      ]
     },
     "execution_count": 40,
     "metadata": {},
     "output_type": "execute_result"
    }
   ],
   "source": [
    "# Se arma una lista con los nombres de las provincias en orden alfabético\n",
    "provincias_nombres = propiedades_valores['Provincia'].unique()\n",
    "provincias_nombres = list(provincias_nombres)# Convierte nunpy.array en lista\n",
    "#provincias_nombres.pop() # Remueve el último elemento de la lista\n",
    "provincias_nombres"
   ]
  },
  {
   "cell_type": "code",
   "execution_count": 41,
   "metadata": {},
   "outputs": [
    {
     "data": {
      "image/png": "[encoded data removed]",
      "text/plain": [
       "<Figure size 1152x576 with 1 Axes>"
      ]
     },
     "metadata": {
      "needs_background": "light"
     },
     "output_type": "display_data"
    }
   ],
   "source": [
    "# Gráfico de media de precio por provincia\n",
    "indice = propiedades_valores['Provincia']\n",
    "media = propiedades_valores['Media Precio']\n",
    "ancho = 0.8\n",
    "\n",
    "plt.figure(figsize = (16,8))\n",
    "plt.bar(indice, media, ancho)\n",
    "plt.title(\"Media de los precios de propiedades por provincia\", fontsize = 25)\n",
    "plt.ylabel('Precios', fontsize = 20)\n",
    "plt.xlabel('Provincias', fontsize = 20)\n",
    "plt.xticks(rotation = 90, fontsize = 17)\n",
    "plt.yticks(fontsize = 17)\n",
    "plt.show()"
   ]
  },
  {
   "cell_type": "code",
   "execution_count": 42,
   "metadata": {},
   "outputs": [
    {
     "data": {
      "text/plain": [
       "['Distrito Federal',\n",
       " 'Edo. de México',\n",
       " 'Jalisco',\n",
       " 'Tabasco',\n",
       " 'Zacatecas',\n",
       " 'Puebla',\n",
       " 'Querétaro',\n",
       " 'Nuevo León',\n",
       " 'Oaxaca',\n",
       " 'Chihuahua',\n",
       " 'Guerrero',\n",
       " 'Morelos',\n",
       " 'Campeche',\n",
       " 'San luis Potosí',\n",
       " 'Veracruz',\n",
       " 'Guanajuato',\n",
       " 'Tamaulipas',\n",
       " 'Chiapas',\n",
       " 'Sonora',\n",
       " 'Quintana Roo',\n",
       " 'Sinaloa',\n",
       " 'Yucatán',\n",
       " 'Michoacán',\n",
       " 'Coahuila',\n",
       " 'Aguascalientes',\n",
       " 'Hidalgo',\n",
       " 'Nayarit',\n",
       " 'Durango',\n",
       " 'Baja California Sur',\n",
       " 'Baja California Norte',\n",
       " 'Tlaxcala',\n",
       " 'Colima']"
      ]
     },
     "execution_count": 42,
     "metadata": {},
     "output_type": "execute_result"
    }
   ],
   "source": [
    "# Ahora con solo gimnasios\n",
    "provincias_nombres = solo_gimnasio.groupby(['Provincia']).agg({'Precio' : 'mean'}).sort_values(by = 'Precio', ascending = False)\n",
    "provincias_nombres.rename(columns = {'Precio' : 'Media'}, inplace = True)\n",
    "provincias_nombres['Media'] = provincias_nombres['Media'].astype(np.uint32)\n",
    "provincias_nombres.reset_index(inplace = True)\n",
    "provincias_nombres = provincias_nombres['Provincia'].unique()\n",
    "provincias_nombres = list(provincias_nombres)\n",
    "provincias_nombres"
   ]
  },
  {
   "cell_type": "code",
   "execution_count": 43,
   "metadata": {},
   "outputs": [
    {
     "data": {
      "image/png": "[encoded data removed]",
      "text/plain": [
       "<Figure size 1152x576 with 1 Axes>"
      ]
     },
     "metadata": {
      "needs_background": "light"
     },
     "output_type": "display_data"
    }
   ],
   "source": [
    "# Gráfico para solo propiedades con gimnasio (exclusivamente)\n",
    "\n",
    "plt.figure(figsize = (16,8))\n",
    "plt.boxplot([solo_gimnasio.loc[solo_gimnasio['Provincia'] == provincias_nombres[0]]['Precio'], \\\n",
    "             solo_gimnasio.loc[solo_gimnasio['Provincia'] == provincias_nombres[1]]['Precio'], \\\n",
    "             solo_gimnasio.loc[solo_gimnasio['Provincia'] == provincias_nombres[2]]['Precio'], \\\n",
    "             solo_gimnasio.loc[solo_gimnasio['Provincia'] == provincias_nombres[3]]['Precio'], \\\n",
    "             solo_gimnasio.loc[solo_gimnasio['Provincia'] == provincias_nombres[4]]['Precio'], \\\n",
    "             solo_gimnasio.loc[solo_gimnasio['Provincia'] == provincias_nombres[5]]['Precio'], \\\n",
    "             solo_gimnasio.loc[solo_gimnasio['Provincia'] == provincias_nombres[6]]['Precio'], \\\n",
    "             solo_gimnasio.loc[solo_gimnasio['Provincia'] == provincias_nombres[7]]['Precio'], \\\n",
    "             solo_gimnasio.loc[solo_gimnasio['Provincia'] == provincias_nombres[8]]['Precio'], \\\n",
    "             solo_gimnasio.loc[solo_gimnasio['Provincia'] == provincias_nombres[9]]['Precio'], \\\n",
    "             solo_gimnasio.loc[solo_gimnasio['Provincia'] == provincias_nombres[10]]['Precio'], \\\n",
    "             solo_gimnasio.loc[solo_gimnasio['Provincia'] == provincias_nombres[11]]['Precio'], \\\n",
    "             solo_gimnasio.loc[solo_gimnasio['Provincia'] == provincias_nombres[12]]['Precio'], \\\n",
    "             solo_gimnasio.loc[solo_gimnasio['Provincia'] == provincias_nombres[13]]['Precio'], \\\n",
    "             solo_gimnasio.loc[solo_gimnasio['Provincia'] == provincias_nombres[14]]['Precio'], \\\n",
    "             solo_gimnasio.loc[solo_gimnasio['Provincia'] == provincias_nombres[15]]['Precio'], \\\n",
    "             solo_gimnasio.loc[solo_gimnasio['Provincia'] == provincias_nombres[16]]['Precio'], \\\n",
    "             solo_gimnasio.loc[solo_gimnasio['Provincia'] == provincias_nombres[17]]['Precio'], \\\n",
    "             solo_gimnasio.loc[solo_gimnasio['Provincia'] == provincias_nombres[18]]['Precio'], \\\n",
    "             solo_gimnasio.loc[solo_gimnasio['Provincia'] == provincias_nombres[19]]['Precio'], \\\n",
    "             solo_gimnasio.loc[solo_gimnasio['Provincia'] == provincias_nombres[20]]['Precio'], \\\n",
    "             solo_gimnasio.loc[solo_gimnasio['Provincia'] == provincias_nombres[21]]['Precio'], \\\n",
    "             solo_gimnasio.loc[solo_gimnasio['Provincia'] == provincias_nombres[22]]['Precio'], \\\n",
    "             solo_gimnasio.loc[solo_gimnasio['Provincia'] == provincias_nombres[23]]['Precio'], \\\n",
    "             solo_gimnasio.loc[solo_gimnasio['Provincia'] == provincias_nombres[24]]['Precio'], \\\n",
    "             solo_gimnasio.loc[solo_gimnasio['Provincia'] == provincias_nombres[25]]['Precio'], \\\n",
    "             solo_gimnasio.loc[solo_gimnasio['Provincia'] == provincias_nombres[26]]['Precio'], \\\n",
    "             solo_gimnasio.loc[solo_gimnasio['Provincia'] == provincias_nombres[27]]['Precio'], \\\n",
    "             solo_gimnasio.loc[solo_gimnasio['Provincia'] == provincias_nombres[28]]['Precio'], \\\n",
    "             solo_gimnasio.loc[solo_gimnasio['Provincia'] == provincias_nombres[29]]['Precio'], \\\n",
    "             solo_gimnasio.loc[solo_gimnasio['Provincia'] == provincias_nombres[30]]['Precio'], \\\n",
    "             solo_gimnasio.loc[solo_gimnasio['Provincia'] == provincias_nombres[31]]['Precio']], \\\n",
    "            labels = provincias_nombres, \\\n",
    "            widths = 0.8, \\\n",
    "            meanline = True, showmeans = True, \\\n",
    "            boxprops = dict(linewidth=1), \\\n",
    "            meanprops = dict(linestyle = '-', linewidth=2, color = 'darkcyan'), \\\n",
    "            # linestyle = '-' muestra la media con línea sólida\n",
    "            flierprops = dict(marker='o', markerfacecolor='none', markersize=5, linestyle='none', markeredgecolor = 'grey'), \\\n",
    "            medianprops = dict(linestyle = 'none'))\n",
    "plt.title(\"Dispersión de los precios de propiedades con solo Gimnasios\", fontsize = 25)\n",
    "plt.ylabel('Precios', fontsize = 20)\n",
    "plt.xlabel('Provincias', fontsize = 20)\n",
    "plt.xticks(rotation = 90, fontsize = 17)\n",
    "plt.yticks(fontsize = 17)\n",
    "plt.show()"
   ]
  },
  {
   "cell_type": "code",
   "execution_count": 44,
   "metadata": {},
   "outputs": [
    {
     "data": {
      "text/plain": [
       "['Edo. de México',\n",
       " 'Distrito Federal',\n",
       " 'Puebla',\n",
       " 'Nuevo León',\n",
       " 'Chiapas',\n",
       " 'Coahuila',\n",
       " 'Zacatecas',\n",
       " 'Baja California Sur',\n",
       " 'Morelos',\n",
       " 'San luis Potosí',\n",
       " 'Chihuahua',\n",
       " 'Jalisco',\n",
       " 'Tabasco',\n",
       " 'Guerrero',\n",
       " 'Veracruz',\n",
       " 'Querétaro',\n",
       " 'Michoacán',\n",
       " 'Guanajuato',\n",
       " 'Yucatán',\n",
       " 'Aguascalientes',\n",
       " 'Colima',\n",
       " 'Sonora',\n",
       " 'Oaxaca',\n",
       " 'Hidalgo',\n",
       " 'Durango',\n",
       " 'Baja California Norte',\n",
       " 'Quintana Roo',\n",
       " 'Campeche',\n",
       " 'Sinaloa',\n",
       " 'Tlaxcala',\n",
       " 'Tamaulipas',\n",
       " 'Nayarit']"
      ]
     },
     "execution_count": 44,
     "metadata": {},
     "output_type": "execute_result"
    }
   ],
   "source": [
    "# Ahora con solo SUM\n",
    "provincias_nombres = solo_sum.groupby(['Provincia']).agg({'Precio' : 'mean'}).sort_values(by = 'Precio', ascending = False)\n",
    "provincias_nombres.rename(columns = {'Precio' : 'Media'}, inplace = True)\n",
    "provincias_nombres['Media'] = provincias_nombres['Media'].astype(np.uint32)\n",
    "provincias_nombres.reset_index(inplace = True)\n",
    "provincias_nombres = provincias_nombres['Provincia'].unique()\n",
    "provincias_nombres = list(provincias_nombres)\n",
    "provincias_nombres"
   ]
  },
  {
   "cell_type": "code",
   "execution_count": 45,
   "metadata": {},
   "outputs": [
    {
     "data": {
      "image/png": "[encoded data removed]",
      "text/plain": [
       "<Figure size 1152x576 with 1 Axes>"
      ]
     },
     "metadata": {
      "needs_background": "light"
     },
     "output_type": "display_data"
    }
   ],
   "source": [
    "# Gráfico para solo propiedades con Salón de Usos Múltiples (exclusivamente)\n",
    "\n",
    "plt.figure(figsize = (16,8))\n",
    "plt.boxplot([solo_sum.loc[solo_sum['Provincia'] == provincias_nombres[0]]['Precio'], \\\n",
    "             solo_sum.loc[solo_sum['Provincia'] == provincias_nombres[1]]['Precio'], \\\n",
    "             solo_sum.loc[solo_sum['Provincia'] == provincias_nombres[2]]['Precio'], \\\n",
    "             solo_sum.loc[solo_sum['Provincia'] == provincias_nombres[3]]['Precio'], \\\n",
    "             solo_sum.loc[solo_sum['Provincia'] == provincias_nombres[4]]['Precio'], \\\n",
    "             solo_sum.loc[solo_sum['Provincia'] == provincias_nombres[5]]['Precio'], \\\n",
    "             solo_sum.loc[solo_sum['Provincia'] == provincias_nombres[6]]['Precio'], \\\n",
    "             solo_sum.loc[solo_sum['Provincia'] == provincias_nombres[7]]['Precio'], \\\n",
    "             solo_sum.loc[solo_sum['Provincia'] == provincias_nombres[8]]['Precio'], \\\n",
    "             solo_sum.loc[solo_sum['Provincia'] == provincias_nombres[9]]['Precio'], \\\n",
    "             solo_sum.loc[solo_sum['Provincia'] == provincias_nombres[10]]['Precio'], \\\n",
    "             solo_sum.loc[solo_sum['Provincia'] == provincias_nombres[11]]['Precio'], \\\n",
    "             solo_sum.loc[solo_sum['Provincia'] == provincias_nombres[12]]['Precio'], \\\n",
    "             solo_sum.loc[solo_sum['Provincia'] == provincias_nombres[13]]['Precio'], \\\n",
    "             solo_sum.loc[solo_sum['Provincia'] == provincias_nombres[14]]['Precio'], \\\n",
    "             solo_sum.loc[solo_sum['Provincia'] == provincias_nombres[15]]['Precio'], \\\n",
    "             solo_sum.loc[solo_sum['Provincia'] == provincias_nombres[16]]['Precio'], \\\n",
    "             solo_sum.loc[solo_sum['Provincia'] == provincias_nombres[17]]['Precio'], \\\n",
    "             solo_sum.loc[solo_sum['Provincia'] == provincias_nombres[18]]['Precio'], \\\n",
    "             solo_sum.loc[solo_sum['Provincia'] == provincias_nombres[19]]['Precio'], \\\n",
    "             solo_sum.loc[solo_sum['Provincia'] == provincias_nombres[20]]['Precio'], \\\n",
    "             solo_sum.loc[solo_sum['Provincia'] == provincias_nombres[21]]['Precio'], \\\n",
    "             solo_sum.loc[solo_sum['Provincia'] == provincias_nombres[22]]['Precio'], \\\n",
    "             solo_sum.loc[solo_sum['Provincia'] == provincias_nombres[23]]['Precio'], \\\n",
    "             solo_sum.loc[solo_sum['Provincia'] == provincias_nombres[24]]['Precio'], \\\n",
    "             solo_sum.loc[solo_sum['Provincia'] == provincias_nombres[25]]['Precio'], \\\n",
    "             solo_sum.loc[solo_sum['Provincia'] == provincias_nombres[26]]['Precio'], \\\n",
    "             solo_sum.loc[solo_sum['Provincia'] == provincias_nombres[27]]['Precio'], \\\n",
    "             solo_sum.loc[solo_sum['Provincia'] == provincias_nombres[28]]['Precio'], \\\n",
    "             solo_sum.loc[solo_sum['Provincia'] == provincias_nombres[29]]['Precio'], \\\n",
    "             solo_sum.loc[solo_sum['Provincia'] == provincias_nombres[30]]['Precio'], \\\n",
    "             solo_sum.loc[solo_sum['Provincia'] == provincias_nombres[31]]['Precio']], \\\n",
    "            labels = provincias_nombres, \\\n",
    "            widths = 0.8, \\\n",
    "            meanline = True, showmeans = True, \\\n",
    "            boxprops = dict(linewidth=1), \\\n",
    "            meanprops = dict(linestyle = '-', linewidth=2, color = 'indianred'), \\\n",
    "            # linestyle = '-' muestra la media con línea sólida\n",
    "            flierprops = dict(marker='o', markerfacecolor='none', markersize=5, linestyle='none', markeredgecolor = 'grey'), \\\n",
    "            medianprops = dict(linestyle = 'none'))\n",
    "plt.title(\"Dispersión de los precios de propiedades con solo SUM\", fontsize = 25)\n",
    "plt.ylabel('Precios', fontsize = 20)\n",
    "plt.xlabel('Provincias', fontsize = 20)\n",
    "plt.xticks(rotation = 90, fontsize = 17)\n",
    "plt.yticks(fontsize = 17)\n",
    "plt.show()"
   ]
  },
  {
   "cell_type": "code",
   "execution_count": 46,
   "metadata": {},
   "outputs": [
    {
     "data": {
      "text/plain": [
       "Ciudad                 0\n",
       "Provincia              0\n",
       "TieneGimnasio          0\n",
       "TieneUsosMultiples     0\n",
       "TienePileta            0\n",
       "TieneEscuelasCerca     0\n",
       "TieneShoppingsCerca    0\n",
       "Precio                 0\n",
       "dtype: int64"
      ]
     },
     "execution_count": 46,
     "metadata": {},
     "output_type": "execute_result"
    }
   ],
   "source": [
    "solo_piscina.isnull().sum()"
   ]
  },
  {
   "cell_type": "code",
   "execution_count": 47,
   "metadata": {},
   "outputs": [
    {
     "data": {
      "text/html": [
       "<div>\n",
       "<style scoped>\n",
       "    .dataframe tbody tr th:only-of-type {\n",
       "        vertical-align: middle;\n",
       "    }\n",
       "\n",
       "    .dataframe tbody tr th {\n",
       "        vertical-align: top;\n",
       "    }\n",
       "\n",
       "    .dataframe thead th {\n",
       "        text-align: right;\n",
       "    }\n",
       "</style>\n",
       "<table border=\"1\" class=\"dataframe\">\n",
       "  <thead>\n",
       "    <tr style=\"text-align: right;\">\n",
       "      <th></th>\n",
       "      <th>Media</th>\n",
       "    </tr>\n",
       "    <tr>\n",
       "      <th>Provincia</th>\n",
       "      <th></th>\n",
       "    </tr>\n",
       "  </thead>\n",
       "  <tbody>\n",
       "    <tr>\n",
       "      <th>Distrito Federal</th>\n",
       "      <td>False</td>\n",
       "    </tr>\n",
       "    <tr>\n",
       "      <th>Edo. de México</th>\n",
       "      <td>False</td>\n",
       "    </tr>\n",
       "    <tr>\n",
       "      <th>Nuevo León</th>\n",
       "      <td>False</td>\n",
       "    </tr>\n",
       "    <tr>\n",
       "      <th>Tabasco</th>\n",
       "      <td>False</td>\n",
       "    </tr>\n",
       "    <tr>\n",
       "      <th>Quintana Roo</th>\n",
       "      <td>False</td>\n",
       "    </tr>\n",
       "    <tr>\n",
       "      <th>Tamaulipas</th>\n",
       "      <td>False</td>\n",
       "    </tr>\n",
       "    <tr>\n",
       "      <th>Jalisco</th>\n",
       "      <td>False</td>\n",
       "    </tr>\n",
       "    <tr>\n",
       "      <th>Coahuila</th>\n",
       "      <td>False</td>\n",
       "    </tr>\n",
       "    <tr>\n",
       "      <th>Puebla</th>\n",
       "      <td>False</td>\n",
       "    </tr>\n",
       "    <tr>\n",
       "      <th>Chihuahua</th>\n",
       "      <td>False</td>\n",
       "    </tr>\n",
       "    <tr>\n",
       "      <th>Yucatán</th>\n",
       "      <td>False</td>\n",
       "    </tr>\n",
       "    <tr>\n",
       "      <th>Colima</th>\n",
       "      <td>False</td>\n",
       "    </tr>\n",
       "    <tr>\n",
       "      <th>Guanajuato</th>\n",
       "      <td>False</td>\n",
       "    </tr>\n",
       "    <tr>\n",
       "      <th>Oaxaca</th>\n",
       "      <td>False</td>\n",
       "    </tr>\n",
       "    <tr>\n",
       "      <th>Sonora</th>\n",
       "      <td>False</td>\n",
       "    </tr>\n",
       "    <tr>\n",
       "      <th>Chiapas</th>\n",
       "      <td>False</td>\n",
       "    </tr>\n",
       "    <tr>\n",
       "      <th>Veracruz</th>\n",
       "      <td>False</td>\n",
       "    </tr>\n",
       "    <tr>\n",
       "      <th>Baja California Sur</th>\n",
       "      <td>False</td>\n",
       "    </tr>\n",
       "    <tr>\n",
       "      <th>Michoacán</th>\n",
       "      <td>False</td>\n",
       "    </tr>\n",
       "    <tr>\n",
       "      <th>Campeche</th>\n",
       "      <td>False</td>\n",
       "    </tr>\n",
       "    <tr>\n",
       "      <th>Morelos</th>\n",
       "      <td>False</td>\n",
       "    </tr>\n",
       "    <tr>\n",
       "      <th>Durango</th>\n",
       "      <td>False</td>\n",
       "    </tr>\n",
       "    <tr>\n",
       "      <th>Sinaloa</th>\n",
       "      <td>False</td>\n",
       "    </tr>\n",
       "    <tr>\n",
       "      <th>Querétaro</th>\n",
       "      <td>False</td>\n",
       "    </tr>\n",
       "    <tr>\n",
       "      <th>Guerrero</th>\n",
       "      <td>False</td>\n",
       "    </tr>\n",
       "    <tr>\n",
       "      <th>Nayarit</th>\n",
       "      <td>False</td>\n",
       "    </tr>\n",
       "    <tr>\n",
       "      <th>San luis Potosí</th>\n",
       "      <td>False</td>\n",
       "    </tr>\n",
       "    <tr>\n",
       "      <th>Tlaxcala</th>\n",
       "      <td>False</td>\n",
       "    </tr>\n",
       "    <tr>\n",
       "      <th>Aguascalientes</th>\n",
       "      <td>False</td>\n",
       "    </tr>\n",
       "    <tr>\n",
       "      <th>Baja California Norte</th>\n",
       "      <td>False</td>\n",
       "    </tr>\n",
       "    <tr>\n",
       "      <th>Hidalgo</th>\n",
       "      <td>False</td>\n",
       "    </tr>\n",
       "    <tr>\n",
       "      <th>Zacatecas</th>\n",
       "      <td>True</td>\n",
       "    </tr>\n",
       "  </tbody>\n",
       "</table>\n",
       "</div>"
      ],
      "text/plain": [
       "                       Media\n",
       "Provincia                   \n",
       "Distrito Federal       False\n",
       "Edo. de México         False\n",
       "Nuevo León             False\n",
       "Tabasco                False\n",
       "Quintana Roo           False\n",
       "Tamaulipas             False\n",
       "Jalisco                False\n",
       "Coahuila               False\n",
       "Puebla                 False\n",
       "Chihuahua              False\n",
       "Yucatán                False\n",
       "Colima                 False\n",
       "Guanajuato             False\n",
       "Oaxaca                 False\n",
       "Sonora                 False\n",
       "Chiapas                False\n",
       "Veracruz               False\n",
       "Baja California Sur    False\n",
       "Michoacán              False\n",
       "Campeche               False\n",
       "Morelos                False\n",
       "Durango                False\n",
       "Sinaloa                False\n",
       "Querétaro              False\n",
       "Guerrero               False\n",
       "Nayarit                False\n",
       "San luis Potosí        False\n",
       "Tlaxcala               False\n",
       "Aguascalientes         False\n",
       "Baja California Norte  False\n",
       "Hidalgo                False\n",
       "Zacatecas               True"
      ]
     },
     "execution_count": 47,
     "metadata": {},
     "output_type": "execute_result"
    }
   ],
   "source": [
    "# Ahora con solo Piletas\n",
    "provincias_nombres = solo_piscina.groupby(['Provincia']).agg({'Precio' : 'mean'}).sort_values(by = 'Precio', ascending = False)\n",
    "provincias_nombres.rename(columns = {'Precio' : 'Media'}, inplace = True)\n",
    "provincias_nombres.isnull()\n",
    "# Hay un caso nulo: Zacatecas "
   ]
  },
  {
   "cell_type": "code",
   "execution_count": 48,
   "metadata": {},
   "outputs": [
    {
     "name": "stdout",
     "output_type": "stream",
     "text": [
      "0.0    94\n",
      "Name: TienePileta, dtype: int64\n",
      "Solo hay 0.0 (\"Falso\") en el conteo, esto es que ninguna propiedad tiene pileta en Zacatecas\n"
     ]
    },
    {
     "data": {
      "text/html": [
       "<div>\n",
       "<style scoped>\n",
       "    .dataframe tbody tr th:only-of-type {\n",
       "        vertical-align: middle;\n",
       "    }\n",
       "\n",
       "    .dataframe tbody tr th {\n",
       "        vertical-align: top;\n",
       "    }\n",
       "\n",
       "    .dataframe thead th {\n",
       "        text-align: right;\n",
       "    }\n",
       "</style>\n",
       "<table border=\"1\" class=\"dataframe\">\n",
       "  <thead>\n",
       "    <tr style=\"text-align: right;\">\n",
       "      <th></th>\n",
       "      <th>ID</th>\n",
       "      <th>Titulo</th>\n",
       "      <th>TipoPropiedad</th>\n",
       "      <th>Precio</th>\n",
       "      <th>Fecha</th>\n",
       "      <th>Antiguedad</th>\n",
       "      <th>MetrosCuadradosCubiertos</th>\n",
       "      <th>MetrosCuadradosTotales</th>\n",
       "      <th>Descripcion</th>\n",
       "      <th>CantHabitaciones</th>\n",
       "      <th>CantGarages</th>\n",
       "      <th>CantBanos</th>\n",
       "      <th>IDZona</th>\n",
       "      <th>Direccion</th>\n",
       "      <th>Ciudad</th>\n",
       "      <th>Provincia</th>\n",
       "      <th>Latitud</th>\n",
       "      <th>Longitud</th>\n",
       "      <th>TieneGimnasio</th>\n",
       "      <th>TieneUsosMultiples</th>\n",
       "      <th>TienePileta</th>\n",
       "      <th>TieneEscuelasCerca</th>\n",
       "      <th>TieneShoppingsCerca</th>\n",
       "    </tr>\n",
       "  </thead>\n",
       "  <tbody>\n",
       "  </tbody>\n",
       "</table>\n",
       "</div>"
      ],
      "text/plain": [
       "Empty DataFrame\n",
       "Columns: [ID, Titulo, TipoPropiedad, Precio, Fecha, Antiguedad, MetrosCuadradosCubiertos, MetrosCuadradosTotales, Descripcion, CantHabitaciones, CantGarages, CantBanos, IDZona, Direccion, Ciudad, Provincia, Latitud, Longitud, TieneGimnasio, TieneUsosMultiples, TienePileta, TieneEscuelasCerca, TieneShoppingsCerca]\n",
       "Index: []"
      ]
     },
     "execution_count": 48,
     "metadata": {},
     "output_type": "execute_result"
    }
   ],
   "source": [
    "print(dfok.loc[dfok['Provincia'] == 'Zacatecas']['TienePileta'].value_counts())\n",
    "print('Solo hay 0.0 (\"Falso\") en el conteo, esto es que ninguna propiedad tiene pileta en Zacatecas')\n",
    "dfok.loc[(dfok['Provincia'] == 'Zacatecas') & (dfok['TienePileta'] == True)]"
   ]
  },
  {
   "cell_type": "markdown",
   "metadata": {},
   "source": [
    "En Zacatecas no hay propiedad que tenga Pileta"
   ]
  },
  {
   "cell_type": "code",
   "execution_count": 49,
   "metadata": {},
   "outputs": [],
   "source": [
    "provincias_nombres.dropna(inplace = True)\n",
    "provincias_nombres['Media'] = provincias_nombres['Media'].astype(np.uint32)\n",
    "provincias_nombres.reset_index(inplace = True)\n",
    "provincias_nombres = provincias_nombres['Provincia'].unique()\n",
    "provincias_nombres = list(provincias_nombres)"
   ]
  },
  {
   "cell_type": "code",
   "execution_count": 50,
   "metadata": {},
   "outputs": [
    {
     "data": {
      "text/plain": [
       "['Distrito Federal',\n",
       " 'Edo. de México',\n",
       " 'Nuevo León',\n",
       " 'Tabasco',\n",
       " 'Quintana Roo',\n",
       " 'Tamaulipas',\n",
       " 'Jalisco',\n",
       " 'Coahuila',\n",
       " 'Puebla',\n",
       " 'Chihuahua',\n",
       " 'Yucatán',\n",
       " 'Colima',\n",
       " 'Guanajuato',\n",
       " 'Oaxaca',\n",
       " 'Sonora',\n",
       " 'Chiapas',\n",
       " 'Veracruz',\n",
       " 'Baja California Sur',\n",
       " 'Michoacán',\n",
       " 'Campeche',\n",
       " 'Morelos',\n",
       " 'Durango',\n",
       " 'Sinaloa',\n",
       " 'Querétaro',\n",
       " 'Guerrero',\n",
       " 'Nayarit',\n",
       " 'San luis Potosí',\n",
       " 'Tlaxcala',\n",
       " 'Aguascalientes',\n",
       " 'Baja California Norte',\n",
       " 'Hidalgo']"
      ]
     },
     "execution_count": 50,
     "metadata": {},
     "output_type": "execute_result"
    }
   ],
   "source": [
    "provincias_nombres"
   ]
  },
  {
   "cell_type": "code",
   "execution_count": 51,
   "metadata": {},
   "outputs": [
    {
     "data": {
      "image/png": "[encoded data removed]",
      "text/plain": [
       "<Figure size 1152x576 with 1 Axes>"
      ]
     },
     "metadata": {
      "needs_background": "light"
     },
     "output_type": "display_data"
    }
   ],
   "source": [
    "# Gráfico para solo propiedades con Pileta (exclusivamente)\n",
    "\n",
    "plt.figure(figsize = (16,8))\n",
    "plt.boxplot([solo_piscina.loc[solo_piscina['Provincia'] == provincias_nombres[0]]['Precio'], \\\n",
    "             solo_piscina.loc[solo_piscina['Provincia'] == provincias_nombres[1]]['Precio'], \\\n",
    "             solo_piscina.loc[solo_piscina['Provincia'] == provincias_nombres[2]]['Precio'], \\\n",
    "             solo_piscina.loc[solo_piscina['Provincia'] == provincias_nombres[3]]['Precio'], \\\n",
    "             solo_piscina.loc[solo_piscina['Provincia'] == provincias_nombres[4]]['Precio'], \\\n",
    "             solo_piscina.loc[solo_piscina['Provincia'] == provincias_nombres[5]]['Precio'], \\\n",
    "             solo_piscina.loc[solo_piscina['Provincia'] == provincias_nombres[6]]['Precio'], \\\n",
    "             solo_piscina.loc[solo_piscina['Provincia'] == provincias_nombres[7]]['Precio'], \\\n",
    "             solo_piscina.loc[solo_piscina['Provincia'] == provincias_nombres[8]]['Precio'], \\\n",
    "             solo_piscina.loc[solo_piscina['Provincia'] == provincias_nombres[9]]['Precio'], \\\n",
    "             solo_piscina.loc[solo_piscina['Provincia'] == provincias_nombres[10]]['Precio'], \\\n",
    "             solo_piscina.loc[solo_piscina['Provincia'] == provincias_nombres[11]]['Precio'], \\\n",
    "             solo_piscina.loc[solo_piscina['Provincia'] == provincias_nombres[12]]['Precio'], \\\n",
    "             solo_piscina.loc[solo_piscina['Provincia'] == provincias_nombres[13]]['Precio'], \\\n",
    "             solo_piscina.loc[solo_piscina['Provincia'] == provincias_nombres[14]]['Precio'], \\\n",
    "             solo_piscina.loc[solo_piscina['Provincia'] == provincias_nombres[15]]['Precio'], \\\n",
    "             solo_piscina.loc[solo_piscina['Provincia'] == provincias_nombres[16]]['Precio'], \\\n",
    "             solo_piscina.loc[solo_piscina['Provincia'] == provincias_nombres[17]]['Precio'], \\\n",
    "             solo_piscina.loc[solo_piscina['Provincia'] == provincias_nombres[18]]['Precio'], \\\n",
    "             solo_piscina.loc[solo_piscina['Provincia'] == provincias_nombres[19]]['Precio'], \\\n",
    "             solo_piscina.loc[solo_piscina['Provincia'] == provincias_nombres[20]]['Precio'], \\\n",
    "             solo_piscina.loc[solo_piscina['Provincia'] == provincias_nombres[21]]['Precio'], \\\n",
    "             solo_piscina.loc[solo_piscina['Provincia'] == provincias_nombres[22]]['Precio'], \\\n",
    "             solo_piscina.loc[solo_piscina['Provincia'] == provincias_nombres[23]]['Precio'], \\\n",
    "             solo_piscina.loc[solo_piscina['Provincia'] == provincias_nombres[24]]['Precio'], \\\n",
    "             solo_piscina.loc[solo_piscina['Provincia'] == provincias_nombres[25]]['Precio'], \\\n",
    "             solo_piscina.loc[solo_piscina['Provincia'] == provincias_nombres[26]]['Precio'], \\\n",
    "             solo_piscina.loc[solo_piscina['Provincia'] == provincias_nombres[27]]['Precio'], \\\n",
    "             solo_piscina.loc[solo_piscina['Provincia'] == provincias_nombres[28]]['Precio'], \\\n",
    "             solo_piscina.loc[solo_piscina['Provincia'] == provincias_nombres[29]]['Precio'], \\\n",
    "             solo_piscina.loc[solo_piscina['Provincia'] == provincias_nombres[30]]['Precio']], \\\n",
    "            labels = provincias_nombres, \\\n",
    "            widths = 0.8, \\\n",
    "            meanline = True, showmeans = True, \\\n",
    "            boxprops = dict(linewidth=1), \\\n",
    "            meanprops = dict(linestyle = '-', linewidth=2, color = 'steelblue'), \\\n",
    "            # linestyle = '-' muestra la media con línea sólida\n",
    "            flierprops = dict(marker='o', markerfacecolor='none', markersize=5, linestyle='none', markeredgecolor = 'grey'), \\\n",
    "            medianprops = dict(linestyle = 'none'))\n",
    "plt.title(\"Dispersión de los precios de propiedades con solo Piscinas\", fontsize = 25)\n",
    "plt.ylabel('Precios', fontsize = 20)\n",
    "plt.xlabel('Provincias', fontsize = 20)\n",
    "plt.xticks(rotation = 90, fontsize = 17)\n",
    "plt.yticks(fontsize = 17)\n",
    "plt.show()"
   ]
  },
  {
   "cell_type": "markdown",
   "metadata": {},
   "source": [
    "# Análisis de tipo de comodidad a medida que pasan los años"
   ]
  },
  {
   "cell_type": "code",
   "execution_count": 52,
   "metadata": {},
   "outputs": [],
   "source": [
    "# Se usa df_ok para las columnas porque tiene números en las columnas, sirve para contar.\n",
    "df_comodidad = dfok[['TieneGimnasio', \\\n",
    "                     'TieneUsosMultiples', \\\n",
    "                     'TienePileta', \\\n",
    "                     'TieneEscuelasCerca', \\\n",
    "                     'TieneShoppingsCerca']]\n",
    "# Aquí se usa dfok pues tiene la columna 'Antiguedad'\n",
    "df_comodidad.insert(0, 'Antiguedad', dfok['Antiguedad'])"
   ]
  },
  {
   "cell_type": "markdown",
   "metadata": {},
   "source": [
    "### Analizo si hay nulos"
   ]
  },
  {
   "cell_type": "code",
   "execution_count": 53,
   "metadata": {},
   "outputs": [
    {
     "name": "stdout",
     "output_type": "stream",
     "text": [
      "Antiguedad             43555\n",
      "TieneGimnasio              0\n",
      "TieneUsosMultiples         0\n",
      "TienePileta                0\n",
      "TieneEscuelasCerca         0\n",
      "TieneShoppingsCerca        0\n",
      "dtype: int64\n",
      "Memoria usada 10.99 MB\n"
     ]
    }
   ],
   "source": [
    "print(df_comodidad.isnull().sum())\n",
    "memoria_usada = df_comodidad.memory_usage().sum()/(1024*1024)\n",
    "print('Memoria usada', memoria_usada.round(2), \"MB\")"
   ]
  },
  {
   "cell_type": "markdown",
   "metadata": {},
   "source": [
    "Hay 43555 casos nulos y es necesario rmoverlos para covertir los tipos. Hasta aquí los tipos del DataFrame df_comodidad son float64."
   ]
  },
  {
   "cell_type": "code",
   "execution_count": 54,
   "metadata": {},
   "outputs": [
    {
     "data": {
      "text/plain": [
       "Antiguedad             float64\n",
       "TieneGimnasio          float64\n",
       "TieneUsosMultiples     float64\n",
       "TienePileta            float64\n",
       "TieneEscuelasCerca     float64\n",
       "TieneShoppingsCerca    float64\n",
       "dtype: object"
      ]
     },
     "execution_count": 54,
     "metadata": {},
     "output_type": "execute_result"
    }
   ],
   "source": [
    "# Elimino las filas nulas, para así poder realizar las conversión de tipos.\n",
    "# Además, para este análisis es necesario un valor en la columna 'Antiguedad'.\n",
    "df_comodidad = df_comodidad.dropna().copy()\n",
    "df_comodidad.reset_index(drop = True, inplace = True)\n",
    "df_comodidad.dtypes"
   ]
  },
  {
   "cell_type": "code",
   "execution_count": 55,
   "metadata": {},
   "outputs": [
    {
     "name": "stdout",
     "output_type": "stream",
     "text": [
      "Memoria usada 1.12 MB\n"
     ]
    }
   ],
   "source": [
    "# Cambio los tipos del DataFrame\n",
    "df_comodidad['Antiguedad'] = df_comodidad['Antiguedad'].astype(np.uint8)\n",
    "df_comodidad['TieneGimnasio'] = df_comodidad['TieneGimnasio'].astype(np.uint8)\n",
    "df_comodidad['TieneUsosMultiples'] = df_comodidad['TieneUsosMultiples'].astype(np.uint8)\n",
    "df_comodidad['TienePileta'] = df_comodidad['TienePileta'].astype(np.uint8)\n",
    "df_comodidad['TieneEscuelasCerca'] = df_comodidad['TieneEscuelasCerca'].astype(np.uint8)\n",
    "df_comodidad['TieneShoppingsCerca'] = df_comodidad['TieneShoppingsCerca'].astype(np.uint8)\n",
    "memoria_usada = df_comodidad.memory_usage().sum()/(1024*1024)\n",
    "print('Memoria usada', memoria_usada.round(2), \"MB\")"
   ]
  },
  {
   "cell_type": "markdown",
   "metadata": {},
   "source": [
    "Como se tienen 80 años para antigüedad, agregro una columna con rango de años."
   ]
  },
  {
   "cell_type": "code",
   "execution_count": 56,
   "metadata": {},
   "outputs": [],
   "source": [
    "# Se define una función de calcula el rango de años dónde cae la antigüedad de la propiedad\n",
    "# Primero se elige un orden y luego se cambia el nombre de las filas.\n",
    "# Esto es para evitar tener que insrtar una fila en medio del DataFrame\n",
    "def rango_de_años(df):\n",
    "    if df['Antiguedad'] <= 5: return '00'# '0 - 5'\n",
    "    elif 6  <= df['Antiguedad'] <= 10: return '01'# '6 - 10'\n",
    "    elif 11 <= df['Antiguedad'] <= 15: return '02'# '11 - 15'\n",
    "    elif 16 <= df['Antiguedad'] <= 20: return '03'# '16 - 20'\n",
    "    elif 21 <= df['Antiguedad'] <= 25: return '04'# '21 - 25'\n",
    "    elif 26 <= df['Antiguedad'] <= 30: return '05'# '26 - 30'\n",
    "    elif 31 <= df['Antiguedad'] <= 35: return '06'# '31 - 35'\n",
    "    elif 36 <= df['Antiguedad'] <= 40: return '07'# '26 - 40'\n",
    "    elif 41 <= df['Antiguedad'] <= 45: return '08'# '41 - 45'\n",
    "    elif 46 <= df['Antiguedad'] <= 50: return '09'# '46 - 50'\n",
    "    elif 51 <= df['Antiguedad'] <= 55: return '10'# '51 - 55'\n",
    "    elif 56 <= df['Antiguedad'] <= 60: return '11'# '56 - 60'\n",
    "    elif 61 <= df['Antiguedad'] <= 65: return '12'# '61 - 65'\n",
    "    elif 66 <= df['Antiguedad'] <= 70: return '13'# '66 - 70'\n",
    "    elif 71 <= df['Antiguedad'] <= 75: return '14'# '71 - 75'\n",
    "    elif 76 <= df['Antiguedad'] <= 80: return '15'# '76 - 80'"
   ]
  },
  {
   "cell_type": "code",
   "execution_count": 57,
   "metadata": {},
   "outputs": [],
   "source": [
    "df_aux = df_comodidad.apply(rango_de_años, axis = 1) # Devuelve una serie"
   ]
  },
  {
   "cell_type": "code",
   "execution_count": 58,
   "metadata": {},
   "outputs": [],
   "source": [
    "# Se agrega la columna correspondiente al rango de años de antigüedad\n",
    "df_comodidad['RangoDeAños'] = df_aux"
   ]
  },
  {
   "cell_type": "code",
   "execution_count": 59,
   "metadata": {},
   "outputs": [],
   "source": [
    "#df_comodidad.sort_values(by='RangoDeAños', ascending=True, inplace=True)"
   ]
  },
  {
   "cell_type": "code",
   "execution_count": 60,
   "metadata": {},
   "outputs": [],
   "source": [
    "df_aux = df_comodidad.groupby('RangoDeAños').agg({'TieneGimnasio':'sum', \\\n",
    "                                        'TieneUsosMultiples':'sum', \\\n",
    "                                        'TienePileta':'sum', \\\n",
    "                                        'TieneEscuelasCerca':'sum', \\\n",
    "                                        'TieneShoppingsCerca':'sum'})\n",
    "# Aquí df_aux no toma en cuenta la columna Antigüedad"
   ]
  },
  {
   "cell_type": "code",
   "execution_count": 61,
   "metadata": {},
   "outputs": [],
   "source": [
    "df_comodidad = df_aux.copy()"
   ]
  },
  {
   "cell_type": "code",
   "execution_count": 62,
   "metadata": {},
   "outputs": [],
   "source": [
    "# Ahora se cambia el nombre de las filas del índice RangoDeAños\n",
    "dictionary = {'00':'0 - 5', '01':'6 - 10', '02':'11 - 15', '03':'16 - 20', \\\n",
    "             '04':'21 - 25', '05':'26 - 30', '06':'31 - 35', '07':'36 - 40', \\\n",
    "             '08':'41 - 45', '09':'46 - 50', '10':'51 - 55', '11':'56 - 60', \\\n",
    "             '12':'61 - 65', '13':'66 - 70', '14':'71 - 75', '15':'76 - 80'}\n",
    "df_comodidad.rename(dictionary, axis=0, inplace=True)"
   ]
  },
  {
   "cell_type": "code",
   "execution_count": 63,
   "metadata": {},
   "outputs": [
    {
     "data": {
      "text/html": [
       "<div>\n",
       "<style scoped>\n",
       "    .dataframe tbody tr th:only-of-type {\n",
       "        vertical-align: middle;\n",
       "    }\n",
       "\n",
       "    .dataframe tbody tr th {\n",
       "        vertical-align: top;\n",
       "    }\n",
       "\n",
       "    .dataframe thead th {\n",
       "        text-align: right;\n",
       "    }\n",
       "</style>\n",
       "<table border=\"1\" class=\"dataframe\">\n",
       "  <thead>\n",
       "    <tr style=\"text-align: right;\">\n",
       "      <th></th>\n",
       "      <th>TieneGimnasio</th>\n",
       "      <th>TieneUsosMultiples</th>\n",
       "      <th>TienePileta</th>\n",
       "      <th>TieneEscuelasCerca</th>\n",
       "      <th>TieneShoppingsCerca</th>\n",
       "    </tr>\n",
       "    <tr>\n",
       "      <th>RangoDeAños</th>\n",
       "      <th></th>\n",
       "      <th></th>\n",
       "      <th></th>\n",
       "      <th></th>\n",
       "      <th></th>\n",
       "    </tr>\n",
       "  </thead>\n",
       "  <tbody>\n",
       "    <tr>\n",
       "      <th>0 - 5</th>\n",
       "      <td>10782.0</td>\n",
       "      <td>9652.0</td>\n",
       "      <td>15573.0</td>\n",
       "      <td>58159.0</td>\n",
       "      <td>52386.0</td>\n",
       "    </tr>\n",
       "    <tr>\n",
       "      <th>6 - 10</th>\n",
       "      <td>1659.0</td>\n",
       "      <td>1498.0</td>\n",
       "      <td>2236.0</td>\n",
       "      <td>20149.0</td>\n",
       "      <td>18271.0</td>\n",
       "    </tr>\n",
       "    <tr>\n",
       "      <th>11 - 15</th>\n",
       "      <td>314.0</td>\n",
       "      <td>218.0</td>\n",
       "      <td>457.0</td>\n",
       "      <td>3610.0</td>\n",
       "      <td>2841.0</td>\n",
       "    </tr>\n",
       "    <tr>\n",
       "      <th>16 - 20</th>\n",
       "      <td>544.0</td>\n",
       "      <td>671.0</td>\n",
       "      <td>697.0</td>\n",
       "      <td>12406.0</td>\n",
       "      <td>11514.0</td>\n",
       "    </tr>\n",
       "    <tr>\n",
       "      <th>21 - 25</th>\n",
       "      <td>162.0</td>\n",
       "      <td>78.0</td>\n",
       "      <td>138.0</td>\n",
       "      <td>1758.0</td>\n",
       "      <td>1343.0</td>\n",
       "    </tr>\n",
       "  </tbody>\n",
       "</table>\n",
       "</div>"
      ],
      "text/plain": [
       "             TieneGimnasio  TieneUsosMultiples  TienePileta  \\\n",
       "RangoDeAños                                                   \n",
       "0 - 5              10782.0              9652.0      15573.0   \n",
       "6 - 10              1659.0              1498.0       2236.0   \n",
       "11 - 15              314.0               218.0        457.0   \n",
       "16 - 20              544.0               671.0        697.0   \n",
       "21 - 25              162.0                78.0        138.0   \n",
       "\n",
       "             TieneEscuelasCerca  TieneShoppingsCerca  \n",
       "RangoDeAños                                           \n",
       "0 - 5                   58159.0              52386.0  \n",
       "6 - 10                  20149.0              18271.0  \n",
       "11 - 15                  3610.0               2841.0  \n",
       "16 - 20                 12406.0              11514.0  \n",
       "21 - 25                  1758.0               1343.0  "
      ]
     },
     "execution_count": 63,
     "metadata": {},
     "output_type": "execute_result"
    }
   ],
   "source": [
    "df_comodidad.head()"
   ]
  },
  {
   "cell_type": "code",
   "execution_count": 64,
   "metadata": {},
   "outputs": [
    {
     "data": {
      "image/png": "[encoded data removed]",
      "text/plain": [
       "<Figure size 1080x576 with 2 Axes>"
      ]
     },
     "metadata": {
      "needs_background": "light"
     },
     "output_type": "display_data"
    }
   ],
   "source": [
    "plt.figure(figsize=(15,8))\n",
    "plot = sb.heatmap(df_comodidad,cmap = 'PuBu', cbar = True)"
   ]
  }
 ],
 "metadata": {
  "kernelspec": {
   "display_name": "Python 3",
   "language": "python",
   "name": "python3"
  },
  "language_info": {
   "codemirror_mode": {
    "name": "ipython",
    "version": 3
   },
   "file_extension": ".py",
   "mimetype": "text/x-python",
   "name": "python",
   "nbconvert_exporter": "python",
   "pygments_lexer": "ipython3",
   "version": "3.7.4"
  }
 },
 "nbformat": 4,
 "nbformat_minor": 2
}
