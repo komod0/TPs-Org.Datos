{
 "cells": [
  {
   "cell_type": "code",
   "execution_count": 1,
   "metadata": {},
   "outputs": [],
   "source": [
    "import pandas as pd\n",
    "import numpy as np\n",
    "import seaborn as sb\n",
    "import matplotlib.pyplot as plt"
   ]
  },
  {
   "cell_type": "code",
   "execution_count": null,
   "metadata": {},
   "outputs": [],
   "source": [
    "df = pd.read_csv(\"train.csv\")\n",
    "pd.set_option('display.max_columns', 23) #ver todas las columnas\n",
    "pd.set_option('display.max_rows', 50) #como mucho ver 50 filas"
   ]
  },
  {
   "cell_type": "code",
   "execution_count": null,
   "metadata": {},
   "outputs": [],
   "source": [
    "''' + Sólo 8 atributos son comunes a todos los valores\n",
    "    + Se podrían renombrar varias columnas\n",
    "    + Podria cambiarse el orden de algunas columnas\n",
    "'''\n",
    "\n",
    "df.info() #42 MB"
   ]
  },
  {
   "cell_type": "code",
   "execution_count": null,
   "metadata": {},
   "outputs": [],
   "source": [
    "''' + id, antiguedad, habitaciones, garages, banos, metroscubiertos, metrostotales, idzonas y precio pueden ser int\n",
    "    + gimnasio, usosmultiples, piscina, escuelascercanas, centroscomercialescercanos pueden ser bool\n",
    "    + fecha se puede pasar a datetime\n",
    "    + tipodepropiedad, ciudad y provincia podrían ser categorías\n",
    "'''\n",
    "\n",
    "df.describe()"
   ]
  },
  {
   "cell_type": "code",
   "execution_count": null,
   "metadata": {},
   "outputs": [],
   "source": [
    "''' Hay todo tipo de datos incorrectos\n",
    "'''\n",
    "\n",
    "df[['direccion', 'descripcion', 'titulo']]"
   ]
  },
  {
   "cell_type": "code",
   "execution_count": null,
   "metadata": {},
   "outputs": [],
   "source": [
    "''' Todos los precios son enteros.'''\n",
    "pd.reset_option('float_format') #Sólo por si posteriormente se cambia el formato de los float\n",
    "df.sample(5)"
   ]
  },
  {
   "cell_type": "code",
   "execution_count": null,
   "metadata": {},
   "outputs": [],
   "source": [
    "''' Renombrar las columnas\n",
    "'''\n",
    "\n",
    "nombresNuevos = {\n",
    "                 'id' : 'ID',\n",
    "                 'titulo' : 'Titulo',\n",
    "                 'descripcion' : 'Descripcion',\n",
    "                 'tipodepropiedad' : 'TipoPropiedad',\n",
    "                 'direccion' : 'Direccion',\n",
    "                 'ciudad' : 'Ciudad',\n",
    "                 'provincia' : 'Provincia',\n",
    "                 'antiguedad' : 'Antiguedad',\n",
    "                 'habitaciones' : 'CantHabitaciones',\n",
    "                 'garages' : 'CantGarages',\n",
    "                 'banos' : 'CantBanos',\n",
    "                 'metroscubiertos' : 'MetrosCuadradosCubiertos',\n",
    "                 'metrostotales' : 'MetrosCuadradosTotales',\n",
    "                 'idzona' : 'IDZona',\n",
    "                 'lat' : 'Latitud',\n",
    "                 'lng' : 'Longitud',\n",
    "                 'fecha' : 'Fecha',\n",
    "                 'gimnasio' : 'TieneGimnasio',\n",
    "                 'usosmultiples' : 'TieneUsosMultiples',\n",
    "                 'piscina' : 'TienePileta',\n",
    "                 'escuelascercanas' : 'TieneEscuelasCerca',\n",
    "                 'centroscomercialescercanos' : 'TieneShoppingsCerca',\n",
    "                 'precio' : 'Precio'\n",
    "                \n",
    "}\n",
    "\n",
    "dfok = df.rename(columns = nombresNuevos)"
   ]
  },
  {
   "cell_type": "code",
   "execution_count": null,
   "metadata": {},
   "outputs": [],
   "source": [
    "''' Reacomodamiento de columnas\n",
    "'''\n",
    "\n",
    "nombresEnOrden = [\n",
    "                 'ID',\n",
    "                 'Titulo',\n",
    "                 'TipoPropiedad',\n",
    "                 'Precio',\n",
    "                 'Fecha',\n",
    "                 'Antiguedad',\n",
    "                 'MetrosCuadradosCubiertos',\n",
    "                 'MetrosCuadradosTotales',\n",
    "                 'Descripcion',\n",
    "                 \n",
    "                 'CantHabitaciones',\n",
    "                 'CantGarages',\n",
    "                 'CantBanos',\n",
    "               \n",
    "                 'IDZona',\n",
    "                 'Direccion',\n",
    "                 'Ciudad',\n",
    "                 'Provincia',\n",
    "                 'Latitud',\n",
    "                 'Longitud',\n",
    "                 \n",
    "                 'TieneGimnasio',\n",
    "                 'TieneUsosMultiples',\n",
    "                 'TienePileta',\n",
    "                 'TieneEscuelasCerca',\n",
    "                 'TieneShoppingsCerca'\n",
    "    ]                 \n",
    "\n",
    "dfok = dfok[nombresEnOrden]\n",
    "dfok.head()"
   ]
  },
  {
   "cell_type": "code",
   "execution_count": null,
   "metadata": {},
   "outputs": [],
   "source": [
    "(df.memory_usage(deep = True).sum()/1024)/1024 #Memoria Original"
   ]
  },
  {
   "cell_type": "code",
   "execution_count": null,
   "metadata": {},
   "outputs": [],
   "source": [
    "''' Verificación adicional de valores máximos para columnas numéricas cuyo tipo se quiere modificar\n",
    "'''\n",
    "\n",
    "[\n",
    "dfok['ID'].max(),\n",
    "    \n",
    "dfok['Antiguedad'].max(), \n",
    "dfok['CantHabitaciones'].max(), \n",
    "dfok['CantGarages'].max(),\n",
    "dfok['CantBanos'].max() ,\n",
    "\n",
    "dfok['MetrosCuadradosCubiertos'].max(),\n",
    "dfok['MetrosCuadradosTotales'].max(),    \n",
    "dfok['IDZona'].max(),\n",
    "dfok['Precio'].max(),] "
   ]
  },
  {
   "cell_type": "code",
   "execution_count": null,
   "metadata": {},
   "outputs": [],
   "source": [
    "\"\"\"''' Adecuación de tipos de columnas\n",
    "\n",
    "    Considerar las cotas:\n",
    "    uint8   -> 255\n",
    "    uint16  -> 65 535\n",
    "    uint32  -> 4 294 967 295\n",
    "    uint64  -> 18 446 744 073 709 551 615\n",
    "'''\n",
    "\n",
    "# Numéricos\n",
    "dfok['ID'] = dfok['ID'].astype(np.uint32)\n",
    "\n",
    "dfok['Antiguedad'] = dfok['Antiguedad'].astype(np.uint8)\n",
    "dfok['CantHabitaciones'] = dfok['CantHabitaciones'].astype(np.uint8)\n",
    "dfok['CantGarages'] = dfok['CantGarages'].astype(np.uint8)\n",
    "dfok['CantBanos'] = dfok['CantBanos'].astype(np.uint8)\n",
    "\n",
    "dfok['MetrosCuadradosCubiertos'] = dfok['MetrosCuadradosCubiertos'].astype(np.uint16)\n",
    "dfok['MetrosCuadradosTotales'] = dfok['MetrosCuadradosTotales'].astype(np.uint16)\n",
    "dfok['IDZona'] = dfok['IDZona'].astype(np.uint32)\n",
    "dfok['Precio'] = dfok['Precio'].astype(np.uint32)\n",
    "\n",
    "# Booleanos\n",
    "dfok['TieneGimnasio'] = dfok['TieneGimnasio'].astype(np.bool)\n",
    "dfok['TieneUsosMúltiples'] = dfok['TieneUsosMúltiples'].astype(np.bool)\n",
    "dfok['TienePileta'] = dfok['TienePileta'].astype(np.bool)\n",
    "dfok['TieneEscuelasCerca'] = dfok['TieneEscuelasCerca'].astype(np.bool)\n",
    "dfok['TieneShoppingsCerca'] = dfok['TieneShoppingsCerca'].astype(np.bool)\n",
    "\n",
    "# Fecha\n",
    "dfok['Fecha'] = dfok['Fecha'].astype('datetime64')\n",
    "\n",
    "# Categóricas\n",
    "dfok['TipoPropiedad'] = dfok['TipoPropiedad'].astype('category')\n",
    "dfok['Ciudad'] = dfok['Ciudad'].astype('category')\n",
    "dfok['Provincia'] = dfok['Provincia'].astype('category')\n",
    "\n",
    "dfok.info() \"\"\""
   ]
  },
  {
   "cell_type": "markdown",
   "metadata": {},
   "source": [
    "#### Hay muchas filas que contienen una cantidad mayor de metros cubiertos que de metros totales, en dichos casos decidimos no modificar nada, ya que al contrastar los valores que figuraban en las dos columnas con la descripcion de la propiedad no encontramos un patron claro, en algunos casos el valor que correspondia a metros cubiertos era el valor correcto, mientras que en otros casos se expresaba la superficie no cubierta como superficie total, y asi habia distintos casos."
   ]
  },
  {
   "cell_type": "code",
   "execution_count": null,
   "metadata": {},
   "outputs": [],
   "source": [
    "dfok['Precio'].describe()"
   ]
  },
  {
   "cell_type": "code",
   "execution_count": null,
   "metadata": {},
   "outputs": [],
   "source": [
    "''' ¿Hay más propiedades caras o baratas?'''\n",
    "\n",
    "plt.figure(figsize = (20, 10))\n",
    "plt.xlabel(\"Precio\", fontsize = 16);\n",
    "plt.ylabel(\"Cantidad de Propiedades\", fontsize = 16);\n",
    "plt.hist(dfok['Precio']);\n",
    "\n",
    "''' Los mayores precios se encuentran concentrados para la minoría de las propiedades. ''';"
   ]
  },
  {
   "cell_type": "code",
   "execution_count": null,
   "metadata": {},
   "outputs": [],
   "source": [
    "''' ¿El precio es proporcional a la cantidad de habitaciones?\n",
    "'''\n",
    "\n",
    "plt.figure(figsize = (20, 10))\n",
    "\n",
    "# Variables a graficar\n",
    "x = dfok['CantHabitaciones']\n",
    "y = dfok['Precio']\n",
    "\n",
    "# Tipo de gráfico\n",
    "plt.scatter(x, y)\n",
    "\n",
    "''' No se aprecia una tendencia clara. ''';"
   ]
  },
  {
   "cell_type": "code",
   "execution_count": null,
   "metadata": {},
   "outputs": [],
   "source": [
    "''' ¿El precio promedio es proporcional a la cantidad de habitaciones?\n",
    "'''\n",
    "# Declarás variables a graficar\n",
    "x = [1,2,3,4,5,6,7,8,9,10]\n",
    "y = dfok.groupby('CantHabitaciones').mean()['Precio']\n",
    "\n",
    "plt.figure(figsize = (15, 5))\n",
    "plt.xlim([0, 10.5])\n",
    "plt.ylim([0, 5000000])\n",
    "\n",
    "# Tipo de gráfico\n",
    "plt.scatter(x, y);\n",
    "ldt = np.poly1d( np.polyfit(x, y, 1) )\n",
    "plt.plot(x, ldt(x), \"g\")\n",
    "\n",
    "''' La cantidad de habitaciones parece tender a aumentar el precio de la propiedad.\n",
    "'''"
   ]
  },
  {
   "cell_type": "code",
   "execution_count": null,
   "metadata": {
    "scrolled": false
   },
   "outputs": [],
   "source": [
    "''' México está en el hemisferio norte, por lo que la latitud debe ser positiva\n",
    "    Además está al oeste del meridiano de Greenwich, por lo que su longitud debe ser negativa'''\n",
    "\n",
    "# Declarás variables a graficar\n",
    "x = dfok['Longitud']\n",
    "y = dfok['Latitud']\n",
    "\n",
    "plt.figure(figsize = (21, 16))\n",
    "plt.xlabel(\"Longitud\", fontsize = 18)\n",
    "plt.ylabel(\"Latitud\", fontsize = 18)\n",
    "\n",
    "plt.ylim([13, 34])\n",
    "plt.xlim([-116, -86])\n",
    "\n",
    "# Tipo de gráficok\n",
    "plt.scatter(x, y)"
   ]
  },
  {
   "cell_type": "code",
   "execution_count": null,
   "metadata": {},
   "outputs": [],
   "source": []
  }
 ],
 "metadata": {
  "kernelspec": {
   "display_name": "Python 3",
   "language": "python",
   "name": "python3"
  },
  "language_info": {
   "codemirror_mode": {
    "name": "ipython",
    "version": 3
   },
   "file_extension": ".py",
   "mimetype": "text/x-python",
   "name": "python",
   "nbconvert_exporter": "python",
   "pygments_lexer": "ipython3",
   "version": "3.7.4"
  }
 },
 "nbformat": 4,
 "nbformat_minor": 2
}
