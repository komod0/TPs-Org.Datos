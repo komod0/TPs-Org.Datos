{
 "cells": [
  {
   "cell_type": "code",
   "execution_count": 1,
   "metadata": {},
   "outputs": [],
   "source": [
    "import numpy as np\n",
    "import pandas as pd\n",
    "from sklearn.linear_model import LinearRegression\n",
    "from sklearn.model_selection import train_test_split\n",
    "from utilidades.subir_submit import subir\n",
    "from utilidades.validar import validar\n",
    "from utilidades.generar_submit import generar_submit\n",
    "from utilidades.limpiar import limpiar"
   ]
  },
  {
   "cell_type": "markdown",
   "metadata": {},
   "source": [
    "---"
   ]
  },
  {
   "cell_type": "code",
   "execution_count": 2,
   "metadata": {},
   "outputs": [],
   "source": [
    "train = pd.read_csv(\"data/train.csv\")\n",
    "test = pd.read_csv(\"data/test.csv\")\n",
    "ejemplo = pd.read_csv(\"data/ejemploRespuesta.csv\", names=[\"id\", \"precio\"])\n",
    "provincias_posibles = train[\"provincia\"].dropna().unique()\n",
    "props_posibles = train[\"tipodepropiedad\"].dropna().unique()\n",
    "\n",
    "train[\"tipodepropiedad\"] = pd.Categorical(train[\"tipodepropiedad\"], categories=props_posibles)\n",
    "train[\"provincia\"] = pd.Categorical(train[\"provincia\"], categories=provincias_posibles)\n",
    "\n",
    "test[\"tipodepropiedad\"] = pd.Categorical(test[\"tipodepropiedad\"], categories=props_posibles)\n",
    "test[\"provincia\"] = pd.Categorical(test[\"provincia\"], categories=provincias_posibles)"
   ]
  },
  {
   "cell_type": "code",
   "execution_count": 3,
   "metadata": {},
   "outputs": [
    {
     "name": "stderr",
     "output_type": "stream",
     "text": [
      "/home/julian/.local/lib/python3.7/site-packages/numpy/lib/nanfunctions.py:1112: RuntimeWarning: Mean of empty slice\n",
      "  return np.nanmean(a, axis, out=out, keepdims=keepdims)\n"
     ]
    }
   ],
   "source": [
    "train = limpiar(train)"
   ]
  },
  {
   "cell_type": "markdown",
   "metadata": {},
   "source": [
    "#### X es son los datos e y es el target(valor a predecir), en este caso el precio."
   ]
  },
  {
   "cell_type": "code",
   "execution_count": 4,
   "metadata": {},
   "outputs": [],
   "source": [
    "X, y = train.drop([\"precio\"], axis=1),train[\"precio\"]"
   ]
  },
  {
   "cell_type": "code",
   "execution_count": 5,
   "metadata": {},
   "outputs": [
    {
     "name": "stdout",
     "output_type": "stream",
     "text": [
      "Error de fold N°0 es : 903403.8710310197\n",
      "Error de fold N°1 es : 895217.9514963075\n",
      "Error de fold N°2 es : 901386.2926930868\n",
      "Error de fold N°3 es : 898293.4147333686\n",
      "Error de fold N°4 es : 894251.9135504835\n"
     ]
    }
   ],
   "source": [
    "validar(X,y, LinearRegression, True)"
   ]
  },
  {
   "cell_type": "code",
   "execution_count": 6,
   "metadata": {},
   "outputs": [
    {
     "name": "stdout",
     "output_type": "stream",
     "text": [
      "/home/julian/Documentos/Datos/c2/TPs-Org.Datos/tp2\n"
     ]
    },
    {
     "name": "stderr",
     "output_type": "stream",
     "text": [
      "/home/julian/.local/lib/python3.7/site-packages/numpy/lib/nanfunctions.py:1112: RuntimeWarning: Mean of empty slice\n",
      "  return np.nanmean(a, axis, out=out, keepdims=keepdims)\n"
     ]
    }
   ],
   "source": [
    "generar_submit(X,y, LinearRegression, test, \"submit_lineal_pruebaa\", True)"
   ]
  }
 ],
 "metadata": {
  "kernelspec": {
   "display_name": "Python 3",
   "language": "python",
   "name": "python3"
  },
  "language_info": {
   "codemirror_mode": {
    "name": "ipython",
    "version": 3
   },
   "file_extension": ".py",
   "mimetype": "text/x-python",
   "name": "python",
   "nbconvert_exporter": "python",
   "pygments_lexer": "ipython3",
   "version": "3.7.4"
  }
 },
 "nbformat": 4,
 "nbformat_minor": 2
}
