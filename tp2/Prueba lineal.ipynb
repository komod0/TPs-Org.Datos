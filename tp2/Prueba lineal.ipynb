{
 "cells": [
  {
   "cell_type": "code",
   "execution_count": 47,
   "metadata": {},
   "outputs": [],
   "source": [
    "import numpy as np\n",
    "import pandas as pd\n",
    "from sklearn.linear_model import LinearRegression\n",
    "from sklearn.preprocessing import OneHotEncoder\n",
    "from sklearn.preprocessing import LabelEncoder\n",
    "from sklearn.model_selection import train_test_split\n",
    "from sklearn.metrics import mean_absolute_error\n",
    "from sklearn.model_selection import KFold"
   ]
  },
  {
   "cell_type": "code",
   "execution_count": 36,
   "metadata": {},
   "outputs": [],
   "source": [
    "def limpiar(train):\n",
    "    #train.insert(3, \"mes\", pd.to_datetime(train[\"fecha\"]))\n",
    "    #train[\"mes\"] = train[\"mes\"].dt.year\n",
    "    train = train.drop([\"titulo\", \"descripcion\", \"direccion\", \"ciudad\", \"lat\", \"lng\", \"fecha\", \"idzona\", \"id\", \"tipodepropiedad\", 'provincia'], axis=1)\n",
    "    \n",
    "    for column in [\"garages\",'banos', 'habitaciones', 'gimnasio', 'usosmultiples', 'piscina', 'escuelascercanas', 'centroscomercialescercanos']:\n",
    "        train[column].fillna(train[column].mode()[0], inplace=True)\n",
    "        \n",
    "    for column in ['antiguedad', 'metroscubiertos', 'metrostotales']:\n",
    "        train[column].fillna(train[column].median(), inplace=True)\n",
    "        \n",
    "    #for colum in [\"tipodepropiedad\", \"provincia\"]:\n",
    "    #    le = LabelEncoder()\n",
    "    #    le.fit(train[colum])\n",
    "    #    train[colum] = le.transform(train[colum])\n",
    "        \n",
    "    return train"
   ]
  },
  {
   "cell_type": "code",
   "execution_count": 21,
   "metadata": {},
   "outputs": [],
   "source": [
    "def validar(X,y, metodo, transf=False):\n",
    "    \"\"\"\n",
    "    X: datos de entrenamiento\n",
    "    y: target de X\n",
    "    metodo: Algoritmo a utilizar\n",
    "    transf: Si aplicarle log al precio(normaliza el precio) antes de entrenar\n",
    "    \"\"\"\n",
    "    # Se hace K-fold cross-validation\n",
    "    kfold = KFold(5, True, 42)\n",
    "    for i,(train_index, test_index) in enumerate(kfold.split(X)):\n",
    "        # Se parte el dataset en dos, train y test, con el train entreno \n",
    "        # y con el test evaluo como predice mi algoritmo\n",
    "        X_train, X_test = X.iloc[train_index], X.iloc[test_index]\n",
    "        y_train, y_test = y.iloc[train_index], y.iloc[test_index]\n",
    "        if transf:\n",
    "            y_train = np.log(y_train)\n",
    "        # Me creo una instancia del modelo y luego lo entreno con los datos(con fit(X,y))\n",
    "        reg_t = metodo()\n",
    "        reg_t.fit(X_train,y_train)\n",
    "        predicciones_t = reg_t.predict(X_test)\n",
    "        if transf:\n",
    "            predicciones_t = np.exp(predicciones_t)\n",
    "        \n",
    "        # Me fijo como me da el resultado\n",
    "        print(f\"Error de fold N°{i} es : {mean_absolute_error(y_test, predicciones_t)}\")"
   ]
  },
  {
   "cell_type": "code",
   "execution_count": 22,
   "metadata": {},
   "outputs": [],
   "source": [
    "def generar_submit(X,y, metodo,test, nombre, transf):\n",
    "    \"\"\"\n",
    "    X: datos de entrenamiento\n",
    "    y: target de X\n",
    "    metodo: Algoritmo a utilizar\n",
    "    test: Datos a predecir\n",
    "    nombre: Nombre para el csv a generar\n",
    "    transf: Si aplicarle log-transform a los datos antes de predecir\n",
    "    \"\"\"\n",
    "    if transf:\n",
    "        y = np.log(y)\n",
    "    reg = metodo()\n",
    "    reg.fit(X,y)\n",
    "    \n",
    "    ids = test[\"id\"]\n",
    "    test = limpiar(test)\n",
    "    y_pred = reg.predict(test)\n",
    "    if transf:\n",
    "        y_pred = np.exp(y_pred)\n",
    "        \n",
    "    submit = pd.DataFrame(y_pred, columns=[\"target\"])\n",
    "    submit.insert(0, \"id\", ids)\n",
    "    submit.to_csv(f\"{nombre}.csv\", index=False)"
   ]
  },
  {
   "cell_type": "markdown",
   "metadata": {},
   "source": [
    "---"
   ]
  },
  {
   "cell_type": "code",
   "execution_count": 37,
   "metadata": {},
   "outputs": [],
   "source": [
    "train = pd.read_csv(\"data/train.csv\")\n",
    "test = pd.read_csv(\"data/test.csv\")\n",
    "ejemplo = pd.read_csv(\"data/ejemploRespuesta.csv\", names=[\"id\", \"precio\"])"
   ]
  },
  {
   "cell_type": "code",
   "execution_count": 38,
   "metadata": {},
   "outputs": [],
   "source": [
    "train = limpiar(train)"
   ]
  },
  {
   "cell_type": "markdown",
   "metadata": {},
   "source": [
    "#### X es son los datos e y es el target(valor a predecir), en este caso el precio."
   ]
  },
  {
   "cell_type": "code",
   "execution_count": 39,
   "metadata": {},
   "outputs": [],
   "source": [
    "X, y = train.iloc[:,:-1],train.iloc[:,-1]"
   ]
  },
  {
   "cell_type": "code",
   "execution_count": 51,
   "metadata": {},
   "outputs": [
    {
     "name": "stdout",
     "output_type": "stream",
     "text": [
      "Error de fold N°0 es : 1080009.1498675148\n",
      "Error de fold N°1 es : 1076560.7563338603\n",
      "Error de fold N°2 es : 1087944.502423703\n",
      "Error de fold N°3 es : 1079722.2525840441\n",
      "Error de fold N°4 es : 1077246.0832001395\n"
     ]
    }
   ],
   "source": [
    "validar(X,y, LinearRegression, True)"
   ]
  },
  {
   "cell_type": "code",
   "execution_count": 52,
   "metadata": {},
   "outputs": [],
   "source": [
    "generar_submit(X,y, LinearRegression, test, \"submit_prueba\", True)"
   ]
  },
  {
   "cell_type": "code",
   "execution_count": null,
   "metadata": {},
   "outputs": [],
   "source": []
  }
 ],
 "metadata": {
  "kernelspec": {
   "display_name": "Python 3",
   "language": "python",
   "name": "python3"
  },
  "language_info": {
   "codemirror_mode": {
    "name": "ipython",
    "version": 3
   },
   "file_extension": ".py",
   "mimetype": "text/x-python",
   "name": "python",
   "nbconvert_exporter": "python",
   "pygments_lexer": "ipython3",
   "version": "3.7.4"
  }
 },
 "nbformat": 4,
 "nbformat_minor": 2
}
