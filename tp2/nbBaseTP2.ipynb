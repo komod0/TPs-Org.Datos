{
 "cells": [
  {
   "cell_type": "markdown",
   "metadata": {},
   "source": [
    "# 1. Introducción"
   ]
  },
  {
   "cell_type": "code",
   "execution_count": 1,
   "metadata": {},
   "outputs": [],
   "source": [
    "import pandas as pd\n",
    "import numpy as np\n",
    "from sklearn.linear_model import LinearRegression\n",
    "from sklearn.neighbors import KNeighborsRegressor\n",
    "\n",
    "train = pd.read_csv(\"data/train.csv\")\n",
    "test = pd.read_csv(\"data/test.csv\")"
   ]
  },
  {
   "cell_type": "code",
   "execution_count": 2,
   "metadata": {},
   "outputs": [],
   "source": [
    "pd.set_option('display.max_columns', 1000) #ver todas las columnas"
   ]
  },
  {
   "cell_type": "code",
   "execution_count": 3,
   "metadata": {},
   "outputs": [],
   "source": [
    "pd.set_option('display.max_rows', 100) #como mucho ver 100 filas"
   ]
  },
  {
   "cell_type": "markdown",
   "metadata": {},
   "source": [
    "# 2. Preprocesamiento de los Datos"
   ]
  },
  {
   "cell_type": "markdown",
   "metadata": {},
   "source": [
    "### Se quita id, titulo, descripción, direccion e Idzona por no entenderlos como tan relevantes"
   ]
  },
  {
   "cell_type": "code",
   "execution_count": 4,
   "metadata": {},
   "outputs": [],
   "source": [
    "dfinicial = train\n",
    "dftest = test\n",
    "\n",
    "dfinicial = dfinicial.drop( columns = ['id', 'titulo', 'descripcion', 'direccion', 'idzona'] )\n",
    "dftest = dftest.drop( columns = ['id', 'titulo', 'descripcion', 'direccion', 'idzona'] )"
   ]
  },
  {
   "cell_type": "markdown",
   "metadata": {},
   "source": [
    "### Se quita latitud y longitud por la cantidad de NaN, manejando la granularidad sólo a nivel Ciudad y Provincia"
   ]
  },
  {
   "cell_type": "code",
   "execution_count": 5,
   "metadata": {},
   "outputs": [],
   "source": [
    "dfinicial = dfinicial.drop( columns = ['lat', 'lng'] )\n",
    "dftest = dftest.drop( columns = ['lat', 'lng'] )"
   ]
  },
  {
   "cell_type": "markdown",
   "metadata": {},
   "source": [
    "### Se rellenan con la moda Baños, Garages y Habitaciones"
   ]
  },
  {
   "cell_type": "code",
   "execution_count": 6,
   "metadata": {},
   "outputs": [],
   "source": [
    "def completarAlgunosNan2(df):\n",
    "    for column in [\"banos\", \"garages\", \"habitaciones\"]:\n",
    "        df[column] = df.groupby(['provincia', 'tipodepropiedad'])[column].apply(lambda x: x.fillna(x.mode()))\n",
    "        df[column] = df[column].fillna(df[column].mode()[0]) #Por si son todos NaN, y no hay moda\n",
    "        \n",
    "    return df\n",
    "    \n",
    "\n",
    "dfinicial = completarAlgunosNan2(dfinicial)\n",
    "dftest = completarAlgunosNan2(dftest)"
   ]
  },
  {
   "cell_type": "markdown",
   "metadata": {},
   "source": [
    "### Se rellena Antigüedad, Metros Cubiertos y Metros totales con la mediana para los casos de NaN, por tener estos atributos distribución log normal (aproximadamente)"
   ]
  },
  {
   "cell_type": "code",
   "execution_count": 7,
   "metadata": {},
   "outputs": [
    {
     "name": "stderr",
     "output_type": "stream",
     "text": [
      "/home/julian/.local/lib/python3.7/site-packages/numpy/lib/nanfunctions.py:1112: RuntimeWarning: Mean of empty slice\n",
      "  return np.nanmean(a, axis, out=out, keepdims=keepdims)\n"
     ]
    }
   ],
   "source": [
    "def completarAlgunosNan(df):\n",
    "    for column in ['antiguedad', 'metroscubiertos', 'metrostotales']:\n",
    "        df[column] = df.groupby(['provincia', 'tipodepropiedad'])[column].apply(lambda x: x.fillna(x.median()))\n",
    "        df[column] = df[column].fillna(df[column].median())\n",
    "\n",
    "    return df\n",
    "\n",
    "dfinicial = completarAlgunosNan(dfinicial)\n",
    "dftest = completarAlgunosNan(dftest)\n",
    "        "
   ]
  },
  {
   "cell_type": "markdown",
   "metadata": {},
   "source": [
    "### Aplicar Onehot encoding para desprenderse de provincias, ciudades tipo de propiedad como tal"
   ]
  },
  {
   "cell_type": "code",
   "execution_count": 8,
   "metadata": {},
   "outputs": [],
   "source": [
    "# Se hallan los casos posibles\n",
    "provincias_posibles = train[\"provincia\"].dropna().unique()\n",
    "props_posibles = train[\"tipodepropiedad\"].dropna().unique()\n",
    "#ciudades_posibles = train[\"ciudad\"].dropna().unique()\n",
    "\n",
    "# Se pasa tipodepropiedad y provincia a valores categóricos\n",
    "dfinicial[\"tipodepropiedad\"] = pd.Categorical(train[\"tipodepropiedad\"], categories = props_posibles)\n",
    "dfinicial[\"provincia\"] = pd.Categorical(train[\"provincia\"], categories = provincias_posibles)\n",
    "#dfinicial[\"ciudad\"] = pd.Categorical(train[\"ciudad\"], categories = ciudades_posibles)\n",
    "\n",
    "dftest[\"tipodepropiedad\"] = pd.Categorical(test[\"tipodepropiedad\"], categories=props_posibles)\n",
    "dftest[\"provincia\"] = pd.Categorical(test[\"provincia\"], categories=provincias_posibles)\n",
    "#dftest[\"ciudad\"] = pd.Categorical(test[\"ciudad\"], categories = ciudades_posibles)\n",
    "\n",
    "# Rellenar nans de provincia, tipo de propiedad y ciudad, y usar onehot encoding\n",
    "#datos_categoricos = dfinicial[[\"tipodepropiedad\", \"provincia\", \"ciudad\"]].copy()\n",
    "datos_categoricos = dfinicial[[\"tipodepropiedad\", \"provincia\"]].copy()\n",
    "datos_categoricos['tipodepropiedad'] = datos_categoricos.groupby(['provincia'])['tipodepropiedad'].apply(lambda x: x.fillna(x.mode()))\n",
    "datos_categoricos[\"provincia\"] = datos_categoricos[\"provincia\"].fillna(datos_categoricos[\"provincia\"].mode()[0])\n",
    "#datos_categoricos[\"ciudad\"] = datos_categoricos.groupby(['provincia'])['ciudad'].apply(lambda x: x.fillna(x.mode()))\n",
    "datos_categoricos = pd.get_dummies(datos_categoricos, sparse = True)\n",
    "dfinicial = pd.concat([datos_categoricos, dfinicial], axis=1)\n",
    "\n",
    "#datos_categoricos = dftest[[\"tipodepropiedad\", \"provincia\", \"ciudad\"]].copy()\n",
    "datos_categoricos = dftest[[\"tipodepropiedad\", \"provincia\"]].copy()\n",
    "datos_categoricos['tipodepropiedad'] = datos_categoricos.groupby(['provincia'])['tipodepropiedad'].apply(lambda x: x.fillna(x.mode()))\n",
    "datos_categoricos[\"provincia\"] = datos_categoricos[\"provincia\"].fillna(datos_categoricos[\"provincia\"].mode()[0])\n",
    "#datos_categoricos[\"ciudad\"] = datos_categoricos.groupby(['provincia'])['ciudad'].apply(lambda x: x.fillna(x.mode()))\n",
    "datos_categoricos = pd.get_dummies(datos_categoricos, sparse = True)\n",
    "dftest = pd.concat([datos_categoricos, dftest], axis=1)\n",
    "\n",
    "# Tirar tipodepropiedad y provincia\n",
    "dfinicial = dfinicial.drop( columns = ['tipodepropiedad', 'provincia', 'ciudad'] )\n",
    "dftest = dftest.drop( columns = ['tipodepropiedad', 'provincia', 'ciudad'] )"
   ]
  },
  {
   "cell_type": "markdown",
   "metadata": {},
   "source": [
    "### Se pasa fecha a datetime y se agrega mes y año"
   ]
  },
  {
   "cell_type": "code",
   "execution_count": 9,
   "metadata": {},
   "outputs": [],
   "source": [
    "dfinicial['fecha'] = dfinicial['fecha'].astype('datetime64')\n",
    "dftest['fecha'] = dftest['fecha'].astype('datetime64')\n",
    "\n",
    "dfinicial['dia'] = dfinicial['fecha'].dt.day\n",
    "dfinicial['mes'] = dfinicial['fecha'].dt.month\n",
    "dfinicial['anio'] = dfinicial['fecha'].dt.year\n",
    "dfinicial = dfinicial.drop( columns = ['fecha'] )\n",
    "\n",
    "dftest['dia'] = dftest['fecha'].dt.day\n",
    "dftest['mes'] = dftest['fecha'].dt.month\n",
    "dftest['anio'] = dftest['fecha'].dt.year\n",
    "dftest = dftest.drop( columns = ['fecha'] )"
   ]
  },
  {
   "cell_type": "markdown",
   "metadata": {},
   "source": [
    "### Adecuación de tipos de datos ahora que no hay NaN"
   ]
  },
  {
   "cell_type": "code",
   "execution_count": 10,
   "metadata": {},
   "outputs": [],
   "source": [
    " def parseoNan(df):\n",
    "    df['gimnasio'] = df['gimnasio'].astype(np.uint8)\n",
    "    df['usosmultiples'] = df['usosmultiples'].astype(np.uint8)\n",
    "    df['piscina'] = df['piscina'].astype(np.uint8)\n",
    "    df['escuelascercanas'] = df['escuelascercanas'].astype(np.uint8)\n",
    "    df['centroscomercialescercanos'] = df['centroscomercialescercanos'].astype(np.uint8)\n",
    "    \n",
    "    df['garages'] = df['garages'].astype(np.uint8)\n",
    "    df['antiguedad'] = df['antiguedad'].astype(np.uint8)\n",
    "    df['banos'] = df['banos'].astype(np.uint8)\n",
    "    df['habitaciones'] = df['habitaciones'].astype(np.uint8)\n",
    "    \n",
    "    df['metroscubiertos'] = df['metroscubiertos'].astype(np.uint16)\n",
    "    df['metrostotales'] = df['metrostotales'].astype(np.uint16)\n",
    "   \n",
    "    df['dia'] = df['dia'].astype(np.uint8)\n",
    "    df['mes'] = df['mes'].astype(np.uint8)\n",
    "    df['anio'] = df['anio'].astype(np.uint16)\n",
    "    \n",
    "parseoNan(dfinicial)\n",
    "parseoNan(dftest)\n",
    "\n",
    "dfinicial['precio'] = dfinicial['precio'].astype(np.uint32)"
   ]
  },
  {
   "cell_type": "code",
   "execution_count": 11,
   "metadata": {
    "scrolled": true
   },
   "outputs": [
    {
     "data": {
      "text/plain": [
       "'### Se quitan columnas correspondientes a ciudades que sólo están asociadas a una o dos propiedades#\\n\\ncant_ciudad = pd.DataFrame( train.groupby(\"ciudad\").size(), columns = [\"cantidad\"] ).reset_index()\\nciudad_pocas = cant_ciudad[ cant_ciudad[\"cantidad\"] < 3 ]\\n\\nciudades = [ \"ciudad_\" + p for p in ciudad_pocas[\\'ciudad\\'].to_list() ]\\n\\ndfinicial = dfinicial.drop( columns = ciudades )\\ndftest = dftest.drop( columns = ciudades )'"
      ]
     },
     "execution_count": 11,
     "metadata": {},
     "output_type": "execute_result"
    }
   ],
   "source": [
    "'''### Se quitan columnas correspondientes a ciudades que sólo están asociadas a una o dos propiedades#\n",
    "\n",
    "cant_ciudad = pd.DataFrame( train.groupby(\"ciudad\").size(), columns = [\"cantidad\"] ).reset_index()\n",
    "ciudad_pocas = cant_ciudad[ cant_ciudad[\"cantidad\"] < 3 ]\n",
    "\n",
    "ciudades = [ \"ciudad_\" + p for p in ciudad_pocas['ciudad'].to_list() ]\n",
    "\n",
    "dfinicial = dfinicial.drop( columns = ciudades )\n",
    "dftest = dftest.drop( columns = ciudades )'''"
   ]
  },
  {
   "cell_type": "code",
   "execution_count": 12,
   "metadata": {},
   "outputs": [],
   "source": [
    "dftest.to_csv(f\"data/test_limpio.csv\", index=False)"
   ]
  },
  {
   "cell_type": "code",
   "execution_count": 13,
   "metadata": {},
   "outputs": [],
   "source": [
    "dfinicial.to_csv(f\"data/train_limpio.csv\", index=False)"
   ]
  },
  {
   "cell_type": "code",
   "execution_count": 14,
   "metadata": {},
   "outputs": [
    {
     "name": "stdout",
     "output_type": "stream",
     "text": [
      "<class 'pandas.core.frame.DataFrame'>\n",
      "RangeIndex: 240000 entries, 0 to 239999\n",
      "Data columns (total 71 columns):\n",
      "tipodepropiedad_Apartamento                      -240000 non-null Sparse[uint8, 0]\n",
      "tipodepropiedad_Casa en condominio               -240000 non-null Sparse[uint8, 0]\n",
      "tipodepropiedad_Casa                             -240000 non-null Sparse[uint8, 0]\n",
      "tipodepropiedad_Terreno                          -240000 non-null Sparse[uint8, 0]\n",
      "tipodepropiedad_Terreno comercial                -240000 non-null Sparse[uint8, 0]\n",
      "tipodepropiedad_Local Comercial                  -240000 non-null Sparse[uint8, 0]\n",
      "tipodepropiedad_Quinta Vacacional                -240000 non-null Sparse[uint8, 0]\n",
      "tipodepropiedad_Oficina comercial                -240000 non-null Sparse[uint8, 0]\n",
      "tipodepropiedad_Edificio                         -240000 non-null Sparse[uint8, 0]\n",
      "tipodepropiedad_Casa uso de suelo                -240000 non-null Sparse[uint8, 0]\n",
      "tipodepropiedad_Local en centro comercial        -240000 non-null Sparse[uint8, 0]\n",
      "tipodepropiedad_Bodega comercial                 -240000 non-null Sparse[uint8, 0]\n",
      "tipodepropiedad_Otros                            -240000 non-null Sparse[uint8, 0]\n",
      "tipodepropiedad_Villa                            -240000 non-null Sparse[uint8, 0]\n",
      "tipodepropiedad_Duplex                           -240000 non-null Sparse[uint8, 0]\n",
      "tipodepropiedad_Inmuebles productivos urbanos    -240000 non-null Sparse[uint8, 0]\n",
      "tipodepropiedad_Departamento Compartido          -240000 non-null Sparse[uint8, 0]\n",
      "tipodepropiedad_Nave industrial                  -240000 non-null Sparse[uint8, 0]\n",
      "tipodepropiedad_Rancho                           -240000 non-null Sparse[uint8, 0]\n",
      "tipodepropiedad_Terreno industrial               -240000 non-null Sparse[uint8, 0]\n",
      "tipodepropiedad_Huerta                           -240000 non-null Sparse[uint8, 0]\n",
      "tipodepropiedad_Lote                             -240000 non-null Sparse[uint8, 0]\n",
      "tipodepropiedad_Hospedaje                        -240000 non-null Sparse[uint8, 0]\n",
      "tipodepropiedad_Garage                           -240000 non-null Sparse[uint8, 0]\n",
      "provincia_Distrito Federal                       -240000 non-null Sparse[uint8, 0]\n",
      "provincia_Jalisco                                -240000 non-null Sparse[uint8, 0]\n",
      "provincia_Edo. de México                         -240000 non-null Sparse[uint8, 0]\n",
      "provincia_Oaxaca                                 -240000 non-null Sparse[uint8, 0]\n",
      "provincia_Quintana Roo                           -240000 non-null Sparse[uint8, 0]\n",
      "provincia_Colima                                 -240000 non-null Sparse[uint8, 0]\n",
      "provincia_San luis Potosí                        -240000 non-null Sparse[uint8, 0]\n",
      "provincia_Nuevo León                             -240000 non-null Sparse[uint8, 0]\n",
      "provincia_Querétaro                              -240000 non-null Sparse[uint8, 0]\n",
      "provincia_Tamaulipas                             -240000 non-null Sparse[uint8, 0]\n",
      "provincia_Puebla                                 -240000 non-null Sparse[uint8, 0]\n",
      "provincia_Yucatán                                -240000 non-null Sparse[uint8, 0]\n",
      "provincia_Morelos                                -240000 non-null Sparse[uint8, 0]\n",
      "provincia_Guerrero                               -240000 non-null Sparse[uint8, 0]\n",
      "provincia_Tabasco                                -240000 non-null Sparse[uint8, 0]\n",
      "provincia_Guanajuato                             -240000 non-null Sparse[uint8, 0]\n",
      "provincia_Hidalgo                                -240000 non-null Sparse[uint8, 0]\n",
      "provincia_Veracruz                               -240000 non-null Sparse[uint8, 0]\n",
      "provincia_Chihuahua                              -240000 non-null Sparse[uint8, 0]\n",
      "provincia_Aguascalientes                         -240000 non-null Sparse[uint8, 0]\n",
      "provincia_Sonora                                 -240000 non-null Sparse[uint8, 0]\n",
      "provincia_Michoacán                              -240000 non-null Sparse[uint8, 0]\n",
      "provincia_Baja California Norte                  -240000 non-null Sparse[uint8, 0]\n",
      "provincia_Baja California Sur                    -240000 non-null Sparse[uint8, 0]\n",
      "provincia_Coahuila                               -240000 non-null Sparse[uint8, 0]\n",
      "provincia_Durango                                -240000 non-null Sparse[uint8, 0]\n",
      "provincia_Sinaloa                                -240000 non-null Sparse[uint8, 0]\n",
      "provincia_Chiapas                                -240000 non-null Sparse[uint8, 0]\n",
      "provincia_Nayarit                                -240000 non-null Sparse[uint8, 0]\n",
      "provincia_Tlaxcala                               -240000 non-null Sparse[uint8, 0]\n",
      "provincia_Campeche                               -240000 non-null Sparse[uint8, 0]\n",
      "provincia_Zacatecas                              -240000 non-null Sparse[uint8, 0]\n",
      "antiguedad                                       -240000 non-null uint8\n",
      "habitaciones                                     -240000 non-null uint8\n",
      "garages                                          -240000 non-null uint8\n",
      "banos                                            -240000 non-null uint8\n",
      "metroscubiertos                                  -240000 non-null uint16\n",
      "metrostotales                                    -240000 non-null uint16\n",
      "gimnasio                                         -240000 non-null uint8\n",
      "usosmultiples                                    -240000 non-null uint8\n",
      "piscina                                          -240000 non-null uint8\n",
      "escuelascercanas                                 -240000 non-null uint8\n",
      "centroscomercialescercanos                       -240000 non-null uint8\n",
      "precio                                           -240000 non-null uint32\n",
      "dia                                              -240000 non-null uint8\n",
      "mes                                              -240000 non-null uint8\n",
      "anio                                             -240000 non-null uint16\n",
      "dtypes: Sparse[uint8, 0](56), uint16(3), uint32(1), uint8(11)\n",
      "memory usage: 7.1 MB\n"
     ]
    }
   ],
   "source": [
    "dfinicial.info()"
   ]
  },
  {
   "cell_type": "code",
   "execution_count": null,
   "metadata": {},
   "outputs": [],
   "source": []
  }
 ],
 "metadata": {
  "kernelspec": {
   "display_name": "Python 3",
   "language": "python",
   "name": "python3"
  },
  "language_info": {
   "codemirror_mode": {
    "name": "ipython",
    "version": 3
   },
   "file_extension": ".py",
   "mimetype": "text/x-python",
   "name": "python",
   "nbconvert_exporter": "python",
   "pygments_lexer": "ipython3",
   "version": "3.7.4"
  }
 },
 "nbformat": 4,
 "nbformat_minor": 2
}
