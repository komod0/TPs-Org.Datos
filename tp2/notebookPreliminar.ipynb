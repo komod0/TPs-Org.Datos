{
 "cells": [
  {
   "cell_type": "code",
   "execution_count": 21,
   "metadata": {},
   "outputs": [],
   "source": [
    "import pandas as pd\n",
    "\n",
    "train = pd.read_csv(\"data/train.csv\")\n",
    "test = pd.read_csv(\"data/test.csv\")\n",
    "ejemplo = pd.read_csv(\"data/ejemploRespuesta.csv\")"
   ]
  },
  {
   "cell_type": "code",
   "execution_count": 11,
   "metadata": {},
   "outputs": [],
   "source": [
    "pd.set_option('display.max_columns', 23) #ver todas las columnas\n",
    "pd.set_option('display.max_rows', 10) #como mucho ver 10 filas"
   ]
  },
  {
   "cell_type": "markdown",
   "metadata": {},
   "source": [
    "### El ejemplo de respuesta parece tener una fila como índice"
   ]
  },
  {
   "cell_type": "code",
   "execution_count": 12,
   "metadata": {},
   "outputs": [
    {
     "data": {
      "text/html": [
       "<div>\n",
       "<style scoped>\n",
       "    .dataframe tbody tr th:only-of-type {\n",
       "        vertical-align: middle;\n",
       "    }\n",
       "\n",
       "    .dataframe tbody tr th {\n",
       "        vertical-align: top;\n",
       "    }\n",
       "\n",
       "    .dataframe thead th {\n",
       "        text-align: right;\n",
       "    }\n",
       "</style>\n",
       "<table border=\"1\" class=\"dataframe\">\n",
       "  <thead>\n",
       "    <tr style=\"text-align: right;\">\n",
       "      <th></th>\n",
       "      <th>4941</th>\n",
       "      <th>4200756.25126322</th>\n",
       "    </tr>\n",
       "  </thead>\n",
       "  <tbody>\n",
       "    <tr>\n",
       "      <th>0</th>\n",
       "      <td>51775</td>\n",
       "      <td>1.112322e+06</td>\n",
       "    </tr>\n",
       "    <tr>\n",
       "      <th>1</th>\n",
       "      <td>115253</td>\n",
       "      <td>1.377424e+06</td>\n",
       "    </tr>\n",
       "    <tr>\n",
       "      <th>2</th>\n",
       "      <td>299321</td>\n",
       "      <td>1.364169e+06</td>\n",
       "    </tr>\n",
       "    <tr>\n",
       "      <th>3</th>\n",
       "      <td>173570</td>\n",
       "      <td>1.284638e+06</td>\n",
       "    </tr>\n",
       "    <tr>\n",
       "      <th>4</th>\n",
       "      <td>30862</td>\n",
       "      <td>2.411320e+06</td>\n",
       "    </tr>\n",
       "    <tr>\n",
       "      <th>...</th>\n",
       "      <td>...</td>\n",
       "      <td>...</td>\n",
       "    </tr>\n",
       "    <tr>\n",
       "      <th>59994</th>\n",
       "      <td>75094</td>\n",
       "      <td>4.081461e+06</td>\n",
       "    </tr>\n",
       "    <tr>\n",
       "      <th>59995</th>\n",
       "      <td>171847</td>\n",
       "      <td>1.165343e+06</td>\n",
       "    </tr>\n",
       "    <tr>\n",
       "      <th>59996</th>\n",
       "      <td>138313</td>\n",
       "      <td>1.576250e+06</td>\n",
       "    </tr>\n",
       "    <tr>\n",
       "      <th>59997</th>\n",
       "      <td>271268</td>\n",
       "      <td>1.947392e+06</td>\n",
       "    </tr>\n",
       "    <tr>\n",
       "      <th>59998</th>\n",
       "      <td>72612</td>\n",
       "      <td>3.021054e+06</td>\n",
       "    </tr>\n",
       "  </tbody>\n",
       "</table>\n",
       "<p>59999 rows × 2 columns</p>\n",
       "</div>"
      ],
      "text/plain": [
       "         4941  4200756.25126322\n",
       "0       51775      1.112322e+06\n",
       "1      115253      1.377424e+06\n",
       "2      299321      1.364169e+06\n",
       "3      173570      1.284638e+06\n",
       "4       30862      2.411320e+06\n",
       "...       ...               ...\n",
       "59994   75094      4.081461e+06\n",
       "59995  171847      1.165343e+06\n",
       "59996  138313      1.576250e+06\n",
       "59997  271268      1.947392e+06\n",
       "59998   72612      3.021054e+06\n",
       "\n",
       "[59999 rows x 2 columns]"
      ]
     },
     "execution_count": 12,
     "metadata": {},
     "output_type": "execute_result"
    }
   ],
   "source": [
    "#ejemplo"
   ]
  },
  {
   "cell_type": "markdown",
   "metadata": {},
   "source": [
    "### Es extraño que los valores sean flotantes: ya se sabe que los precios de las propiedades son enteros, y sus últimos 3 dígitos menos representativos son siempre 0 (de acuerdo al dataset de entrenamiento) \n",
    "\n",
    "### Por otra parte los índices no parecen ser los de la propiedad, pero se entendería que sí pueden utilizarse los índices de la propiedad para los sets de respuesta"
   ]
  },
  {
   "cell_type": "code",
   "execution_count": 20,
   "metadata": {},
   "outputs": [
    {
     "data": {
      "text/html": [
       "<div>\n",
       "<style scoped>\n",
       "    .dataframe tbody tr th:only-of-type {\n",
       "        vertical-align: middle;\n",
       "    }\n",
       "\n",
       "    .dataframe tbody tr th {\n",
       "        vertical-align: top;\n",
       "    }\n",
       "\n",
       "    .dataframe thead th {\n",
       "        text-align: right;\n",
       "    }\n",
       "</style>\n",
       "<table border=\"1\" class=\"dataframe\">\n",
       "  <thead>\n",
       "    <tr style=\"text-align: right;\">\n",
       "      <th></th>\n",
       "      <th>id</th>\n",
       "      <th>titulo</th>\n",
       "      <th>descripcion</th>\n",
       "      <th>tipodepropiedad</th>\n",
       "      <th>direccion</th>\n",
       "      <th>ciudad</th>\n",
       "      <th>provincia</th>\n",
       "      <th>antiguedad</th>\n",
       "      <th>habitaciones</th>\n",
       "      <th>garages</th>\n",
       "      <th>banos</th>\n",
       "      <th>metroscubiertos</th>\n",
       "      <th>metrostotales</th>\n",
       "      <th>idzona</th>\n",
       "      <th>lat</th>\n",
       "      <th>lng</th>\n",
       "      <th>fecha</th>\n",
       "      <th>gimnasio</th>\n",
       "      <th>usosmultiples</th>\n",
       "      <th>piscina</th>\n",
       "      <th>escuelascercanas</th>\n",
       "      <th>centroscomercialescercanos</th>\n",
       "      <th>precio</th>\n",
       "    </tr>\n",
       "  </thead>\n",
       "  <tbody>\n",
       "  </tbody>\n",
       "</table>\n",
       "</div>"
      ],
      "text/plain": [
       "Empty DataFrame\n",
       "Columns: [id, titulo, descripcion, tipodepropiedad, direccion, ciudad, provincia, antiguedad, habitaciones, garages, banos, metroscubiertos, metrostotales, idzona, lat, lng, fecha, gimnasio, usosmultiples, piscina, escuelascercanas, centroscomercialescercanos, precio]\n",
       "Index: []"
      ]
     },
     "execution_count": 20,
     "metadata": {},
     "output_type": "execute_result"
    }
   ],
   "source": [
    "train[ train['id'] == 138313 ]"
   ]
  },
  {
   "cell_type": "markdown",
   "metadata": {},
   "source": [
    "### El csv de test es un archivo de 60 000 propiedades (25% del dataset original) que no tiene el precio de la propiedad"
   ]
  },
  {
   "cell_type": "code",
   "execution_count": 29,
   "metadata": {},
   "outputs": [
    {
     "name": "stdout",
     "output_type": "stream",
     "text": [
      "<class 'pandas.core.frame.DataFrame'>\n",
      "RangeIndex: 60000 entries, 0 to 59999\n",
      "Data columns (total 22 columns):\n",
      "id                            60000 non-null int64\n",
      "titulo                        58622 non-null object\n",
      "descripcion                   59599 non-null object\n",
      "tipodepropiedad               59993 non-null object\n",
      "direccion                     46809 non-null object\n",
      "ciudad                        59917 non-null object\n",
      "provincia                     59958 non-null object\n",
      "antiguedad                    49286 non-null float64\n",
      "habitaciones                  54372 non-null float64\n",
      "garages                       50677 non-null float64\n",
      "banos                         53446 non-null float64\n",
      "metroscubiertos               55701 non-null float64\n",
      "metrostotales                 47345 non-null float64\n",
      "idzona                        52821 non-null float64\n",
      "lat                           29305 non-null float64\n",
      "lng                           29305 non-null float64\n",
      "fecha                         60000 non-null object\n",
      "gimnasio                      60000 non-null float64\n",
      "usosmultiples                 60000 non-null float64\n",
      "piscina                       60000 non-null float64\n",
      "escuelascercanas              60000 non-null float64\n",
      "centroscomercialescercanos    60000 non-null float64\n",
      "dtypes: float64(14), int64(1), object(7)\n",
      "memory usage: 10.1+ MB\n"
     ]
    }
   ],
   "source": [
    "test.info()"
   ]
  },
  {
   "cell_type": "markdown",
   "metadata": {},
   "source": []
  }
 ],
 "metadata": {
  "kernelspec": {
   "display_name": "Python 3",
   "language": "python",
   "name": "python3"
  },
  "language_info": {
   "codemirror_mode": {
    "name": "ipython",
    "version": 3
   },
   "file_extension": ".py",
   "mimetype": "text/x-python",
   "name": "python",
   "nbconvert_exporter": "python",
   "pygments_lexer": "ipython3",
   "version": "3.7.4"
  }
 },
 "nbformat": 4,
 "nbformat_minor": 2
}
