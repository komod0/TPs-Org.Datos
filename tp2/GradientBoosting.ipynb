{
 "cells": [
  {
   "cell_type": "code",
   "execution_count": 1,
   "metadata": {},
   "outputs": [],
   "source": [
    "import pandas as pd\n",
    "import numpy as np\n",
    "\n",
    "import matplotlib.pyplot as plt\n",
    "\n",
    "from sklearn.ensemble import GradientBoostingRegressor\n",
    "from sklearn.model_selection import train_test_split\n",
    "from sklearn.metrics import mean_squared_error\n",
    "from sklearn.datasets import load_boston\n",
    "from sklearn.metrics import mean_absolute_error\n",
    "\n",
    "from utilidades.validar import validar\n",
    "from utilidades.graficar import ver_dispersion"
   ]
  },
  {
   "cell_type": "code",
   "execution_count": 2,
   "metadata": {},
   "outputs": [],
   "source": [
    "train = pd.read_csv(\"data/train.csv\")\n",
    "test = pd.read_csv(\"data/test.csv\")\n",
    "\n",
    "dfinicial = pd.read_csv(\"data/train_limpio.csv\")\n",
    "dftest = pd.read_csv(\"data/test_limpio.csv\")\n",
    "\n",
    "#dfinicial2 = pd.read_csv(\"data/esteban/train_limpio_ciudades.csv\")\n",
    "#dftest2 = pd.read_csv(\"data/esteban/test_limpio_ciudades.csv\")\n",
    "\n",
    "xg = pd.read_csv('submits/submit_xg_prueba.csv')"
   ]
  },
  {
   "cell_type": "code",
   "execution_count": null,
   "metadata": {},
   "outputs": [],
   "source": []
  },
  {
   "cell_type": "code",
   "execution_count": 3,
   "metadata": {},
   "outputs": [
    {
     "name": "stdout",
     "output_type": "stream",
     "text": [
      "<class 'pandas.core.frame.DataFrame'>\n",
      "RangeIndex: 240000 entries, 0 to 239999\n",
      "Data columns (total 71 columns):\n",
      "tipodepropiedad_Apartamento                      240000 non-null int64\n",
      "tipodepropiedad_Casa en condominio               240000 non-null int64\n",
      "tipodepropiedad_Casa                             240000 non-null int64\n",
      "tipodepropiedad_Terreno                          240000 non-null int64\n",
      "tipodepropiedad_Terreno comercial                240000 non-null int64\n",
      "tipodepropiedad_Local Comercial                  240000 non-null int64\n",
      "tipodepropiedad_Quinta Vacacional                240000 non-null int64\n",
      "tipodepropiedad_Oficina comercial                240000 non-null int64\n",
      "tipodepropiedad_Edificio                         240000 non-null int64\n",
      "tipodepropiedad_Casa uso de suelo                240000 non-null int64\n",
      "tipodepropiedad_Local en centro comercial        240000 non-null int64\n",
      "tipodepropiedad_Bodega comercial                 240000 non-null int64\n",
      "tipodepropiedad_Otros                            240000 non-null int64\n",
      "tipodepropiedad_Villa                            240000 non-null int64\n",
      "tipodepropiedad_Duplex                           240000 non-null int64\n",
      "tipodepropiedad_Inmuebles productivos urbanos    240000 non-null int64\n",
      "tipodepropiedad_Departamento Compartido          240000 non-null int64\n",
      "tipodepropiedad_Nave industrial                  240000 non-null int64\n",
      "tipodepropiedad_Rancho                           240000 non-null int64\n",
      "tipodepropiedad_Terreno industrial               240000 non-null int64\n",
      "tipodepropiedad_Huerta                           240000 non-null int64\n",
      "tipodepropiedad_Lote                             240000 non-null int64\n",
      "tipodepropiedad_Hospedaje                        240000 non-null int64\n",
      "tipodepropiedad_Garage                           240000 non-null int64\n",
      "provincia_Distrito Federal                       240000 non-null int64\n",
      "provincia_Jalisco                                240000 non-null int64\n",
      "provincia_Edo. de México                         240000 non-null int64\n",
      "provincia_Oaxaca                                 240000 non-null int64\n",
      "provincia_Quintana Roo                           240000 non-null int64\n",
      "provincia_Colima                                 240000 non-null int64\n",
      "provincia_San luis Potosí                        240000 non-null int64\n",
      "provincia_Nuevo León                             240000 non-null int64\n",
      "provincia_Querétaro                              240000 non-null int64\n",
      "provincia_Tamaulipas                             240000 non-null int64\n",
      "provincia_Puebla                                 240000 non-null int64\n",
      "provincia_Yucatán                                240000 non-null int64\n",
      "provincia_Morelos                                240000 non-null int64\n",
      "provincia_Guerrero                               240000 non-null int64\n",
      "provincia_Tabasco                                240000 non-null int64\n",
      "provincia_Guanajuato                             240000 non-null int64\n",
      "provincia_Hidalgo                                240000 non-null int64\n",
      "provincia_Veracruz                               240000 non-null int64\n",
      "provincia_Chihuahua                              240000 non-null int64\n",
      "provincia_Aguascalientes                         240000 non-null int64\n",
      "provincia_Sonora                                 240000 non-null int64\n",
      "provincia_Michoacán                              240000 non-null int64\n",
      "provincia_Baja California Norte                  240000 non-null int64\n",
      "provincia_Baja California Sur                    240000 non-null int64\n",
      "provincia_Coahuila                               240000 non-null int64\n",
      "provincia_Durango                                240000 non-null int64\n",
      "provincia_Sinaloa                                240000 non-null int64\n",
      "provincia_Chiapas                                240000 non-null int64\n",
      "provincia_Nayarit                                240000 non-null int64\n",
      "provincia_Tlaxcala                               240000 non-null int64\n",
      "provincia_Campeche                               240000 non-null int64\n",
      "provincia_Zacatecas                              240000 non-null int64\n",
      "antiguedad                                       240000 non-null int64\n",
      "habitaciones                                     240000 non-null int64\n",
      "garages                                          240000 non-null int64\n",
      "banos                                            240000 non-null int64\n",
      "metroscubiertos                                  240000 non-null int64\n",
      "metrostotales                                    240000 non-null int64\n",
      "gimnasio                                         240000 non-null int64\n",
      "usosmultiples                                    240000 non-null int64\n",
      "piscina                                          240000 non-null int64\n",
      "escuelascercanas                                 240000 non-null int64\n",
      "centroscomercialescercanos                       240000 non-null int64\n",
      "precio                                           240000 non-null int64\n",
      "dia                                              240000 non-null int64\n",
      "mes                                              240000 non-null int64\n",
      "anio                                             240000 non-null int64\n",
      "dtypes: int64(71)\n",
      "memory usage: 130.0 MB\n"
     ]
    }
   ],
   "source": [
    "dfinicial.info()"
   ]
  },
  {
   "cell_type": "code",
   "execution_count": 4,
   "metadata": {},
   "outputs": [
    {
     "data": {
      "text/html": [
       "<div>\n",
       "<style scoped>\n",
       "    .dataframe tbody tr th:only-of-type {\n",
       "        vertical-align: middle;\n",
       "    }\n",
       "\n",
       "    .dataframe tbody tr th {\n",
       "        vertical-align: top;\n",
       "    }\n",
       "\n",
       "    .dataframe thead th {\n",
       "        text-align: right;\n",
       "    }\n",
       "</style>\n",
       "<table border=\"1\" class=\"dataframe\">\n",
       "  <thead>\n",
       "    <tr style=\"text-align: right;\">\n",
       "      <th></th>\n",
       "      <th>id</th>\n",
       "      <th>target</th>\n",
       "    </tr>\n",
       "  </thead>\n",
       "  <tbody>\n",
       "    <tr>\n",
       "      <th>0</th>\n",
       "      <td>4941</td>\n",
       "      <td>4831603.00</td>\n",
       "    </tr>\n",
       "    <tr>\n",
       "      <th>1</th>\n",
       "      <td>51775</td>\n",
       "      <td>812344.94</td>\n",
       "    </tr>\n",
       "    <tr>\n",
       "      <th>2</th>\n",
       "      <td>115253</td>\n",
       "      <td>2203735.00</td>\n",
       "    </tr>\n",
       "    <tr>\n",
       "      <th>3</th>\n",
       "      <td>299321</td>\n",
       "      <td>1403080.20</td>\n",
       "    </tr>\n",
       "    <tr>\n",
       "      <th>4</th>\n",
       "      <td>173570</td>\n",
       "      <td>596104.40</td>\n",
       "    </tr>\n",
       "  </tbody>\n",
       "</table>\n",
       "</div>"
      ],
      "text/plain": [
       "       id      target\n",
       "0    4941  4831603.00\n",
       "1   51775   812344.94\n",
       "2  115253  2203735.00\n",
       "3  299321  1403080.20\n",
       "4  173570   596104.40"
      ]
     },
     "execution_count": 4,
     "metadata": {},
     "output_type": "execute_result"
    }
   ],
   "source": [
    "xg.head()"
   ]
  },
  {
   "cell_type": "code",
   "execution_count": 5,
   "metadata": {},
   "outputs": [],
   "source": [
    "pd.set_option('display.max_columns', 23) #ver todas las columnas\n",
    "pd.set_option('display.max_rows', 100) #como mucho ver 100 filas"
   ]
  },
  {
   "cell_type": "code",
   "execution_count": 24,
   "metadata": {},
   "outputs": [],
   "source": [
    "def generar_subida(DFTRAIN, metodo, DFTEST, nomArchivo, pasarAdisco):\n",
    "    \"\"\"\n",
    "    X: datos de entrenamiento\n",
    "    y: target de X\n",
    "    metodo: algoritmo a utilizar\n",
    "    \"\"\"\n",
    "    \n",
    "#X_train, X_test, y_train, y_test = train_test_split(X, y, random_state=42)    \n",
    "    \n",
    "    X, y = DFTRAIN.drop( columns = ['precio'] ), DFTRAIN[\"precio\"]\n",
    "\n",
    "    reg = metodo(\n",
    "        alpha=0.9, #no cambia nada\n",
    "        max_depth=4,\n",
    "        #n_estimators=5, con 5 va mal\n",
    "        learning_rate=0.5,\n",
    "        min_samples_leaf=250,\n",
    "        subsample=0.5,\n",
    "        validation_fraction=0.1\n",
    "    )\n",
    "    reg.fit(X,y)\n",
    "    \n",
    "    subida = pd.DataFrame( reg.predict(DFTEST) , columns=[\"target\"])\n",
    "    subida.insert(0, \"id\", test[\"id\"]) #test todavía tiene los ids\n",
    "    \n",
    "    subida['id'] = subida['id'].astype(np.uint32)\n",
    "    subida['target'] = subida['target'].astype(np.uint32)\n",
    "    \n",
    "    # Heurística: si vale menos de 310 000, ponerle 310 000\n",
    "    subida.loc[ subida['target'] <= 310000, 'target'] = 310000\n",
    "    \n",
    "    # Heurística 2: si vale más de 12 500 000, ponerle 12 500 000\n",
    "    subida.loc[ subida['target'] >= 12500000, 'target'] = 12500000\n",
    "    \n",
    "    #Este modelo no necesita las euristicas,pero igual no da muy bien\n",
    "    \n",
    "    \n",
    "    if pasarAdisco:\n",
    "        subida.to_csv(f\"submits/\" + nomArchivo, index = False) \n",
    "    \n",
    "    return X, y, subida"
   ]
  },
  {
   "cell_type": "code",
   "execution_count": 25,
   "metadata": {},
   "outputs": [
    {
     "data": {
      "text/plain": [
       "390554.0"
      ]
     },
     "execution_count": 25,
     "metadata": {},
     "output_type": "execute_result"
    }
   ],
   "source": [
    "dfinicial1 = dfinicial[dfinicial['metrostotales']<225].drop( columns = ['dia'] )\n",
    "dftest1 = dftest.drop( columns = ['dia'] )\n",
    "\n",
    "#dfinicial1 = dfinicial2.drop( columns = [ 'anio', 'metrostotales', 'dia', 'mes', 'banos', 'centroscomercialescercanos',  'escuelascercanas'\n",
    "#                           ])                                        \n",
    " \n",
    "#dftest1 = dftest2.drop( columns = [  'anio', 'metrostotales', 'dia', 'mes', 'banos', 'centroscomercialescercanos', 'escuelascercanas'\n",
    "#                           ])   \n",
    "\n",
    "X, y, subida = generar_subida( dfinicial1, GradientBoostingRegressor, dftest1, \"prueba_andres2.csv\", True)\n",
    "\n",
    "# IMPRIME EL PROMEDIO DE DIFERENCIA CON EL MEJOR RESULTADO (EL DE XG DE JULIÁN)\n",
    "# UN VALOR MENOR ES MEJOR\n",
    "dftot = subida.merge(xg, on = 'id', how = 'inner')\n",
    "dftot['diferencia'] = abs( dftot['target_x'] - dftot['target_y'] )\n",
    "round (dftot['diferencia'].sum() / len( dftot['diferencia'] ) )"
   ]
  },
  {
   "cell_type": "code",
   "execution_count": 8,
   "metadata": {},
   "outputs": [
    {
     "name": "stdout",
     "output_type": "stream",
     "text": [
      "Error de fold N°0 es : 648460.5723698041\n",
      "Error de fold N°1 es : 651863.0967218477\n",
      "Error de fold N°2 es : 652079.2404494584\n",
      "Error de fold N°3 es : 652944.970950236\n",
      "Error de fold N°4 es : 650479.0082130575\n"
     ]
    }
   ],
   "source": [
    "#Sólo si el valor anterior es menor a 500 000, usar esto:\n",
    "validar(X, y, GradientBoostingRegressor, False)"
   ]
  },
  {
   "cell_type": "code",
   "execution_count": 17,
   "metadata": {},
   "outputs": [
    {
     "name": "stdout",
     "output_type": "stream",
     "text": [
      "Error de fold N°0 es : 607840.9459540583\n",
      "Error de fold N°1 es : 609875.1584992459\n",
      "Error de fold N°2 es : 609796.5623568108\n",
      "Error de fold N°3 es : 607045.7600288235\n",
      "Error de fold N°4 es : 606708.6256275818\n"
     ]
    }
   ],
   "source": [
    "#Sólo si el valor anterior es menor a 500 000, usar esto:\n",
    "validar(X, y, GradientBoostingRegressor, alpha=0.9,max_depth=4)"
   ]
  },
  {
   "cell_type": "code",
   "execution_count": 23,
   "metadata": {},
   "outputs": [
    {
     "name": "stdout",
     "output_type": "stream",
     "text": [
      "Error de fold N°0 es : 586627.6302466228\n",
      "Error de fold N°1 es : 587471.2143684208\n",
      "Error de fold N°2 es : 592331.3214685027\n",
      "Error de fold N°3 es : 589452.9643709149\n",
      "Error de fold N°4 es : 589999.2383762376\n"
     ]
    }
   ],
   "source": [
    "#Sólo si el valor anterior es menor a 500 000, usar esto:\n",
    "validar(X, y, GradientBoostingRegressor,alpha=0.9,max_depth=4,learning_rate=0.5,min_samples_leaf=250,subsample=0.5,validation_fraction=0.2)"
   ]
  },
  {
   "cell_type": "code",
   "execution_count": null,
   "metadata": {},
   "outputs": [],
   "source": [
    "fig, ax = plt.subplots(figsize=(10,10))\n",
    "ax.scatter(y_test, pred)\n",
    "ax.plot([y_test.min(), y_test.max()], [y_test.min(), y_test.max()], 'k--', lw=4)\n",
    "ax.set_xlabel(\"Valores reales\", fontsize=16)\n",
    "ax.set_ylabel(\"Valores predichos\", fontsize=16);"
   ]
  },
  {
   "cell_type": "code",
   "execution_count": null,
   "metadata": {},
   "outputs": [],
   "source": [
    "#reg = LinearRegression(normalize=True, n_jobs = -1)\n",
    "#reg.fit(X,y)"
   ]
  },
  {
   "cell_type": "code",
   "execution_count": null,
   "metadata": {},
   "outputs": [],
   "source": [
    "train.info()"
   ]
  },
  {
   "cell_type": "code",
   "execution_count": null,
   "metadata": {},
   "outputs": [],
   "source": [
    "train['descripcion'] = train['descripcion'].to_string()\n",
    "train.info()"
   ]
  },
  {
   "cell_type": "code",
   "execution_count": null,
   "metadata": {},
   "outputs": [],
   "source": [
    "train.head()"
   ]
  },
  {
   "cell_type": "code",
   "execution_count": null,
   "metadata": {},
   "outputs": [],
   "source": []
  }
 ],
 "metadata": {
  "kernelspec": {
   "display_name": "Python 3",
   "language": "python",
   "name": "python3"
  },
  "language_info": {
   "codemirror_mode": {
    "name": "ipython",
    "version": 3
   },
   "file_extension": ".py",
   "mimetype": "text/x-python",
   "name": "python",
   "nbconvert_exporter": "python",
   "pygments_lexer": "ipython3",
   "version": "3.6.8"
  }
 },
 "nbformat": 4,
 "nbformat_minor": 2
}
