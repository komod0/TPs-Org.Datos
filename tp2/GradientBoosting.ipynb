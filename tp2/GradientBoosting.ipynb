{
 "cells": [
  {
   "cell_type": "code",
   "execution_count": 32,
   "metadata": {},
   "outputs": [],
   "source": [
    "import pandas as pd\n",
    "import numpy as np\n",
    "\n",
    "import matplotlib.pyplot as plt\n",
    "\n",
    "from sklearn.ensemble import GradientBoostingRegressor\n",
    "from sklearn.model_selection import train_test_split\n",
    "from sklearn.metrics import mean_squared_error\n",
    "from sklearn.datasets import load_boston\n",
    "from sklearn.metrics import mean_absolute_error\n",
    "\n",
    "from utilidades.validar import validar\n",
    "from utilidades.graficar import ver_dispersion\n",
    "\n",
    "import re "
   ]
  },
  {
   "cell_type": "code",
   "execution_count": 2,
   "metadata": {},
   "outputs": [],
   "source": [
    "train = pd.read_csv(\"data/train.csv\")\n",
    "test = pd.read_csv(\"data/test.csv\")\n",
    "\n",
    "dfinicial = pd.read_csv(\"data/train_limpio.csv\")\n",
    "dftest = pd.read_csv(\"data/test_limpio.csv\")\n",
    "\n",
    "mejorPruebaActual = pd.read_csv('submits/limpieza_descripciones_retuneo_LGBM_300d.csv')"
   ]
  },
  {
   "cell_type": "code",
   "execution_count": 3,
   "metadata": {},
   "outputs": [],
   "source": [
    "#trainMejorado = pd.read_csv(\"data/train_limpio4_bis.csv\")\n",
    "#testMejorado = pd.read_csv(\"data/test_limpio4.csv\")"
   ]
  },
  {
   "cell_type": "code",
   "execution_count": 4,
   "metadata": {},
   "outputs": [
    {
     "name": "stdout",
     "output_type": "stream",
     "text": [
      "<class 'pandas.core.frame.DataFrame'>\n",
      "RangeIndex: 240000 entries, 0 to 239999\n",
      "Data columns (total 71 columns):\n",
      "tipodepropiedad_Apartamento                      240000 non-null int64\n",
      "tipodepropiedad_Casa en condominio               240000 non-null int64\n",
      "tipodepropiedad_Casa                             240000 non-null int64\n",
      "tipodepropiedad_Terreno                          240000 non-null int64\n",
      "tipodepropiedad_Terreno comercial                240000 non-null int64\n",
      "tipodepropiedad_Local Comercial                  240000 non-null int64\n",
      "tipodepropiedad_Quinta Vacacional                240000 non-null int64\n",
      "tipodepropiedad_Oficina comercial                240000 non-null int64\n",
      "tipodepropiedad_Edificio                         240000 non-null int64\n",
      "tipodepropiedad_Casa uso de suelo                240000 non-null int64\n",
      "tipodepropiedad_Local en centro comercial        240000 non-null int64\n",
      "tipodepropiedad_Bodega comercial                 240000 non-null int64\n",
      "tipodepropiedad_Otros                            240000 non-null int64\n",
      "tipodepropiedad_Villa                            240000 non-null int64\n",
      "tipodepropiedad_Duplex                           240000 non-null int64\n",
      "tipodepropiedad_Inmuebles productivos urbanos    240000 non-null int64\n",
      "tipodepropiedad_Departamento Compartido          240000 non-null int64\n",
      "tipodepropiedad_Nave industrial                  240000 non-null int64\n",
      "tipodepropiedad_Rancho                           240000 non-null int64\n",
      "tipodepropiedad_Terreno industrial               240000 non-null int64\n",
      "tipodepropiedad_Huerta                           240000 non-null int64\n",
      "tipodepropiedad_Lote                             240000 non-null int64\n",
      "tipodepropiedad_Hospedaje                        240000 non-null int64\n",
      "tipodepropiedad_Garage                           240000 non-null int64\n",
      "provincia_Distrito Federal                       240000 non-null int64\n",
      "provincia_Jalisco                                240000 non-null int64\n",
      "provincia_Edo. de México                         240000 non-null int64\n",
      "provincia_Oaxaca                                 240000 non-null int64\n",
      "provincia_Quintana Roo                           240000 non-null int64\n",
      "provincia_Colima                                 240000 non-null int64\n",
      "provincia_San luis Potosí                        240000 non-null int64\n",
      "provincia_Nuevo León                             240000 non-null int64\n",
      "provincia_Querétaro                              240000 non-null int64\n",
      "provincia_Tamaulipas                             240000 non-null int64\n",
      "provincia_Puebla                                 240000 non-null int64\n",
      "provincia_Yucatán                                240000 non-null int64\n",
      "provincia_Morelos                                240000 non-null int64\n",
      "provincia_Guerrero                               240000 non-null int64\n",
      "provincia_Tabasco                                240000 non-null int64\n",
      "provincia_Guanajuato                             240000 non-null int64\n",
      "provincia_Hidalgo                                240000 non-null int64\n",
      "provincia_Veracruz                               240000 non-null int64\n",
      "provincia_Chihuahua                              240000 non-null int64\n",
      "provincia_Aguascalientes                         240000 non-null int64\n",
      "provincia_Sonora                                 240000 non-null int64\n",
      "provincia_Michoacán                              240000 non-null int64\n",
      "provincia_Baja California Norte                  240000 non-null int64\n",
      "provincia_Baja California Sur                    240000 non-null int64\n",
      "provincia_Coahuila                               240000 non-null int64\n",
      "provincia_Durango                                240000 non-null int64\n",
      "provincia_Sinaloa                                240000 non-null int64\n",
      "provincia_Chiapas                                240000 non-null int64\n",
      "provincia_Nayarit                                240000 non-null int64\n",
      "provincia_Tlaxcala                               240000 non-null int64\n",
      "provincia_Campeche                               240000 non-null int64\n",
      "provincia_Zacatecas                              240000 non-null int64\n",
      "antiguedad                                       240000 non-null int64\n",
      "habitaciones                                     240000 non-null int64\n",
      "garages                                          240000 non-null int64\n",
      "banos                                            240000 non-null int64\n",
      "metroscubiertos                                  240000 non-null int64\n",
      "metrostotales                                    240000 non-null int64\n",
      "gimnasio                                         240000 non-null int64\n",
      "usosmultiples                                    240000 non-null int64\n",
      "piscina                                          240000 non-null int64\n",
      "escuelascercanas                                 240000 non-null int64\n",
      "centroscomercialescercanos                       240000 non-null int64\n",
      "precio                                           240000 non-null int64\n",
      "dia                                              240000 non-null int64\n",
      "mes                                              240000 non-null int64\n",
      "anio                                             240000 non-null int64\n",
      "dtypes: int64(71)\n",
      "memory usage: 130.0 MB\n"
     ]
    }
   ],
   "source": [
    "dfinicial.info()"
   ]
  },
  {
   "cell_type": "code",
   "execution_count": 5,
   "metadata": {},
   "outputs": [
    {
     "data": {
      "text/html": [
       "<div>\n",
       "<style scoped>\n",
       "    .dataframe tbody tr th:only-of-type {\n",
       "        vertical-align: middle;\n",
       "    }\n",
       "\n",
       "    .dataframe tbody tr th {\n",
       "        vertical-align: top;\n",
       "    }\n",
       "\n",
       "    .dataframe thead th {\n",
       "        text-align: right;\n",
       "    }\n",
       "</style>\n",
       "<table border=\"1\" class=\"dataframe\">\n",
       "  <thead>\n",
       "    <tr style=\"text-align: right;\">\n",
       "      <th></th>\n",
       "      <th>id</th>\n",
       "      <th>target</th>\n",
       "    </tr>\n",
       "  </thead>\n",
       "  <tbody>\n",
       "    <tr>\n",
       "      <th>0</th>\n",
       "      <td>4941</td>\n",
       "      <td>5.391570e+06</td>\n",
       "    </tr>\n",
       "    <tr>\n",
       "      <th>1</th>\n",
       "      <td>51775</td>\n",
       "      <td>1.037451e+06</td>\n",
       "    </tr>\n",
       "    <tr>\n",
       "      <th>2</th>\n",
       "      <td>115253</td>\n",
       "      <td>2.415119e+06</td>\n",
       "    </tr>\n",
       "    <tr>\n",
       "      <th>3</th>\n",
       "      <td>299321</td>\n",
       "      <td>1.222533e+06</td>\n",
       "    </tr>\n",
       "    <tr>\n",
       "      <th>4</th>\n",
       "      <td>173570</td>\n",
       "      <td>5.561620e+05</td>\n",
       "    </tr>\n",
       "  </tbody>\n",
       "</table>\n",
       "</div>"
      ],
      "text/plain": [
       "       id        target\n",
       "0    4941  5.391570e+06\n",
       "1   51775  1.037451e+06\n",
       "2  115253  2.415119e+06\n",
       "3  299321  1.222533e+06\n",
       "4  173570  5.561620e+05"
      ]
     },
     "execution_count": 5,
     "metadata": {},
     "output_type": "execute_result"
    }
   ],
   "source": [
    "mejorPruebaActual.head()"
   ]
  },
  {
   "cell_type": "code",
   "execution_count": 6,
   "metadata": {},
   "outputs": [],
   "source": [
    "pd.set_option('display.max_columns', 23) #ver todas las columnas\n",
    "pd.set_option('display.max_rows', 100) #como mucho ver 100 filas"
   ]
  },
  {
   "cell_type": "code",
   "execution_count": 8,
   "metadata": {},
   "outputs": [
    {
     "data": {
      "text/plain": [
       "12525000"
      ]
     },
     "execution_count": 8,
     "metadata": {},
     "output_type": "execute_result"
    }
   ],
   "source": [
    "dfinicial.precio.max()"
   ]
  },
  {
   "cell_type": "code",
   "execution_count": 7,
   "metadata": {},
   "outputs": [
    {
     "data": {
      "text/plain": [
       "12516000"
      ]
     },
     "execution_count": 7,
     "metadata": {},
     "output_type": "execute_result"
    }
   ],
   "source": [
    "dfinicial[dfinicial['metrostotales']>225].precio.max()"
   ]
  },
  {
   "cell_type": "code",
   "execution_count": 13,
   "metadata": {},
   "outputs": [
    {
     "data": {
      "text/plain": [
       "3770771.685993544"
      ]
     },
     "execution_count": 13,
     "metadata": {},
     "output_type": "execute_result"
    }
   ],
   "source": [
    "dfinicial[dfinicial['metrostotales']>225].precio.mean()"
   ]
  },
  {
   "cell_type": "code",
   "execution_count": 14,
   "metadata": {},
   "outputs": [
    {
     "data": {
      "text/plain": [
       "2155574.1087928787"
      ]
     },
     "execution_count": 14,
     "metadata": {},
     "output_type": "execute_result"
    }
   ],
   "source": [
    "dfinicial[dfinicial['metrostotales']<=225].precio.mean()"
   ]
  },
  {
   "cell_type": "markdown",
   "metadata": {},
   "source": [
    "# Se define la funcion"
   ]
  },
  {
   "cell_type": "code",
   "execution_count": 18,
   "metadata": {},
   "outputs": [],
   "source": [
    "def generar_subida(DFTRAIN, metodo, DFTEST, nomArchivo, pasarAdisco):\n",
    "    \"\"\"\n",
    "    X: datos de entrenamiento\n",
    "    y: target de X\n",
    "    metodo: algoritmo a utilizar\n",
    "    \"\"\"\n",
    "    \n",
    "#X_train, X_test, y_train, y_test = train_test_split(X, y, random_state=42)    \n",
    "    \n",
    "    X, y = DFTRAIN.drop( columns = ['precio'] ), DFTRAIN[\"precio\"]\n",
    "\n",
    "    metodo.fit(X,y)\n",
    "    \n",
    "    subida = pd.DataFrame( metodo.predict(DFTEST) , columns=[\"target\"])\n",
    "    subida.insert(0, \"id\", test[\"id\"]) #test todavía tiene los ids\n",
    "    \n",
    "    subida['id'] = subida['id'].astype(np.uint32)\n",
    "    subida['target'] = subida['target'].astype(np.uint32)\n",
    "    \n",
    "    # Heurística: si vale menos de 310 000, ponerle 310 000\n",
    "    subida.loc[ subida['target'] <= 310000, 'target'] = 310000\n",
    "    \n",
    "    # Heurística 2: si vale más de 12 500 000, ponerle 12 500 000\n",
    "    subida.loc[ subida['target'] >= 12500000, 'target'] = 12500000\n",
    "    \n",
    "    #Este modelo no necesita las euristicas,pero igual no da muy bien\n",
    "    \n",
    "    \n",
    "    if pasarAdisco:\n",
    "        subida.to_csv(f\"submits/\" + nomArchivo, index = False) \n",
    "    \n",
    "    return X, y, subida"
   ]
  },
  {
   "cell_type": "markdown",
   "metadata": {},
   "source": [
    "#### Evalúo los parametros iniciales"
   ]
  },
  {
   "cell_type": "code",
   "execution_count": 8,
   "metadata": {},
   "outputs": [
    {
     "data": {
      "text/plain": [
       "GradientBoostingRegressor(alpha=0.9, criterion='friedman_mse', init=None,\n",
       "                          learning_rate=0.1, loss='ls', max_depth=3,\n",
       "                          max_features=None, max_leaf_nodes=None,\n",
       "                          min_impurity_decrease=0.0, min_impurity_split=None,\n",
       "                          min_samples_leaf=1, min_samples_split=2,\n",
       "                          min_weight_fraction_leaf=0.0, n_estimators=100,\n",
       "                          n_iter_no_change=None, presort='auto',\n",
       "                          random_state=None, subsample=1.0, tol=0.0001,\n",
       "                          validation_fraction=0.1, verbose=0, warm_start=False)"
      ]
     },
     "execution_count": 8,
     "metadata": {},
     "output_type": "execute_result"
    }
   ],
   "source": [
    "GradientBoostingRegressor()"
   ]
  },
  {
   "cell_type": "code",
   "execution_count": 16,
   "metadata": {},
   "outputs": [
    {
     "data": {
      "text/plain": [
       "540277.0"
      ]
     },
     "execution_count": 16,
     "metadata": {},
     "output_type": "execute_result"
    }
   ],
   "source": [
    "#dfinicial1 = dfinicial[dfinicial['metrostotales']<225].drop( columns = ['dia'] )\n",
    "#dftest1 = dftest.drop( columns = ['dia'] )\n",
    "\n",
    "\n",
    "#dfinicial1  = trainMejorado[trainMejorado['metrostotales']<225].drop( columns = ['dia'] )\n",
    "#dftest1 = testMejorado.drop( columns = ['dia'] )\n",
    "\n",
    "\n",
    "#dfinicial1 = dfinicial2.drop( columns = [ 'anio', 'metrostotales', 'dia', 'mes', 'banos', 'centroscomercialescercanos',  'escuelascercanas'\n",
    "#                           ])                                        \n",
    " \n",
    "#dftest1 = dftest2.drop( columns = [  'anio', 'metrostotales', 'dia', 'mes', 'banos', 'centroscomercialescercanos', 'escuelascercanas'\n",
    "#                           ])   \n",
    "\n",
    "reg = GradientBoostingRegressor(\n",
    ")\n",
    "\n",
    "\n",
    "\n",
    "X, y, subida = generar_subida( dfinicial, reg, dftest, \"prueba_andres2.csv\", False)\n",
    "\n",
    "# IMPRIME EL PROMEDIO DE DIFERENCIA CON EL MEJOR RESULTADO \n",
    "#(No es la mejor forma pero sirve como aproximacion si el Kfold tarda mucho)\n",
    "# UN VALOR MENOR ES MEJOR\n",
    "dftot = subida.merge(mejorPruebaActual, on = 'id', how = 'inner')\n",
    "dftot['diferencia'] = abs( dftot['target_x'] - dftot['target_y'] )\n",
    "round (dftot['diferencia'].sum() / len( dftot['diferencia'] ) )"
   ]
  },
  {
   "cell_type": "markdown",
   "metadata": {},
   "source": [
    "### Verifico formalmente el metodo con Kfold"
   ]
  },
  {
   "cell_type": "code",
   "execution_count": 18,
   "metadata": {},
   "outputs": [
    {
     "name": "stdout",
     "output_type": "stream",
     "text": [
      "Error de fold N°0 es : 796954.7472719415\n",
      "Error de fold N°1 es : 797055.6763865778\n",
      "Error de fold N°2 es : 798668.9923507419\n",
      "Error de fold N°3 es : 796861.2225620802\n",
      "Error de fold N°4 es : 790163.0381804889\n"
     ]
    }
   ],
   "source": [
    "#Sólo si el valor anterior es menor a 500 000, usar esto:\n",
    "validar(X, y, GradientBoostingRegressor, False)\n",
    "#da error de 795000"
   ]
  },
  {
   "cell_type": "markdown",
   "metadata": {},
   "source": [
    "# Modifico los hiperparametros propios del Gradient Boosting para maximizar su eficacia"
   ]
  },
  {
   "cell_type": "code",
   "execution_count": 22,
   "metadata": {},
   "outputs": [
    {
     "data": {
      "text/plain": [
       "483449.0"
      ]
     },
     "execution_count": 22,
     "metadata": {},
     "output_type": "execute_result"
    }
   ],
   "source": [
    "\n",
    "gradientBoostingOptimizado = GradientBoostingRegressor(\n",
    "    alpha=0.9, #no cambia nada\n",
    "    max_depth=4,\n",
    "    n_estimators=100, #el default es 100 asique deberia dar bastante\n",
    "    learning_rate=0.5,\n",
    "    min_samples_leaf=250,\n",
    "    subsample=0.5,\n",
    "    validation_fraction=0.1\n",
    ")\n",
    "\n",
    "    \n",
    "X, y, subida = generar_subida( dfinicial, gradientBoostingOptimizado, dftest, \"prueba_andres2.csv\", False)\n",
    "\n",
    "# IMPRIME EL PROMEDIO DE DIFERENCIA CON EL MEJOR RESULTADO (EL DE XG DE JULIÁN)\n",
    "# UN VALOR MENOR ES MEJOR\n",
    "dftot = subida.merge(mejorPruebaActual, on = 'id', how = 'inner')\n",
    "dftot['diferencia'] = abs( dftot['target_x'] - dftot['target_y'] )\n",
    "round (dftot['diferencia'].sum() / len( dftot['diferencia'] ) )    "
   ]
  },
  {
   "cell_type": "code",
   "execution_count": 21,
   "metadata": {},
   "outputs": [
    {
     "name": "stdout",
     "output_type": "stream",
     "text": [
      "Error de fold N°0 es : 715277.06581662\n",
      "Error de fold N°1 es : 705703.5965765929\n",
      "Error de fold N°2 es : 709066.5240343931\n",
      "Error de fold N°3 es : 706036.579450608\n",
      "Error de fold N°4 es : 704949.2174846162\n"
     ]
    }
   ],
   "source": [
    "#Sólo si el valor anterior es menor a 500 000, usar esto:\n",
    "validar(X, y, GradientBoostingRegressor,alpha=0.9,max_depth=4,n_estimators=100,learning_rate=0.5,min_samples_leaf=250,subsample=0.5,validation_fraction=0.1)\n",
    "#su error ronda los 707000"
   ]
  },
  {
   "cell_type": "markdown",
   "metadata": {},
   "source": [
    "### Con 150 estimadores de n me podria dar mejor"
   ]
  },
  {
   "cell_type": "code",
   "execution_count": null,
   "metadata": {},
   "outputs": [],
   "source": [
    "gradientBoostingOptimizado = GradientBoostingRegressor(\n",
    "    alpha=0.9, #no cambia nada\n",
    "    max_depth=4,\n",
    "    n_estimators=150, #el default es 100 asique deberia dar bastante\n",
    "    learning_rate=0.5,\n",
    "    min_samples_leaf=250,\n",
    "    subsample=0.5,\n",
    "    validation_fraction=0.1\n",
    ")\n",
    "\n",
    "    \n",
    "X, y, subida = generar_subida( dfinicial, gradientBoostingOptimizado, dftest, \"prueba_andres2.csv\", False)\n",
    "\n",
    "# IMPRIME EL PROMEDIO DE DIFERENCIA CON EL MEJOR RESULTADO (EL DE XG DE JULIÁN)\n",
    "# UN VALOR MENOR ES MEJOR\n",
    "dftot = subida.merge(mejorPruebaActual, on = 'id', how = 'inner')\n",
    "dftot['diferencia'] = abs( dftot['target_x'] - dftot['target_y'] )\n",
    "round (dftot['diferencia'].sum() / len( dftot['diferencia'] ) )   "
   ]
  },
  {
   "cell_type": "code",
   "execution_count": 21,
   "metadata": {},
   "outputs": [
    {
     "ename": "NameError",
     "evalue": "name 'X' is not defined",
     "output_type": "error",
     "traceback": [
      "\u001b[0;31m---------------------------------------------------------------------------\u001b[0m",
      "\u001b[0;31mNameError\u001b[0m                                 Traceback (most recent call last)",
      "\u001b[0;32m<ipython-input-21-b4f75e753787>\u001b[0m in \u001b[0;36m<module>\u001b[0;34m\u001b[0m\n\u001b[1;32m      1\u001b[0m \u001b[0;31m#Sólo si el valor anterior es menor a 500 000, usar esto:\u001b[0m\u001b[0;34m\u001b[0m\u001b[0;34m\u001b[0m\u001b[0;34m\u001b[0m\u001b[0m\n\u001b[0;32m----> 2\u001b[0;31m \u001b[0mvalidar\u001b[0m\u001b[0;34m(\u001b[0m\u001b[0mX\u001b[0m\u001b[0;34m,\u001b[0m \u001b[0my\u001b[0m\u001b[0;34m,\u001b[0m \u001b[0mGradientBoostingRegressor\u001b[0m\u001b[0;34m,\u001b[0m\u001b[0malpha\u001b[0m\u001b[0;34m=\u001b[0m\u001b[0;36m0.9\u001b[0m\u001b[0;34m,\u001b[0m\u001b[0mmax_depth\u001b[0m\u001b[0;34m=\u001b[0m\u001b[0;36m4\u001b[0m\u001b[0;34m,\u001b[0m\u001b[0mn_estimators\u001b[0m\u001b[0;34m=\u001b[0m\u001b[0;36m150\u001b[0m\u001b[0;34m,\u001b[0m\u001b[0mlearning_rate\u001b[0m\u001b[0;34m=\u001b[0m\u001b[0;36m0.5\u001b[0m\u001b[0;34m,\u001b[0m\u001b[0mmin_samples_leaf\u001b[0m\u001b[0;34m=\u001b[0m\u001b[0;36m250\u001b[0m\u001b[0;34m,\u001b[0m\u001b[0msubsample\u001b[0m\u001b[0;34m=\u001b[0m\u001b[0;36m0.5\u001b[0m\u001b[0;34m,\u001b[0m\u001b[0mvalidation_fraction\u001b[0m\u001b[0;34m=\u001b[0m\u001b[0;36m0.1\u001b[0m\u001b[0;34m)\u001b[0m\u001b[0;34m\u001b[0m\u001b[0;34m\u001b[0m\u001b[0m\n\u001b[0m\u001b[1;32m      3\u001b[0m \u001b[0;31m#Con 150 estimadores de n corre un poco mejor\u001b[0m\u001b[0;34m\u001b[0m\u001b[0;34m\u001b[0m\u001b[0;34m\u001b[0m\u001b[0m\n",
      "\u001b[0;31mNameError\u001b[0m: name 'X' is not defined"
     ]
    }
   ],
   "source": [
    "#Sólo si el valor anterior es menor a 500 000, usar esto:\n",
    "validar(X, y, GradientBoostingRegressor,alpha=0.9,max_depth=4,n_estimators=150,learning_rate=0.5,min_samples_leaf=250,subsample=0.5,validation_fraction=0.1)\n",
    "#Con 150 estimadores de n corre un poco mejor"
   ]
  },
  {
   "cell_type": "markdown",
   "metadata": {},
   "source": [
    "# Trabajo con features preexistentes"
   ]
  },
  {
   "cell_type": "markdown",
   "metadata": {},
   "source": [
    "## Quito las propiedades muy grandes porque perjudican el calculo"
   ]
  },
  {
   "cell_type": "markdown",
   "metadata": {},
   "source": [
    "### Esto se debe a que el algoritmo predice mejor las viviendas de menor costo,y las que suelen tener un mayor precio son las mas grandes"
   ]
  },
  {
   "cell_type": "code",
   "execution_count": 15,
   "metadata": {},
   "outputs": [
    {
     "data": {
      "text/plain": [
       "3770771.685993544"
      ]
     },
     "execution_count": 15,
     "metadata": {},
     "output_type": "execute_result"
    }
   ],
   "source": [
    "dfinicial[dfinicial['metrostotales']>225].precio.mean()"
   ]
  },
  {
   "cell_type": "code",
   "execution_count": 16,
   "metadata": {},
   "outputs": [
    {
     "data": {
      "text/plain": [
       "2155574.1087928787"
      ]
     },
     "execution_count": 16,
     "metadata": {},
     "output_type": "execute_result"
    }
   ],
   "source": [
    "dfinicial[dfinicial['metrostotales']<=225].precio.mean()"
   ]
  },
  {
   "cell_type": "code",
   "execution_count": 23,
   "metadata": {},
   "outputs": [
    {
     "data": {
      "text/plain": [
       "488765.0"
      ]
     },
     "execution_count": 23,
     "metadata": {},
     "output_type": "execute_result"
    }
   ],
   "source": [
    "dfinicial1 = dfinicial[dfinicial['metrostotales']<225]#.drop( columns = ['dia'] )\n",
    "dftest1 = dftest#.drop( columns = ['dia'] )\n",
    "    \n",
    "X, y, subida = generar_subida( dfinicial1, gradientBoostingOptimizado, dftest1, \"prueba_andres2.csv\", False)\n",
    "\n",
    "# IMPRIME EL PROMEDIO DE DIFERENCIA CON EL MEJOR RESULTADO (EL DE XG DE JULIÁN)\n",
    "# UN VALOR MENOR ES MEJOR\n",
    "dftot = subida.merge(mejorPruebaActual, on = 'id', how = 'inner')\n",
    "dftot['diferencia'] = abs( dftot['target_x'] - dftot['target_y'] )\n",
    "round (dftot['diferencia'].sum() / len( dftot['diferencia'] ) )    "
   ]
  },
  {
   "cell_type": "code",
   "execution_count": 24,
   "metadata": {},
   "outputs": [
    {
     "name": "stdout",
     "output_type": "stream",
     "text": [
      "Error de fold N°0 es : 588995.4266792418\n",
      "Error de fold N°1 es : 586227.4738019543\n",
      "Error de fold N°2 es : 591839.4391255038\n",
      "Error de fold N°3 es : 585896.726326693\n",
      "Error de fold N°4 es : 589426.8528888001\n"
     ]
    }
   ],
   "source": [
    "#Sólo si el valor anterior es menor a 500 000, usar esto:\n",
    "validar(X, y, GradientBoostingRegressor,alpha=0.9,max_depth=4,n_estimators=100,learning_rate=0.5,min_samples_leaf=250,subsample=0.5,validation_fraction=0.1)"
   ]
  },
  {
   "cell_type": "markdown",
   "metadata": {},
   "source": [
    "### su error ronda los 588000 no obstante primero subio y el segundo bajo porque el primero igual calcula las propiedades grandes y el segundo no,asique esto prueba que las propiedades grandes enturbiecen el resultado aunque no lo pueda usar"
   ]
  },
  {
   "cell_type": "code",
   "execution_count": 20,
   "metadata": {},
   "outputs": [],
   "source": [
    "\n",
    "gradientBoostingOptimizado = GradientBoostingRegressor(\n",
    "    alpha=0.9, #no cambia nada\n",
    "    max_depth=4,\n",
    "    n_estimators=100, #el default es 100 asique deberia dar bastante\n",
    "    learning_rate=0.5,\n",
    "    min_samples_leaf=250,\n",
    "    subsample=0.5,\n",
    "    validation_fraction=0.1\n",
    ")"
   ]
  },
  {
   "cell_type": "markdown",
   "metadata": {},
   "source": [
    "## Le quito features innecesarios como día"
   ]
  },
  {
   "cell_type": "code",
   "execution_count": null,
   "metadata": {},
   "outputs": [],
   "source": [
    "dfinicial1 = dfinicial.drop( columns = ['dia'] )\n",
    "dftest1 = dftest.drop( columns = ['dia'] )\n",
    "    \n",
    "X, y, subida = generar_subida( dfinicial1, gradientBoostingOptimizado, dftest1, \"prueba_andres2.csv\", False)\n",
    "\n",
    "# IMPRIME EL PROMEDIO DE DIFERENCIA CON EL MEJOR RESULTADO (EL DE XG DE JULIÁN)\n",
    "# UN VALOR MENOR ES MEJOR\n",
    "dftot = subida.merge(mejorPruebaActual, on = 'id', how = 'inner')\n",
    "dftot['diferencia'] = abs( dftot['target_x'] - dftot['target_y'] )\n",
    "round (dftot['diferencia'].sum() / len( dftot['diferencia'] ) )  "
   ]
  },
  {
   "cell_type": "code",
   "execution_count": 27,
   "metadata": {},
   "outputs": [
    {
     "name": "stdout",
     "output_type": "stream",
     "text": [
      "Error de fold N°0 es : 714109.9543325376\n",
      "Error de fold N°1 es : 704573.8540342319\n",
      "Error de fold N°2 es : 713927.6567804025\n",
      "Error de fold N°3 es : 713185.0902547204\n",
      "Error de fold N°4 es : 704212.5961690441\n"
     ]
    }
   ],
   "source": [
    "#Sólo si el valor anterior es menor a 500 000, usar esto:\n",
    "validar(X, y, GradientBoostingRegressor,alpha=0.9,max_depth=4,n_estimators=100,learning_rate=0.5,min_samples_leaf=250,subsample=0.5,validation_fraction=0.1)"
   ]
  },
  {
   "cell_type": "code",
   "execution_count": 28,
   "metadata": {},
   "outputs": [],
   "source": [
    "# Su error ronda los 710000\n",
    "#sacar el dia no afectó nada,probablemente el \n",
    "#mismo algoritmo al determinar que no aporta \n",
    "#informacion decide obviarlo cuando está,por \n",
    "#lo que no cambia nada si está o no"
   ]
  },
  {
   "cell_type": "markdown",
   "metadata": {},
   "source": [
    "## despues quitar otros features pero bueno"
   ]
  },
  {
   "cell_type": "markdown",
   "metadata": {},
   "source": [
    "# Creacion de features propios"
   ]
  },
  {
   "cell_type": "markdown",
   "metadata": {},
   "source": [
    "### Por lo previamente establecido,los precios de viviendas grandes son mas dificiles de calcular,por lo que me agrego otros features para las mmismas"
   ]
  },
  {
   "cell_type": "code",
   "execution_count": 26,
   "metadata": {},
   "outputs": [
    {
     "data": {
      "text/html": [
       "<div>\n",
       "<style scoped>\n",
       "    .dataframe tbody tr th:only-of-type {\n",
       "        vertical-align: middle;\n",
       "    }\n",
       "\n",
       "    .dataframe tbody tr th {\n",
       "        vertical-align: top;\n",
       "    }\n",
       "\n",
       "    .dataframe thead th {\n",
       "        text-align: right;\n",
       "    }\n",
       "</style>\n",
       "<table border=\"1\" class=\"dataframe\">\n",
       "  <thead>\n",
       "    <tr style=\"text-align: right;\">\n",
       "      <th></th>\n",
       "      <th>tipodepropiedad_Apartamento</th>\n",
       "      <th>tipodepropiedad_Casa en condominio</th>\n",
       "      <th>tipodepropiedad_Casa</th>\n",
       "      <th>tipodepropiedad_Terreno</th>\n",
       "      <th>tipodepropiedad_Terreno comercial</th>\n",
       "      <th>tipodepropiedad_Local Comercial</th>\n",
       "      <th>tipodepropiedad_Quinta Vacacional</th>\n",
       "      <th>tipodepropiedad_Oficina comercial</th>\n",
       "      <th>tipodepropiedad_Edificio</th>\n",
       "      <th>tipodepropiedad_Casa uso de suelo</th>\n",
       "      <th>tipodepropiedad_Local en centro comercial</th>\n",
       "      <th>...</th>\n",
       "      <th>metrostotales</th>\n",
       "      <th>gimnasio</th>\n",
       "      <th>usosmultiples</th>\n",
       "      <th>piscina</th>\n",
       "      <th>escuelascercanas</th>\n",
       "      <th>centroscomercialescercanos</th>\n",
       "      <th>precio</th>\n",
       "      <th>dia</th>\n",
       "      <th>mes</th>\n",
       "      <th>anio</th>\n",
       "      <th>viviendaGrande</th>\n",
       "    </tr>\n",
       "  </thead>\n",
       "  <tbody>\n",
       "    <tr>\n",
       "      <th>0</th>\n",
       "      <td>1</td>\n",
       "      <td>0</td>\n",
       "      <td>0</td>\n",
       "      <td>0</td>\n",
       "      <td>0</td>\n",
       "      <td>0</td>\n",
       "      <td>0</td>\n",
       "      <td>0</td>\n",
       "      <td>0</td>\n",
       "      <td>0</td>\n",
       "      <td>0</td>\n",
       "      <td>...</td>\n",
       "      <td>80</td>\n",
       "      <td>0</td>\n",
       "      <td>0</td>\n",
       "      <td>0</td>\n",
       "      <td>0</td>\n",
       "      <td>0</td>\n",
       "      <td>2273000</td>\n",
       "      <td>23</td>\n",
       "      <td>8</td>\n",
       "      <td>2015</td>\n",
       "      <td>0</td>\n",
       "    </tr>\n",
       "    <tr>\n",
       "      <th>1</th>\n",
       "      <td>0</td>\n",
       "      <td>1</td>\n",
       "      <td>0</td>\n",
       "      <td>0</td>\n",
       "      <td>0</td>\n",
       "      <td>0</td>\n",
       "      <td>0</td>\n",
       "      <td>0</td>\n",
       "      <td>0</td>\n",
       "      <td>0</td>\n",
       "      <td>0</td>\n",
       "      <td>...</td>\n",
       "      <td>180</td>\n",
       "      <td>0</td>\n",
       "      <td>0</td>\n",
       "      <td>0</td>\n",
       "      <td>1</td>\n",
       "      <td>1</td>\n",
       "      <td>3600000</td>\n",
       "      <td>28</td>\n",
       "      <td>6</td>\n",
       "      <td>2013</td>\n",
       "      <td>0</td>\n",
       "    </tr>\n",
       "    <tr>\n",
       "      <th>2</th>\n",
       "      <td>0</td>\n",
       "      <td>0</td>\n",
       "      <td>1</td>\n",
       "      <td>0</td>\n",
       "      <td>0</td>\n",
       "      <td>0</td>\n",
       "      <td>0</td>\n",
       "      <td>0</td>\n",
       "      <td>0</td>\n",
       "      <td>0</td>\n",
       "      <td>0</td>\n",
       "      <td>...</td>\n",
       "      <td>166</td>\n",
       "      <td>0</td>\n",
       "      <td>0</td>\n",
       "      <td>0</td>\n",
       "      <td>0</td>\n",
       "      <td>0</td>\n",
       "      <td>1200000</td>\n",
       "      <td>17</td>\n",
       "      <td>10</td>\n",
       "      <td>2015</td>\n",
       "      <td>0</td>\n",
       "    </tr>\n",
       "    <tr>\n",
       "      <th>3</th>\n",
       "      <td>0</td>\n",
       "      <td>0</td>\n",
       "      <td>1</td>\n",
       "      <td>0</td>\n",
       "      <td>0</td>\n",
       "      <td>0</td>\n",
       "      <td>0</td>\n",
       "      <td>0</td>\n",
       "      <td>0</td>\n",
       "      <td>0</td>\n",
       "      <td>0</td>\n",
       "      <td>...</td>\n",
       "      <td>67</td>\n",
       "      <td>0</td>\n",
       "      <td>0</td>\n",
       "      <td>0</td>\n",
       "      <td>1</td>\n",
       "      <td>1</td>\n",
       "      <td>650000</td>\n",
       "      <td>9</td>\n",
       "      <td>3</td>\n",
       "      <td>2012</td>\n",
       "      <td>0</td>\n",
       "    </tr>\n",
       "    <tr>\n",
       "      <th>4</th>\n",
       "      <td>1</td>\n",
       "      <td>0</td>\n",
       "      <td>0</td>\n",
       "      <td>0</td>\n",
       "      <td>0</td>\n",
       "      <td>0</td>\n",
       "      <td>0</td>\n",
       "      <td>0</td>\n",
       "      <td>0</td>\n",
       "      <td>0</td>\n",
       "      <td>0</td>\n",
       "      <td>...</td>\n",
       "      <td>95</td>\n",
       "      <td>0</td>\n",
       "      <td>0</td>\n",
       "      <td>0</td>\n",
       "      <td>0</td>\n",
       "      <td>0</td>\n",
       "      <td>1150000</td>\n",
       "      <td>7</td>\n",
       "      <td>6</td>\n",
       "      <td>2016</td>\n",
       "      <td>0</td>\n",
       "    </tr>\n",
       "  </tbody>\n",
       "</table>\n",
       "<p>5 rows × 72 columns</p>\n",
       "</div>"
      ],
      "text/plain": [
       "   tipodepropiedad_Apartamento  tipodepropiedad_Casa en condominio  \\\n",
       "0                            1                                   0   \n",
       "1                            0                                   1   \n",
       "2                            0                                   0   \n",
       "3                            0                                   0   \n",
       "4                            1                                   0   \n",
       "\n",
       "   tipodepropiedad_Casa  tipodepropiedad_Terreno  \\\n",
       "0                     0                        0   \n",
       "1                     0                        0   \n",
       "2                     1                        0   \n",
       "3                     1                        0   \n",
       "4                     0                        0   \n",
       "\n",
       "   tipodepropiedad_Terreno comercial  tipodepropiedad_Local Comercial  \\\n",
       "0                                  0                                0   \n",
       "1                                  0                                0   \n",
       "2                                  0                                0   \n",
       "3                                  0                                0   \n",
       "4                                  0                                0   \n",
       "\n",
       "   tipodepropiedad_Quinta Vacacional  tipodepropiedad_Oficina comercial  \\\n",
       "0                                  0                                  0   \n",
       "1                                  0                                  0   \n",
       "2                                  0                                  0   \n",
       "3                                  0                                  0   \n",
       "4                                  0                                  0   \n",
       "\n",
       "   tipodepropiedad_Edificio  tipodepropiedad_Casa uso de suelo  \\\n",
       "0                         0                                  0   \n",
       "1                         0                                  0   \n",
       "2                         0                                  0   \n",
       "3                         0                                  0   \n",
       "4                         0                                  0   \n",
       "\n",
       "   tipodepropiedad_Local en centro comercial  ...  metrostotales  gimnasio  \\\n",
       "0                                          0  ...             80         0   \n",
       "1                                          0  ...            180         0   \n",
       "2                                          0  ...            166         0   \n",
       "3                                          0  ...             67         0   \n",
       "4                                          0  ...             95         0   \n",
       "\n",
       "   usosmultiples  piscina  escuelascercanas  centroscomercialescercanos  \\\n",
       "0              0        0                 0                           0   \n",
       "1              0        0                 1                           1   \n",
       "2              0        0                 0                           0   \n",
       "3              0        0                 1                           1   \n",
       "4              0        0                 0                           0   \n",
       "\n",
       "    precio  dia  mes  anio  viviendaGrande  \n",
       "0  2273000   23    8  2015               0  \n",
       "1  3600000   28    6  2013               0  \n",
       "2  1200000   17   10  2015               0  \n",
       "3   650000    9    3  2012               0  \n",
       "4  1150000    7    6  2016               0  \n",
       "\n",
       "[5 rows x 72 columns]"
      ]
     },
     "execution_count": 26,
     "metadata": {},
     "output_type": "execute_result"
    }
   ],
   "source": [
    "dfinicial1 = dfinicial\n",
    "dfinicial1['viviendaGrande'] = (dfinicial['metrostotales']>225).astype(int)\n",
    "dfinicial1.head()"
   ]
  },
  {
   "cell_type": "code",
   "execution_count": 27,
   "metadata": {},
   "outputs": [
    {
     "data": {
      "text/plain": [
       "480494.0"
      ]
     },
     "execution_count": 27,
     "metadata": {},
     "output_type": "execute_result"
    }
   ],
   "source": [
    "dfinicial1 = dfinicial\n",
    "dfinicial1['viviendaGrande'] = (dfinicial['metrostotales']>225).astype(int)\n",
    "\n",
    "dftest1 = dftest\n",
    "dftest1['viviendaGrande'] = (dftest['metrostotales']>225).astype(int)\n",
    "    \n",
    "X, y, subida = generar_subida( dfinicial1, gradientBoostingOptimizado, dftest1, \"prueba_andres2.csv\", False)\n",
    "\n",
    "# IMPRIME EL PROMEDIO DE DIFERENCIA CON EL MEJOR RESULTADO (EL DE XG DE JULIÁN)\n",
    "# UN VALOR MENOR ES MEJOR\n",
    "dftot = subida.merge(mejorPruebaActual, on = 'id', how = 'inner')\n",
    "dftot['diferencia'] = abs( dftot['target_x'] - dftot['target_y'] )\n",
    "round (dftot['diferencia'].sum() / len( dftot['diferencia'] ) )   "
   ]
  },
  {
   "cell_type": "code",
   "execution_count": 28,
   "metadata": {},
   "outputs": [
    {
     "name": "stdout",
     "output_type": "stream",
     "text": [
      "Error de fold N°0 es : 713115.9393285706\n",
      "Error de fold N°1 es : 701881.5620320033\n",
      "Error de fold N°2 es : 715378.7555249189\n",
      "Error de fold N°3 es : 709500.5813459036\n",
      "Error de fold N°4 es : 706838.0468517158\n"
     ]
    }
   ],
   "source": [
    "#Sólo si el valor anterior es menor a 500 000, usar esto:\n",
    "validar(X, y, GradientBoostingRegressor,alpha=0.9,max_depth=4,n_estimators=100,learning_rate=0.5,min_samples_leaf=250,subsample=0.5,validation_fraction=0.1)"
   ]
  },
  {
   "cell_type": "markdown",
   "metadata": {},
   "source": [
    "### Apenas obtuve una \"mejora\",pruebo cambiando el criterio para considerar casas grandes"
   ]
  },
  {
   "cell_type": "code",
   "execution_count": 19,
   "metadata": {},
   "outputs": [
    {
     "ename": "NameError",
     "evalue": "name 'gradientBoostingOptimizado' is not defined",
     "output_type": "error",
     "traceback": [
      "\u001b[0;31m---------------------------------------------------------------------------\u001b[0m",
      "\u001b[0;31mNameError\u001b[0m                                 Traceback (most recent call last)",
      "\u001b[0;32m<ipython-input-19-9288426702e5>\u001b[0m in \u001b[0;36m<module>\u001b[0;34m\u001b[0m\n\u001b[1;32m      5\u001b[0m \u001b[0mdftest1\u001b[0m\u001b[0;34m[\u001b[0m\u001b[0;34m'viviendaGrande'\u001b[0m\u001b[0;34m]\u001b[0m \u001b[0;34m=\u001b[0m \u001b[0;34m(\u001b[0m\u001b[0mdftest\u001b[0m\u001b[0;34m[\u001b[0m\u001b[0;34m'metrostotales'\u001b[0m\u001b[0;34m]\u001b[0m\u001b[0;34m>\u001b[0m\u001b[0;36m250\u001b[0m\u001b[0;34m)\u001b[0m\u001b[0;34m.\u001b[0m\u001b[0mastype\u001b[0m\u001b[0;34m(\u001b[0m\u001b[0mint\u001b[0m\u001b[0;34m)\u001b[0m\u001b[0;34m\u001b[0m\u001b[0;34m\u001b[0m\u001b[0m\n\u001b[1;32m      6\u001b[0m \u001b[0;34m\u001b[0m\u001b[0m\n\u001b[0;32m----> 7\u001b[0;31m \u001b[0mX\u001b[0m\u001b[0;34m,\u001b[0m \u001b[0my\u001b[0m\u001b[0;34m,\u001b[0m \u001b[0msubida\u001b[0m \u001b[0;34m=\u001b[0m \u001b[0mgenerar_subida\u001b[0m\u001b[0;34m(\u001b[0m \u001b[0mdfinicial1\u001b[0m\u001b[0;34m,\u001b[0m \u001b[0mgradientBoostingOptimizado\u001b[0m\u001b[0;34m,\u001b[0m \u001b[0mdftest1\u001b[0m\u001b[0;34m,\u001b[0m \u001b[0;34m\"prueba_andres2.csv\"\u001b[0m\u001b[0;34m,\u001b[0m \u001b[0;32mFalse\u001b[0m\u001b[0;34m)\u001b[0m\u001b[0;34m\u001b[0m\u001b[0;34m\u001b[0m\u001b[0m\n\u001b[0m\u001b[1;32m      8\u001b[0m \u001b[0;34m\u001b[0m\u001b[0m\n\u001b[1;32m      9\u001b[0m \u001b[0;31m# IMPRIME EL PROMEDIO DE DIFERENCIA CON EL MEJOR RESULTADO (EL DE XG DE JULIÁN)\u001b[0m\u001b[0;34m\u001b[0m\u001b[0;34m\u001b[0m\u001b[0;34m\u001b[0m\u001b[0m\n",
      "\u001b[0;31mNameError\u001b[0m: name 'gradientBoostingOptimizado' is not defined"
     ]
    }
   ],
   "source": [
    "dfinicial1 = dfinicial\n",
    "dfinicial1['viviendaGrande'] = (dfinicial['metrostotales']>250).astype(int)\n",
    "\n",
    "dftest1 = dftest\n",
    "dftest1['viviendaGrande'] = (dftest['metrostotales']>250).astype(int)\n",
    "    \n",
    "X, y, subida = generar_subida( dfinicial1, gradientBoostingOptimizado, dftest1, \"prueba_andres2.csv\", False)\n",
    "\n",
    "# IMPRIME EL PROMEDIO DE DIFERENCIA CON EL MEJOR RESULTADO (EL DE XG DE JULIÁN)\n",
    "# UN VALOR MENOR ES MEJOR\n",
    "dftot = subida.merge(mejorPruebaActual, on = 'id', how = 'inner')\n",
    "dftot['diferencia'] = abs( dftot['target_x'] - dftot['target_y'] )\n",
    "round (dftot['diferencia'].sum() / len( dftot['diferencia'] ) )   "
   ]
  },
  {
   "cell_type": "code",
   "execution_count": 36,
   "metadata": {},
   "outputs": [],
   "source": [
    "#Aunque me dé mas de 585000, si me da menos de 707000 ya es una mejora, porque\n",
    "#obviamente no me va a dar mejor que sin tener en cuenta las propiedades grandes,\n",
    "#pero así al menos las estoy tratando de forma diferente"
   ]
  },
  {
   "cell_type": "code",
   "execution_count": 31,
   "metadata": {},
   "outputs": [
    {
     "name": "stdout",
     "output_type": "stream",
     "text": [
      "Error de fold N°0 es : 715538.5467012791\n",
      "Error de fold N°1 es : 707510.2960080666\n",
      "Error de fold N°2 es : 711790.2795080957\n",
      "Error de fold N°3 es : 710487.8447637347\n",
      "Error de fold N°4 es : 708807.7116772638\n"
     ]
    }
   ],
   "source": [
    "#Sólo si el valor anterior es menor a 500 000, usar esto:\n",
    "validar(X, y, GradientBoostingRegressor,alpha=0.9,max_depth=4,n_estimators=100,learning_rate=0.5,min_samples_leaf=250,subsample=0.5,validation_fraction=0.1)"
   ]
  },
  {
   "cell_type": "code",
   "execution_count": 37,
   "metadata": {},
   "outputs": [],
   "source": [
    "#Todavia no me dió bien,cambio devuelta el criterio"
   ]
  },
  {
   "cell_type": "code",
   "execution_count": 44,
   "metadata": {},
   "outputs": [
    {
     "data": {
      "text/plain": [
       "482620.0"
      ]
     },
     "execution_count": 44,
     "metadata": {},
     "output_type": "execute_result"
    }
   ],
   "source": [
    "dfinicial1 = dfinicial\n",
    "dfinicial1['viviendaGrande'] = ((dfinicial['metrostotales']>250) & (dfinicial['garages'])>1).astype(int)\n",
    "\n",
    "dftest1 = dftest\n",
    "dftest1['viviendaGrande'] = ((dftest['metrostotales']>250) & (dftest['garages'])>1).astype(int)\n",
    "    \n",
    "X, y, subida = generar_subida( dfinicial1, gradientBoostingOptimizado, dftest1, \"prueba_andres2.csv\", False)\n",
    "\n",
    "# IMPRIME EL PROMEDIO DE DIFERENCIA CON EL MEJOR RESULTADO (EL DE XG DE JULIÁN)\n",
    "# UN VALOR MENOR ES MEJOR\n",
    "dftot = subida.merge(mejorPruebaActual, on = 'id', how = 'inner')\n",
    "dftot['diferencia'] = abs( dftot['target_x'] - dftot['target_y'] )\n",
    "round (dftot['diferencia'].sum() / len( dftot['diferencia'] ) )  "
   ]
  },
  {
   "cell_type": "code",
   "execution_count": 45,
   "metadata": {},
   "outputs": [
    {
     "name": "stdout",
     "output_type": "stream",
     "text": [
      "Error de fold N°0 es : 720073.7221792672\n",
      "Error de fold N°1 es : 708646.2239435158\n",
      "Error de fold N°2 es : 710286.9572230885\n",
      "Error de fold N°3 es : 707838.0755648133\n",
      "Error de fold N°4 es : 707547.304656751\n"
     ]
    }
   ],
   "source": [
    "#Sólo si el valor anterior es menor a 500 000, usar esto:\n",
    "validar(X, y, GradientBoostingRegressor,alpha=0.9,max_depth=4,n_estimators=100,learning_rate=0.5,min_samples_leaf=250,subsample=0.5,validation_fraction=0.1)"
   ]
  },
  {
   "cell_type": "markdown",
   "metadata": {},
   "source": [
    "## En conclusion,esto no sirve,no aporta ninguna mejora significativa a la prediccion sino que,al contrario,lo empeora"
   ]
  },
  {
   "cell_type": "markdown",
   "metadata": {},
   "source": [
    "# Pruebo con features del df original"
   ]
  },
  {
   "cell_type": "markdown",
   "metadata": {},
   "source": [
    "### Me creo una funcion que determine si hay palabras \"positivas\" respecto a la vivienda en la descripcion de cada una en el df original"
   ]
  },
  {
   "cell_type": "code",
   "execution_count": 23,
   "metadata": {},
   "outputs": [
    {
     "data": {
      "text/html": [
       "<div>\n",
       "<style scoped>\n",
       "    .dataframe tbody tr th:only-of-type {\n",
       "        vertical-align: middle;\n",
       "    }\n",
       "\n",
       "    .dataframe tbody tr th {\n",
       "        vertical-align: top;\n",
       "    }\n",
       "\n",
       "    .dataframe thead th {\n",
       "        text-align: right;\n",
       "    }\n",
       "</style>\n",
       "<table border=\"1\" class=\"dataframe\">\n",
       "  <thead>\n",
       "    <tr style=\"text-align: right;\">\n",
       "      <th></th>\n",
       "      <th>id</th>\n",
       "      <th>titulo</th>\n",
       "      <th>descripcion</th>\n",
       "      <th>tipodepropiedad</th>\n",
       "      <th>direccion</th>\n",
       "      <th>ciudad</th>\n",
       "      <th>provincia</th>\n",
       "      <th>antiguedad</th>\n",
       "      <th>habitaciones</th>\n",
       "      <th>garages</th>\n",
       "      <th>...</th>\n",
       "      <th>idzona</th>\n",
       "      <th>lat</th>\n",
       "      <th>lng</th>\n",
       "      <th>fecha</th>\n",
       "      <th>gimnasio</th>\n",
       "      <th>usosmultiples</th>\n",
       "      <th>piscina</th>\n",
       "      <th>escuelascercanas</th>\n",
       "      <th>centroscomercialescercanos</th>\n",
       "      <th>precio</th>\n",
       "    </tr>\n",
       "  </thead>\n",
       "  <tbody>\n",
       "    <tr>\n",
       "      <th>0</th>\n",
       "      <td>254099</td>\n",
       "      <td>depto. tipo a-402</td>\n",
       "      <td>depto. interior de 80.15m2, consta de sala com...</td>\n",
       "      <td>Apartamento</td>\n",
       "      <td>Avenida Division del Norte 2005</td>\n",
       "      <td>Benito Juárez</td>\n",
       "      <td>Distrito Federal</td>\n",
       "      <td>NaN</td>\n",
       "      <td>2.0</td>\n",
       "      <td>1.0</td>\n",
       "      <td>...</td>\n",
       "      <td>23533.0</td>\n",
       "      <td>NaN</td>\n",
       "      <td>NaN</td>\n",
       "      <td>2015-08-23 00:00:00</td>\n",
       "      <td>0.0</td>\n",
       "      <td>0.0</td>\n",
       "      <td>0.0</td>\n",
       "      <td>0.0</td>\n",
       "      <td>0.0</td>\n",
       "      <td>2273000.0</td>\n",
       "    </tr>\n",
       "    <tr>\n",
       "      <th>1</th>\n",
       "      <td>53461</td>\n",
       "      <td>condominio horizontal en venta</td>\n",
       "      <td>&lt;p&gt;entre sonora y guerrero, atr&amp;aacute;s del h...</td>\n",
       "      <td>Casa en condominio</td>\n",
       "      <td>AV. MEXICO</td>\n",
       "      <td>La Magdalena Contreras</td>\n",
       "      <td>Distrito Federal</td>\n",
       "      <td>10.0</td>\n",
       "      <td>3.0</td>\n",
       "      <td>2.0</td>\n",
       "      <td>...</td>\n",
       "      <td>24514.0</td>\n",
       "      <td>19.310205</td>\n",
       "      <td>-99.227655</td>\n",
       "      <td>2013-06-28 00:00:00</td>\n",
       "      <td>0.0</td>\n",
       "      <td>0.0</td>\n",
       "      <td>0.0</td>\n",
       "      <td>1.0</td>\n",
       "      <td>1.0</td>\n",
       "      <td>3600000.0</td>\n",
       "    </tr>\n",
       "    <tr>\n",
       "      <th>2</th>\n",
       "      <td>247984</td>\n",
       "      <td>casa en venta urbi 3 recamaras tonala</td>\n",
       "      <td>descripcion \\nla mejor ubicacion residencial e...</td>\n",
       "      <td>Casa</td>\n",
       "      <td>Urbi Tonala</td>\n",
       "      <td>Tonalá</td>\n",
       "      <td>Jalisco</td>\n",
       "      <td>5.0</td>\n",
       "      <td>3.0</td>\n",
       "      <td>2.0</td>\n",
       "      <td>...</td>\n",
       "      <td>48551.0</td>\n",
       "      <td>NaN</td>\n",
       "      <td>NaN</td>\n",
       "      <td>2015-10-17 00:00:00</td>\n",
       "      <td>0.0</td>\n",
       "      <td>0.0</td>\n",
       "      <td>0.0</td>\n",
       "      <td>0.0</td>\n",
       "      <td>0.0</td>\n",
       "      <td>1200000.0</td>\n",
       "    </tr>\n",
       "    <tr>\n",
       "      <th>3</th>\n",
       "      <td>209067</td>\n",
       "      <td>casa sola en toluca zinacantepec con credito i...</td>\n",
       "      <td>casa en privada con caseta de vigilancia casas...</td>\n",
       "      <td>Casa</td>\n",
       "      <td>IGNACIO MANUEL ALTAMIRANO 128</td>\n",
       "      <td>Zinacantepec</td>\n",
       "      <td>Edo. de México</td>\n",
       "      <td>1.0</td>\n",
       "      <td>2.0</td>\n",
       "      <td>1.0</td>\n",
       "      <td>...</td>\n",
       "      <td>53666.0</td>\n",
       "      <td>19.301890</td>\n",
       "      <td>-99.688015</td>\n",
       "      <td>2012-03-09 00:00:00</td>\n",
       "      <td>0.0</td>\n",
       "      <td>0.0</td>\n",
       "      <td>0.0</td>\n",
       "      <td>1.0</td>\n",
       "      <td>1.0</td>\n",
       "      <td>650000.0</td>\n",
       "    </tr>\n",
       "    <tr>\n",
       "      <th>4</th>\n",
       "      <td>185997</td>\n",
       "      <td>paseos del sol</td>\n",
       "      <td>bonito departamento en excelentes condiciones ...</td>\n",
       "      <td>Apartamento</td>\n",
       "      <td>PASEOS DEL SOL</td>\n",
       "      <td>Zapopan</td>\n",
       "      <td>Jalisco</td>\n",
       "      <td>10.0</td>\n",
       "      <td>2.0</td>\n",
       "      <td>1.0</td>\n",
       "      <td>...</td>\n",
       "      <td>47835.0</td>\n",
       "      <td>NaN</td>\n",
       "      <td>NaN</td>\n",
       "      <td>2016-06-07 00:00:00</td>\n",
       "      <td>0.0</td>\n",
       "      <td>0.0</td>\n",
       "      <td>0.0</td>\n",
       "      <td>0.0</td>\n",
       "      <td>0.0</td>\n",
       "      <td>1150000.0</td>\n",
       "    </tr>\n",
       "  </tbody>\n",
       "</table>\n",
       "<p>5 rows × 23 columns</p>\n",
       "</div>"
      ],
      "text/plain": [
       "       id                                             titulo  \\\n",
       "0  254099                                  depto. tipo a-402   \n",
       "1   53461                     condominio horizontal en venta   \n",
       "2  247984              casa en venta urbi 3 recamaras tonala   \n",
       "3  209067  casa sola en toluca zinacantepec con credito i...   \n",
       "4  185997                                     paseos del sol   \n",
       "\n",
       "                                         descripcion     tipodepropiedad  \\\n",
       "0  depto. interior de 80.15m2, consta de sala com...         Apartamento   \n",
       "1  <p>entre sonora y guerrero, atr&aacute;s del h...  Casa en condominio   \n",
       "2  descripcion \\nla mejor ubicacion residencial e...                Casa   \n",
       "3  casa en privada con caseta de vigilancia casas...                Casa   \n",
       "4  bonito departamento en excelentes condiciones ...         Apartamento   \n",
       "\n",
       "                         direccion                  ciudad         provincia  \\\n",
       "0  Avenida Division del Norte 2005           Benito Juárez  Distrito Federal   \n",
       "1                       AV. MEXICO  La Magdalena Contreras  Distrito Federal   \n",
       "2                      Urbi Tonala                  Tonalá           Jalisco   \n",
       "3    IGNACIO MANUEL ALTAMIRANO 128            Zinacantepec    Edo. de México   \n",
       "4                  PASEOS DEL SOL                  Zapopan           Jalisco   \n",
       "\n",
       "   antiguedad  habitaciones  garages  ...   idzona        lat        lng  \\\n",
       "0         NaN           2.0      1.0  ...  23533.0        NaN        NaN   \n",
       "1        10.0           3.0      2.0  ...  24514.0  19.310205 -99.227655   \n",
       "2         5.0           3.0      2.0  ...  48551.0        NaN        NaN   \n",
       "3         1.0           2.0      1.0  ...  53666.0  19.301890 -99.688015   \n",
       "4        10.0           2.0      1.0  ...  47835.0        NaN        NaN   \n",
       "\n",
       "                 fecha  gimnasio  usosmultiples piscina  escuelascercanas  \\\n",
       "0  2015-08-23 00:00:00       0.0            0.0     0.0               0.0   \n",
       "1  2013-06-28 00:00:00       0.0            0.0     0.0               1.0   \n",
       "2  2015-10-17 00:00:00       0.0            0.0     0.0               0.0   \n",
       "3  2012-03-09 00:00:00       0.0            0.0     0.0               1.0   \n",
       "4  2016-06-07 00:00:00       0.0            0.0     0.0               0.0   \n",
       "\n",
       "   centroscomercialescercanos     precio  \n",
       "0                         0.0  2273000.0  \n",
       "1                         1.0  3600000.0  \n",
       "2                         0.0  1200000.0  \n",
       "3                         1.0   650000.0  \n",
       "4                         0.0  1150000.0  \n",
       "\n",
       "[5 rows x 23 columns]"
      ]
     },
     "execution_count": 23,
     "metadata": {},
     "output_type": "execute_result"
    }
   ],
   "source": [
    "train.head()"
   ]
  },
  {
   "cell_type": "code",
   "execution_count": 57,
   "metadata": {},
   "outputs": [
    {
     "name": "stdout",
     "output_type": "stream",
     "text": [
      "descripcion \n",
      "la mejor ubicacion residencial en el oriente de la ciudad urbi versalles, te invito a compartir una nueva forma de vida en la zona urbana de guadalajara en el mejor desarrollo residencial en su tipo, ven y descubre un concepto residencial integral unico: \n",
      " por su amplitud y tranquilidad. \n",
      " por su seguridad y confort. \n",
      " por su diseños. \n",
      " por sus bellos terminados. \n",
      " el mejor precio del mercado. \n",
      " por su exelente ubicación, estamos cerca de todo y de todos! \n",
      " vias de comunicacions rapidas y modernas. \n",
      " centros comerciales dentro del fraccionamiento . \n",
      " bello ingreso privado y vigilado. \n",
      " acceso controlado en cada coto, con guardias y vigilancia por video. \n",
      " perimetro totalmente cerrado. \n",
      " cableado oculto. \n",
      " amplios jardines y areas verdes. \n",
      " areas infantiles y deportivos. \n",
      " escuelas, centros comerciales, hospitales, farmacias todo lo que necesitas a la mano. \n",
      " tranquilidad garantizada. \n",
      " 3 recamaras, amplia sala, cocina integral , 2 1/2 baños, totalmente independiente , amplio patio trasero, la recamara principal es master room \n",
      " estacionamiento para 3 autos. \n",
      " totalmente independiente, pasillo de servicio, muros propios. \n",
      " con bonito proyecto de ampliacion. \n",
      "para mayores informes comunicarse alos siguientes numeros para concretar una cita para que conoscas la casa \n",
      "srta. lissette  \n",
      "cel./\n"
     ]
    }
   ],
   "source": [
    "prueba_descripcion=train.iloc[2]['descripcion']\n",
    "print(prueba_descripcion)"
   ]
  },
  {
   "cell_type": "code",
   "execution_count": 59,
   "metadata": {},
   "outputs": [
    {
     "name": "stdout",
     "output_type": "stream",
     "text": [
      "<p>entre sonora y guerrero, atr&aacute;s del hospital &aacute;ngeles del pedregal, en excelente estado de conservaci&oacute;n, construida en 3 niveles, estacionamiento para 2 autos, 3 rec&aacute;maras con pisos de madera natural la principal con vestidor y ba&ntilde;o, 2 ba&ntilde;os completos pisos y muros de loseta espa&ntilde;ola, canceler&iacute;a de aluminio, 2 medios ba&ntilde;os, cocina integral con piso de loseta espa&ntilde;ola, sala de t.v., sala con piso de loseta espa&ntilde;ola, vest&iacute;bulo, comedor con piso de madera, l&iacute;nea telef&oacute;nica, terraza techada con policarbonato puede ser antecomedor, cuarto de servicio con piso de loseta, fachada con policarbonato..&nbsp; 4 casas</p>\n"
     ]
    }
   ],
   "source": [
    "prueba_descripcion_2=train.iloc[1]['descripcion']\n",
    "print(prueba_descripcion_2)"
   ]
  },
  {
   "cell_type": "code",
   "execution_count": 45,
   "metadata": {},
   "outputs": [],
   "source": [
    "train['descripcionPositiva'] =(train['descripcion'].str.find('bonito'))"
   ]
  },
  {
   "cell_type": "code",
   "execution_count": 46,
   "metadata": {},
   "outputs": [
    {
     "data": {
      "text/html": [
       "<div>\n",
       "<style scoped>\n",
       "    .dataframe tbody tr th:only-of-type {\n",
       "        vertical-align: middle;\n",
       "    }\n",
       "\n",
       "    .dataframe tbody tr th {\n",
       "        vertical-align: top;\n",
       "    }\n",
       "\n",
       "    .dataframe thead th {\n",
       "        text-align: right;\n",
       "    }\n",
       "</style>\n",
       "<table border=\"1\" class=\"dataframe\">\n",
       "  <thead>\n",
       "    <tr style=\"text-align: right;\">\n",
       "      <th></th>\n",
       "      <th>id</th>\n",
       "      <th>titulo</th>\n",
       "      <th>descripcion</th>\n",
       "      <th>tipodepropiedad</th>\n",
       "      <th>direccion</th>\n",
       "      <th>ciudad</th>\n",
       "      <th>provincia</th>\n",
       "      <th>antiguedad</th>\n",
       "      <th>habitaciones</th>\n",
       "      <th>garages</th>\n",
       "      <th>...</th>\n",
       "      <th>lat</th>\n",
       "      <th>lng</th>\n",
       "      <th>fecha</th>\n",
       "      <th>gimnasio</th>\n",
       "      <th>usosmultiples</th>\n",
       "      <th>piscina</th>\n",
       "      <th>escuelascercanas</th>\n",
       "      <th>centroscomercialescercanos</th>\n",
       "      <th>precio</th>\n",
       "      <th>descripcionPositiva</th>\n",
       "    </tr>\n",
       "  </thead>\n",
       "  <tbody>\n",
       "    <tr>\n",
       "      <th>0</th>\n",
       "      <td>254099</td>\n",
       "      <td>depto. tipo a-402</td>\n",
       "      <td>depto. interior de 80.15m2, consta de sala com...</td>\n",
       "      <td>Apartamento</td>\n",
       "      <td>Avenida Division del Norte 2005</td>\n",
       "      <td>Benito Juárez</td>\n",
       "      <td>Distrito Federal</td>\n",
       "      <td>NaN</td>\n",
       "      <td>2.0</td>\n",
       "      <td>1.0</td>\n",
       "      <td>...</td>\n",
       "      <td>NaN</td>\n",
       "      <td>NaN</td>\n",
       "      <td>2015-08-23 00:00:00</td>\n",
       "      <td>0.0</td>\n",
       "      <td>0.0</td>\n",
       "      <td>0.0</td>\n",
       "      <td>0.0</td>\n",
       "      <td>0.0</td>\n",
       "      <td>2273000.0</td>\n",
       "      <td>-1.0</td>\n",
       "    </tr>\n",
       "    <tr>\n",
       "      <th>1</th>\n",
       "      <td>53461</td>\n",
       "      <td>condominio horizontal en venta</td>\n",
       "      <td>&lt;p&gt;entre sonora y guerrero, atr&amp;aacute;s del h...</td>\n",
       "      <td>Casa en condominio</td>\n",
       "      <td>AV. MEXICO</td>\n",
       "      <td>La Magdalena Contreras</td>\n",
       "      <td>Distrito Federal</td>\n",
       "      <td>10.0</td>\n",
       "      <td>3.0</td>\n",
       "      <td>2.0</td>\n",
       "      <td>...</td>\n",
       "      <td>19.310205</td>\n",
       "      <td>-99.227655</td>\n",
       "      <td>2013-06-28 00:00:00</td>\n",
       "      <td>0.0</td>\n",
       "      <td>0.0</td>\n",
       "      <td>0.0</td>\n",
       "      <td>1.0</td>\n",
       "      <td>1.0</td>\n",
       "      <td>3600000.0</td>\n",
       "      <td>-1.0</td>\n",
       "    </tr>\n",
       "    <tr>\n",
       "      <th>2</th>\n",
       "      <td>247984</td>\n",
       "      <td>casa en venta urbi 3 recamaras tonala</td>\n",
       "      <td>descripcion \\nla mejor ubicacion residencial e...</td>\n",
       "      <td>Casa</td>\n",
       "      <td>Urbi Tonala</td>\n",
       "      <td>Tonalá</td>\n",
       "      <td>Jalisco</td>\n",
       "      <td>5.0</td>\n",
       "      <td>3.0</td>\n",
       "      <td>2.0</td>\n",
       "      <td>...</td>\n",
       "      <td>NaN</td>\n",
       "      <td>NaN</td>\n",
       "      <td>2015-10-17 00:00:00</td>\n",
       "      <td>0.0</td>\n",
       "      <td>0.0</td>\n",
       "      <td>0.0</td>\n",
       "      <td>0.0</td>\n",
       "      <td>0.0</td>\n",
       "      <td>1200000.0</td>\n",
       "      <td>1177.0</td>\n",
       "    </tr>\n",
       "    <tr>\n",
       "      <th>3</th>\n",
       "      <td>209067</td>\n",
       "      <td>casa sola en toluca zinacantepec con credito i...</td>\n",
       "      <td>casa en privada con caseta de vigilancia casas...</td>\n",
       "      <td>Casa</td>\n",
       "      <td>IGNACIO MANUEL ALTAMIRANO 128</td>\n",
       "      <td>Zinacantepec</td>\n",
       "      <td>Edo. de México</td>\n",
       "      <td>1.0</td>\n",
       "      <td>2.0</td>\n",
       "      <td>1.0</td>\n",
       "      <td>...</td>\n",
       "      <td>19.301890</td>\n",
       "      <td>-99.688015</td>\n",
       "      <td>2012-03-09 00:00:00</td>\n",
       "      <td>0.0</td>\n",
       "      <td>0.0</td>\n",
       "      <td>0.0</td>\n",
       "      <td>1.0</td>\n",
       "      <td>1.0</td>\n",
       "      <td>650000.0</td>\n",
       "      <td>-1.0</td>\n",
       "    </tr>\n",
       "    <tr>\n",
       "      <th>4</th>\n",
       "      <td>185997</td>\n",
       "      <td>paseos del sol</td>\n",
       "      <td>bonito departamento en excelentes condiciones ...</td>\n",
       "      <td>Apartamento</td>\n",
       "      <td>PASEOS DEL SOL</td>\n",
       "      <td>Zapopan</td>\n",
       "      <td>Jalisco</td>\n",
       "      <td>10.0</td>\n",
       "      <td>2.0</td>\n",
       "      <td>1.0</td>\n",
       "      <td>...</td>\n",
       "      <td>NaN</td>\n",
       "      <td>NaN</td>\n",
       "      <td>2016-06-07 00:00:00</td>\n",
       "      <td>0.0</td>\n",
       "      <td>0.0</td>\n",
       "      <td>0.0</td>\n",
       "      <td>0.0</td>\n",
       "      <td>0.0</td>\n",
       "      <td>1150000.0</td>\n",
       "      <td>0.0</td>\n",
       "    </tr>\n",
       "  </tbody>\n",
       "</table>\n",
       "<p>5 rows × 24 columns</p>\n",
       "</div>"
      ],
      "text/plain": [
       "       id                                             titulo  \\\n",
       "0  254099                                  depto. tipo a-402   \n",
       "1   53461                     condominio horizontal en venta   \n",
       "2  247984              casa en venta urbi 3 recamaras tonala   \n",
       "3  209067  casa sola en toluca zinacantepec con credito i...   \n",
       "4  185997                                     paseos del sol   \n",
       "\n",
       "                                         descripcion     tipodepropiedad  \\\n",
       "0  depto. interior de 80.15m2, consta de sala com...         Apartamento   \n",
       "1  <p>entre sonora y guerrero, atr&aacute;s del h...  Casa en condominio   \n",
       "2  descripcion \\nla mejor ubicacion residencial e...                Casa   \n",
       "3  casa en privada con caseta de vigilancia casas...                Casa   \n",
       "4  bonito departamento en excelentes condiciones ...         Apartamento   \n",
       "\n",
       "                         direccion                  ciudad         provincia  \\\n",
       "0  Avenida Division del Norte 2005           Benito Juárez  Distrito Federal   \n",
       "1                       AV. MEXICO  La Magdalena Contreras  Distrito Federal   \n",
       "2                      Urbi Tonala                  Tonalá           Jalisco   \n",
       "3    IGNACIO MANUEL ALTAMIRANO 128            Zinacantepec    Edo. de México   \n",
       "4                  PASEOS DEL SOL                  Zapopan           Jalisco   \n",
       "\n",
       "   antiguedad  habitaciones  garages  ...        lat        lng  \\\n",
       "0         NaN           2.0      1.0  ...        NaN        NaN   \n",
       "1        10.0           3.0      2.0  ...  19.310205 -99.227655   \n",
       "2         5.0           3.0      2.0  ...        NaN        NaN   \n",
       "3         1.0           2.0      1.0  ...  19.301890 -99.688015   \n",
       "4        10.0           2.0      1.0  ...        NaN        NaN   \n",
       "\n",
       "                 fecha  gimnasio  usosmultiples  piscina escuelascercanas  \\\n",
       "0  2015-08-23 00:00:00       0.0            0.0      0.0              0.0   \n",
       "1  2013-06-28 00:00:00       0.0            0.0      0.0              1.0   \n",
       "2  2015-10-17 00:00:00       0.0            0.0      0.0              0.0   \n",
       "3  2012-03-09 00:00:00       0.0            0.0      0.0              1.0   \n",
       "4  2016-06-07 00:00:00       0.0            0.0      0.0              0.0   \n",
       "\n",
       "   centroscomercialescercanos     precio  descripcionPositiva  \n",
       "0                         0.0  2273000.0                 -1.0  \n",
       "1                         1.0  3600000.0                 -1.0  \n",
       "2                         0.0  1200000.0               1177.0  \n",
       "3                         1.0   650000.0                 -1.0  \n",
       "4                         0.0  1150000.0                  0.0  \n",
       "\n",
       "[5 rows x 24 columns]"
      ]
     },
     "execution_count": 46,
     "metadata": {},
     "output_type": "execute_result"
    }
   ],
   "source": [
    "train.head()"
   ]
  },
  {
   "cell_type": "code",
   "execution_count": null,
   "metadata": {},
   "outputs": [],
   "source": [
    "fig, ax = plt.subplots(figsize=(10,10))\n",
    "ax.scatter(y_test, pred)\n",
    "ax.plot([y_test.min(), y_test.max()], [y_test.min(), y_test.max()], 'k--', lw=4)\n",
    "ax.set_xlabel(\"Valores reales\", fontsize=16)\n",
    "ax.set_ylabel(\"Valores predichos\", fontsize=16);"
   ]
  },
  {
   "cell_type": "code",
   "execution_count": null,
   "metadata": {},
   "outputs": [],
   "source": [
    "#reg = LinearRegression(normalize=True, n_jobs = -1)\n",
    "#reg.fit(X,y)"
   ]
  },
  {
   "cell_type": "code",
   "execution_count": null,
   "metadata": {},
   "outputs": [],
   "source": [
    "train.info()"
   ]
  },
  {
   "cell_type": "code",
   "execution_count": null,
   "metadata": {},
   "outputs": [],
   "source": [
    "train['descripcion'] = train['descripcion'].to_string()\n",
    "train.info()"
   ]
  },
  {
   "cell_type": "code",
   "execution_count": null,
   "metadata": {},
   "outputs": [],
   "source": [
    "train.head()"
   ]
  },
  {
   "cell_type": "code",
   "execution_count": null,
   "metadata": {},
   "outputs": [],
   "source": []
  }
 ],
 "metadata": {
  "kernelspec": {
   "display_name": "Python 3",
   "language": "python",
   "name": "python3"
  },
  "language_info": {
   "codemirror_mode": {
    "name": "ipython",
    "version": 3
   },
   "file_extension": ".py",
   "mimetype": "text/x-python",
   "name": "python",
   "nbconvert_exporter": "python",
   "pygments_lexer": "ipython3",
   "version": "3.6.8"
  }
 },
 "nbformat": 4,
 "nbformat_minor": 2
}
