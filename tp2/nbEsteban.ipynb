{
 "cells": [
  {
   "cell_type": "markdown",
   "metadata": {},
   "source": [
    "# 1. Introducción"
   ]
  },
  {
   "cell_type": "markdown",
   "metadata": {},
   "source": [
    "### Train: es para entrenar el algoritmo\n",
    "### Test: es para subir las predicciones"
   ]
  },
  {
   "cell_type": "code",
   "execution_count": 1,
   "metadata": {},
   "outputs": [],
   "source": [
    "import pandas as pd\n",
    "import numpy as np\n",
    "from sklearn.linear_model import LinearRegression\n",
    "from sklearn.neighbors import KNeighborsRegressor\n",
    "\n",
    "\n",
    "from utilidades.validar import validar\n",
    "\n",
    "train = pd.read_csv(\"data/train.csv\")\n",
    "test = pd.read_csv(\"data/test.csv\")\n",
    "\n",
    "dfinicial = pd.read_csv(\"data/train_limpio.csv\")\n",
    "dftest = pd.read_csv(\"data/test_limpio.csv\")\n",
    "\n",
    "xg = pd.read_csv('submits/submit_xg_prueba.csv')"
   ]
  },
  {
   "cell_type": "code",
   "execution_count": 2,
   "metadata": {},
   "outputs": [],
   "source": [
    "pd.set_option('display.max_columns', 23) #ver todas las columnas\n",
    "pd.set_option('display.max_rows', 100) #como mucho ver 100 filas"
   ]
  },
  {
   "cell_type": "markdown",
   "metadata": {},
   "source": [
    "### El ejemplo de respuesta parece tener una fila como índice"
   ]
  },
  {
   "cell_type": "markdown",
   "metadata": {},
   "source": [
    "# 4. Algoritmos Probados"
   ]
  },
  {
   "cell_type": "code",
   "execution_count": 3,
   "metadata": {},
   "outputs": [],
   "source": [
    "def generar_subida(DFINICIAL, metodo, DFTESTEAR):\n",
    "    \"\"\"\n",
    "    X: datos de entrenamiento\n",
    "    y: target de X\n",
    "    metodo: algoritmo a utilizar\n",
    "    \"\"\"\n",
    "    \n",
    "    X, y = DFINICIAL.drop( columns = ['precio'] ), DFINICIAL[\"precio\"]\n",
    "\n",
    "    reg = metodo()\n",
    "    reg.fit(X,y)\n",
    "    \n",
    "    subida = pd.DataFrame( reg.predict(DFTESTEAR) , columns=[\"target\"])\n",
    "    subida.insert(0, \"id\", test[\"id\"]) #test todavía tiene los ids\n",
    "    \n",
    "    subida['id'] = subida['id'].astype(np.uint32)\n",
    "    subida['target'] = subida['target'].astype(np.uint32)\n",
    "    \n",
    "    # Heurística: si vale menos de 310 000, ponerle 310 000\n",
    "    subida.loc[ subida['target'] <= 310000, 'target'] = 310000\n",
    "    \n",
    "    # Heurística 2: si vale más de 12 500 000, ponerle 12 500 000\n",
    "    subida.loc[ subida['target'] >= 12500000, 'target'] = 12500000\n",
    "    \n",
    "    subida.to_csv(f\"submits/prueba_esteban.csv\", index = False)\n",
    "    \n",
    "    validar(X, y, metodo, False)\n",
    "    \n",
    "    return subida"
   ]
  },
  {
   "cell_type": "markdown",
   "metadata": {},
   "source": [
    "### 4.1. Linear Regression"
   ]
  },
  {
   "cell_type": "code",
   "execution_count": 4,
   "metadata": {},
   "outputs": [
    {
     "name": "stdout",
     "output_type": "stream",
     "text": [
      "Error de fold N°0 es : 934977.3264834604\n",
      "Error de fold N°1 es : 930901.7623617502\n",
      "Error de fold N°2 es : 931381.001369224\n",
      "Error de fold N°3 es : 928749.4780054106\n",
      "Error de fold N°4 es : 923816.5556214594\n"
     ]
    }
   ],
   "source": [
    "dfinicial1 = dfinicial\n",
    "dftest1 = dftest\n",
    "\n",
    "#dfinicial1 = dfinicial.drop( columns = [ 'anio', 'metrostotales'\n",
    "#                           ])                                        \n",
    " \n",
    "#dftest1 = dftest.drop( columns = [  'anio', 'metrostotales'\n",
    "#                           ])   \n",
    "\n",
    "subida = generar_subida( dfinicial1 ,  LinearRegression, dftest1)"
   ]
  },
  {
   "cell_type": "markdown",
   "metadata": {},
   "source": [
    "### 4.2. KNN"
   ]
  },
  {
   "cell_type": "code",
   "execution_count": 5,
   "metadata": {},
   "outputs": [],
   "source": [
    "def generar_subida2(DFINICIAL, metodo, DFTESTEAR, metrica1, metrica2):\n",
    "    \"\"\"\n",
    "    X: datos de entrenamiento\n",
    "    y: target de X\n",
    "    metodo: algoritmo a utilizar\n",
    "    \"\"\"\n",
    "    \n",
    "    #ML\n",
    "    X, y = DFINICIAL.drop( columns = ['precio'] ), dfinicial[\"precio\"]\n",
    "    reg = metodo(metric = metrica1, p = metrica2)\n",
    "    reg.fit(X,y) #entrena como ajustarte a y (precios)\n",
    "    subida = pd.DataFrame( reg.predict(DFTESTEAR) , columns=[\"target\"]) #crea df con predicciones\n",
    "\n",
    "    #Formateo\n",
    "    subida.insert(0, \"id\", test[\"id\"]) #test todavía tiene los ids\n",
    "    subida['id'] = subida['id'].astype(np.uint32)\n",
    "    subida['target'] = subida['target'].astype(np.uint32)\n",
    "    \n",
    "    #Heurísticas\n",
    "    # si vale menos de 310 000, ponerle 310 000\n",
    "    subida.loc[ subida['target'] <= 310000, 'target'] = 310000\n",
    "    # si vale más de 12 500 000, ponerle 12 500 000\n",
    "    subida.loc[ subida['target'] >= 12500000, 'target'] = 12500000\n",
    "    \n",
    "    subida.to_csv(f\"submits/prueba_esteban.csv\", index = False)\n",
    "    \n",
    "    validar(X, y, metodo) # corregir\n",
    "    \n",
    "    return subida"
   ]
  },
  {
   "cell_type": "code",
   "execution_count": 6,
   "metadata": {},
   "outputs": [
    {
     "name": "stdout",
     "output_type": "stream",
     "text": [
      "Error de fold N°0 es : 1227347.693124284\n",
      "Error de fold N°1 es : 1219512.1536361137\n",
      "Error de fold N°2 es : 1225856.3189577935\n",
      "Error de fold N°3 es : 1219610.6076856868\n",
      "Error de fold N°4 es : 1218826.79360932\n"
     ]
    }
   ],
   "source": [
    "dfinicial1 = dfinicial\n",
    "dftest1 = dftest\n",
    "\n",
    "subida = generar_subida2( dfinicial1 ,  KNeighborsRegressor, dftest1,'euclidean', 2)"
   ]
  },
  {
   "cell_type": "code",
   "execution_count": 7,
   "metadata": {
    "scrolled": true
   },
   "outputs": [
    {
     "data": {
      "text/plain": [
       "\"dfinicial1 = dfinicial\\ndftest1 = dftest\\n\\nsubida = generar_subida2( dfinicial1 ,  KNeighborsRegressor, dftest1,'cosine', 2)\\n\""
      ]
     },
     "execution_count": 7,
     "metadata": {},
     "output_type": "execute_result"
    }
   ],
   "source": [
    "'''dfinicial1 = dfinicial\n",
    "dftest1 = dftest\n",
    "\n",
    "subida = generar_subida2( dfinicial1 ,  KNeighborsRegressor, dftest1,'cosine', 2)\n",
    "'''"
   ]
  },
  {
   "cell_type": "code",
   "execution_count": 8,
   "metadata": {},
   "outputs": [
    {
     "name": "stdout",
     "output_type": "stream",
     "text": [
      "Error de fold N°0 es : 1227347.693124284\n",
      "Error de fold N°1 es : 1219512.1536361137\n",
      "Error de fold N°2 es : 1225856.3189577935\n",
      "Error de fold N°3 es : 1219610.6076856868\n",
      "Error de fold N°4 es : 1218826.79360932\n"
     ]
    }
   ],
   "source": [
    "dfinicial1 = dfinicial\n",
    "dftest1 = dftest\n",
    "\n",
    "subida = generar_subida2( dfinicial1 ,  KNeighborsRegressor, dftest1,'minkowski', 1 ) #Manhattan"
   ]
  },
  {
   "cell_type": "code",
   "execution_count": null,
   "metadata": {},
   "outputs": [],
   "source": []
  }
 ],
 "metadata": {
  "kernelspec": {
   "display_name": "Python 3",
   "language": "python",
   "name": "python3"
  },
  "language_info": {
   "codemirror_mode": {
    "name": "ipython",
    "version": 3
   },
   "file_extension": ".py",
   "mimetype": "text/x-python",
   "name": "python",
   "nbconvert_exporter": "python",
   "pygments_lexer": "ipython3",
   "version": "3.7.4"
  }
 },
 "nbformat": 4,
 "nbformat_minor": 2
}
