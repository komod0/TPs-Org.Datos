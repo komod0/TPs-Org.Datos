{
 "cells": [
  {
   "cell_type": "markdown",
   "metadata": {},
   "source": [
    "# 1. Introducción"
   ]
  },
  {
   "cell_type": "code",
   "execution_count": 1,
   "metadata": {},
   "outputs": [],
   "source": [
    "import pandas as pd\n",
    "import numpy as np\n",
    "\n",
    "train = pd.read_csv(\"data/train.csv\")\n",
    "test = pd.read_csv(\"data/test.csv\")"
   ]
  },
  {
   "cell_type": "code",
   "execution_count": 2,
   "metadata": {},
   "outputs": [],
   "source": [
    "pd.set_option('display.max_columns', 1000) #ver todas las columnas"
   ]
  },
  {
   "cell_type": "code",
   "execution_count": 3,
   "metadata": {},
   "outputs": [],
   "source": [
    "pd.set_option('display.max_rows', 100) #como mucho ver 100 filas"
   ]
  },
  {
   "cell_type": "markdown",
   "metadata": {},
   "source": [
    "# 2. Preprocesamiento de los Datos"
   ]
  },
  {
   "cell_type": "markdown",
   "metadata": {},
   "source": [
    "### Se quita id, titulo, descripción, direccion e Idzona por no entenderlos como tan relevantes"
   ]
  },
  {
   "cell_type": "code",
   "execution_count": 4,
   "metadata": {},
   "outputs": [],
   "source": [
    "dfinicial = train\n",
    "dftest = test\n",
    "\n",
    "dfinicial = dfinicial.drop( columns = ['id', 'titulo', 'descripcion', 'direccion'] )\n",
    "dftest = dftest.drop( columns = ['id', 'titulo', 'descripcion', 'direccion'] )"
   ]
  },
  {
   "cell_type": "markdown",
   "metadata": {},
   "source": [
    "### Se quita latitud y longitud por la cantidad de NaN, manejando la granularidad sólo a nivel Ciudad y Provincia"
   ]
  },
  {
   "cell_type": "code",
   "execution_count": 5,
   "metadata": {},
   "outputs": [],
   "source": [
    "dfinicial = dfinicial.drop( columns = ['lat', 'lng'] )\n",
    "dftest = dftest.drop( columns = ['lat', 'lng'] )"
   ]
  },
  {
   "cell_type": "markdown",
   "metadata": {},
   "source": [
    "### Se rellenan con la moda Baños, IdZona, Garages y Habitaciones"
   ]
  },
  {
   "cell_type": "code",
   "execution_count": 6,
   "metadata": {},
   "outputs": [],
   "source": [
    "def completarAlgunosNan2(df):\n",
    "    for column in [\"banos\", \"garages\", \"habitaciones\", \"idzona\"]:\n",
    "        df[column] = df.groupby(['provincia', 'tipodepropiedad'])[column].apply(lambda x: x.fillna(x.mode()))\n",
    "        df[column] = df[column].fillna(df[column].mode()[0]) #Por si son todos NaN, y no hay moda\n",
    "        \n",
    "    return df\n",
    "    \n",
    "dfinicial = completarAlgunosNan2(dfinicial)\n",
    "dftest = completarAlgunosNan2(dftest)"
   ]
  },
  {
   "cell_type": "markdown",
   "metadata": {},
   "source": [
    "### Se rellena Antigüedad, Metros Cubiertos y Metros totales con la mediana para los casos de NaN, por tener estos atributos distribución log normal (aproximadamente)"
   ]
  },
  {
   "cell_type": "code",
   "execution_count": 7,
   "metadata": {},
   "outputs": [
    {
     "name": "stderr",
     "output_type": "stream",
     "text": [
      "c:\\users\\dell\\appdata\\local\\programs\\python\\python37\\lib\\site-packages\\numpy\\lib\\nanfunctions.py:1112: RuntimeWarning: Mean of empty slice\n",
      "  return np.nanmean(a, axis, out=out, keepdims=keepdims)\n"
     ]
    }
   ],
   "source": [
    "def completarAlgunosNan(df):\n",
    "    for column in ['antiguedad', 'metroscubiertos', 'metrostotales']:\n",
    "        df[column] = df.groupby(['provincia', 'tipodepropiedad'])[column].apply(lambda x: x.fillna(x.median()))\n",
    "        df[column] = df[column].fillna(df[column].median())\n",
    "\n",
    "    return df\n",
    "\n",
    "dfinicial = completarAlgunosNan(dfinicial)\n",
    "dftest = completarAlgunosNan(dftest)\n",
    "        "
   ]
  },
  {
   "cell_type": "markdown",
   "metadata": {},
   "source": [
    "### Aplicar Onehot encoding para desprenderse de provincias, ciudades tipo de propiedad como tal"
   ]
  },
  {
   "cell_type": "code",
   "execution_count": 8,
   "metadata": {},
   "outputs": [
    {
     "name": "stdout",
     "output_type": "stream",
     "text": [
      "<class 'pandas.core.frame.DataFrame'>\n",
      "RangeIndex: 240000 entries, 0 to 239999\n",
      "Data columns (total 17 columns):\n",
      "tipodepropiedad               239954 non-null object\n",
      "ciudad                        239628 non-null object\n",
      "provincia                     239845 non-null object\n",
      "antiguedad                    240000 non-null float64\n",
      "habitaciones                  240000 non-null float64\n",
      "garages                       240000 non-null float64\n",
      "banos                         240000 non-null float64\n",
      "metroscubiertos               240000 non-null float64\n",
      "metrostotales                 240000 non-null float64\n",
      "idzona                        240000 non-null float64\n",
      "fecha                         240000 non-null object\n",
      "gimnasio                      240000 non-null float64\n",
      "usosmultiples                 240000 non-null float64\n",
      "piscina                       240000 non-null float64\n",
      "escuelascercanas              240000 non-null float64\n",
      "centroscomercialescercanos    240000 non-null float64\n",
      "precio                        240000 non-null float64\n",
      "dtypes: float64(13), object(4)\n",
      "memory usage: 31.1+ MB\n"
     ]
    }
   ],
   "source": [
    "dfinicial.info()"
   ]
  },
  {
   "cell_type": "code",
   "execution_count": 9,
   "metadata": {},
   "outputs": [],
   "source": [
    "# Se hallan los casos posibles\n",
    "provincias_posibles = train[\"provincia\"].dropna().unique()\n",
    "props_posibles = train[\"tipodepropiedad\"].dropna().unique()\n",
    "#ciudades_posibles = train[\"ciudad\"].dropna().unique()\n",
    "\n",
    "# Se pasa tipodepropiedad y provincia a valores categóricos\n",
    "dfinicial[\"tipodepropiedad\"] = pd.Categorical(train[\"tipodepropiedad\"], categories = props_posibles)\n",
    "dfinicial[\"provincia\"] = pd.Categorical(train[\"provincia\"], categories = provincias_posibles)\n",
    "#dfinicial[\"ciudad\"] = pd.Categorical(train[\"ciudad\"], categories = ciudades_posibles)\n",
    "\n",
    "dftest[\"tipodepropiedad\"] = pd.Categorical(test[\"tipodepropiedad\"], categories=props_posibles)\n",
    "dftest[\"provincia\"] = pd.Categorical(test[\"provincia\"], categories=provincias_posibles)\n",
    "#dftest[\"ciudad\"] = pd.Categorical(test[\"ciudad\"], categories = ciudades_posibles)\n",
    "\n",
    "# Rellenar nans de provincia, tipo de propiedad y ciudad, y usar onehot encoding\n",
    "\n",
    "# COMENTAR EL QUE NO SE USE DE ESTOS 2\n",
    "datos_categoricos = dfinicial[[\"tipodepropiedad\", \"provincia\", \"ciudad\"]].copy()\n",
    "datos_categoricos = dfinicial[[\"tipodepropiedad\", \"provincia\"]].copy()\n",
    "\n",
    "datos_categoricos['tipodepropiedad'] = datos_categoricos.groupby(['provincia'])['tipodepropiedad'].apply(lambda x: x.fillna(x.mode()))\n",
    "datos_categoricos[\"provincia\"] = datos_categoricos[\"provincia\"].fillna(datos_categoricos[\"provincia\"].mode()[0])\n",
    "#datos_categoricos[\"ciudad\"] = datos_categoricos.groupby(['provincia'])['ciudad'].apply(lambda x: x.fillna(x.mode()))\n",
    "datos_categoricos = pd.get_dummies(datos_categoricos, sparse = True)\n",
    "dfinicial = pd.concat([datos_categoricos, dfinicial], axis=1)\n",
    "\n",
    "# COMENTAR EL QUE NO SE USE DE ESTOS 2\n",
    "#datos_categoricos = dftest[[\"tipodepropiedad\", \"provincia\", \"ciudad\"]].copy()\n",
    "datos_categoricos = dftest[[\"tipodepropiedad\", \"provincia\"]].copy()\n",
    "\n",
    "datos_categoricos['tipodepropiedad'] = datos_categoricos.groupby(['provincia'])['tipodepropiedad'].apply(lambda x: x.fillna(x.mode()))\n",
    "datos_categoricos[\"provincia\"] = datos_categoricos[\"provincia\"].fillna(datos_categoricos[\"provincia\"].mode()[0])\n",
    "#datos_categoricos[\"ciudad\"] = datos_categoricos.groupby(['provincia'])['ciudad'].apply(lambda x: x.fillna(x.mode()))\n",
    "datos_categoricos = pd.get_dummies(datos_categoricos, sparse = True)\n",
    "dftest = pd.concat([datos_categoricos, dftest], axis=1)\n",
    "\n",
    "# Tirar tipodepropiedad y provincia\n",
    "dfinicial = dfinicial.drop( columns = ['tipodepropiedad', 'provincia', 'ciudad'] )\n",
    "dftest = dftest.drop( columns = ['tipodepropiedad', 'provincia', 'ciudad'] )"
   ]
  },
  {
   "cell_type": "markdown",
   "metadata": {},
   "source": [
    "### Se pasa fecha a datetime y se agrega mes y año"
   ]
  },
  {
   "cell_type": "code",
   "execution_count": 10,
   "metadata": {},
   "outputs": [],
   "source": [
    "dfinicial['fecha'] = dfinicial['fecha'].astype('datetime64')\n",
    "dftest['fecha'] = dftest['fecha'].astype('datetime64')\n",
    "\n",
    "dfinicial['dia'] = dfinicial['fecha'].dt.day\n",
    "dfinicial['mes'] = dfinicial['fecha'].dt.month\n",
    "dfinicial['anio'] = dfinicial['fecha'].dt.year\n",
    "dfinicial = dfinicial.drop( columns = ['fecha'] )\n",
    "\n",
    "dftest['dia'] = dftest['fecha'].dt.day\n",
    "dftest['mes'] = dftest['fecha'].dt.month\n",
    "dftest['anio'] = dftest['fecha'].dt.year\n",
    "dftest = dftest.drop( columns = ['fecha'] )"
   ]
  },
  {
   "cell_type": "markdown",
   "metadata": {},
   "source": [
    "### Adecuación de tipos de datos ahora que no hay NaN"
   ]
  },
  {
   "cell_type": "code",
   "execution_count": 11,
   "metadata": {},
   "outputs": [],
   "source": [
    " def parseoNan(df):\n",
    "    df['gimnasio'] = df['gimnasio'].astype(np.uint8)\n",
    "    df['usosmultiples'] = df['usosmultiples'].astype(np.uint8)\n",
    "    df['piscina'] = df['piscina'].astype(np.uint8)\n",
    "    df['escuelascercanas'] = df['escuelascercanas'].astype(np.uint8)\n",
    "    df['centroscomercialescercanos'] = df['centroscomercialescercanos'].astype(np.uint8)\n",
    "    \n",
    "    df['garages'] = df['garages'].astype(np.uint8)\n",
    "    df['antiguedad'] = df['antiguedad'].astype(np.uint8)\n",
    "    df['banos'] = df['banos'].astype(np.uint8)\n",
    "    df['habitaciones'] = df['habitaciones'].astype(np.uint8)\n",
    "    \n",
    "    df['metroscubiertos'] = df['metroscubiertos'].astype(np.uint16)\n",
    "    df['metrostotales'] = df['metrostotales'].astype(np.uint16)\n",
    "   \n",
    "    df['dia'] = df['dia'].astype(np.uint8)\n",
    "    df['mes'] = df['mes'].astype(np.uint8)\n",
    "    df['anio'] = df['anio'].astype(np.uint16)\n",
    "    df['anio'] = df['anio'].astype(np.uint16)\n",
    "    df['idzona'] = df['idzona'].astype(np.uint32)\n",
    "    \n",
    "parseoNan(dfinicial)\n",
    "parseoNan(dftest)\n",
    "\n",
    "dfinicial['precio'] = dfinicial['precio'].astype(np.uint32)"
   ]
  },
  {
   "cell_type": "code",
   "execution_count": 12,
   "metadata": {
    "scrolled": true
   },
   "outputs": [
    {
     "data": {
      "text/plain": [
       "'### Se quitan columnas correspondientes a ciudades que sólo están asociadas a una o dos propiedades#\\n\\ncant_ciudad = pd.DataFrame( train.groupby(\"ciudad\").size(), columns = [\"cantidad\"] ).reset_index()\\nciudad_pocas = cant_ciudad[ cant_ciudad[\"cantidad\"] < 3 ]\\n\\nciudades = [ \"ciudad_\" + p for p in ciudad_pocas[\\'ciudad\\'].to_list() ]\\n\\ndfinicial = dfinicial.drop( columns = ciudades )\\n\\ndftest = dftest.drop( columns = ciudades )'"
      ]
     },
     "execution_count": 12,
     "metadata": {},
     "output_type": "execute_result"
    }
   ],
   "source": [
    "'''### Se quitan columnas correspondientes a ciudades que sólo están asociadas a una o dos propiedades#\n",
    "\n",
    "cant_ciudad = pd.DataFrame( train.groupby(\"ciudad\").size(), columns = [\"cantidad\"] ).reset_index()\n",
    "ciudad_pocas = cant_ciudad[ cant_ciudad[\"cantidad\"] < 3 ]\n",
    "\n",
    "ciudades = [ \"ciudad_\" + p for p in ciudad_pocas['ciudad'].to_list() ]\n",
    "\n",
    "dfinicial = dfinicial.drop( columns = ciudades )\n",
    "\n",
    "dftest = dftest.drop( columns = ciudades )'''"
   ]
  },
  {
   "cell_type": "markdown",
   "metadata": {},
   "source": [
    "### Quitar día"
   ]
  },
  {
   "cell_type": "code",
   "execution_count": 13,
   "metadata": {},
   "outputs": [],
   "source": [
    "dfinicial = dfinicial.drop([\"dia\"], axis=1)\n",
    "dftest = dftest.drop([\"dia\"], axis=1)"
   ]
  },
  {
   "cell_type": "markdown",
   "metadata": {},
   "source": [
    "# 3. Feature Engenieering"
   ]
  },
  {
   "cell_type": "markdown",
   "metadata": {},
   "source": [
    "### Se agrega información sobre la población"
   ]
  },
  {
   "cell_type": "code",
   "execution_count": 14,
   "metadata": {},
   "outputs": [],
   "source": [
    "poblacion_train = pd.read_csv(f\"data/features/ftr_poblacion_train.csv\")\n",
    "poblacion_test = pd.read_csv(f\"data/features/ftr_poblacion_test.csv\")\n",
    "dfinicial[\"poblacion\"] = poblacion_train\n",
    "dftest[\"poblacion\"] = poblacion_test"
   ]
  },
  {
   "cell_type": "markdown",
   "metadata": {},
   "source": [
    "### Se agrega información a partir de los strings del datatset"
   ]
  },
  {
   "cell_type": "code",
   "execution_count": 15,
   "metadata": {},
   "outputs": [],
   "source": [
    "tiene_terraza = pd.read_csv(f\"data/features/tiene_terraza_train.csv\")\n",
    "dfinicial[\"tiene_terraza\"] = tiene_terraza\n",
    "tiene_terraza_tes = pd.read_csv(f\"data/features/tiene_terraza_test.csv\")\n",
    "dftest[\"tiene_terraza\"] = tiene_terraza_tes\n",
    "\n",
    "tiene_jardin = pd.read_csv(f\"data/features/tiene_jardin_train.csv\")\n",
    "dfinicial[\"tiene_jardin\"] = tiene_jardin\n",
    "tiene_jardin_tes = pd.read_csv(f\"data/features/tiene_jardin_test.csv\")\n",
    "dftest[\"tiene_jardin\"] = tiene_jardin_tes\n",
    "\n",
    "tiene_servicio = pd.read_csv(f\"data/features/tiene_servicio_train.csv\")\n",
    "dfinicial[\"tiene_servicio\"] = tiene_servicio\n",
    "tiene_servicio_tes = pd.read_csv(f\"data/features/tiene_servicio_test.csv\")\n",
    "dftest[\"tiene_servicio\"] = tiene_servicio_tes\n",
    "\n",
    "tiene_vestidor = pd.read_csv(f\"data/features/tiene_vestidor_train.csv\")\n",
    "dfinicial[\"tiene_vestidor\"] = tiene_vestidor\n",
    "tiene_vestidor_tes = pd.read_csv(f\"data/features/tiene_vestidor_test.csv\")\n",
    "dftest[\"tiene_vestidor\"] = tiene_vestidor_tes\n",
    "\n",
    "tiene_salon = pd.read_csv(f\"data/features/tiene_salon_train.csv\")\n",
    "dfinicial[\"tiene_salon\"] = tiene_salon\n",
    "tiene_salon_tes = pd.read_csv(f\"data/features/tiene_salon_test.csv\")\n",
    "dftest[\"tiene_salon\"] = tiene_salon_tes\n",
    "\n",
    "tiene_cuarto = pd.read_csv(f\"data/features/tiene_cuarto_train.csv\")\n",
    "dfinicial[\"tiene_cuarto\"] = tiene_cuarto\n",
    "tiene_cuarto_tes = pd.read_csv(f\"data/features/tiene_cuarto_test.csv\")\n",
    "dftest[\"tiene_cuarto\"] = tiene_cuarto_tes\n",
    "\n",
    "tiene_family = pd.read_csv(f\"data/features/tiene_family_train.csv\")\n",
    "dfinicial[\"tiene_family\"] = tiene_family\n",
    "tiene_family_tes = pd.read_csv(f\"data/features/tiene_family_test.csv\")\n",
    "dftest[\"tiene_family\"] = tiene_family_tes\n",
    "\n",
    "tiene_bosque = pd.read_csv(f\"data/features/tiene_bosque_dir_train.csv\")\n",
    "dfinicial[\"bosque_dir\"] = tiene_bosque\n",
    "tiene_bosque_tes = pd.read_csv(f\"data/features/tiene_bosque_dir_test.csv\")\n",
    "dftest[\"bosque_dir\"] = tiene_bosque_tes\n",
    "\n",
    "tiene_avenida = pd.read_csv(f\"data/features/tiene_avenida_dir_train.csv\")\n",
    "dfinicial[\"avenida_dir\"] = tiene_avenida\n",
    "tiene_avenida_tes = pd.read_csv(f\"data/features/tiene_avenida_dir_test.csv\")\n",
    "dftest[\"avenida_dir\"] = tiene_avenida_tes\n",
    "\n",
    "tiene_fuente = pd.read_csv(f\"data/features/tiene_fuente_dir_train.csv\")\n",
    "dfinicial[\"fuente_dir\"] = tiene_fuente\n",
    "tiene_fuente_tes = pd.read_csv(f\"data/features/tiene_fuente_dir_test.csv\")\n",
    "dftest[\"fuente_dir\"] = tiene_fuente_tes\n",
    "\n",
    "tiene_golf = pd.read_csv(f\"data/features/tiene_golf_dir_train.csv\")\n",
    "dfinicial[\"golf_dir\"] = tiene_golf\n",
    "tiene_golf_tes = pd.read_csv(f\"data/features/tiene_golf_dir_test.csv\")\n",
    "dftest[\"golf_dir\"] = tiene_golf_tes\n",
    "\n",
    "tiene_hectarea = pd.read_csv(f\"data/features/tiene_hectarea_train.csv\")\n",
    "dfinicial[\"tiene_hectarea\"] = tiene_hectarea\n",
    "tiene_hectarea_tes = pd.read_csv(f\"data/features/tiene_hectarea_test.csv\")\n",
    "dftest[\"tiene_hectarea\"] = tiene_hectarea_tes\n",
    "\n",
    "tiene_torre = pd.read_csv(f\"data/features/tiene_torre_train.csv\")\n",
    "dfinicial[\"tiene_torre\"] = tiene_torre\n",
    "tiene_torre_tes = pd.read_csv(f\"data/features/tiene_torre_test.csv\")\n",
    "dftest[\"tiene_torre\"] = tiene_torre_tes"
   ]
  },
  {
   "cell_type": "markdown",
   "metadata": {},
   "source": [
    "### Se usa THT con las descripciones y los títulos"
   ]
  },
  {
   "cell_type": "code",
   "execution_count": 16,
   "metadata": {},
   "outputs": [],
   "source": [
    "n_dimensiones = 1000\n",
    "desc_train = pd.read_csv(f\"data/features/descr_vectorizadas_train_{n_dimensiones}d.csv\")\n",
    "desc_test = pd.read_csv(f\"data/features/descr_vectorizadas_test_{n_dimensiones}d.csv\")"
   ]
  },
  {
   "cell_type": "code",
   "execution_count": 17,
   "metadata": {},
   "outputs": [],
   "source": [
    "tit_train = pd.read_csv(f\"data/features/titulos_vectorizados_train_50d.csv\")\n",
    "tit_test = pd.read_csv(f\"data/features/titulos_vectorizados_test_50d.csv\")\n",
    "\n",
    "dfinicial = pd.concat([dfinicial, desc_train, tit_train], axis=1)\n",
    "dftest = pd.concat([dftest, desc_test, tit_test], axis=1)"
   ]
  },
  {
   "cell_type": "markdown",
   "metadata": {},
   "source": [
    "### TF IDF"
   ]
  },
  {
   "cell_type": "code",
   "execution_count": 18,
   "metadata": {},
   "outputs": [],
   "source": [
    "score_tf_train = pd.read_csv(f\"data/features/scores_tfidf_train.csv\")\n",
    "dfinicial[\"score_tfidf\"] = score_tf_train\n",
    "\n",
    "score_tf_test = pd.read_csv(f\"data/features/scores_tfidf_test.csv\")\n",
    "dftest[\"score_tfidf\"] = score_tf_test"
   ]
  },
  {
   "cell_type": "markdown",
   "metadata": {},
   "source": [
    "### Pasar a disco"
   ]
  },
  {
   "cell_type": "code",
   "execution_count": 20,
   "metadata": {},
   "outputs": [
    {
     "data": {
      "text/plain": [
       "(240000, 1136)"
      ]
     },
     "execution_count": 20,
     "metadata": {},
     "output_type": "execute_result"
    }
   ],
   "source": [
    "dfinicial.shape"
   ]
  },
  {
   "cell_type": "code",
   "execution_count": 21,
   "metadata": {},
   "outputs": [
    {
     "data": {
      "text/plain": [
       "(60000, 1135)"
      ]
     },
     "execution_count": 21,
     "metadata": {},
     "output_type": "execute_result"
    }
   ],
   "source": [
    "dftest.shape"
   ]
  },
  {
   "cell_type": "code",
   "execution_count": 19,
   "metadata": {},
   "outputs": [
    {
     "ename": "NameError",
     "evalue": "name 'detenerse' is not defined",
     "output_type": "error",
     "traceback": [
      "\u001b[1;31m---------------------------------------------------------------------------\u001b[0m",
      "\u001b[1;31mNameError\u001b[0m                                 Traceback (most recent call last)",
      "\u001b[1;32m<ipython-input-19-8e6ef2ce7e27>\u001b[0m in \u001b[0;36m<module>\u001b[1;34m\u001b[0m\n\u001b[1;32m----> 1\u001b[1;33m \u001b[0mdetenerse\u001b[0m\u001b[1;33m\u001b[0m\u001b[1;33m\u001b[0m\u001b[0m\n\u001b[0m",
      "\u001b[1;31mNameError\u001b[0m: name 'detenerse' is not defined"
     ]
    }
   ],
   "source": [
    "detenerse"
   ]
  },
  {
   "cell_type": "code",
   "execution_count": null,
   "metadata": {},
   "outputs": [],
   "source": [
    "dftest.to_csv(f\"data/test_final.csv\", index=False)\n",
    "dfinicial.to_csv(f\"data/train_final.csv\", index=False)"
   ]
  },
  {
   "cell_type": "code",
   "execution_count": null,
   "metadata": {},
   "outputs": [],
   "source": []
  }
 ],
 "metadata": {
  "kernelspec": {
   "display_name": "Python 3",
   "language": "python",
   "name": "python3"
  },
  "language_info": {
   "codemirror_mode": {
    "name": "ipython",
    "version": 3
   },
   "file_extension": ".py",
   "mimetype": "text/x-python",
   "name": "python",
   "nbconvert_exporter": "python",
   "pygments_lexer": "ipython3",
   "version": "3.7.4"
  }
 },
 "nbformat": 4,
 "nbformat_minor": 2
}
