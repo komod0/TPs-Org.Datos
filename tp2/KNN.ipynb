{
 "cells": [
  {
   "cell_type": "code",
   "execution_count": 114,
   "metadata": {},
   "outputs": [],
   "source": [
    "import pandas as pd\n",
    "import numpy as np\n",
    "\n",
    "import sklearn\n",
    "\n",
    "from sklearn.neighbors import KNeighborsRegressor\n",
    "\n",
    "from utilidades.validar2 import validar2"
   ]
  },
  {
   "cell_type": "code",
   "execution_count": 115,
   "metadata": {},
   "outputs": [],
   "source": [
    "train = pd.read_csv(\"data/train.csv\")\n",
    "test = pd.read_csv(\"data/test.csv\")\n",
    "\n",
    "dfinicial = pd.read_csv(\"data/train_limpio.csv\")\n",
    "dftest = pd.read_csv(\"data/test_limpio.csv\")\n",
    "\n",
    "dfinicial2 = pd.read_csv(\"data/esteban/train_limpio_ciudades.csv\")\n",
    "dftest2 = pd.read_csv(\"data/esteban/test_limpio_ciudades.csv\")\n",
    "\n",
    "xg = pd.read_csv('submits/submit_xg_prueba.csv')"
   ]
  },
  {
   "cell_type": "code",
   "execution_count": 116,
   "metadata": {},
   "outputs": [],
   "source": [
    "pd.set_option('display.max_columns', 23) #ver todas las columnas\n",
    "pd.set_option('display.max_rows', 100) #como mucho ver 100 filas"
   ]
  },
  {
   "cell_type": "code",
   "execution_count": 117,
   "metadata": {},
   "outputs": [],
   "source": [
    "def gen_subida(DFINICIAL, metodo, DFTESTEAR, nn, metrica1, metrica2, nomArchivo, pasarAdisco):\n",
    "    \"\"\"\n",
    "    X: datos de entrenamiento\n",
    "    y: target de X\n",
    "    metodo: algoritmo a utilizar\n",
    "    \"\"\"\n",
    "    \n",
    "    #ML\n",
    "    X, y = DFINICIAL.drop( columns = ['precio'] ), dfinicial[\"precio\"]\n",
    "    reg = metodo(n_neighbors = nn, metric = metrica1, p = metrica2, weights = 'distance', n_jobs = -1)\n",
    "    reg.fit(X,y) #entrena como ajustarte a y (precios)\n",
    "    subida = pd.DataFrame( reg.predict(DFTESTEAR) , columns=[\"target\"]) #crea df con predicciones\n",
    "\n",
    "    #Formateo\n",
    "    subida.insert(0, \"id\", test[\"id\"]) #test todavía tiene los ids\n",
    "    subida['id'] = subida['id'].astype(np.uint32)\n",
    "    subida['target'] = subida['target'].astype(np.uint32)\n",
    "    \n",
    "    #Heurísticas\n",
    "    # si vale menos de 310 000, ponerle 310 000\n",
    "    # subida.loc[ subida['target'] <= 310000, 'target'] = 310000\n",
    "    # si vale más de 12 500 000, ponerle 12 500 000\n",
    "    # subida.loc[ subida['target'] >= 12500000, 'target'] = 12500000\n",
    "    \n",
    "    if pasarAdisco:\n",
    "        subida.to_csv(f\"submits/\" + nomArchivo, index = False) \n",
    "    \n",
    "    return X, y, subida"
   ]
  },
  {
   "cell_type": "code",
   "execution_count": 109,
   "metadata": {},
   "outputs": [
    {
     "data": {
      "text/plain": [
       "592301.0"
      ]
     },
     "execution_count": 109,
     "metadata": {},
     "output_type": "execute_result"
    }
   ],
   "source": [
    "dfinicial1 = dfinicial2.drop( columns = [ 'anio', \n",
    "                            'metrostotales', \n",
    "                            'banos',\n",
    "                            'antiguedad'\n",
    "                            ]) \n",
    "dftest1 = dftest2.drop( columns = [ 'anio', \n",
    "                            'metrostotales', \n",
    "                            'banos',\n",
    "                            'antiguedad'\n",
    "                            ]) \n",
    "\n",
    "X, y, subida = gen_subida( dfinicial1,  KNeighborsRegressor, dftest1, 40, 'euclidean', 2, \"esteban_knn.csv\", False)\n",
    "\n",
    "# IMPRIME EL PROMEDIO DE DIFERENCIA CON EL MEJOR RESULTADO (EL DE XG DE JULIÁN)\n",
    "# UN VALOR MENOR ES MEJOR\n",
    "dftot = subida.merge(xg, on = 'id', how = 'inner')\n",
    "dftot['diferencia'] = abs( dftot['target_x'] - dftot['target_y'] )\n",
    "round (dftot['diferencia'].sum() / len( dftot['diferencia'] ) )"
   ]
  },
  {
   "cell_type": "code",
   "execution_count": 18,
   "metadata": {},
   "outputs": [
    {
     "name": "stdout",
     "output_type": "stream",
     "text": [
      "Error de fold N°0 es : 1041384.0\n",
      "Error de fold N°1 es : 1034158.0\n",
      "Error de fold N°2 es : 1029522.0\n",
      "Error de fold N°3 es : 1030537.0\n",
      "Error de fold N°4 es : 1027263.0\n"
     ]
    }
   ],
   "source": [
    "validar2(X, y, KNeighborsRegressor, 40, 'euclidean', 2, False)"
   ]
  },
  {
   "cell_type": "code",
   "execution_count": 118,
   "metadata": {},
   "outputs": [
    {
     "data": {
      "text/plain": [
       "510837.0"
      ]
     },
     "execution_count": 118,
     "metadata": {},
     "output_type": "execute_result"
    }
   ],
   "source": [
    "#dfinicial1 = dfinicial\n",
    "#dftest1 = dftest\n",
    "dfinicial1 = dfinicial2.drop( columns = [ 'anio', \n",
    "                            'metrostotales', \n",
    "                            'banos',\n",
    "                            'antiguedad'\n",
    "                            ]) \n",
    "\n",
    "\n",
    "dftest1 = dftest2.drop( columns = ['anio', \n",
    "                    'metrostotales', \n",
    "                    'banos',\n",
    "                    'antiguedad',\n",
    "                    ]) \n",
    "\n",
    "\n",
    "# Manhattan\n",
    "Xa, ya, subidaa = gen_subida( dfinicial1,  KNeighborsRegressor, dftest1, 40, 'minkowski', 1, \"esteban_knn.csv\", False)\n",
    "\n",
    "# IMPRIME EL PROMEDIO DE DIFERENCIA CON EL MEJOR RESULTADO (EL DE XG DE JULIÁN)\n",
    "# UN VALOR MENOR ES MEJOR\n",
    "dftot = subidaa.merge(xg, on = 'id', how = 'inner')\n",
    "dftot['diferencia'] = abs( dftot['target_x'] - dftot['target_y'] )\n",
    "round (dftot['diferencia'].sum() / len( dftot['diferencia'] ) )"
   ]
  },
  {
   "cell_type": "code",
   "execution_count": 112,
   "metadata": {},
   "outputs": [
    {
     "name": "stdout",
     "output_type": "stream",
     "text": [
      "Error de fold N°0 es : 904748.0\n",
      "Error de fold N°1 es : 900267.0\n",
      "Error de fold N°2 es : 901390.0\n",
      "Error de fold N°3 es : 893673.0\n",
      "Error de fold N°4 es : 889780.0\n"
     ]
    }
   ],
   "source": [
    "validar2(Xa, ya, KNeighborsRegressor, 40, 'minkowski', 1, False)"
   ]
  },
  {
   "cell_type": "code",
   "execution_count": 45,
   "metadata": {},
   "outputs": [
    {
     "data": {
      "text/plain": [
       "764328.0"
      ]
     },
     "execution_count": 45,
     "metadata": {},
     "output_type": "execute_result"
    }
   ],
   "source": [
    "'''dfinicial1 = dfinicial\n",
    "dftest1 = dftest\n",
    "\n",
    "X, y, subida = gen_subida( dfinicial1,  KNeighborsRegressor, dftest1, 5, 'cosine', 2, \"esteban_knn.csv\", False)\n",
    "\n",
    "# IMPRIME EL PROMEDIO DE DIFERENCIA CON EL MEJOR RESULTADO (EL DE XG DE JULIÁN)\n",
    "# UN VALOR MENOR ES MEJOR\n",
    "dftot = subida.merge(xg, on = 'id', how = 'inner')\n",
    "dftot['diferencia'] = abs( dftot['target_x'] - dftot['target_y'] )\n",
    "round (dftot['diferencia'].sum() / len( dftot['diferencia'] ) )'''"
   ]
  },
  {
   "cell_type": "code",
   "execution_count": null,
   "metadata": {},
   "outputs": [],
   "source": []
  },
  {
   "cell_type": "code",
   "execution_count": 46,
   "metadata": {},
   "outputs": [
    {
     "data": {
      "text/plain": [
       "703871.0"
      ]
     },
     "execution_count": 46,
     "metadata": {},
     "output_type": "execute_result"
    }
   ],
   "source": [
    "'''dfinicial1 = dfinicial\n",
    "dftest1 = dftest\n",
    "\n",
    "X, y, subida = gen_subida( dfinicial1,  KNeighborsRegressor, dftest1, 5, 'hamming', 2, \"esteban_knn.csv\", False)\n",
    "\n",
    "# IMPRIME EL PROMEDIO DE DIFERENCIA CON EL MEJOR RESULTADO (EL DE XG DE JULIÁN)\n",
    "# UN VALOR MENOR ES MEJOR\n",
    "dftot = subida.merge(xg, on = 'id', how = 'inner')\n",
    "dftot['diferencia'] = abs( dftot['target_x'] - dftot['target_y'] )\n",
    "round (dftot['diferencia'].sum() / len( dftot['diferencia'] ) )'''"
   ]
  },
  {
   "cell_type": "code",
   "execution_count": 80,
   "metadata": {},
   "outputs": [
    {
     "data": {
      "text/plain": [
       "1505607.0"
      ]
     },
     "execution_count": 80,
     "metadata": {},
     "output_type": "execute_result"
    }
   ],
   "source": [
    "'''dfinicial1 = dfinicial\n",
    "dftest1 = dftest\n",
    "\n",
    "Xj, yj, subidaj = gen_subida( dfinicial1,  KNeighborsRegressor, dftest1, 5, 'jaccard', 2, \"esteban_knn.csv\", False)\n",
    "\n",
    "# IMPRIME EL PROMEDIO DE DIFERENCIA CON EL MEJOR RESULTADO (EL DE XG DE JULIÁN)\n",
    "# UN VALOR MENOR ES MEJOR\n",
    "dftot = subidaj.merge(xg, on = 'id', how = 'inner')\n",
    "dftot['diferencia'] = abs( dftot['target_x'] - dftot['target_y'] )\n",
    "round (dftot['diferencia'].sum() / len( dftot['diferencia'] ) )'''"
   ]
  },
  {
   "cell_type": "code",
   "execution_count": null,
   "metadata": {},
   "outputs": [],
   "source": []
  }
 ],
 "metadata": {
  "kernelspec": {
   "display_name": "Python 3",
   "language": "python",
   "name": "python3"
  },
  "language_info": {
   "codemirror_mode": {
    "name": "ipython",
    "version": 3
   },
   "file_extension": ".py",
   "mimetype": "text/x-python",
   "name": "python",
   "nbconvert_exporter": "python",
   "pygments_lexer": "ipython3",
   "version": "3.7.4"
  }
 },
 "nbformat": 4,
 "nbformat_minor": 2
}
