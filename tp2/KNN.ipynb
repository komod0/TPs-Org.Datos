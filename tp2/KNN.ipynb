{
 "cells": [
  {
   "cell_type": "code",
   "execution_count": 1,
   "metadata": {},
   "outputs": [],
   "source": [
    "import pandas as pd\n",
    "import numpy as np\n",
    "\n",
    "import sklearn\n",
    "\n",
    "from sklearn.neighbors import KNeighborsRegressor\n",
    "\n",
    "from sklearn.preprocessing import StandardScaler\n",
    "from sklearn.model_selection import train_test_split\n",
    "from sklearn.metrics import mean_absolute_error\n",
    "\n",
    "from utilidades.validar4 import validar4\n"
   ]
  },
  {
   "cell_type": "code",
   "execution_count": 2,
   "metadata": {},
   "outputs": [],
   "source": [
    "#train = pd.read_csv(\"data/train.csv\")\n",
    "#test = pd.read_csv(\"data/test.csv\")\n",
    "\n",
    "dfinicial = pd.read_csv(\"data/train_limpio_idz.csv\")\n",
    "dftest = pd.read_csv(\"data/test_limpio_idz.csv\")\n",
    "\n",
    "#dfinicial2 = pd.read_csv(\"data/esteban/train_ciudades_limpio.csv\")\n",
    "#dftest2 = pd.read_csv(\"data/esteban/test_ciudades_limpio.csv\")"
   ]
  },
  {
   "cell_type": "code",
   "execution_count": 3,
   "metadata": {},
   "outputs": [],
   "source": [
    "pd.set_option('display.max_columns', 23) #ver todas las columnas\n",
    "pd.set_option('display.max_rows', 100) #como mucho ver 100 filas"
   ]
  },
  {
   "cell_type": "code",
   "execution_count": 4,
   "metadata": {},
   "outputs": [],
   "source": [
    "def gen_subida(DFINICIAL, metodo, DFTESTEAR, nn, metrica1, metrica2, nomArchivo, pasarAdisco):\n",
    "    \"\"\"\n",
    "    X: datos de entrenamiento\n",
    "    y: target de X\n",
    "    metodo: algoritmo a utilizar\n",
    "    \"\"\"\n",
    "    \n",
    "    #ML\n",
    "    X, y = DFINICIAL.drop( columns = ['precio'] ), dfinicial[\"precio\"]\n",
    "    reg = metodo(n_neighbors = nn, metric = metrica1, p = metrica2, weights = 'distance', n_jobs = -1)\n",
    "    reg.fit(X,y) #entrena como ajustarte a y (precios)\n",
    "    subida = pd.DataFrame( reg.predict(DFTESTEAR) , columns=[\"target\"]) #crea df con predicciones\n",
    "\n",
    "    #Formateo\n",
    "    subida.insert(0, \"id\", test[\"id\"]) #test todavía tiene los ids\n",
    "    subida['id'] = subida['id'].astype(np.uint32)\n",
    "    subida['target'] = subida['target'].astype(np.uint32)\n",
    "    \n",
    "    #Heurísticas\n",
    "    # si vale menos de 310 000, ponerle 310 000\n",
    "    # subida.loc[ subida['target'] <= 310000, 'target'] = 310000\n",
    "    # si vale más de 12 500 000, ponerle 12 500 000\n",
    "    # subida.loc[ subida['target'] >= 12500000, 'target'] = 12500000\n",
    "    \n",
    "    if pasarAdisco:\n",
    "        subida.to_csv(f\"submits/\" + nomArchivo, index = False) \n",
    "    \n",
    "    return X, y, subida"
   ]
  },
  {
   "cell_type": "code",
   "execution_count": 5,
   "metadata": {},
   "outputs": [
    {
     "data": {
      "text/plain": [
       "'dfinicial1 = dfinicial2.drop( columns = [ \\'anio\\', \\n                            \\'metrostotales\\', \\n                            \\'banos\\',\\n                            \\'antiguedad\\'\\n                            ]) \\ndftest1 = dftest2.drop( columns = [ \\'anio\\', \\n                            \\'metrostotales\\', \\n                            \\'banos\\',\\n                            \\'antiguedad\\'\\n                            ]) \\n\\nX, y, subida = gen_subida( dfinicial1,  KNeighborsRegressor, dftest1, 40, \\'euclidean\\', 2, \"esteban_knn.csv\", False)\\n\\n# IMPRIME EL PROMEDIO DE DIFERENCIA CON EL MEJOR RESULTADO (EL DE XG DE JULIÁN)\\n# UN VALOR MENOR ES MEJOR\\ndftot = subida.merge(xg, on = \\'id\\', how = \\'inner\\')\\ndftot[\\'diferencia\\'] = abs( dftot[\\'target_x\\'] - dftot[\\'target_y\\'] )\\nround (dftot[\\'diferencia\\'].sum() / len( dftot[\\'diferencia\\'] ) )'"
      ]
     },
     "execution_count": 5,
     "metadata": {},
     "output_type": "execute_result"
    }
   ],
   "source": [
    "'''dfinicial1 = dfinicial2.drop( columns = [ 'anio', \n",
    "                            'metrostotales', \n",
    "                            'banos',\n",
    "                            'antiguedad'\n",
    "                            ]) \n",
    "dftest1 = dftest2.drop( columns = [ 'anio', \n",
    "                            'metrostotales', \n",
    "                            'banos',\n",
    "                            'antiguedad'\n",
    "                            ]) \n",
    "\n",
    "X, y, subida = gen_subida( dfinicial1,  KNeighborsRegressor, dftest1, 40, 'euclidean', 2, \"esteban_knn.csv\", False)\n",
    "\n",
    "# IMPRIME EL PROMEDIO DE DIFERENCIA CON EL MEJOR RESULTADO (EL DE XG DE JULIÁN)\n",
    "# UN VALOR MENOR ES MEJOR\n",
    "dftot = subida.merge(xg, on = 'id', how = 'inner')\n",
    "dftot['diferencia'] = abs( dftot['target_x'] - dftot['target_y'] )\n",
    "round (dftot['diferencia'].sum() / len( dftot['diferencia'] ) )'''"
   ]
  },
  {
   "cell_type": "code",
   "execution_count": 6,
   "metadata": {},
   "outputs": [
    {
     "data": {
      "text/plain": [
       "\"validar2(X, y, KNeighborsRegressor, 40, 'euclidean', 2, False)\""
      ]
     },
     "execution_count": 6,
     "metadata": {},
     "output_type": "execute_result"
    }
   ],
   "source": [
    "'''validar2(X, y, KNeighborsRegressor, 40, 'euclidean', 2, False)'''"
   ]
  },
  {
   "cell_type": "code",
   "execution_count": 7,
   "metadata": {},
   "outputs": [
    {
     "data": {
      "text/plain": [
       "'#dfinicial1 = dfinicial\\n#dftest1 = dftest\\ndfinicial1 = dfinicial2.drop( columns = [ \\'anio\\', \\n                            \\'metrostotales\\', \\n                            \\'banos\\',\\n                            \\'antiguedad\\'\\n                            ]) \\n\\n\\ndftest1 = dftest2.drop( columns = [\\'anio\\', \\n                    \\'metrostotales\\', \\n                    \\'banos\\',\\n                    \\'antiguedad\\',\\n                    ]) \\n\\n\\n# Manhattan\\nXa, ya, subidaa = gen_subida( dfinicial1,  KNeighborsRegressor, dftest1, 40, \\'minkowski\\', 1, \"esteban_knn.csv\", False)\\n\\n# IMPRIME EL PROMEDIO DE DIFERENCIA CON EL MEJOR RESULTADO (EL DE XG DE JULIÁN)\\n# UN VALOR MENOR ES MEJOR\\ndftot = subidaa.merge(xg, on = \\'id\\', how = \\'inner\\')\\ndftot[\\'diferencia\\'] = abs( dftot[\\'target_x\\'] - dftot[\\'target_y\\'] )\\nround (dftot[\\'diferencia\\'].sum() / len( dftot[\\'diferencia\\'] ) )'"
      ]
     },
     "execution_count": 7,
     "metadata": {},
     "output_type": "execute_result"
    }
   ],
   "source": [
    "'''#dfinicial1 = dfinicial\n",
    "#dftest1 = dftest\n",
    "dfinicial1 = dfinicial2.drop( columns = [ 'anio', \n",
    "                            'metrostotales', \n",
    "                            'banos',\n",
    "                            'antiguedad'\n",
    "                            ]) \n",
    "\n",
    "\n",
    "dftest1 = dftest2.drop( columns = ['anio', \n",
    "                    'metrostotales', \n",
    "                    'banos',\n",
    "                    'antiguedad',\n",
    "                    ]) \n",
    "\n",
    "\n",
    "# Manhattan\n",
    "Xa, ya, subidaa = gen_subida( dfinicial1,  KNeighborsRegressor, dftest1, 40, 'minkowski', 1, \"esteban_knn.csv\", False)\n",
    "\n",
    "# IMPRIME EL PROMEDIO DE DIFERENCIA CON EL MEJOR RESULTADO (EL DE XG DE JULIÁN)\n",
    "# UN VALOR MENOR ES MEJOR\n",
    "dftot = subidaa.merge(xg, on = 'id', how = 'inner')\n",
    "dftot['diferencia'] = abs( dftot['target_x'] - dftot['target_y'] )\n",
    "round (dftot['diferencia'].sum() / len( dftot['diferencia'] ) )'''"
   ]
  },
  {
   "cell_type": "code",
   "execution_count": null,
   "metadata": {},
   "outputs": [],
   "source": [
    "%%time\n",
    "\n",
    "dfinicial1 = dfinicial\n",
    "\n",
    "dftest1 = dftest\n",
    "\n",
    "Xa, ya = dfinicial.drop( columns = ['precio'] ), dfinicial[\"precio\"]\n",
    "\n",
    "scaling = StandardScaler().fit(Xa)\n",
    "Xa2 = scaling.transform(Xa)\n",
    "Xa2 = pd.DataFrame(data = Xa2, columns = Xa.columns)\n",
    "\n",
    "#765349.0\n",
    "validar4(Xa2, ya, KNeighborsRegressor, 40, 'minkowski', 1, False)"
   ]
  },
  {
   "cell_type": "code",
   "execution_count": null,
   "metadata": {},
   "outputs": [],
   "source": [
    "\"DESDE ACA\""
   ]
  },
  {
   "cell_type": "code",
   "execution_count": null,
   "metadata": {},
   "outputs": [],
   "source": [
    "'''dfinicial1 = dfinicial\n",
    "dftest1 = dftest\n",
    "\n",
    "X, y, subida = gen_subida( dfinicial1,  KNeighborsRegressor, dftest1, 5, 'cosine', 2, \"esteban_knn.csv\", False)\n",
    "\n",
    "# IMPRIME EL PROMEDIO DE DIFERENCIA CON EL MEJOR RESULTADO (EL DE XG DE JULIÁN)\n",
    "# UN VALOR MENOR ES MEJOR\n",
    "dftot = subida.merge(xg, on = 'id', how = 'inner')\n",
    "dftot['diferencia'] = abs( dftot['target_x'] - dftot['target_y'] )\n",
    "round (dftot['diferencia'].sum() / len( dftot['diferencia'] ) )'''"
   ]
  },
  {
   "cell_type": "code",
   "execution_count": null,
   "metadata": {},
   "outputs": [],
   "source": []
  },
  {
   "cell_type": "code",
   "execution_count": null,
   "metadata": {},
   "outputs": [],
   "source": [
    "'''dfinicial1 = dfinicial\n",
    "dftest1 = dftest\n",
    "\n",
    "X, y, subida = gen_subida( dfinicial1,  KNeighborsRegressor, dftest1, 5, 'hamming', 2, \"esteban_knn.csv\", False)\n",
    "\n",
    "# IMPRIME EL PROMEDIO DE DIFERENCIA CON EL MEJOR RESULTADO (EL DE XG DE JULIÁN)\n",
    "# UN VALOR MENOR ES MEJOR\n",
    "dftot = subida.merge(xg, on = 'id', how = 'inner')\n",
    "dftot['diferencia'] = abs( dftot['target_x'] - dftot['target_y'] )\n",
    "round (dftot['diferencia'].sum() / len( dftot['diferencia'] ) )'''"
   ]
  },
  {
   "cell_type": "code",
   "execution_count": null,
   "metadata": {},
   "outputs": [],
   "source": [
    "'''dfinicial1 = dfinicial\n",
    "dftest1 = dftest\n",
    "\n",
    "Xj, yj, subidaj = gen_subida( dfinicial1,  KNeighborsRegressor, dftest1, 5, 'jaccard', 2, \"esteban_knn.csv\", False)\n",
    "\n",
    "# IMPRIME EL PROMEDIO DE DIFERENCIA CON EL MEJOR RESULTADO (EL DE XG DE JULIÁN)\n",
    "# UN VALOR MENOR ES MEJOR\n",
    "dftot = subidaj.merge(xg, on = 'id', how = 'inner')\n",
    "dftot['diferencia'] = abs( dftot['target_x'] - dftot['target_y'] )\n",
    "round (dftot['diferencia'].sum() / len( dftot['diferencia'] ) )'''"
   ]
  },
  {
   "cell_type": "code",
   "execution_count": null,
   "metadata": {},
   "outputs": [],
   "source": []
  }
 ],
 "metadata": {
  "kernelspec": {
   "display_name": "Python 3",
   "language": "python",
   "name": "python3"
  },
  "language_info": {
   "codemirror_mode": {
    "name": "ipython",
    "version": 3
   },
   "file_extension": ".py",
   "mimetype": "text/x-python",
   "name": "python",
   "nbconvert_exporter": "python",
   "pygments_lexer": "ipython3",
   "version": "3.7.4"
  }
 },
 "nbformat": 4,
 "nbformat_minor": 2
}
