{
 "cells": [
  {
   "cell_type": "code",
   "execution_count": 1,
   "metadata": {},
   "outputs": [],
   "source": [
    "import numpy as np\n",
    "import pandas as pd"
   ]
  },
  {
   "cell_type": "code",
   "execution_count": 2,
   "metadata": {},
   "outputs": [
    {
     "name": "stdout",
     "output_type": "stream",
     "text": [
      "Index(['titulo', 'descripcion', 'tipodepropiedad', 'direccion', 'ciudad',\n",
      "       'provincia', 'antiguedad', 'habitaciones', 'garages', 'banos',\n",
      "       'metroscubiertos', 'metrostotales', 'idzona', 'lat', 'lng', 'fecha',\n",
      "       'gimnasio', 'usosmultiples', 'piscina', 'escuelascercanas',\n",
      "       'centroscomercialescercanos', 'precio'],\n",
      "      dtype='object')\n",
      "(1, 22)\n"
     ]
    },
    {
     "data": {
      "text/html": [
       "<div>\n",
       "<style scoped>\n",
       "    .dataframe tbody tr th:only-of-type {\n",
       "        vertical-align: middle;\n",
       "    }\n",
       "\n",
       "    .dataframe tbody tr th {\n",
       "        vertical-align: top;\n",
       "    }\n",
       "\n",
       "    .dataframe thead th {\n",
       "        text-align: right;\n",
       "    }\n",
       "</style>\n",
       "<table border=\"1\" class=\"dataframe\">\n",
       "  <thead>\n",
       "    <tr style=\"text-align: right;\">\n",
       "      <th></th>\n",
       "      <th>titulo</th>\n",
       "      <th>descripcion</th>\n",
       "      <th>tipodepropiedad</th>\n",
       "      <th>direccion</th>\n",
       "      <th>ciudad</th>\n",
       "      <th>provincia</th>\n",
       "      <th>antiguedad</th>\n",
       "      <th>habitaciones</th>\n",
       "      <th>garages</th>\n",
       "      <th>banos</th>\n",
       "      <th>...</th>\n",
       "      <th>idzona</th>\n",
       "      <th>lat</th>\n",
       "      <th>lng</th>\n",
       "      <th>fecha</th>\n",
       "      <th>gimnasio</th>\n",
       "      <th>usosmultiples</th>\n",
       "      <th>piscina</th>\n",
       "      <th>escuelascercanas</th>\n",
       "      <th>centroscomercialescercanos</th>\n",
       "      <th>precio</th>\n",
       "    </tr>\n",
       "    <tr>\n",
       "      <th>id</th>\n",
       "      <th></th>\n",
       "      <th></th>\n",
       "      <th></th>\n",
       "      <th></th>\n",
       "      <th></th>\n",
       "      <th></th>\n",
       "      <th></th>\n",
       "      <th></th>\n",
       "      <th></th>\n",
       "      <th></th>\n",
       "      <th></th>\n",
       "      <th></th>\n",
       "      <th></th>\n",
       "      <th></th>\n",
       "      <th></th>\n",
       "      <th></th>\n",
       "      <th></th>\n",
       "      <th></th>\n",
       "      <th></th>\n",
       "      <th></th>\n",
       "      <th></th>\n",
       "    </tr>\n",
       "  </thead>\n",
       "  <tbody>\n",
       "    <tr>\n",
       "      <th>254099</th>\n",
       "      <td>depto. tipo a-402</td>\n",
       "      <td>depto. interior de 80.15m2, consta de sala com...</td>\n",
       "      <td>Apartamento</td>\n",
       "      <td>Avenida Division del Norte 2005</td>\n",
       "      <td>Benito Juárez</td>\n",
       "      <td>Distrito Federal</td>\n",
       "      <td>NaN</td>\n",
       "      <td>2.0</td>\n",
       "      <td>1.0</td>\n",
       "      <td>2.0</td>\n",
       "      <td>...</td>\n",
       "      <td>23533.0</td>\n",
       "      <td>NaN</td>\n",
       "      <td>NaN</td>\n",
       "      <td>2015-08-23</td>\n",
       "      <td>0.0</td>\n",
       "      <td>0.0</td>\n",
       "      <td>0.0</td>\n",
       "      <td>0.0</td>\n",
       "      <td>0.0</td>\n",
       "      <td>2273000.0</td>\n",
       "    </tr>\n",
       "  </tbody>\n",
       "</table>\n",
       "<p>1 rows × 22 columns</p>\n",
       "</div>"
      ],
      "text/plain": [
       "                   titulo                                        descripcion  \\\n",
       "id                                                                             \n",
       "254099  depto. tipo a-402  depto. interior de 80.15m2, consta de sala com...   \n",
       "\n",
       "       tipodepropiedad                        direccion         ciudad  \\\n",
       "id                                                                       \n",
       "254099     Apartamento  Avenida Division del Norte 2005  Benito Juárez   \n",
       "\n",
       "               provincia  antiguedad  habitaciones  garages  banos    ...      \\\n",
       "id                                                                    ...       \n",
       "254099  Distrito Federal         NaN           2.0      1.0    2.0    ...       \n",
       "\n",
       "         idzona  lat  lng      fecha  gimnasio usosmultiples  piscina  \\\n",
       "id                                                                      \n",
       "254099  23533.0  NaN  NaN 2015-08-23       0.0           0.0      0.0   \n",
       "\n",
       "        escuelascercanas  centroscomercialescercanos     precio  \n",
       "id                                                               \n",
       "254099               0.0                         0.0  2273000.0  \n",
       "\n",
       "[1 rows x 22 columns]"
      ]
     },
     "metadata": {},
     "output_type": "display_data"
    }
   ],
   "source": [
    "# Solo se carga para muestra de features y feature_names.\n",
    "train_sample = pd.read_csv('data/train.csv', index_col='id', parse_dates=['fecha'], nrows=1)\n",
    "\n",
    "print(train_sample.columns)\n",
    "print(train_sample.shape)\n",
    "display(train_sample)"
   ]
  },
  {
   "cell_type": "code",
   "execution_count": 3,
   "metadata": {},
   "outputs": [],
   "source": [
    "# Se eligen las columnas numéricas y luego se analizan los nulos.\n",
    "columnas = ['id', 'lat', 'lng', 'metrostotales', 'metroscubiertos', 'antiguedad',\\\n",
    "            'habitaciones', 'garages', 'banos', 'gimnasio', 'usosmultiples', \\\n",
    "            'piscina', 'escuelascercanas', 'centroscomercialescercanos']\n",
    "train = pd.read_csv('data/train.csv', index_col='id', usecols=columnas)\n",
    "target = pd.read_csv('data/train.csv', index_col='id', usecols=['id', 'precio'])"
   ]
  },
  {
   "cell_type": "code",
   "execution_count": 4,
   "metadata": {},
   "outputs": [
    {
     "name": "stdout",
     "output_type": "stream",
     "text": [
      "antiguedad                     43555\n",
      "habitaciones                   22471\n",
      "garages                        37765\n",
      "banos                          26221\n",
      "metroscubiertos                17400\n",
      "metrostotales                  51467\n",
      "lat                           123488\n",
      "lng                           123488\n",
      "gimnasio                           0\n",
      "usosmultiples                      0\n",
      "piscina                            0\n",
      "escuelascercanas                   0\n",
      "centroscomercialescercanos         0\n",
      "dtype: int64\n",
      "precio    0\n",
      "dtype: int64\n"
     ]
    }
   ],
   "source": [
    "print(train.isnull().sum())\n",
    "print(target.isnull().sum())"
   ]
  }
 ],
 "metadata": {
  "kernelspec": {
   "display_name": "Python 3",
   "language": "python",
   "name": "python3"
  },
  "language_info": {
   "codemirror_mode": {
    "name": "ipython",
    "version": 3
   },
   "file_extension": ".py",
   "mimetype": "text/x-python",
   "name": "python",
   "nbconvert_exporter": "python",
   "pygments_lexer": "ipython3",
   "version": "3.7.3"
  }
 },
 "nbformat": 4,
 "nbformat_minor": 2
}
