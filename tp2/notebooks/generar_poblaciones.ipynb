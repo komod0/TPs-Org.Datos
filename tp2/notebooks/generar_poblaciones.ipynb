{
 "cells": [
  {
   "cell_type": "code",
   "execution_count": 1,
   "metadata": {},
   "outputs": [],
   "source": [
    "import pandas as pd"
   ]
  },
  {
   "cell_type": "code",
   "execution_count": 2,
   "metadata": {},
   "outputs": [],
   "source": [
    "ruta_data = \"../data\"\n",
    "ruta_train = ruta_data + \"/train.csv\"\n",
    "ruta_test = ruta_data + \"/test.csv\""
   ]
  },
  {
   "cell_type": "code",
   "execution_count": 3,
   "metadata": {},
   "outputs": [],
   "source": [
    "train_origi = pd.read_csv(ruta_train, usecols=[\"ciudad\"])\n",
    "\n",
    "test_origi = pd.read_csv(ruta_test, usecols=[\"ciudad\"])\n",
    "\n",
    "poblaciones = pd.read_csv(f\"{ruta_data}/poblacion_de_cada_ciudad.csv\")\n",
    "\n",
    "poblaciones_t = pd.read_csv(f\"{ruta_data}/poblacion_de_cada_ciudad_en_el_test.csv\")\n",
    "\n",
    "d_poblaciones = poblaciones.set_index(\"ciudad\")[\"poblacion\"].to_dict()\n",
    "\n",
    "d_poblaciones_t = poblaciones_t.set_index(\"ciudad\")[\"poblacion\"].to_dict()\n",
    "\n",
    "train_origi[\"ciudad\"].fillna(train_origi['ciudad'].mode()[0], inplace=True)\n",
    "\n",
    "test_origi[\"ciudad\"].fillna(test_origi['ciudad'].mode()[0], inplace=True)\n",
    "\n",
    "train_origi[\"pob_ciu\"] = train_origi.apply(lambda x: d_poblaciones[x[\"ciudad\"]], axis=1)\n",
    "\n",
    "test_origi[\"pob_ciu\"] = test_origi.apply(lambda x: d_poblaciones_t[x[\"ciudad\"]], axis=1)"
   ]
  },
  {
   "cell_type": "code",
   "execution_count": 4,
   "metadata": {},
   "outputs": [],
   "source": [
    "train_origi.drop([\"ciudad\"], axis=1).to_csv(f\"{ruta_data}/ftr_poblacion_train.csv\", index=False)"
   ]
  },
  {
   "cell_type": "code",
   "execution_count": 5,
   "metadata": {},
   "outputs": [],
   "source": [
    "test_origi.drop([\"ciudad\"], axis=1).to_csv(f\"{ruta_data}/ftr_poblacion_test.csv\", index=False)"
   ]
  }
 ],
 "metadata": {
  "kernelspec": {
   "display_name": "Python 3",
   "language": "python",
   "name": "python3"
  },
  "language_info": {
   "codemirror_mode": {
    "name": "ipython",
    "version": 3
   },
   "file_extension": ".py",
   "mimetype": "text/x-python",
   "name": "python",
   "nbconvert_exporter": "python",
   "pygments_lexer": "ipython3",
   "version": "3.7.4"
  }
 },
 "nbformat": 4,
 "nbformat_minor": 2
}
