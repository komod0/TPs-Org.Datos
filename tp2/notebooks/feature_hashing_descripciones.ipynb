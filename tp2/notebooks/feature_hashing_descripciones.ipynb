{
 "cells": [
  {
   "cell_type": "code",
   "execution_count": 4,
   "metadata": {},
   "outputs": [],
   "source": [
    "import pandas as pd\n",
    "import numpy as np\n",
    "\n",
    "from sklearn.feature_extraction import FeatureHasher"
   ]
  },
  {
   "cell_type": "code",
   "execution_count": 5,
   "metadata": {},
   "outputs": [],
   "source": [
    "ruta_data = \"../data\"\n",
    "ruta_train = ruta_data + \"/train.csv\"\n",
    "ruta_test = ruta_data + \"/test.csv\"\n",
    "cantidad_de_dimensiones = 300"
   ]
  },
  {
   "cell_type": "code",
   "execution_count": 20,
   "metadata": {},
   "outputs": [],
   "source": [
    "desc_train = pd.read_csv(f\"{ruta_data}/descripciones_train_limpias.csv\")\n",
    "desc_test = pd.read_csv(f\"{ruta_data}/descripciones_test_limpias.csv\")"
   ]
  },
  {
   "cell_type": "code",
   "execution_count": 9,
   "metadata": {},
   "outputs": [],
   "source": [
    "titulos_train = pd.read_csv(f\"{ruta_data}/titulos_train_limpios.csv\")\n",
    "titulos_test = pd.read_csv(f\"{ruta_data}/titulos_test_limpios.csv\")"
   ]
  },
  {
   "cell_type": "code",
   "execution_count": 21,
   "metadata": {},
   "outputs": [],
   "source": [
    "#desc_train = desc_train.fillna(titulos_train[\"titulo\"]) # Probar rellenar con tipo prop, ciudad, baños o algo asi\n",
    "desc_train = desc_train.fillna(\"\") # Probar rellenar con tipo prop, ciudad, baños o algo asi\n",
    "#desc_test = desc_test.fillna(titulos_test[\"titulo\"])\n",
    "desc_test = desc_test.fillna(\"\")"
   ]
  },
  {
   "cell_type": "code",
   "execution_count": 22,
   "metadata": {},
   "outputs": [],
   "source": [
    "# Probar con https://scikit-learn.org/stable/modules/generated/sklearn.feature_extraction.text.HashingVectorizer.html\n",
    "hasher = FeatureHasher(n_features=cantidad_de_dimensiones, input_type='string')"
   ]
  },
  {
   "cell_type": "code",
   "execution_count": 23,
   "metadata": {},
   "outputs": [],
   "source": [
    "vectorized_train = hasher.transform(desc.split() for desc in desc_train[\"descripcion\"])"
   ]
  },
  {
   "cell_type": "code",
   "execution_count": 24,
   "metadata": {},
   "outputs": [],
   "source": [
    "pd.DataFrame(vectorized_train.todense(), columns=[f\"fh{n}\" for n in range(cantidad_de_dimensiones)])\\\n",
    "    .to_csv(f\"{ruta_data}/features/descr_vectorizadas_train_{cantidad_de_dimensiones}d.csv\", index=False)"
   ]
  },
  {
   "cell_type": "code",
   "execution_count": 25,
   "metadata": {},
   "outputs": [],
   "source": [
    "vectorized_test = hasher.transform(desc.split() for desc in desc_test[\"descripcion\"])"
   ]
  },
  {
   "cell_type": "code",
   "execution_count": 26,
   "metadata": {},
   "outputs": [],
   "source": [
    "pd.DataFrame(vectorized_test.todense(), columns=[f\"fh{n}\" for n in range(cantidad_de_dimensiones)])\\\n",
    "    .to_csv(f\"{ruta_data}/features/descr_vectorizadas_test_{cantidad_de_dimensiones}d.csv\", index=False)"
   ]
  },
  {
   "cell_type": "markdown",
   "metadata": {},
   "source": [
    "---"
   ]
  },
  {
   "cell_type": "markdown",
   "metadata": {},
   "source": [
    "### Hasheo de bigramas de palabras y de palabras"
   ]
  },
  {
   "cell_type": "code",
   "execution_count": 12,
   "metadata": {},
   "outputs": [],
   "source": [
    "def find_ngrams(input_list, n):\n",
    "    return zip(*[input_list[i:] for i in range(n)])"
   ]
  },
  {
   "cell_type": "code",
   "execution_count": 13,
   "metadata": {},
   "outputs": [],
   "source": [
    "hasher = FeatureHasher(n_features=cantidad_de_dimensiones, input_type='string')"
   ]
  },
  {
   "cell_type": "code",
   "execution_count": 24,
   "metadata": {},
   "outputs": [],
   "source": [
    "vectorized_train_bi = hasher.transform([\" \".join(bi) for bi in find_ngrams(desc.split(),2)] + desc.split() for desc in desc_train[\"descripcion\"])"
   ]
  },
  {
   "cell_type": "code",
   "execution_count": 25,
   "metadata": {},
   "outputs": [],
   "source": [
    "pd.DataFrame(vectorized_train_bi.todense(), columns=[f\"fhbi{n}\" for n in range(cantidad_de_dimensiones)])\\\n",
    "    .to_csv(f\"{ruta_data}/features/descr__bigram_vectorizadas_train_{cantidad_de_dimensiones}d.csv\", index=False)"
   ]
  },
  {
   "cell_type": "code",
   "execution_count": null,
   "metadata": {},
   "outputs": [],
   "source": []
  }
 ],
 "metadata": {
  "kernelspec": {
   "display_name": "Python 3",
   "language": "python",
   "name": "python3"
  },
  "language_info": {
   "codemirror_mode": {
    "name": "ipython",
    "version": 3
   },
   "file_extension": ".py",
   "mimetype": "text/x-python",
   "name": "python",
   "nbconvert_exporter": "python",
   "pygments_lexer": "ipython3",
   "version": "3.7.4"
  }
 },
 "nbformat": 4,
 "nbformat_minor": 2
}
