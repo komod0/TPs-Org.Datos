{
 "cells": [
  {
   "cell_type": "code",
   "execution_count": 2,
   "metadata": {},
   "outputs": [],
   "source": [
    "import pandas as pd\n",
    "import numpy as np\n",
    "\n",
    "from sklearn.feature_extraction import FeatureHasher"
   ]
  },
  {
   "cell_type": "code",
   "execution_count": 3,
   "metadata": {},
   "outputs": [],
   "source": [
    "ruta_data = \"../data\"\n",
    "ruta_train = ruta_data + \"/train.csv\"\n",
    "ruta_test = ruta_data + \"/test.csv\"\n",
    "cantidad_de_dimensiones = 300"
   ]
  },
  {
   "cell_type": "code",
   "execution_count": 4,
   "metadata": {},
   "outputs": [],
   "source": [
    "desc_train = pd.read_csv(f\"{ruta_data}/descripciones_train_limpias.csv\")\n",
    "desc_test = pd.read_csv(f\"{ruta_data}/descripciones_test_limpias.csv\")"
   ]
  },
  {
   "cell_type": "code",
   "execution_count": 5,
   "metadata": {},
   "outputs": [],
   "source": [
    "desc_train = desc_train.fillna(\"\")\n",
    "desc_test = desc_test.fillna(\"\")"
   ]
  },
  {
   "cell_type": "code",
   "execution_count": 6,
   "metadata": {},
   "outputs": [],
   "source": [
    "hasher = FeatureHasher(n_features=cantidad_de_dimensiones, input_type='string', dtype=np.int16)"
   ]
  },
  {
   "cell_type": "code",
   "execution_count": 7,
   "metadata": {},
   "outputs": [],
   "source": [
    "vectorized_train = hasher.transform(desc.split() for desc in desc_train[\"descripcion\"])"
   ]
  },
  {
   "cell_type": "code",
   "execution_count": 8,
   "metadata": {},
   "outputs": [],
   "source": [
    "pd.DataFrame(vectorized_train.todense(), columns=[f\"fh{n}\" for n in range(cantidad_de_dimensiones)])\\\n",
    "    .to_csv(f\"{ruta_data}/features/descr_vectorizadas_train_{cantidad_de_dimensiones}d.csv\", index=False)"
   ]
  },
  {
   "cell_type": "code",
   "execution_count": 9,
   "metadata": {},
   "outputs": [],
   "source": [
    "vectorized_test = hasher.transform(desc.split() for desc in desc_test[\"descripcion\"])"
   ]
  },
  {
   "cell_type": "code",
   "execution_count": 11,
   "metadata": {},
   "outputs": [],
   "source": [
    "pd.DataFrame(vectorized_test.todense(), columns=[f\"fh{n}\" for n in range(cantidad_de_dimensiones)])\\\n",
    "    .to_csv(f\"{ruta_data}/features/descr_vectorizadas_test_{cantidad_de_dimensiones}d.csv\", index=False)"
   ]
  },
  {
   "cell_type": "code",
   "execution_count": null,
   "metadata": {},
   "outputs": [],
   "source": []
  }
 ],
 "metadata": {
  "kernelspec": {
   "display_name": "Python 3",
   "language": "python",
   "name": "python3"
  },
  "language_info": {
   "codemirror_mode": {
    "name": "ipython",
    "version": 3
   },
   "file_extension": ".py",
   "mimetype": "text/x-python",
   "name": "python",
   "nbconvert_exporter": "python",
   "pygments_lexer": "ipython3",
   "version": "3.7.4"
  }
 },
 "nbformat": 4,
 "nbformat_minor": 2
}
