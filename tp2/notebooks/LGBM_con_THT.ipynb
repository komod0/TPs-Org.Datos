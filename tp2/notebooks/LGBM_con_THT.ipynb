{
 "cells": [
  {
   "cell_type": "code",
   "execution_count": 1,
   "metadata": {},
   "outputs": [],
   "source": [
    "import lightgbm as lgb\n",
    "import numpy as np\n",
    "import pandas as pd\n",
    "import string\n",
    "\n",
    "from sklearn.metrics import mean_absolute_error\n",
    "from sklearn.model_selection import train_test_split\n",
    "\n",
    "from utilidades.graficar import ver_dispersion\n",
    "from utilidades.reducir_uso_memoria import reduce_mem_usage"
   ]
  },
  {
   "cell_type": "markdown",
   "metadata": {},
   "source": [
    "### Preprocesamiento inicial"
   ]
  },
  {
   "cell_type": "code",
   "execution_count": 2,
   "metadata": {},
   "outputs": [],
   "source": [
    "ruta_data = \"../data\"\n",
    "ruta_train = ruta_data + \"/train.csv\"\n",
    "ruta_test = ruta_data + \"/test.csv\"\n",
    "ruta_submits = \"../submits\""
   ]
  },
  {
   "cell_type": "code",
   "execution_count": 3,
   "metadata": {},
   "outputs": [],
   "source": [
    "def to_ascii(s):\n",
    "    car_ascii = set(string.printable)\n",
    "    return \"\".join([a for a in s if a in car_ascii])"
   ]
  },
  {
   "cell_type": "code",
   "execution_count": 4,
   "metadata": {},
   "outputs": [],
   "source": [
    "train_limpio = reduce_mem_usage(pd.read_csv(f\"{ruta_data}/train_limpio.csv\"))\n",
    "test_limpio = reduce_mem_usage(pd.read_csv(f\"{ruta_data}/test_limpio.csv\"))"
   ]
  },
  {
   "cell_type": "code",
   "execution_count": 5,
   "metadata": {},
   "outputs": [],
   "source": [
    "train_limpio = train_limpio.drop([\"dia\"], axis=1)\n",
    "test_limpio = test_limpio.drop([\"dia\"], axis=1)"
   ]
  },
  {
   "cell_type": "code",
   "execution_count": 6,
   "metadata": {},
   "outputs": [],
   "source": [
    "poblacion_train = pd.read_csv(f\"{ruta_data}/features/ftr_poblacion_train.csv\")\n",
    "poblacion_test = pd.read_csv(f\"{ruta_data}/features/ftr_poblacion_test.csv\")"
   ]
  },
  {
   "cell_type": "code",
   "execution_count": 7,
   "metadata": {},
   "outputs": [],
   "source": [
    "train_limpio[\"poblacion\"] = poblacion_train\n",
    "test_limpio[\"poblacion\"] = poblacion_test"
   ]
  },
  {
   "cell_type": "code",
   "execution_count": 8,
   "metadata": {},
   "outputs": [],
   "source": [
    "train_limpio = train_limpio.rename(columns={col: to_ascii(col) for col in train_limpio.columns})\n",
    "test_limpio = test_limpio.rename(columns={col: to_ascii(col) for col in test_limpio.columns})"
   ]
  },
  {
   "cell_type": "code",
   "execution_count": 9,
   "metadata": {},
   "outputs": [],
   "source": [
    "id_zona_train = pd.read_csv(f\"{ruta_data}/id_zona_train.csv\")\n",
    "id_zona_test = pd.read_csv(f\"{ruta_data}/id_zona_test.csv\")"
   ]
  },
  {
   "cell_type": "code",
   "execution_count": 10,
   "metadata": {},
   "outputs": [],
   "source": [
    "train_limpio[\"idzona\"] = id_zona_train[\"idzona\"]\n",
    "test_limpio[\"idzona\"] = id_zona_test[\"idzona\"]"
   ]
  },
  {
   "cell_type": "code",
   "execution_count": 11,
   "metadata": {},
   "outputs": [],
   "source": [
    "tiene_terraza = pd.read_csv(f\"{ruta_data}/features/tiene_terraza_train.csv\")\n",
    "\n",
    "train_limpio[\"tiene_terraza\"] = tiene_terraza"
   ]
  },
  {
   "cell_type": "code",
   "execution_count": 12,
   "metadata": {},
   "outputs": [],
   "source": [
    "tiene_terraza_tes = pd.read_csv(f\"{ruta_data}/features/tiene_terraza_test.csv\")\n",
    "\n",
    "test_limpio[\"tiene_terraza\"] = tiene_terraza_tes"
   ]
  },
  {
   "cell_type": "code",
   "execution_count": 13,
   "metadata": {},
   "outputs": [],
   "source": [
    "tiene_jardin = pd.read_csv(f\"{ruta_data}/features/tiene_jardin_train.csv\")\n",
    "\n",
    "train_limpio[\"tiene_jardin\"] = tiene_jardin"
   ]
  },
  {
   "cell_type": "code",
   "execution_count": 14,
   "metadata": {},
   "outputs": [],
   "source": [
    "tiene_jardin_tes = pd.read_csv(f\"{ruta_data}/features/tiene_jardin_test.csv\")\n",
    "\n",
    "test_limpio[\"tiene_jardin\"] = tiene_jardin_tes"
   ]
  },
  {
   "cell_type": "code",
   "execution_count": 15,
   "metadata": {},
   "outputs": [],
   "source": [
    "tiene_servicio = pd.read_csv(f\"{ruta_data}/features/tiene_servicio_train.csv\")\n",
    "\n",
    "train_limpio[\"tiene_servicio\"] = tiene_servicio"
   ]
  },
  {
   "cell_type": "code",
   "execution_count": 16,
   "metadata": {},
   "outputs": [],
   "source": [
    "tiene_servicio_tes = pd.read_csv(f\"{ruta_data}/features/tiene_servicio_test.csv\")\n",
    "\n",
    "test_limpio[\"tiene_servicio\"] = tiene_servicio_tes"
   ]
  },
  {
   "cell_type": "code",
   "execution_count": 17,
   "metadata": {},
   "outputs": [],
   "source": [
    "tiene_vestidor = pd.read_csv(f\"{ruta_data}/features/tiene_vestidor_train.csv\")\n",
    "\n",
    "train_limpio[\"tiene_vestidor\"] = tiene_vestidor"
   ]
  },
  {
   "cell_type": "code",
   "execution_count": 18,
   "metadata": {},
   "outputs": [],
   "source": [
    "tiene_vestidor_tes = pd.read_csv(f\"{ruta_data}/features/tiene_vestidor_test.csv\")\n",
    "\n",
    "test_limpio[\"tiene_vestidor\"] = tiene_vestidor_tes"
   ]
  },
  {
   "cell_type": "code",
   "execution_count": 19,
   "metadata": {},
   "outputs": [],
   "source": [
    "tiene_vista = pd.read_csv(f\"{ruta_data}/features/tiene_vista_train.csv\")\n",
    "\n",
    "train_limpio[\"tiene_vista\"] = tiene_vista"
   ]
  },
  {
   "cell_type": "code",
   "execution_count": 20,
   "metadata": {},
   "outputs": [],
   "source": [
    "tiene_vista_tes = pd.read_csv(f\"{ruta_data}/features/tiene_vista_test.csv\")\n",
    "\n",
    "test_limpio[\"tiene_vista\"] = tiene_vista_tes"
   ]
  },
  {
   "cell_type": "code",
   "execution_count": 21,
   "metadata": {},
   "outputs": [],
   "source": [
    "tiene_salon = pd.read_csv(f\"{ruta_data}/features/tiene_salon_train.csv\")\n",
    "\n",
    "train_limpio[\"tiene_salon\"] = tiene_salon"
   ]
  },
  {
   "cell_type": "code",
   "execution_count": 22,
   "metadata": {},
   "outputs": [],
   "source": [
    "tiene_salon_tes = pd.read_csv(f\"{ruta_data}/features/tiene_salon_test.csv\")\n",
    "\n",
    "test_limpio[\"tiene_salon\"] = tiene_salon_tes"
   ]
  },
  {
   "cell_type": "code",
   "execution_count": 26,
   "metadata": {},
   "outputs": [],
   "source": [
    "tiene_cuarto = pd.read_csv(f\"{ruta_data}/features/tiene_cuarto_train.csv\")\n",
    "\n",
    "train_limpio[\"tiene_cuarto\"] = tiene_cuarto"
   ]
  },
  {
   "cell_type": "code",
   "execution_count": 23,
   "metadata": {},
   "outputs": [],
   "source": [
    "tiene_cuarto_tes = pd.read_csv(f\"{ruta_data}/features/tiene_cuarto_test.csv\")\n",
    "\n",
    "test_limpio[\"tiene_cuarto\"] = tiene_cuarto_tes"
   ]
  },
  {
   "cell_type": "code",
   "execution_count": 24,
   "metadata": {},
   "outputs": [],
   "source": [
    "tiene_family = pd.read_csv(f\"{ruta_data}/features/tiene_family_train.csv\")\n",
    "\n",
    "train_limpio[\"tiene_family\"] = tiene_family"
   ]
  },
  {
   "cell_type": "code",
   "execution_count": 25,
   "metadata": {},
   "outputs": [],
   "source": [
    "tiene_family_tes = pd.read_csv(f\"{ruta_data}/features/tiene_family_test.csv\")\n",
    "\n",
    "test_limpio[\"tiene_family\"] = tiene_family_tes"
   ]
  },
  {
   "cell_type": "markdown",
   "metadata": {},
   "source": [
    "---"
   ]
  },
  {
   "cell_type": "markdown",
   "metadata": {},
   "source": [
    "### Corrida sin usar descripciones"
   ]
  },
  {
   "cell_type": "code",
   "execution_count": null,
   "metadata": {},
   "outputs": [],
   "source": [
    "X, y = train_limpio.drop([\"precio\"], axis=1),train_limpio[\"precio\"]"
   ]
  },
  {
   "cell_type": "code",
   "execution_count": null,
   "metadata": {},
   "outputs": [],
   "source": [
    "X_train, X_test, y_train, y_test = train_test_split(X, y, test_size=0.33, random_state=99)"
   ]
  },
  {
   "cell_type": "code",
   "execution_count": null,
   "metadata": {},
   "outputs": [],
   "source": [
    "y_train_l = np.log(y_train)\n",
    "d_train = lgb.Dataset(X_train, label= y_train_l)\n",
    "param = {\n",
    "'num_leaves': 200,\n",
    "\"learning_rate\": 0.03,\n",
    "\"num_iterations\": 4000,\n",
    "\"feature_fraction\":0.6\n",
    "}\n",
    "reg = lgb.train(param, d_train)\n",
    "pred = reg.predict(X_test)\n",
    "pred = np.exp(pred)"
   ]
  },
  {
   "cell_type": "code",
   "execution_count": null,
   "metadata": {},
   "outputs": [],
   "source": [
    "mean_absolute_error(y_test, pred)"
   ]
  },
  {
   "cell_type": "code",
   "execution_count": null,
   "metadata": {
    "scrolled": false
   },
   "outputs": [],
   "source": [
    "ver_dispersion(y_test, pred)"
   ]
  },
  {
   "cell_type": "markdown",
   "metadata": {},
   "source": [
    "---"
   ]
  },
  {
   "cell_type": "markdown",
   "metadata": {},
   "source": [
    "### Corrida usando las descripciones, asegurarse de tener los csv con las descripciones hasheadas, sino las tenes corre el notebook de _feature_hashing_descripciones_ reemplazando _cantidad_de_dimensiones_ por el valor que quieras"
   ]
  },
  {
   "cell_type": "code",
   "execution_count": 27,
   "metadata": {},
   "outputs": [],
   "source": [
    "n_dimensiones = 1000"
   ]
  },
  {
   "cell_type": "code",
   "execution_count": 28,
   "metadata": {},
   "outputs": [],
   "source": [
    "desc_train = pd.read_csv(f\"{ruta_data}/features/descr_vectorizadas_train_{n_dimensiones}d.csv\")"
   ]
  },
  {
   "cell_type": "code",
   "execution_count": 29,
   "metadata": {},
   "outputs": [],
   "source": [
    "desc_test = pd.read_csv(f\"{ruta_data}/features/descr_vectorizadas_test_{n_dimensiones}d.csv\")"
   ]
  },
  {
   "cell_type": "code",
   "execution_count": 53,
   "metadata": {},
   "outputs": [],
   "source": [
    "#desc_train = reduce_mem_usage(desc_train)"
   ]
  },
  {
   "cell_type": "code",
   "execution_count": 54,
   "metadata": {},
   "outputs": [],
   "source": [
    "#desc_test = reduce_mem_usage(desc_test)"
   ]
  },
  {
   "cell_type": "code",
   "execution_count": 30,
   "metadata": {},
   "outputs": [],
   "source": [
    "train_limpio = pd.concat([train_limpio, desc_train], axis=1)"
   ]
  },
  {
   "cell_type": "code",
   "execution_count": 31,
   "metadata": {},
   "outputs": [],
   "source": [
    "test_limpio = pd.concat([test_limpio, desc_test], axis=1)"
   ]
  },
  {
   "cell_type": "code",
   "execution_count": 32,
   "metadata": {},
   "outputs": [],
   "source": [
    "X, y = train_limpio.drop([\"precio\"], axis=1),train_limpio[\"precio\"]"
   ]
  },
  {
   "cell_type": "code",
   "execution_count": 33,
   "metadata": {},
   "outputs": [],
   "source": [
    "X_train, X_test, y_train, y_test = train_test_split(X, y, test_size=0.33, random_state=889)"
   ]
  },
  {
   "cell_type": "code",
   "execution_count": 49,
   "metadata": {},
   "outputs": [
    {
     "name": "stdout",
     "output_type": "stream",
     "text": [
      "Wall time: 6min 52s\n"
     ]
    }
   ],
   "source": [
    "%%time \n",
    "y_train_l = np.log(y_train)\n",
    "d_train = lgb.Dataset(X_train, label= y_train_l)\n",
    "param = {\n",
    "'num_leaves': 200,\n",
    "\"learning_rate\": 0.03,\n",
    "\"num_iterations\": 8000,\n",
    "\"feature_fraction\":0.6\n",
    "}\n",
    "reg = lgb.train(param, d_train)\n",
    "pred = reg.predict(X_test)\n",
    "pred = np.exp(pred)"
   ]
  },
  {
   "cell_type": "code",
   "execution_count": 50,
   "metadata": {},
   "outputs": [
    {
     "name": "stdout",
     "output_type": "stream",
     "text": [
      "Wall time: 20.5 s\n"
     ]
    }
   ],
   "source": [
    "%%time\n",
    "pred = reg.predict(X_test)\n",
    "pred = np.exp(pred)"
   ]
  },
  {
   "cell_type": "code",
   "execution_count": 51,
   "metadata": {},
   "outputs": [
    {
     "data": {
      "text/plain": [
       "505525.52213388984"
      ]
     },
     "execution_count": 51,
     "metadata": {},
     "output_type": "execute_result"
    }
   ],
   "source": [
    "mean_absolute_error(y_test, pred)"
   ]
  },
  {
   "cell_type": "code",
   "execution_count": null,
   "metadata": {},
   "outputs": [],
   "source": [
    "ver_dispersion(y_test, pred)"
   ]
  },
  {
   "cell_type": "markdown",
   "metadata": {},
   "source": [
    "### Para generar un submit"
   ]
  },
  {
   "cell_type": "code",
   "execution_count": 52,
   "metadata": {},
   "outputs": [
    {
     "name": "stderr",
     "output_type": "stream",
     "text": [
      "c:\\users\\dell\\appdata\\local\\programs\\python\\python37\\lib\\site-packages\\lightgbm\\engine.py:148: UserWarning: Found `num_iterations` in params. Will use it instead of argument\n",
      "  warnings.warn(\"Found `{}` in params. Will use it instead of argument\".format(alias))\n"
     ]
    }
   ],
   "source": [
    "y_l = np.log(y)\n",
    "d_train = lgb.Dataset(X, label= y_l)\n",
    "param = {\n",
    "'num_leaves': 200,\n",
    "\"learning_rate\": 0.03,\n",
    "\"num_iterations\": 8000,\n",
    "\"feature_fraction\":0.6\n",
    "}\n",
    "reg = lgb.train(param, d_train)"
   ]
  },
  {
   "cell_type": "code",
   "execution_count": 53,
   "metadata": {},
   "outputs": [],
   "source": [
    "pred_test = reg.predict(test_limpio)\n",
    "pred_test = np.exp(pred_test)"
   ]
  },
  {
   "cell_type": "code",
   "execution_count": 54,
   "metadata": {},
   "outputs": [],
   "source": [
    "ids_test = pd.read_csv(f\"{ruta_data}/ids_test.csv\")"
   ]
  },
  {
   "cell_type": "code",
   "execution_count": 55,
   "metadata": {},
   "outputs": [],
   "source": [
    "ids_test[\"target\"] = pred_test"
   ]
  },
  {
   "cell_type": "markdown",
   "metadata": {},
   "source": [
    "#### Ponele algun nombre al csv"
   ]
  },
  {
   "cell_type": "code",
   "execution_count": 56,
   "metadata": {},
   "outputs": [],
   "source": [
    "ids_test.to_csv(f\"{ruta_submits}/lgbm_1000_8000.csv\",index=False)"
   ]
  },
  {
   "cell_type": "code",
   "execution_count": null,
   "metadata": {},
   "outputs": [],
   "source": []
  }
 ],
 "metadata": {
  "kernelspec": {
   "display_name": "Python 3",
   "language": "python",
   "name": "python3"
  },
  "language_info": {
   "codemirror_mode": {
    "name": "ipython",
    "version": 3
   },
   "file_extension": ".py",
   "mimetype": "text/x-python",
   "name": "python",
   "nbconvert_exporter": "python",
   "pygments_lexer": "ipython3",
   "version": "3.7.4"
  }
 },
 "nbformat": 4,
 "nbformat_minor": 2
}
