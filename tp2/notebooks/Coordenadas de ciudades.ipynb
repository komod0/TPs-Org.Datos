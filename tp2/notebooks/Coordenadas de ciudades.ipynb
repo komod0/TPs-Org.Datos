{
 "cells": [
  {
   "cell_type": "code",
   "execution_count": 1,
   "metadata": {},
   "outputs": [],
   "source": [
    "import geocoder\n",
    "import pandas as pd\n",
    "from utilidades.spell_checking import obtener_correccion"
   ]
  },
  {
   "cell_type": "code",
   "execution_count": 2,
   "metadata": {},
   "outputs": [],
   "source": [
    "train = pd.read_csv(\"../data/train.csv\")"
   ]
  },
  {
   "cell_type": "code",
   "execution_count": 4,
   "metadata": {},
   "outputs": [],
   "source": [
    "test = pd.read_csv(\"../data/test.csv\")"
   ]
  },
  {
   "cell_type": "code",
   "execution_count": 6,
   "metadata": {},
   "outputs": [],
   "source": [
    "g = geocoder.geonames(\"Ciudad del maiz\", key='komod0', country=\"MX\", featureClass=\"P\")"
   ]
  },
  {
   "cell_type": "code",
   "execution_count": null,
   "metadata": {},
   "outputs": [],
   "source": [
    "g.json[\"raw\"][\"lat\"],g.json[\"raw\"][\"lng\"]"
   ]
  },
  {
   "cell_type": "code",
   "execution_count": 11,
   "metadata": {},
   "outputs": [],
   "source": [
    "ciudades_corregidas = {}\n",
    "\n",
    "for ciudad in train[\"ciudad\"].dropna().unique():\n",
    "    correccion = obtener_correccion(ciudad)\n",
    "    ciudades_corregidas[ciudad] = correccion"
   ]
  },
  {
   "cell_type": "code",
   "execution_count": 12,
   "metadata": {},
   "outputs": [],
   "source": [
    "ciudades_corregidas_t = {}\n",
    "\n",
    "for ciudad in test[\"ciudad\"].dropna().unique():\n",
    "    correccion = obtener_correccion(ciudad)\n",
    "    ciudades_corregidas_t[ciudad] = correccion"
   ]
  },
  {
   "cell_type": "code",
   "execution_count": 13,
   "metadata": {},
   "outputs": [
    {
     "name": "stderr",
     "output_type": "stream",
     "text": [
      "Status code Unknown from http://api.geonames.org/searchJSON: ERROR - HTTPConnectionPool(host='api.geonames.org', port=80): Read timed out. (read timeout=5.0)\n"
     ]
    }
   ],
   "source": [
    "latitudes = {}\n",
    "longitudes = {}\n",
    "\n",
    "for ciudad in ciudades_corregidas:\n",
    "    g = geocoder.geonames(ciudades_corregidas[ciudad], key='komod0', country=\"MX\", featureClass=\"P\")\n",
    "    if g.json is not None:\n",
    "        latitudes[ciudad] = g.json[\"raw\"][\"lat\"]\n",
    "        longitudes[ciudad] = g.json[\"raw\"][\"lng\"]\n",
    "    else:\n",
    "        latitudes[ciudad] = 0\n",
    "        longitudes[ciudad] = 0"
   ]
  },
  {
   "cell_type": "code",
   "execution_count": 14,
   "metadata": {},
   "outputs": [
    {
     "name": "stderr",
     "output_type": "stream",
     "text": [
      "Status code Unknown from http://api.geonames.org/searchJSON: ERROR - HTTPConnectionPool(host='api.geonames.org', port=80): Read timed out. (read timeout=5.0)\n"
     ]
    }
   ],
   "source": [
    "latitudes_t = {}\n",
    "longitudes_t = {}\n",
    "\n",
    "for ciudad in ciudades_corregidas_t:\n",
    "    g = geocoder.geonames(ciudades_corregidas_t[ciudad], key='komod0', country=\"MX\", featureClass=\"P\")\n",
    "    if g.json is not None:\n",
    "        latitudes_t[ciudad] = g.json[\"raw\"][\"lat\"]\n",
    "        longitudes_t[ciudad] = g.json[\"raw\"][\"lng\"]\n",
    "    else:\n",
    "        latitudes_t[ciudad] = 0\n",
    "        longitudes_t[ciudad] = 0"
   ]
  },
  {
   "cell_type": "code",
   "execution_count": 15,
   "metadata": {},
   "outputs": [],
   "source": [
    "a = {\"ciudad\": list(latitudes.keys()), \"latitud\": list(latitudes.values()), \"longitud\": list(longitudes.values())}\n",
    "df_coords = pd.DataFrame(a)"
   ]
  },
  {
   "cell_type": "code",
   "execution_count": 17,
   "metadata": {},
   "outputs": [],
   "source": [
    "a_t = {\"ciudad\": list(latitudes_t.keys()), \"latitud\": list(latitudes_t.values()), \"longitud\": list(longitudes_t.values())}\n",
    "df_coords_t = pd.DataFrame(a_t)"
   ]
  },
  {
   "cell_type": "code",
   "execution_count": 18,
   "metadata": {},
   "outputs": [
    {
     "data": {
      "text/html": [
       "<div>\n",
       "<style scoped>\n",
       "    .dataframe tbody tr th:only-of-type {\n",
       "        vertical-align: middle;\n",
       "    }\n",
       "\n",
       "    .dataframe tbody tr th {\n",
       "        vertical-align: top;\n",
       "    }\n",
       "\n",
       "    .dataframe thead th {\n",
       "        text-align: right;\n",
       "    }\n",
       "</style>\n",
       "<table border=\"1\" class=\"dataframe\">\n",
       "  <thead>\n",
       "    <tr style=\"text-align: right;\">\n",
       "      <th></th>\n",
       "      <th>ciudad</th>\n",
       "      <th>latitud</th>\n",
       "      <th>longitud</th>\n",
       "    </tr>\n",
       "  </thead>\n",
       "  <tbody>\n",
       "    <tr>\n",
       "      <th>227</th>\n",
       "      <td>Coatepec</td>\n",
       "      <td>0</td>\n",
       "      <td>0</td>\n",
       "    </tr>\n",
       "    <tr>\n",
       "      <th>499</th>\n",
       "      <td>Dr. Arroyo</td>\n",
       "      <td>0</td>\n",
       "      <td>0</td>\n",
       "    </tr>\n",
       "    <tr>\n",
       "      <th>720</th>\n",
       "      <td>Dr. González</td>\n",
       "      <td>0</td>\n",
       "      <td>0</td>\n",
       "    </tr>\n",
       "    <tr>\n",
       "      <th>866</th>\n",
       "      <td>Gral. Bravo</td>\n",
       "      <td>0</td>\n",
       "      <td>0</td>\n",
       "    </tr>\n",
       "  </tbody>\n",
       "</table>\n",
       "</div>"
      ],
      "text/plain": [
       "           ciudad latitud longitud\n",
       "227      Coatepec       0        0\n",
       "499    Dr. Arroyo       0        0\n",
       "720  Dr. González       0        0\n",
       "866   Gral. Bravo       0        0"
      ]
     },
     "execution_count": 18,
     "metadata": {},
     "output_type": "execute_result"
    }
   ],
   "source": [
    "df_coords[(df_coords[\"latitud\"] == 0 ) & (df_coords[\"longitud\"] == 0)]"
   ]
  },
  {
   "cell_type": "code",
   "execution_count": 22,
   "metadata": {},
   "outputs": [],
   "source": [
    "df_coords.loc[227, \"latitud\"] = 19.45229\n",
    "df_coords.loc[227, \"longitud\"] = -96.96148"
   ]
  },
  {
   "cell_type": "code",
   "execution_count": 23,
   "metadata": {},
   "outputs": [],
   "source": [
    "df_coords.loc[499, \"latitud\"] = 23.67211\n",
    "df_coords.loc[499, \"longitud\"] = -100.18134"
   ]
  },
  {
   "cell_type": "code",
   "execution_count": 24,
   "metadata": {},
   "outputs": [],
   "source": [
    "df_coords.loc[720, \"latitud\"] = 25.84081\n",
    "df_coords.loc[720, \"longitud\"] = -99.83125"
   ]
  },
  {
   "cell_type": "code",
   "execution_count": 25,
   "metadata": {},
   "outputs": [],
   "source": [
    "df_coords.loc[866, \"latitud\"] = 25.79239\n",
    "df_coords.loc[866, \"longitud\"] = -99.18147"
   ]
  },
  {
   "cell_type": "code",
   "execution_count": 19,
   "metadata": {},
   "outputs": [
    {
     "data": {
      "text/html": [
       "<div>\n",
       "<style scoped>\n",
       "    .dataframe tbody tr th:only-of-type {\n",
       "        vertical-align: middle;\n",
       "    }\n",
       "\n",
       "    .dataframe tbody tr th {\n",
       "        vertical-align: top;\n",
       "    }\n",
       "\n",
       "    .dataframe thead th {\n",
       "        text-align: right;\n",
       "    }\n",
       "</style>\n",
       "<table border=\"1\" class=\"dataframe\">\n",
       "  <thead>\n",
       "    <tr style=\"text-align: right;\">\n",
       "      <th></th>\n",
       "      <th>ciudad</th>\n",
       "      <th>latitud</th>\n",
       "      <th>longitud</th>\n",
       "    </tr>\n",
       "  </thead>\n",
       "  <tbody>\n",
       "    <tr>\n",
       "      <th>337</th>\n",
       "      <td>San Luis de la Paz</td>\n",
       "      <td>0</td>\n",
       "      <td>0</td>\n",
       "    </tr>\n",
       "    <tr>\n",
       "      <th>477</th>\n",
       "      <td>Dr. Arroyo</td>\n",
       "      <td>0</td>\n",
       "      <td>0</td>\n",
       "    </tr>\n",
       "  </tbody>\n",
       "</table>\n",
       "</div>"
      ],
      "text/plain": [
       "                 ciudad latitud longitud\n",
       "337  San Luis de la Paz       0        0\n",
       "477          Dr. Arroyo       0        0"
      ]
     },
     "execution_count": 19,
     "metadata": {},
     "output_type": "execute_result"
    }
   ],
   "source": [
    "df_coords_t[(df_coords_t[\"latitud\"] == 0 ) & (df_coords_t[\"longitud\"] == 0)]"
   ]
  },
  {
   "cell_type": "code",
   "execution_count": 29,
   "metadata": {},
   "outputs": [],
   "source": [
    "df_coords_t.loc[477, \"latitud\"] = 23.67211\n",
    "df_coords_t.loc[477, \"longitud\"] = -100.18134"
   ]
  },
  {
   "cell_type": "code",
   "execution_count": 30,
   "metadata": {},
   "outputs": [],
   "source": [
    "df_coords_t.loc[337, \"latitud\"] = 21.36295\n",
    "df_coords_t.loc[337, \"longitud\"] = -100.49726"
   ]
  },
  {
   "cell_type": "code",
   "execution_count": 34,
   "metadata": {},
   "outputs": [],
   "source": [
    "df_coords.to_csv(\"../data/coordenadas_de_cada_ciudad.csv\", index=False)"
   ]
  },
  {
   "cell_type": "code",
   "execution_count": 35,
   "metadata": {},
   "outputs": [],
   "source": [
    "df_coords_t.to_csv(\"../data/coordenadas_de_cada_ciudad_en_el_test.csv\", index=False)"
   ]
  },
  {
   "cell_type": "code",
   "execution_count": null,
   "metadata": {},
   "outputs": [],
   "source": []
  }
 ],
 "metadata": {
  "kernelspec": {
   "display_name": "Python 3",
   "language": "python",
   "name": "python3"
  },
  "language_info": {
   "codemirror_mode": {
    "name": "ipython",
    "version": 3
   },
   "file_extension": ".py",
   "mimetype": "text/x-python",
   "name": "python",
   "nbconvert_exporter": "python",
   "pygments_lexer": "ipython3",
   "version": "3.7.4"
  }
 },
 "nbformat": 4,
 "nbformat_minor": 2
}
