{
  "nbformat": 4,
  "nbformat_minor": 0,
  "metadata": {
    "colab": {
      "name": "Prueba Red Neuronal Keras Colab.ipynb",
      "provenance": [],
      "collapsed_sections": [],
      "machine_shape": "hm"
    },
    "kernelspec": {
      "name": "python3",
      "display_name": "Python 3"
    },
    "accelerator": "GPU"
  },
  "cells": [
    {
      "cell_type": "code",
      "metadata": {
        "id": "UfpVOpiL1U7r",
        "colab_type": "code",
        "outputId": "df35ae8b-19e6-4d80-95b0-beaeb66c8f29",
        "colab": {
          "base_uri": "https://localhost:8080/",
          "height": 64
        }
      },
      "source": [
        "import pandas as pd\n",
        "import numpy as np\n",
        "import string\n",
        "\n",
        "from sklearn.neural_network import MLPClassifier\n",
        "from sklearn.metrics import mean_absolute_error\n",
        "from sklearn.model_selection import train_test_split\n",
        "from sklearn.metrics import accuracy_score\n",
        "from sklearn.preprocessing import StandardScaler\n",
        "from sklearn.feature_extraction import FeatureHasher\n",
        "\n",
        "\n",
        "import os, re, math, json, shutil, pprint, datetime\n",
        "import PIL.Image, PIL.ImageFont, PIL.ImageDraw  # \"pip3 install Pillow\" or \"pip install Pillow\" if needed\n",
        "import numpy as np\n",
        "import tensorflow as tf\n",
        "from matplotlib import pyplot as plt\n",
        "from tensorflow.python.platform import tf_logging"
      ],
      "execution_count": 0,
      "outputs": [
        {
          "output_type": "display_data",
          "data": {
            "text/html": [
              "<p style=\"color: red;\">\n",
              "The default version of TensorFlow in Colab will soon switch to TensorFlow 2.x.<br>\n",
              "We recommend you <a href=\"https://www.tensorflow.org/guide/migrate\" target=\"_blank\">upgrade</a> now \n",
              "or ensure your notebook will continue to use TensorFlow 1.x via the <code>%tensorflow_version 1.x</code> magic:\n",
              "<a href=\"https://colab.research.google.com/notebooks/tensorflow_version.ipynb\" target=\"_blank\">more info</a>.</p>\n"
            ],
            "text/plain": [
              "<IPython.core.display.HTML object>"
            ]
          },
          "metadata": {
            "tags": []
          }
        }
      ]
    },
    {
      "cell_type": "code",
      "metadata": {
        "id": "cEBCQla-vYgq",
        "colab_type": "code",
        "colab": {}
      },
      "source": [
        "from google.colab import drive"
      ],
      "execution_count": 0,
      "outputs": []
    },
    {
      "cell_type": "code",
      "metadata": {
        "id": "PxBbg1i3vZdl",
        "colab_type": "code",
        "outputId": "c95e6330-548b-491a-dee6-7596c226550f",
        "colab": {
          "base_uri": "https://localhost:8080/",
          "height": 35
        }
      },
      "source": [
        "drive.mount('/content/drive')"
      ],
      "execution_count": 0,
      "outputs": [
        {
          "output_type": "stream",
          "text": [
            "Drive already mounted at /content/drive; to attempt to forcibly remount, call drive.mount(\"/content/drive\", force_remount=True).\n"
          ],
          "name": "stdout"
        }
      ]
    },
    {
      "cell_type": "code",
      "metadata": {
        "id": "1HHWIEw7vct9",
        "colab_type": "code",
        "outputId": "a81e33d2-ef45-4a65-f612-e13a2a0efa3e",
        "colab": {
          "base_uri": "https://localhost:8080/",
          "height": 89
        }
      },
      "source": [
        "!ls \"/content/drive/My Drive\""
      ],
      "execution_count": 0,
      "outputs": [
        {
          "output_type": "stream",
          "text": [
            " 20190703_191246.jpg\t\t   Facultad\t\t       train_limpio.csv\n",
            "'aTimeLogger backup'\t\t   Papers\t\t       train_nn.csv\n",
            "'Colab Notebooks'\t\t   Sinc\n",
            " descripciones_train_limpias.csv   titulos_train_limpios.csv\n"
          ],
          "name": "stdout"
        }
      ]
    },
    {
      "cell_type": "code",
      "metadata": {
        "id": "r7drJBm3vmr8",
        "colab_type": "code",
        "colab": {}
      },
      "source": [
        "train_limpio = pd.read_csv(\"/content/drive/My Drive/train_nn.csv\")"
      ],
      "execution_count": 0,
      "outputs": []
    },
    {
      "cell_type": "code",
      "metadata": {
        "id": "tFYVYFCw1TZo",
        "colab_type": "code",
        "colab": {}
      },
      "source": [
        "X, y = train_limpio.drop([\"precio\", \"cuantiles\"], axis=1),train_limpio[\"cuantiles\"]"
      ],
      "execution_count": 0,
      "outputs": []
    },
    {
      "cell_type": "code",
      "metadata": {
        "id": "XaYLXO1Or7YZ",
        "colab_type": "code",
        "colab": {}
      },
      "source": [
        "y_dum = pd.get_dummies(y)\n",
        "scaler = StandardScaler()\n",
        "X = pd.DataFrame(data=scaler.fit_transform(X), columns=X.columns)"
      ],
      "execution_count": 0,
      "outputs": []
    },
    {
      "cell_type": "code",
      "metadata": {
        "id": "ksZ_NHBn70q8",
        "colab_type": "code",
        "colab": {}
      },
      "source": [
        "X_train, X_test, y_train, y_test = train_test_split(X, y_dum, test_size=0.20, random_state=96969)"
      ],
      "execution_count": 0,
      "outputs": []
    },
    {
      "cell_type": "code",
      "metadata": {
        "id": "8dCDSGMZGzou",
        "colab_type": "code",
        "colab": {}
      },
      "source": [
        "for col in X.columns:\n",
        "  X[col] = X[col].astype(np.float32)"
      ],
      "execution_count": 0,
      "outputs": []
    },
    {
      "cell_type": "code",
      "metadata": {
        "id": "OARWnm7D1yAf",
        "colab_type": "code",
        "colab": {}
      },
      "source": [
        "def train_input_fn(X,y, batch_size=2048):\n",
        "    # Convert the inputs to a Dataset.\n",
        "    dataset = tf.data.Dataset.from_tensor_slices((X,y))\n",
        "# Shuffle, repeat, and batch the examples.\n",
        "    dataset = dataset.cache()\n",
        "    dataset = dataset.shuffle(1000, reshuffle_each_iteration=True)\n",
        "    dataset = dataset.repeat()\n",
        "    dataset = dataset.batch(batch_size, drop_remainder=True)\n",
        "# Return the dataset.\n",
        "    return dataset"
      ],
      "execution_count": 0,
      "outputs": []
    },
    {
      "cell_type": "code",
      "metadata": {
        "id": "u8voK7ksqNdK",
        "colab_type": "code",
        "colab": {}
      },
      "source": [
        ""
      ],
      "execution_count": 0,
      "outputs": []
    },
    {
      "cell_type": "code",
      "metadata": {
        "id": "OKjQ9vKd18WV",
        "colab_type": "code",
        "colab": {}
      },
      "source": [
        "datas = train_input_fn(X_train, y_train)"
      ],
      "execution_count": 0,
      "outputs": []
    },
    {
      "cell_type": "code",
      "metadata": {
        "id": "zeAKp6aS_5gD",
        "colab_type": "code",
        "outputId": "a494a243-5813-4458-f302-6e241038a60e",
        "colab": {
          "base_uri": "https://localhost:8080/",
          "height": 305
        }
      },
      "source": [
        "\"\"\"\n",
        "\tNote: This model can be whatever you want it to be.\n",
        "\tHere, I'm building a simple fully-connected network using \n",
        "\tour distributed training strategy. \n",
        "\tThis essentailly takes our model and makes it \n",
        "\tcompatible to train on a TPU.\n",
        "\t\"\"\"\n",
        "model = tf.keras.models.Sequential()\n",
        "model.add(tf.keras.layers.Dense(1012, input_shape=[1086,], activation='relu'))\n",
        "model.add(tf.keras.layers.Dropout(0.2))\n",
        "model.add(tf.keras.layers.Dense(500, activation='relu'))\n",
        "model.add(tf.keras.layers.Dense(50, activation='softmax'))\n",
        "\n",
        "# compiling the model using the RMSProp optimizer \n",
        "# and Sparse Categorical Crossentropy loss\n",
        "model.compile(\n",
        "\toptimizer=tf.train.AdamOptimizer(learning_rate=0.01, epsilon=0.001, beta2=0.9, use_locking=True),\n",
        "\tloss=tf.keras.losses.categorical_crossentropy,\n",
        "\tmetrics=['accuracy']\n",
        ")\n",
        "\n",
        "model.summary()"
      ],
      "execution_count": 0,
      "outputs": [
        {
          "output_type": "stream",
          "text": [
            "Model: \"sequential_5\"\n",
            "_________________________________________________________________\n",
            "Layer (type)                 Output Shape              Param #   \n",
            "=================================================================\n",
            "dense_15 (Dense)             (None, 1012)              1100044   \n",
            "_________________________________________________________________\n",
            "dropout_5 (Dropout)          (None, 1012)              0         \n",
            "_________________________________________________________________\n",
            "dense_16 (Dense)             (None, 500)               506500    \n",
            "_________________________________________________________________\n",
            "dense_17 (Dense)             (None, 50)                25050     \n",
            "=================================================================\n",
            "Total params: 1,631,594\n",
            "Trainable params: 1,631,594\n",
            "Non-trainable params: 0\n",
            "_________________________________________________________________\n"
          ],
          "name": "stdout"
        }
      ]
    },
    {
      "cell_type": "code",
      "metadata": {
        "id": "CXZSeup-JMH2",
        "colab_type": "code",
        "colab": {}
      },
      "source": [
        "model.fit(datas, epochs=100, steps_per_epoch=30)"
      ],
      "execution_count": 0,
      "outputs": []
    },
    {
      "cell_type": "code",
      "metadata": {
        "id": "saWqZvDKMYIk",
        "colab_type": "code",
        "colab": {}
      },
      "source": [
        "predictions = model.predict(X_test)"
      ],
      "execution_count": 0,
      "outputs": []
    },
    {
      "cell_type": "code",
      "metadata": {
        "id": "JogLgqy5cA7c",
        "colab_type": "code",
        "colab": {}
      },
      "source": [
        "preds = [np.argmax(predictions[i]) for i in range(len(predictions))]"
      ],
      "execution_count": 0,
      "outputs": []
    },
    {
      "cell_type": "code",
      "metadata": {
        "id": "A1mOwlPU4CjD",
        "colab_type": "code",
        "colab": {}
      },
      "source": [
        "pr = y_test.stack()"
      ],
      "execution_count": 0,
      "outputs": []
    },
    {
      "cell_type": "code",
      "metadata": {
        "id": "5X4_4DVAcXoO",
        "colab_type": "code",
        "outputId": "f59aff93-a068-451d-8940-f9f397d33f7f",
        "colab": {
          "base_uri": "https://localhost:8080/",
          "height": 35
        }
      },
      "source": [
        "accuracy_score(pd.Series(pd.Categorical(pr[pr!=0].index.get_level_values(1))), preds)"
      ],
      "execution_count": 0,
      "outputs": [
        {
          "output_type": "execute_result",
          "data": {
            "text/plain": [
              "0.08125"
            ]
          },
          "metadata": {
            "tags": []
          },
          "execution_count": 48
        }
      ]
    },
    {
      "cell_type": "code",
      "metadata": {
        "id": "PICkBTayk6HE",
        "colab_type": "code",
        "outputId": "b3840bdc-2135-4eca-8d6f-b4dfcb44cd2c",
        "colab": {
          "base_uri": "https://localhost:8080/",
          "height": 251
        }
      },
      "source": [
        "pd.Series(pd.Categorical(pr[pr!=0].index.get_level_values(1)))"
      ],
      "execution_count": 0,
      "outputs": [
        {
          "output_type": "execute_result",
          "data": {
            "text/plain": [
              "0        19\n",
              "1        34\n",
              "2        47\n",
              "3        46\n",
              "4        25\n",
              "         ..\n",
              "47995     4\n",
              "47996    37\n",
              "47997     8\n",
              "47998    19\n",
              "47999    34\n",
              "Length: 48000, dtype: category\n",
              "Categories (50, int64): [1, 2, 3, 4, ..., 47, 48, 49, 50]"
            ]
          },
          "metadata": {
            "tags": []
          },
          "execution_count": 49
        }
      ]
    },
    {
      "cell_type": "code",
      "metadata": {
        "id": "_4ejt-5IdBRz",
        "colab_type": "code",
        "outputId": "49ff9ebf-80eb-4afe-f71c-75242160bb9a",
        "colab": {
          "base_uri": "https://localhost:8080/",
          "height": 53
        }
      },
      "source": [
        "preds[:10], preds[-10:]"
      ],
      "execution_count": 0,
      "outputs": [
        {
          "output_type": "execute_result",
          "data": {
            "text/plain": [
              "([18, 33, 44, 47, 17, 24, 48, 49, 41, 43],\n",
              " [39, 36, 43, 17, 21, 16, 39, 11, 23, 31])"
            ]
          },
          "metadata": {
            "tags": []
          },
          "execution_count": 50
        }
      ]
    },
    {
      "cell_type": "code",
      "metadata": {
        "id": "_Jewz16Ak2W3",
        "colab_type": "code",
        "colab": {}
      },
      "source": [
        "desc_train = pd.read_csv(\"/content/drive/My Drive/descripciones_train_limpias.csv\")"
      ],
      "execution_count": 0,
      "outputs": []
    },
    {
      "cell_type": "code",
      "metadata": {
        "id": "mxhEy2ei1P6y",
        "colab_type": "code",
        "colab": {}
      },
      "source": [
        "desc_train = desc_train.fillna(\"\")"
      ],
      "execution_count": 0,
      "outputs": []
    },
    {
      "cell_type": "code",
      "metadata": {
        "id": "V7H1-XYZ5FFE",
        "colab_type": "code",
        "colab": {}
      },
      "source": [
        "hasher = FeatureHasher(n_features=1000, input_type='string', dtype=np.int8)"
      ],
      "execution_count": 0,
      "outputs": []
    },
    {
      "cell_type": "code",
      "metadata": {
        "id": "QMlqp9ux5Ikt",
        "colab_type": "code",
        "colab": {}
      },
      "source": [
        "vectorized_train = hasher.transform(desc.split() for desc in desc_train[\"descripcion\"])"
      ],
      "execution_count": 0,
      "outputs": []
    },
    {
      "cell_type": "code",
      "metadata": {
        "id": "hjxlfWqP5Ksc",
        "colab_type": "code",
        "colab": {}
      },
      "source": [
        "desc_df = pd.DataFrame(vectorized_train.todense(), columns=[f\"fh{n}\" for n in range(1000)])"
      ],
      "execution_count": 0,
      "outputs": []
    },
    {
      "cell_type": "code",
      "metadata": {
        "id": "i6GiYutG5NKQ",
        "colab_type": "code",
        "colab": {}
      },
      "source": [
        "train_desc = pd.concat([train_limpio, desc_df], axis=1)"
      ],
      "execution_count": 0,
      "outputs": []
    },
    {
      "cell_type": "code",
      "metadata": {
        "id": "Spcq7jk65qqG",
        "colab_type": "code",
        "colab": {}
      },
      "source": [
        "X, y = train_desc.drop([\"precio\", \"cuantiles\"], axis=1),train_desc[\"cuantiles\"]"
      ],
      "execution_count": 0,
      "outputs": []
    },
    {
      "cell_type": "code",
      "metadata": {
        "id": "KhsjRcFx52xI",
        "colab_type": "code",
        "colab": {}
      },
      "source": [
        "y_dum = pd.get_dummies(y)\n",
        "scaler = StandardScaler()\n",
        "X = pd.DataFrame(data=scaler.fit_transform(X), columns=X.columns)"
      ],
      "execution_count": 0,
      "outputs": []
    },
    {
      "cell_type": "code",
      "metadata": {
        "id": "cLbO-2yf5-Ao",
        "colab_type": "code",
        "colab": {}
      },
      "source": [
        "X_train, X_test, y_train, y_test = train_test_split(X, y_dum, test_size=0.20, random_state=96969)"
      ],
      "execution_count": 0,
      "outputs": []
    },
    {
      "cell_type": "code",
      "metadata": {
        "id": "yZholGjM6BtX",
        "colab_type": "code",
        "colab": {}
      },
      "source": [
        "datas = train_input_fn(X_train, y_train)"
      ],
      "execution_count": 0,
      "outputs": []
    },
    {
      "cell_type": "code",
      "metadata": {
        "id": "Chh0zvdS6VIl",
        "colab_type": "code",
        "colab": {}
      },
      "source": [
        ""
      ],
      "execution_count": 0,
      "outputs": []
    }
  ]
}