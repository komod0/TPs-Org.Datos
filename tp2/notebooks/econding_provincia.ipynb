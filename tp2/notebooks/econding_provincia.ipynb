{
 "cells": [
  {
   "cell_type": "code",
   "execution_count": 1,
   "metadata": {},
   "outputs": [],
   "source": [
    "import numpy as np\n",
    "import pandas as pd\n",
    "\n",
    "from IPython.display import clear_output"
   ]
  },
  {
   "cell_type": "code",
   "execution_count": 2,
   "metadata": {},
   "outputs": [],
   "source": [
    "train = pd.read_csv('../data/features/ciudad_prov_lat_lng_V2_train.csv', usecols=['provincia'])\n",
    "test = pd.read_csv('../data/features/ciudad_prov_lat_lng_V2_test.csv', usecols=['provincia'])"
   ]
  },
  {
   "cell_type": "code",
   "execution_count": 4,
   "metadata": {},
   "outputs": [],
   "source": [
    "import category_encoders as ce"
   ]
  },
  {
   "cell_type": "markdown",
   "metadata": {},
   "source": [
    "---\n",
    "---\n",
    "# Binary Encoding\n",
    "---\n",
    "---"
   ]
  },
  {
   "cell_type": "code",
   "execution_count": 5,
   "metadata": {},
   "outputs": [
    {
     "data": {
      "text/plain": [
       "BinaryEncoder(cols=None, drop_invariant=False, handle_missing='value',\n",
       "              handle_unknown='value', mapping=None, return_df=True, verbose=0)"
      ]
     },
     "execution_count": 5,
     "metadata": {},
     "output_type": "execute_result"
    }
   ],
   "source": [
    "# # Se juntan todos los tipos de propiedad\n",
    "# vector_provincia = train['provincia']\n",
    "# vector_provincia = vector_provincia.append(test['provincia'])\n",
    "# # Se instancia el encoder\n",
    "# BI_encoder = ce.BinaryEncoder()\n",
    "# # Se entrena el encoder\n",
    "# BI_encoder.fit(vector_provincia)"
   ]
  },
  {
   "cell_type": "code",
   "execution_count": 6,
   "metadata": {},
   "outputs": [],
   "source": [
    "# # Se pasa a categóricos.\n",
    "# train = train.astype('category')\n",
    "# test = test.astype('category')"
   ]
  },
  {
   "cell_type": "code",
   "execution_count": 7,
   "metadata": {},
   "outputs": [],
   "source": [
    "# df_train = BI_encoder.transform(train['provincia'])\n",
    "# df_test = BI_encoder.transform(test['provincia'])"
   ]
  },
  {
   "cell_type": "code",
   "execution_count": 8,
   "metadata": {},
   "outputs": [],
   "source": [
    "# df_train.to_csv('../features/ftr_provincia_be_train.csv', index=False)\n",
    "# df_test.to_csv('../features/ftr_provincia_be_test.csv', index=False)"
   ]
  },
  {
   "cell_type": "markdown",
   "metadata": {},
   "source": [
    "---\n",
    "---\n",
    "# One Hot Encoding\n",
    "---\n",
    "---"
   ]
  },
  {
   "cell_type": "code",
   "execution_count": 9,
   "metadata": {},
   "outputs": [
    {
     "data": {
      "text/plain": [
       "OneHotEncoder(cols=['provincia'], drop_invariant=False, handle_missing='value',\n",
       "              handle_unknown='value', return_df=True, use_cat_names=False,\n",
       "              verbose=0)"
      ]
     },
     "execution_count": 9,
     "metadata": {},
     "output_type": "execute_result"
    }
   ],
   "source": [
    "# Se instancia el encoder\n",
    "OH_encoder = ce.OneHotEncoder()\n",
    "# Se entrena el encoder\n",
    "OH_encoder.fit(vector_provincia)"
   ]
  },
  {
   "cell_type": "code",
   "execution_count": 10,
   "metadata": {},
   "outputs": [],
   "source": [
    "df_train2 = OH_encoder.transform(train['provincia'])\n",
    "df_test2 = OH_encoder.transform(test['provincia'])"
   ]
  },
  {
   "cell_type": "code",
   "execution_count": 11,
   "metadata": {},
   "outputs": [],
   "source": [
    "df_train2.to_csv('../data/features/ftr_provincia_ohe_V2_train.csv', index=False)\n",
    "df_test2.to_csv('../data/features/ftr_provincia_ohe_V2_test.csv', index=False)"
   ]
  },
  {
   "cell_type": "markdown",
   "metadata": {},
   "source": [
    "---\n",
    "---\n",
    "# Label Encoding\n",
    "---\n",
    "---"
   ]
  },
  {
   "cell_type": "code",
   "execution_count": 12,
   "metadata": {},
   "outputs": [],
   "source": [
    "# from sklearn.preprocessing import LabelEncoder"
   ]
  },
  {
   "cell_type": "code",
   "execution_count": 13,
   "metadata": {},
   "outputs": [
    {
     "data": {
      "text/plain": [
       "LabelEncoder()"
      ]
     },
     "execution_count": 13,
     "metadata": {},
     "output_type": "execute_result"
    }
   ],
   "source": [
    "# # Se instancia el encoder\n",
    "# LE_encoder = LabelEncoder()\n",
    "# # Se entrena el encoder\n",
    "# LE_encoder.fit(vector_provincia)"
   ]
  },
  {
   "cell_type": "code",
   "execution_count": 14,
   "metadata": {},
   "outputs": [],
   "source": [
    "# df_train3 = LE_encoder.transform(train['provincia'])\n",
    "# df_test3 = LE_encoder.transform(test['provincia'])"
   ]
  },
  {
   "cell_type": "code",
   "execution_count": 15,
   "metadata": {},
   "outputs": [],
   "source": [
    "# df_train3 = pd.DataFrame(data=df_train3, columns=['provincia_LE'])\n",
    "# df_test3 = pd.DataFrame(data=df_test3, columns=['provincia_LE'])"
   ]
  },
  {
   "cell_type": "code",
   "execution_count": 16,
   "metadata": {},
   "outputs": [],
   "source": [
    "# df_train3.to_csv('../data/features/ftr_provincia_le_train.csv', index=False)\n",
    "# df_test3.to_csv('../data/features/ftr_provincia_le_test.csv', index=False)"
   ]
  }
 ],
 "metadata": {
  "kernelspec": {
   "display_name": "Python 3",
   "language": "python",
   "name": "python3"
  },
  "language_info": {
   "codemirror_mode": {
    "name": "ipython",
    "version": 3
   },
   "file_extension": ".py",
   "mimetype": "text/x-python",
   "name": "python",
   "nbconvert_exporter": "python",
   "pygments_lexer": "ipython3",
   "version": "3.7.5"
  }
 },
 "nbformat": 4,
 "nbformat_minor": 2
}
