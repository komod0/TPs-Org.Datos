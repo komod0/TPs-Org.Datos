{
 "cells": [
  {
   "cell_type": "code",
   "execution_count": 1,
   "metadata": {},
   "outputs": [],
   "source": [
    "import lightgbm as lgb\n",
    "import numpy as np\n",
    "import pandas as pd\n",
    "#import shap\n",
    "import string\n",
    "import matplotlib.pyplot as plt\n",
    "import seaborn as sns\n",
    "import random\n",
    "\n",
    "from sklearn.metrics import mean_absolute_error\n",
    "from sklearn.model_selection import train_test_split\n",
    "from sklearn.preprocessing import PowerTransformer\n",
    "from sklearn.preprocessing import LabelEncoder\n",
    "from scipy import stats\n",
    "from scipy.special import inv_boxcox\n",
    "from scipy.stats import randint as sp_randint\n",
    "from scipy.stats import uniform as sp_uniform\n",
    "from sklearn.model_selection import (cross_val_score, train_test_split, \n",
    "                                     GridSearchCV, RandomizedSearchCV)\n",
    "\n",
    "\n",
    "from utilidades.graficar import ver_dispersion\n",
    "from utilidades.reducir_uso_memoria import reduce_mem_usage"
   ]
  },
  {
   "cell_type": "code",
   "execution_count": 2,
   "metadata": {},
   "outputs": [],
   "source": [
    "pd.set_option('display.max_columns', None)  \n",
    "pd.set_option('display.expand_frame_repr', False)\n",
    "pd.set_option('max_colwidth', -1)"
   ]
  },
  {
   "cell_type": "code",
   "execution_count": 3,
   "metadata": {},
   "outputs": [],
   "source": [
    "ruta_data = \"../data\"\n",
    "ruta_train = ruta_data + \"/train.csv\"\n",
    "ruta_test = ruta_data + \"/test.csv\"\n",
    "ruta_submits = \"../submits\"\n",
    "ruta_features = ruta_data + \"/features/\""
   ]
  },
  {
   "cell_type": "code",
   "execution_count": 4,
   "metadata": {},
   "outputs": [],
   "source": [
    "def to_ascii(s):\n",
    "    car_ascii = set(string.printable)\n",
    "    return \"\".join([a for a in s if a in car_ascii])\n",
    "\n",
    "train_limpio = reduce_mem_usage(pd.read_csv(f\"{ruta_data}/train_limpio.csv\"))\n",
    "test_limpio = reduce_mem_usage(pd.read_csv(f\"{ruta_data}/test_limpio.csv\"))\n",
    "\n",
    "train_limpio = train_limpio.drop([\"dia\"], axis=1)\n",
    "test_limpio = test_limpio.drop([\"dia\"], axis=1)\n",
    "\n",
    "poblacion_train = pd.read_csv(f\"{ruta_data}/features/ftr_poblacion_train.csv\")\n",
    "poblacion_test = pd.read_csv(f\"{ruta_data}/features/ftr_poblacion_test.csv\")\n",
    "\n",
    "train_limpio[\"poblacion\"] = poblacion_train\n",
    "test_limpio[\"poblacion\"] = poblacion_test\n",
    "\n",
    "train_limpio = train_limpio.rename(columns={col: to_ascii(col) for col in train_limpio.columns})\n",
    "test_limpio = test_limpio.rename(columns={col: to_ascii(col) for col in test_limpio.columns})\n",
    "\n",
    "id_zona_train = pd.read_csv(f\"{ruta_data}/id_zona_train.csv\")\n",
    "id_zona_test = pd.read_csv(f\"{ruta_data}/id_zona_test.csv\")\n",
    "\n",
    "train_limpio[\"idzona\"] = id_zona_train[\"idzona\"]\n",
    "test_limpio[\"idzona\"] = id_zona_test[\"idzona\"]"
   ]
  },
  {
   "cell_type": "code",
   "execution_count": 5,
   "metadata": {},
   "outputs": [],
   "source": [
    "tiene_terraza = pd.read_csv(f\"{ruta_data}/features/tiene_terraza_train.csv\")\n",
    "\n",
    "train_limpio[\"tiene_terraza\"] = tiene_terraza\n",
    "\n",
    "tiene_terraza_tes = pd.read_csv(f\"{ruta_data}/features/tiene_terraza_test.csv\")\n",
    "\n",
    "test_limpio[\"tiene_terraza\"] = tiene_terraza_tes\n",
    "\n",
    "tiene_jardin = pd.read_csv(f\"{ruta_data}/features/tiene_jardin_train.csv\")\n",
    "\n",
    "train_limpio[\"tiene_jardin\"] = tiene_jardin\n",
    "\n",
    "tiene_jardin_tes = pd.read_csv(f\"{ruta_data}/features/tiene_jardin_test.csv\")\n",
    "\n",
    "test_limpio[\"tiene_jardin\"] = tiene_jardin_tes\n",
    "\n",
    "tiene_servicio = pd.read_csv(f\"{ruta_data}/features/tiene_servicio_train.csv\")\n",
    "\n",
    "train_limpio[\"tiene_servicio\"] = tiene_servicio\n",
    "\n",
    "tiene_servicio_tes = pd.read_csv(f\"{ruta_data}/features/tiene_servicio_test.csv\")\n",
    "\n",
    "test_limpio[\"tiene_servicio\"] = tiene_servicio_tes\n",
    "\n",
    "tiene_vestidor = pd.read_csv(f\"{ruta_data}/features/tiene_vestidor_train.csv\")\n",
    "\n",
    "train_limpio[\"tiene_vestidor\"] = tiene_vestidor\n",
    "\n",
    "tiene_vestidor_tes = pd.read_csv(f\"{ruta_data}/features/tiene_vestidor_test.csv\")\n",
    "\n",
    "test_limpio[\"tiene_vestidor\"] = tiene_vestidor_tes\n",
    "\n",
    "tiene_vista = pd.read_csv(f\"{ruta_data}/features/tiene_vista_train.csv\")\n",
    "\n",
    "train_limpio[\"tiene_vista\"] = tiene_vista\n",
    "\n",
    "tiene_vista_tes = pd.read_csv(f\"{ruta_data}/features/tiene_vista_test.csv\")\n",
    "\n",
    "test_limpio[\"tiene_vista\"] = tiene_vista_tes\n",
    "\n",
    "tiene_salon = pd.read_csv(f\"{ruta_data}/features/tiene_salon_train.csv\")\n",
    "\n",
    "train_limpio[\"tiene_salon\"] = tiene_salon\n",
    "\n",
    "tiene_salon_tes = pd.read_csv(f\"{ruta_data}/features/tiene_salon_test.csv\")\n",
    "\n",
    "test_limpio[\"tiene_salon\"] = tiene_salon_tes\n",
    "\n",
    "tiene_cuarto = pd.read_csv(f\"{ruta_data}/features/tiene_cuarto_train.csv\")\n",
    "\n",
    "train_limpio[\"tiene_cuarto\"] = tiene_cuarto\n",
    "\n",
    "tiene_cuarto_tes = pd.read_csv(f\"{ruta_data}/features/tiene_cuarto_test.csv\")\n",
    "\n",
    "test_limpio[\"tiene_cuarto\"] = tiene_cuarto_tes\n",
    "\n",
    "tiene_family = pd.read_csv(f\"{ruta_data}/features/tiene_family_train.csv\")\n",
    "\n",
    "train_limpio[\"tiene_family\"] = tiene_family\n",
    "\n",
    "tiene_family_tes = pd.read_csv(f\"{ruta_data}/features/tiene_family_test.csv\")\n",
    "\n",
    "test_limpio[\"tiene_family\"] = tiene_family_tes\n",
    "\n",
    "tiene_bosque = pd.read_csv(f\"{ruta_data}/features/tiene_bosque_dir_train.csv\")\n",
    "\n",
    "train_limpio[\"bosque_dir\"] = tiene_bosque\n",
    "\n",
    "tiene_bosque_tes = pd.read_csv(f\"{ruta_data}/features/tiene_bosque_dir_test.csv\")\n",
    "\n",
    "test_limpio[\"bosque_dir\"] = tiene_bosque_tes\n",
    "\n",
    "tiene_avenida = pd.read_csv(f\"{ruta_data}/features/tiene_avenida_dir_train.csv\")\n",
    "\n",
    "train_limpio[\"avenida_dir\"] = tiene_avenida\n",
    "\n",
    "tiene_avenida_tes = pd.read_csv(f\"{ruta_data}/features/tiene_avenida_dir_test.csv\")\n",
    "\n",
    "test_limpio[\"avenida_dir\"] = tiene_avenida_tes\n",
    "\n",
    "tiene_fuente = pd.read_csv(f\"{ruta_data}/features/tiene_fuente_dir_train.csv\")\n",
    "\n",
    "train_limpio[\"fuente_dir\"] = tiene_fuente\n",
    "\n",
    "tiene_fuente_tes = pd.read_csv(f\"{ruta_data}/features/tiene_fuente_dir_test.csv\")\n",
    "\n",
    "test_limpio[\"fuente_dir\"] = tiene_fuente_tes\n",
    "\n",
    "#Empeoro\n",
    "\n",
    "# tiene_vis = pd.read_csv(f\"{ruta_data}/features/tiene_vista_dir_train.csv\")\n",
    "\n",
    "# train_limpio[\"vis_dir\"] = tiene_vis\n",
    "\n",
    "tiene_golf = pd.read_csv(f\"{ruta_data}/features/tiene_golf_dir_train.csv\")\n",
    "\n",
    "train_limpio[\"golf_dir\"] = tiene_golf\n",
    "\n",
    "tiene_golf_tes = pd.read_csv(f\"{ruta_data}/features/tiene_golf_dir_test.csv\")\n",
    "\n",
    "test_limpio[\"golf_dir\"] = tiene_golf_tes"
   ]
  },
  {
   "cell_type": "code",
   "execution_count": 6,
   "metadata": {},
   "outputs": [],
   "source": [
    "tiene_hectarea = pd.read_csv(f\"{ruta_data}/features/tiene_hectarea_train.csv\")\n",
    "\n",
    "train_limpio[\"tiene_hectarea\"] = tiene_hectarea\n",
    "\n",
    "tiene_hectarea_tes = pd.read_csv(f\"{ruta_data}/features/tiene_hectarea_test.csv\")\n",
    "\n",
    "test_limpio[\"tiene_hectarea\"] = tiene_hectarea_tes\n",
    "\n",
    "tiene_torre = pd.read_csv(f\"{ruta_data}/features/tiene_torre_train.csv\")\n",
    "\n",
    "train_limpio[\"tiene_torre\"] = tiene_torre\n",
    "\n",
    "tiene_torre_tes = pd.read_csv(f\"{ruta_data}/features/tiene_torre_test.csv\")\n",
    "\n",
    "test_limpio[\"tiene_torre\"] = tiene_torre_tes"
   ]
  },
  {
   "cell_type": "code",
   "execution_count": 7,
   "metadata": {},
   "outputs": [],
   "source": [
    "score_tf_train = pd.read_csv(f\"{ruta_data}/features/scores_tfidf_train.csv\")\n",
    "\n",
    "train_limpio[\"score_tfidf\"] = score_tf_train"
   ]
  },
  {
   "cell_type": "code",
   "execution_count": 8,
   "metadata": {},
   "outputs": [],
   "source": [
    "score_tf_test = pd.read_csv(f\"{ruta_data}/features/scores_tfidf_test.csv\")\n",
    "\n",
    "test_limpio[\"score_tfidf\"] = score_tf_test"
   ]
  },
  {
   "cell_type": "code",
   "execution_count": 9,
   "metadata": {},
   "outputs": [],
   "source": [
    "train = pd.read_csv(f\"{ruta_data}/train.csv\", usecols=[\"habitaciones\",\"provincia\", \"tipodepropiedad\", \"ciudad\", \"banos\", \"metrostotales\", \"metroscubiertos\", \"lat\", \"lng\", \"garages\", \"antiguedad\", \"idzona\"])"
   ]
  },
  {
   "cell_type": "code",
   "execution_count": 10,
   "metadata": {},
   "outputs": [],
   "source": [
    "test = pd.read_csv(f\"{ruta_data}/test.csv\", usecols=[\"habitaciones\",\"provincia\", \"tipodepropiedad\", \"ciudad\", \"banos\", \"metrostotales\", \"metroscubiertos\", \"lat\", \"lng\",  \"garages\", \"antiguedad\", \"idzona\"])"
   ]
  },
  {
   "cell_type": "code",
   "execution_count": 11,
   "metadata": {},
   "outputs": [],
   "source": [
    "train_limpio[\"habitaciones\"] = train[\"habitaciones\"]\n",
    "train_limpio[\"banos\"] = train[\"banos\"]\n",
    "\n",
    "train_limpio[\"metroscubiertos\"] = train[\"metroscubiertos\"]\n",
    "train_limpio[\"metrostotales\"] = train[\"metrostotales\"]\n",
    "\n",
    "train_limpio[\"lat\"] = train[\"lat\"]\n",
    "train_limpio[\"lng\"] = train[\"lng\"]\n",
    "\n",
    "train_limpio[\"garages\"] = train[\"garages\"]\n",
    "train_limpio[\"antiguedad\"] = train[\"antiguedad\"]\n",
    "train_limpio[\"idzona\"] = train[\"idzona\"]\n",
    "train_limpio[\"idzona\"] = train_limpio[\"idzona\"].fillna(0)"
   ]
  },
  {
   "cell_type": "code",
   "execution_count": 12,
   "metadata": {},
   "outputs": [],
   "source": [
    "test_limpio[\"habitaciones\"] = test[\"habitaciones\"]\n",
    "test_limpio[\"banos\"] = test[\"banos\"]\n",
    "\n",
    "test_limpio[\"metroscubiertos\"] = test[\"metroscubiertos\"]\n",
    "test_limpio[\"metrostotales\"] = test[\"metrostotales\"]\n",
    "\n",
    "test_limpio[\"lat\"] = test[\"lat\"]\n",
    "test_limpio[\"lng\"] = test[\"lng\"]\n",
    "\n",
    "test_limpio[\"garages\"] = test[\"garages\"]\n",
    "test_limpio[\"antiguedad\"] = test[\"antiguedad\"]\n",
    "test_limpio[\"idzona\"] = test[\"idzona\"]\n",
    "test_limpio[\"idzona\"] = test_limpio[\"idzona\"].fillna(0)"
   ]
  },
  {
   "cell_type": "code",
   "execution_count": 13,
   "metadata": {},
   "outputs": [],
   "source": [
    "train_limpio[\"suma_metros\"] = train_limpio[\"metrostotales\"] + train_limpio[\"metroscubiertos\"]\n",
    "train_limpio[\"suma_metros\"] = train_limpio[\"suma_metros\"].fillna(train_limpio[\"metroscubiertos\"])"
   ]
  },
  {
   "cell_type": "code",
   "execution_count": 14,
   "metadata": {},
   "outputs": [],
   "source": [
    "test_limpio[\"suma_metros\"] = test_limpio[\"metrostotales\"] + test_limpio[\"metroscubiertos\"]\n",
    "test_limpio[\"suma_metros\"] = test_limpio[\"suma_metros\"].fillna(test_limpio[\"metroscubiertos\"])"
   ]
  },
  {
   "cell_type": "code",
   "execution_count": 15,
   "metadata": {},
   "outputs": [],
   "source": [
    "train_limpio = train_limpio.drop([ftr for ftr in train_limpio.columns if ftr.startswith(\"tipodepropiedad\")], axis=1)\n",
    "train_limpio = train_limpio.drop([ftr for ftr in train_limpio.columns if ftr.startswith(\"provincia\")], axis=1)\n",
    "\n",
    "train_limpio[\"provincia\"] = train[\"provincia\"]\n",
    "train_limpio[\"tipodepropiedad\"] = train[\"tipodepropiedad\"]\n",
    "train_limpio[\"ciudad\"] = train[\"ciudad\"]\n",
    "\n",
    "train_limpio[\"provincia\"] = train_limpio[\"provincia\"].fillna(train_limpio[\"provincia\"].mode()[0])\n",
    "train_limpio[\"tipodepropiedad\"] = train_limpio[\"tipodepropiedad\"].fillna(train_limpio[\"tipodepropiedad\"].mode()[0])\n",
    "train_limpio[\"ciudad\"] = train_limpio.groupby(\"provincia\")[\"ciudad\"].apply(lambda x: x.fillna(x.mode()))\n",
    "train_limpio[\"ciudad\"] = train_limpio[\"ciudad\"].fillna(train_limpio[\"ciudad\"].mode()[0])"
   ]
  },
  {
   "cell_type": "code",
   "execution_count": 16,
   "metadata": {},
   "outputs": [],
   "source": [
    "test_limpio = test_limpio.drop([ftr for ftr in test_limpio.columns if ftr.startswith(\"tipodepropiedad\")], axis=1)\n",
    "test_limpio = test_limpio.drop([ftr for ftr in test_limpio.columns if ftr.startswith(\"provincia\")], axis=1)\n",
    "\n",
    "test_limpio[\"provincia\"] = test[\"provincia\"]\n",
    "test_limpio[\"tipodepropiedad\"] = test[\"tipodepropiedad\"]\n",
    "test_limpio[\"ciudad\"] = test[\"ciudad\"]\n",
    "\n",
    "test_limpio[\"provincia\"] = test_limpio[\"provincia\"].fillna(test_limpio[\"provincia\"].mode()[0])\n",
    "test_limpio[\"tipodepropiedad\"] = test_limpio[\"tipodepropiedad\"].fillna(test_limpio[\"tipodepropiedad\"].mode()[0])\n",
    "test_limpio[\"ciudad\"] = test_limpio.groupby(\"provincia\")[\"ciudad\"].apply(lambda x: x.fillna(x.mode()))\n",
    "test_limpio[\"ciudad\"] = test_limpio[\"ciudad\"].fillna(test_limpio[\"ciudad\"].mode()[0])"
   ]
  },
  {
   "cell_type": "code",
   "execution_count": 17,
   "metadata": {},
   "outputs": [],
   "source": [
    "def encontrar_ciudad_parecida(ciudad):\n",
    "    poblacion = test_limpio[test_limpio[\"ciudad\"]==ciudad].iloc[0][\"poblacion\"]\n",
    "    return list(train_limpio[(train_limpio[\"poblacion\"]<poblacion+1000) & (train_limpio[\"poblacion\"]>poblacion-1000)][\"ciudad\"])[0]"
   ]
  },
  {
   "cell_type": "code",
   "execution_count": 18,
   "metadata": {},
   "outputs": [],
   "source": [
    "for ciu in test_limpio[\"ciudad\"].unique():\n",
    "    if ciu not in train_limpio[\"ciudad\"].unique():\n",
    "        test_limpio.loc[test_limpio[\"ciudad\"]==ciu, \"ciudad\"] = encontrar_ciudad_parecida(ciu)"
   ]
  },
  {
   "cell_type": "code",
   "execution_count": 19,
   "metadata": {},
   "outputs": [
    {
     "data": {
      "text/plain": [
       "'for ciu in test_limpio[\"ciudad\"].unique():\\n    if ciu not in train_limpio[\"ciudad\"].unique():\\n        print(ciu)'"
      ]
     },
     "execution_count": 19,
     "metadata": {},
     "output_type": "execute_result"
    }
   ],
   "source": [
    "\"\"\"for ciu in test_limpio[\"ciudad\"].unique():\n",
    "    if ciu not in train_limpio[\"ciudad\"].unique():\n",
    "        print(ciu)\"\"\""
   ]
  },
  {
   "cell_type": "code",
   "execution_count": 20,
   "metadata": {},
   "outputs": [],
   "source": [
    "le_c = LabelEncoder()\n",
    "le_p = LabelEncoder()\n",
    "le_t = LabelEncoder()\n",
    "le_i = LabelEncoder()"
   ]
  },
  {
   "cell_type": "code",
   "execution_count": 21,
   "metadata": {},
   "outputs": [
    {
     "data": {
      "text/plain": [
       "LabelEncoder()"
      ]
     },
     "execution_count": 21,
     "metadata": {},
     "output_type": "execute_result"
    }
   ],
   "source": [
    "le_p.fit(train_limpio[\"provincia\"])\n",
    "le_t.fit(train_limpio[\"tipodepropiedad\"])\n",
    "le_c.fit(train_limpio[\"ciudad\"])\n",
    "# le_i.fit(train_limpio[\"idzona\"])\n",
    "le_i.fit(pd.concat([test_limpio[\"idzona\"],train_limpio[\"idzona\"]]))"
   ]
  },
  {
   "cell_type": "code",
   "execution_count": 22,
   "metadata": {},
   "outputs": [],
   "source": [
    "train_limpio[\"provincia\"] = le_p.transform(train_limpio[\"provincia\"])\n",
    "train_limpio[\"tipodepropiedad\"] = le_t.transform(train_limpio[\"tipodepropiedad\"])\n",
    "train_limpio[\"ciudad\"] = le_c.transform(train_limpio[\"ciudad\"])\n",
    "train_limpio[\"idzona\"] = le_i.transform(train_limpio[\"idzona\"])"
   ]
  },
  {
   "cell_type": "code",
   "execution_count": 23,
   "metadata": {},
   "outputs": [],
   "source": [
    "test_limpio[\"provincia\"] = le_p.transform(test_limpio[\"provincia\"])\n",
    "test_limpio[\"tipodepropiedad\"] = le_t.transform(test_limpio[\"tipodepropiedad\"])\n",
    "test_limpio[\"ciudad\"] = le_c.transform(test_limpio[\"ciudad\"])\n",
    "test_limpio[\"idzona\"] = le_i.transform(test_limpio[\"idzona\"])"
   ]
  },
  {
   "cell_type": "code",
   "execution_count": 24,
   "metadata": {},
   "outputs": [
    {
     "data": {
      "text/plain": [
       "(240000, 37)"
      ]
     },
     "execution_count": 24,
     "metadata": {},
     "output_type": "execute_result"
    }
   ],
   "source": [
    "train_limpio.shape"
   ]
  },
  {
   "cell_type": "code",
   "execution_count": 25,
   "metadata": {},
   "outputs": [
    {
     "data": {
      "text/plain": [
       "(60000, 36)"
      ]
     },
     "execution_count": 25,
     "metadata": {},
     "output_type": "execute_result"
    }
   ],
   "source": [
    "test_limpio.shape"
   ]
  },
  {
   "cell_type": "code",
   "execution_count": 26,
   "metadata": {},
   "outputs": [
    {
     "data": {
      "text/plain": [
       "'X, y = train_limpio.drop([\"precio\"], axis=1),train_limpio[\"precio\"]\\n\\nX_train, X_test, y_train, y_test = train_test_split(X, y, test_size=0.20, random_state=96969)\\n\\n%%time\\nd_train = lgb.Dataset(X_train, label= y_train, categorical_feature=[\"provincia\",\\n                                                                    \"tipodepropiedad\",\\n                                                                    \"ciudad\",\\n                                                                    \"tiene_terraza\",\\n                                                                    \"tiene_jardin\",\\n                                                                    \"tiene_servicio\",\\n                                                                    \"tiene_vestidor\",\\n                                                                    \"tiene_vista\",\\n                                                                    \"tiene_salon\",\\n                                                                    \"tiene_cuarto\",\\n                                                                    \"tiene_family\",\\n                                                                    \"bosque_dir\",\\n                                                                    \"avenida_dir\",\\n                                                                    \"fuente_dir\",\\n                                                                    \"golf_dir\",\\n                                                                    \"tiene_hectarea\",\\n                                                                    \"tiene_torre\",\\n                                                                    \"idzona\"])\\n\\nparams = {\"feature_fraction\":0.5959853966635414,\\n          \"lambda_l1\":80.82894063964651,\\n          \"learning_rate\": 0.07141681335686303, #0.05141681335686303\\n          \"max_bin\":1000,\\n          \"min_data_in_leaf\":20,\\n          \"num_iterations\":2000,\\n          \"num_leaves\":250,\\n          \"reg_sqrt\":True,\\n          \"n_jobs\":-1\\n}\\n\\nreg = lgb.train(params,d_train)\\npred = reg.predict(X_test)'"
      ]
     },
     "execution_count": 26,
     "metadata": {},
     "output_type": "execute_result"
    }
   ],
   "source": [
    "\"\"\"X, y = train_limpio.drop([\"precio\"], axis=1),train_limpio[\"precio\"]\n",
    "\n",
    "X_train, X_test, y_train, y_test = train_test_split(X, y, test_size=0.20, random_state=96969)\n",
    "\n",
    "%%time\n",
    "d_train = lgb.Dataset(X_train, label= y_train, categorical_feature=[\"provincia\",\n",
    "                                                                    \"tipodepropiedad\",\n",
    "                                                                    \"ciudad\",\n",
    "                                                                    \"tiene_terraza\",\n",
    "                                                                    \"tiene_jardin\",\n",
    "                                                                    \"tiene_servicio\",\n",
    "                                                                    \"tiene_vestidor\",\n",
    "                                                                    \"tiene_vista\",\n",
    "                                                                    \"tiene_salon\",\n",
    "                                                                    \"tiene_cuarto\",\n",
    "                                                                    \"tiene_family\",\n",
    "                                                                    \"bosque_dir\",\n",
    "                                                                    \"avenida_dir\",\n",
    "                                                                    \"fuente_dir\",\n",
    "                                                                    \"golf_dir\",\n",
    "                                                                    \"tiene_hectarea\",\n",
    "                                                                    \"tiene_torre\",\n",
    "                                                                    \"idzona\"])\n",
    "\n",
    "params = {\"feature_fraction\":0.5959853966635414,\n",
    "          \"lambda_l1\":80.82894063964651,\n",
    "          \"learning_rate\": 0.07141681335686303, #0.05141681335686303\n",
    "          \"max_bin\":1000,\n",
    "          \"min_data_in_leaf\":20,\n",
    "          \"num_iterations\":2000,\n",
    "          \"num_leaves\":250,\n",
    "          \"reg_sqrt\":True,\n",
    "          \"n_jobs\":-1\n",
    "}\n",
    "\n",
    "reg = lgb.train(params,d_train)\n",
    "pred = reg.predict(X_test)\"\"\""
   ]
  },
  {
   "cell_type": "code",
   "execution_count": 27,
   "metadata": {},
   "outputs": [],
   "source": [
    "# mean_absolute_error(y_test, pred)"
   ]
  },
  {
   "cell_type": "code",
   "execution_count": 28,
   "metadata": {},
   "outputs": [],
   "source": [
    "n_dimensiones = 1000"
   ]
  },
  {
   "cell_type": "code",
   "execution_count": 29,
   "metadata": {},
   "outputs": [],
   "source": [
    "desc_train = pd.read_csv(f\"{ruta_data}/features/descr_vectorizadas_train_{n_dimensiones}d.csv\")"
   ]
  },
  {
   "cell_type": "code",
   "execution_count": 30,
   "metadata": {},
   "outputs": [],
   "source": [
    "#desc_train = reduce_mem_usage(desc_train)"
   ]
  },
  {
   "cell_type": "code",
   "execution_count": 31,
   "metadata": {},
   "outputs": [],
   "source": [
    "desc_test = pd.read_csv(f\"{ruta_data}/features/descr_vectorizadas_test_{n_dimensiones}d.csv\")"
   ]
  },
  {
   "cell_type": "code",
   "execution_count": 32,
   "metadata": {},
   "outputs": [],
   "source": [
    "tit_train = pd.read_csv(f\"{ruta_data}/features/titulos_vectorizados_train_200d.csv\")"
   ]
  },
  {
   "cell_type": "code",
   "execution_count": 33,
   "metadata": {},
   "outputs": [],
   "source": [
    "tit_test = pd.read_csv(f\"{ruta_data}/features/titulos_vectorizados_test_200d.csv\")"
   ]
  },
  {
   "cell_type": "code",
   "execution_count": 34,
   "metadata": {},
   "outputs": [],
   "source": [
    "train_lim_des = pd.concat([train_limpio, desc_train, tit_train], axis=1)"
   ]
  },
  {
   "cell_type": "code",
   "execution_count": 35,
   "metadata": {},
   "outputs": [],
   "source": [
    "test_lim_des = pd.concat([test_limpio, desc_test, tit_test], axis=1)"
   ]
  },
  {
   "cell_type": "code",
   "execution_count": 36,
   "metadata": {},
   "outputs": [],
   "source": [
    "X, y = train_lim_des.drop([\"precio\"], axis=1),train_lim_des[\"precio\"]"
   ]
  },
  {
   "cell_type": "code",
   "execution_count": 37,
   "metadata": {},
   "outputs": [],
   "source": [
    "# X_train, X_test, y_train, y_test = train_test_split(X, y, test_size=0.20, random_state=96969)"
   ]
  },
  {
   "cell_type": "code",
   "execution_count": 38,
   "metadata": {},
   "outputs": [
    {
     "name": "stderr",
     "output_type": "stream",
     "text": [
      "c:\\users\\dell\\appdata\\local\\programs\\python\\python37\\lib\\site-packages\\lightgbm\\engine.py:148: UserWarning: Found `num_iterations` in params. Will use it instead of argument\n",
      "  warnings.warn(\"Found `{}` in params. Will use it instead of argument\".format(alias))\n",
      "c:\\users\\dell\\appdata\\local\\programs\\python\\python37\\lib\\site-packages\\lightgbm\\basic.py:1243: UserWarning: Using categorical_feature in Dataset.\n",
      "  warnings.warn('Using categorical_feature in Dataset.')\n"
     ]
    },
    {
     "name": "stdout",
     "output_type": "stream",
     "text": [
      "Wall time: 1h 44min 7s\n"
     ]
    }
   ],
   "source": [
    "%%time\n",
    "d_train = lgb.Dataset(X, label= y, categorical_feature=[\"provincia\",\n",
    "                                                                    \"tipodepropiedad\",\n",
    "                                                                    \"ciudad\",\n",
    "                                                                    \"tiene_terraza\",\n",
    "                                                                    \"tiene_jardin\",\n",
    "                                                                    \"tiene_servicio\",\n",
    "                                                                    \"tiene_vestidor\",\n",
    "                                                                    \"tiene_vista\",\n",
    "                                                                    \"tiene_salon\",\n",
    "                                                                    \"tiene_cuarto\",\n",
    "                                                                    \"tiene_family\",\n",
    "                                                                    \"bosque_dir\",\n",
    "                                                                    \"avenida_dir\",\n",
    "                                                                    \"fuente_dir\",\n",
    "                                                                    \"golf_dir\",\n",
    "                                                                    \"tiene_hectarea\",\n",
    "                                                                    \"tiene_torre\",\n",
    "                                                                    \"idzona\"])\n",
    "\n",
    "params = {\"feature_fraction\":0.5959853966635414,\n",
    "          \"lambda_l1\":90.82894063964651,\n",
    "          \"learning_rate\": 0.01141681335686303, #0.05141681335686303\n",
    "          \"max_bin\":1500,\n",
    "          \"min_data_in_leaf\":20,\n",
    "          \"num_iterations\":50000,\n",
    "          \"num_leaves\":270,\n",
    "          \"reg_sqrt\":True,\n",
    "          \"n_jobs\":-1,\n",
    "          \"max_cat_threshold\":100\n",
    "\n",
    "}\n",
    "\n",
    "reg = lgb.train(params,d_train)"
   ]
  },
  {
   "cell_type": "code",
   "execution_count": 39,
   "metadata": {},
   "outputs": [],
   "source": [
    "#mean_absolute_error(y_test, pred)"
   ]
  },
  {
   "cell_type": "markdown",
   "metadata": {},
   "source": [
    "---"
   ]
  },
  {
   "cell_type": "code",
   "execution_count": 40,
   "metadata": {},
   "outputs": [
    {
     "name": "stdout",
     "output_type": "stream",
     "text": [
      "Wall time: 3min 5s\n"
     ]
    }
   ],
   "source": [
    "%%time \n",
    "pred = reg.predict(test_lim_des)"
   ]
  },
  {
   "cell_type": "code",
   "execution_count": 41,
   "metadata": {},
   "outputs": [],
   "source": [
    "ids_test = pd.read_csv(f\"{ruta_data}/ids_test.csv\")\n",
    "\n",
    "ids_test[\"target\"] = pred"
   ]
  },
  {
   "cell_type": "code",
   "execution_count": 42,
   "metadata": {},
   "outputs": [],
   "source": [
    "ids_test.to_csv(f\"{ruta_submits}/LGBM_ultima_corrida.csv\",index=False)"
   ]
  }
 ],
 "metadata": {
  "kernelspec": {
   "display_name": "Python 3",
   "language": "python",
   "name": "python3"
  },
  "language_info": {
   "codemirror_mode": {
    "name": "ipython",
    "version": 3
   },
   "file_extension": ".py",
   "mimetype": "text/x-python",
   "name": "python",
   "nbconvert_exporter": "python",
   "pygments_lexer": "ipython3",
   "version": "3.7.4"
  }
 },
 "nbformat": 4,
 "nbformat_minor": 2
}
