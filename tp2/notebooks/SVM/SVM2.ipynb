{
 "cells": [
  {
   "cell_type": "code",
   "execution_count": 2,
   "metadata": {},
   "outputs": [],
   "source": [
    "import pandas as pd\n",
    "import numpy as np\n",
    "\n",
    "from sklearn import svm\n",
    "\n",
    "from utilidades.validar2 import validar2\n",
    "\n",
    "from sklearn.preprocessing import MinMaxScaler"
   ]
  },
  {
   "cell_type": "code",
   "execution_count": 2,
   "metadata": {},
   "outputs": [
    {
     "data": {
      "text/plain": [
       "sklearn.svm.classes.SVR"
      ]
     },
     "execution_count": 2,
     "metadata": {},
     "output_type": "execute_result"
    }
   ],
   "source": [
    " svm.SVR"
   ]
  },
  {
   "cell_type": "code",
   "execution_count": 3,
   "metadata": {},
   "outputs": [],
   "source": [
    "train = pd.read_csv(\"data/train.csv\")\n",
    "test = pd.read_csv(\"data/test.csv\")\n",
    "\n",
    "dfinicial = pd.read_csv(\"data/train_limpio.csv\")\n",
    "dftest = pd.read_csv(\"data/test_limpio.csv\")\n",
    "\n",
    "dfinicial2 = pd.read_csv(\"data/esteban/train_ciudades_limpio.csv\")\n",
    "dftest2 = pd.read_csv(\"data/esteban/test_ciudades_limpio.csv\")\n",
    "\n",
    "xg = pd.read_csv('data/esteban/mejor_corrida.csv')"
   ]
  },
  {
   "cell_type": "code",
   "execution_count": 4,
   "metadata": {},
   "outputs": [],
   "source": [
    "pd.set_option('display.max_columns', 23) #ver todas las columnas\n",
    "pd.set_option('display.max_rows', 100) #como mucho ver 100 filas"
   ]
  },
  {
   "cell_type": "code",
   "execution_count": 5,
   "metadata": {},
   "outputs": [],
   "source": [
    "def g_subida2(DFINICIAL, DFTESTEAR, cach, met, d, mi, nomArchivo, pasarAdisco):\n",
    "    \"\"\"\n",
    "    X: datos de entrenamiento\n",
    "    y: target de X\n",
    "    metodo: algoritmo a utilizar\n",
    "    \"\"\"\n",
    "    \n",
    "    #ML\n",
    "    X, y = DFINICIAL.drop( columns = ['precio'] ), dfinicial[\"precio\"]\n",
    "    #scaling = MinMaxScaler(feature_range=(-1,1)).fit(X)\n",
    "    #X = scaling.transform(X)\n",
    "    \n",
    "    reg = svm.SVR(cache_size = cach, gamma = 'scale', kernel = met, degree = d, max_iter = mi )\n",
    "    reg.fit(X,y) #entrena como ajustarte a y (precios)\n",
    "    subida = pd.DataFrame( reg.predict(DFTESTEAR) , columns=[\"target\"]) #crea df con predicciones\n",
    "\n",
    "    #Formateo\n",
    "    subida.insert(0, \"id\", test[\"id\"]) #test todavía tiene los ids\n",
    "    subida['id'] = subida['id'].astype(np.uint32)\n",
    "    subida['target'] = subida['target'].astype(np.uint32)\n",
    "    \n",
    "    #Heurísticas\n",
    "    # si vale menos de 310 000, ponerle 310 000\n",
    "    #subida.loc[ subida['target'] <= 310000, 'target'] = 310000\n",
    "    # si vale más de 12 500 000, ponerle 12 500 000\n",
    "    #subida.loc[ subida['target'] >= 12500000, 'target'] = 12500000\n",
    "    \n",
    "    if pasarAdisco:\n",
    "        subida.to_csv(f\"submits/\" + nomArchivo, index = False) \n",
    "    \n",
    "    return X, y, subida"
   ]
  },
  {
   "cell_type": "code",
   "execution_count": 6,
   "metadata": {},
   "outputs": [
    {
     "name": "stderr",
     "output_type": "stream",
     "text": [
      "c:\\users\\dell\\appdata\\local\\programs\\python\\python37\\lib\\site-packages\\sklearn\\svm\\base.py:241: ConvergenceWarning: Solver terminated early (max_iter=40000).  Consider pre-processing your data with StandardScaler or MinMaxScaler.\n",
      "  % self.max_iter, ConvergenceWarning)\n"
     ]
    },
    {
     "data": {
      "text/plain": [
       "2370297.0"
      ]
     },
     "execution_count": 6,
     "metadata": {},
     "output_type": "execute_result"
    }
   ],
   "source": [
    "#dfinicial1 = dfinicial\n",
    "#dftest1 = dftest\n",
    "\n",
    "dfinicial1 = dfinicial.drop( columns = [ 'anio', \n",
    "                            'metrostotales', \n",
    "                            'banos',\n",
    "                            'antiguedad'\n",
    "                            ]) \n",
    "\n",
    "\n",
    "dftest1 = dftest.drop( columns = ['anio', \n",
    "                    'metrostotales', \n",
    "                    'banos',\n",
    "                    'antiguedad',\n",
    "                    ]) \n",
    "\n",
    "\n",
    "X2, y2, subida2 = g_subida2( dfinicial1, dftest1,  1999, 'poly', 70, 40000, \"esteban_svm1.csv\", True)\n",
    "\n",
    "dftot = subida2.merge(xg, on = 'id', how = 'inner')\n",
    "dftot['diferencia'] = abs( dftot['target_x'] - dftot['target_y'] )\n",
    "round (dftot['diferencia'].sum() / len( dftot['diferencia'] ) )"
   ]
  },
  {
   "cell_type": "code",
   "execution_count": 11,
   "metadata": {},
   "outputs": [
    {
     "name": "stderr",
     "output_type": "stream",
     "text": [
      "c:\\users\\dell\\appdata\\local\\programs\\python\\python37\\lib\\site-packages\\sklearn\\svm\\base.py:241: ConvergenceWarning: Solver terminated early (max_iter=400).  Consider pre-processing your data with StandardScaler or MinMaxScaler.\n",
      "  % self.max_iter, ConvergenceWarning)\n"
     ]
    },
    {
     "data": {
      "text/plain": [
       "2370297.0"
      ]
     },
     "execution_count": 11,
     "metadata": {},
     "output_type": "execute_result"
    }
   ],
   "source": [
    "#dfinicial1 = dfinicial\n",
    "#dftest1 = dftest\n",
    "\n",
    "dfinicial1 = dfinicial.drop( columns = [ 'anio', \n",
    "                            'metrostotales', \n",
    "                            'banos',\n",
    "                            'antiguedad'\n",
    "                            ]) \n",
    "\n",
    "\n",
    "dftest1 = dftest.drop( columns = ['anio', \n",
    "                    'metrostotales', \n",
    "                    'banos',\n",
    "                    'antiguedad',\n",
    "                    ]) \n",
    "\n",
    "\n",
    "X3, y3, subida3 = g_subida2( dfinicial1, dftest1,  1999, 'poly', 70, 400, \"esteban_svm2.csv\", False)\n",
    "\n",
    "dftot = subida3.merge(xg, on = 'id', how = 'inner')\n",
    "dftot['diferencia'] = abs( dftot['target_x'] - dftot['target_y'] )\n",
    "round (dftot['diferencia'].sum() / len( dftot['diferencia'] ) )\n",
    "\n",
    "X_train, X_test, y_train, y_test = train_test_split(X, y, test_size=0.33, random_state=42)\n",
    "# y_train son los precios de X_train\n",
    "# y_test son los precios de X_test\n",
    "    \n",
    "reg = metodo(n_neighbors = nn, metric = metrica1, p = metrica2, weights = 'distance', n_jobs = 10)\n",
    "y_train_l = np.log(y_train)\n",
    "reg.fit(X_train, y_train_l)\n",
    "pred = reg.predict(X_test)\n",
    "pred = np.exp(pred)\n",
    "   \n",
    "    return round(mean_absolute_error(y_test, pred))"
   ]
  },
  {
   "cell_type": "code",
   "execution_count": null,
   "metadata": {},
   "outputs": [],
   "source": []
  }
 ],
 "metadata": {
  "kernelspec": {
   "display_name": "Python 3",
   "language": "python",
   "name": "python3"
  },
  "language_info": {
   "codemirror_mode": {
    "name": "ipython",
    "version": 3
   },
   "file_extension": ".py",
   "mimetype": "text/x-python",
   "name": "python",
   "nbconvert_exporter": "python",
   "pygments_lexer": "ipython3",
   "version": "3.7.4"
  }
 },
 "nbformat": 4,
 "nbformat_minor": 2
}
