{
 "cells": [
  {
   "cell_type": "code",
   "execution_count": 2,
   "metadata": {},
   "outputs": [],
   "source": [
    "import pandas as pd\n",
    "import numpy as np\n",
    "\n",
    "import sklearn\n",
    "\n",
    "from sklearn.neighbors import KNeighborsRegressor\n",
    "from sklearn.preprocessing import StandardScaler\n",
    "\n",
    "from sklearn.model_selection import train_test_split\n",
    "from sklearn.metrics import mean_absolute_error\n",
    "\n",
    "from utilidades.validar4 import validar4\n"
   ]
  },
  {
   "cell_type": "code",
   "execution_count": 16,
   "metadata": {},
   "outputs": [],
   "source": [
    "train = pd.read_csv(\"data/train.csv\")\n",
    "test = pd.read_csv(\"data/test.csv\")\n",
    "\n",
    "dfinicial = pd.read_csv(\"data/train_limpio_idz.csv\")\n",
    "dftest = pd.read_csv(\"data/test_limpio_idz.csv\")\n",
    "\n",
    "#dfinicial2 = pd.read_csv(\"data/esteban/train_ciudades_limpio.csv\")\n",
    "#dftest2 = pd.read_csv(\"data/esteban/test_ciudades_limpio.csv\")"
   ]
  },
  {
   "cell_type": "code",
   "execution_count": 3,
   "metadata": {},
   "outputs": [],
   "source": [
    "pd.set_option('display.max_columns', 23) #ver todas las columnas\n",
    "pd.set_option('display.max_rows', 100) #como mucho ver 100 filas"
   ]
  },
  {
   "cell_type": "code",
   "execution_count": 17,
   "metadata": {},
   "outputs": [],
   "source": [
    "def gen_subida(DFINICIAL, metodo, DFTESTEAR, nn, metrica1, metrica2, nomArchivo, pasarAdisco):\n",
    "    \"\"\"\n",
    "    X: datos de entrenamiento\n",
    "    y: target de X\n",
    "    metodo: algoritmo a utilizar\n",
    "    \"\"\"\n",
    "    \n",
    "    #ML\n",
    "    X, y = DFINICIAL.drop( columns = ['precio'] ), dfinicial[\"precio\"]\n",
    "    reg = metodo(n_neighbors = nn, metric = metrica1, p = metrica2, weights = 'distance', n_jobs = -1)\n",
    "    reg.fit(X,y) #entrena como ajustarte a y (precios)\n",
    "    subida = pd.DataFrame( reg.predict(DFTESTEAR) , columns=[\"target\"]) #crea df con predicciones\n",
    "\n",
    "    #Formateo\n",
    "    subida.insert(0, \"id\", test[\"id\"]) #test todavía tiene los ids\n",
    "    subida['id'] = subida['id'].astype(np.uint32)\n",
    "    subida['target'] = subida['target'].astype(np.uint32)\n",
    "    \n",
    "    #Heurísticas\n",
    "    # si vale menos de 310 000, ponerle 310 000\n",
    "    # subida.loc[ subida['target'] <= 310000, 'target'] = 310000\n",
    "    # si vale más de 12 500 000, ponerle 12 500 000\n",
    "    # subida.loc[ subida['target'] >= 12500000, 'target'] = 12500000\n",
    "    \n",
    "    if pasarAdisco:\n",
    "        subida.to_csv(f\"submits/\" + nomArchivo, index = False) \n",
    "    \n",
    "    return X, y, subida"
   ]
  },
  {
   "cell_type": "code",
   "execution_count": 5,
   "metadata": {},
   "outputs": [
    {
     "data": {
      "text/plain": [
       "'dfinicial1 = dfinicial2.drop( columns = [ \\'anio\\', \\n                            \\'metrostotales\\', \\n                            \\'banos\\',\\n                            \\'antiguedad\\'\\n                            ]) \\ndftest1 = dftest2.drop( columns = [ \\'anio\\', \\n                            \\'metrostotales\\', \\n                            \\'banos\\',\\n                            \\'antiguedad\\'\\n                            ]) \\n\\nX, y, subida = gen_subida( dfinicial1,  KNeighborsRegressor, dftest1, 40, \\'euclidean\\', 2, \"esteban_knn.csv\", False)\\n\\n# IMPRIME EL PROMEDIO DE DIFERENCIA CON EL MEJOR RESULTADO (EL DE XG DE JULIÁN)\\n# UN VALOR MENOR ES MEJOR\\ndftot = subida.merge(xg, on = \\'id\\', how = \\'inner\\')\\ndftot[\\'diferencia\\'] = abs( dftot[\\'target_x\\'] - dftot[\\'target_y\\'] )\\nround (dftot[\\'diferencia\\'].sum() / len( dftot[\\'diferencia\\'] ) )'"
      ]
     },
     "execution_count": 5,
     "metadata": {},
     "output_type": "execute_result"
    }
   ],
   "source": [
    "'''dfinicial1 = dfinicial2.drop( columns = [ 'anio', \n",
    "                            'metrostotales', \n",
    "                            'banos',\n",
    "                            'antiguedad'\n",
    "                            ]) \n",
    "dftest1 = dftest2.drop( columns = [ 'anio', \n",
    "                            'metrostotales', \n",
    "                            'banos',\n",
    "                            'antiguedad'\n",
    "                            ]) \n",
    "\n",
    "X, y, subida = gen_subida( dfinicial1,  KNeighborsRegressor, dftest1, 40, 'euclidean', 2, \"esteban_knn.csv\", False)\n",
    "\n",
    "# IMPRIME EL PROMEDIO DE DIFERENCIA CON EL MEJOR RESULTADO (EL DE XG DE JULIÁN)\n",
    "# UN VALOR MENOR ES MEJOR\n",
    "dftot = subida.merge(xg, on = 'id', how = 'inner')\n",
    "dftot['diferencia'] = abs( dftot['target_x'] - dftot['target_y'] )\n",
    "round (dftot['diferencia'].sum() / len( dftot['diferencia'] ) )'''"
   ]
  },
  {
   "cell_type": "code",
   "execution_count": 6,
   "metadata": {},
   "outputs": [
    {
     "data": {
      "text/plain": [
       "\"validar2(X, y, KNeighborsRegressor, 40, 'euclidean', 2, False)\""
      ]
     },
     "execution_count": 6,
     "metadata": {},
     "output_type": "execute_result"
    }
   ],
   "source": [
    "'''validar2(X, y, KNeighborsRegressor, 40, 'euclidean', 2, False)'''"
   ]
  },
  {
   "cell_type": "code",
   "execution_count": 7,
   "metadata": {},
   "outputs": [
    {
     "data": {
      "text/plain": [
       "'#dfinicial1 = dfinicial\\n#dftest1 = dftest\\ndfinicial1 = dfinicial2.drop( columns = [ \\'anio\\', \\n                            \\'metrostotales\\', \\n                            \\'banos\\',\\n                            \\'antiguedad\\'\\n                            ]) \\n\\n\\ndftest1 = dftest2.drop( columns = [\\'anio\\', \\n                    \\'metrostotales\\', \\n                    \\'banos\\',\\n                    \\'antiguedad\\',\\n                    ]) \\n\\n\\n# Manhattan\\nXa, ya, subidaa = gen_subida( dfinicial1,  KNeighborsRegressor, dftest1, 40, \\'minkowski\\', 1, \"esteban_knn.csv\", False)\\n\\n# IMPRIME EL PROMEDIO DE DIFERENCIA CON EL MEJOR RESULTADO (EL DE XG DE JULIÁN)\\n# UN VALOR MENOR ES MEJOR\\ndftot = subidaa.merge(xg, on = \\'id\\', how = \\'inner\\')\\ndftot[\\'diferencia\\'] = abs( dftot[\\'target_x\\'] - dftot[\\'target_y\\'] )\\nround (dftot[\\'diferencia\\'].sum() / len( dftot[\\'diferencia\\'] ) )'"
      ]
     },
     "execution_count": 7,
     "metadata": {},
     "output_type": "execute_result"
    }
   ],
   "source": [
    "'''#dfinicial1 = dfinicial\n",
    "#dftest1 = dftest\n",
    "dfinicial1 = dfinicial2.drop( columns = [ 'anio', \n",
    "                            'metrostotales', \n",
    "                            'banos',\n",
    "                            'antiguedad'\n",
    "                            ]) \n",
    "\n",
    "\n",
    "dftest1 = dftest2.drop( columns = ['anio', \n",
    "                    'metrostotales', \n",
    "                    'banos',\n",
    "                    'antiguedad',\n",
    "                    ]) \n",
    "\n",
    "\n",
    "# Manhattan\n",
    "Xa, ya, subidaa = gen_subida( dfinicial1,  KNeighborsRegressor, dftest1, 40, 'minkowski', 1, \"esteban_knn.csv\", False)\n",
    "\n",
    "# IMPRIME EL PROMEDIO DE DIFERENCIA CON EL MEJOR RESULTADO (EL DE XG DE JULIÁN)\n",
    "# UN VALOR MENOR ES MEJOR\n",
    "dftot = subidaa.merge(xg, on = 'id', how = 'inner')\n",
    "dftot['diferencia'] = abs( dftot['target_x'] - dftot['target_y'] )\n",
    "round (dftot['diferencia'].sum() / len( dftot['diferencia'] ) )'''"
   ]
  },
  {
   "cell_type": "code",
   "execution_count": 8,
   "metadata": {},
   "outputs": [
    {
     "name": "stdout",
     "output_type": "stream",
     "text": [
      "Wall time: 11min 58s\n"
     ]
    },
    {
     "data": {
      "text/plain": [
       "770269.0"
      ]
     },
     "execution_count": 8,
     "metadata": {},
     "output_type": "execute_result"
    }
   ],
   "source": [
    "%%time\n",
    "\n",
    "dfinicial1 = dfinicial\n",
    "\n",
    "dftest1 = dftest\n",
    "\n",
    "Xa, ya = dfinicial.drop( columns = ['precio'] ), dfinicial[\"precio\"]\n",
    "\n",
    "scaling = StandardScaler().fit(Xa)\n",
    "Xa2 = scaling.transform(Xa)\n",
    "Xa2 = pd.DataFrame(data = Xa2, columns = Xa.columns)\n",
    "\n",
    "#765349.0\n",
    "validar4(Xa2, ya, KNeighborsRegressor, 40, 'minkowski', 1, False)"
   ]
  },
  {
   "cell_type": "code",
   "execution_count": 18,
   "metadata": {},
   "outputs": [
    {
     "data": {
      "text/plain": [
       "(        tipodepropiedad_Apartamento  tipodepropiedad_Casa en condominio  \\\n",
       " 0                                 1                                   0   \n",
       " 1                                 0                                   1   \n",
       " 2                                 0                                   0   \n",
       " 3                                 0                                   0   \n",
       " 4                                 1                                   0   \n",
       " ...                             ...                                 ...   \n",
       " 239995                            0                                   0   \n",
       " 239996                            0                                   0   \n",
       " 239997                            1                                   0   \n",
       " 239998                            0                                   0   \n",
       " 239999                            1                                   0   \n",
       " \n",
       "         tipodepropiedad_Casa  tipodepropiedad_Terreno  \\\n",
       " 0                          0                        0   \n",
       " 1                          0                        0   \n",
       " 2                          1                        0   \n",
       " 3                          1                        0   \n",
       " 4                          0                        0   \n",
       " ...                      ...                      ...   \n",
       " 239995                     1                        0   \n",
       " 239996                     1                        0   \n",
       " 239997                     0                        0   \n",
       " 239998                     1                        0   \n",
       " 239999                     0                        0   \n",
       " \n",
       "         tipodepropiedad_Terreno comercial  tipodepropiedad_Local Comercial  \\\n",
       " 0                                       0                                0   \n",
       " 1                                       0                                0   \n",
       " 2                                       0                                0   \n",
       " 3                                       0                                0   \n",
       " 4                                       0                                0   \n",
       " ...                                   ...                              ...   \n",
       " 239995                                  0                                0   \n",
       " 239996                                  0                                0   \n",
       " 239997                                  0                                0   \n",
       " 239998                                  0                                0   \n",
       " 239999                                  0                                0   \n",
       " \n",
       "         tipodepropiedad_Quinta Vacacional  tipodepropiedad_Oficina comercial  \\\n",
       " 0                                       0                                  0   \n",
       " 1                                       0                                  0   \n",
       " 2                                       0                                  0   \n",
       " 3                                       0                                  0   \n",
       " 4                                       0                                  0   \n",
       " ...                                   ...                                ...   \n",
       " 239995                                  0                                  0   \n",
       " 239996                                  0                                  0   \n",
       " 239997                                  0                                  0   \n",
       " 239998                                  0                                  0   \n",
       " 239999                                  0                                  0   \n",
       " \n",
       "         tipodepropiedad_Edificio  tipodepropiedad_Casa uso de suelo  \\\n",
       " 0                              0                                  0   \n",
       " 1                              0                                  0   \n",
       " 2                              0                                  0   \n",
       " 3                              0                                  0   \n",
       " 4                              0                                  0   \n",
       " ...                          ...                                ...   \n",
       " 239995                         0                                  0   \n",
       " 239996                         0                                  0   \n",
       " 239997                         0                                  0   \n",
       " 239998                         0                                  0   \n",
       " 239999                         0                                  0   \n",
       " \n",
       "         tipodepropiedad_Local en centro comercial  ...  metroscubiertos  \\\n",
       " 0                                               0  ...               80   \n",
       " 1                                               0  ...              268   \n",
       " 2                                               0  ...              144   \n",
       " 3                                               0  ...               63   \n",
       " 4                                               0  ...               95   \n",
       " ...                                           ...  ...              ...   \n",
       " 239995                                          0  ...               67   \n",
       " 239996                                          0  ...              200   \n",
       " 239997                                          0  ...              138   \n",
       " 239998                                          0  ...              235   \n",
       " 239999                                          0  ...              149   \n",
       " \n",
       "         metrostotales    idzona  gimnasio  usosmultiples  piscina  \\\n",
       " 0                  80     23533         0              0        0   \n",
       " 1                 180     24514         0              0        0   \n",
       " 2                 166     48551         0              0        0   \n",
       " 3                  67     53666         0              0        0   \n",
       " 4                  95     47835         0              0        0   \n",
       " ...               ...       ...       ...            ...      ...   \n",
       " 239995            157     53666         0              0        0   \n",
       " 239996            250     51954         0              0        0   \n",
       " 239997            138  50003995         0              0        0   \n",
       " 239998            137     24162         1              0        0   \n",
       " 239999             90     23750         0              0        0   \n",
       " \n",
       "         escuelascercanas  centroscomercialescercanos  dia  mes  anio  \n",
       " 0                      0                           0   23    8  2015  \n",
       " 1                      1                           1   28    6  2013  \n",
       " 2                      0                           0   17   10  2015  \n",
       " 3                      1                           1    9    3  2012  \n",
       " 4                      0                           0    7    6  2016  \n",
       " ...                  ...                         ...  ...  ...   ...  \n",
       " 239995                 0                           0    8    2  2015  \n",
       " 239996                 1                           1   10    7  2014  \n",
       " 239997                 0                           0    3    3  2015  \n",
       " 239998                 1                           1   26   12  2014  \n",
       " 239999                 0                           0   19    6  2015  \n",
       " \n",
       " [240000 rows x 71 columns], 0         2273000\n",
       " 1         3600000\n",
       " 2         1200000\n",
       " 3          650000\n",
       " 4         1150000\n",
       "            ...   \n",
       " 239995     650000\n",
       " 239996    1940000\n",
       " 239997    3400000\n",
       " 239998    2890000\n",
       " 239999    3650000\n",
       " Name: precio, Length: 240000, dtype: int64,            id   target\n",
       " 0        4941  4010634\n",
       " 1       51775  1156594\n",
       " 2      115253  2341448\n",
       " 3      299321  1440050\n",
       " 4      173570   638870\n",
       " ...       ...      ...\n",
       " 59995   75094  2926625\n",
       " 59996  171847   582713\n",
       " 59997  138313   817881\n",
       " 59998  271268  1281070\n",
       " 59999   72612  3017587\n",
       " \n",
       " [60000 rows x 2 columns])"
      ]
     },
     "execution_count": 18,
     "metadata": {},
     "output_type": "execute_result"
    }
   ],
   "source": [
    "gen_subida(dfinicial, KNeighborsRegressor, dftest, 40, 'minkowski', 1, \"knn_normalizado.csv\", True)"
   ]
  },
  {
   "cell_type": "code",
   "execution_count": 10,
   "metadata": {},
   "outputs": [
    {
     "data": {
      "text/plain": [
       "'dfinicial1 = dfinicial\\ndftest1 = dftest\\n\\nX, y, subida = gen_subida( dfinicial1,  KNeighborsRegressor, dftest1, 5, \\'cosine\\', 2, \"esteban_knn.csv\", False)\\n\\n# IMPRIME EL PROMEDIO DE DIFERENCIA CON EL MEJOR RESULTADO (EL DE XG DE JULIÁN)\\n# UN VALOR MENOR ES MEJOR\\ndftot = subida.merge(xg, on = \\'id\\', how = \\'inner\\')\\ndftot[\\'diferencia\\'] = abs( dftot[\\'target_x\\'] - dftot[\\'target_y\\'] )\\nround (dftot[\\'diferencia\\'].sum() / len( dftot[\\'diferencia\\'] ) )'"
      ]
     },
     "execution_count": 10,
     "metadata": {},
     "output_type": "execute_result"
    }
   ],
   "source": [
    "'''dfinicial1 = dfinicial\n",
    "dftest1 = dftest\n",
    "\n",
    "X, y, subida = gen_subida( dfinicial1,  KNeighborsRegressor, dftest1, 5, 'cosine', 2, \"esteban_knn.csv\", False)\n",
    "\n",
    "# IMPRIME EL PROMEDIO DE DIFERENCIA CON EL MEJOR RESULTADO (EL DE XG DE JULIÁN)\n",
    "# UN VALOR MENOR ES MEJOR\n",
    "dftot = subida.merge(xg, on = 'id', how = 'inner')\n",
    "dftot['diferencia'] = abs( dftot['target_x'] - dftot['target_y'] )\n",
    "round (dftot['diferencia'].sum() / len( dftot['diferencia'] ) )'''"
   ]
  },
  {
   "cell_type": "code",
   "execution_count": null,
   "metadata": {},
   "outputs": [],
   "source": []
  },
  {
   "cell_type": "code",
   "execution_count": 11,
   "metadata": {},
   "outputs": [
    {
     "data": {
      "text/plain": [
       "'dfinicial1 = dfinicial\\ndftest1 = dftest\\n\\nX, y, subida = gen_subida( dfinicial1,  KNeighborsRegressor, dftest1, 5, \\'hamming\\', 2, \"esteban_knn.csv\", False)\\n\\n# IMPRIME EL PROMEDIO DE DIFERENCIA CON EL MEJOR RESULTADO (EL DE XG DE JULIÁN)\\n# UN VALOR MENOR ES MEJOR\\ndftot = subida.merge(xg, on = \\'id\\', how = \\'inner\\')\\ndftot[\\'diferencia\\'] = abs( dftot[\\'target_x\\'] - dftot[\\'target_y\\'] )\\nround (dftot[\\'diferencia\\'].sum() / len( dftot[\\'diferencia\\'] ) )'"
      ]
     },
     "execution_count": 11,
     "metadata": {},
     "output_type": "execute_result"
    }
   ],
   "source": [
    "'''dfinicial1 = dfinicial\n",
    "dftest1 = dftest\n",
    "\n",
    "X, y, subida = gen_subida( dfinicial1,  KNeighborsRegressor, dftest1, 5, 'hamming', 2, \"esteban_knn.csv\", False)\n",
    "\n",
    "# IMPRIME EL PROMEDIO DE DIFERENCIA CON EL MEJOR RESULTADO (EL DE XG DE JULIÁN)\n",
    "# UN VALOR MENOR ES MEJOR\n",
    "dftot = subida.merge(xg, on = 'id', how = 'inner')\n",
    "dftot['diferencia'] = abs( dftot['target_x'] - dftot['target_y'] )\n",
    "round (dftot['diferencia'].sum() / len( dftot['diferencia'] ) )'''"
   ]
  },
  {
   "cell_type": "code",
   "execution_count": 12,
   "metadata": {},
   "outputs": [
    {
     "data": {
      "text/plain": [
       "'dfinicial1 = dfinicial\\ndftest1 = dftest\\n\\nXj, yj, subidaj = gen_subida( dfinicial1,  KNeighborsRegressor, dftest1, 5, \\'jaccard\\', 2, \"esteban_knn.csv\", False)\\n\\n# IMPRIME EL PROMEDIO DE DIFERENCIA CON EL MEJOR RESULTADO (EL DE XG DE JULIÁN)\\n# UN VALOR MENOR ES MEJOR\\ndftot = subidaj.merge(xg, on = \\'id\\', how = \\'inner\\')\\ndftot[\\'diferencia\\'] = abs( dftot[\\'target_x\\'] - dftot[\\'target_y\\'] )\\nround (dftot[\\'diferencia\\'].sum() / len( dftot[\\'diferencia\\'] ) )'"
      ]
     },
     "execution_count": 12,
     "metadata": {},
     "output_type": "execute_result"
    }
   ],
   "source": [
    "'''dfinicial1 = dfinicial\n",
    "dftest1 = dftest\n",
    "\n",
    "Xj, yj, subidaj = gen_subida( dfinicial1,  KNeighborsRegressor, dftest1, 5, 'jaccard', 2, \"esteban_knn.csv\", False)\n",
    "\n",
    "# IMPRIME EL PROMEDIO DE DIFERENCIA CON EL MEJOR RESULTADO (EL DE XG DE JULIÁN)\n",
    "# UN VALOR MENOR ES MEJOR\n",
    "dftot = subidaj.merge(xg, on = 'id', how = 'inner')\n",
    "dftot['diferencia'] = abs( dftot['target_x'] - dftot['target_y'] )\n",
    "round (dftot['diferencia'].sum() / len( dftot['diferencia'] ) )'''"
   ]
  },
  {
   "cell_type": "code",
   "execution_count": null,
   "metadata": {},
   "outputs": [],
   "source": [
    "KNeighborsRegressor"
   ]
  }
 ],
 "metadata": {
  "kernelspec": {
   "display_name": "Python 3",
   "language": "python",
   "name": "python3"
  },
  "language_info": {
   "codemirror_mode": {
    "name": "ipython",
    "version": 3
   },
   "file_extension": ".py",
   "mimetype": "text/x-python",
   "name": "python",
   "nbconvert_exporter": "python",
   "pygments_lexer": "ipython3",
   "version": "3.7.4"
  }
 },
 "nbformat": 4,
 "nbformat_minor": 2
}
