{
 "cells": [
  {
   "cell_type": "code",
   "execution_count": 4,
   "metadata": {},
   "outputs": [],
   "source": [
    "import pandas as pd\n",
    "from utilidades.reducir_uso_memoria import reduce_mem_usage"
   ]
  },
  {
   "cell_type": "code",
   "execution_count": 2,
   "metadata": {},
   "outputs": [],
   "source": [
    "ruta_data = \"../data\"\n",
    "ruta_train = ruta_data + \"/train.csv\"\n",
    "ruta_test = ruta_data + \"/test.csv\"\n",
    "ruta_submits = \"../submits\"\n",
    "ruta_features = ruta_data + \"/features/\""
   ]
  },
  {
   "cell_type": "code",
   "execution_count": 5,
   "metadata": {},
   "outputs": [],
   "source": [
    "train_limpio = reduce_mem_usage(pd.read_csv(f\"{ruta_data}/train_limpio.csv\"))\n",
    "test_limpio = reduce_mem_usage(pd.read_csv(f\"{ruta_data}/test_limpio.csv\"))"
   ]
  },
  {
   "cell_type": "code",
   "execution_count": 12,
   "metadata": {},
   "outputs": [],
   "source": [
    "def bining_antiguedad(x):\n",
    "    if x < 5:\n",
    "        return \"0-5\"\n",
    "    if 5 <= x < 10:\n",
    "        return \"5-10\"\n",
    "    if 10 <= x < 15:\n",
    "        return \"10-15\"\n",
    "    if 15 <= x < 20:\n",
    "        return \"15-20\"\n",
    "    if 20 <= x < 25:\n",
    "        return \"20-25\"\n",
    "    if 25 <= x < 30:\n",
    "        return \"25-30\"\n",
    "    if 30 <= x < 35:\n",
    "        return \"30-35\"\n",
    "    if 35 <= x < 40:\n",
    "        return \"35-40\"\n",
    "    if 40 <= x < 45:\n",
    "        return \"40-45\"\n",
    "    if 45 <= x < 50:\n",
    "        return \"45-50\"\n",
    "    if 50 <= x < 55:\n",
    "        return \"50-55\"\n",
    "    if 55 <= x < 60:\n",
    "        return \"55-60\"\n",
    "    if 60 <= x < 65:\n",
    "        return \"60-65\"\n",
    "    if 65 <= x < 70:\n",
    "        return \"65-70\"\n",
    "    if 70 <= x < 75:\n",
    "        return \"70-75\"\n",
    "    if 75 <= x <= 80:\n",
    "        return \"75-80\""
   ]
  },
  {
   "cell_type": "code",
   "execution_count": 19,
   "metadata": {},
   "outputs": [],
   "source": [
    "bins_antiguedad_train = train_limpio[\"antiguedad\"].apply(lambda x: bining_antiguedad(x))\n",
    "bins_antiguedad_test = test_limpio[\"antiguedad\"].apply(lambda x: bining_antiguedad(x))"
   ]
  },
  {
   "cell_type": "code",
   "execution_count": 24,
   "metadata": {},
   "outputs": [],
   "source": [
    "pd.DataFrame(bins_antiguedad_train).rename(columns={\"antiguedad\": \"bins_antiguedad\"}).to_csv(f\"{ruta_features}bins_antiguedad_train.csv\", index=False)"
   ]
  },
  {
   "cell_type": "code",
   "execution_count": 25,
   "metadata": {},
   "outputs": [],
   "source": [
    "pd.DataFrame(bins_antiguedad_test).rename(columns={\"antiguedad\": \"bins_antiguedad\"}).to_csv(f\"{ruta_features}bins_antiguedad_test.csv\", index=False)"
   ]
  },
  {
   "cell_type": "code",
   "execution_count": null,
   "metadata": {},
   "outputs": [],
   "source": []
  }
 ],
 "metadata": {
  "kernelspec": {
   "display_name": "Python 3",
   "language": "python",
   "name": "python3"
  },
  "language_info": {
   "codemirror_mode": {
    "name": "ipython",
    "version": 3
   },
   "file_extension": ".py",
   "mimetype": "text/x-python",
   "name": "python",
   "nbconvert_exporter": "python",
   "pygments_lexer": "ipython3",
   "version": "3.7.4"
  }
 },
 "nbformat": 4,
 "nbformat_minor": 2
}
