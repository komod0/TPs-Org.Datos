{
 "cells": [
  {
   "cell_type": "code",
   "execution_count": 2,
   "metadata": {},
   "outputs": [],
   "source": [
    "import lightgbm as lgb\n",
    "import numpy as np\n",
    "import pandas as pd\n",
    "import string\n",
    "from datetime import datetime\n",
    "\n",
    "from sklearn.metrics import mean_absolute_error\n",
    "from sklearn.model_selection import train_test_split\n",
    "\n",
    "from utilidades.graficar import ver_dispersion\n",
    "from utilidades.reducir_uso_memoria import reduce_mem_usage"
   ]
  },
  {
   "cell_type": "markdown",
   "metadata": {},
   "source": [
    "### Preprocesamiento inicial"
   ]
  },
  {
   "cell_type": "code",
   "execution_count": null,
   "metadata": {},
   "outputs": [],
   "source": [
    "ruta_data = \"../data\"\n",
    "ruta_train = ruta_data + \"/train.csv\"\n",
    "ruta_test = ruta_data + \"/test.csv\"\n",
    "ruta_submits = \"../submits\"\n",
    "ruta_features = ruta_data + \"/features/\""
   ]
  },
  {
   "cell_type": "code",
   "execution_count": null,
   "metadata": {},
   "outputs": [],
   "source": [
    "################################################################################\n",
    "#                                                                              #\n",
    "# USAR SI NO REALENTIZA                                                        #\n",
    "#                                                                              #\n",
    "################################################################################\n",
    "\n",
    "train_limpio = reduce_mem_usage(pd.read_csv(f\"{ruta_data}/train_limpio.csv\"))\n",
    "test_limpio = reduce_mem_usage(pd.read_csv(f\"{ruta_data}/test_limpio.csv\"))"
   ]
  },
  {
   "cell_type": "code",
   "execution_count": null,
   "metadata": {},
   "outputs": [],
   "source": [
    "train_limpio = train_limpio.drop([\"dia\"], axis=1)\n",
    "test_limpio = test_limpio.drop([\"dia\"], axis=1)"
   ]
  },
  {
   "cell_type": "code",
   "execution_count": null,
   "metadata": {},
   "outputs": [],
   "source": [
    "poblacion_train = pd.read_csv(f\"{ruta_data}/features/ftr_poblacion_train.csv\")\n",
    "poblacion_test = pd.read_csv(f\"{ruta_data}/features/ftr_poblacion_test.csv\")"
   ]
  },
  {
   "cell_type": "code",
   "execution_count": null,
   "metadata": {},
   "outputs": [],
   "source": [
    "train_limpio[\"poblacion\"] = poblacion_train\n",
    "test_limpio[\"poblacion\"] = poblacion_test"
   ]
  },
  {
   "cell_type": "code",
   "execution_count": null,
   "metadata": {},
   "outputs": [],
   "source": [
    "id_zona_train = pd.read_csv(f\"{ruta_data}/id_zona_train.csv\")\n",
    "id_zona_test = pd.read_csv(f\"{ruta_data}/id_zona_test.csv\")"
   ]
  },
  {
   "cell_type": "code",
   "execution_count": null,
   "metadata": {},
   "outputs": [],
   "source": [
    "train_limpio[\"idzona\"] = id_zona_train[\"idzona\"]\n",
    "test_limpio[\"idzona\"] = id_zona_test[\"idzona\"]"
   ]
  },
  {
   "cell_type": "code",
   "execution_count": null,
   "metadata": {},
   "outputs": [],
   "source": [
    "tiene_terraza = pd.read_csv(f\"{ruta_data}/features/tiene_terraza_train.csv\")\n",
    "\n",
    "train_limpio[\"tiene_terraza\"] = tiene_terraza"
   ]
  },
  {
   "cell_type": "code",
   "execution_count": null,
   "metadata": {},
   "outputs": [],
   "source": [
    "tiene_terraza_tes = pd.read_csv(f\"{ruta_data}/features/tiene_terraza_test.csv\")\n",
    "\n",
    "test_limpio[\"tiene_terraza\"] = tiene_terraza_tes"
   ]
  },
  {
   "cell_type": "code",
   "execution_count": null,
   "metadata": {},
   "outputs": [],
   "source": [
    "tiene_jardin = pd.read_csv(f\"{ruta_data}/features/tiene_jardin_train.csv\")\n",
    "\n",
    "train_limpio[\"tiene_jardin\"] = tiene_jardin"
   ]
  },
  {
   "cell_type": "code",
   "execution_count": null,
   "metadata": {},
   "outputs": [],
   "source": [
    "tiene_jardin_tes = pd.read_csv(f\"{ruta_data}/features/tiene_jardin_test.csv\")\n",
    "\n",
    "test_limpio[\"tiene_jardin\"] = tiene_jardin_tes"
   ]
  },
  {
   "cell_type": "code",
   "execution_count": null,
   "metadata": {},
   "outputs": [],
   "source": [
    "tiene_servicio = pd.read_csv(f\"{ruta_data}/features/tiene_servicio_train.csv\")\n",
    "\n",
    "train_limpio[\"tiene_servicio\"] = tiene_servicio"
   ]
  },
  {
   "cell_type": "code",
   "execution_count": null,
   "metadata": {},
   "outputs": [],
   "source": [
    "tiene_servicio_tes = pd.read_csv(f\"{ruta_data}/features/tiene_servicio_test.csv\")\n",
    "\n",
    "test_limpio[\"tiene_servicio\"] = tiene_servicio_tes"
   ]
  },
  {
   "cell_type": "code",
   "execution_count": null,
   "metadata": {},
   "outputs": [],
   "source": [
    "tiene_vestidor = pd.read_csv(f\"{ruta_data}/features/tiene_vestidor_train.csv\")\n",
    "\n",
    "train_limpio[\"tiene_vestidor\"] = tiene_vestidor"
   ]
  },
  {
   "cell_type": "code",
   "execution_count": null,
   "metadata": {},
   "outputs": [],
   "source": [
    "tiene_vestidor_tes = pd.read_csv(f\"{ruta_data}/features/tiene_vestidor_test.csv\")\n",
    "\n",
    "test_limpio[\"tiene_vestidor\"] = tiene_vestidor_tes"
   ]
  },
  {
   "cell_type": "code",
   "execution_count": null,
   "metadata": {},
   "outputs": [],
   "source": [
    "tiene_vista = pd.read_csv(f\"{ruta_data}/features/tiene_vista_train.csv\")\n",
    "\n",
    "train_limpio[\"tiene_vista\"] = tiene_vista"
   ]
  },
  {
   "cell_type": "code",
   "execution_count": null,
   "metadata": {},
   "outputs": [],
   "source": [
    "tiene_vista_tes = pd.read_csv(f\"{ruta_data}/features/tiene_vista_test.csv\")\n",
    "\n",
    "test_limpio[\"tiene_vista\"] = tiene_vista_tes"
   ]
  },
  {
   "cell_type": "code",
   "execution_count": null,
   "metadata": {},
   "outputs": [],
   "source": [
    "tiene_salon = pd.read_csv(f\"{ruta_data}/features/tiene_salon_train.csv\")\n",
    "\n",
    "train_limpio[\"tiene_salon\"] = tiene_salon"
   ]
  },
  {
   "cell_type": "code",
   "execution_count": null,
   "metadata": {},
   "outputs": [],
   "source": [
    "tiene_salon_tes = pd.read_csv(f\"{ruta_data}/features/tiene_salon_test.csv\")\n",
    "\n",
    "test_limpio[\"tiene_salon\"] = tiene_salon_tes"
   ]
  },
  {
   "cell_type": "code",
   "execution_count": null,
   "metadata": {},
   "outputs": [],
   "source": [
    "tiene_cuarto = pd.read_csv(f\"{ruta_data}/features/tiene_cuarto_train.csv\")\n",
    "\n",
    "train_limpio[\"tiene_cuarto\"] = tiene_cuarto"
   ]
  },
  {
   "cell_type": "code",
   "execution_count": null,
   "metadata": {},
   "outputs": [],
   "source": [
    "tiene_cuarto_tes = pd.read_csv(f\"{ruta_data}/features/tiene_cuarto_test.csv\")\n",
    "\n",
    "test_limpio[\"tiene_cuarto\"] = tiene_cuarto_tes"
   ]
  },
  {
   "cell_type": "code",
   "execution_count": null,
   "metadata": {},
   "outputs": [],
   "source": [
    "tiene_family = pd.read_csv(f\"{ruta_data}/features/tiene_family_train.csv\")\n",
    "\n",
    "train_limpio[\"tiene_family\"] = tiene_family"
   ]
  },
  {
   "cell_type": "code",
   "execution_count": null,
   "metadata": {},
   "outputs": [],
   "source": [
    "tiene_family_tes = pd.read_csv(f\"{ruta_data}/features/tiene_family_test.csv\")\n",
    "\n",
    "test_limpio[\"tiene_family\"] = tiene_family_tes"
   ]
  },
  {
   "cell_type": "code",
   "execution_count": null,
   "metadata": {},
   "outputs": [],
   "source": [
    "tiene_bosque = pd.read_csv(f\"{ruta_data}/features/tiene_bosque_dir_train.csv\")\n",
    "\n",
    "train_limpio[\"bosque_dir\"] = tiene_bosque"
   ]
  },
  {
   "cell_type": "code",
   "execution_count": null,
   "metadata": {},
   "outputs": [],
   "source": [
    "tiene_bosque_tes = pd.read_csv(f\"{ruta_data}/features/tiene_bosque_dir_test.csv\")\n",
    "\n",
    "test_limpio[\"bosque_dir\"] = tiene_bosque_tes"
   ]
  },
  {
   "cell_type": "code",
   "execution_count": null,
   "metadata": {},
   "outputs": [],
   "source": [
    "tiene_avenida = pd.read_csv(f\"{ruta_data}/features/tiene_avenida_dir_train.csv\")\n",
    "\n",
    "train_limpio[\"avenida_dir\"] = tiene_avenida"
   ]
  },
  {
   "cell_type": "code",
   "execution_count": null,
   "metadata": {},
   "outputs": [],
   "source": [
    "tiene_avenida_tes = pd.read_csv(f\"{ruta_data}/features/tiene_avenida_dir_test.csv\")\n",
    "\n",
    "test_limpio[\"avenida_dir\"] = tiene_avenida_tes"
   ]
  },
  {
   "cell_type": "code",
   "execution_count": null,
   "metadata": {},
   "outputs": [],
   "source": [
    "tiene_fuente = pd.read_csv(f\"{ruta_data}/features/tiene_fuente_dir_train.csv\")\n",
    "\n",
    "train_limpio[\"fuente_dir\"] = tiene_fuente"
   ]
  },
  {
   "cell_type": "code",
   "execution_count": null,
   "metadata": {},
   "outputs": [],
   "source": [
    "tiene_fuente_tes = pd.read_csv(f\"{ruta_data}/features/tiene_fuente_dir_test.csv\")\n",
    "\n",
    "test_limpio[\"fuente_dir\"] = tiene_fuente_tes"
   ]
  },
  {
   "cell_type": "code",
   "execution_count": null,
   "metadata": {},
   "outputs": [],
   "source": [
    "tiene_golf = pd.read_csv(f\"{ruta_data}/features/tiene_golf_dir_train.csv\")\n",
    "\n",
    "train_limpio[\"golf_dir\"] = tiene_golf"
   ]
  },
  {
   "cell_type": "code",
   "execution_count": null,
   "metadata": {},
   "outputs": [],
   "source": [
    "tiene_golf_tes = pd.read_csv(f\"{ruta_data}/features/tiene_golf_dir_test.csv\")\n",
    "\n",
    "test_limpio[\"golf_dir\"] = tiene_golf_tes"
   ]
  },
  {
   "cell_type": "code",
   "execution_count": 1,
   "metadata": {},
   "outputs": [
    {
     "ename": "NameError",
     "evalue": "name 'pd' is not defined",
     "output_type": "error",
     "traceback": [
      "\u001b[1;31m---------------------------------------------------------------------------\u001b[0m",
      "\u001b[1;31mNameError\u001b[0m                                 Traceback (most recent call last)",
      "\u001b[1;32m<ipython-input-1-1c91f1832bbb>\u001b[0m in \u001b[0;36m<module>\u001b[1;34m\u001b[0m\n\u001b[1;32m----> 1\u001b[1;33m \u001b[0mtiene_hectarea\u001b[0m \u001b[1;33m=\u001b[0m \u001b[0mpd\u001b[0m\u001b[1;33m.\u001b[0m\u001b[0mread_csv\u001b[0m\u001b[1;33m(\u001b[0m\u001b[1;34mf\"{ruta_data}/features/tiene_hectarea_train.csv\"\u001b[0m\u001b[1;33m)\u001b[0m\u001b[1;33m\u001b[0m\u001b[1;33m\u001b[0m\u001b[0m\n\u001b[0m\u001b[0;32m      2\u001b[0m \u001b[0mtrain_limpio\u001b[0m\u001b[1;33m[\u001b[0m\u001b[1;34m\"tiene_hectarea\"\u001b[0m\u001b[1;33m]\u001b[0m \u001b[1;33m=\u001b[0m \u001b[0mtiene_hectarea\u001b[0m\u001b[1;33m\u001b[0m\u001b[1;33m\u001b[0m\u001b[0m\n\u001b[0;32m      3\u001b[0m \u001b[0mtiene_hectarea_tes\u001b[0m \u001b[1;33m=\u001b[0m \u001b[0mpd\u001b[0m\u001b[1;33m.\u001b[0m\u001b[0mread_csv\u001b[0m\u001b[1;33m(\u001b[0m\u001b[1;34mf\"{ruta_data}/features/tiene_hectarea_test.csv\"\u001b[0m\u001b[1;33m)\u001b[0m\u001b[1;33m\u001b[0m\u001b[1;33m\u001b[0m\u001b[0m\n\u001b[0;32m      4\u001b[0m \u001b[0mtest_limpio\u001b[0m\u001b[1;33m[\u001b[0m\u001b[1;34m\"tiene_hectarea\"\u001b[0m\u001b[1;33m]\u001b[0m \u001b[1;33m=\u001b[0m \u001b[0mtiene_hectarea_tes\u001b[0m\u001b[1;33m\u001b[0m\u001b[1;33m\u001b[0m\u001b[0m\n\u001b[0;32m      5\u001b[0m \u001b[1;33m\u001b[0m\u001b[0m\n",
      "\u001b[1;31mNameError\u001b[0m: name 'pd' is not defined"
     ]
    }
   ],
   "source": [
    "tiene_hectarea = pd.read_csv(f\"{ruta_data}/features/tiene_hectarea_train.csv\")\n",
    "train_limpio[\"tiene_hectarea\"] = tiene_hectarea\n",
    "tiene_hectarea_tes = pd.read_csv(f\"{ruta_data}/features/tiene_hectarea_test.csv\")\n",
    "test_limpio[\"tiene_hectarea\"] = tiene_hectarea_tes\n",
    "\n",
    "tiene_torre = pd.read_csv(f\"{ruta_data}/features/tiene_torre_train.csv\")\n",
    "train_limpio[\"tiene_torre\"] = tiene_torre\n",
    "tiene_torre_tes = pd.read_csv(f\"{ruta_data}/features/tiene_torre_test.csv\")\n",
    "test_limpio[\"tiene_torre\"] = tiene_torre_tes"
   ]
  },
  {
   "cell_type": "markdown",
   "metadata": {},
   "source": [
    "---"
   ]
  },
  {
   "cell_type": "code",
   "execution_count": null,
   "metadata": {},
   "outputs": [],
   "source": [
    "asdfadsf"
   ]
  },
  {
   "cell_type": "markdown",
   "metadata": {},
   "source": [
    "### Corrida sin usar descripciones"
   ]
  },
  {
   "cell_type": "code",
   "execution_count": null,
   "metadata": {},
   "outputs": [],
   "source": [
    "# X, y = train_limpio.drop([\"precio\"], axis=1),train_limpio[\"precio\"]"
   ]
  },
  {
   "cell_type": "code",
   "execution_count": null,
   "metadata": {},
   "outputs": [],
   "source": [
    "# X_train, X_test, y_train, y_test = train_test_split(X, y, test_size=0.20, random_state=100121)"
   ]
  },
  {
   "cell_type": "code",
   "execution_count": null,
   "metadata": {},
   "outputs": [],
   "source": [
    "\"\"\"y_train_l = np.log(y_train)\n",
    "d_train = lgb.Dataset(X_train, label= y_train_l)\n",
    "param = {\n",
    "'num_leaves': 300,\n",
    "\"learning_rate\": 0.01,\n",
    "\"num_iterations\": 16000,\n",
    "\"feature_fraction\":0.6,\n",
    "\"max_bin\": 1500,\n",
    "\"verbosity\": 2shap.summary_plot(shap_vals, X_train, max_display=30, feature_names=feature_names)\n",
    "\n",
    "}\n",
    "reg = lgb.train(param, d_train)\n",
    "pred = reg.predict(X_test)\n",
    "pred = np.exp(pred)\"\"\""
   ]
  },
  {
   "cell_type": "code",
   "execution_count": null,
   "metadata": {},
   "outputs": [],
   "source": [
    "\"\"\"# 505433\n",
    "mean_absolute_error(y_test, pred)\"\"\""
   ]
  },
  {
   "cell_type": "code",
   "execution_count": null,
   "metadata": {},
   "outputs": [],
   "source": [
    "# ver_dispersion(y_test, pred)"
   ]
  },
  {
   "cell_type": "markdown",
   "metadata": {},
   "source": [
    "---"
   ]
  },
  {
   "cell_type": "markdown",
   "metadata": {},
   "source": [
    "### Corrida usando las descripciones, asegurarse de tener los csv con las descripciones hasheadas, sino las tenes corre el notebook de _feature_hashing_descripciones_ reemplazando _cantidad_de_dimensiones_ por el valor que quieras"
   ]
  },
  {
   "cell_type": "code",
   "execution_count": null,
   "metadata": {},
   "outputs": [],
   "source": [
    "################################################################################\n",
    "#                                                                              #\n",
    "# SE PUEDEN USAR MENOS DIMENSIONES, SEGÚN LO QUE SE CREA CONVENIENTE           #\n",
    "# VER LOS ARCHIVOS DISPONIBLES, O PREGUNTAR COMO GENERAR OTRA CON DIM.         #\n",
    "# ESPECÍFICAS SI SE QUIERE                                                     #\n",
    "#                                                                              #\n",
    "################################################################################\n",
    "\n",
    "\n",
    "n_dimensiones = 1000"
   ]
  },
  {
   "cell_type": "code",
   "execution_count": null,
   "metadata": {},
   "outputs": [],
   "source": [
    "desc_train = pd.read_csv(f\"{ruta_data}/features/descr_vectorizadas_train_{n_dimensiones}d.csv\")"
   ]
  },
  {
   "cell_type": "code",
   "execution_count": null,
   "metadata": {},
   "outputs": [],
   "source": [
    "desc_test = pd.read_csv(f\"{ruta_data}/features/descr_vectorizadas_test_{n_dimensiones}d.csv\")"
   ]
  },
  {
   "cell_type": "code",
   "execution_count": null,
   "metadata": {},
   "outputs": [],
   "source": [
    "#desc_train = reduce_mem_usage(desc_train)"
   ]
  },
  {
   "cell_type": "code",
   "execution_count": null,
   "metadata": {},
   "outputs": [],
   "source": [
    "################################################################################\n",
    "#                                                                              #\n",
    "# REDUCE MEM PUEDE REALENTIZAR, PERO PROBAR SI SIRVE                           #\n",
    "#                                                                              #\n",
    "################################################################################\n"
   ]
  },
  {
   "cell_type": "code",
   "execution_count": null,
   "metadata": {},
   "outputs": [],
   "source": [
    "#desc_test = reduce_mem_usage(desc_test)"
   ]
  },
  {
   "cell_type": "code",
   "execution_count": null,
   "metadata": {},
   "outputs": [],
   "source": [
    "tit_train = pd.read_csv(f\"{ruta_data}/features/titulos_vectorizados_train_50d.csv\")"
   ]
  },
  {
   "cell_type": "code",
   "execution_count": null,
   "metadata": {},
   "outputs": [],
   "source": [
    "tit_test = pd.read_csv(f\"{ruta_data}/features/titulos_vectorizados_test_50d.csv\")"
   ]
  },
  {
   "cell_type": "code",
   "execution_count": null,
   "metadata": {},
   "outputs": [],
   "source": [
    "#tit_train = reduce_mem_usage(tit_train)"
   ]
  },
  {
   "cell_type": "code",
   "execution_count": null,
   "metadata": {},
   "outputs": [],
   "source": [
    "#tit_test = reduce_mem_usage(tit_test)"
   ]
  },
  {
   "cell_type": "code",
   "execution_count": null,
   "metadata": {},
   "outputs": [],
   "source": [
    "# train_limpio = pd.concat([train_limpio, desc_train], axis=1)"
   ]
  },
  {
   "cell_type": "code",
   "execution_count": null,
   "metadata": {},
   "outputs": [],
   "source": [
    "train_limpio = pd.concat([train_limpio, desc_train, tit_train], axis=1)"
   ]
  },
  {
   "cell_type": "code",
   "execution_count": null,
   "metadata": {},
   "outputs": [],
   "source": [
    "# test_limpio = pd.concat([test_limpio, desc_test], axis=1)"
   ]
  },
  {
   "cell_type": "code",
   "execution_count": null,
   "metadata": {},
   "outputs": [],
   "source": [
    "test_limpio = pd.concat([test_limpio, desc_test, tit_test], axis=1)"
   ]
  },
  {
   "cell_type": "code",
   "execution_count": null,
   "metadata": {},
   "outputs": [],
   "source": [
    "X, y = train_limpio.drop([\"precio\"], axis=1),train_limpio[\"precio\"]"
   ]
  },
  {
   "cell_type": "code",
   "execution_count": null,
   "metadata": {},
   "outputs": [],
   "source": [
    "X_train, X_test, y_train, y_test = train_test_split(X, y, test_size=0.20, random_state=100121)"
   ]
  },
  {
   "cell_type": "code",
   "execution_count": null,
   "metadata": {},
   "outputs": [],
   "source": [
    "# 474 559  con 300, 0.01, 30000, 0.6, 1500\n",
    "\n",
    "################################################################################\n",
    "#                                                                              #\n",
    "# RELLENAR CON EL ALGORITMO A PROBAR                                           #                                                    \n",
    "#                                                                              #\n",
    "################################################################################\n",
    "\n",
    "\n",
    "%%time \n",
    "y_train_l = np.log(y_train)\n",
    "reg = # ACA VA EL TRAIN DEL ALGORITMO CORRESPONDIENTE con X_TEST e y_train_l"
   ]
  },
  {
   "cell_type": "code",
   "execution_count": null,
   "metadata": {},
   "outputs": [],
   "source": [
    "%%time \n",
    "pred = reg.predict(X_test)\n",
    "pred = np.exp(pred)"
   ]
  },
  {
   "cell_type": "code",
   "execution_count": null,
   "metadata": {},
   "outputs": [],
   "source": [
    "# APROXIMACIÓN DEL ERROR QUE DARÍA KAGGLE SI LO SUBIERAMOS\n",
    "mean_absolute_error(y_test, pred)"
   ]
  },
  {
   "cell_type": "code",
   "execution_count": null,
   "metadata": {},
   "outputs": [],
   "source": [
    "ver_dispersion(y_test, pred)"
   ]
  },
  {
   "cell_type": "markdown",
   "metadata": {},
   "source": [
    "### Para generar un submit: si ya se tiene algo potable para subir, en vez de entrenar con el set reducido (como arriba), se puede generar un .csv para la subida con el código de más abajo."
   ]
  },
  {
   "cell_type": "code",
   "execution_count": null,
   "metadata": {},
   "outputs": [],
   "source": [
    "%%time\n",
    "y_l = np.log(y)\n",
    "reg = #ACA VA EL TRAIN DEL ALGORITMO CORRESPONDIENTE"
   ]
  },
  {
   "cell_type": "code",
   "execution_count": null,
   "metadata": {},
   "outputs": [],
   "source": [
    "%%time \n",
    "pred_test = #ACA VA EL TEST DEL ALGORITMO CORRESPONDIENTE\n",
    "pred_test = np.exp(pred_test)"
   ]
  },
  {
   "cell_type": "code",
   "execution_count": null,
   "metadata": {},
   "outputs": [],
   "source": [
    "ids_test = pd.read_csv(f\"{ruta_data}/ids_test.csv\")\n",
    "\n",
    "ids_test[\"target\"] = pred_test"
   ]
  },
  {
   "cell_type": "markdown",
   "metadata": {},
   "source": [
    "#### Ponele algun nombre al csv"
   ]
  },
  {
   "cell_type": "code",
   "execution_count": null,
   "metadata": {},
   "outputs": [],
   "source": [
    "ids_test.to_csv(f\"{ruta_submits}/INDICAR_ACA_UN_NOMBRE.csv\",index=False)"
   ]
  }
 ],
 "metadata": {
  "kernelspec": {
   "display_name": "Python 3",
   "language": "python",
   "name": "python3"
  },
  "language_info": {
   "codemirror_mode": {
    "name": "ipython",
    "version": 3
   },
   "file_extension": ".py",
   "mimetype": "text/x-python",
   "name": "python",
   "nbconvert_exporter": "python",
   "pygments_lexer": "ipython3",
   "version": "3.7.4"
  }
 },
 "nbformat": 4,
 "nbformat_minor": 2
}
