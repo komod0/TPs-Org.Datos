{
 "cells": [
  {
   "cell_type": "code",
   "execution_count": 1,
   "metadata": {},
   "outputs": [],
   "source": [
    "import numpy as np\n",
    "import pandas as pd\n",
    "from datetime import datetime\n",
    "import matplotlib.pyplot as plt\n",
    "from matplotlib.ticker import FormatStrFormatter\n",
    "\n",
    "from sklearn.ensemble import GradientBoostingRegressor\n",
    "\n",
    "import sklearn\n",
    "from sklearn.metrics import mean_absolute_error\n",
    "from sklearn.model_selection import train_test_split"
   ]
  },
  {
   "cell_type": "markdown",
   "metadata": {},
   "source": [
    "### PRE CORRIDA"
   ]
  },
  {
   "cell_type": "code",
   "execution_count": 2,
   "metadata": {},
   "outputs": [],
   "source": [
    "def ver_dispersion(y_test, prediction, nombre):\n",
    "    plt.figure(figsize=(10, 10))\n",
    "    plt.scatter(y_test, prediction, alpha=0.2)\n",
    "    plt.title(\"Dispersión de \" + nombre, fontsize=25)\n",
    "    plt.ylabel(\"Predicciones\", fontsize=20)\n",
    "    plt.xlabel(\"Valores Reales\", fontsize=20)\n",
    "    plt.xticks(rotation=30, fontsize=17, ha=\"right\")\n",
    "    plt.yticks(fontsize=17)\n",
    "    plt.gca().xaxis.set_major_formatter(FormatStrFormatter(\"%.0f\"))\n",
    "    plt.gca().yaxis.set_major_formatter(FormatStrFormatter(\"%.0f\"))\n",
    "    # Recta x = y\n",
    "    plt.plot([y_test.min(), y_test.max()], [\n",
    "             y_test.min(), y_test.max()], \"k--\", lw=4)\n",
    "    plt.show()\n",
    "    return None"
   ]
  },
  {
   "cell_type": "code",
   "execution_count": 3,
   "metadata": {},
   "outputs": [],
   "source": [
    "ruta_data = \"../../data\"\n",
    "ruta_train = ruta_data + \"../train.csv\"\n",
    "ruta_test = ruta_data + \"../test.csv\"\n",
    "ruta_submits = \"../..submits\"\n",
    "ruta_features = ruta_data + \"../features/\""
   ]
  },
  {
   "cell_type": "code",
   "execution_count": 4,
   "metadata": {},
   "outputs": [],
   "source": [
    "train_limpio = pd.read_csv(f\"{ruta_data}/train_limpio.csv\")\n",
    "#test_limpio = pd.read_csv(f\"{ruta_data}/test_final.csv\")"
   ]
  },
  {
   "cell_type": "markdown",
   "metadata": {},
   "source": [
    "### CORRIDA DE PRUEBA"
   ]
  },
  {
   "cell_type": "code",
   "execution_count": 5,
   "metadata": {},
   "outputs": [],
   "source": [
    "X, y = train_limpio.drop([\"precio\"], axis=1),train_limpio[\"precio\"]\n",
    "X_train, X_test, y_train, y_test = train_test_split(X, y, test_size=0.20, random_state = 100)"
   ]
  },
  {
   "cell_type": "code",
   "execution_count": null,
   "metadata": {},
   "outputs": [],
   "source": [
    "%%time \n",
    "y_train_l = np.log(y_train)\n",
    "reg = GradientBoostingRegressor(criterion = 'mae')\n",
    "reg.fit(X_train, y_train_l)"
   ]
  },
  {
   "cell_type": "code",
   "execution_count": null,
   "metadata": {},
   "outputs": [],
   "source": [
    "%%time \n",
    "pred = reg.predict(X_test)\n",
    "pred = np.exp(pred)"
   ]
  },
  {
   "cell_type": "code",
   "execution_count": null,
   "metadata": {},
   "outputs": [],
   "source": [
    "int( round( mean_absolute_error(y_test, pred) ) )"
   ]
  },
  {
   "cell_type": "code",
   "execution_count": null,
   "metadata": {},
   "outputs": [],
   "source": [
    "ver_dispersion(y_test, pred, \"Gradient Boosting\")"
   ]
  },
  {
   "cell_type": "code",
   "execution_count": null,
   "metadata": {},
   "outputs": [],
   "source": [
    "detenerse"
   ]
  },
  {
   "cell_type": "markdown",
   "metadata": {},
   "source": [
    "### CORRIDA DE SUBMIT"
   ]
  },
  {
   "cell_type": "code",
   "execution_count": null,
   "metadata": {},
   "outputs": [],
   "source": [
    "%%time\n",
    "y_l = np.log(y)\n",
    "reg = #ACA VA EL TRAIN DEL ALGORITMO CORRESPONDIENTE"
   ]
  },
  {
   "cell_type": "code",
   "execution_count": null,
   "metadata": {},
   "outputs": [],
   "source": [
    "%%time \n",
    "pred_test = #ACA VA EL TEST DEL ALGORITMO CORRESPONDIENTE\n",
    "pred_test = np.exp(pred_test)"
   ]
  },
  {
   "cell_type": "code",
   "execution_count": null,
   "metadata": {},
   "outputs": [],
   "source": [
    "ids_test = pd.read_csv(f\"{ruta_data}/ids_test.csv\")\n",
    "\n",
    "ids_test[\"target\"] = pred_test"
   ]
  },
  {
   "cell_type": "markdown",
   "metadata": {},
   "source": [
    "#### Ponele algun nombre al csv"
   ]
  },
  {
   "cell_type": "code",
   "execution_count": null,
   "metadata": {},
   "outputs": [],
   "source": [
    "ids_test.to_csv(f\"{ruta_submits}/linear_regression_final.csv\",index=False)"
   ]
  }
 ],
 "metadata": {
  "kernelspec": {
   "display_name": "Python 3",
   "language": "python",
   "name": "python3"
  },
  "language_info": {
   "codemirror_mode": {
    "name": "ipython",
    "version": 3
   },
   "file_extension": ".py",
   "mimetype": "text/x-python",
   "name": "python",
   "nbconvert_exporter": "python",
   "pygments_lexer": "ipython3",
   "version": "3.7.4"
  }
 },
 "nbformat": 4,
 "nbformat_minor": 2
}
