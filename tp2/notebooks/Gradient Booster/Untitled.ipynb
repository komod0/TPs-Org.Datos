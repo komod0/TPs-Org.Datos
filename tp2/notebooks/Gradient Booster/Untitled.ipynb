{
 "cells": [
  {
   "cell_type": "code",
   "execution_count": 2,
   "metadata": {},
   "outputs": [],
   "source": [
    "import numpy as np\n",
    "import pandas as pd\n",
    "from datetime import datetime\n",
    "import matplotlib.pyplot as plt\n",
    "from matplotlib.ticker import FormatStrFormatter\n",
    "\n",
    "from sklearn.ensemble import GradientBoostingRegressor\n",
    "\n",
    "import sklearn\n",
    "from sklearn.metrics import mean_absolute_error\n",
    "from sklearn.model_selection import train_test_split"
   ]
  },
  {
   "cell_type": "code",
   "execution_count": 12,
   "metadata": {},
   "outputs": [],
   "source": [
    "train_limpio = pd.read_csv(f\"../../data/train.csv\")\n",
    "#test_limpio = pd.read_csv(f\"{ruta_data}/test_final.csv\")"
   ]
  },
  {
   "cell_type": "code",
   "execution_count": 14,
   "metadata": {},
   "outputs": [
    {
     "data": {
      "text/plain": [
       "0         depto. interior de 80.15m2, consta de sala com...\n",
       "1         <p>entre sonora y guerrero, atr&aacute;s del h...\n",
       "2         descripcion \\nla mejor ubicacion residencial e...\n",
       "3         casa en privada con caseta de vigilancia casas...\n",
       "4         bonito departamento en excelentes condiciones ...\n",
       "                                ...                        \n",
       "239995    vendo casa en bosques de ica residencial a 10 ...\n",
       "239996    casa con un jardin amplio, un cuarto de servic...\n",
       "239997    departamento con excelente ubicación, muy cerc...\n",
       "239998    casa sola, dividida en cuatro departamentos de...\n",
       "239999    id:19816, muy bonito e iluminado departamento,...\n",
       "Name: descripcion, Length: 240000, dtype: object"
      ]
     },
     "execution_count": 14,
     "metadata": {},
     "output_type": "execute_result"
    }
   ],
   "source": [
    "train_limpio['descripcion']"
   ]
  },
  {
   "cell_type": "code",
   "execution_count": null,
   "metadata": {},
   "outputs": [],
   "source": []
  }
 ],
 "metadata": {
  "kernelspec": {
   "display_name": "Python 3",
   "language": "python",
   "name": "python3"
  },
  "language_info": {
   "codemirror_mode": {
    "name": "ipython",
    "version": 3
   },
   "file_extension": ".py",
   "mimetype": "text/x-python",
   "name": "python",
   "nbconvert_exporter": "python",
   "pygments_lexer": "ipython3",
   "version": "3.7.4"
  }
 },
 "nbformat": 4,
 "nbformat_minor": 2
}
