{
 "cells": [
  {
   "cell_type": "code",
   "execution_count": 2,
   "metadata": {},
   "outputs": [],
   "source": [
    "import numpy as np\n",
    "import pandas as pd\n",
    "import unicodedata\n",
    "import re\n",
    "\n",
    "from bs4 import BeautifulSoup\n",
    "from markdown import markdown"
   ]
  },
  {
   "cell_type": "code",
   "execution_count": 3,
   "metadata": {},
   "outputs": [],
   "source": [
    "ruta_data = \"../data\"\n",
    "ruta_train = ruta_data + \"/train.csv\"\n",
    "ruta_test = ruta_data + \"/test.csv\""
   ]
  },
  {
   "cell_type": "code",
   "execution_count": 4,
   "metadata": {},
   "outputs": [],
   "source": [
    "def markdown_to_text(s):\n",
    "    return s.replace(\"*\", \" \")"
   ]
  },
  {
   "cell_type": "code",
   "execution_count": 7,
   "metadata": {},
   "outputs": [
    {
     "data": {
      "text/plain": [
       "'def markdown_to_text(markdown_string):\\n    \\'\\'\\' Converts a markdown string to plaintext \\'\\'\\'\\n\\n    # md -> html -> text since BeautifulSoup can extract text cleanly\\n    html = markdown(markdown_string)\\n\\n    # remove code snippets\\n    html = re.sub(r\\'<pre>(.*?)</pre>\\', \\' \\', html)\\n    html = re.sub(r\\'<code>(.*?)</code >\\', \\' \\', html)\\n\\n    # extract text\\n    soup = BeautifulSoup(html, \"html.parser\")\\n    text = \\'\\'.join(soup.findAll(text=True))\\n\\n    return text'"
      ]
     },
     "execution_count": 7,
     "metadata": {},
     "output_type": "execute_result"
    }
   ],
   "source": [
    "\"\"\"def markdown_to_text(markdown_string):\n",
    "    ''' Converts a markdown string to plaintext '''\n",
    "\n",
    "    # md -> html -> text since BeautifulSoup can extract text cleanly\n",
    "    html = markdown(markdown_string)\n",
    "\n",
    "    # remove code snippets\n",
    "    html = re.sub(r'<pre>(.*?)</pre>', ' ', html)\n",
    "    html = re.sub(r'<code>(.*?)</code >', ' ', html)\n",
    "\n",
    "    # extract text\n",
    "    soup = BeautifulSoup(html, \"html.parser\")\n",
    "    text = ''.join(soup.findAll(text=True))\n",
    "\n",
    "    return text\"\"\""
   ]
  },
  {
   "cell_type": "code",
   "execution_count": 8,
   "metadata": {},
   "outputs": [],
   "source": [
    "def strip_accents(text):\n",
    "\n",
    "    try:\n",
    "        text = unicode(text, 'utf-8')\n",
    "    except NameError: # unicode is a default on python 3 \n",
    "        pass\n",
    "\n",
    "    text = unicodedata.normalize('NFD', text)\\\n",
    "           .encode('ascii', 'ignore')\\\n",
    "           .decode(\"utf-8\")\n",
    "\n",
    "    return str(text)"
   ]
  },
  {
   "cell_type": "code",
   "execution_count": 9,
   "metadata": {},
   "outputs": [],
   "source": [
    "train_origi = pd.read_csv(ruta_train, usecols=[\"descripcion\"])\n",
    "test_origi = pd.read_csv(ruta_test, usecols=[\"descripcion\"])"
   ]
  },
  {
   "cell_type": "code",
   "execution_count": 10,
   "metadata": {},
   "outputs": [],
   "source": [
    "train_origi = train_origi.fillna(\"\")\n",
    "test_origi = test_origi.fillna(\"\")"
   ]
  },
  {
   "cell_type": "markdown",
   "metadata": {},
   "source": [
    "### Veamos que forma tienen las descripciones actuales:"
   ]
  },
  {
   "cell_type": "code",
   "execution_count": 11,
   "metadata": {},
   "outputs": [
    {
     "data": {
      "text/plain": [
       "'vendo bonita casa en fracc sobre forjadores, caseta de vigilancia.\\r\\nsala, comedor, cocina  con area para desayunador, bodega, patio trasero, medio baño, sala de t.v. 3 recamaras amplias,principal con vestidor y baño, baño compartido. cochera 2 autos.\\r\\ncitas:   '"
      ]
     },
     "execution_count": 11,
     "metadata": {},
     "output_type": "execute_result"
    }
   ],
   "source": [
    "train_origi.loc[349].descripcion"
   ]
  },
  {
   "cell_type": "code",
   "execution_count": 12,
   "metadata": {},
   "outputs": [
    {
     "data": {
      "text/plain": [
       "'casa con 20 años de edad en buenas condiciones,espacios amplios, iluminada, construida en 3 niveles, 5 habitaciones amplias, 3 baños completos, no cuenta con estacionamiento, cuarto de servicio, cuarto de lavado, cocina integral, mosaico en cocina y baños, pisos de loseta española, 2 tinacos, cercana a escuelas, hospitales, iglesia san juan bautista, comercios, metro bus tenayuca, universidades, avenida vallejo, colinda con d.f. terreno de 123 m2 construcción de 245 m2. se acepta credito bancario, infonavit, fovissste'"
      ]
     },
     "execution_count": 12,
     "metadata": {},
     "output_type": "execute_result"
    }
   ],
   "source": [
    "train_origi.loc[302].descripcion"
   ]
  },
  {
   "cell_type": "code",
   "execution_count": 13,
   "metadata": {},
   "outputs": [
    {
     "data": {
      "text/plain": [
       "'<p><strong>venta de casa **queretaro** el mirador</strong></p>\\r\\n<p>casa de 104.5 metros de construccion en el mirador queretaro**, hermosa casa **nueva**&nbsp; tres recamaras 2 1/2 ba&ntilde;os***sport club **con alberca semiolimpica**gimnasio*canchas de futboll 7**tennis** ludoteca*kids club****video vigilancia las 24 hrs del dia por internet y accesos controlados**.terreno 90 mtsplanta baja**estancia,sala de tv,ba&ntilde;o de visitas (1/2 ba&ntilde;o),comedor,cocina,patio de servicio,2 cajon de estacionamiento,jardin posterior.planta alta**recamara principal con ba&ntilde;o completo vestidor c/balcon,**segunda recamaras c closet, ba&ntilde;o completo..preparacion jacussi en roof garden**</p>\\r\\n<p>&nbsp;</p>'"
      ]
     },
     "execution_count": 13,
     "metadata": {},
     "output_type": "execute_result"
    }
   ],
   "source": [
    "train_origi.loc[802].descripcion"
   ]
  },
  {
   "cell_type": "code",
   "execution_count": 14,
   "metadata": {},
   "outputs": [
    {
     "name": "stderr",
     "output_type": "stream",
     "text": [
      "/home/julian/.local/lib/python3.7/site-packages/bs4/__init__.py:272: UserWarning: \"b'.'\" looks like a filename, not markup. You should probably open this file and pass the filehandle into Beautiful Soup.\n",
      "  ' Beautiful Soup.' % markup)\n",
      "/home/julian/.local/lib/python3.7/site-packages/bs4/__init__.py:272: UserWarning: \"b'/'\" looks like a filename, not markup. You should probably open this file and pass the filehandle into Beautiful Soup.\n",
      "  ' Beautiful Soup.' % markup)\n"
     ]
    }
   ],
   "source": [
    "train_origi[\"descripcion\"] = train_origi.apply(lambda x: BeautifulSoup(x[\"descripcion\"], \"lxml\").text, axis=1)\n",
    "test_origi[\"descripcion\"] = test_origi.apply(lambda x: BeautifulSoup(x[\"descripcion\"], \"lxml\").text, axis=1)"
   ]
  },
  {
   "cell_type": "markdown",
   "metadata": {},
   "source": [
    "### Veamos como quedaron las descripciones ahora:"
   ]
  },
  {
   "cell_type": "code",
   "execution_count": 15,
   "metadata": {
    "scrolled": false
   },
   "outputs": [
    {
     "data": {
      "text/plain": [
       "'vendo bonita casa en fracc sobre forjadores, caseta de vigilancia.\\r\\nsala, comedor, cocina  con area para desayunador, bodega, patio trasero, medio baño, sala de t.v. 3 recamaras amplias,principal con vestidor y baño, baño compartido. cochera 2 autos.\\r\\ncitas:   '"
      ]
     },
     "execution_count": 15,
     "metadata": {},
     "output_type": "execute_result"
    }
   ],
   "source": [
    "train_origi.loc[349].descripcion"
   ]
  },
  {
   "cell_type": "code",
   "execution_count": 16,
   "metadata": {},
   "outputs": [
    {
     "data": {
      "text/plain": [
       "'casa con 20 años de edad en buenas condiciones,espacios amplios, iluminada, construida en 3 niveles, 5 habitaciones amplias, 3 baños completos, no cuenta con estacionamiento, cuarto de servicio, cuarto de lavado, cocina integral, mosaico en cocina y baños, pisos de loseta española, 2 tinacos, cercana a escuelas, hospitales, iglesia san juan bautista, comercios, metro bus tenayuca, universidades, avenida vallejo, colinda con d.f. terreno de 123 m2 construcción de 245 m2. se acepta credito bancario, infonavit, fovissste'"
      ]
     },
     "execution_count": 16,
     "metadata": {},
     "output_type": "execute_result"
    }
   ],
   "source": [
    "train_origi.loc[302].descripcion"
   ]
  },
  {
   "cell_type": "code",
   "execution_count": 17,
   "metadata": {},
   "outputs": [
    {
     "data": {
      "text/plain": [
       "'venta de casa **queretaro** el mirador\\ncasa de 104.5 metros de construccion en el mirador queretaro**, hermosa casa **nueva**\\xa0 tres recamaras 2 1/2 baños***sport club **con alberca semiolimpica**gimnasio*canchas de futboll 7**tennis** ludoteca*kids club****video vigilancia las 24 hrs del dia por internet y accesos controlados**.terreno 90 mtsplanta baja**estancia,sala de tv,baño de visitas (1/2 baño),comedor,cocina,patio de servicio,2 cajon de estacionamiento,jardin posterior.planta alta**recamara principal con baño completo vestidor c/balcon,**segunda recamaras c closet, baño completo..preparacion jacussi en roof garden**\\n\\xa0'"
      ]
     },
     "execution_count": 17,
     "metadata": {},
     "output_type": "execute_result"
    }
   ],
   "source": [
    "train_origi.loc[802].descripcion"
   ]
  },
  {
   "cell_type": "markdown",
   "metadata": {},
   "source": [
    "### Quitamos caracteres de fin de linea, non breaking space(\\xa0), etc"
   ]
  },
  {
   "cell_type": "code",
   "execution_count": 18,
   "metadata": {},
   "outputs": [],
   "source": [
    "train_origi[\"descripcion\"] = train_origi.apply(lambda x: u' '.join(x[\"descripcion\"].split()), axis=1)\n",
    "test_origi[\"descripcion\"] = test_origi.apply(lambda x: u' '.join(x[\"descripcion\"].split()), axis=1)"
   ]
  },
  {
   "cell_type": "code",
   "execution_count": 19,
   "metadata": {},
   "outputs": [
    {
     "data": {
      "text/plain": [
       "'vendo bonita casa en fracc sobre forjadores, caseta de vigilancia. sala, comedor, cocina con area para desayunador, bodega, patio trasero, medio baño, sala de t.v. 3 recamaras amplias,principal con vestidor y baño, baño compartido. cochera 2 autos. citas:'"
      ]
     },
     "execution_count": 19,
     "metadata": {},
     "output_type": "execute_result"
    }
   ],
   "source": [
    "train_origi.loc[349].descripcion"
   ]
  },
  {
   "cell_type": "code",
   "execution_count": 20,
   "metadata": {},
   "outputs": [
    {
     "data": {
      "text/plain": [
       "'casa con 20 años de edad en buenas condiciones,espacios amplios, iluminada, construida en 3 niveles, 5 habitaciones amplias, 3 baños completos, no cuenta con estacionamiento, cuarto de servicio, cuarto de lavado, cocina integral, mosaico en cocina y baños, pisos de loseta española, 2 tinacos, cercana a escuelas, hospitales, iglesia san juan bautista, comercios, metro bus tenayuca, universidades, avenida vallejo, colinda con d.f. terreno de 123 m2 construcción de 245 m2. se acepta credito bancario, infonavit, fovissste'"
      ]
     },
     "execution_count": 20,
     "metadata": {},
     "output_type": "execute_result"
    }
   ],
   "source": [
    "train_origi.loc[302].descripcion"
   ]
  },
  {
   "cell_type": "code",
   "execution_count": 21,
   "metadata": {
    "scrolled": true
   },
   "outputs": [
    {
     "data": {
      "text/plain": [
       "'venta de casa **queretaro** el mirador casa de 104.5 metros de construccion en el mirador queretaro**, hermosa casa **nueva** tres recamaras 2 1/2 baños***sport club **con alberca semiolimpica**gimnasio*canchas de futboll 7**tennis** ludoteca*kids club****video vigilancia las 24 hrs del dia por internet y accesos controlados**.terreno 90 mtsplanta baja**estancia,sala de tv,baño de visitas (1/2 baño),comedor,cocina,patio de servicio,2 cajon de estacionamiento,jardin posterior.planta alta**recamara principal con baño completo vestidor c/balcon,**segunda recamaras c closet, baño completo..preparacion jacussi en roof garden**'"
      ]
     },
     "execution_count": 21,
     "metadata": {},
     "output_type": "execute_result"
    }
   ],
   "source": [
    "train_origi.loc[802].descripcion"
   ]
  },
  {
   "cell_type": "markdown",
   "metadata": {},
   "source": [
    "### Parece que hay algunos tags estilo markdown, veamos de quitar esos"
   ]
  },
  {
   "cell_type": "code",
   "execution_count": 22,
   "metadata": {},
   "outputs": [],
   "source": [
    "train_origi[\"descripcion\"] = train_origi[\"descripcion\"].apply(lambda x: markdown_to_text(x))\n",
    "test_origi[\"descripcion\"] = test_origi[\"descripcion\"].apply(lambda x: markdown_to_text(x))"
   ]
  },
  {
   "cell_type": "code",
   "execution_count": 23,
   "metadata": {},
   "outputs": [
    {
     "data": {
      "text/plain": [
       "'venta de casa   queretaro   el mirador casa de 104.5 metros de construccion en el mirador queretaro  , hermosa casa   nueva   tres recamaras 2 1/2 baños   sport club   con alberca semiolimpica  gimnasio canchas de futboll 7  tennis   ludoteca kids club    video vigilancia las 24 hrs del dia por internet y accesos controlados  .terreno 90 mtsplanta baja  estancia,sala de tv,baño de visitas (1/2 baño),comedor,cocina,patio de servicio,2 cajon de estacionamiento,jardin posterior.planta alta  recamara principal con baño completo vestidor c/balcon,  segunda recamaras c closet, baño completo..preparacion jacussi en roof garden  '"
      ]
     },
     "execution_count": 23,
     "metadata": {},
     "output_type": "execute_result"
    }
   ],
   "source": [
    "train_origi.loc[802].descripcion"
   ]
  },
  {
   "cell_type": "markdown",
   "metadata": {},
   "source": [
    "### Quitamos acentos que hayan quedado"
   ]
  },
  {
   "cell_type": "code",
   "execution_count": 24,
   "metadata": {},
   "outputs": [],
   "source": [
    "train_origi[\"descripcion\"] = train_origi[\"descripcion\"].apply(lambda x: strip_accents(x))\n",
    "test_origi[\"descripcion\"] = test_origi[\"descripcion\"].apply(lambda x: strip_accents(x))"
   ]
  },
  {
   "cell_type": "code",
   "execution_count": 25,
   "metadata": {},
   "outputs": [],
   "source": [
    "train_origi.to_csv(f\"{ruta_data}/descripciones_train_limpias.csv\", index=False)"
   ]
  },
  {
   "cell_type": "code",
   "execution_count": 26,
   "metadata": {},
   "outputs": [],
   "source": [
    "test_origi.to_csv(f\"{ruta_data}/descripciones_test_limpias.csv\", index=False)"
   ]
  },
  {
   "cell_type": "code",
   "execution_count": 35,
   "metadata": {},
   "outputs": [
    {
     "data": {
      "text/plain": [
       "(1844, 1)"
      ]
     },
     "execution_count": 35,
     "metadata": {},
     "output_type": "execute_result"
    }
   ],
   "source": [
    "train_origi[train_origi[\"descripcion\"]==\"\"].shape"
   ]
  },
  {
   "cell_type": "code",
   "execution_count": 30,
   "metadata": {},
   "outputs": [],
   "source": [
    "prue = pd.read_csv(f\"{ruta_data}/descripciones_train_limpias.csv\")"
   ]
  },
  {
   "cell_type": "code",
   "execution_count": 32,
   "metadata": {},
   "outputs": [
    {
     "data": {
      "text/plain": [
       "descripcion    1844\n",
       "dtype: int64"
      ]
     },
     "execution_count": 32,
     "metadata": {},
     "output_type": "execute_result"
    }
   ],
   "source": [
    "prue.isna().sum()"
   ]
  },
  {
   "cell_type": "code",
   "execution_count": null,
   "metadata": {},
   "outputs": [],
   "source": []
  }
 ],
 "metadata": {
  "kernelspec": {
   "display_name": "Python 3",
   "language": "python",
   "name": "python3"
  },
  "language_info": {
   "codemirror_mode": {
    "name": "ipython",
    "version": 3
   },
   "file_extension": ".py",
   "mimetype": "text/x-python",
   "name": "python",
   "nbconvert_exporter": "python",
   "pygments_lexer": "ipython3",
   "version": "3.7.4"
  }
 },
 "nbformat": 4,
 "nbformat_minor": 2
}
