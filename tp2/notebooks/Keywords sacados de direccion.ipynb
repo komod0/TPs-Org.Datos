{
 "cells": [
  {
   "cell_type": "code",
   "execution_count": 1,
   "metadata": {},
   "outputs": [],
   "source": [
    "import pandas as pd\n",
    "from collections import Counter"
   ]
  },
  {
   "cell_type": "code",
   "execution_count": 2,
   "metadata": {},
   "outputs": [],
   "source": [
    "ruta_data = \"../data\"\n",
    "ruta_train = ruta_data + \"/train.csv\"\n",
    "ruta_test = ruta_data + \"/test.csv\""
   ]
  },
  {
   "cell_type": "code",
   "execution_count": 3,
   "metadata": {},
   "outputs": [],
   "source": [
    "train_ori = pd.read_csv(f\"{ruta_data}/train.csv\")\n",
    "test_ori = pd.read_csv(f\"{ruta_data}/test.csv\")"
   ]
  },
  {
   "cell_type": "code",
   "execution_count": 4,
   "metadata": {},
   "outputs": [],
   "source": [
    "train_ori[\"direccion\"] = train_ori[\"direccion\"].fillna(\"\")\n",
    "test_ori[\"direccion\"] = test_ori[\"direccion\"].fillna(\"\")"
   ]
  },
  {
   "cell_type": "code",
   "execution_count": 13,
   "metadata": {},
   "outputs": [],
   "source": [
    "frec = Counter(word.lower() for word in (\" \".join(train_ori[\"direccion\"]).split()))"
   ]
  },
  {
   "cell_type": "code",
   "execution_count": 28,
   "metadata": {},
   "outputs": [
    {
     "data": {
      "text/plain": [
       "[('de', 0.16994583333333332),\n",
       " ('del', 0.0586875),\n",
       " ('la', 0.0460125),\n",
       " ('san', 0.04595),\n",
       " ('calle', 0.04192083333333333),\n",
       " ('av.', 0.0373125),\n",
       " ('las', 0.0252375),\n",
       " ('los', 0.02345),\n",
       " ('lomas', 0.0191875),\n",
       " ('paseo', 0.017825),\n",
       " ('col.', 0.0176625),\n",
       " ('santa', 0.017220833333333335),\n",
       " ('no.', 0.016954166666666666),\n",
       " ('valle', 0.016454166666666666),\n",
       " ('a', 0.0164125),\n",
       " ('el', 0.0150125),\n",
       " ('y', 0.013725),\n",
       " ('privada', 0.012770833333333334),\n",
       " ('real', 0.012691666666666667),\n",
       " ('1', 0.012304166666666666),\n",
       " ('hacienda', 0.012216666666666667),\n",
       " ('av', 0.011233333333333333),\n",
       " ('en', 0.011091666666666666),\n",
       " ('avenida', 0.0110875),\n",
       " ('sur', 0.010691666666666667),\n",
       " ('casa', 0.010641666666666667),\n",
       " ('fraccionamiento', 0.010579166666666667),\n",
       " ('residencial', 0.0105125),\n",
       " ('#', 0.0103125),\n",
       " ('cerrada', 0.009783333333333333),\n",
       " ('colonia', 0.0097125),\n",
       " ('norte', 0.009529166666666667),\n",
       " ('fracc.', 0.009075),\n",
       " ('camino', 0.009016666666666666),\n",
       " ('méxico', 0.008633333333333333),\n",
       " ('-', 0.008566666666666667),\n",
       " ('lago', 0.008445833333333333),\n",
       " ('miguel', 0.008245833333333334),\n",
       " ('bosque', 0.008204166666666667),\n",
       " ('circuito', 0.008095833333333333),\n",
       " ('s/n', 0.0077666666666666665),\n",
       " ('rio', 0.0076125),\n",
       " ('juan', 0.0074958333333333335),\n",
       " ('villa', 0.00745),\n",
       " ('mexico', 0.007316666666666667),\n",
       " ('bosques', 0.007270833333333333),\n",
       " ('estado', 0.006854166666666666),\n",
       " ('francisco', 0.0068375),\n",
       " ('monte', 0.006583333333333333),\n",
       " ('5', 0.006320833333333334)]"
      ]
     },
     "execution_count": 28,
     "metadata": {},
     "output_type": "execute_result"
    }
   ],
   "source": [
    "frec.most_common(50)"
   ]
  },
  {
   "cell_type": "code",
   "execution_count": 15,
   "metadata": {},
   "outputs": [],
   "source": [
    "train_caro = train_ori[train_ori[\"precio\"] > 7000000]"
   ]
  },
  {
   "cell_type": "code",
   "execution_count": 20,
   "metadata": {},
   "outputs": [
    {
     "data": {
      "text/plain": [
       "(11591, 23)"
      ]
     },
     "execution_count": 20,
     "metadata": {},
     "output_type": "execute_result"
    }
   ],
   "source": [
    "train_caro.shape"
   ]
  },
  {
   "cell_type": "code",
   "execution_count": 17,
   "metadata": {},
   "outputs": [],
   "source": [
    "frec_caras = Counter(word.lower() for word in (\" \".join(train_caro[\"direccion\"]).split()))"
   ]
  },
  {
   "cell_type": "code",
   "execution_count": 26,
   "metadata": {},
   "outputs": [],
   "source": [
    "for k in frec:\n",
    "    frec[k] /= train_ori.shape[0]"
   ]
  },
  {
   "cell_type": "code",
   "execution_count": 27,
   "metadata": {},
   "outputs": [],
   "source": [
    "for k in frec_caras:\n",
    "    frec_caras[k] /= train_caro.shape[0]"
   ]
  },
  {
   "cell_type": "code",
   "execution_count": 32,
   "metadata": {},
   "outputs": [
    {
     "name": "stdout",
     "output_type": "stream",
     "text": [
      "de\n",
      "lomas\n",
      "bosque\n",
      "fuente\n",
      "calle\n"
     ]
    }
   ],
   "source": [
    "for elem,frecuencia in frec_caras.most_common(300):\n",
    "    if abs(frec[elem] - frecuencia) >= 0.01:\n",
    "        print(elem)"
   ]
  },
  {
   "cell_type": "markdown",
   "metadata": {},
   "source": [
    "### Creamos los features en base a lo observado"
   ]
  },
  {
   "cell_type": "code",
   "execution_count": 5,
   "metadata": {},
   "outputs": [],
   "source": [
    "bosque_en_dir = train_ori[\"direccion\"].apply(lambda x: int(\"bosque\" in x.lower()))\n",
    "pd.DataFrame(bosque_en_dir).rename(columns={\"direccion\":\"bosque_dir\"}).to_csv(f\"{ruta_data}/features/tiene_bosque_dir_train.csv\", index=False)"
   ]
  },
  {
   "cell_type": "code",
   "execution_count": 6,
   "metadata": {},
   "outputs": [],
   "source": [
    "bosque_en_dir_tes = test_ori[\"direccion\"].apply(lambda x: int(\"bosque\" in x.lower()))\n",
    "pd.DataFrame(bosque_en_dir_tes).rename(columns={\"direccion\":\"bosque_dir\"}).to_csv(f\"{ruta_data}/features/tiene_bosque_dir_test.csv\", index=False)"
   ]
  },
  {
   "cell_type": "code",
   "execution_count": 7,
   "metadata": {},
   "outputs": [],
   "source": [
    "avenida_en_dir = train_ori[\"direccion\"].apply(lambda x: int(\"av\" in x.lower()))\n",
    "pd.DataFrame(avenida_en_dir).rename(columns={\"direccion\":\"avenida_dir\"}).to_csv(f\"{ruta_data}/features/tiene_avenida_dir_train.csv\", index=False)"
   ]
  },
  {
   "cell_type": "code",
   "execution_count": 8,
   "metadata": {},
   "outputs": [],
   "source": [
    "avenida_en_dir_tes = test_ori[\"direccion\"].apply(lambda x: int(\"av\" in x.lower()))\n",
    "pd.DataFrame(avenida_en_dir_tes).rename(columns={\"direccion\":\"avenida_dir\"}).to_csv(f\"{ruta_data}/features/tiene_avenida_dir_test.csv\", index=False)"
   ]
  },
  {
   "cell_type": "code",
   "execution_count": 9,
   "metadata": {},
   "outputs": [],
   "source": [
    "fuente_en_dir = train_ori[\"direccion\"].apply(lambda x: int(\"fuente\" in x.lower()))\n",
    "pd.DataFrame(fuente_en_dir).rename(columns={\"direccion\":\"fuente_dir\"}).to_csv(f\"{ruta_data}/features/tiene_fuente_dir_train.csv\", index=False)"
   ]
  },
  {
   "cell_type": "code",
   "execution_count": 10,
   "metadata": {},
   "outputs": [],
   "source": [
    "fuente_en_dir_tes = test_ori[\"direccion\"].apply(lambda x: int(\"fuente\" in x.lower()))\n",
    "pd.DataFrame(fuente_en_dir_tes).rename(columns={\"direccion\":\"fuente_dir\"}).to_csv(f\"{ruta_data}/features/tiene_fuente_dir_test.csv\", index=False)"
   ]
  },
  {
   "cell_type": "code",
   "execution_count": 24,
   "metadata": {},
   "outputs": [],
   "source": [
    "vista_en_dir = train_ori[\"direccion\"].apply(lambda x: int(\"vista\" in x.lower()))\n",
    "pd.DataFrame(vista_en_dir).rename(columns={\"direccion\":\"vista_dir\"}).to_csv(f\"{ruta_data}/features/tiene_vista_dir_train.csv\", index=False)"
   ]
  },
  {
   "cell_type": "code",
   "execution_count": 11,
   "metadata": {},
   "outputs": [],
   "source": [
    "golf_en_dir = train_ori[\"direccion\"].apply(lambda x: int(\"golf\" in x.lower()))\n",
    "pd.DataFrame(golf_en_dir).rename(columns={\"direccion\":\"golf_dir\"}).to_csv(f\"{ruta_data}/features/tiene_golf_dir_train.csv\", index=False)"
   ]
  },
  {
   "cell_type": "code",
   "execution_count": 12,
   "metadata": {},
   "outputs": [],
   "source": [
    "golf_en_dir_tes = test_ori[\"direccion\"].apply(lambda x: int(\"golf\" in x.lower()))\n",
    "pd.DataFrame(golf_en_dir_tes).rename(columns={\"direccion\":\"golf_dir\"}).to_csv(f\"{ruta_data}/features/tiene_golf_dir_test.csv\", index=False)"
   ]
  },
  {
   "cell_type": "code",
   "execution_count": null,
   "metadata": {},
   "outputs": [],
   "source": []
  }
 ],
 "metadata": {
  "kernelspec": {
   "display_name": "Python 3",
   "language": "python",
   "name": "python3"
  },
  "language_info": {
   "codemirror_mode": {
    "name": "ipython",
    "version": 3
   },
   "file_extension": ".py",
   "mimetype": "text/x-python",
   "name": "python",
   "nbconvert_exporter": "python",
   "pygments_lexer": "ipython3",
   "version": "3.7.4"
  }
 },
 "nbformat": 4,
 "nbformat_minor": 2
}
