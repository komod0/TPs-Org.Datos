{
 "cells": [
  {
   "cell_type": "code",
   "execution_count": 1,
   "metadata": {},
   "outputs": [],
   "source": [
    "import pandas as pd\n",
    "import seaborn as sns\n",
    "import matplotlib.pyplot as plt\n",
    "import numpy as np\n",
    "\n",
    "from collections import Counter"
   ]
  },
  {
   "cell_type": "code",
   "execution_count": 2,
   "metadata": {},
   "outputs": [],
   "source": [
    "pd.set_option('display.max_colwidth', -1)"
   ]
  },
  {
   "cell_type": "code",
   "execution_count": 3,
   "metadata": {},
   "outputs": [],
   "source": [
    "ruta_data = \"../data\"\n",
    "ruta_train = ruta_data + \"/train.csv\"\n",
    "ruta_test = ruta_data + \"/test.csv\""
   ]
  },
  {
   "cell_type": "code",
   "execution_count": 4,
   "metadata": {},
   "outputs": [],
   "source": [
    "train = pd.read_csv(f\"{ruta_data}/train.csv\")"
   ]
  },
  {
   "cell_type": "code",
   "execution_count": 5,
   "metadata": {},
   "outputs": [],
   "source": [
    "train_desc = pd.read_csv(f\"{ruta_data}/descripciones_train_limpias.csv\")\n",
    "test_desc = pd.read_csv(f\"{ruta_data}/descripciones_test_limpias.csv\")"
   ]
  },
  {
   "cell_type": "code",
   "execution_count": 6,
   "metadata": {},
   "outputs": [],
   "source": [
    "train_desc = train_desc.fillna(\"\")\n",
    "test_desc = test_desc.fillna(\"\")"
   ]
  },
  {
   "cell_type": "code",
   "execution_count": 52,
   "metadata": {},
   "outputs": [],
   "source": [
    "tiene_terraza = train_desc[\"descripcion\"].apply(lambda x: int(\"terraza\" in x))\n",
    "tiene_terraza_tes = test_desc[\"descripcion\"].apply(lambda x: int(\"terraza\" in x))"
   ]
  },
  {
   "cell_type": "code",
   "execution_count": 53,
   "metadata": {},
   "outputs": [],
   "source": [
    "tiene_servicio = train_desc[\"descripcion\"].apply(lambda x: int(\"servicio\" in x))\n",
    "tiene_servicio_tes = test_desc[\"descripcion\"].apply(lambda x: int(\"servicio\" in x))"
   ]
  },
  {
   "cell_type": "code",
   "execution_count": 54,
   "metadata": {},
   "outputs": [],
   "source": [
    "tiene_jardin = train_desc[\"descripcion\"].apply(lambda x: int(\"jardin\" in x))\n",
    "tiene_jardin_tes = test_desc[\"descripcion\"].apply(lambda x: int(\"jardin\" in x))"
   ]
  },
  {
   "cell_type": "code",
   "execution_count": 55,
   "metadata": {},
   "outputs": [],
   "source": [
    "tiene_vestidor = train_desc[\"descripcion\"].apply(lambda x: int(\"vestidor\" in x))\n",
    "tiene_vestidor_tes = test_desc[\"descripcion\"].apply(lambda x: int(\"vestidor\" in x))"
   ]
  },
  {
   "cell_type": "code",
   "execution_count": 56,
   "metadata": {},
   "outputs": [],
   "source": [
    "tiene_vista = train_desc[\"descripcion\"].apply(lambda x: int(\"vista\" in x.lower()))\n",
    "tiene_vista_tes = test_desc[\"descripcion\"].apply(lambda x: int(\"vista\" in x.lower()))"
   ]
  },
  {
   "cell_type": "code",
   "execution_count": 57,
   "metadata": {},
   "outputs": [],
   "source": [
    "tiene_cuarto = train_desc[\"descripcion\"].apply(lambda x: int(\"cuarto\" in x))\n",
    "tiene_cuarto_tes = test_desc[\"descripcion\"].apply(lambda x: int(\"cuarto\" in x))"
   ]
  },
  {
   "cell_type": "code",
   "execution_count": 58,
   "metadata": {},
   "outputs": [],
   "source": [
    "tiene_salon = train_desc[\"descripcion\"].apply(lambda x: int(\"salon\" in x))\n",
    "tiene_salon_tes = test_desc[\"descripcion\"].apply(lambda x: int(\"salon\" in x))"
   ]
  },
  {
   "cell_type": "code",
   "execution_count": 59,
   "metadata": {},
   "outputs": [],
   "source": [
    "tiene_family = train_desc[\"descripcion\"].apply(lambda x: int(\"family\" in x))\n",
    "tiene_family_tes = test_desc[\"descripcion\"].apply(lambda x: int(\"family\" in x))"
   ]
  },
  {
   "cell_type": "code",
   "execution_count": 90,
   "metadata": {},
   "outputs": [],
   "source": [
    "tiene_vendido = train_desc[\"descripcion\"].apply(lambda x: int(\"vendido\" in x))\n",
    "tiene_vendido_tes = test_desc[\"descripcion\"].apply(lambda x: int(\"vendido\" in x))"
   ]
  },
  {
   "cell_type": "code",
   "execution_count": 7,
   "metadata": {},
   "outputs": [],
   "source": [
    "tiene_hectarea = train_desc[\"descripcion\"].apply(lambda x: int(\"has\" in x or \"hectarea\" in x))\n",
    "tiene_hectarea_tes = test_desc[\"descripcion\"].apply(lambda x: int(\"has\" in x or \"hectarea\" in x))"
   ]
  },
  {
   "cell_type": "code",
   "execution_count": 8,
   "metadata": {},
   "outputs": [],
   "source": [
    "tiene_torre = train_desc[\"descripcion\"].apply(lambda x: int(\"torre\" in x or \"rascacielo\" in x))\n",
    "tiene_torre_tes = test_desc[\"descripcion\"].apply(lambda x: int(\"torre\" in x or \"rascacielo\" in x))"
   ]
  },
  {
   "cell_type": "code",
   "execution_count": 14,
   "metadata": {},
   "outputs": [],
   "source": [
    "pd.DataFrame(tiene_vista).rename(columns={\"descripcion\":\"tiene_vista\"}).to_csv(f\"{ruta_data}/features/tiene_vista_train.csv\", index=False)\n",
    "pd.DataFrame(tiene_vista_tes).rename(columns={\"descripcion\":\"tiene_vista\"}).to_csv(f\"{ruta_data}/features/tiene_vista_test.csv\", index=False)"
   ]
  },
  {
   "cell_type": "code",
   "execution_count": 15,
   "metadata": {},
   "outputs": [],
   "source": [
    "pd.DataFrame(tiene_vestidor).rename(columns={\"descripcion\":\"tiene_vestidor\"}).to_csv(f\"{ruta_data}/features/tiene_vestidor_train.csv\", index=False)\n",
    "pd.DataFrame(tiene_vestidor_tes).rename(columns={\"descripcion\":\"tiene_vestidor\"}).to_csv(f\"{ruta_data}/features/tiene_vestidor_test.csv\", index=False)"
   ]
  },
  {
   "cell_type": "code",
   "execution_count": 16,
   "metadata": {},
   "outputs": [],
   "source": [
    "pd.DataFrame(tiene_jardin).rename(columns={\"descripcion\":\"tiene_jardin\"}).to_csv(f\"{ruta_data}/features/tiene_jardin_train.csv\", index=False)\n",
    "pd.DataFrame(tiene_jardin_tes).rename(columns={\"descripcion\":\"tiene_jardin\"}).to_csv(f\"{ruta_data}/features/tiene_jardin_test.csv\", index=False)"
   ]
  },
  {
   "cell_type": "code",
   "execution_count": 17,
   "metadata": {},
   "outputs": [],
   "source": [
    "pd.DataFrame(tiene_servicio).rename(columns={\"descripcion\":\"tiene_servicio\"}).to_csv(f\"{ruta_data}/features/tiene_servicio_train.csv\", index=False)\n",
    "pd.DataFrame(tiene_servicio_tes).rename(columns={\"descripcion\":\"tiene_servicio\"}).to_csv(f\"{ruta_data}/features/tiene_servicio_test.csv\", index=False)"
   ]
  },
  {
   "cell_type": "code",
   "execution_count": 18,
   "metadata": {},
   "outputs": [],
   "source": [
    "pd.DataFrame(tiene_terraza).rename(columns={\"descripcion\":\"tiene_terraza\"}).to_csv(f\"{ruta_data}/features/tiene_terraza_train.csv\", index=False)\n",
    "pd.DataFrame(tiene_terraza_tes).rename(columns={\"descripcion\":\"tiene_terraza\"}).to_csv(f\"{ruta_data}/features/tiene_terraza_test.csv\", index=False)"
   ]
  },
  {
   "cell_type": "code",
   "execution_count": 19,
   "metadata": {},
   "outputs": [],
   "source": [
    "pd.DataFrame(tiene_salon).rename(columns={\"descripcion\":\"tiene_salon\"}).to_csv(f\"{ruta_data}/features/tiene_salon_train.csv\", index=False)\n",
    "pd.DataFrame(tiene_salon_tes).rename(columns={\"descripcion\":\"tiene_salon\"}).to_csv(f\"{ruta_data}/features/tiene_salon_test.csv\", index=False)"
   ]
  },
  {
   "cell_type": "code",
   "execution_count": 20,
   "metadata": {},
   "outputs": [],
   "source": [
    "pd.DataFrame(tiene_cuarto).rename(columns={\"descripcion\":\"tiene_cuarto\"}).to_csv(f\"{ruta_data}/features/tiene_cuarto_train.csv\", index=False)\n",
    "pd.DataFrame(tiene_cuarto_tes).rename(columns={\"descripcion\":\"tiene_cuarto\"}).to_csv(f\"{ruta_data}/features/tiene_cuarto_test.csv\", index=False)"
   ]
  },
  {
   "cell_type": "code",
   "execution_count": 21,
   "metadata": {},
   "outputs": [],
   "source": [
    "pd.DataFrame(tiene_family).rename(columns={\"descripcion\":\"tiene_family\"}).to_csv(f\"{ruta_data}/features/tiene_family_train.csv\", index=False)\n",
    "pd.DataFrame(tiene_family_tes).rename(columns={\"descripcion\":\"tiene_family\"}).to_csv(f\"{ruta_data}/features/tiene_family_test.csv\", index=False)"
   ]
  },
  {
   "cell_type": "code",
   "execution_count": 9,
   "metadata": {},
   "outputs": [],
   "source": [
    "pd.DataFrame(tiene_hectarea).rename(columns={\"descripcion\":\"tiene_hectarea\"}).to_csv(f\"{ruta_data}/features/tiene_hectarea_train.csv\", index=False)\n",
    "pd.DataFrame(tiene_hectarea_tes).rename(columns={\"descripcion\":\"tiene_hectarea\"}).to_csv(f\"{ruta_data}/features/tiene_hectarea_test.csv\", index=False)"
   ]
  },
  {
   "cell_type": "code",
   "execution_count": 10,
   "metadata": {},
   "outputs": [],
   "source": [
    "pd.DataFrame(tiene_torre).rename(columns={\"descripcion\":\"tiene_torre\"}).to_csv(f\"{ruta_data}/features/tiene_torre_train.csv\", index=False)\n",
    "pd.DataFrame(tiene_torre_tes).rename(columns={\"descripcion\":\"tiene_torre\"}).to_csv(f\"{ruta_data}/features/tiene_torre_test.csv\", index=False)"
   ]
  },
  {
   "cell_type": "code",
   "execution_count": null,
   "metadata": {},
   "outputs": [],
   "source": []
  }
 ],
 "metadata": {
  "kernelspec": {
   "display_name": "Python 3",
   "language": "python",
   "name": "python3"
  },
  "language_info": {
   "codemirror_mode": {
    "name": "ipython",
    "version": 3
   },
   "file_extension": ".py",
   "mimetype": "text/x-python",
   "name": "python",
   "nbconvert_exporter": "python",
   "pygments_lexer": "ipython3",
   "version": "3.7.4"
  }
 },
 "nbformat": 4,
 "nbformat_minor": 2
}
