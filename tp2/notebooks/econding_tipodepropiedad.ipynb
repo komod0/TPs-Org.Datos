{
 "cells": [
  {
   "cell_type": "code",
   "execution_count": 22,
   "metadata": {},
   "outputs": [],
   "source": [
    "import numpy as np\n",
    "import pandas as pd\n",
    "\n",
    "from IPython.display import clear_output"
   ]
  },
  {
   "cell_type": "code",
   "execution_count": 4,
   "metadata": {},
   "outputs": [],
   "source": [
    "train = pd.read_csv('../data/train.csv', usecols=['tipodepropiedad'])\n",
    "test = pd.read_csv('../data/test.csv', usecols=['tipodepropiedad'])\n",
    "\n",
    "train_places = pd.read_csv('../data/features/ciudad_prov_lat_lng_V2_train.csv', usecols=['provincia', 'ciudad'])\n",
    "test_places = pd.read_csv('../data/features/ciudad_prov_lat_lng_V2_test.csv', usecols=['provincia', 'ciudad'])"
   ]
  },
  {
   "cell_type": "code",
   "execution_count": 5,
   "metadata": {},
   "outputs": [],
   "source": [
    "train = train.join(train_places)\n",
    "test = test.join(test_places)"
   ]
  },
  {
   "cell_type": "markdown",
   "metadata": {},
   "source": [
    "Todos los nulos están es tipodepropiedad."
   ]
  },
  {
   "cell_type": "markdown",
   "metadata": {},
   "source": [
    "# Primero se rellena el train"
   ]
  },
  {
   "cell_type": "code",
   "execution_count": 8,
   "metadata": {},
   "outputs": [],
   "source": [
    "modas_ciudades_train = train.dropna().groupby('ciudad').agg(lambda x:x.value_counts().index[0])\n",
    "modas_provincias_train = train.dropna().groupby('provincia').agg(lambda x:x.value_counts().index[0])\n",
    "\n",
    "modas_ciudades_train.drop(columns=['provincia'], inplace=True)\n",
    "modas_provincias_train.drop(columns=['ciudad'], inplace=True)"
   ]
  },
  {
   "cell_type": "code",
   "execution_count": 19,
   "metadata": {},
   "outputs": [
    {
     "data": {
      "text/html": [
       "<div>\n",
       "<style scoped>\n",
       "    .dataframe tbody tr th:only-of-type {\n",
       "        vertical-align: middle;\n",
       "    }\n",
       "\n",
       "    .dataframe tbody tr th {\n",
       "        vertical-align: top;\n",
       "    }\n",
       "\n",
       "    .dataframe thead th {\n",
       "        text-align: right;\n",
       "    }\n",
       "</style>\n",
       "<table border=\"1\" class=\"dataframe\">\n",
       "  <thead>\n",
       "    <tr style=\"text-align: right;\">\n",
       "      <th></th>\n",
       "      <th>tipodepropiedad</th>\n",
       "    </tr>\n",
       "    <tr>\n",
       "      <th>provincia</th>\n",
       "      <th></th>\n",
       "    </tr>\n",
       "  </thead>\n",
       "  <tbody>\n",
       "    <tr>\n",
       "      <th>Aguascalientes</th>\n",
       "      <td>Casa</td>\n",
       "    </tr>\n",
       "    <tr>\n",
       "      <th>Baja California Norte</th>\n",
       "      <td>Casa</td>\n",
       "    </tr>\n",
       "    <tr>\n",
       "      <th>Baja California Sur</th>\n",
       "      <td>Casa</td>\n",
       "    </tr>\n",
       "  </tbody>\n",
       "</table>\n",
       "</div>"
      ],
      "text/plain": [
       "                      tipodepropiedad\n",
       "provincia                            \n",
       "Aguascalientes                   Casa\n",
       "Baja California Norte            Casa\n",
       "Baja California Sur              Casa"
      ]
     },
     "metadata": {},
     "output_type": "display_data"
    },
    {
     "data": {
      "text/plain": [
       "Casa           30\n",
       "Apartamento     2\n",
       "Name: tipodepropiedad, dtype: int64"
      ]
     },
     "execution_count": 19,
     "metadata": {},
     "output_type": "execute_result"
    }
   ],
   "source": [
    "display(modas_provincias_train.head(3))\n",
    "modas_provincias_train['tipodepropiedad'].value_counts()"
   ]
  },
  {
   "cell_type": "code",
   "execution_count": 20,
   "metadata": {},
   "outputs": [
    {
     "data": {
      "text/html": [
       "<div>\n",
       "<style scoped>\n",
       "    .dataframe tbody tr th:only-of-type {\n",
       "        vertical-align: middle;\n",
       "    }\n",
       "\n",
       "    .dataframe tbody tr th {\n",
       "        vertical-align: top;\n",
       "    }\n",
       "\n",
       "    .dataframe thead th {\n",
       "        text-align: right;\n",
       "    }\n",
       "</style>\n",
       "<table border=\"1\" class=\"dataframe\">\n",
       "  <thead>\n",
       "    <tr style=\"text-align: right;\">\n",
       "      <th></th>\n",
       "      <th>tipodepropiedad</th>\n",
       "    </tr>\n",
       "    <tr>\n",
       "      <th>ciudad</th>\n",
       "      <th></th>\n",
       "    </tr>\n",
       "  </thead>\n",
       "  <tbody>\n",
       "    <tr>\n",
       "      <th>Abalá</th>\n",
       "      <td>Terreno</td>\n",
       "    </tr>\n",
       "    <tr>\n",
       "      <th>Abasolo</th>\n",
       "      <td>Casa</td>\n",
       "    </tr>\n",
       "    <tr>\n",
       "      <th>Abejones</th>\n",
       "      <td>Casa</td>\n",
       "    </tr>\n",
       "  </tbody>\n",
       "</table>\n",
       "</div>"
      ],
      "text/plain": [
       "         tipodepropiedad\n",
       "ciudad                  \n",
       "Abalá            Terreno\n",
       "Abasolo             Casa\n",
       "Abejones            Casa"
      ]
     },
     "metadata": {},
     "output_type": "display_data"
    },
    {
     "data": {
      "text/plain": [
       "Casa                  670\n",
       "Terreno                71\n",
       "Apartamento            31\n",
       "Rancho                 27\n",
       "Quinta Vacacional      19\n",
       "Local Comercial        19\n",
       "Villa                  16\n",
       "Casa en condominio      8\n",
       "Edificio                6\n",
       "Terreno comercial       5\n",
       "Bodega comercial        5\n",
       "Huerta                  4\n",
       "Casa uso de suelo       1\n",
       "Nave industrial         1\n",
       "Terreno industrial      1\n",
       "Name: tipodepropiedad, dtype: int64"
      ]
     },
     "execution_count": 20,
     "metadata": {},
     "output_type": "execute_result"
    }
   ],
   "source": [
    "display(modas_ciudades_train.head(3))\n",
    "modas_ciudades_train['tipodepropiedad'].value_counts()"
   ]
  },
  {
   "cell_type": "code",
   "execution_count": 18,
   "metadata": {},
   "outputs": [
    {
     "data": {
      "text/plain": [
       "46"
      ]
     },
     "execution_count": 18,
     "metadata": {},
     "output_type": "execute_result"
    }
   ],
   "source": [
    "indice1 = train.loc[train['tipodepropiedad'].isnull()].index\n",
    "indice1.size"
   ]
  },
  {
   "cell_type": "code",
   "execution_count": 23,
   "metadata": {},
   "outputs": [
    {
     "name": "stdout",
     "output_type": "stream",
     "text": [
      "46 de 46\n",
      "CPU times: user 1.04 s, sys: 38.5 ms, total: 1.08 s\n",
      "Wall time: 1.04 s\n"
     ]
    }
   ],
   "source": [
    "%%time\n",
    "ini = 0\n",
    "fin = indice1.size\n",
    "i=1\n",
    "for index in indice1[ini:fin] :\n",
    "    clear_output(wait=True)\n",
    "    # La condición está porque hay ciudades que no registran tipos de propiedad.\n",
    "    if(train.loc[index, 'ciudad'] in modas_ciudades_train.index):\n",
    "        train.loc[index, 'tipodepropiedad'] = modas_ciudades_train.loc[train.loc[index, 'ciudad'], 'tipodepropiedad']\n",
    "    print(i, 'de', fin - ini)\n",
    "    i = i + 1"
   ]
  },
  {
   "cell_type": "code",
   "execution_count": 24,
   "metadata": {},
   "outputs": [
    {
     "data": {
      "text/plain": [
       "tipodepropiedad    0\n",
       "ciudad             0\n",
       "provincia          0\n",
       "dtype: int64"
      ]
     },
     "execution_count": 24,
     "metadata": {},
     "output_type": "execute_result"
    }
   ],
   "source": [
    "train.isnull().sum()"
   ]
  },
  {
   "cell_type": "markdown",
   "metadata": {},
   "source": [
    "Ya se completó"
   ]
  },
  {
   "cell_type": "markdown",
   "metadata": {},
   "source": [
    "# Ahora se rellena el test"
   ]
  },
  {
   "cell_type": "code",
   "execution_count": 25,
   "metadata": {},
   "outputs": [],
   "source": [
    "modas_ciudades_test = test.dropna().groupby('ciudad').agg(lambda x:x.value_counts().index[0])\n",
    "modas_provincias_test = test.dropna().groupby('provincia').agg(lambda x:x.value_counts().index[0])\n",
    "\n",
    "modas_ciudades_test.drop(columns=['provincia'], inplace=True)\n",
    "modas_provincias_test.drop(columns=['ciudad'], inplace=True)"
   ]
  },
  {
   "cell_type": "code",
   "execution_count": 26,
   "metadata": {},
   "outputs": [
    {
     "data": {
      "text/html": [
       "<div>\n",
       "<style scoped>\n",
       "    .dataframe tbody tr th:only-of-type {\n",
       "        vertical-align: middle;\n",
       "    }\n",
       "\n",
       "    .dataframe tbody tr th {\n",
       "        vertical-align: top;\n",
       "    }\n",
       "\n",
       "    .dataframe thead th {\n",
       "        text-align: right;\n",
       "    }\n",
       "</style>\n",
       "<table border=\"1\" class=\"dataframe\">\n",
       "  <thead>\n",
       "    <tr style=\"text-align: right;\">\n",
       "      <th></th>\n",
       "      <th>tipodepropiedad</th>\n",
       "    </tr>\n",
       "    <tr>\n",
       "      <th>provincia</th>\n",
       "      <th></th>\n",
       "    </tr>\n",
       "  </thead>\n",
       "  <tbody>\n",
       "    <tr>\n",
       "      <th>Aguascalientes</th>\n",
       "      <td>Casa</td>\n",
       "    </tr>\n",
       "    <tr>\n",
       "      <th>Baja California Norte</th>\n",
       "      <td>Casa</td>\n",
       "    </tr>\n",
       "    <tr>\n",
       "      <th>Baja California Sur</th>\n",
       "      <td>Casa</td>\n",
       "    </tr>\n",
       "  </tbody>\n",
       "</table>\n",
       "</div>"
      ],
      "text/plain": [
       "                      tipodepropiedad\n",
       "provincia                            \n",
       "Aguascalientes                   Casa\n",
       "Baja California Norte            Casa\n",
       "Baja California Sur              Casa"
      ]
     },
     "metadata": {},
     "output_type": "display_data"
    },
    {
     "data": {
      "text/plain": [
       "Casa           30\n",
       "Apartamento     2\n",
       "Name: tipodepropiedad, dtype: int64"
      ]
     },
     "execution_count": 26,
     "metadata": {},
     "output_type": "execute_result"
    }
   ],
   "source": [
    "display(modas_provincias_test.head(3))\n",
    "modas_provincias_test['tipodepropiedad'].value_counts()"
   ]
  },
  {
   "cell_type": "code",
   "execution_count": 27,
   "metadata": {},
   "outputs": [
    {
     "data": {
      "text/html": [
       "<div>\n",
       "<style scoped>\n",
       "    .dataframe tbody tr th:only-of-type {\n",
       "        vertical-align: middle;\n",
       "    }\n",
       "\n",
       "    .dataframe tbody tr th {\n",
       "        vertical-align: top;\n",
       "    }\n",
       "\n",
       "    .dataframe thead th {\n",
       "        text-align: right;\n",
       "    }\n",
       "</style>\n",
       "<table border=\"1\" class=\"dataframe\">\n",
       "  <thead>\n",
       "    <tr style=\"text-align: right;\">\n",
       "      <th></th>\n",
       "      <th>tipodepropiedad</th>\n",
       "    </tr>\n",
       "    <tr>\n",
       "      <th>ciudad</th>\n",
       "      <th></th>\n",
       "    </tr>\n",
       "  </thead>\n",
       "  <tbody>\n",
       "    <tr>\n",
       "      <th>Abasolo</th>\n",
       "      <td>Terreno</td>\n",
       "    </tr>\n",
       "    <tr>\n",
       "      <th>Abejones</th>\n",
       "      <td>Terreno</td>\n",
       "    </tr>\n",
       "    <tr>\n",
       "      <th>Acajete</th>\n",
       "      <td>Casa</td>\n",
       "    </tr>\n",
       "  </tbody>\n",
       "</table>\n",
       "</div>"
      ],
      "text/plain": [
       "         tipodepropiedad\n",
       "ciudad                  \n",
       "Abasolo          Terreno\n",
       "Abejones         Terreno\n",
       "Acajete             Casa"
      ]
     },
     "metadata": {},
     "output_type": "display_data"
    },
    {
     "data": {
      "text/plain": [
       "Casa                             436\n",
       "Terreno                           44\n",
       "Apartamento                       23\n",
       "Rancho                            19\n",
       "Local Comercial                   16\n",
       "Villa                             13\n",
       "Terreno comercial                  8\n",
       "Casa en condominio                 8\n",
       "Quinta Vacacional                  7\n",
       "Bodega comercial                   5\n",
       "Inmuebles productivos urbanos      1\n",
       "Edificio                           1\n",
       "Name: tipodepropiedad, dtype: int64"
      ]
     },
     "execution_count": 27,
     "metadata": {},
     "output_type": "execute_result"
    }
   ],
   "source": [
    "display(modas_ciudades_test.head(3))\n",
    "modas_ciudades_test['tipodepropiedad'].value_counts()"
   ]
  },
  {
   "cell_type": "code",
   "execution_count": 29,
   "metadata": {},
   "outputs": [
    {
     "data": {
      "text/plain": [
       "7"
      ]
     },
     "execution_count": 29,
     "metadata": {},
     "output_type": "execute_result"
    }
   ],
   "source": [
    "indice2 = test.loc[test['tipodepropiedad'].isnull()].index\n",
    "indice2.size"
   ]
  },
  {
   "cell_type": "code",
   "execution_count": 30,
   "metadata": {},
   "outputs": [
    {
     "name": "stdout",
     "output_type": "stream",
     "text": [
      "7 de 7\n",
      "CPU times: user 55.4 ms, sys: 256 µs, total: 55.7 ms\n",
      "Wall time: 51.2 ms\n"
     ]
    }
   ],
   "source": [
    "%%time\n",
    "ini = 0\n",
    "fin = indice2.size\n",
    "i=1\n",
    "for index in indice2[ini:fin] :\n",
    "    clear_output(wait=True)\n",
    "    # La condición está porque hay ciudades que no registran tipos de propiedad.\n",
    "    if(test.loc[index, 'ciudad'] in modas_ciudades_test.index):\n",
    "        test.loc[index, 'tipodepropiedad'] = modas_ciudades_test.loc[test.loc[index, 'ciudad'], 'tipodepropiedad']\n",
    "    print(i, 'de', fin - ini)\n",
    "    i = i + 1"
   ]
  },
  {
   "cell_type": "code",
   "execution_count": 31,
   "metadata": {},
   "outputs": [
    {
     "data": {
      "text/plain": [
       "tipodepropiedad    0\n",
       "ciudad             0\n",
       "provincia          0\n",
       "dtype: int64"
      ]
     },
     "execution_count": 31,
     "metadata": {},
     "output_type": "execute_result"
    }
   ],
   "source": [
    "test.isnull().sum()"
   ]
  },
  {
   "cell_type": "markdown",
   "metadata": {},
   "source": [
    "# Se pueden quitar las columnas 'ciudad' y 'provincia'"
   ]
  },
  {
   "cell_type": "code",
   "execution_count": 34,
   "metadata": {},
   "outputs": [],
   "source": [
    "train.drop(columns=['ciudad', 'provincia'], inplace=True)\n",
    "test.drop(columns=['ciudad', 'provincia'], inplace=True)"
   ]
  },
  {
   "cell_type": "code",
   "execution_count": 35,
   "metadata": {},
   "outputs": [],
   "source": [
    "train.to_csv('../data/features/tipodepropiedad_completo_train.csv', index=False)"
   ]
  },
  {
   "cell_type": "code",
   "execution_count": 38,
   "metadata": {},
   "outputs": [
    {
     "data": {
      "text/html": [
       "<div>\n",
       "<style scoped>\n",
       "    .dataframe tbody tr th:only-of-type {\n",
       "        vertical-align: middle;\n",
       "    }\n",
       "\n",
       "    .dataframe tbody tr th {\n",
       "        vertical-align: top;\n",
       "    }\n",
       "\n",
       "    .dataframe thead th {\n",
       "        text-align: right;\n",
       "    }\n",
       "</style>\n",
       "<table border=\"1\" class=\"dataframe\">\n",
       "  <thead>\n",
       "    <tr style=\"text-align: right;\">\n",
       "      <th></th>\n",
       "      <th>tipodepropiedad</th>\n",
       "    </tr>\n",
       "  </thead>\n",
       "  <tbody>\n",
       "    <tr>\n",
       "      <th>0</th>\n",
       "      <td>Apartamento</td>\n",
       "    </tr>\n",
       "    <tr>\n",
       "      <th>1</th>\n",
       "      <td>Casa en condominio</td>\n",
       "    </tr>\n",
       "    <tr>\n",
       "      <th>2</th>\n",
       "      <td>Casa</td>\n",
       "    </tr>\n",
       "    <tr>\n",
       "      <th>3</th>\n",
       "      <td>Casa</td>\n",
       "    </tr>\n",
       "    <tr>\n",
       "      <th>4</th>\n",
       "      <td>Apartamento</td>\n",
       "    </tr>\n",
       "    <tr>\n",
       "      <th>...</th>\n",
       "      <td>...</td>\n",
       "    </tr>\n",
       "    <tr>\n",
       "      <th>239995</th>\n",
       "      <td>Casa</td>\n",
       "    </tr>\n",
       "    <tr>\n",
       "      <th>239996</th>\n",
       "      <td>Casa</td>\n",
       "    </tr>\n",
       "    <tr>\n",
       "      <th>239997</th>\n",
       "      <td>Apartamento</td>\n",
       "    </tr>\n",
       "    <tr>\n",
       "      <th>239998</th>\n",
       "      <td>Casa</td>\n",
       "    </tr>\n",
       "    <tr>\n",
       "      <th>239999</th>\n",
       "      <td>Apartamento</td>\n",
       "    </tr>\n",
       "  </tbody>\n",
       "</table>\n",
       "<p>240000 rows × 1 columns</p>\n",
       "</div>"
      ],
      "text/plain": [
       "           tipodepropiedad\n",
       "0              Apartamento\n",
       "1       Casa en condominio\n",
       "2                     Casa\n",
       "3                     Casa\n",
       "4              Apartamento\n",
       "...                    ...\n",
       "239995                Casa\n",
       "239996                Casa\n",
       "239997         Apartamento\n",
       "239998                Casa\n",
       "239999         Apartamento\n",
       "\n",
       "[240000 rows x 1 columns]"
      ]
     },
     "execution_count": 38,
     "metadata": {},
     "output_type": "execute_result"
    }
   ],
   "source": [
    "prueba = pd.read_csv('../data/features/tipodepropiedad_completo_train.csv')\n",
    "prueba"
   ]
  },
  {
   "cell_type": "code",
   "execution_count": 39,
   "metadata": {},
   "outputs": [],
   "source": [
    "test.to_csv('../data/features/tipodepropiedad_completo_test.csv', index=False)"
   ]
  },
  {
   "cell_type": "code",
   "execution_count": 40,
   "metadata": {},
   "outputs": [
    {
     "data": {
      "text/html": [
       "<div>\n",
       "<style scoped>\n",
       "    .dataframe tbody tr th:only-of-type {\n",
       "        vertical-align: middle;\n",
       "    }\n",
       "\n",
       "    .dataframe tbody tr th {\n",
       "        vertical-align: top;\n",
       "    }\n",
       "\n",
       "    .dataframe thead th {\n",
       "        text-align: right;\n",
       "    }\n",
       "</style>\n",
       "<table border=\"1\" class=\"dataframe\">\n",
       "  <thead>\n",
       "    <tr style=\"text-align: right;\">\n",
       "      <th></th>\n",
       "      <th>tipodepropiedad</th>\n",
       "    </tr>\n",
       "  </thead>\n",
       "  <tbody>\n",
       "    <tr>\n",
       "      <th>0</th>\n",
       "      <td>Casa</td>\n",
       "    </tr>\n",
       "    <tr>\n",
       "      <th>1</th>\n",
       "      <td>Apartamento</td>\n",
       "    </tr>\n",
       "    <tr>\n",
       "      <th>2</th>\n",
       "      <td>Apartamento</td>\n",
       "    </tr>\n",
       "    <tr>\n",
       "      <th>3</th>\n",
       "      <td>Apartamento</td>\n",
       "    </tr>\n",
       "    <tr>\n",
       "      <th>4</th>\n",
       "      <td>Casa</td>\n",
       "    </tr>\n",
       "    <tr>\n",
       "      <th>...</th>\n",
       "      <td>...</td>\n",
       "    </tr>\n",
       "    <tr>\n",
       "      <th>59995</th>\n",
       "      <td>Casa</td>\n",
       "    </tr>\n",
       "    <tr>\n",
       "      <th>59996</th>\n",
       "      <td>Casa</td>\n",
       "    </tr>\n",
       "    <tr>\n",
       "      <th>59997</th>\n",
       "      <td>Casa</td>\n",
       "    </tr>\n",
       "    <tr>\n",
       "      <th>59998</th>\n",
       "      <td>Casa</td>\n",
       "    </tr>\n",
       "    <tr>\n",
       "      <th>59999</th>\n",
       "      <td>Casa</td>\n",
       "    </tr>\n",
       "  </tbody>\n",
       "</table>\n",
       "<p>60000 rows × 1 columns</p>\n",
       "</div>"
      ],
      "text/plain": [
       "      tipodepropiedad\n",
       "0                Casa\n",
       "1         Apartamento\n",
       "2         Apartamento\n",
       "3         Apartamento\n",
       "4                Casa\n",
       "...               ...\n",
       "59995            Casa\n",
       "59996            Casa\n",
       "59997            Casa\n",
       "59998            Casa\n",
       "59999            Casa\n",
       "\n",
       "[60000 rows x 1 columns]"
      ]
     },
     "execution_count": 40,
     "metadata": {},
     "output_type": "execute_result"
    }
   ],
   "source": [
    "prueba = pd.read_csv('../data/features/tipodepropiedad_completo_test.csv')\n",
    "prueba"
   ]
  },
  {
   "cell_type": "code",
   "execution_count": 41,
   "metadata": {},
   "outputs": [],
   "source": [
    "import category_encoders as ce"
   ]
  },
  {
   "cell_type": "markdown",
   "metadata": {},
   "source": [
    "---\n",
    "---\n",
    "# Binary Encoding\n",
    "---\n",
    "---"
   ]
  },
  {
   "cell_type": "code",
   "execution_count": 51,
   "metadata": {},
   "outputs": [
    {
     "data": {
      "text/plain": [
       "BinaryEncoder(cols=None, drop_invariant=False, handle_missing='value',\n",
       "              handle_unknown='value', mapping=None, return_df=True, verbose=0)"
      ]
     },
     "execution_count": 51,
     "metadata": {},
     "output_type": "execute_result"
    }
   ],
   "source": [
    "# # Se juntan todos los tipos de propiedad\n",
    "# vector_tipo_prop = train['tipodepropiedad']\n",
    "# vector_tipo_prop = vector_tipo_prop.append(test['tipodepropiedad'])\n",
    "# # Se instancia el encoder\n",
    "# BI_encoder = ce.BinaryEncoder()\n",
    "# # Se entrena el encoder\n",
    "# BI_encoder.fit(vector_tipo_prop)"
   ]
  },
  {
   "cell_type": "code",
   "execution_count": 55,
   "metadata": {},
   "outputs": [],
   "source": [
    "# # Se pasa a categóricos.\n",
    "# train = train.astype('category')\n",
    "# test = test.astype('category')"
   ]
  },
  {
   "cell_type": "code",
   "execution_count": 56,
   "metadata": {},
   "outputs": [],
   "source": [
    "# df_train = BI_encoder.transform(train['tipodepropiedad'])\n",
    "# df_test = BI_encoder.transform(test['tipodepropiedad'])"
   ]
  },
  {
   "cell_type": "code",
   "execution_count": 58,
   "metadata": {},
   "outputs": [],
   "source": [
    "# df_train.to_csv('../data/features/ftr_tipo_prop_be_train.csv', index=False)\n",
    "# df_test.to_csv('../data/features/ftr_tipo_prop_be_test.csv', index=False)"
   ]
  },
  {
   "cell_type": "markdown",
   "metadata": {},
   "source": [
    "---\n",
    "---\n",
    "# One Hot Encoding\n",
    "---\n",
    "---"
   ]
  },
  {
   "cell_type": "code",
   "execution_count": 61,
   "metadata": {},
   "outputs": [
    {
     "data": {
      "text/plain": [
       "OneHotEncoder(cols=['tipodepropiedad'], drop_invariant=False,\n",
       "              handle_missing='value', handle_unknown='value', return_df=True,\n",
       "              use_cat_names=False, verbose=0)"
      ]
     },
     "execution_count": 61,
     "metadata": {},
     "output_type": "execute_result"
    }
   ],
   "source": [
    "# Se instancia el encoder\n",
    "OH_encoder = ce.OneHotEncoder()\n",
    "# Se entrena el encoder\n",
    "OH_encoder.fit(vector_tipo_prop)"
   ]
  },
  {
   "cell_type": "code",
   "execution_count": 62,
   "metadata": {},
   "outputs": [],
   "source": [
    "df_train2 = OH_encoder.transform(train['tipodepropiedad'])\n",
    "df_test2 = OH_encoder.transform(test['tipodepropiedad'])"
   ]
  },
  {
   "cell_type": "code",
   "execution_count": 63,
   "metadata": {},
   "outputs": [],
   "source": [
    "df_train2.to_csv('../data/features/ftr_tipo_prop_ohe_V2_train.csv', index=False)\n",
    "df_test2.to_csv('../data/features/ftr_tipo_prop_ohe_V2_test.csv', index=False)"
   ]
  },
  {
   "cell_type": "markdown",
   "metadata": {},
   "source": [
    "---\n",
    "---\n",
    "# Label Encoding\n",
    "---\n",
    "---"
   ]
  },
  {
   "cell_type": "code",
   "execution_count": 64,
   "metadata": {},
   "outputs": [],
   "source": [
    "# from sklearn.preprocessing import LabelEncoder"
   ]
  },
  {
   "cell_type": "code",
   "execution_count": 65,
   "metadata": {},
   "outputs": [
    {
     "data": {
      "text/plain": [
       "LabelEncoder()"
      ]
     },
     "execution_count": 65,
     "metadata": {},
     "output_type": "execute_result"
    }
   ],
   "source": [
    "# # Se instancia el encoder\n",
    "# LE_encoder = LabelEncoder()\n",
    "# # Se entrena el encoder\n",
    "# LE_encoder.fit(vector_tipo_prop)"
   ]
  },
  {
   "cell_type": "code",
   "execution_count": 66,
   "metadata": {},
   "outputs": [],
   "source": [
    "# df_train3 = LE_encoder.transform(train['tipodepropiedad'])\n",
    "# df_test3 = LE_encoder.transform(test['tipodepropiedad'])"
   ]
  },
  {
   "cell_type": "code",
   "execution_count": 71,
   "metadata": {},
   "outputs": [],
   "source": [
    "# df_train3 = pd.DataFrame(data=df_train3, columns=['tipodepropiedad_LE'])\n",
    "# df_test3 = pd.DataFrame(data=df_test3, columns=['tipodepropiedad_LE'])"
   ]
  },
  {
   "cell_type": "code",
   "execution_count": 74,
   "metadata": {},
   "outputs": [],
   "source": [
    "# df_train3.to_csv('../data/features/ftr_tipo_prop_le_train.csv', index=False)\n",
    "# df_test3.to_csv('../data/features/ftr_tipo_prop_le_test.csv', index=False)"
   ]
  }
 ],
 "metadata": {
  "kernelspec": {
   "display_name": "Python 3",
   "language": "python",
   "name": "python3"
  },
  "language_info": {
   "codemirror_mode": {
    "name": "ipython",
    "version": 3
   },
   "file_extension": ".py",
   "mimetype": "text/x-python",
   "name": "python",
   "nbconvert_exporter": "python",
   "pygments_lexer": "ipython3",
   "version": "3.7.5"
  }
 },
 "nbformat": 4,
 "nbformat_minor": 2
}
