{
 "cells": [
  {
   "cell_type": "code",
   "execution_count": 1,
   "metadata": {},
   "outputs": [],
   "source": [
    "import numpy as np\n",
    "import pandas as pd\n",
    "\n",
    "from IPython.display import clear_output\n",
    "from geopy.geocoders import Nominatim"
   ]
  },
  {
   "cell_type": "code",
   "execution_count": 4,
   "metadata": {},
   "outputs": [],
   "source": [
    "test = pd.read_csv('../data/aux_minus_bad_coord_test.csv')"
   ]
  },
  {
   "cell_type": "markdown",
   "metadata": {},
   "source": [
    "##### Se rellenan las ciudades para coordenadas válidadas. Primero se ubican estos casos."
   ]
  },
  {
   "cell_type": "code",
   "execution_count": 5,
   "metadata": {
    "scrolled": true
   },
   "outputs": [
    {
     "data": {
      "text/html": [
       "<div>\n",
       "<style scoped>\n",
       "    .dataframe tbody tr th:only-of-type {\n",
       "        vertical-align: middle;\n",
       "    }\n",
       "\n",
       "    .dataframe tbody tr th {\n",
       "        vertical-align: top;\n",
       "    }\n",
       "\n",
       "    .dataframe thead th {\n",
       "        text-align: right;\n",
       "    }\n",
       "</style>\n",
       "<table border=\"1\" class=\"dataframe\">\n",
       "  <thead>\n",
       "    <tr style=\"text-align: right;\">\n",
       "      <th></th>\n",
       "      <th>ciudad</th>\n",
       "      <th>provincia</th>\n",
       "      <th>lat</th>\n",
       "      <th>lng</th>\n",
       "    </tr>\n",
       "  </thead>\n",
       "  <tbody>\n",
       "    <tr>\n",
       "      <th>2002</th>\n",
       "      <td>NaN</td>\n",
       "      <td>San luis Potosí</td>\n",
       "      <td>22.174800</td>\n",
       "      <td>-101.044000</td>\n",
       "    </tr>\n",
       "    <tr>\n",
       "      <th>4607</th>\n",
       "      <td>NaN</td>\n",
       "      <td>NaN</td>\n",
       "      <td>19.361159</td>\n",
       "      <td>-99.170720</td>\n",
       "    </tr>\n",
       "    <tr>\n",
       "      <th>5381</th>\n",
       "      <td>NaN</td>\n",
       "      <td>NaN</td>\n",
       "      <td>19.417707</td>\n",
       "      <td>-99.261754</td>\n",
       "    </tr>\n",
       "    <tr>\n",
       "      <th>9360</th>\n",
       "      <td>NaN</td>\n",
       "      <td>NaN</td>\n",
       "      <td>22.136035</td>\n",
       "      <td>-101.018418</td>\n",
       "    </tr>\n",
       "    <tr>\n",
       "      <th>9389</th>\n",
       "      <td>NaN</td>\n",
       "      <td>Veracruz</td>\n",
       "      <td>22.201100</td>\n",
       "      <td>-97.847000</td>\n",
       "    </tr>\n",
       "    <tr>\n",
       "      <th>9984</th>\n",
       "      <td>NaN</td>\n",
       "      <td>San luis Potosí</td>\n",
       "      <td>22.158500</td>\n",
       "      <td>-101.051000</td>\n",
       "    </tr>\n",
       "    <tr>\n",
       "      <th>11086</th>\n",
       "      <td>NaN</td>\n",
       "      <td>Distrito Federal</td>\n",
       "      <td>19.432400</td>\n",
       "      <td>-99.208900</td>\n",
       "    </tr>\n",
       "    <tr>\n",
       "      <th>12137</th>\n",
       "      <td>NaN</td>\n",
       "      <td>Distrito Federal</td>\n",
       "      <td>19.322348</td>\n",
       "      <td>-99.130562</td>\n",
       "    </tr>\n",
       "    <tr>\n",
       "      <th>12294</th>\n",
       "      <td>NaN</td>\n",
       "      <td>Jalisco</td>\n",
       "      <td>20.524400</td>\n",
       "      <td>-103.359000</td>\n",
       "    </tr>\n",
       "    <tr>\n",
       "      <th>13655</th>\n",
       "      <td>NaN</td>\n",
       "      <td>NaN</td>\n",
       "      <td>20.543195</td>\n",
       "      <td>-100.402744</td>\n",
       "    </tr>\n",
       "    <tr>\n",
       "      <th>14057</th>\n",
       "      <td>NaN</td>\n",
       "      <td>San luis Potosí</td>\n",
       "      <td>22.128998</td>\n",
       "      <td>-101.018311</td>\n",
       "    </tr>\n",
       "    <tr>\n",
       "      <th>14457</th>\n",
       "      <td>NaN</td>\n",
       "      <td>San luis Potosí</td>\n",
       "      <td>20.716079</td>\n",
       "      <td>-100.442355</td>\n",
       "    </tr>\n",
       "    <tr>\n",
       "      <th>17117</th>\n",
       "      <td>NaN</td>\n",
       "      <td>NaN</td>\n",
       "      <td>19.374100</td>\n",
       "      <td>-99.188300</td>\n",
       "    </tr>\n",
       "    <tr>\n",
       "      <th>17332</th>\n",
       "      <td>NaN</td>\n",
       "      <td>Jalisco</td>\n",
       "      <td>20.769500</td>\n",
       "      <td>-103.338000</td>\n",
       "    </tr>\n",
       "    <tr>\n",
       "      <th>22450</th>\n",
       "      <td>NaN</td>\n",
       "      <td>NaN</td>\n",
       "      <td>20.570801</td>\n",
       "      <td>-100.389977</td>\n",
       "    </tr>\n",
       "    <tr>\n",
       "      <th>24441</th>\n",
       "      <td>NaN</td>\n",
       "      <td>NaN</td>\n",
       "      <td>20.653025</td>\n",
       "      <td>-100.347404</td>\n",
       "    </tr>\n",
       "    <tr>\n",
       "      <th>25774</th>\n",
       "      <td>NaN</td>\n",
       "      <td>Tamaulipas</td>\n",
       "      <td>22.283300</td>\n",
       "      <td>-97.876300</td>\n",
       "    </tr>\n",
       "    <tr>\n",
       "      <th>27709</th>\n",
       "      <td>NaN</td>\n",
       "      <td>Distrito Federal</td>\n",
       "      <td>19.363300</td>\n",
       "      <td>-99.230300</td>\n",
       "    </tr>\n",
       "    <tr>\n",
       "      <th>28426</th>\n",
       "      <td>NaN</td>\n",
       "      <td>Jalisco</td>\n",
       "      <td>20.666300</td>\n",
       "      <td>-103.236000</td>\n",
       "    </tr>\n",
       "    <tr>\n",
       "      <th>36675</th>\n",
       "      <td>NaN</td>\n",
       "      <td>NaN</td>\n",
       "      <td>20.619751</td>\n",
       "      <td>-100.405812</td>\n",
       "    </tr>\n",
       "    <tr>\n",
       "      <th>37602</th>\n",
       "      <td>NaN</td>\n",
       "      <td>Jalisco</td>\n",
       "      <td>20.624700</td>\n",
       "      <td>-103.417000</td>\n",
       "    </tr>\n",
       "    <tr>\n",
       "      <th>42488</th>\n",
       "      <td>NaN</td>\n",
       "      <td>NaN</td>\n",
       "      <td>19.381975</td>\n",
       "      <td>-99.140665</td>\n",
       "    </tr>\n",
       "    <tr>\n",
       "      <th>44300</th>\n",
       "      <td>NaN</td>\n",
       "      <td>San luis Potosí</td>\n",
       "      <td>22.114700</td>\n",
       "      <td>-100.895000</td>\n",
       "    </tr>\n",
       "    <tr>\n",
       "      <th>46981</th>\n",
       "      <td>NaN</td>\n",
       "      <td>San luis Potosí</td>\n",
       "      <td>22.198102</td>\n",
       "      <td>-100.957770</td>\n",
       "    </tr>\n",
       "    <tr>\n",
       "      <th>47228</th>\n",
       "      <td>NaN</td>\n",
       "      <td>NaN</td>\n",
       "      <td>20.625474</td>\n",
       "      <td>-100.454221</td>\n",
       "    </tr>\n",
       "    <tr>\n",
       "      <th>47975</th>\n",
       "      <td>NaN</td>\n",
       "      <td>San luis Potosí</td>\n",
       "      <td>22.130900</td>\n",
       "      <td>-100.963000</td>\n",
       "    </tr>\n",
       "    <tr>\n",
       "      <th>48858</th>\n",
       "      <td>NaN</td>\n",
       "      <td>Edo. de México</td>\n",
       "      <td>19.499700</td>\n",
       "      <td>-99.244500</td>\n",
       "    </tr>\n",
       "    <tr>\n",
       "      <th>50572</th>\n",
       "      <td>NaN</td>\n",
       "      <td>NaN</td>\n",
       "      <td>20.548741</td>\n",
       "      <td>-100.348864</td>\n",
       "    </tr>\n",
       "    <tr>\n",
       "      <th>51720</th>\n",
       "      <td>NaN</td>\n",
       "      <td>San luis Potosí</td>\n",
       "      <td>22.143488</td>\n",
       "      <td>-101.026905</td>\n",
       "    </tr>\n",
       "    <tr>\n",
       "      <th>58495</th>\n",
       "      <td>NaN</td>\n",
       "      <td>San luis Potosí</td>\n",
       "      <td>22.162400</td>\n",
       "      <td>-100.958000</td>\n",
       "    </tr>\n",
       "    <tr>\n",
       "      <th>59385</th>\n",
       "      <td>NaN</td>\n",
       "      <td>Jalisco</td>\n",
       "      <td>20.671100</td>\n",
       "      <td>-103.410000</td>\n",
       "    </tr>\n",
       "    <tr>\n",
       "      <th>59552</th>\n",
       "      <td>NaN</td>\n",
       "      <td>Jalisco</td>\n",
       "      <td>20.611295</td>\n",
       "      <td>-103.370870</td>\n",
       "    </tr>\n",
       "  </tbody>\n",
       "</table>\n",
       "</div>"
      ],
      "text/plain": [
       "      ciudad         provincia        lat         lng\n",
       "2002     NaN   San luis Potosí  22.174800 -101.044000\n",
       "4607     NaN               NaN  19.361159  -99.170720\n",
       "5381     NaN               NaN  19.417707  -99.261754\n",
       "9360     NaN               NaN  22.136035 -101.018418\n",
       "9389     NaN          Veracruz  22.201100  -97.847000\n",
       "9984     NaN   San luis Potosí  22.158500 -101.051000\n",
       "11086    NaN  Distrito Federal  19.432400  -99.208900\n",
       "12137    NaN  Distrito Federal  19.322348  -99.130562\n",
       "12294    NaN           Jalisco  20.524400 -103.359000\n",
       "13655    NaN               NaN  20.543195 -100.402744\n",
       "14057    NaN   San luis Potosí  22.128998 -101.018311\n",
       "14457    NaN   San luis Potosí  20.716079 -100.442355\n",
       "17117    NaN               NaN  19.374100  -99.188300\n",
       "17332    NaN           Jalisco  20.769500 -103.338000\n",
       "22450    NaN               NaN  20.570801 -100.389977\n",
       "24441    NaN               NaN  20.653025 -100.347404\n",
       "25774    NaN        Tamaulipas  22.283300  -97.876300\n",
       "27709    NaN  Distrito Federal  19.363300  -99.230300\n",
       "28426    NaN           Jalisco  20.666300 -103.236000\n",
       "36675    NaN               NaN  20.619751 -100.405812\n",
       "37602    NaN           Jalisco  20.624700 -103.417000\n",
       "42488    NaN               NaN  19.381975  -99.140665\n",
       "44300    NaN   San luis Potosí  22.114700 -100.895000\n",
       "46981    NaN   San luis Potosí  22.198102 -100.957770\n",
       "47228    NaN               NaN  20.625474 -100.454221\n",
       "47975    NaN   San luis Potosí  22.130900 -100.963000\n",
       "48858    NaN    Edo. de México  19.499700  -99.244500\n",
       "50572    NaN               NaN  20.548741 -100.348864\n",
       "51720    NaN   San luis Potosí  22.143488 -101.026905\n",
       "58495    NaN   San luis Potosí  22.162400 -100.958000\n",
       "59385    NaN           Jalisco  20.671100 -103.410000\n",
       "59552    NaN           Jalisco  20.611295 -103.370870"
      ]
     },
     "execution_count": 5,
     "metadata": {},
     "output_type": "execute_result"
    }
   ],
   "source": [
    "indice = test.loc[(test['ciudad'].isnull()) & (~test['lat'].isnull())].index\n",
    "test.loc[indice, :]"
   ]
  },
  {
   "cell_type": "code",
   "execution_count": 6,
   "metadata": {},
   "outputs": [],
   "source": [
    "geolocator = Nominatim(user_agent=\"my-application\")"
   ]
  },
  {
   "cell_type": "code",
   "execution_count": 8,
   "metadata": {},
   "outputs": [
    {
     "name": "stdout",
     "output_type": "stream",
     "text": [
      "32 de 32\n",
      "CPU times: user 403 ms, sys: 19.7 ms, total: 422 ms\n",
      "Wall time: 35.7 s\n"
     ]
    }
   ],
   "source": [
    "%%time\n",
    "ini = 0\n",
    "fin = indice.size\n",
    "i=1\n",
    "for index in indice[ini:fin] :\n",
    "    clear_output(wait=True)\n",
    "    location = geolocator.reverse(str(test.loc[index, 'lat'])+','+str(test.loc[index, 'lng']))\n",
    "    diccionario = location.raw['address']\n",
    "    data = diccionario.get(\"city\", np.NaN)\n",
    "    test.loc[index, 'ciudad'] = data\n",
    "    print(i, 'de', fin - ini)\n",
    "    i = i + 1"
   ]
  },
  {
   "cell_type": "markdown",
   "metadata": {},
   "source": [
    "##### Aquí se ubica el primer índice que no completa ciudad, luego de una excepción."
   ]
  },
  {
   "cell_type": "code",
   "execution_count": 9,
   "metadata": {
    "scrolled": true
   },
   "outputs": [
    {
     "data": {
      "text/html": [
       "<div>\n",
       "<style scoped>\n",
       "    .dataframe tbody tr th:only-of-type {\n",
       "        vertical-align: middle;\n",
       "    }\n",
       "\n",
       "    .dataframe tbody tr th {\n",
       "        vertical-align: top;\n",
       "    }\n",
       "\n",
       "    .dataframe thead th {\n",
       "        text-align: right;\n",
       "    }\n",
       "</style>\n",
       "<table border=\"1\" class=\"dataframe\">\n",
       "  <thead>\n",
       "    <tr style=\"text-align: right;\">\n",
       "      <th></th>\n",
       "      <th>ciudad</th>\n",
       "      <th>provincia</th>\n",
       "      <th>lat</th>\n",
       "      <th>lng</th>\n",
       "    </tr>\n",
       "  </thead>\n",
       "  <tbody>\n",
       "    <tr>\n",
       "      <th>4607</th>\n",
       "      <td>NaN</td>\n",
       "      <td>NaN</td>\n",
       "      <td>19.361159</td>\n",
       "      <td>-99.17072</td>\n",
       "    </tr>\n",
       "    <tr>\n",
       "      <th>9389</th>\n",
       "      <td>NaN</td>\n",
       "      <td>Veracruz</td>\n",
       "      <td>22.201100</td>\n",
       "      <td>-97.84700</td>\n",
       "    </tr>\n",
       "    <tr>\n",
       "      <th>12294</th>\n",
       "      <td>NaN</td>\n",
       "      <td>Jalisco</td>\n",
       "      <td>20.524400</td>\n",
       "      <td>-103.35900</td>\n",
       "    </tr>\n",
       "  </tbody>\n",
       "</table>\n",
       "</div>"
      ],
      "text/plain": [
       "      ciudad provincia        lat        lng\n",
       "4607     NaN       NaN  19.361159  -99.17072\n",
       "9389     NaN  Veracruz  22.201100  -97.84700\n",
       "12294    NaN   Jalisco  20.524400 -103.35900"
      ]
     },
     "execution_count": 9,
     "metadata": {},
     "output_type": "execute_result"
    }
   ],
   "source": [
    "test.loc[(test['ciudad'].isnull()) & (~test['lat'].isnull())].head(3)"
   ]
  },
  {
   "cell_type": "code",
   "execution_count": 11,
   "metadata": {},
   "outputs": [
    {
     "data": {
      "text/plain": [
       "(12, 4)"
      ]
     },
     "execution_count": 11,
     "metadata": {},
     "output_type": "execute_result"
    }
   ],
   "source": [
    "test.loc[(test['ciudad'].isnull()) & (~test['lat'].isnull())].shape"
   ]
  },
  {
   "cell_type": "markdown",
   "metadata": {},
   "source": [
    "##### Faltan llenar 12 casos. Se hace manualmente."
   ]
  },
  {
   "cell_type": "code",
   "execution_count": 13,
   "metadata": {},
   "outputs": [
    {
     "data": {
      "text/plain": [
       "ciudad       12\n",
       "provincia    11\n",
       "lat           0\n",
       "lng           0\n",
       "dtype: int64"
      ]
     },
     "execution_count": 13,
     "metadata": {},
     "output_type": "execute_result"
    }
   ],
   "source": [
    "test.loc[indice, :].isnull().sum()"
   ]
  },
  {
   "cell_type": "markdown",
   "metadata": {},
   "source": [
    "##### Cuando sale un error por acceso a índice en 0, quiere decir que se terminó la busqueda con las condiciones pedidas."
   ]
  },
  {
   "cell_type": "code",
   "execution_count": 48,
   "metadata": {},
   "outputs": [
    {
     "data": {
      "text/html": [
       "<div>\n",
       "<style scoped>\n",
       "    .dataframe tbody tr th:only-of-type {\n",
       "        vertical-align: middle;\n",
       "    }\n",
       "\n",
       "    .dataframe tbody tr th {\n",
       "        vertical-align: top;\n",
       "    }\n",
       "\n",
       "    .dataframe thead th {\n",
       "        text-align: right;\n",
       "    }\n",
       "</style>\n",
       "<table border=\"1\" class=\"dataframe\">\n",
       "  <thead>\n",
       "    <tr style=\"text-align: right;\">\n",
       "      <th></th>\n",
       "      <th>ciudad</th>\n",
       "      <th>provincia</th>\n",
       "      <th>lat</th>\n",
       "      <th>lng</th>\n",
       "    </tr>\n",
       "  </thead>\n",
       "  <tbody>\n",
       "  </tbody>\n",
       "</table>\n",
       "</div>"
      ],
      "text/plain": [
       "Empty DataFrame\n",
       "Columns: [ciudad, provincia, lat, lng]\n",
       "Index: []"
      ]
     },
     "metadata": {},
     "output_type": "display_data"
    },
    {
     "ename": "IndexError",
     "evalue": "index 0 is out of bounds for axis 0 with size 0",
     "output_type": "error",
     "traceback": [
      "\u001b[0;31m---------------------------------------------------------------------------\u001b[0m",
      "\u001b[0;31mIndexError\u001b[0m                                Traceback (most recent call last)",
      "\u001b[0;32m<ipython-input-48-66896c7c2c23>\u001b[0m in \u001b[0;36m<module>\u001b[0;34m\u001b[0m\n\u001b[1;32m      1\u001b[0m \u001b[0mdisplay\u001b[0m\u001b[0;34m(\u001b[0m\u001b[0mtest\u001b[0m\u001b[0;34m.\u001b[0m\u001b[0mloc\u001b[0m\u001b[0;34m[\u001b[0m\u001b[0;34m(\u001b[0m\u001b[0mtest\u001b[0m\u001b[0;34m[\u001b[0m\u001b[0;34m'ciudad'\u001b[0m\u001b[0;34m]\u001b[0m\u001b[0;34m.\u001b[0m\u001b[0misnull\u001b[0m\u001b[0;34m(\u001b[0m\u001b[0;34m)\u001b[0m\u001b[0;34m)\u001b[0m \u001b[0;34m&\u001b[0m \u001b[0;34m(\u001b[0m\u001b[0;34m~\u001b[0m\u001b[0mtest\u001b[0m\u001b[0;34m[\u001b[0m\u001b[0;34m'lat'\u001b[0m\u001b[0;34m]\u001b[0m\u001b[0;34m.\u001b[0m\u001b[0misnull\u001b[0m\u001b[0;34m(\u001b[0m\u001b[0;34m)\u001b[0m\u001b[0;34m)\u001b[0m\u001b[0;34m]\u001b[0m\u001b[0;34m.\u001b[0m\u001b[0mhead\u001b[0m\u001b[0;34m(\u001b[0m\u001b[0;36m1\u001b[0m\u001b[0;34m)\u001b[0m\u001b[0;34m)\u001b[0m\u001b[0;34m\u001b[0m\u001b[0;34m\u001b[0m\u001b[0m\n\u001b[0;32m----> 2\u001b[0;31m \u001b[0mindice_aux\u001b[0m \u001b[0;34m=\u001b[0m \u001b[0mtest\u001b[0m\u001b[0;34m.\u001b[0m\u001b[0mloc\u001b[0m\u001b[0;34m[\u001b[0m\u001b[0;34m(\u001b[0m\u001b[0mtest\u001b[0m\u001b[0;34m[\u001b[0m\u001b[0;34m'ciudad'\u001b[0m\u001b[0;34m]\u001b[0m\u001b[0;34m.\u001b[0m\u001b[0misnull\u001b[0m\u001b[0;34m(\u001b[0m\u001b[0;34m)\u001b[0m\u001b[0;34m)\u001b[0m \u001b[0;34m&\u001b[0m \u001b[0;34m(\u001b[0m\u001b[0;34m~\u001b[0m\u001b[0mtest\u001b[0m\u001b[0;34m[\u001b[0m\u001b[0;34m'lat'\u001b[0m\u001b[0;34m]\u001b[0m\u001b[0;34m.\u001b[0m\u001b[0misnull\u001b[0m\u001b[0;34m(\u001b[0m\u001b[0;34m)\u001b[0m\u001b[0;34m)\u001b[0m\u001b[0;34m]\u001b[0m\u001b[0;34m.\u001b[0m\u001b[0mindex\u001b[0m\u001b[0;34m[\u001b[0m\u001b[0;36m0\u001b[0m\u001b[0;34m]\u001b[0m\u001b[0;34m\u001b[0m\u001b[0;34m\u001b[0m\u001b[0m\n\u001b[0m\u001b[1;32m      3\u001b[0m \u001b[0;34m\u001b[0m\u001b[0m\n\u001b[1;32m      4\u001b[0m \u001b[0mprint\u001b[0m\u001b[0;34m(\u001b[0m\u001b[0;34m'Copiar las siguientes coordendas:'\u001b[0m\u001b[0;34m)\u001b[0m\u001b[0;34m\u001b[0m\u001b[0;34m\u001b[0m\u001b[0m\n\u001b[1;32m      5\u001b[0m \u001b[0mprint\u001b[0m\u001b[0;34m(\u001b[0m\u001b[0mstr\u001b[0m\u001b[0;34m(\u001b[0m\u001b[0mtest\u001b[0m\u001b[0;34m.\u001b[0m\u001b[0mloc\u001b[0m\u001b[0;34m[\u001b[0m\u001b[0mindice_aux\u001b[0m\u001b[0;34m,\u001b[0m \u001b[0;34m'lat'\u001b[0m\u001b[0;34m]\u001b[0m\u001b[0;34m)\u001b[0m\u001b[0;34m+\u001b[0m\u001b[0;34m','\u001b[0m\u001b[0;34m+\u001b[0m\u001b[0mstr\u001b[0m\u001b[0;34m(\u001b[0m\u001b[0mtest\u001b[0m\u001b[0;34m.\u001b[0m\u001b[0mloc\u001b[0m\u001b[0;34m[\u001b[0m\u001b[0mindice_aux\u001b[0m\u001b[0;34m,\u001b[0m \u001b[0;34m'lng'\u001b[0m\u001b[0;34m]\u001b[0m\u001b[0;34m)\u001b[0m\u001b[0;34m)\u001b[0m\u001b[0;34m\u001b[0m\u001b[0;34m\u001b[0m\u001b[0m\n",
      "\u001b[0;32m~/.local/lib/python3.7/site-packages/pandas/core/indexes/base.py\u001b[0m in \u001b[0;36m__getitem__\u001b[0;34m(self, key)\u001b[0m\n\u001b[1;32m   4278\u001b[0m         \u001b[0;32mif\u001b[0m \u001b[0mis_scalar\u001b[0m\u001b[0;34m(\u001b[0m\u001b[0mkey\u001b[0m\u001b[0;34m)\u001b[0m\u001b[0;34m:\u001b[0m\u001b[0;34m\u001b[0m\u001b[0;34m\u001b[0m\u001b[0m\n\u001b[1;32m   4279\u001b[0m             \u001b[0mkey\u001b[0m \u001b[0;34m=\u001b[0m \u001b[0mcom\u001b[0m\u001b[0;34m.\u001b[0m\u001b[0mcast_scalar_indexer\u001b[0m\u001b[0;34m(\u001b[0m\u001b[0mkey\u001b[0m\u001b[0;34m)\u001b[0m\u001b[0;34m\u001b[0m\u001b[0;34m\u001b[0m\u001b[0m\n\u001b[0;32m-> 4280\u001b[0;31m             \u001b[0;32mreturn\u001b[0m \u001b[0mgetitem\u001b[0m\u001b[0;34m(\u001b[0m\u001b[0mkey\u001b[0m\u001b[0;34m)\u001b[0m\u001b[0;34m\u001b[0m\u001b[0;34m\u001b[0m\u001b[0m\n\u001b[0m\u001b[1;32m   4281\u001b[0m \u001b[0;34m\u001b[0m\u001b[0m\n\u001b[1;32m   4282\u001b[0m         \u001b[0;32mif\u001b[0m \u001b[0misinstance\u001b[0m\u001b[0;34m(\u001b[0m\u001b[0mkey\u001b[0m\u001b[0;34m,\u001b[0m \u001b[0mslice\u001b[0m\u001b[0;34m)\u001b[0m\u001b[0;34m:\u001b[0m\u001b[0;34m\u001b[0m\u001b[0;34m\u001b[0m\u001b[0m\n",
      "\u001b[0;31mIndexError\u001b[0m: index 0 is out of bounds for axis 0 with size 0"
     ]
    }
   ],
   "source": [
    "display(test.loc[(test['ciudad'].isnull()) & (~test['lat'].isnull())].head(1))\n",
    "indice_aux = test.loc[(test['ciudad'].isnull()) & (~test['lat'].isnull())].index[0]\n",
    "\n",
    "print('Copiar las siguientes coordendas:')\n",
    "print(str(test.loc[indice_aux, 'lat'])+','+str(test.loc[indice_aux, 'lng']))"
   ]
  },
  {
   "cell_type": "code",
   "execution_count": 47,
   "metadata": {},
   "outputs": [
    {
     "data": {
      "text/plain": [
       "ciudad       Huimilpan\n",
       "provincia          NaN\n",
       "lat            20.5487\n",
       "lng           -100.349\n",
       "Name: 50572, dtype: object"
      ]
     },
     "execution_count": 47,
     "metadata": {},
     "output_type": "execute_result"
    }
   ],
   "source": [
    "test.loc[indice_aux, 'ciudad'] = 'Huimilpan'\n",
    "test.loc[indice_aux, :]"
   ]
  },
  {
   "cell_type": "markdown",
   "metadata": {},
   "source": [
    "# Para chequear las ciudades que ya están en el DataFrame"
   ]
  },
  {
   "cell_type": "code",
   "execution_count": 19,
   "metadata": {},
   "outputs": [],
   "source": [
    "ciudades = test['ciudad'].unique()"
   ]
  },
  {
   "cell_type": "code",
   "execution_count": 46,
   "metadata": {},
   "outputs": [
    {
     "data": {
      "text/plain": [
       "True"
      ]
     },
     "execution_count": 46,
     "metadata": {},
     "output_type": "execute_result"
    }
   ],
   "source": [
    "'Huimilpan' in ciudades"
   ]
  },
  {
   "cell_type": "markdown",
   "metadata": {},
   "source": [
    "### Ciudades comunes\n",
    "\n",
    "- Álvaro Obregón\n",
    "- Benito Juárez\n",
    "- Tlajomulco de Zúñiga (Jalisco: Palomar, San Agustín, Valle Dorado)\n",
    "- Melchor Ocampo\n",
    "- Naucalpan de Juárez (Estado de México)\n",
    "- Santiago de Querétaro\n",
    "- Querétaro\n",
    "- Coatepec\n",
    "- Villa de Zaachila (Fraccionamiento Real del Valle)\n",
    "- San Luis Potosí\n",
    "- Santa María del Oro\n",
    "- Tultitlán (Fuentes del Valle)\n",
    "- Tlalpan\n",
    "- Boca del Río\n",
    "- Corregidora (Fraccionamiento Vista Real)\n",
    "- Colón (Querétaro)\n",
    "- Atizapán de Zaragoza (Estado de México)\n",
    "- El Marqués (Querétaro)\n",
    "- Centro (Ciudad de México, Villa Verdún)\n",
    "- Zapopan (Jalisco, Santa Ana Tepetitlán)\n",
    "- Soledad de Graciano Sánchez (San Luis Potosí)\n",
    "- Villahermosa (Tabasco)\n",
    "- Cuautlancingo (Puebla)\n",
    "- Venustiano Carranza (Ciudad de México)\n",
    "- San Pedro Mixtepec (Oaxaca, La Alejandría)\n",
    "- Zihuatanejo de Azueta\n",
    "- Cuernavaca\n",
    "- Tlalnepantla de Baz\n",
    "- Coyoacán\n",
    "- Anáhuac (nueva ciudad)\n",
    "- Tonalá (Jalisco)\n",
    "- Huimilpan (Fraccionamiento Cumbres del Cimatario)"
   ]
  },
  {
   "cell_type": "markdown",
   "metadata": {},
   "source": [
    "##### Se chequean casos nulos para las condiciones anteriores."
   ]
  },
  {
   "cell_type": "code",
   "execution_count": 50,
   "metadata": {},
   "outputs": [
    {
     "data": {
      "text/plain": [
       "(0, 4)"
      ]
     },
     "execution_count": 50,
     "metadata": {},
     "output_type": "execute_result"
    }
   ],
   "source": [
    "test.loc[(test['ciudad'].isnull()) & (~test['lat'].isnull())].shape"
   ]
  },
  {
   "cell_type": "markdown",
   "metadata": {},
   "source": [
    "##### Ya todas las coordenadas válidas tienen ciudades."
   ]
  },
  {
   "cell_type": "code",
   "execution_count": 54,
   "metadata": {
    "scrolled": true
   },
   "outputs": [
    {
     "data": {
      "text/plain": [
       "ciudad          51\n",
       "provincia       42\n",
       "lat          30840\n",
       "lng          30840\n",
       "dtype: int64"
      ]
     },
     "execution_count": 54,
     "metadata": {},
     "output_type": "execute_result"
    }
   ],
   "source": [
    "test.isnull().sum()"
   ]
  },
  {
   "cell_type": "markdown",
   "metadata": {},
   "source": [
    "# Ahora hay que rellenar las provincias faltanes para coordenadas válidas"
   ]
  },
  {
   "cell_type": "code",
   "execution_count": 55,
   "metadata": {},
   "outputs": [
    {
     "data": {
      "text/plain": [
       "(11, 4)"
      ]
     },
     "execution_count": 55,
     "metadata": {},
     "output_type": "execute_result"
    }
   ],
   "source": [
    "test.loc[(test['provincia'].isnull()) & (~test['lat'].isnull())].shape"
   ]
  },
  {
   "cell_type": "code",
   "execution_count": 56,
   "metadata": {},
   "outputs": [
    {
     "data": {
      "text/plain": [
       "(11, 4)"
      ]
     },
     "execution_count": 56,
     "metadata": {},
     "output_type": "execute_result"
    }
   ],
   "source": [
    "indice2 = test.loc[(test['provincia'].isnull()) & (~test['lat'].isnull())].index\n",
    "test.loc[indice2, :].shape"
   ]
  },
  {
   "cell_type": "markdown",
   "metadata": {},
   "source": [
    "# Son 11 provincias"
   ]
  },
  {
   "cell_type": "code",
   "execution_count": 57,
   "metadata": {},
   "outputs": [
    {
     "name": "stdout",
     "output_type": "stream",
     "text": [
      "11 de 11\n",
      "CPU times: user 108 ms, sys: 11.1 ms, total: 119 ms\n",
      "Wall time: 13.1 s\n"
     ]
    }
   ],
   "source": [
    "%%time\n",
    "ini = 0\n",
    "fin = indice2.size\n",
    "i=1\n",
    "for index in indice[ini:fin] :\n",
    "    clear_output(wait=True)\n",
    "    location = geolocator.reverse(str(test.loc[index, 'lat'])+','+str(test.loc[index, 'lng']))\n",
    "    diccionario = location.raw['address']\n",
    "    data = diccionario.get(\"state\", np.NaN)\n",
    "    test.loc[index, 'provincia'] = data\n",
    "    print(i, 'de', fin - ini)\n",
    "    i = i + 1"
   ]
  },
  {
   "cell_type": "code",
   "execution_count": 59,
   "metadata": {},
   "outputs": [
    {
     "data": {
      "text/plain": [
       "(7, 4)"
      ]
     },
     "execution_count": 59,
     "metadata": {},
     "output_type": "execute_result"
    }
   ],
   "source": [
    "test.loc[(test['provincia'].isnull()) & (~test['lat'].isnull())].shape"
   ]
  },
  {
   "cell_type": "markdown",
   "metadata": {},
   "source": [
    "# Quedan 7 Provincias, se completan manualmente"
   ]
  },
  {
   "cell_type": "code",
   "execution_count": 61,
   "metadata": {
    "scrolled": false
   },
   "outputs": [
    {
     "data": {
      "text/plain": [
       "7"
      ]
     },
     "execution_count": 61,
     "metadata": {},
     "output_type": "execute_result"
    }
   ],
   "source": [
    "indice3 = test.loc[(test['provincia'].isnull()) & (~test['lat'].isnull())].index\n",
    "indice3.size"
   ]
  },
  {
   "cell_type": "markdown",
   "metadata": {},
   "source": [
    "##### Cuando sale un error por acceso a índice en 0, quiere decir que se terminó la busqueda con las condiciones pedidas."
   ]
  },
  {
   "cell_type": "code",
   "execution_count": 76,
   "metadata": {},
   "outputs": [
    {
     "data": {
      "text/html": [
       "<div>\n",
       "<style scoped>\n",
       "    .dataframe tbody tr th:only-of-type {\n",
       "        vertical-align: middle;\n",
       "    }\n",
       "\n",
       "    .dataframe tbody tr th {\n",
       "        vertical-align: top;\n",
       "    }\n",
       "\n",
       "    .dataframe thead th {\n",
       "        text-align: right;\n",
       "    }\n",
       "</style>\n",
       "<table border=\"1\" class=\"dataframe\">\n",
       "  <thead>\n",
       "    <tr style=\"text-align: right;\">\n",
       "      <th></th>\n",
       "      <th>ciudad</th>\n",
       "      <th>provincia</th>\n",
       "      <th>lat</th>\n",
       "      <th>lng</th>\n",
       "    </tr>\n",
       "  </thead>\n",
       "  <tbody>\n",
       "  </tbody>\n",
       "</table>\n",
       "</div>"
      ],
      "text/plain": [
       "Empty DataFrame\n",
       "Columns: [ciudad, provincia, lat, lng]\n",
       "Index: []"
      ]
     },
     "metadata": {},
     "output_type": "display_data"
    },
    {
     "ename": "IndexError",
     "evalue": "index 0 is out of bounds for axis 0 with size 0",
     "output_type": "error",
     "traceback": [
      "\u001b[0;31m---------------------------------------------------------------------------\u001b[0m",
      "\u001b[0;31mIndexError\u001b[0m                                Traceback (most recent call last)",
      "\u001b[0;32m<ipython-input-76-29a7cf273a9f>\u001b[0m in \u001b[0;36m<module>\u001b[0;34m\u001b[0m\n\u001b[1;32m      1\u001b[0m \u001b[0mdisplay\u001b[0m\u001b[0;34m(\u001b[0m\u001b[0mtest\u001b[0m\u001b[0;34m.\u001b[0m\u001b[0mloc\u001b[0m\u001b[0;34m[\u001b[0m\u001b[0;34m(\u001b[0m\u001b[0mtest\u001b[0m\u001b[0;34m[\u001b[0m\u001b[0;34m'provincia'\u001b[0m\u001b[0;34m]\u001b[0m\u001b[0;34m.\u001b[0m\u001b[0misnull\u001b[0m\u001b[0;34m(\u001b[0m\u001b[0;34m)\u001b[0m\u001b[0;34m)\u001b[0m \u001b[0;34m&\u001b[0m \u001b[0;34m(\u001b[0m\u001b[0;34m~\u001b[0m\u001b[0mtest\u001b[0m\u001b[0;34m[\u001b[0m\u001b[0;34m'lat'\u001b[0m\u001b[0;34m]\u001b[0m\u001b[0;34m.\u001b[0m\u001b[0misnull\u001b[0m\u001b[0;34m(\u001b[0m\u001b[0;34m)\u001b[0m\u001b[0;34m)\u001b[0m\u001b[0;34m]\u001b[0m\u001b[0;34m.\u001b[0m\u001b[0mhead\u001b[0m\u001b[0;34m(\u001b[0m\u001b[0;36m1\u001b[0m\u001b[0;34m)\u001b[0m\u001b[0;34m)\u001b[0m\u001b[0;34m\u001b[0m\u001b[0;34m\u001b[0m\u001b[0m\n\u001b[0;32m----> 2\u001b[0;31m \u001b[0mindice_aux\u001b[0m \u001b[0;34m=\u001b[0m \u001b[0mtest\u001b[0m\u001b[0;34m.\u001b[0m\u001b[0mloc\u001b[0m\u001b[0;34m[\u001b[0m\u001b[0;34m(\u001b[0m\u001b[0mtest\u001b[0m\u001b[0;34m[\u001b[0m\u001b[0;34m'provincia'\u001b[0m\u001b[0;34m]\u001b[0m\u001b[0;34m.\u001b[0m\u001b[0misnull\u001b[0m\u001b[0;34m(\u001b[0m\u001b[0;34m)\u001b[0m\u001b[0;34m)\u001b[0m \u001b[0;34m&\u001b[0m \u001b[0;34m(\u001b[0m\u001b[0;34m~\u001b[0m\u001b[0mtest\u001b[0m\u001b[0;34m[\u001b[0m\u001b[0;34m'lat'\u001b[0m\u001b[0;34m]\u001b[0m\u001b[0;34m.\u001b[0m\u001b[0misnull\u001b[0m\u001b[0;34m(\u001b[0m\u001b[0;34m)\u001b[0m\u001b[0;34m)\u001b[0m\u001b[0;34m]\u001b[0m\u001b[0;34m.\u001b[0m\u001b[0mindex\u001b[0m\u001b[0;34m[\u001b[0m\u001b[0;36m0\u001b[0m\u001b[0;34m]\u001b[0m\u001b[0;34m\u001b[0m\u001b[0;34m\u001b[0m\u001b[0m\n\u001b[0m\u001b[1;32m      3\u001b[0m \u001b[0;34m\u001b[0m\u001b[0m\n\u001b[1;32m      4\u001b[0m \u001b[0mprint\u001b[0m\u001b[0;34m(\u001b[0m\u001b[0;34m'Copiar las siguientes coordendas:'\u001b[0m\u001b[0;34m)\u001b[0m\u001b[0;34m\u001b[0m\u001b[0;34m\u001b[0m\u001b[0m\n\u001b[1;32m      5\u001b[0m \u001b[0mprint\u001b[0m\u001b[0;34m(\u001b[0m\u001b[0mstr\u001b[0m\u001b[0;34m(\u001b[0m\u001b[0mtest\u001b[0m\u001b[0;34m.\u001b[0m\u001b[0mloc\u001b[0m\u001b[0;34m[\u001b[0m\u001b[0mindice_aux\u001b[0m\u001b[0;34m,\u001b[0m \u001b[0;34m'lat'\u001b[0m\u001b[0;34m]\u001b[0m\u001b[0;34m)\u001b[0m\u001b[0;34m+\u001b[0m\u001b[0;34m','\u001b[0m\u001b[0;34m+\u001b[0m\u001b[0mstr\u001b[0m\u001b[0;34m(\u001b[0m\u001b[0mtest\u001b[0m\u001b[0;34m.\u001b[0m\u001b[0mloc\u001b[0m\u001b[0;34m[\u001b[0m\u001b[0mindice_aux\u001b[0m\u001b[0;34m,\u001b[0m \u001b[0;34m'lng'\u001b[0m\u001b[0;34m]\u001b[0m\u001b[0;34m)\u001b[0m\u001b[0;34m)\u001b[0m\u001b[0;34m\u001b[0m\u001b[0;34m\u001b[0m\u001b[0m\n",
      "\u001b[0;32m~/.local/lib/python3.7/site-packages/pandas/core/indexes/base.py\u001b[0m in \u001b[0;36m__getitem__\u001b[0;34m(self, key)\u001b[0m\n\u001b[1;32m   4278\u001b[0m         \u001b[0;32mif\u001b[0m \u001b[0mis_scalar\u001b[0m\u001b[0;34m(\u001b[0m\u001b[0mkey\u001b[0m\u001b[0;34m)\u001b[0m\u001b[0;34m:\u001b[0m\u001b[0;34m\u001b[0m\u001b[0;34m\u001b[0m\u001b[0m\n\u001b[1;32m   4279\u001b[0m             \u001b[0mkey\u001b[0m \u001b[0;34m=\u001b[0m \u001b[0mcom\u001b[0m\u001b[0;34m.\u001b[0m\u001b[0mcast_scalar_indexer\u001b[0m\u001b[0;34m(\u001b[0m\u001b[0mkey\u001b[0m\u001b[0;34m)\u001b[0m\u001b[0;34m\u001b[0m\u001b[0;34m\u001b[0m\u001b[0m\n\u001b[0;32m-> 4280\u001b[0;31m             \u001b[0;32mreturn\u001b[0m \u001b[0mgetitem\u001b[0m\u001b[0;34m(\u001b[0m\u001b[0mkey\u001b[0m\u001b[0;34m)\u001b[0m\u001b[0;34m\u001b[0m\u001b[0;34m\u001b[0m\u001b[0m\n\u001b[0m\u001b[1;32m   4281\u001b[0m \u001b[0;34m\u001b[0m\u001b[0m\n\u001b[1;32m   4282\u001b[0m         \u001b[0;32mif\u001b[0m \u001b[0misinstance\u001b[0m\u001b[0;34m(\u001b[0m\u001b[0mkey\u001b[0m\u001b[0;34m,\u001b[0m \u001b[0mslice\u001b[0m\u001b[0;34m)\u001b[0m\u001b[0;34m:\u001b[0m\u001b[0;34m\u001b[0m\u001b[0;34m\u001b[0m\u001b[0m\n",
      "\u001b[0;31mIndexError\u001b[0m: index 0 is out of bounds for axis 0 with size 0"
     ]
    }
   ],
   "source": [
    "display(test.loc[(test['provincia'].isnull()) & (~test['lat'].isnull())].head(1))\n",
    "indice_aux = test.loc[(test['provincia'].isnull()) & (~test['lat'].isnull())].index[0]\n",
    "\n",
    "print('Copiar las siguientes coordendas:')\n",
    "print(str(test.loc[indice_aux, 'lat'])+','+str(test.loc[indice_aux, 'lng']))"
   ]
  },
  {
   "cell_type": "code",
   "execution_count": 75,
   "metadata": {
    "scrolled": true
   },
   "outputs": [
    {
     "data": {
      "text/plain": [
       "ciudad       Huimilpan\n",
       "provincia    Querétaro\n",
       "lat            20.5487\n",
       "lng           -100.349\n",
       "Name: 50572, dtype: object"
      ]
     },
     "execution_count": 75,
     "metadata": {},
     "output_type": "execute_result"
    }
   ],
   "source": [
    "test.loc[indice_aux, 'provincia'] = 'Querétaro'\n",
    "test.loc[indice_aux, :]"
   ]
  },
  {
   "cell_type": "markdown",
   "metadata": {},
   "source": [
    "### Para chequear las provincias que ya están en el DataFrame"
   ]
  },
  {
   "cell_type": "code",
   "execution_count": 244,
   "metadata": {},
   "outputs": [],
   "source": [
    "provincias = train['provincia'].unique()"
   ]
  },
  {
   "cell_type": "code",
   "execution_count": 281,
   "metadata": {},
   "outputs": [
    {
     "data": {
      "text/plain": [
       "True"
      ]
     },
     "execution_count": 281,
     "metadata": {},
     "output_type": "execute_result"
    }
   ],
   "source": [
    "'Edo. de México' in provincias"
   ]
  },
  {
   "cell_type": "markdown",
   "metadata": {},
   "source": [
    "### Provincias comunes\n",
    "\n",
    "- Querétaro\n",
    "- San Luis Potosí\n",
    "- Ciudad de México"
   ]
  },
  {
   "cell_type": "code",
   "execution_count": 77,
   "metadata": {},
   "outputs": [
    {
     "data": {
      "text/plain": [
       "ciudad          51\n",
       "provincia       31\n",
       "lat          30840\n",
       "lng          30840\n",
       "dtype: int64"
      ]
     },
     "execution_count": 77,
     "metadata": {},
     "output_type": "execute_result"
    }
   ],
   "source": [
    "test.isnull().sum()"
   ]
  },
  {
   "cell_type": "markdown",
   "metadata": {},
   "source": [
    "Se verifican las provincias"
   ]
  },
  {
   "cell_type": "code",
   "execution_count": 87,
   "metadata": {
    "scrolled": false
   },
   "outputs": [
    {
     "data": {
      "text/plain": [
       "Distrito Federal                   14743\n",
       "Edo. de México                     10200\n",
       "Jalisco                             5321\n",
       "Querétaro                           4331\n",
       "Nuevo León                          3971\n",
       "Puebla                              2482\n",
       "San luis Potosí                     2077\n",
       "Yucatán                             2022\n",
       "Morelos                             1859\n",
       "Veracruz                            1439\n",
       "Quintana Roo                        1200\n",
       "Chihuahua                           1144\n",
       "Coahuila                             878\n",
       "Baja California Norte                819\n",
       "Sonora                               740\n",
       "Guerrero                             719\n",
       "Michoacán                            685\n",
       "Guanajuato                           680\n",
       "Hidalgo                              605\n",
       "Tamaulipas                           550\n",
       "Durango                              514\n",
       "Sinaloa                              491\n",
       "Aguascalientes                       441\n",
       "Baja California Sur                  439\n",
       "Nayarit                              368\n",
       "Chiapas                              263\n",
       "Tabasco                              254\n",
       "Colima                               240\n",
       "Tlaxcala                             205\n",
       "Oaxaca                               193\n",
       "Campeche                              53\n",
       "Zacatecas                             32\n",
       "Ciudad de México                       5\n",
       "San Luis Potosí                        4\n",
       "Estado de México                       1\n",
       "Veracruz de Ignacio de la Llave        1\n",
       "Name: provincia, dtype: int64"
      ]
     },
     "execution_count": 87,
     "metadata": {},
     "output_type": "execute_result"
    }
   ],
   "source": [
    "test['provincia'].value_counts()"
   ]
  },
  {
   "cell_type": "markdown",
   "metadata": {},
   "source": [
    "##### Se realizan alguno cambios en los nombres de las provincias.\n",
    "- Distrito Federal $\\rightarrow$ Ciudad de México\n",
    "- San luis Potosí $\\rightarrow$ San Luis Potosí\n",
    "- Edo. de México $\\rightarrow$ Estado de México\n",
    "- Veracruz de Ignacio de la Llave $\\rightarrow$ Veracruz"
   ]
  },
  {
   "cell_type": "code",
   "execution_count": 88,
   "metadata": {},
   "outputs": [
    {
     "data": {
      "text/plain": [
       "{'Distrito Federal': 'Ciudad de México',\n",
       " 'San luis Potosí': 'San Luis Potosí',\n",
       " 'Edo. de México': 'Estado de México',\n",
       " 'Veracruz de Ignacio de la Llave': 'Veracruz'}"
      ]
     },
     "execution_count": 88,
     "metadata": {},
     "output_type": "execute_result"
    }
   ],
   "source": [
    "diccionario = {\n",
    "    'Distrito Federal':'Ciudad de México',\n",
    "    'San luis Potosí':'San Luis Potosí',\n",
    "    'Edo. de México':'Estado de México',\n",
    "    'Veracruz de Ignacio de la Llave':'Veracruz'\n",
    "}\n",
    "diccionario"
   ]
  },
  {
   "cell_type": "code",
   "execution_count": 89,
   "metadata": {},
   "outputs": [],
   "source": [
    "test['provincia'].replace(diccionario, inplace=True)"
   ]
  },
  {
   "cell_type": "code",
   "execution_count": 90,
   "metadata": {
    "scrolled": true
   },
   "outputs": [
    {
     "data": {
      "text/plain": [
       "Ciudad de México         14748\n",
       "Estado de México         10201\n",
       "Jalisco                   5321\n",
       "Querétaro                 4331\n",
       "Nuevo León                3971\n",
       "Puebla                    2482\n",
       "San Luis Potosí           2081\n",
       "Yucatán                   2022\n",
       "Morelos                   1859\n",
       "Veracruz                  1440\n",
       "Quintana Roo              1200\n",
       "Chihuahua                 1144\n",
       "Coahuila                   878\n",
       "Baja California Norte      819\n",
       "Sonora                     740\n",
       "Guerrero                   719\n",
       "Michoacán                  685\n",
       "Guanajuato                 680\n",
       "Hidalgo                    605\n",
       "Tamaulipas                 550\n",
       "Durango                    514\n",
       "Sinaloa                    491\n",
       "Aguascalientes             441\n",
       "Baja California Sur        439\n",
       "Nayarit                    368\n",
       "Chiapas                    263\n",
       "Tabasco                    254\n",
       "Colima                     240\n",
       "Tlaxcala                   205\n",
       "Oaxaca                     193\n",
       "Campeche                    53\n",
       "Zacatecas                   32\n",
       "Name: provincia, dtype: int64"
      ]
     },
     "execution_count": 90,
     "metadata": {},
     "output_type": "execute_result"
    }
   ],
   "source": [
    "test['provincia'].value_counts()"
   ]
  },
  {
   "cell_type": "markdown",
   "metadata": {},
   "source": [
    "##### Son 31 estados y la Ciudad de México, más los NaN, tendría que haber 33 valores únicos."
   ]
  },
  {
   "cell_type": "code",
   "execution_count": 92,
   "metadata": {
    "scrolled": true
   },
   "outputs": [
    {
     "name": "stdout",
     "output_type": "stream",
     "text": [
      "['Ciudad de México' 'Yucatán' 'Guerrero' 'Estado de México' 'Jalisco'\n",
      " 'Nuevo León' 'Veracruz' 'Quintana Roo' 'Querétaro' 'Puebla' 'Nayarit'\n",
      " 'Chihuahua' 'Zacatecas' 'Morelos' 'Sinaloa' 'Guanajuato' 'Colima'\n",
      " 'Tabasco' 'Oaxaca' 'San Luis Potosí' 'Baja California Norte' 'Tlaxcala'\n",
      " 'Michoacán' 'Tamaulipas' 'Sonora' 'Hidalgo' 'Aguascalientes' 'Durango'\n",
      " 'Coahuila' 'Chiapas' 'Baja California Sur' 'Campeche' nan]\n",
      "33\n"
     ]
    }
   ],
   "source": [
    "print(test['provincia'].unique())\n",
    "print(test['provincia'].unique().size)"
   ]
  },
  {
   "cell_type": "markdown",
   "metadata": {},
   "source": [
    "##### Ahora se rellenan las coordenadas según ciudades con las coordenadas obtenidas previamente, por ciudad."
   ]
  },
  {
   "cell_type": "code",
   "execution_count": 4,
   "metadata": {},
   "outputs": [],
   "source": [
    "coord_ciudad = pd.read_csv('../data/info_coord_ciudades.csv', index_col='ciudades')"
   ]
  },
  {
   "cell_type": "code",
   "execution_count": 5,
   "metadata": {},
   "outputs": [
    {
     "data": {
      "text/html": [
       "<div>\n",
       "<style scoped>\n",
       "    .dataframe tbody tr th:only-of-type {\n",
       "        vertical-align: middle;\n",
       "    }\n",
       "\n",
       "    .dataframe tbody tr th {\n",
       "        vertical-align: top;\n",
       "    }\n",
       "\n",
       "    .dataframe thead th {\n",
       "        text-align: right;\n",
       "    }\n",
       "</style>\n",
       "<table border=\"1\" class=\"dataframe\">\n",
       "  <thead>\n",
       "    <tr style=\"text-align: right;\">\n",
       "      <th></th>\n",
       "      <th>lat</th>\n",
       "      <th>lng</th>\n",
       "    </tr>\n",
       "    <tr>\n",
       "      <th>ciudades</th>\n",
       "      <th></th>\n",
       "      <th></th>\n",
       "    </tr>\n",
       "  </thead>\n",
       "  <tbody>\n",
       "    <tr>\n",
       "      <th>Querétaro</th>\n",
       "      <td>20.854258</td>\n",
       "      <td>-99.847560</td>\n",
       "    </tr>\n",
       "    <tr>\n",
       "      <th>Benito Juárez</th>\n",
       "      <td>20.816967</td>\n",
       "      <td>-98.178268</td>\n",
       "    </tr>\n",
       "    <tr>\n",
       "      <th>Zapopan</th>\n",
       "      <td>20.703205</td>\n",
       "      <td>-103.426124</td>\n",
       "    </tr>\n",
       "    <tr>\n",
       "      <th>San Luis Potosí</th>\n",
       "      <td>22.500000</td>\n",
       "      <td>-100.500000</td>\n",
       "    </tr>\n",
       "    <tr>\n",
       "      <th>Mérida</th>\n",
       "      <td>20.967076</td>\n",
       "      <td>-89.623740</td>\n",
       "    </tr>\n",
       "  </tbody>\n",
       "</table>\n",
       "</div>"
      ],
      "text/plain": [
       "                       lat         lng\n",
       "ciudades                              \n",
       "Querétaro        20.854258  -99.847560\n",
       "Benito Juárez    20.816967  -98.178268\n",
       "Zapopan          20.703205 -103.426124\n",
       "San Luis Potosí  22.500000 -100.500000\n",
       "Mérida           20.967076  -89.623740"
      ]
     },
     "execution_count": 5,
     "metadata": {},
     "output_type": "execute_result"
    }
   ],
   "source": [
    "coord_ciudad.head(5)"
   ]
  },
  {
   "cell_type": "code",
   "execution_count": 7,
   "metadata": {},
   "outputs": [
    {
     "data": {
      "text/plain": [
       "ciudad          51\n",
       "provincia       31\n",
       "lat          30840\n",
       "lng          30840\n",
       "dtype: int64"
      ]
     },
     "execution_count": 7,
     "metadata": {},
     "output_type": "execute_result"
    }
   ],
   "source": [
    "test.isnull().sum()"
   ]
  },
  {
   "cell_type": "code",
   "execution_count": 8,
   "metadata": {},
   "outputs": [
    {
     "data": {
      "text/plain": [
       "ciudad          51\n",
       "provincia       31\n",
       "lat          30840\n",
       "lng          30840\n",
       "dtype: int64"
      ]
     },
     "execution_count": 8,
     "metadata": {},
     "output_type": "execute_result"
    }
   ],
   "source": [
    "test.loc[(test['lat'].isnull()) & (test['lng'].isnull())].isnull().sum()"
   ]
  },
  {
   "cell_type": "markdown",
   "metadata": {},
   "source": [
    "##### Las coordenadas fantantes vienen de a pares.\n",
    "##### Se ubican las filas con coordenadas faltantes y ciudades válidas."
   ]
  },
  {
   "cell_type": "code",
   "execution_count": 12,
   "metadata": {},
   "outputs": [
    {
     "data": {
      "text/plain": [
       "30789"
      ]
     },
     "execution_count": 12,
     "metadata": {},
     "output_type": "execute_result"
    }
   ],
   "source": [
    "indice4 = test.loc[(test['lat'].isnull()) & \\\n",
    "                   (test['lng'].isnull()) | \\\n",
    "                   (test['ciudad']).isnull()].dropna(subset=['ciudad']).index\n",
    "# Se limpiaron las ciudades nulas\n",
    "indice4.size"
   ]
  },
  {
   "cell_type": "markdown",
   "metadata": {},
   "source": [
    "# Se reemplazan los nulos con las coordenas por ciudad\n",
    "##### Con esto se ocupan  las latitudes y longitudes de acuerdo a las ciudades no nulas (se usan los índices de ciudades no nulas). Para localizar la ciudad en el archivo de coordenadas, se busca la ciudad del train para ubicar el índice."
   ]
  },
  {
   "cell_type": "code",
   "execution_count": 13,
   "metadata": {},
   "outputs": [
    {
     "name": "stdout",
     "output_type": "stream",
     "text": [
      "30789 de 30789\n",
      "CPU times: user 1min 46s, sys: 11 s, total: 1min 57s\n",
      "Wall time: 1min 40s\n"
     ]
    }
   ],
   "source": [
    "%%time\n",
    "i=1\n",
    "for index in indice4 :\n",
    "    clear_output(wait=True)\n",
    "    test.loc[index, 'lat'] = coord_ciudad.loc[test.loc[index, 'ciudad'], 'lat']\n",
    "    test.loc[index, 'lng'] = coord_ciudad.loc[test.loc[index, 'ciudad'], 'lng']\n",
    "    print(i, 'de', indice4.size)\n",
    "    i = i + 1"
   ]
  },
  {
   "cell_type": "code",
   "execution_count": 14,
   "metadata": {},
   "outputs": [
    {
     "data": {
      "text/plain": [
       "ciudad       51\n",
       "provincia    31\n",
       "lat          51\n",
       "lng          51\n",
       "dtype: int64"
      ]
     },
     "execution_count": 14,
     "metadata": {},
     "output_type": "execute_result"
    }
   ],
   "source": [
    "test.isnull().sum()"
   ]
  },
  {
   "cell_type": "code",
   "execution_count": 18,
   "metadata": {
    "scrolled": true
   },
   "outputs": [
    {
     "data": {
      "text/plain": [
       "ciudad       0\n",
       "provincia    0\n",
       "lat          0\n",
       "lng          0\n",
       "dtype: int64"
      ]
     },
     "execution_count": 18,
     "metadata": {},
     "output_type": "execute_result"
    }
   ],
   "source": [
    "test.loc[(test['lat'].isnull()) & \\\n",
    "          (test['lng'].isnull()) & \\\n",
    "          (~test['ciudad'].isnull())].isnull().sum()"
   ]
  },
  {
   "cell_type": "markdown",
   "metadata": {},
   "source": [
    "##### Ya no hay ciudades válidas sin coordenadas.\n",
    "\n",
    "##### Ahora se completan las coordenadas de las provincias vaálidas."
   ]
  },
  {
   "cell_type": "code",
   "execution_count": 26,
   "metadata": {},
   "outputs": [
    {
     "data": {
      "text/plain": [
       "(20, 4)"
      ]
     },
     "execution_count": 26,
     "metadata": {},
     "output_type": "execute_result"
    }
   ],
   "source": [
    "test.loc[(test['lat'].isnull()) & \\\n",
    "         (test['lng'].isnull()) & \\\n",
    "         (test['ciudad'].isnull()) & \\\n",
    "         (~test['provincia'].isnull())].shape"
   ]
  },
  {
   "cell_type": "markdown",
   "metadata": {},
   "source": [
    "##### Se pueden completar 20 coordenadas con las de las provincias."
   ]
  },
  {
   "cell_type": "code",
   "execution_count": 27,
   "metadata": {},
   "outputs": [
    {
     "data": {
      "text/html": [
       "<div>\n",
       "<style scoped>\n",
       "    .dataframe tbody tr th:only-of-type {\n",
       "        vertical-align: middle;\n",
       "    }\n",
       "\n",
       "    .dataframe tbody tr th {\n",
       "        vertical-align: top;\n",
       "    }\n",
       "\n",
       "    .dataframe thead th {\n",
       "        text-align: right;\n",
       "    }\n",
       "</style>\n",
       "<table border=\"1\" class=\"dataframe\">\n",
       "  <thead>\n",
       "    <tr style=\"text-align: right;\">\n",
       "      <th></th>\n",
       "      <th>lat</th>\n",
       "      <th>lng</th>\n",
       "    </tr>\n",
       "    <tr>\n",
       "      <th>provincias</th>\n",
       "      <th></th>\n",
       "      <th></th>\n",
       "    </tr>\n",
       "  </thead>\n",
       "  <tbody>\n",
       "    <tr>\n",
       "      <th>Ciudad de México</th>\n",
       "      <td>19.432601</td>\n",
       "      <td>-99.133342</td>\n",
       "    </tr>\n",
       "    <tr>\n",
       "      <th>Estado de México</th>\n",
       "      <td>19.483945</td>\n",
       "      <td>-99.689972</td>\n",
       "    </tr>\n",
       "    <tr>\n",
       "      <th>Jalisco</th>\n",
       "      <td>20.333333</td>\n",
       "      <td>-103.666667</td>\n",
       "    </tr>\n",
       "    <tr>\n",
       "      <th>Querétaro</th>\n",
       "      <td>20.854258</td>\n",
       "      <td>-99.847560</td>\n",
       "    </tr>\n",
       "    <tr>\n",
       "      <th>Nuevo León</th>\n",
       "      <td>26.238436</td>\n",
       "      <td>-99.887300</td>\n",
       "    </tr>\n",
       "  </tbody>\n",
       "</table>\n",
       "</div>"
      ],
      "text/plain": [
       "                        lat         lng\n",
       "provincias                             \n",
       "Ciudad de México  19.432601  -99.133342\n",
       "Estado de México  19.483945  -99.689972\n",
       "Jalisco           20.333333 -103.666667\n",
       "Querétaro         20.854258  -99.847560\n",
       "Nuevo León        26.238436  -99.887300"
      ]
     },
     "execution_count": 27,
     "metadata": {},
     "output_type": "execute_result"
    }
   ],
   "source": [
    "coord_provincia = pd.read_csv('../data/info_coord_provincias.csv', index_col='provincias')\n",
    "\n",
    "coord_provincia.head(5)"
   ]
  },
  {
   "cell_type": "code",
   "execution_count": 28,
   "metadata": {},
   "outputs": [
    {
     "data": {
      "text/plain": [
       "ciudad       51\n",
       "provincia    31\n",
       "lat          51\n",
       "lng          51\n",
       "dtype: int64"
      ]
     },
     "execution_count": 28,
     "metadata": {},
     "output_type": "execute_result"
    }
   ],
   "source": [
    "test.isnull().sum()"
   ]
  },
  {
   "cell_type": "code",
   "execution_count": 29,
   "metadata": {},
   "outputs": [
    {
     "data": {
      "text/plain": [
       "ciudad       51\n",
       "provincia    31\n",
       "lat          51\n",
       "lng          51\n",
       "dtype: int64"
      ]
     },
     "execution_count": 29,
     "metadata": {},
     "output_type": "execute_result"
    }
   ],
   "source": [
    "test.loc[(test['lat'].isnull()) & \\\n",
    "          (test['lng'].isnull())].isnull().sum()"
   ]
  },
  {
   "cell_type": "markdown",
   "metadata": {},
   "source": [
    "##### Las coordenadas fantantes vienen de a pares.\n",
    "##### Se ubican las filas con coordenadas faltantes y provincias válidas."
   ]
  },
  {
   "cell_type": "code",
   "execution_count": 30,
   "metadata": {},
   "outputs": [
    {
     "data": {
      "text/plain": [
       "20"
      ]
     },
     "execution_count": 30,
     "metadata": {},
     "output_type": "execute_result"
    }
   ],
   "source": [
    "indice5 = test.loc[(test['lat'].isnull()) & \\\n",
    "          (test['lng'].isnull()) & \\\n",
    "          (test['ciudad'].isnull()) & \\\n",
    "          (~test['provincia'].isnull())].index\n",
    "indice5.size"
   ]
  },
  {
   "cell_type": "markdown",
   "metadata": {},
   "source": [
    "# Se reemplazan los nulos con las coordenas por provincia\n",
    "##### Con esto se ocupan  las latitudes y longitudes de acuerdo a las provincias no nulas (se usan los índices de provincias no nulas). Para localizar la provincia en el archivo de coordenadas, se busca la provincia del train para ubicar el índice."
   ]
  },
  {
   "cell_type": "code",
   "execution_count": 31,
   "metadata": {},
   "outputs": [
    {
     "name": "stdout",
     "output_type": "stream",
     "text": [
      "20 de 20\n",
      "CPU times: user 71.8 ms, sys: 3.77 ms, total: 75.5 ms\n",
      "Wall time: 63.7 ms\n"
     ]
    }
   ],
   "source": [
    "%%time\n",
    "i=1\n",
    "for index in indice5 :\n",
    "    clear_output(wait=True)\n",
    "    test.loc[index, 'lat'] = coord_provincia.loc[test.loc[index, 'provincia'], 'lat']\n",
    "    test.loc[index, 'lng'] = coord_provincia.loc[test.loc[index, 'provincia'], 'lng']\n",
    "    print(i, 'de', indice5.size)\n",
    "    i = i + 1"
   ]
  },
  {
   "cell_type": "code",
   "execution_count": 32,
   "metadata": {},
   "outputs": [
    {
     "data": {
      "text/plain": [
       "ciudad       51\n",
       "provincia    31\n",
       "lat          31\n",
       "lng          31\n",
       "dtype: int64"
      ]
     },
     "execution_count": 32,
     "metadata": {},
     "output_type": "execute_result"
    }
   ],
   "source": [
    "test.isnull().sum()"
   ]
  },
  {
   "cell_type": "markdown",
   "metadata": {},
   "source": [
    "### Se genera un Dataframe con las modas de ciudades por provincias."
   ]
  },
  {
   "cell_type": "code",
   "execution_count": 33,
   "metadata": {
    "scrolled": true
   },
   "outputs": [
    {
     "data": {
      "text/html": [
       "<div>\n",
       "<style scoped>\n",
       "    .dataframe tbody tr th:only-of-type {\n",
       "        vertical-align: middle;\n",
       "    }\n",
       "\n",
       "    .dataframe tbody tr th {\n",
       "        vertical-align: top;\n",
       "    }\n",
       "\n",
       "    .dataframe thead th {\n",
       "        text-align: right;\n",
       "    }\n",
       "</style>\n",
       "<table border=\"1\" class=\"dataframe\">\n",
       "  <thead>\n",
       "    <tr style=\"text-align: right;\">\n",
       "      <th></th>\n",
       "      <th>ciudad</th>\n",
       "    </tr>\n",
       "    <tr>\n",
       "      <th>provincia</th>\n",
       "      <th></th>\n",
       "    </tr>\n",
       "  </thead>\n",
       "  <tbody>\n",
       "    <tr>\n",
       "      <th>Aguascalientes</th>\n",
       "      <td>Aguascalientes</td>\n",
       "    </tr>\n",
       "    <tr>\n",
       "      <th>Baja California Norte</th>\n",
       "      <td>Tijuana</td>\n",
       "    </tr>\n",
       "    <tr>\n",
       "      <th>Baja California Sur</th>\n",
       "      <td>La Paz</td>\n",
       "    </tr>\n",
       "    <tr>\n",
       "      <th>Campeche</th>\n",
       "      <td>Campeche</td>\n",
       "    </tr>\n",
       "    <tr>\n",
       "      <th>Chiapas</th>\n",
       "      <td>Tuxtla Gutiérrez</td>\n",
       "    </tr>\n",
       "    <tr>\n",
       "      <th>Chihuahua</th>\n",
       "      <td>Chihuahua</td>\n",
       "    </tr>\n",
       "    <tr>\n",
       "      <th>Ciudad de México</th>\n",
       "      <td>Benito Juárez</td>\n",
       "    </tr>\n",
       "    <tr>\n",
       "      <th>Coahuila</th>\n",
       "      <td>Saltillo</td>\n",
       "    </tr>\n",
       "    <tr>\n",
       "      <th>Colima</th>\n",
       "      <td>Colima</td>\n",
       "    </tr>\n",
       "    <tr>\n",
       "      <th>Durango</th>\n",
       "      <td>Durango</td>\n",
       "    </tr>\n",
       "    <tr>\n",
       "      <th>Estado de México</th>\n",
       "      <td>Naucalpan de Juárez</td>\n",
       "    </tr>\n",
       "    <tr>\n",
       "      <th>Guanajuato</th>\n",
       "      <td>León</td>\n",
       "    </tr>\n",
       "    <tr>\n",
       "      <th>Guerrero</th>\n",
       "      <td>Acapulco de Juárez</td>\n",
       "    </tr>\n",
       "    <tr>\n",
       "      <th>Hidalgo</th>\n",
       "      <td>Pachuca</td>\n",
       "    </tr>\n",
       "    <tr>\n",
       "      <th>Jalisco</th>\n",
       "      <td>Zapopan</td>\n",
       "    </tr>\n",
       "    <tr>\n",
       "      <th>Michoacán</th>\n",
       "      <td>Morelia</td>\n",
       "    </tr>\n",
       "    <tr>\n",
       "      <th>Morelos</th>\n",
       "      <td>Cuernavaca</td>\n",
       "    </tr>\n",
       "    <tr>\n",
       "      <th>Nayarit</th>\n",
       "      <td>Tepic</td>\n",
       "    </tr>\n",
       "    <tr>\n",
       "      <th>Nuevo León</th>\n",
       "      <td>Monterrey</td>\n",
       "    </tr>\n",
       "    <tr>\n",
       "      <th>Oaxaca</th>\n",
       "      <td>Oaxaca de Juárez</td>\n",
       "    </tr>\n",
       "    <tr>\n",
       "      <th>Puebla</th>\n",
       "      <td>Puebla</td>\n",
       "    </tr>\n",
       "    <tr>\n",
       "      <th>Querétaro</th>\n",
       "      <td>Querétaro</td>\n",
       "    </tr>\n",
       "    <tr>\n",
       "      <th>Quintana Roo</th>\n",
       "      <td>Cancún</td>\n",
       "    </tr>\n",
       "    <tr>\n",
       "      <th>San Luis Potosí</th>\n",
       "      <td>San Luis Potosí</td>\n",
       "    </tr>\n",
       "    <tr>\n",
       "      <th>Sinaloa</th>\n",
       "      <td>Culiacán</td>\n",
       "    </tr>\n",
       "    <tr>\n",
       "      <th>Sonora</th>\n",
       "      <td>Hermosillo</td>\n",
       "    </tr>\n",
       "    <tr>\n",
       "      <th>Tabasco</th>\n",
       "      <td>Villahermosa</td>\n",
       "    </tr>\n",
       "    <tr>\n",
       "      <th>Tamaulipas</th>\n",
       "      <td>Tampico</td>\n",
       "    </tr>\n",
       "    <tr>\n",
       "      <th>Tlaxcala</th>\n",
       "      <td>Tlaxcala</td>\n",
       "    </tr>\n",
       "    <tr>\n",
       "      <th>Veracruz</th>\n",
       "      <td>Boca del Río</td>\n",
       "    </tr>\n",
       "    <tr>\n",
       "      <th>Yucatán</th>\n",
       "      <td>Mérida</td>\n",
       "    </tr>\n",
       "    <tr>\n",
       "      <th>Zacatecas</th>\n",
       "      <td>Zacatecas</td>\n",
       "    </tr>\n",
       "  </tbody>\n",
       "</table>\n",
       "</div>"
      ],
      "text/plain": [
       "                                    ciudad\n",
       "provincia                                 \n",
       "Aguascalientes              Aguascalientes\n",
       "Baja California Norte              Tijuana\n",
       "Baja California Sur                 La Paz\n",
       "Campeche                          Campeche\n",
       "Chiapas                   Tuxtla Gutiérrez\n",
       "Chihuahua                        Chihuahua\n",
       "Ciudad de México             Benito Juárez\n",
       "Coahuila                          Saltillo\n",
       "Colima                              Colima\n",
       "Durango                            Durango\n",
       "Estado de México       Naucalpan de Juárez\n",
       "Guanajuato                            León\n",
       "Guerrero                Acapulco de Juárez\n",
       "Hidalgo                            Pachuca\n",
       "Jalisco                            Zapopan\n",
       "Michoacán                          Morelia\n",
       "Morelos                         Cuernavaca\n",
       "Nayarit                              Tepic\n",
       "Nuevo León                       Monterrey\n",
       "Oaxaca                    Oaxaca de Juárez\n",
       "Puebla                              Puebla\n",
       "Querétaro                        Querétaro\n",
       "Quintana Roo                        Cancún\n",
       "San Luis Potosí            San Luis Potosí\n",
       "Sinaloa                           Culiacán\n",
       "Sonora                          Hermosillo\n",
       "Tabasco                       Villahermosa\n",
       "Tamaulipas                         Tampico\n",
       "Tlaxcala                          Tlaxcala\n",
       "Veracruz                      Boca del Río\n",
       "Yucatán                             Mérida\n",
       "Zacatecas                        Zacatecas"
      ]
     },
     "execution_count": 33,
     "metadata": {},
     "output_type": "execute_result"
    }
   ],
   "source": [
    "moda_test = test.groupby('provincia').agg(lambda x:x.value_counts().index[0])\n",
    "moda_test.drop(columns=['lat', 'lng'], inplace=True)\n",
    "moda_test"
   ]
  },
  {
   "cell_type": "markdown",
   "metadata": {},
   "source": [
    "##### Se buscan las ciudades nulas, con coordenadas y provincias válidas."
   ]
  },
  {
   "cell_type": "code",
   "execution_count": 34,
   "metadata": {},
   "outputs": [
    {
     "data": {
      "text/plain": [
       "20"
      ]
     },
     "execution_count": 34,
     "metadata": {},
     "output_type": "execute_result"
    }
   ],
   "source": [
    "indice6 = test.loc[(test['ciudad'].isnull()) & \\\n",
    "                    (~test['lat'].isnull()) & \\\n",
    "                    (~test['lng'].isnull()) & \\\n",
    "                    (~test['provincia'].isnull())].index\n",
    "indice6.size"
   ]
  },
  {
   "cell_type": "code",
   "execution_count": 35,
   "metadata": {},
   "outputs": [
    {
     "name": "stdout",
     "output_type": "stream",
     "text": [
      "20 de 20\n",
      "CPU times: user 85.6 ms, sys: 280 µs, total: 85.9 ms\n",
      "Wall time: 75.2 ms\n"
     ]
    }
   ],
   "source": [
    "%%time\n",
    "i=1\n",
    "for index in indice6 :\n",
    "    clear_output(wait=True)\n",
    "    test.loc[index, 'ciudad'] = moda_test.loc[test.loc[index, 'provincia'], 'ciudad']\n",
    "    print(i, 'de', indice6.size)\n",
    "    i = i + 1"
   ]
  },
  {
   "cell_type": "code",
   "execution_count": 36,
   "metadata": {},
   "outputs": [
    {
     "data": {
      "text/plain": [
       "ciudad       31\n",
       "provincia    31\n",
       "lat          31\n",
       "lng          31\n",
       "dtype: int64"
      ]
     },
     "execution_count": 36,
     "metadata": {},
     "output_type": "execute_result"
    }
   ],
   "source": [
    "test.isnull().sum()"
   ]
  },
  {
   "cell_type": "markdown",
   "metadata": {},
   "source": [
    "##### Ahora se rellena con la moda de provincia, ciudad y las coordenadas que corresponda a esa ciudad."
   ]
  },
  {
   "cell_type": "code",
   "execution_count": 37,
   "metadata": {},
   "outputs": [
    {
     "data": {
      "text/plain": [
       "'Ciudad de México'"
      ]
     },
     "execution_count": 37,
     "metadata": {},
     "output_type": "execute_result"
    }
   ],
   "source": [
    "provincia_moda = test['provincia'].mode()[0]\n",
    "provincia_moda"
   ]
  },
  {
   "cell_type": "code",
   "execution_count": 38,
   "metadata": {},
   "outputs": [
    {
     "data": {
      "text/plain": [
       "'Benito Juárez'"
      ]
     },
     "execution_count": 38,
     "metadata": {},
     "output_type": "execute_result"
    }
   ],
   "source": [
    "ciudad_moda = moda_test.loc[provincia_moda, 'ciudad']\n",
    "ciudad_moda"
   ]
  },
  {
   "cell_type": "code",
   "execution_count": 39,
   "metadata": {},
   "outputs": [
    {
     "name": "stdout",
     "output_type": "stream",
     "text": [
      "-98.1782680664942\n",
      "20.816966600000004\n"
     ]
    }
   ],
   "source": [
    "latitud_moda = coord_ciudad.loc[ciudad_moda, 'lat']\n",
    "longitud_moda = coord_ciudad.loc[ciudad_moda, 'lng']\n",
    "print(longitud_moda)\n",
    "print(latitud_moda)"
   ]
  },
  {
   "cell_type": "code",
   "execution_count": 40,
   "metadata": {},
   "outputs": [],
   "source": [
    "test['provincia'].fillna(provincia_moda, inplace=True)\n",
    "test['ciudad'].fillna(ciudad_moda, inplace=True)\n",
    "test['lat'].fillna(latitud_moda, inplace=True)\n",
    "test['lng'].fillna(longitud_moda, inplace=True)"
   ]
  },
  {
   "cell_type": "code",
   "execution_count": 42,
   "metadata": {},
   "outputs": [
    {
     "data": {
      "text/plain": [
       "ciudad       0\n",
       "provincia    0\n",
       "lat          0\n",
       "lng          0\n",
       "dtype: int64"
      ]
     },
     "execution_count": 42,
     "metadata": {},
     "output_type": "execute_result"
    }
   ],
   "source": [
    "test.isnull().sum()"
   ]
  },
  {
   "cell_type": "code",
   "execution_count": 43,
   "metadata": {},
   "outputs": [
    {
     "data": {
      "text/plain": [
       "(60000, 4)"
      ]
     },
     "execution_count": 43,
     "metadata": {},
     "output_type": "execute_result"
    }
   ],
   "source": [
    "test.shape"
   ]
  },
  {
   "cell_type": "code",
   "execution_count": 44,
   "metadata": {},
   "outputs": [
    {
     "data": {
      "text/html": [
       "<div>\n",
       "<style scoped>\n",
       "    .dataframe tbody tr th:only-of-type {\n",
       "        vertical-align: middle;\n",
       "    }\n",
       "\n",
       "    .dataframe tbody tr th {\n",
       "        vertical-align: top;\n",
       "    }\n",
       "\n",
       "    .dataframe thead th {\n",
       "        text-align: right;\n",
       "    }\n",
       "</style>\n",
       "<table border=\"1\" class=\"dataframe\">\n",
       "  <thead>\n",
       "    <tr style=\"text-align: right;\">\n",
       "      <th></th>\n",
       "      <th>ciudad</th>\n",
       "      <th>provincia</th>\n",
       "      <th>lat</th>\n",
       "      <th>lng</th>\n",
       "    </tr>\n",
       "  </thead>\n",
       "  <tbody>\n",
       "    <tr>\n",
       "      <th>0</th>\n",
       "      <td>Miguel Hidalgo</td>\n",
       "      <td>Ciudad de México</td>\n",
       "      <td>19.408668</td>\n",
       "      <td>-99.246767</td>\n",
       "    </tr>\n",
       "    <tr>\n",
       "      <th>1</th>\n",
       "      <td>Mérida</td>\n",
       "      <td>Yucatán</td>\n",
       "      <td>21.032480</td>\n",
       "      <td>-89.592424</td>\n",
       "    </tr>\n",
       "    <tr>\n",
       "      <th>2</th>\n",
       "      <td>Coyoacán</td>\n",
       "      <td>Ciudad de México</td>\n",
       "      <td>19.332829</td>\n",
       "      <td>-99.152913</td>\n",
       "    </tr>\n",
       "    <tr>\n",
       "      <th>3</th>\n",
       "      <td>Acapulco de Juárez</td>\n",
       "      <td>Guerrero</td>\n",
       "      <td>16.860487</td>\n",
       "      <td>-99.878383</td>\n",
       "    </tr>\n",
       "    <tr>\n",
       "      <th>4</th>\n",
       "      <td>Tultitlán</td>\n",
       "      <td>Estado de México</td>\n",
       "      <td>19.640482</td>\n",
       "      <td>-99.127273</td>\n",
       "    </tr>\n",
       "    <tr>\n",
       "      <th>...</th>\n",
       "      <td>...</td>\n",
       "      <td>...</td>\n",
       "      <td>...</td>\n",
       "      <td>...</td>\n",
       "    </tr>\n",
       "    <tr>\n",
       "      <th>59995</th>\n",
       "      <td>Venustiano Carranza</td>\n",
       "      <td>Ciudad de México</td>\n",
       "      <td>19.434821</td>\n",
       "      <td>-99.092517</td>\n",
       "    </tr>\n",
       "    <tr>\n",
       "      <th>59996</th>\n",
       "      <td>Ecatepec de Morelos</td>\n",
       "      <td>Estado de México</td>\n",
       "      <td>19.571797</td>\n",
       "      <td>-99.044535</td>\n",
       "    </tr>\n",
       "    <tr>\n",
       "      <th>59997</th>\n",
       "      <td>Guadalupe</td>\n",
       "      <td>Nuevo León</td>\n",
       "      <td>18.049756</td>\n",
       "      <td>-98.154940</td>\n",
       "    </tr>\n",
       "    <tr>\n",
       "      <th>59998</th>\n",
       "      <td>Querétaro</td>\n",
       "      <td>Querétaro</td>\n",
       "      <td>20.591773</td>\n",
       "      <td>-100.327615</td>\n",
       "    </tr>\n",
       "    <tr>\n",
       "      <th>59999</th>\n",
       "      <td>Zapopan</td>\n",
       "      <td>Jalisco</td>\n",
       "      <td>20.656012</td>\n",
       "      <td>-103.427092</td>\n",
       "    </tr>\n",
       "  </tbody>\n",
       "</table>\n",
       "<p>60000 rows × 4 columns</p>\n",
       "</div>"
      ],
      "text/plain": [
       "                    ciudad         provincia        lat         lng\n",
       "0           Miguel Hidalgo  Ciudad de México  19.408668  -99.246767\n",
       "1                   Mérida           Yucatán  21.032480  -89.592424\n",
       "2                 Coyoacán  Ciudad de México  19.332829  -99.152913\n",
       "3       Acapulco de Juárez          Guerrero  16.860487  -99.878383\n",
       "4                Tultitlán  Estado de México  19.640482  -99.127273\n",
       "...                    ...               ...        ...         ...\n",
       "59995  Venustiano Carranza  Ciudad de México  19.434821  -99.092517\n",
       "59996  Ecatepec de Morelos  Estado de México  19.571797  -99.044535\n",
       "59997            Guadalupe        Nuevo León  18.049756  -98.154940\n",
       "59998            Querétaro         Querétaro  20.591773 -100.327615\n",
       "59999              Zapopan           Jalisco  20.656012 -103.427092\n",
       "\n",
       "[60000 rows x 4 columns]"
      ]
     },
     "execution_count": 44,
     "metadata": {},
     "output_type": "execute_result"
    }
   ],
   "source": [
    "test"
   ]
  },
  {
   "cell_type": "code",
   "execution_count": 45,
   "metadata": {},
   "outputs": [],
   "source": [
    "test.to_csv('../data/features/ciudad_prov_lat_lng_V2_test.csv', index=False)"
   ]
  },
  {
   "cell_type": "code",
   "execution_count": 46,
   "metadata": {},
   "outputs": [
    {
     "data": {
      "text/html": [
       "<div>\n",
       "<style scoped>\n",
       "    .dataframe tbody tr th:only-of-type {\n",
       "        vertical-align: middle;\n",
       "    }\n",
       "\n",
       "    .dataframe tbody tr th {\n",
       "        vertical-align: top;\n",
       "    }\n",
       "\n",
       "    .dataframe thead th {\n",
       "        text-align: right;\n",
       "    }\n",
       "</style>\n",
       "<table border=\"1\" class=\"dataframe\">\n",
       "  <thead>\n",
       "    <tr style=\"text-align: right;\">\n",
       "      <th></th>\n",
       "      <th>ciudad</th>\n",
       "      <th>provincia</th>\n",
       "      <th>lat</th>\n",
       "      <th>lng</th>\n",
       "    </tr>\n",
       "  </thead>\n",
       "  <tbody>\n",
       "    <tr>\n",
       "      <th>0</th>\n",
       "      <td>Miguel Hidalgo</td>\n",
       "      <td>Ciudad de México</td>\n",
       "      <td>19.408668</td>\n",
       "      <td>-99.246767</td>\n",
       "    </tr>\n",
       "    <tr>\n",
       "      <th>1</th>\n",
       "      <td>Mérida</td>\n",
       "      <td>Yucatán</td>\n",
       "      <td>21.032480</td>\n",
       "      <td>-89.592424</td>\n",
       "    </tr>\n",
       "    <tr>\n",
       "      <th>2</th>\n",
       "      <td>Coyoacán</td>\n",
       "      <td>Ciudad de México</td>\n",
       "      <td>19.332829</td>\n",
       "      <td>-99.152913</td>\n",
       "    </tr>\n",
       "    <tr>\n",
       "      <th>3</th>\n",
       "      <td>Acapulco de Juárez</td>\n",
       "      <td>Guerrero</td>\n",
       "      <td>16.860487</td>\n",
       "      <td>-99.878383</td>\n",
       "    </tr>\n",
       "    <tr>\n",
       "      <th>4</th>\n",
       "      <td>Tultitlán</td>\n",
       "      <td>Estado de México</td>\n",
       "      <td>19.640482</td>\n",
       "      <td>-99.127273</td>\n",
       "    </tr>\n",
       "    <tr>\n",
       "      <th>...</th>\n",
       "      <td>...</td>\n",
       "      <td>...</td>\n",
       "      <td>...</td>\n",
       "      <td>...</td>\n",
       "    </tr>\n",
       "    <tr>\n",
       "      <th>59995</th>\n",
       "      <td>Venustiano Carranza</td>\n",
       "      <td>Ciudad de México</td>\n",
       "      <td>19.434821</td>\n",
       "      <td>-99.092517</td>\n",
       "    </tr>\n",
       "    <tr>\n",
       "      <th>59996</th>\n",
       "      <td>Ecatepec de Morelos</td>\n",
       "      <td>Estado de México</td>\n",
       "      <td>19.571797</td>\n",
       "      <td>-99.044535</td>\n",
       "    </tr>\n",
       "    <tr>\n",
       "      <th>59997</th>\n",
       "      <td>Guadalupe</td>\n",
       "      <td>Nuevo León</td>\n",
       "      <td>18.049756</td>\n",
       "      <td>-98.154940</td>\n",
       "    </tr>\n",
       "    <tr>\n",
       "      <th>59998</th>\n",
       "      <td>Querétaro</td>\n",
       "      <td>Querétaro</td>\n",
       "      <td>20.591773</td>\n",
       "      <td>-100.327615</td>\n",
       "    </tr>\n",
       "    <tr>\n",
       "      <th>59999</th>\n",
       "      <td>Zapopan</td>\n",
       "      <td>Jalisco</td>\n",
       "      <td>20.656012</td>\n",
       "      <td>-103.427092</td>\n",
       "    </tr>\n",
       "  </tbody>\n",
       "</table>\n",
       "<p>60000 rows × 4 columns</p>\n",
       "</div>"
      ],
      "text/plain": [
       "                    ciudad         provincia        lat         lng\n",
       "0           Miguel Hidalgo  Ciudad de México  19.408668  -99.246767\n",
       "1                   Mérida           Yucatán  21.032480  -89.592424\n",
       "2                 Coyoacán  Ciudad de México  19.332829  -99.152913\n",
       "3       Acapulco de Juárez          Guerrero  16.860487  -99.878383\n",
       "4                Tultitlán  Estado de México  19.640482  -99.127273\n",
       "...                    ...               ...        ...         ...\n",
       "59995  Venustiano Carranza  Ciudad de México  19.434821  -99.092517\n",
       "59996  Ecatepec de Morelos  Estado de México  19.571797  -99.044535\n",
       "59997            Guadalupe        Nuevo León  18.049756  -98.154940\n",
       "59998            Querétaro         Querétaro  20.591773 -100.327615\n",
       "59999              Zapopan           Jalisco  20.656012 -103.427092\n",
       "\n",
       "[60000 rows x 4 columns]"
      ]
     },
     "execution_count": 46,
     "metadata": {},
     "output_type": "execute_result"
    }
   ],
   "source": [
    "prueba = pd.read_csv('../data/features/ciudad_prov_lat_lng_V2_test.csv')\n",
    "prueba"
   ]
  }
 ],
 "metadata": {
  "kernelspec": {
   "display_name": "Python 3",
   "language": "python",
   "name": "python3"
  },
  "language_info": {
   "codemirror_mode": {
    "name": "ipython",
    "version": 3
   },
   "file_extension": ".py",
   "mimetype": "text/x-python",
   "name": "python",
   "nbconvert_exporter": "python",
   "pygments_lexer": "ipython3",
   "version": "3.7.5"
  }
 },
 "nbformat": 4,
 "nbformat_minor": 2
}
