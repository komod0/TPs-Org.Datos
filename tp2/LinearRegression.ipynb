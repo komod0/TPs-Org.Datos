{
 "cells": [
  {
   "cell_type": "code",
   "execution_count": 1,
   "metadata": {},
   "outputs": [],
   "source": [
    "import pandas as pd\n",
    "import numpy as np\n",
    "from sklearn.linear_model import LinearRegression\n",
    "\n",
    "from utilidades.validar import validar"
   ]
  },
  {
   "cell_type": "code",
   "execution_count": 2,
   "metadata": {},
   "outputs": [],
   "source": [
    "train = pd.read_csv(\"data/train.csv\")\n",
    "test = pd.read_csv(\"data/test.csv\")\n",
    "\n",
    "dfinicial = pd.read_csv(\"data/train_limpio.csv\")\n",
    "dftest = pd.read_csv(\"data/test_limpio.csv\")\n",
    "\n",
    "dfinicial2 = pd.read_csv(\"data/esteban/train_limpio_ciudades.csv\")\n",
    "dftest2 = pd.read_csv(\"data/esteban/test_limpio_ciudades.csv\")\n",
    "\n",
    "xg = pd.read_csv('submits/submit_xg_prueba.csv')"
   ]
  },
  {
   "cell_type": "code",
   "execution_count": 3,
   "metadata": {},
   "outputs": [],
   "source": [
    "pd.set_option('display.max_columns', 23) #ver todas las columnas\n",
    "pd.set_option('display.max_rows', 100) #como mucho ver 100 filas"
   ]
  },
  {
   "cell_type": "code",
   "execution_count": 14,
   "metadata": {},
   "outputs": [],
   "source": [
    "def generar_subida(DFINICIAL, metodo, DFTESTEAR, nomArchivo, pasarAdisco):\n",
    "    \"\"\"\n",
    "    X: datos de entrenamiento\n",
    "    y: target de X\n",
    "    metodo: algoritmo a utilizar\n",
    "    \"\"\"\n",
    "    \n",
    "    X, y = DFINICIAL.drop( columns = ['precio'] ), DFINICIAL[\"precio\"]\n",
    "\n",
    "    reg = metodo(normalize=True, n_jobs = -1)\n",
    "    reg.fit(X,y)\n",
    "    \n",
    "    subida = pd.DataFrame( reg.predict(DFTESTEAR) , columns=[\"target\"])\n",
    "    subida.insert(0, \"id\", test[\"id\"]) #test todavía tiene los ids\n",
    "    \n",
    "    subida['id'] = subida['id'].astype(np.uint32)\n",
    "    subida['target'] = subida['target'].astype(np.uint32)\n",
    "    \n",
    "    # Heurística: si vale menos de 310 000, ponerle 310 000\n",
    "    subida.loc[ subida['target'] <= 310000, 'target'] = 310000\n",
    "    \n",
    "    # Heurística 2: si vale más de 12 500 000, ponerle 12 500 000\n",
    "    subida.loc[ subida['target'] >= 12500000, 'target'] = 12500000\n",
    "    \n",
    "    if pasarAdisco:\n",
    "        subida.to_csv(f\"submits/\" + nomArchivo, index = False) \n",
    "    \n",
    "    return X, y, subida"
   ]
  },
  {
   "cell_type": "code",
   "execution_count": 18,
   "metadata": {},
   "outputs": [
    {
     "data": {
      "text/plain": [
       "761260.0"
      ]
     },
     "execution_count": 18,
     "metadata": {},
     "output_type": "execute_result"
    }
   ],
   "source": [
    "dfinicial1 = dfinicial[['metroscubiertos', 'antiguedad', 'precio']]\n",
    "dftest1 = dftest[['metroscubiertos', 'antiguedad']]\n",
    "\n",
    "#dfinicial1 = dfinicial2.drop( columns = [ 'anio', 'metrostotales', 'dia', 'mes', 'banos', 'centroscomercialescercanos',  'escuelascercanas'\n",
    "#                           ])                                        \n",
    " \n",
    "#dftest1 = dftest2.drop( columns = [  'anio', 'metrostotales', 'dia', 'mes', 'banos', 'centroscomercialescercanos', 'escuelascercanas'\n",
    "#                           ])   \n",
    "\n",
    "X, y, subida = generar_subida( dfinicial1, LinearRegression, dftest1, \"prueba_esteban.csv\", False)\n",
    "\n",
    "# IMPRIME EL PROMEDIO DE DIFERENCIA CON EL MEJOR RESULTADO (EL DE XG DE JULIÁN)\n",
    "# UN VALOR MENOR ES MEJOR\n",
    "dftot = subida.merge(xg, on = 'id', how = 'inner')\n",
    "dftot['diferencia'] = abs( dftot['target_x'] - dftot['target_y'] )\n",
    "round (dftot['diferencia'].sum() / len( dftot['diferencia'] ) )"
   ]
  },
  {
   "cell_type": "code",
   "execution_count": 6,
   "metadata": {},
   "outputs": [],
   "source": [
    "#Sólo si el valor anterior es menor a 500 000, usar esto:\n",
    "#validar(X, y, LinearRegression, False)"
   ]
  },
  {
   "cell_type": "code",
   "execution_count": null,
   "metadata": {},
   "outputs": [],
   "source": []
  }
 ],
 "metadata": {
  "kernelspec": {
   "display_name": "Python 3",
   "language": "python",
   "name": "python3"
  },
  "language_info": {
   "codemirror_mode": {
    "name": "ipython",
    "version": 3
   },
   "file_extension": ".py",
   "mimetype": "text/x-python",
   "name": "python",
   "nbconvert_exporter": "python",
   "pygments_lexer": "ipython3",
   "version": "3.7.4"
  }
 },
 "nbformat": 4,
 "nbformat_minor": 2
}
