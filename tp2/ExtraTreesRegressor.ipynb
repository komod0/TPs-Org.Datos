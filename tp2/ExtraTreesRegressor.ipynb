{
 "cells": [
  {
   "cell_type": "code",
   "execution_count": 46,
   "metadata": {},
   "outputs": [],
   "source": [
    "import numpy as np\n",
    "import pandas as pd\n",
    "from sklearn.ensemble import ExtraTreesRegressor\n",
    "from sklearn.metrics import mean_absolute_error\n",
    "from sklearn.model_selection import train_test_split\n",
    "\n",
    "from sklearn.model_selection import KFold # Para validar\n",
    "\n",
    "from notebooks.utilidades.graficar import ver_dispersion\n",
    "\n",
    "from IPython.display import clear_output # Para ver progreso inline\n",
    "\n",
    "import matplotlib.pyplot as plt"
   ]
  },
  {
   "cell_type": "markdown",
   "metadata": {},
   "source": [
    "---\n",
    "# Carga del train"
   ]
  },
  {
   "cell_type": "code",
   "execution_count": 83,
   "metadata": {},
   "outputs": [],
   "source": [
    "# 12 columnas\n",
    "cols1 = ['gimnasio', 'usosmultiples', 'piscina', 'escuelascercanas', \\\n",
    "         'centroscomercialescercanos', 'antiguedad', 'habitaciones', \\\n",
    "         'garages', 'banos', 'metroscubiertos', 'metrostotales', 'precio']\n",
    "train = pd.read_csv('data/train_limpio.csv', usecols=cols1)\n",
    "\n",
    "train['gimnasio'] = train['gimnasio'].astype(np.uint8)\n",
    "train['usosmultiples'] = train['usosmultiples'].astype(np.uint8)\n",
    "train['piscina'] = train['piscina'].astype(np.uint8)\n",
    "train['escuelascercanas'] = train['escuelascercanas'].astype(np.uint8)\n",
    "train['centroscomercialescercanos'] = train['centroscomercialescercanos'].astype(np.uint8)\n",
    "\n",
    "train['antiguedad'] = train['antiguedad'].astype(np.uint8)\n",
    "train['habitaciones'] = train['habitaciones'].astype(np.uint8)\n",
    "train['garages'] = train['garages'].astype(np.uint8)\n",
    "train['banos'] = train['banos'].astype(np.uint8)\n",
    "\n",
    "train['metroscubiertos'] = train['metroscubiertos'].astype(np.uint16)\n",
    "train['metrostotales'] = train['metrostotales'].astype(np.uint16)\n",
    "\n",
    "train['precio'] = train['precio'].astype(np.uint32)"
   ]
  },
  {
   "cell_type": "code",
   "execution_count": 48,
   "metadata": {},
   "outputs": [],
   "source": [
    "# 1 columna\n",
    "pob = pd.read_csv('data/features/ftr_poblacion_train.csv')\n",
    "train['poblacion'] = pob['pob_ciu'].astype(np.uint32)"
   ]
  },
  {
   "cell_type": "code",
   "execution_count": 49,
   "metadata": {},
   "outputs": [],
   "source": [
    "# 1 columna\n",
    "idz = pd.read_csv('data/id_zona_V2_train.csv')\n",
    "train['idzona'] = idz['idzona'].astype(np.uint32)"
   ]
  },
  {
   "cell_type": "code",
   "execution_count": 50,
   "metadata": {},
   "outputs": [],
   "source": [
    "# 2 columnas\n",
    "geo = pd.read_csv('data/features/ciudad_prov_lat_lng_V2_train.csv', usecols=['lat', 'lng'])\n",
    "\n",
    "geo['lat'] = geo['lat'].round(8)\n",
    "geo['lng'] = geo['lng'].round(8)\n",
    "\n",
    "train = train.join(geo)"
   ]
  },
  {
   "cell_type": "code",
   "execution_count": 51,
   "metadata": {},
   "outputs": [],
   "source": [
    "# 32 columnas\n",
    "provincias = pd.read_csv('data/features/ftr_provincia_ohe_V2_train.csv')\n",
    "provincias = provincias.astype(np.uint8)\n",
    "\n",
    "train = train.join(provincias)"
   ]
  },
  {
   "cell_type": "code",
   "execution_count": 52,
   "metadata": {},
   "outputs": [],
   "source": [
    "# 11 columnas\n",
    "ciudades = pd.read_csv('data/features/ftr_ciudad_be_V2_train.csv')\n",
    "ciudades = ciudades.astype(np.uint8)\n",
    "\n",
    "train = train.join(ciudades)"
   ]
  },
  {
   "cell_type": "code",
   "execution_count": 84,
   "metadata": {},
   "outputs": [],
   "source": [
    "# 24 columnas\n",
    "tipodepropiedad = pd.read_csv('data/features/ftr_tipo_prop_ohe_V2_train.csv')\n",
    "tipodepropiedad = tipodepropiedad.astype(np.uint8)\n",
    "\n",
    "train = train.join(tipodepropiedad)"
   ]
  },
  {
   "cell_type": "code",
   "execution_count": 54,
   "metadata": {},
   "outputs": [],
   "source": [
    "# 12 columnas\n",
    "nul = pd.read_csv('data/features/is_null_train.csv')\n",
    "# no se usan las direcciones\n",
    "nul.drop(columns=['direccion_null'], inplace=True)\n",
    "nul = nul.astype(np.uint8)\n",
    "\n",
    "train = train.join(nul)"
   ]
  },
  {
   "cell_type": "code",
   "execution_count": 55,
   "metadata": {},
   "outputs": [],
   "source": [
    "# 2 columnas\n",
    "dates = pd.read_csv('data/train.csv', usecols=['fecha'], parse_dates=['fecha'])\n",
    "train['mes'] = dates['fecha'].dt.month.astype(np.uint8)\n",
    "train['anio'] = dates['fecha'].dt.year.astype(np.uint8)"
   ]
  },
  {
   "cell_type": "code",
   "execution_count": 85,
   "metadata": {},
   "outputs": [
    {
     "name": "stdout",
     "output_type": "stream",
     "text": [
      "Cantidad de columnas 36\n",
      "Memoria usada 9.38 MB.\n"
     ]
    }
   ],
   "source": [
    "print('Cantidad de columnas', train.columns.size)\n",
    "print('Memoria usada', round(train.memory_usage().sum()/(1024*1024), 2), 'MB.')"
   ]
  },
  {
   "cell_type": "markdown",
   "metadata": {},
   "source": [
    "### División de datos para entrenamiento y objetivo"
   ]
  },
  {
   "cell_type": "code",
   "execution_count": 86,
   "metadata": {},
   "outputs": [
    {
     "name": "stdout",
     "output_type": "stream",
     "text": [
      "X_train.shape\t (180000, 35) \ty_train.shape\t (180000,)\n",
      "X_test.shape\t (60000, 35) \ty_test.shape\t (60000,)\n"
     ]
    }
   ],
   "source": [
    "X = train.drop(columns=['precio'])\n",
    "y = train['precio']\n",
    "\n",
    "X_train, X_test, y_train, y_test = train_test_split(X, y, random_state=42)\n",
    "print('X_train.shape\\t', X_train.shape, '\\ty_train.shape\\t', y_train.shape)\n",
    "print('X_test.shape\\t', X_test.shape, '\\ty_test.shape\\t', y_test.shape)"
   ]
  },
  {
   "cell_type": "markdown",
   "metadata": {},
   "source": [
    "---\n",
    "# Extra Trees Regressor\n",
    "En esta sección solo se prueba con el set de train modificado para entrenar y predecir una sola vez. Más adelante se puede evaluar al predictor a través de un Kfold y según la importancia de sus features."
   ]
  },
  {
   "cell_type": "markdown",
   "metadata": {},
   "source": [
    "### Instanciación de predictor (*random_state=42*)"
   ]
  },
  {
   "cell_type": "code",
   "execution_count": null,
   "metadata": {
    "scrolled": true
   },
   "outputs": [],
   "source": [
    "# n_estimators\n",
    "num_estimadores = 100\n",
    "# n_jobs\n",
    "workers = -1\n",
    "# Instancia para predictor de Extra Trees\n",
    "xtr = ExtraTreesRegressor(n_estimators=num_estimadores, n_jobs=workers, random_state=42)"
   ]
  },
  {
   "cell_type": "markdown",
   "metadata": {},
   "source": [
    "### Entrenamiento"
   ]
  },
  {
   "cell_type": "code",
   "execution_count": null,
   "metadata": {},
   "outputs": [],
   "source": [
    "%%time\n",
    "xtr.fit(X_train, y_train)"
   ]
  },
  {
   "cell_type": "markdown",
   "metadata": {},
   "source": [
    "### Predicción del `y_test`"
   ]
  },
  {
   "cell_type": "code",
   "execution_count": null,
   "metadata": {
    "scrolled": true
   },
   "outputs": [],
   "source": [
    "prediction_t = xtr.predict(X_test)\n",
    "mean_absolute_error(y_test, prediction_t)"
   ]
  },
  {
   "cell_type": "code",
   "execution_count": null,
   "metadata": {
    "scrolled": false
   },
   "outputs": [],
   "source": [
    "ver_dispersion(y_test, prediction_t, \"Extra Trees\")"
   ]
  },
  {
   "cell_type": "markdown",
   "metadata": {},
   "source": [
    "---\n",
    "# Evaluación del predictor\n",
    "## Con todas las features cargadas"
   ]
  },
  {
   "cell_type": "code",
   "execution_count": 87,
   "metadata": {},
   "outputs": [],
   "source": [
    "# n_estimators\n",
    "num_estimadores = 100\n",
    "# n_jobs\n",
    "workers = -1\n",
    "# Instancia para predictor de Random Forest\n",
    "xtr = ExtraTreesRegressor(n_estimators=num_estimadores, n_jobs=workers)\n",
    "\n",
    "# n_splits\n",
    "splits = 10\n",
    "# Instancia para KFold\n",
    "kf = KFold(n_splits=splits)\n",
    "\n",
    "# Listas para guardar los puntajes y errores de la evaluación\n",
    "scores = []\n",
    "errors = []"
   ]
  },
  {
   "cell_type": "code",
   "execution_count": 88,
   "metadata": {},
   "outputs": [
    {
     "name": "stdout",
     "output_type": "stream",
     "text": [
      "Entrenando fold 10\n",
      "CPU times: user 39min 51s, sys: 7.39 s, total: 39min 58s\n",
      "Wall time: 5min 15s\n"
     ]
    }
   ],
   "source": [
    "%%time\n",
    "i = 1\n",
    "\n",
    "for train_index, test_index in kf.split(train) :\n",
    "    clear_output(wait=True)\n",
    "    X_train, X_test = X.iloc[train_index], X.iloc[test_index]\n",
    "    y_train, y_test = y.iloc[train_index], y.iloc[test_index]\n",
    "    \n",
    "    print('Entrenando fold', i)\n",
    "    xtr.fit(X_train, y_train)\n",
    "    prediction_t = xtr.predict(X_test)\n",
    "    \n",
    "    scores.append(xtr.score(X_test, y_test))\n",
    "    errors.append(mean_absolute_error(y_test, prediction_t))\n",
    "    i = i + 1"
   ]
  },
  {
   "cell_type": "code",
   "execution_count": 89,
   "metadata": {},
   "outputs": [
    {
     "name": "stdout",
     "output_type": "stream",
     "text": [
      "Promedio errores 862316.0 \tcon desvío estándar de 5930.0\n",
      "Promedio scores\t 0.576 \t\tcon desvío estándar de 0.005\n"
     ]
    }
   ],
   "source": [
    "puntajes = np.array(scores)\n",
    "errores = np.array(errors)\n",
    "\n",
    "print('Promedio errores', errores.mean().round(0), \\\n",
    "      '\\tcon desvío estándar de', errores.std().round(0))\n",
    "print('Promedio scores\\t', puntajes.mean().round(3), \\\n",
    "      '\\t\\tcon desvío estándar de',puntajes.std().round(3))"
   ]
  },
  {
   "cell_type": "code",
   "execution_count": 90,
   "metadata": {},
   "outputs": [
    {
     "data": {
      "image/png": "[encoded data removed]",
      "text/plain": [
       "<Figure size 1080x360 with 1 Axes>"
      ]
     },
     "metadata": {
      "needs_background": "light"
     },
     "output_type": "display_data"
    }
   ],
   "source": [
    "plt.figure(figsize=(15,5))\n",
    "plt.bar(X_train.columns, xtr.feature_importances_)\n",
    "plt.xlabel('Features', fontsize=20)\n",
    "plt.xticks(rotation = 90)\n",
    "plt.ylabel('Importancia', fontsize=20)\n",
    "plt.title('Feature Importance', fontsize=25)\n",
    "plt.show()"
   ]
  },
  {
   "cell_type": "markdown",
   "metadata": {},
   "source": [
    "---\n",
    "# Selección de features según importancia\n",
    "\n",
    "De aquí se obtienen las columnas a droppear."
   ]
  },
  {
   "cell_type": "code",
   "execution_count": 91,
   "metadata": {},
   "outputs": [
    {
     "name": "stdout",
     "output_type": "stream",
     "text": [
      "35 de 35\n",
      "Cantidad de features importantes 21\n",
      "Cantidad de features a limpiar 14\n",
      "CPU times: user 58.9 s, sys: 464 ms, total: 59.4 s\n",
      "Wall time: 11.8 s\n"
     ]
    }
   ],
   "source": [
    "%%time\n",
    "\n",
    "labels_no_out = [] # lista de labels sin outliers.\n",
    "importances_no_out = [] # lista de importancias sin outliers.\n",
    "to_drop = [] # lista de columnas a droppear.\n",
    "tolerancia = 1e-3\n",
    "i = 1\n",
    "\n",
    "indice_vector = np.arange(0, xtr.feature_importances_.size)\n",
    "for var in indice_vector:\n",
    "    clear_output(wait=True)\n",
    "    if (xtr.feature_importances_[var] > tolerancia):\n",
    "        labels_no_out.append(X_train.columns[var])\n",
    "        importances_no_out.append(xtr.feature_importances_[var])\n",
    "    else :\n",
    "        to_drop.append(X_train.columns[var])\n",
    "    print(i, 'de', indice_vector.size)\n",
    "    i = i + 1\n",
    "    \n",
    "print('Cantidad de features importantes', len(importances_no_out))\n",
    "print('Cantidad de features a limpiar', len(to_drop))"
   ]
  },
  {
   "cell_type": "markdown",
   "metadata": {},
   "source": [
    "`ctrl + /` comenta selección "
   ]
  },
  {
   "cell_type": "code",
   "execution_count": 25,
   "metadata": {},
   "outputs": [],
   "source": [
    "# to_drop = [\n",
    "#     'provincia_4',\n",
    "#     'provincia_5',\n",
    "#     'provincia_6',\n",
    "#     'provincia_7',\n",
    "#     'provincia_10',\n",
    "#     'provincia_13',\n",
    "#     'provincia_14',\n",
    "#     'provincia_15',\n",
    "#     'provincia_16',\n",
    "#     'provincia_17',\n",
    "#     'provincia_18',\n",
    "#     'provincia_19',\n",
    "#     'provincia_20',\n",
    "#     'provincia_21',\n",
    "#     'provincia_22',\n",
    "#     'provincia_23',\n",
    "#     'provincia_24',\n",
    "#     'provincia_25',\n",
    "#     'provincia_26',\n",
    "#     'provincia_27',\n",
    "#     'provincia_28',\n",
    "#     'provincia_29',\n",
    "#     'provincia_30',\n",
    "#     'provincia_31',\n",
    "#     'provincia_32',\n",
    "#     'ciudad_0',\n",
    "#     'ciudad_1',\n",
    "#     'ciudad_2',\n",
    "#     'tipodepropiedad_7',\n",
    "#     'tipodepropiedad_10',\n",
    "#     'tipodepropiedad_11',\n",
    "#     'tipodepropiedad_13',\n",
    "#     'tipodepropiedad_14',\n",
    "#     'tipodepropiedad_15',\n",
    "#     'tipodepropiedad_16',\n",
    "#     'tipodepropiedad_17',\n",
    "#     'tipodepropiedad_18',\n",
    "#     'tipodepropiedad_19',\n",
    "#     'tipodepropiedad_20',\n",
    "#     'tipodepropiedad_21',\n",
    "#     'tipodepropiedad_22',\n",
    "#     'tipodepropiedad_23',\n",
    "#     'tipodepropiedad_24',\n",
    "#     'tipodepropiedad_null',\n",
    "#     'ciudad_null',\n",
    "#     'provincia_null']"
   ]
  },
  {
   "cell_type": "markdown",
   "metadata": {},
   "source": [
    "### Se prepara el nuevo set de datos con features importantes"
   ]
  },
  {
   "cell_type": "code",
   "execution_count": 92,
   "metadata": {},
   "outputs": [],
   "source": [
    "X = train.drop(columns=to_drop)"
   ]
  },
  {
   "cell_type": "markdown",
   "metadata": {},
   "source": [
    "### División de datos para entrenamiento y objetivo"
   ]
  },
  {
   "cell_type": "code",
   "execution_count": 93,
   "metadata": {},
   "outputs": [
    {
     "name": "stdout",
     "output_type": "stream",
     "text": [
      "X_train.shape (180000, 21) \ty_train.shape (180000,)\n",
      "X_test.shape (60000, 21) \ty_test.shape (60000,)\n"
     ]
    }
   ],
   "source": [
    "X = X.drop(columns=['precio'])\n",
    "y = train['precio']\n",
    "\n",
    "X_train, X_test, y_train, y_test = train_test_split(X, y, random_state=42)\n",
    "print('X_train.shape', X_train.shape, '\\ty_train.shape', y_train.shape)\n",
    "print('X_test.shape', X_test.shape, '\\ty_test.shape', y_test.shape)"
   ]
  },
  {
   "cell_type": "markdown",
   "metadata": {},
   "source": [
    "---\n",
    "# Evaluación del predictor\n",
    "## Features filtradas por importancia"
   ]
  },
  {
   "cell_type": "code",
   "execution_count": 95,
   "metadata": {},
   "outputs": [],
   "source": [
    "# n_estimators\n",
    "num_estimadores = 100\n",
    "# n_jobs\n",
    "workers = -1\n",
    "\n",
    "kf = KFold(n_splits=10)\n",
    "# Listas para guardar los puntajes y errores de la evaluación\n",
    "xtr = ExtraTreesRegressor(n_estimators=num_estimadores, n_jobs=workers)\n",
    "scores = []\n",
    "errors = []"
   ]
  },
  {
   "cell_type": "code",
   "execution_count": 96,
   "metadata": {},
   "outputs": [
    {
     "name": "stdout",
     "output_type": "stream",
     "text": [
      "Entrenando fold 10\n",
      "CPU times: user 27min 55s, sys: 9.77 s, total: 28min 5s\n",
      "Wall time: 3min 42s\n"
     ]
    }
   ],
   "source": [
    "%%time\n",
    "i = 1\n",
    "\n",
    "for train_index, test_index in kf.split(train) :\n",
    "    clear_output(wait=True)\n",
    "    X_train, X_test = X.iloc[train_index], X.iloc[test_index]\n",
    "    y_train, y_test = y.iloc[train_index], y.iloc[test_index]\n",
    "    \n",
    "    print('Entrenando fold', i)\n",
    "    xtr.fit(X_train, y_train)\n",
    "    prediction_t = xtr.predict(X_test)\n",
    "    \n",
    "    scores.append(xtr.score(X_test, y_test))\n",
    "    errors.append(mean_absolute_error(y_test, prediction_t))\n",
    "    i = i + 1"
   ]
  },
  {
   "cell_type": "code",
   "execution_count": 97,
   "metadata": {},
   "outputs": [
    {
     "name": "stdout",
     "output_type": "stream",
     "text": [
      "Promedio errores 863171.0 \tcon desvío estándar de 5482.0\n",
      "Promedio scores\t 0.575 \t\tcon desvío estándar de 0.006\n"
     ]
    }
   ],
   "source": [
    "puntajes = np.array(scores)\n",
    "errores = np.array(errors)\n",
    "\n",
    "print('Promedio errores', errores.mean().round(0), \\\n",
    "      '\\tcon desvío estándar de', errores.std().round(0))\n",
    "print('Promedio scores\\t', puntajes.mean().round(3), \\\n",
    "      '\\t\\tcon desvío estándar de',puntajes.std().round(3))"
   ]
  },
  {
   "cell_type": "code",
   "execution_count": 26,
   "metadata": {},
   "outputs": [
    {
     "data": {
      "image/png": "[encoded data removed]",
      "text/plain": [
       "<Figure size 1080x360 with 1 Axes>"
      ]
     },
     "metadata": {
      "needs_background": "light"
     },
     "output_type": "display_data"
    }
   ],
   "source": [
    "plt.figure(figsize=(15,5))\n",
    "plt.bar(X_train.columns, xtr.feature_importances_)\n",
    "plt.xlabel('Features Conservados', fontsize=20)\n",
    "plt.xticks(rotation = 90, fontsize=13)\n",
    "plt.ylabel('Importancia', fontsize=20)\n",
    "plt.yticks(fontsize=17)\n",
    "plt.title('Feature Importance' + ' (>' + str(tolerancia) + ')', fontsize=25)\n",
    "plt.show()"
   ]
  }
 ],
 "metadata": {
  "kernelspec": {
   "display_name": "Python 3",
   "language": "python",
   "name": "python3"
  },
  "language_info": {
   "codemirror_mode": {
    "name": "ipython",
    "version": 3
   },
   "file_extension": ".py",
   "mimetype": "text/x-python",
   "name": "python",
   "nbconvert_exporter": "python",
   "pygments_lexer": "ipython3",
   "version": "3.7.5rc1"
  }
 },
 "nbformat": 4,
 "nbformat_minor": 2
}
