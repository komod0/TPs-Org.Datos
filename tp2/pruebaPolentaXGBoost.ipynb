{
 "cells": [
  {
   "cell_type": "markdown",
   "metadata": {},
   "source": [
    "# 1. Introducción"
   ]
  },
  {
   "cell_type": "code",
   "execution_count": null,
   "metadata": {},
   "outputs": [],
   "source": [
    "import pandas as pd\n",
    "import numpy as np\n",
    "from sklearn.linear_model import LinearRegression\n",
    "from sklearn.neighbors import KNeighborsRegressor\n",
    "from utilidades.reducir_uso_memoria import reduce_mem_usage\n",
    "from sklearn.metrics import mean_absolute_error\n",
    "from sklearn.model_selection import train_test_split\n",
    "import matplotlib.pyplot as plt\n",
    "from xgboost import XGBRegressor\n",
    "\n",
    "\n",
    "train = pd.read_csv(\"data/train.csv\")\n",
    "test = pd.read_csv(\"data/test.csv\")"
   ]
  },
  {
   "cell_type": "code",
   "execution_count": null,
   "metadata": {},
   "outputs": [],
   "source": [
    "pd.set_option('display.max_columns', 1000) #ver todas las columnas"
   ]
  },
  {
   "cell_type": "code",
   "execution_count": null,
   "metadata": {},
   "outputs": [],
   "source": [
    "pd.set_option('display.max_rows', 100) #como mucho ver 100 filas"
   ]
  },
  {
   "cell_type": "markdown",
   "metadata": {},
   "source": [
    "# 2. Preprocesamiento de los Datos"
   ]
  },
  {
   "cell_type": "markdown",
   "metadata": {},
   "source": [
    "### Se quita id, titulo, descripción, direccion e Idzona por no entenderlos como tan relevantes"
   ]
  },
  {
   "cell_type": "code",
   "execution_count": null,
   "metadata": {},
   "outputs": [],
   "source": [
    "dfinicial = train\n",
    "dftest = test\n",
    "\n",
    "dfinicial = dfinicial.drop( columns = ['id', 'titulo', 'descripcion', 'direccion', 'idzona'] )\n",
    "dftest = dftest.drop( columns = ['id', 'titulo', 'descripcion', 'direccion', 'idzona'] )"
   ]
  },
  {
   "cell_type": "markdown",
   "metadata": {},
   "source": [
    "### Se quita latitud y longitud por la cantidad de NaN, manejando la granularidad sólo a nivel Ciudad y Provincia"
   ]
  },
  {
   "cell_type": "code",
   "execution_count": null,
   "metadata": {},
   "outputs": [],
   "source": [
    "dfinicial = dfinicial.drop( columns = ['lat', 'lng'] )\n",
    "dftest = dftest.drop( columns = ['lat', 'lng'] )"
   ]
  },
  {
   "cell_type": "markdown",
   "metadata": {},
   "source": [
    "### Se rellenan con la moda Baños, Garages y Habitaciones"
   ]
  },
  {
   "cell_type": "code",
   "execution_count": null,
   "metadata": {},
   "outputs": [],
   "source": [
    "def completarAlgunosNan2(df):\n",
    "    for column in [\"banos\", \"garages\", \"habitaciones\"]:\n",
    "        df[column] = df.groupby(['provincia', 'tipodepropiedad'])[column].apply(lambda x: x.fillna(x.mode()))\n",
    "        df[column] = df[column].fillna(df[column].mode()[0]) #Por si son todos NaN, y no hay moda\n",
    "        \n",
    "    return df\n",
    "    \n",
    "\n",
    "dfinicial = completarAlgunosNan2(dfinicial)\n",
    "dftest = completarAlgunosNan2(dftest)"
   ]
  },
  {
   "cell_type": "markdown",
   "metadata": {},
   "source": [
    "### Se rellena Antigüedad, Metros Cubiertos y Metros totales con la mediana para los casos de NaN, por tener estos atributos distribución log normal (aproximadamente)"
   ]
  },
  {
   "cell_type": "code",
   "execution_count": null,
   "metadata": {},
   "outputs": [],
   "source": [
    "def completarAlgunosNan(df):\n",
    "    for column in ['antiguedad', 'metroscubiertos', 'metrostotales']:\n",
    "        df[column] = df.groupby(['provincia', 'tipodepropiedad'])[column].apply(lambda x: x.fillna(x.median()))\n",
    "        df[column] = df[column].fillna(df[column].median())\n",
    "\n",
    "    return df\n",
    "\n",
    "dfinicial = completarAlgunosNan(dfinicial)\n",
    "dftest = completarAlgunosNan(dftest)\n",
    "        "
   ]
  },
  {
   "cell_type": "markdown",
   "metadata": {},
   "source": [
    "### Aplicar Onehot encoding para desprenderse de provincias, ciudades tipo de propiedad como tal"
   ]
  },
  {
   "cell_type": "code",
   "execution_count": null,
   "metadata": {},
   "outputs": [],
   "source": [
    "# Se hallan los casos posibles\n",
    "provincias_posibles = train[\"provincia\"].dropna().unique()\n",
    "props_posibles = train[\"tipodepropiedad\"].dropna().unique()\n",
    "ciudades_posibles = train[\"ciudad\"].dropna().unique()\n",
    "\n",
    "# Se pasa tipodepropiedad y provincia a valores categóricos\n",
    "dfinicial[\"tipodepropiedad\"] = pd.Categorical(train[\"tipodepropiedad\"], categories = props_posibles)\n",
    "dfinicial[\"provincia\"] = pd.Categorical(train[\"provincia\"], categories = provincias_posibles)\n",
    "dfinicial[\"ciudad\"] = pd.Categorical(train[\"ciudad\"], categories = ciudades_posibles)\n",
    "\n",
    "dftest[\"tipodepropiedad\"] = pd.Categorical(test[\"tipodepropiedad\"], categories=props_posibles)\n",
    "dftest[\"provincia\"] = pd.Categorical(test[\"provincia\"], categories=provincias_posibles)\n",
    "dftest[\"ciudad\"] = pd.Categorical(test[\"ciudad\"], categories = ciudades_posibles)\n",
    "\n",
    "# Rellenar nans de provincia, tipo de propiedad y ciudad, y usar onehot encoding\n",
    "datos_categoricos = dfinicial[[\"tipodepropiedad\", \"provincia\", \"ciudad\"]].copy()\n",
    "datos_categoricos['tipodepropiedad'] = datos_categoricos.groupby(['provincia'])['tipodepropiedad'].apply(lambda x: x.fillna(x.mode()))\n",
    "datos_categoricos[\"provincia\"] = datos_categoricos[\"provincia\"].fillna(datos_categoricos[\"provincia\"].mode()[0])\n",
    "datos_categoricos[\"ciudad\"] = datos_categoricos.groupby(['provincia'])['ciudad'].apply(lambda x: x.fillna(x.mode()))\n",
    "datos_categoricos = pd.get_dummies(datos_categoricos)\n",
    "dfinicial = pd.concat([datos_categoricos, dfinicial], axis=1)\n",
    "\n",
    "datos_categoricos = dftest[[\"tipodepropiedad\", \"provincia\", \"ciudad\"]].copy()\n",
    "datos_categoricos['tipodepropiedad'] = datos_categoricos.groupby(['provincia'])['tipodepropiedad'].apply(lambda x: x.fillna(x.mode()))\n",
    "datos_categoricos[\"provincia\"] = datos_categoricos[\"provincia\"].fillna(datos_categoricos[\"provincia\"].mode()[0])\n",
    "datos_categoricos[\"ciudad\"] = datos_categoricos.groupby(['provincia'])['ciudad'].apply(lambda x: x.fillna(x.mode()))\n",
    "datos_categoricos = pd.get_dummies(datos_categoricos)\n",
    "dftest = pd.concat([datos_categoricos, dftest], axis=1)\n",
    "\n",
    "# Tirar tipodepropiedad y provincia\n",
    "dfinicial = dfinicial.drop( columns = ['tipodepropiedad', 'provincia', 'ciudad'] )\n",
    "dftest = dftest.drop( columns = ['tipodepropiedad', 'provincia', 'ciudad'] )"
   ]
  },
  {
   "cell_type": "markdown",
   "metadata": {},
   "source": [
    "### Se pasa fecha a datetime y se agrega mes y año"
   ]
  },
  {
   "cell_type": "code",
   "execution_count": null,
   "metadata": {},
   "outputs": [],
   "source": [
    "dfinicial['fecha'] = dfinicial['fecha'].astype('datetime64')\n",
    "dftest['fecha'] = dftest['fecha'].astype('datetime64')\n",
    "\n",
    "dfinicial['dia'] = dfinicial['fecha'].dt.day\n",
    "dfinicial['mes'] = dfinicial['fecha'].dt.month\n",
    "dfinicial['anio'] = dfinicial['fecha'].dt.year\n",
    "dfinicial = dfinicial.drop( columns = ['fecha'] )\n",
    "\n",
    "dftest['dia'] = dftest['fecha'].dt.day\n",
    "dftest['mes'] = dftest['fecha'].dt.month\n",
    "dftest['anio'] = dftest['fecha'].dt.year\n",
    "dftest = dftest.drop( columns = ['fecha'] )"
   ]
  },
  {
   "cell_type": "markdown",
   "metadata": {},
   "source": [
    "### Adecuación de tipos de datos ahora que no hay NaN"
   ]
  },
  {
   "cell_type": "code",
   "execution_count": null,
   "metadata": {},
   "outputs": [],
   "source": [
    " def parseoNan(df):\n",
    "    df['gimnasio'] = df['gimnasio'].astype(np.uint8)\n",
    "    df['usosmultiples'] = df['usosmultiples'].astype(np.uint8)\n",
    "    df['piscina'] = df['piscina'].astype(np.uint8)\n",
    "    df['escuelascercanas'] = df['escuelascercanas'].astype(np.uint8)\n",
    "    df['centroscomercialescercanos'] = df['centroscomercialescercanos'].astype(np.uint8)\n",
    "    \n",
    "    df['garages'] = df['garages'].astype(np.uint8)\n",
    "    df['antiguedad'] = df['antiguedad'].astype(np.uint8)\n",
    "    df['banos'] = df['banos'].astype(np.uint8)\n",
    "    df['habitaciones'] = df['habitaciones'].astype(np.uint8)\n",
    "    \n",
    "    df['metroscubiertos'] = df['metroscubiertos'].astype(np.uint16)\n",
    "    df['metrostotales'] = df['metrostotales'].astype(np.uint16)\n",
    "   \n",
    "    df['dia'] = df['dia'].astype(np.uint8)\n",
    "    df['mes'] = df['mes'].astype(np.uint8)\n",
    "    df['anio'] = df['anio'].astype(np.uint16)\n",
    "    \n",
    "parseoNan(dfinicial)\n",
    "parseoNan(dftest)\n",
    "\n",
    "dfinicial['precio'] = dfinicial['precio'].astype(np.uint32)"
   ]
  },
  {
   "cell_type": "code",
   "execution_count": null,
   "metadata": {},
   "outputs": [],
   "source": [
    "dfinicial = reduce_mem_usage(dfinicial)\n",
    "dftest = reduce_mem_usage(dftest)"
   ]
  },
  {
   "cell_type": "code",
   "execution_count": null,
   "metadata": {},
   "outputs": [],
   "source": [
    "X, y = dfinicial.drop([\"precio\"], axis=1),dfinicial[\"precio\"]"
   ]
  },
  {
   "cell_type": "code",
   "execution_count": null,
   "metadata": {},
   "outputs": [],
   "source": [
    "X_train, X_test, y_train, y_test = train_test_split(X, y, test_size=0.33, random_state=42)"
   ]
  },
  {
   "cell_type": "code",
   "execution_count": null,
   "metadata": {},
   "outputs": [],
   "source": [
    "reg = XGBRegressor(objective ='reg:squarederror')"
   ]
  },
  {
   "cell_type": "code",
   "execution_count": null,
   "metadata": {},
   "outputs": [],
   "source": [
    "y_train = np.log(y_train)\n",
    "reg.fit(X_train, y_train)\n",
    "pred = reg.predict(X_test)\n",
    "pred = np.exp(pred)"
   ]
  },
  {
   "cell_type": "code",
   "execution_count": null,
   "metadata": {},
   "outputs": [],
   "source": [
    "mean_absolute_error(y_test, pred)"
   ]
  },
  {
   "cell_type": "code",
   "execution_count": null,
   "metadata": {},
   "outputs": [],
   "source": [
    "fig, ax = plt.subplots(figsize=(10,10))\n",
    "ax.scatter(y_test, pred)\n",
    "ax.plot([y_test.min(), y_test.max()], [y_test.min(), y_test.max()], 'k--', lw=4)\n",
    "ax.set_xlabel(\"Valores reales\", fontsize=16)\n",
    "ax.set_ylabel(\"Valores predichos\", fontsize=16);"
   ]
  }
 ],
 "metadata": {
  "kernelspec": {
   "display_name": "Python 3",
   "language": "python",
   "name": "python3"
  },
  "language_info": {
   "codemirror_mode": {
    "name": "ipython",
    "version": 3
   },
   "file_extension": ".py",
   "mimetype": "text/x-python",
   "name": "python",
   "nbconvert_exporter": "python",
   "pygments_lexer": "ipython3",
   "version": "3.7.4"
  }
 },
 "nbformat": 4,
 "nbformat_minor": 2
}
